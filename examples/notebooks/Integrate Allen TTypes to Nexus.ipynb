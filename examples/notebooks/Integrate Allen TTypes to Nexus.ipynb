{
 "cells": [
  {
   "cell_type": "markdown",
   "id": "0834a9ab",
   "metadata": {},
   "source": [
    "# Intergation of Allen TType data to Nexus\n",
    "\n",
    "Project allocation:\n",
    "    \n",
    "- GO terms live in `neurosciencegraph/datamodels`\n",
    "- Genes live in `bbp/gene-annotations`\n",
    "- TTypes and gene expression profiles in `bbp/aibs` (later we should move ttypes to `neurosciencegraph/datamodels`)"
   ]
  },
  {
   "cell_type": "code",
   "execution_count": null,
   "id": "8ca65adf",
   "metadata": {
    "scrolled": true
   },
   "outputs": [],
   "source": [
    "import rdflib\n",
    "from rdflib import XSD, RDF, RDFS, OWL\n",
    "from zipfile import ZipFile\n",
    "\n",
    "import scanpy as sc\n",
    "from scipy.io import mmwrite\n",
    "\n",
    "import getpass\n",
    "import json\n",
    "import operator\n",
    "from itertools import groupby\n",
    "\n",
    "import networkx as nx\n",
    "import numpy as np\n",
    "import pandas as pd\n",
    "\n",
    "from bmo.kbs.gene_kbs import get_gene_data\n",
    "\n",
    "import nexussdk as nxs\n",
    "\n",
    "from kgforge.core.forge import KnowledgeGraphForge\n",
    "from kgforge.core.resource import Resource\n",
    "from kgforge.specializations.resources import Dataset\n",
    "\n",
    "from bluegraph import PandasPGFrame\n",
    "from bluegraph.backends.networkx import pgframe_to_networkx"
   ]
  },
  {
   "cell_type": "markdown",
   "id": "75aba69d",
   "metadata": {},
   "source": [
    "## 0. Helpers"
   ]
  },
  {
   "cell_type": "code",
   "execution_count": null,
   "id": "08e9278a",
   "metadata": {
    "scrolled": true
   },
   "outputs": [],
   "source": [
    "def is_nan(el):\n",
    "    try:\n",
    "        if np.isnan(el):\n",
    "            return True\n",
    "    except Exception as e:\n",
    "        pass\n",
    "    return False\n",
    "\n",
    "\n",
    "def remove_empty_hierarchy_nodes(frame):\n",
    "    graph = pgframe_to_networkx(frame)\n",
    "    while True:\n",
    "        edges_to_remove = set()\n",
    "        edges_to_add = set()\n",
    "        for n in graph.nodes():\n",
    "            if frame._nodes.loc[n, \"cell_set_alias\"]:\n",
    "                for _, t in graph.out_edges(n):\n",
    "                    father_alias = frame._nodes.loc[t, \"cell_set_alias\"]\n",
    "                    if not father_alias:\n",
    "                        edges_to_remove.add((n, t))\n",
    "                        for _, tt in graph.out_edges(t):\n",
    "                            edges_to_add.add((n, tt))\n",
    "\n",
    "        for s, t in edges_to_remove:\n",
    "            graph.remove_edge(s, t)\n",
    "        for s, t in edges_to_add:\n",
    "            graph.add_edge(s, t)\n",
    "\n",
    "        if not edges_to_remove and not edges_to_add:\n",
    "            break\n",
    "    graph.remove_nodes_from(list(nx.isolates(graph)))\n",
    "    graph.remove_nodes_from([\n",
    "        n for n in graph.nodes() if not frame._nodes.loc[n, \"cell_set_alias\"]\n",
    "    ])\n",
    "    frame.remove_nodes([\n",
    "        n for n in frame.nodes() if n not in graph.nodes()\n",
    "    ])\n",
    "    frame.remove_edges([\n",
    "        (s, t) for s, t in frame.edges() if (s, t) not in graph.edges()\n",
    "    ])\n",
    "    new_edges = [\n",
    "        (s, t) for s, t in graph.edges() if (s, t) not in frame.edges()\n",
    "    ]\n",
    "    frame.add_edges(new_edges)\n",
    "    for s, t in new_edges:\n",
    "        frame._edges.loc[(s, t), \"@type\"] = \"IS_SUBCLASS_OF\"\n",
    "\n",
    "        \n",
    "def autocomplete_types_from_children(frame, feature_column, aggregator=None):\n",
    "    if aggregator is None:\n",
    "        aggregator = lambda x: np.mean(x, axis=0).tolist()\n",
    "    \n",
    "    graph = pgframe_to_networkx(frame)\n",
    "    prev_nodes_to_process = set()\n",
    "\n",
    "    while True:\n",
    "        nodes_to_process = set()\n",
    "        for n in frame.nodes():\n",
    "            if is_nan(frame._nodes.loc[n, feature_column]):\n",
    "                nodes_to_process.add(n)\n",
    "\n",
    "        if len(nodes_to_process) == 0 or\\\n",
    "           (prev_nodes_to_process == nodes_to_process):\n",
    "            break\n",
    "\n",
    "        for n in nodes_to_process:\n",
    "            all_children = True\n",
    "            children_vectors = []\n",
    "            for child, _ in graph.in_edges(n):\n",
    "                if child in frame.nodes():\n",
    "                    if is_nan(frame._nodes.loc[child, feature_column]):\n",
    "                        all_children = False\n",
    "                        break\n",
    "                    children_vectors.append(frame._nodes.loc[child, feature_column])\n",
    "            if all_children:\n",
    "                frame._nodes.at[n, feature_column] = aggregator(children_vectors)\n",
    "        prev_nodes_to_process = nodes_to_process\n",
    "\n",
    "\n",
    "def xrefs_to_payload(x):\n",
    "    payloads = []\n",
    "    \n",
    "    if not is_nan(x):\n",
    "        for k, v in x.items():\n",
    "            payloads.append({\n",
    "              \"@type\": \"CrossReference\",\n",
    "              \"name\": k,\n",
    "              \"value\": v\n",
    "            })\n",
    "\n",
    "    return payloads\n",
    "\n",
    "\n",
    "def augment_cross_refs(x):\n",
    "    identifiers = []\n",
    "    for el in x.refs:\n",
    "        identifier.append({\n",
    "            \"propertyID\": el[\"name\"],\n",
    "            \"value\": el[\"value\"]\n",
    "        })\n",
    "    identifiers.append({\n",
    "          \"propertyID\": \"Ensembl\",\n",
    "          \"value\": x.ensembl_id\n",
    "    })\n",
    "    identifiers.append({\n",
    "          \"propertyID\": \"UniProtAC\",\n",
    "          \"value\": x.uniprot_ac\n",
    "    })\n",
    "    return identifiers\n",
    "\n",
    "\n",
    "def edges_to_go_payloads(x):\n",
    "    try:\n",
    "        d = {\n",
    "            \"\".join([el.title() if i != 0 else el for i, el in enumerate(k.split(\"_\"))]): [\n",
    "                {\n",
    "                    \"@id\": f\"http://purl.obolibrary.org/obo/GO_{t.split(':')[1]}\",\n",
    "                    \"label\": go_term_payloads[t][\"label\"],\n",
    "                    \"@type\": go_term_payloads[t][\"@type\"]\n",
    "                }\n",
    "                for s, t in v\n",
    "                if t in go_term_payloads\n",
    "            ]\n",
    "            for k, v in groupby(x, operator.itemgetter(0))\n",
    "        }\n",
    "        return d\n",
    "    except TypeError:\n",
    "        return {}\n",
    "\n",
    "\n",
    "def generate_gene_expression_payload(gene_batch,\n",
    "                                     mean_genes, mean_features,\n",
    "                                     median_genes, median_features,\n",
    "                                     mean_profiles_dataset_id,\n",
    "                                     median_profiles_dataset_id,\n",
    "                                     gene_resource_ids):\n",
    "    payload =  {\n",
    "        \"@type\": \"GeneExpressionProfile\",\n",
    "        \"expression\": [],\n",
    "        \"derivation\": {\n",
    "            \"@type\": \"Derivation\",\n",
    "            \"entity\": [\n",
    "                {\n",
    "                    \"@id\": mean_profiles_dataset_id,\n",
    "                    \"@type\": \"Dataset\"\n",
    "                },{\n",
    "                    \"@id\": median_profiles_dataset_id,\n",
    "                    \"@type\": \"Dataset\"\n",
    "                },\n",
    "            ]\n",
    "        }\n",
    "    }\n",
    "\n",
    "    for gene in gene_batch:\n",
    "        create_record = False\n",
    "\n",
    "        mean_value = None\n",
    "        median_value = None\n",
    "        if gene in mean_genes:\n",
    "            mean_gene_index = np.where(mean_genes == gene)[0][0]\n",
    "            mean_value = mean_features[mean_gene_index]\n",
    "            if mean_value != 0:\n",
    "                create_record = True\n",
    "\n",
    "        if median_genes is not None and gene in median_genes:\n",
    "                median_gene_index = np.where(median_genes == gene)[0][0]\n",
    "                median_value = median_features[median_gene_index]\n",
    "                if median_value != 0:\n",
    "                    create_record = True\n",
    "        \n",
    "        if create_record:\n",
    "            single_expression = {\n",
    "                \"isMeasurementOf\": {\n",
    "                    \"@id\": gene_resource_ids[gene] if gene in gene_resource_ids else None,\n",
    "                    \"label\": gene,\n",
    "                    \"@type\": \"Gene\"\n",
    "                },\n",
    "                \"series\": []\n",
    "            }\n",
    "        \n",
    "            if mean_value is not None:\n",
    "                single_expression[\"series\"].append(\n",
    "                     {\n",
    "                        \"statistic\": \"trimmed mean\",\n",
    "                        \"value\": mean_value,\n",
    "                        \"unitCode\": \"normalized UMI count\"\n",
    "                    }\n",
    "                )\n",
    "\n",
    "            if median_value is not None:\n",
    "                single_expression[\"series\"].append(\n",
    "                     {\n",
    "                        \"statistic\": \"median\",\n",
    "                        \"value\": median_value,\n",
    "                        \"unitCode\": \"normalized UMI count\"\n",
    "                    }\n",
    "                )\n",
    "            payload[\"expression\"].append(single_expression)\n",
    "\n",
    "    return payload\n",
    "\n",
    "\n",
    "def register_gene_expression_profiles(forge, frame, mean_genes, median_genes, ttype,\n",
    "                                      mean_profiles_dataset_id, median_profiles_dataset_id, \n",
    "                                      gene_resource_ids,\n",
    "                                      batch_size=8000):\n",
    "    if isinstance(ttype, dict):\n",
    "        p = ttype\n",
    "    else:\n",
    "        p = forge.as_json(ttype)\n",
    "\n",
    "    mean_features = frame._nodes.loc[p[\"identifier\"], \"mean_features\"]\n",
    "    non_zero_mean_features = np.array([el for el in mean_features if el != 0])\n",
    "    non_zero_mean_genes = np.array([\n",
    "        g for i, g in enumerate(mean_genes) if mean_features[i] != 0\n",
    "    ])\n",
    "    \n",
    "    median_features = frame._nodes.loc[p[\"identifier\"], \"median_features\"]\n",
    "    non_zero_median_features = None\n",
    "    non_zero_median_genes = None\n",
    "    if not isinstance(median_features, float):\n",
    "        non_zero_median_features = np.array([el for el in median_features if el != 0])\n",
    "        non_zero_median_genes = np.array([\n",
    "            g for i, g in enumerate(median_genes) if median_features[i] != 0\n",
    "        ])\n",
    "\n",
    "    if non_zero_median_genes is not None:\n",
    "        all_non_zero_genes = np.array(list(set(non_zero_mean_genes).union(non_zero_median_genes)))\n",
    "    else:\n",
    "        all_non_zero_genes = np.array(non_zero_mean_genes)\n",
    "        \n",
    "\n",
    "    size = all_non_zero_genes.shape[0]\n",
    "    print(f\"Processing the profile of {p['prefLabel']} (total {size} records)...\")\n",
    "    batches = int(size / batch_size) + 1\n",
    "    batched_indices = np.array_split(range(size), batches)\n",
    "\n",
    "    expression_resource_ids = []\n",
    "    for batch in batched_indices:\n",
    "        expression_resource = forge.from_json(\n",
    "            generate_gene_expression_payload(\n",
    "                all_non_zero_genes[batch],\n",
    "                non_zero_mean_genes,\n",
    "                non_zero_mean_features,\n",
    "                non_zero_median_genes,\n",
    "                non_zero_median_features,\n",
    "                mean_profiles_dataset_id,\n",
    "                median_profiles_dataset_id,\n",
    "                gene_resource_ids))\n",
    "        print(f\"\\tRegistering a batch with {len(expression_resource.expression)} records...\")\n",
    "        forge.register(expression_resource)\n",
    "        expression_resource_ids.append(expression_resource.id) \n",
    "    \n",
    "    if isinstance(ttype, dict):\n",
    "        p[\"expressionProfile\"] = [\n",
    "            {\n",
    "                \"@id\": el,\n",
    "                \"@type\": \"GeneExpressionProfile\"\n",
    "            } for el in expression_resource_ids\n",
    "        ]\n",
    "        ttype_resource = forge.from_json(p)\n",
    "        forge.register(ttype_resource)\n",
    "        return ttype_resource\n",
    "    else:\n",
    "        ttype.expressionProfile = [\n",
    "            forge.from_json({\n",
    "                \"@id\": el,\n",
    "                \"@type\": \"GeneExpressionProfile\"\n",
    "            }) for el in expression_resource_ids\n",
    "        ]\n",
    "        forge.update(ttype)"
   ]
  },
  {
   "cell_type": "markdown",
   "id": "ddf3a7c2",
   "metadata": {},
   "source": [
    "Initialize forge sessions"
   ]
  },
  {
   "cell_type": "code",
   "execution_count": null,
   "id": "9ffb5c92",
   "metadata": {
    "scrolled": false
   },
   "outputs": [],
   "source": [
    "TOKEN = getpass.getpass()"
   ]
  },
  {
   "cell_type": "code",
   "execution_count": null,
   "id": "864fda5f",
   "metadata": {
    "scrolled": true
   },
   "outputs": [],
   "source": [
    "SPECIES = 'mus_musculus'"
   ]
  },
  {
   "cell_type": "code",
   "execution_count": null,
   "id": "e1cce906",
   "metadata": {
    "scrolled": true
   },
   "outputs": [],
   "source": [
    "ng_forge = KnowledgeGraphForge(\n",
    "    \"../../config/prod-forge-config.yml\",\n",
    "    token=TOKEN,\n",
    "    bucket=\"neurosciencegraph/datamodels\")"
   ]
  },
  {
   "cell_type": "code",
   "execution_count": null,
   "id": "3a10f16f",
   "metadata": {
    "scrolled": true
   },
   "outputs": [],
   "source": [
    "genes_forge = KnowledgeGraphForge(\n",
    "    \"../../config/prod-forge-config.yml\",\n",
    "    token=TOKEN,\n",
    "    bucket=\"bbp/gene-annotations\")"
   ]
  },
  {
   "cell_type": "code",
   "execution_count": null,
   "id": "9b09d9d9",
   "metadata": {
    "scrolled": true
   },
   "outputs": [],
   "source": [
    "aibs_forge = KnowledgeGraphForge(\n",
    "    \"../../config/prod-forge-config.yml\",\n",
    "    token=TOKEN,\n",
    "    bucket=\"bbp/aibs\")"
   ]
  },
  {
   "cell_type": "code",
   "execution_count": null,
   "id": "c3b6108e",
   "metadata": {
    "scrolled": true
   },
   "outputs": [],
   "source": [
    "nxs.config.set_environment(\"https://bbp.epfl.ch/nexus/v1\")\n",
    "nxs.config.set_token(TOKEN)"
   ]
  },
  {
   "cell_type": "code",
   "execution_count": null,
   "id": "bd85df2f",
   "metadata": {
    "scrolled": true
   },
   "outputs": [],
   "source": [
    "DATASET_TAG = \"2022-02-17\""
   ]
  },
  {
   "cell_type": "markdown",
   "id": "adc034d5",
   "metadata": {},
   "source": [
    "## 1. Load the dataset for TType hierarchy and mean expression profiles"
   ]
  },
  {
   "cell_type": "code",
   "execution_count": null,
   "id": "0018f4f2",
   "metadata": {
    "scrolled": true
   },
   "outputs": [],
   "source": [
    "with ZipFile(\"../data/allen_ttypes_data_25_11_2021/trimmed_means.csv.zip\", 'r') as zipObj:\n",
    "   # Extract all the contents of zip file in current directory\n",
    "   zipObj.extractall(\"../data/allen_ttypes_data_25_11_2021/\")"
   ]
  },
  {
   "cell_type": "code",
   "execution_count": null,
   "id": "8431bea8",
   "metadata": {
    "scrolled": true
   },
   "outputs": [],
   "source": [
    "with ZipFile(\"../data/allen_ttypes_data_25_11_2021/medians.csv.zip\", 'r') as zipObj:\n",
    "   # Extract all the contents of zip file in current directory\n",
    "   zipObj.extractall(\"../data/allen_ttypes_data_25_11_2021/\")"
   ]
  },
  {
   "cell_type": "code",
   "execution_count": null,
   "id": "18f65b29",
   "metadata": {
    "scrolled": true
   },
   "outputs": [],
   "source": [
    "with ZipFile(\"../data/allen_ttypes_data_25_11_2021/dend.json.zip\", 'r') as zipObj:\n",
    "   # Extract all the contents of zip file in current directory\n",
    "   zipObj.extractall(\"../data/allen_ttypes_data_25_11_2021/\")"
   ]
  },
  {
   "cell_type": "code",
   "execution_count": null,
   "id": "704e17d6",
   "metadata": {
    "scrolled": true
   },
   "outputs": [],
   "source": [
    "with ZipFile(\"../data/allen_ttypes_data_25_11_2021/metadata.csv.zip\", 'r') as zipObj:\n",
    "   # Extract all the contents of zip file in current directory\n",
    "   zipObj.extractall(\"../data/allen_ttypes_data_25_11_2021/\")"
   ]
  },
  {
   "cell_type": "code",
   "execution_count": null,
   "id": "2d3e106e",
   "metadata": {
    "scrolled": true
   },
   "outputs": [],
   "source": [
    "mean_ttype_profiles = pd.read_csv(\n",
    "    \"../data/allen_ttypes_data_25_11_2021/trimmed_means.csv\").set_index(\"feature\")"
   ]
  },
  {
   "cell_type": "code",
   "execution_count": null,
   "id": "42134d45",
   "metadata": {
    "scrolled": true
   },
   "outputs": [],
   "source": [
    "median_ttype_profiles = pd.read_csv(\n",
    "    \"../data/allen_ttypes_data_25_11_2021/medians.csv\").set_index(\"feature\")"
   ]
  },
  {
   "cell_type": "code",
   "execution_count": null,
   "id": "fbe58cb4",
   "metadata": {
    "scrolled": true
   },
   "outputs": [],
   "source": [
    "with open(\"../data/allen_ttypes_data_25_11_2021/dend.json\", \"r\") as f:\n",
    "    type_hierarchy = json.load(f)"
   ]
  },
  {
   "cell_type": "code",
   "execution_count": null,
   "id": "2873e751",
   "metadata": {
    "scrolled": true
   },
   "outputs": [],
   "source": [
    "non_zero_mean_profiles = mean_ttype_profiles[mean_ttype_profiles != 0].dropna(how=\"all\")\n",
    "non_zero_mean_profiles.sample(5)\n",
    "non_zero_mean_profiles[non_zero_mean_profiles.isna()] = 0.0"
   ]
  },
  {
   "cell_type": "code",
   "execution_count": null,
   "id": "4846ea80",
   "metadata": {
    "scrolled": true
   },
   "outputs": [],
   "source": [
    "non_zero_median_profiles = median_ttype_profiles[median_ttype_profiles != 0].dropna(how=\"all\")\n",
    "non_zero_median_profiles.sample(5)\n",
    "non_zero_median_profiles[non_zero_median_profiles.isna()] = 0.0"
   ]
  },
  {
   "cell_type": "code",
   "execution_count": null,
   "id": "36970ca1",
   "metadata": {
    "scrolled": true
   },
   "outputs": [],
   "source": [
    "genes = non_zero_mean_profiles.index"
   ]
  },
  {
   "cell_type": "code",
   "execution_count": null,
   "id": "b86ed3ca",
   "metadata": {
    "scrolled": true
   },
   "outputs": [],
   "source": [
    "medain_genes = non_zero_median_profiles.index"
   ]
  },
  {
   "cell_type": "markdown",
   "id": "ff8a8ecc",
   "metadata": {},
   "source": [
    "Make sure there are no genes in the median dataset that are not in the mean dataset."
   ]
  },
  {
   "cell_type": "code",
   "execution_count": null,
   "id": "6b8b8e2a",
   "metadata": {
    "scrolled": true
   },
   "outputs": [],
   "source": [
    "set(medain_genes).difference(set(genes))"
   ]
  },
  {
   "cell_type": "markdown",
   "id": "7030cf2d",
   "metadata": {},
   "source": [
    "## 2. Register resources for TType hierarchy and mean expression profiles"
   ]
  },
  {
   "cell_type": "code",
   "execution_count": null,
   "id": "8b6f8fcb",
   "metadata": {
    "scrolled": true
   },
   "outputs": [],
   "source": [
    "mean_profiles_dataset = Dataset(aibs_forge)\n",
    "mean_profiles_dataset.type = [\"Dataset\", \"GeneExpressionDataset\"]\n",
    "mean_profiles_dataset.name = \"Allen Transcriptomic Types (Trimmed) Mean Expression Profiles\"\n",
    "mean_profiles_dataset.description = \"This dataset includes single-cell transcriptomes from multiple cortical areas and the hippocampal formation, including 1.1M total cells. Samples were collected from dissections of brain regions from ~8 week-old male and female mice, from pan-neuronal transgenic lines. Gene expression aggregated per cell type, calculated as trimmed means (25%-75%).\"\n",
    "mean_profiles_dataset.distribution = aibs_forge.attach(\n",
    "    \"../data/allen_ttypes_data_25_11_2021/trimmed_means.csv\")"
   ]
  },
  {
   "cell_type": "code",
   "execution_count": null,
   "id": "13ed1ecc",
   "metadata": {
    "scrolled": true
   },
   "outputs": [],
   "source": [
    "aibs_forge.register(mean_profiles_dataset)"
   ]
  },
  {
   "cell_type": "code",
   "execution_count": null,
   "id": "6b9fa53a",
   "metadata": {
    "scrolled": true
   },
   "outputs": [],
   "source": [
    "aibs_forge.tag(mean_profiles_dataset, DATASET_TAG)"
   ]
  },
  {
   "cell_type": "code",
   "execution_count": null,
   "id": "37b5ee50",
   "metadata": {
    "scrolled": true
   },
   "outputs": [],
   "source": [
    "# mean_profiles_dataset_id = mean_profiles_dataset.id"
   ]
  },
  {
   "cell_type": "code",
   "execution_count": null,
   "id": "8f35ba73",
   "metadata": {
    "scrolled": true
   },
   "outputs": [],
   "source": [
    "mean_profiles_dataset_id = 'https://bbp.epfl.ch/neurosciencegraph/data/ded3cbe3-541f-43da-a388-c64136194417'"
   ]
  },
  {
   "cell_type": "code",
   "execution_count": null,
   "id": "3d577de0",
   "metadata": {
    "scrolled": true
   },
   "outputs": [],
   "source": [
    "median_profiles_dataset = Dataset(aibs_forge)\n",
    "median_profiles_dataset.type = [\"Dataset\", \"GeneExpressionDataset\"]\n",
    "median_profiles_dataset.name = \"Allen Transcriptomic Types Median Expression Profiles\"\n",
    "median_profiles_dataset.description = \"This dataset includes single-cell transcriptomes from multiple cortical areas and the hippocampal formation, including 1.1M total cells. Samples were collected from dissections of brain regions from ~8 week-old male and female mice, from pan-neuronal transgenic lines. Gene expression aggregated per cluster, calculated as medians.\"\n",
    "median_profiles_dataset.distribution = aibs_forge.attach(\n",
    "    \"../data/allen_ttypes_data_25_11_2021/medians.csv\")"
   ]
  },
  {
   "cell_type": "code",
   "execution_count": null,
   "id": "4ad5fec8",
   "metadata": {
    "scrolled": true
   },
   "outputs": [],
   "source": [
    "aibs_forge.register(median_profiles_dataset)"
   ]
  },
  {
   "cell_type": "code",
   "execution_count": null,
   "id": "8fa4871a",
   "metadata": {
    "scrolled": true
   },
   "outputs": [],
   "source": [
    "aibs_forge.tag(median_profiles_dataset, DATASET_TAG)"
   ]
  },
  {
   "cell_type": "code",
   "execution_count": null,
   "id": "64fc5250",
   "metadata": {
    "scrolled": true
   },
   "outputs": [],
   "source": [
    "median_profiles_dataset_id = \"https://bbp.epfl.ch/neurosciencegraph/data/c56e2a37-4477-4d18-b34e-84fa86fa1c43\""
   ]
  },
  {
   "cell_type": "code",
   "execution_count": null,
   "id": "1c1969fa",
   "metadata": {
    "scrolled": true
   },
   "outputs": [],
   "source": [
    "hierarchy_dataset = Dataset(aibs_forge)\n",
    "hierarchy_dataset.type = [\"Dataset\", \"TypeHierarchyDataset\"]\n",
    "hierarchy_dataset.name = \"Allen Transcriptomic Type Hierarchy\"\n",
    "hierarchy_dataset.description = \"Serialized cluster hierarchy with all node information embedded.\"\n",
    "hierarchy_dataset.distribution = aibs_forge.attach(\n",
    "    \"../data/allen_ttypes_data_25_11_2021/dend.json\")"
   ]
  },
  {
   "cell_type": "code",
   "execution_count": null,
   "id": "5256ae13",
   "metadata": {
    "scrolled": true
   },
   "outputs": [],
   "source": [
    "aibs_forge.register(hierarchy_dataset)\n",
    "aibs_forge.tag(hierarchy_dataset, DATASET_TAG)"
   ]
  },
  {
   "cell_type": "code",
   "execution_count": null,
   "id": "275afb3f",
   "metadata": {
    "scrolled": true
   },
   "outputs": [],
   "source": [
    "hierarchy_dataset_id = hierarchy_dataset.id"
   ]
  },
  {
   "cell_type": "code",
   "execution_count": null,
   "id": "93cad4c5",
   "metadata": {
    "scrolled": true
   },
   "outputs": [],
   "source": [
    "hierarchy_dataset_id = 'https://bbp.epfl.ch/neurosciencegraph/data/4c55b935-bc10-4b90-b3c0-b7365d1ddbce'"
   ]
  },
  {
   "cell_type": "markdown",
   "id": "dd6ef394",
   "metadata": {},
   "source": [
    "## 3. Register Genes and GO terms"
   ]
  },
  {
   "cell_type": "markdown",
   "id": "263e9f98",
   "metadata": {},
   "source": [
    "Fetch gene data from Ensembl + UniProt + QuickGO"
   ]
  },
  {
   "cell_type": "code",
   "execution_count": null,
   "id": "99535b6f",
   "metadata": {
    "scrolled": false
   },
   "outputs": [],
   "source": [
    "records = {}\n",
    "for gene in genes:\n",
    "    if gene not in records:\n",
    "        try:\n",
    "            print(gene)\n",
    "            records[gene] = get_gene_data(gene, SPECIES)\n",
    "        except:\n",
    "            print(\"Skipped: \", gene)"
   ]
  },
  {
   "cell_type": "code",
   "execution_count": null,
   "id": "299a93d3",
   "metadata": {
    "scrolled": true
   },
   "outputs": [],
   "source": [
    "gene_data = pd.DataFrame(records.values(), index=records.keys())\n",
    "gene_data[\"label\"] = gene_data.index\n",
    "gene_data.to_pickle(\n",
    "    \"../data/allen_ttypes_data_25_11_2021/non_zero_expression_genes.pkl\")"
   ]
  },
  {
   "cell_type": "markdown",
   "id": "1ecc4445",
   "metadata": {},
   "source": [
    "Load data from the dump if already fetched"
   ]
  },
  {
   "cell_type": "code",
   "execution_count": null,
   "id": "f9c2e570",
   "metadata": {
    "scrolled": true
   },
   "outputs": [],
   "source": [
    "gene_data = pd.read_pickle(\n",
    "    \"../data/allen_ttypes_data_25_11_2021/non_zero_expression_genes.pkl\")"
   ]
  },
  {
   "cell_type": "markdown",
   "id": "14200225",
   "metadata": {},
   "source": [
    "### 3.1. Register GO terms"
   ]
  },
  {
   "cell_type": "markdown",
   "id": "d34a8986",
   "metadata": {},
   "source": [
    "Load the GO file"
   ]
  },
  {
   "cell_type": "code",
   "execution_count": null,
   "id": "ea162077",
   "metadata": {
    "scrolled": true
   },
   "outputs": [],
   "source": [
    "go = rdflib.Graph()\n",
    "go.parse(\"../../ontologies/external/go.ttl\", format=\"turtle\")"
   ]
  },
  {
   "cell_type": "code",
   "execution_count": null,
   "id": "cc2b4d3b",
   "metadata": {
    "scrolled": true
   },
   "outputs": [],
   "source": [
    "records = gene_data.to_dict(\"index\")"
   ]
  },
  {
   "cell_type": "code",
   "execution_count": null,
   "id": "332c737a",
   "metadata": {
    "scrolled": false
   },
   "outputs": [],
   "source": [
    "go_terms_to_include = {}\n",
    "for g, record in records.items():\n",
    "    if \"go_edges\" in record:\n",
    "        if not is_nan(record[\"go_edges\"]):\n",
    "            for _, t in record[\"go_edges\"]:\n",
    "                if t not in go_terms_to_include:\n",
    "                    for s in go.subjects(\n",
    "                            rdflib.URIRef(\"http://www.geneontology.org/formats/oboInOwl#id\"),\n",
    "                            rdflib.Literal(t, datatype=XSD.string)):\n",
    "                        go_terms_to_include[t] = s\n",
    "                        break"
   ]
  },
  {
   "cell_type": "code",
   "execution_count": null,
   "id": "b6d040ea",
   "metadata": {
    "scrolled": true
   },
   "outputs": [],
   "source": [
    "predicates_to_map = {\n",
    "    rdflib.URIRef(\"http://www.geneontology.org/formats/oboInOwl#hasOBONamespace\"): \"hasOboNamespace\",\n",
    "    rdflib.URIRef(\"http://purl.obolibrary.org/obo/IAO_0000115\"): \"definition\",\n",
    "    rdflib.URIRef(\"http://www.geneontology.org/formats/oboInOwl#id\"): \"identifier\"\n",
    "}"
   ]
  },
  {
   "cell_type": "markdown",
   "id": "aab962ba",
   "metadata": {},
   "source": [
    "Register a payload representaing the gene ontology"
   ]
  },
  {
   "cell_type": "code",
   "execution_count": null,
   "id": "6d054820",
   "metadata": {
    "scrolled": true
   },
   "outputs": [],
   "source": [
    "go_payload = {\n",
    "    \"@id\": \"https://bbp.epfl.ch/ontologies/external/go\",\n",
    "    \"@type\": \"Ontology\",\n",
    "    \"label\": \"Gene Ontology\"\n",
    "}\n",
    "# ng_forge.register(ng_forge.from_json(go_payload))"
   ]
  },
  {
   "cell_type": "markdown",
   "id": "12b195ba",
   "metadata": {},
   "source": [
    "Create payloads for relevant GO terms"
   ]
  },
  {
   "cell_type": "code",
   "execution_count": null,
   "id": "3fa6a6c1",
   "metadata": {
    "scrolled": true
   },
   "outputs": [],
   "source": [
    "go_term_payloads = {}\n",
    "for k, v in go_terms_to_include.items():\n",
    "    payload = {\n",
    "        \"label\": go.label(v).value\n",
    "    }\n",
    "    for p, key in predicates_to_map.items():\n",
    "        for o in go.objects(v, p):\n",
    "            payload[key] = o.value\n",
    "            break\n",
    "    identifier = payload[\"identifier\"].split(\":\")[1]\n",
    "    payload[\"@id\"] = f\"http://purl.obolibrary.org/obo/GO_{identifier}\"\n",
    "    payload[\"@type\"] = \"Class\"\n",
    "    payload[\"isDefinedBy\"] = {\n",
    "        \"@id\": \"http://purl.obolibrary.org/obo/go.owl\"\n",
    "    }\n",
    "#     payload[\"@type\"] = [\"Entity\", \"\".join([el.title() for el in payload[\"hasOboNamespace\"].split(\"_\")])]\n",
    "    \n",
    "    super_classes = []\n",
    "    for o in go.objects(v, RDFS.subClassOf):\n",
    "        if isinstance(o, rdflib.URIRef) and o in go_terms_to_include.values():\n",
    "            super_classes.append({\n",
    "                \"@id\": str(o)\n",
    "            })\n",
    "    \n",
    "    payload[\"subClassOf\"] = super_classes\n",
    "    go_term_payloads[payload[\"identifier\"]] = payload"
   ]
  },
  {
   "cell_type": "code",
   "execution_count": null,
   "id": "eab5599b",
   "metadata": {
    "scrolled": false
   },
   "outputs": [],
   "source": [
    "len(go_term_payloads)"
   ]
  },
  {
   "cell_type": "markdown",
   "id": "3c5ede46",
   "metadata": {},
   "source": [
    "Register GO term payloads"
   ]
  },
  {
   "cell_type": "code",
   "execution_count": null,
   "id": "582c694e",
   "metadata": {
    "scrolled": true
   },
   "outputs": [],
   "source": [
    "ng_forge.register(ng_forge.from_json(list(go_term_payloads.values())),\n",
    "                  schema_id=\"https://neuroshapes.org/dash/ontology\")"
   ]
  },
  {
   "cell_type": "markdown",
   "id": "4c971671",
   "metadata": {},
   "source": [
    "### 3.2. Register Genes"
   ]
  },
  {
   "cell_type": "code",
   "execution_count": null,
   "id": "f216e527",
   "metadata": {
    "scrolled": false
   },
   "outputs": [],
   "source": [
    "gene_data[\"go_edges\"] = gene_data[\"go_edges\"].apply(edges_to_go_payloads)"
   ]
  },
  {
   "cell_type": "code",
   "execution_count": null,
   "id": "6de4c7d4",
   "metadata": {
    "scrolled": true
   },
   "outputs": [],
   "source": [
    "gene_data[\"xrefs\"] = gene_data[\"xrefs\"].apply(xrefs_to_payload)"
   ]
  },
  {
   "cell_type": "code",
   "execution_count": null,
   "id": "d1f30e42",
   "metadata": {
    "scrolled": true
   },
   "outputs": [],
   "source": [
    "gene_data.apply(augment_cross_refs, axis=1)"
   ]
  },
  {
   "cell_type": "code",
   "execution_count": null,
   "id": "55163872",
   "metadata": {
    "scrolled": true
   },
   "outputs": [],
   "source": [
    "gene_data[\"involvedIn\"] = gene_data[\"go_edges\"].apply(\n",
    "    lambda x: x.get(\"involvedIn\", []))\n",
    "gene_data[\"enables\"] = gene_data[\"go_edges\"].apply(\n",
    "    lambda x: x.get(\"enables\", []))\n",
    "gene_data[\"partOf\"] = gene_data[\"go_edges\"].apply(\n",
    "    lambda x: x.get(\"partOf\", []))"
   ]
  },
  {
   "cell_type": "markdown",
   "id": "a56408a4",
   "metadata": {},
   "source": [
    "Create payloads for genes"
   ]
  },
  {
   "cell_type": "code",
   "execution_count": null,
   "id": "56fd40db",
   "metadata": {
    "scrolled": true
   },
   "outputs": [],
   "source": [
    "gene_payloads = gene_data.rename(\n",
    "    columns={\"xrefs\": \"identifier\"}).drop(\n",
    "    columns=[\"ensembl_id\", \"uniprot_ac\", \"go_edges\"]).to_dict(\"records\")"
   ]
  },
  {
   "cell_type": "code",
   "execution_count": null,
   "id": "02d131ca",
   "metadata": {
    "scrolled": true
   },
   "outputs": [],
   "source": [
    "for p in gene_payloads:\n",
    "    p.update(\n",
    "        {\n",
    "            \"@type\": \"Gene\",\n",
    "            \"subject\": {\n",
    "                \"@type\": \"Subject\",\n",
    "                \"species\": {\n",
    "                    \"@id\": \"http://purl.obolibrary.org/obo/NCBITaxon_10090\",\n",
    "                    \"label\": \"Mus musculus\"\n",
    "                }\n",
    "            }\n",
    "        })\n",
    "    if is_nan(p[\"prefLabel\"]):\n",
    "        p[\"prefLabel\"] = p[\"label\"]\n",
    "    if is_nan(p[\"hasXRef\"]):   \n",
    "        del p[\"hasXRef\"]\n",
    "    if is_nan(p[\"description\"]): \n",
    "        del p[\"description\"]"
   ]
  },
  {
   "cell_type": "markdown",
   "id": "bdd69395",
   "metadata": {},
   "source": [
    "Register gene payloads"
   ]
  },
  {
   "cell_type": "code",
   "execution_count": null,
   "id": "0c20bbb2",
   "metadata": {
    "scrolled": true
   },
   "outputs": [],
   "source": [
    "gene_resources = genes_forge.from_json(gene_payloads)\n",
    "genes_forge.register(gene_resources)"
   ]
  },
  {
   "cell_type": "markdown",
   "id": "4bd6441e",
   "metadata": {},
   "source": [
    "Add a cross-project resolver to `neurosciencegraph/datamodel`"
   ]
  },
  {
   "cell_type": "code",
   "execution_count": null,
   "id": "833dc0da",
   "metadata": {
    "scrolled": true
   },
   "outputs": [],
   "source": [
    "IDENTITY_resolver = {\"realm\": \"bbp\"}\n",
    "\n",
    "try:\n",
    "    nxs.resolvers.create(\n",
    "        org_label=\"bbp\",\n",
    "        project_label=\"gene-annotations\",\n",
    "        projects=[\"neurosciencegraph/datamodels\"],\n",
    "        identities=[IDENTITY_resolver], priority=60)\n",
    "except nxs.HTTPError as e:\n",
    "    print(e)\n",
    "    print(\"---\")\n",
    "    nxs.tools.pretty_print(e.response.json())"
   ]
  },
  {
   "cell_type": "code",
   "execution_count": null,
   "id": "eb0d6963",
   "metadata": {
    "scrolled": false
   },
   "outputs": [],
   "source": [
    "gene_resources = genes_forge.search({\"type\": \"Gene\"}, limit=20000)"
   ]
  },
  {
   "cell_type": "code",
   "execution_count": null,
   "id": "ac35731e",
   "metadata": {
    "scrolled": true
   },
   "outputs": [],
   "source": [
    "def replace_entities_by_classes(payloads):\n",
    "    if isinstance(payloads, list):\n",
    "        for el in payloads:\n",
    "            el.type = \"Class\"\n",
    "    else:\n",
    "        payloads.type = \"Class\""
   ]
  },
  {
   "cell_type": "code",
   "execution_count": null,
   "id": "51f9d630",
   "metadata": {
    "scrolled": true
   },
   "outputs": [],
   "source": [
    "for r in gene_resources:\n",
    "    d = genes_forge.as_json(r)\n",
    "    if \"enables\" in d:\n",
    "        replace_entities_by_classes(r.enables)\n",
    "    if \"involvedIn\" in d:\n",
    "        replace_entities_by_classes(r.involvedIn)\n",
    "    if \"partOf\" in d:\n",
    "        replace_entities_by_classes(r.partOf)"
   ]
  },
  {
   "cell_type": "code",
   "execution_count": null,
   "id": "f720b537",
   "metadata": {
    "scrolled": true
   },
   "outputs": [],
   "source": [
    "genes_forge.update(gene_resources)"
   ]
  },
  {
   "cell_type": "markdown",
   "id": "3118db4b",
   "metadata": {},
   "source": [
    "## 4. Register TTypes and thier expression profiles"
   ]
  },
  {
   "cell_type": "markdown",
   "id": "e612e24c",
   "metadata": {},
   "source": [
    "Create a graph from the imported hierarchy:\n",
    "\n",
    "- _nodes_ are t-types;\n",
    "- _node features_ are gene expression profiles;\n",
    "- _edges_ are 'isSubclassOf' relationships."
   ]
  },
  {
   "cell_type": "code",
   "execution_count": null,
   "id": "881e05f1",
   "metadata": {
    "scrolled": true
   },
   "outputs": [],
   "source": [
    "edges = set()\n",
    "nodes = {}\n",
    "\n",
    "def extract_data(hierarchy, father=None):\n",
    "    if \"children\" in hierarchy:\n",
    "        for child in hierarchy[\"children\"]:\n",
    "            if \"node_attributes\" in child:\n",
    "                attrs = child[\"node_attributes\"][0]\n",
    "            else:\n",
    "                attrs = child[\"leaf_attributes\"][0]\n",
    "            nodes[attrs[\"cell_set_accession\"]] = attrs\n",
    "            extract_data(child, attrs[\"cell_set_accession\"])\n",
    "            if father:\n",
    "                edges.add((attrs[\"cell_set_accession\"], father))"
   ]
  },
  {
   "cell_type": "code",
   "execution_count": null,
   "id": "bcb09904",
   "metadata": {
    "scrolled": true
   },
   "outputs": [],
   "source": [
    "extract_data(type_hierarchy)\n",
    "mean_expression_matrix = non_zero_mean_profiles.T.values\n",
    "median_expression_matrix = non_zero_median_profiles.T.values"
   ]
  },
  {
   "cell_type": "code",
   "execution_count": null,
   "id": "b6e69bdc",
   "metadata": {
    "scrolled": true
   },
   "outputs": [],
   "source": [
    "node_df = pd.DataFrame(nodes.values()).rename(\n",
    "    columns={\"cell_set_accession\": \"@id\"})\n",
    "\n",
    "mean_node_vectors = {}\n",
    "median_node_vectors = {}\n",
    "for i, c in enumerate(mean_ttype_profiles.columns):\n",
    "    mean_node_vectors[c] = mean_expression_matrix[i, :].tolist()\n",
    "for i, c in enumerate(median_ttype_profiles.columns):\n",
    "    median_node_vectors[c] = median_expression_matrix[i, :].tolist()\n",
    "\n",
    "mean_node_vectors = pd.DataFrame(\n",
    "    mean_node_vectors.items(), columns=[\"cell_set_alias\", \"mean_features\"])\n",
    "median_node_vectors = pd.DataFrame(\n",
    "    median_node_vectors.items(), columns=[\"cell_set_alias\", \"median_features\"])\n",
    "\n",
    "node_df = node_df.merge(\n",
    "    mean_node_vectors, on=\"cell_set_alias\", how=\"left\").merge(\n",
    "        median_node_vectors, on=\"cell_set_alias\", how=\"left\").set_index(\"@id\")"
   ]
  },
  {
   "cell_type": "code",
   "execution_count": null,
   "id": "5ae96125",
   "metadata": {
    "scrolled": true
   },
   "outputs": [],
   "source": [
    "edge_df = pd.DataFrame(\n",
    "    edges, columns=[\"@source_id\", \"@target_id\"]).set_index([\"@source_id\", \"@target_id\"])\n",
    "edge_df[\"@type\"] = \"IS_SUBCLASS_OF\"\n",
    "frame = PandasPGFrame.from_frames(node_df, edge_df)\n",
    "for c in frame._nodes.columns:\n",
    "    frame.node_prop_as_category(c)"
   ]
  },
  {
   "cell_type": "markdown",
   "id": "af0c97ea",
   "metadata": {},
   "source": [
    "Some nodes in the original hierarchy file don't have an identity (they represent some intermediate clusters). We remove them at the moment and connect their children to their parent class."
   ]
  },
  {
   "cell_type": "code",
   "execution_count": null,
   "id": "b8e778af",
   "metadata": {
    "scrolled": true
   },
   "outputs": [],
   "source": [
    "remove_empty_hierarchy_nodes(frame)"
   ]
  },
  {
   "cell_type": "markdown",
   "id": "7b265f4e",
   "metadata": {},
   "source": [
    "Mean experession profiles are provided only for the leaf t-types. For non-leaf t-types we compute their expression profiles as mean of all of their children (recursively)."
   ]
  },
  {
   "cell_type": "code",
   "execution_count": null,
   "id": "fe127690",
   "metadata": {
    "scrolled": false
   },
   "outputs": [],
   "source": [
    "autocomplete_types_from_children(frame, \"mean_features\")"
   ]
  },
  {
   "cell_type": "markdown",
   "id": "551d89cc",
   "metadata": {},
   "source": [
    "There is one type that doesn't have an expression profile, but also doesn't have any children from which we can compute their mean profiles. We simply remove it from the graph."
   ]
  },
  {
   "cell_type": "code",
   "execution_count": null,
   "id": "e5c26450",
   "metadata": {
    "scrolled": true
   },
   "outputs": [],
   "source": [
    "frame.remove_nodes([\"CS202106160_381\"])\n",
    "edges_to_remove = set()\n",
    "for s, t in frame._edges.index:\n",
    "    if s == \"CS202106160_381\":\n",
    "        edges_to_remove.add((s, t))\n",
    "    if t == \"CS202106160_381\":\n",
    "        edges_to_remove.add((s, t))\n",
    "frame.remove_edges(edges_to_remove)"
   ]
  },
  {
   "cell_type": "markdown",
   "id": "f37ac77a",
   "metadata": {},
   "source": [
    "We check that there are no node with empty expression profiles"
   ]
  },
  {
   "cell_type": "code",
   "execution_count": null,
   "id": "8578357c",
   "metadata": {
    "scrolled": true
   },
   "outputs": [],
   "source": [
    "frame._nodes[frame._nodes[\"mean_features\"].apply(lambda x: is_nan(x))]"
   ]
  },
  {
   "cell_type": "markdown",
   "id": "dbd17013",
   "metadata": {},
   "source": [
    "Create t-type payloads"
   ]
  },
  {
   "cell_type": "code",
   "execution_count": null,
   "id": "665d746c",
   "metadata": {
    "scrolled": true
   },
   "outputs": [],
   "source": [
    "ttype_payloads = frame._nodes[[\n",
    "    \"label\",\n",
    "    \"cell_set_alias\",\n",
    "    \"cell_set_alias_citation\",\n",
    "    \"taxonomy_id\",\n",
    "    \"color\"\n",
    "]].reset_index().rename(columns={\n",
    "    \"label\": \"cellSetLabel\",\n",
    "    \"cell_set_alias\": \"prefLabel\",\n",
    "    \"@id\": \"identifier\",\n",
    "    \"taxonomy_id\": \"taxonomyId\"\n",
    "}).to_dict(\"records\")"
   ]
  },
  {
   "cell_type": "markdown",
   "id": "1441480c",
   "metadata": {},
   "source": [
    "Add static properties:\n",
    "- brain region (all from the same region)\n",
    "- derivation (from the previously registered hierarchy dataset)\n",
    "- url with scholarly article\n",
    "- subject with species"
   ]
  },
  {
   "cell_type": "code",
   "execution_count": null,
   "id": "269a9d2c",
   "metadata": {
    "scrolled": true
   },
   "outputs": [],
   "source": [
    "hierarchy_derivation_payload = {\n",
    "    \"@type\": \"Derivation\",\n",
    "    \"entity\": {\n",
    "        \"@id\": hierarchy_dataset_id,\n",
    "        \"@type\": \"Dataset\"\n",
    "    }\n",
    "}\n",
    "\n",
    "brain_region_payload = [\n",
    "    {\n",
    "        \"@id\": \"http://api.brain-map.org/api/v2/data/Structure/695\",\n",
    "        \"label\": \"Cortical plate\"\n",
    "    },\n",
    "    {\n",
    "        \"@id\": \"http://api.brain-map.org/api/v2/data/Structure/1089\",\n",
    "        \"label\": \"Hippocampal formation\"\n",
    "    }\n",
    "]\n",
    "\n",
    "url_payload =  {\n",
    "   \"@id\": \"https://doi.org/10.1016/j.cell.2021.04.021\",\n",
    "   \"title\": \"A taxonomy of transcriptomic cell types across the isocortex and hippocampal formation\",\n",
    "   \"@type\": \"ScholarlyArticle\"\n",
    "} \n",
    "\n",
    "for p in ttype_payloads:\n",
    "    p[\"@type\"] = \"TType\"\n",
    "    p[\"derivation\"] = hierarchy_derivation_payload\n",
    "    p[\"brainRegion\"] = brain_region_payload\n",
    "    p[\"url\"] = url_payload\n",
    "    del p[\"cell_set_alias_citation\"]\n",
    "    p[\"subject\"] = {\n",
    "        \"@type\": \"Subject\",\n",
    "        \"species\": {\n",
    "            \"@id\": \"http://purl.obolibrary.org/obo/NCBITaxon_10090\",\n",
    "            \"label\": \"Mus musculus\"\n",
    "        }\n",
    "    }"
   ]
  },
  {
   "cell_type": "markdown",
   "id": "3dc5b36d",
   "metadata": {},
   "source": [
    "Remove old expression profiles if needed"
   ]
  },
  {
   "cell_type": "code",
   "execution_count": null,
   "id": "f85859c4",
   "metadata": {
    "scrolled": false
   },
   "outputs": [],
   "source": [
    "# expression_profiles = aibs_forge.search({\"type\": \"GeneExpressionProfile\"}, limit=1000)\n",
    "# print(len(expression_profiles))\n",
    "# for p in expression_profiles:\n",
    "#     if not p._store_metadata._deprecated:\n",
    "#         aibs_forge.deprecate(aibs_forge.retrieve(p.id))"
   ]
  },
  {
   "cell_type": "markdown",
   "id": "4d62fe2c",
   "metadata": {},
   "source": [
    "Add aggregated brain regions and sexes to TTypes"
   ]
  },
  {
   "cell_type": "code",
   "execution_count": null,
   "id": "56fb78d1",
   "metadata": {
    "scrolled": true
   },
   "outputs": [],
   "source": [
    "with ZipFile(\"../data/allen_ttypes_data_25_11_2021/grouped_meta_data.csv.zip\", 'r') as zipObj:\n",
    "   # Extract all the contents of zip file in current directory\n",
    "   zipObj.extractall(\"../data/allen_ttypes_data_25_11_2021/\")"
   ]
  },
  {
   "cell_type": "code",
   "execution_count": null,
   "id": "b3d81761",
   "metadata": {
    "scrolled": true
   },
   "outputs": [],
   "source": [
    "grouped_meta_data = pd.read_csv(\"../data/allen_ttypes_data_25_11_2021/grouped_meta_data.csv\")\n",
    "grouped_meta_data = grouped_meta_data[\n",
    "    [\"cell_type_accession_label\", \"donor_sex_label\", \"region_label\"]].set_index(\"cell_type_accession_label\")\n",
    "for c in grouped_meta_data.columns:\n",
    "    grouped_meta_data[c] = grouped_meta_data[c].apply(literal_eval)"
   ]
  },
  {
   "cell_type": "code",
   "execution_count": null,
   "id": "f8567e50",
   "metadata": {
    "scrolled": true
   },
   "outputs": [],
   "source": [
    "grouped_meta_data[\"region_label\"] = grouped_meta_data[\"region_label\"].apply(\n",
    "    lambda x: sum([\n",
    "        [el for el in xx.replace(\"-\", \" \").replace(\"_\", \" \").split(\" \")]\n",
    "        for xx in x\n",
    "    ], [])\n",
    ")"
   ]
  },
  {
   "cell_type": "code",
   "execution_count": null,
   "id": "bbcb8f75",
   "metadata": {
    "scrolled": true
   },
   "outputs": [],
   "source": [
    "frame._nodes = frame._nodes.reset_index().merge(\n",
    "    grouped_meta_data[[\"region_label\"]].reset_index().rename(\n",
    "        columns={\"cell_type_accession_label\": \"@id\"}),\n",
    "    how=\"left\").set_index(\"@id\")"
   ]
  },
  {
   "cell_type": "code",
   "execution_count": null,
   "id": "0c3c2ab8",
   "metadata": {
    "scrolled": true
   },
   "outputs": [],
   "source": [
    "frame._nodes = frame._nodes.reset_index().merge(\n",
    "    grouped_meta_data[[\"donor_sex_label\"]].reset_index().rename(\n",
    "        columns={\"cell_type_accession_label\": \"@id\"}),\n",
    "    how=\"left\").set_index(\"@id\")"
   ]
  },
  {
   "cell_type": "code",
   "execution_count": null,
   "id": "3b85bc3d",
   "metadata": {
    "scrolled": true
   },
   "outputs": [],
   "source": [
    "frame._nodes[\"region_label\"] = frame._nodes[\"region_label\"].apply(lambda x: list(x) if isinstance(x, set) else x)"
   ]
  },
  {
   "cell_type": "code",
   "execution_count": null,
   "id": "72cc11a1",
   "metadata": {
    "scrolled": true
   },
   "outputs": [],
   "source": [
    "empty_ttypes = frame._nodes[frame._nodes[\"region_label\"].isna()].index"
   ]
  },
  {
   "cell_type": "code",
   "execution_count": null,
   "id": "97817847",
   "metadata": {
    "scrolled": true
   },
   "outputs": [],
   "source": [
    "autocomplete_types_from_children(\n",
    "    frame, \"donor_sex_label\", aggregator=lambda x: list(set(sum(x, []))))"
   ]
  },
  {
   "cell_type": "code",
   "execution_count": null,
   "id": "e68bff65",
   "metadata": {
    "scrolled": false
   },
   "outputs": [],
   "source": [
    "autocomplete_types_from_children(\n",
    "    frame, \"region_label\", aggregator=lambda x: list(set(sum(x, []))))"
   ]
  },
  {
   "cell_type": "code",
   "execution_count": null,
   "id": "c3556dba",
   "metadata": {
    "scrolled": false
   },
   "outputs": [],
   "source": [
    "male_payload = {\n",
    "    \"id\": \"http://purl.obolibrary.org/obo/PATO_0000384\",\n",
    "    \"label\": \"male\"\n",
    "}\n",
    "\n",
    "female_payload = {\n",
    "    \"id\": \"http://purl.obolibrary.org/obo/PATO_0000383\",\n",
    "    \"label\": \"female\"\n",
    "}\n",
    "\n",
    "regions_to_resources = {}\n",
    "regions = set(sum(grouped_meta_data[\"region_label\"].to_list(), []))\n",
    "for r in regions:\n",
    "    res = ng_forge.search({\n",
    "        \"type\": \"Class\",\n",
    "        \"notation\": r\n",
    "    })\n",
    "    try:\n",
    "        resource = res[0]\n",
    "        regions_to_resources[r] = {\n",
    "            \"id\": resource.id,\n",
    "            \"label\": resource.label,\n",
    "            \"notation\": resource.notation\n",
    "        }\n",
    "    except:\n",
    "        r = r.replace(\"-\", \" \").replace(\"_\", \" \")\n",
    "        parts = r.split(\" \")\n",
    "        for p in parts:\n",
    "            res = ng_forge.search({\n",
    "                \"type\": \"Class\",\n",
    "                \"notation\": p\n",
    "            })\n",
    "            resource = res[0]\n",
    "            regions_to_resources[p] = {\n",
    "                \"id\": resource.id,\n",
    "                \"label\": resource.label,\n",
    "                \"notation\": resource.notation\n",
    "            }"
   ]
  },
  {
   "cell_type": "code",
   "execution_count": null,
   "id": "f6fcfd74",
   "metadata": {
    "scrolled": false
   },
   "outputs": [],
   "source": [
    "for ttype_label in empty_ttypes:\n",
    "    r_id = annotations_label_to_id.get(ttype_label)\n",
    "    if r_id:\n",
    "        resource = annotation_id_to_resources[r_id]\n",
    "        print(ttype_label)\n",
    "        r_payloads = []\n",
    "        for el in frame._nodes.loc[ttype_label][\"region_label\"]:\n",
    "            r_payloads.append(regions_to_resources[el])\n",
    "    \n",
    "        s_payloads = []\n",
    "        for el in frame._nodes.loc[ttype_label][\"donor_sex_label\"]:\n",
    "            if el == \"M\":\n",
    "                s_payloads.append(male_payload)\n",
    "            elif el == \"F\":\n",
    "                s_payloads.append(female_payload)\n",
    "        \n",
    "        resource.brainLocation.brainRegion = aibs_forge.from_json(\n",
    "            r_payloads)\n",
    "        resource.subject.sex = aibs_forge.from_json(\n",
    "            s_payloads)\n",
    "        resource.label = resource.label\n",
    "        aibs_forge.update(resource)\n",
    "        aibs_forge.tag(resource, DATASET_TAG)"
   ]
  },
  {
   "cell_type": "markdown",
   "id": "3eb1c2ae",
   "metadata": {},
   "source": [
    "Add expression profiles"
   ]
  },
  {
   "cell_type": "code",
   "execution_count": null,
   "id": "c5339fa4",
   "metadata": {
    "scrolled": true
   },
   "outputs": [],
   "source": [
    "batch_size = 800"
   ]
  },
  {
   "cell_type": "markdown",
   "id": "03d57aac",
   "metadata": {},
   "source": [
    "Add new TType resources"
   ]
  },
  {
   "cell_type": "code",
   "execution_count": null,
   "id": "94d04b50",
   "metadata": {
    "scrolled": false
   },
   "outputs": [],
   "source": [
    "ttypes = []\n",
    "for p in ttype_payloads:\n",
    "    new_resource = register_gene_expression_profiles(\n",
    "        aibs_forge, frame, genes, medain_genes, p,\n",
    "        mean_profiles_dataset_id, median_profiles_dataset_id,\n",
    "        gene_resource_ids, batch_size=800)\n",
    "    ttypes.append(new_resource)"
   ]
  },
  {
   "cell_type": "code",
   "execution_count": null,
   "id": "c393155c",
   "metadata": {
    "scrolled": true
   },
   "outputs": [],
   "source": [
    "ttype_id_to_resource_id = {\n",
    "    el.identifier: el.id\n",
    "    for el in ttypes\n",
    "}"
   ]
  },
  {
   "cell_type": "markdown",
   "id": "8844aa45",
   "metadata": {},
   "source": [
    "Add 'subClassOf' properties to t-types"
   ]
  },
  {
   "cell_type": "code",
   "execution_count": null,
   "id": "7fd15204",
   "metadata": {
    "scrolled": true
   },
   "outputs": [],
   "source": [
    "edges = frame._edges.reset_index()\n",
    "edges[\"source_resource\"] = edges.apply(\n",
    "    lambda x: ttype_id_to_resource_id[x[\"@source_id\"]], axis=1)\n",
    "edges[\"target_resource\"] = edges.apply(\n",
    "    lambda x: ttype_id_to_resource_id[x[\"@target_id\"]], axis=1)\n",
    "subclass_payloads = edges[[\"source_resource\", \"target_resource\"]].groupby(\"source_resource\").aggregate(\n",
    "    {\"target_resource\": lambda x: [{\"@id\": x.tolist()[0], \"@type\": \"TType\"}]})"
   ]
  },
  {
   "cell_type": "code",
   "execution_count": null,
   "id": "0daac7d0",
   "metadata": {
    "scrolled": true
   },
   "outputs": [],
   "source": [
    "labeled_resources = {el.id: el for el in ttype_resources}"
   ]
  },
  {
   "cell_type": "code",
   "execution_count": null,
   "id": "65707f1d",
   "metadata": {
    "scrolled": false
   },
   "outputs": [],
   "source": [
    "for p in subclass_payloads.reset_index().to_dict(\"records\"):\n",
    "    r = labeled_resources[p[\"source_resource\"]]\n",
    "    r.subClassOf = aibs_forge.from_json(p[\"target_resource\"])\n",
    "    aibs_forge.update(r)"
   ]
  },
  {
   "cell_type": "markdown",
   "id": "5568614b",
   "metadata": {},
   "source": [
    "Run the following in case you want to update existing TType resources"
   ]
  },
  {
   "cell_type": "code",
   "execution_count": null,
   "id": "dec09ce7",
   "metadata": {
    "scrolled": true
   },
   "outputs": [],
   "source": [
    "ttypes = aibs_forge.search({\"type\": \"TType\"}, limit=1000)\n",
    "current_index = 0\n",
    "while current_index != len(ttypes) - 1:\n",
    "    for i in range(current_index, len(ttypes)):\n",
    "        current_index = i\n",
    "        try:\n",
    "            register_gene_expression_profiles(\n",
    "                aibs_forge, frame, genes, ttypes[i],\n",
    "                profiles_dataset_id, gene_resource_ids, batch_size=800)\n",
    "        except:\n",
    "            pass"
   ]
  },
  {
   "cell_type": "markdown",
   "id": "49669a9a",
   "metadata": {},
   "source": [
    "Clean-up expression profiles not belonging to any t-type"
   ]
  },
  {
   "cell_type": "code",
   "execution_count": null,
   "id": "dbb90715",
   "metadata": {
    "scrolled": true
   },
   "outputs": [],
   "source": [
    "attached_profiles = set()\n",
    "for r in ttypes:\n",
    "    if isinstance(r.expressionProfile, list):\n",
    "        for el in r.expressionProfile:\n",
    "            attached_profiles.add(aibs_forge.as_json(el)[\"@id\"])\n",
    "    else:\n",
    "        attached_profiles.add(aibs_forge.as_json(r.expressionProfile)[\"@id\"])"
   ]
  },
  {
   "cell_type": "code",
   "execution_count": null,
   "id": "29e9a399",
   "metadata": {
    "scrolled": true
   },
   "outputs": [],
   "source": [
    "print(\"Attached profiles:\", len(attached_profiles))\n",
    "expression_profiles = aibs_forge.search({\"type\": \"GeneExpressionProfile\"}, limit=5000)\n",
    "print(\"All profiles: \", len(expression_profiles))\n",
    "print(\"Removing detached profiles...\")\n",
    "for p in expression_profiles:\n",
    "    if not p._store_metadata._deprecated and p.id not in attached_profiles:\n",
    "        aibs_forge.deprecate(aibs_forge.retrieve(p.id))"
   ]
  },
  {
   "cell_type": "markdown",
   "id": "0e4c4d80",
   "metadata": {},
   "source": [
    "Add a cross project resolver to `bbp/gene-annotations`"
   ]
  },
  {
   "cell_type": "code",
   "execution_count": null,
   "id": "7e5ebf7b",
   "metadata": {
    "scrolled": true
   },
   "outputs": [],
   "source": [
    "IDENTITY_resolver = {\"realm\": \"bbp\"}\n",
    "\n",
    "try:\n",
    "    nxs.resolvers.create(\n",
    "        org_label=\"bbp\",\n",
    "        project_label=\"aibs\",\n",
    "        projects=[\"bbp/gene-annotations\"],\n",
    "        identities=[IDENTITY_resolver], priority=60)\n",
    "except nxs.HTTPError as e:\n",
    "    print(e)\n",
    "    print(\"---\")\n",
    "    nxs.tools.pretty_print(e.response.json())"
   ]
  }
 ],
 "metadata": {
  "kernelspec": {
   "display_name": "bg",
   "language": "python",
   "name": "bg"
  },
  "language_info": {
   "codemirror_mode": {
    "name": "ipython",
    "version": 3
   },
   "file_extension": ".py",
   "mimetype": "text/x-python",
   "name": "python",
   "nbconvert_exporter": "python",
   "pygments_lexer": "ipython3",
   "version": "3.7.10"
  }
 },
 "nbformat": 4,
 "nbformat_minor": 5
}
