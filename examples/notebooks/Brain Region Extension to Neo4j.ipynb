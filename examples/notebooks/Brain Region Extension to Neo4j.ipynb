{
 "cells": [
  {
   "cell_type": "code",
   "execution_count": null,
   "metadata": {},
   "outputs": [],
   "source": [
    "import rdflib\n",
    "from rdflib import RDF, RDFS, XSD, OWL\n",
    "from rdflib.paths import OneOrMore\n",
    "\n",
    "import re\n",
    "import pandas as pd\n",
    "\n",
    "from bluegraph import PandasPGFrame\n",
    "from bluegraph.backends.neo4j import pgframe_to_neo4j "
   ]
  },
  {
   "cell_type": "code",
   "execution_count": null,
   "metadata": {},
   "outputs": [],
   "source": [
    "from bmo_tools.neo4j import ontology_to_neo4j, execute\n",
    "from bmo_tools.ontologies import subontology_from_term"
   ]
  },
  {
   "cell_type": "markdown",
   "metadata": {},
   "source": [
    "## 1. Import BMO"
   ]
  },
  {
   "cell_type": "code",
   "execution_count": null,
   "metadata": {},
   "outputs": [],
   "source": [
    "uri = \"bolt://127.0.0.1:7687\"\n",
    "username = \"neo4j\"\n",
    "password = \"admin\""
   ]
  },
  {
   "cell_type": "code",
   "execution_count": null,
   "metadata": {},
   "outputs": [],
   "source": [
    "ontology_to_neo4j(uri, username, password, \"../../ontologies/bmo.ttl\", format=\"turtle\")"
   ]
  },
  {
   "cell_type": "markdown",
   "metadata": {},
   "source": [
    "## 2. Extract UBERON subontology (top down from 'regional part of brain')"
   ]
  },
  {
   "cell_type": "code",
   "execution_count": null,
   "metadata": {
    "scrolled": false
   },
   "outputs": [],
   "source": [
    "g = rdflib.Graph()\n",
    "g.parse(\"../../ontologies/uberon.ttl\", format=\"turtle\")"
   ]
  },
  {
   "cell_type": "markdown",
   "metadata": {},
   "source": [
    "Find the term of interest"
   ]
  },
  {
   "cell_type": "code",
   "execution_count": null,
   "metadata": {},
   "outputs": [],
   "source": [
    "label = \"regional part of brain\"\n",
    "term_to_expand = \"\"\n",
    "for s in g.subjects(RDFS.label, rdflib.Literal(label, datatype=XSD.string)):\n",
    "    term_to_expand = s\n",
    "    break"
   ]
  },
  {
   "cell_type": "code",
   "execution_count": null,
   "metadata": {},
   "outputs": [],
   "source": [
    "term_to_expand"
   ]
  },
  {
   "cell_type": "code",
   "execution_count": null,
   "metadata": {},
   "outputs": [],
   "source": [
    "subontology = subontology_from_term(g, term_to_expand, closed=True)"
   ]
  },
  {
   "cell_type": "markdown",
   "metadata": {},
   "source": [
    "## 3. Create a PGFrame and push it into Neo4j"
   ]
  },
  {
   "cell_type": "code",
   "execution_count": null,
   "metadata": {},
   "outputs": [],
   "source": [
    "def remove_uri(p):\n",
    "    match = re.match(\"(http:\\/\\/.*)#(.*)\", p)\n",
    "    if match:\n",
    "        return match.groups()[1]\n",
    "    else:\n",
    "        return p.split(\"/\")[-1]"
   ]
  },
  {
   "cell_type": "code",
   "execution_count": null,
   "metadata": {
    "scrolled": true
   },
   "outputs": [],
   "source": [
    "frame = PandasPGFrame.from_ontology(rdf_graph=subontology, format=\"turtle\", remove_prop_uris=True)\n",
    "frame._nodes[\"@type\"] = \"UBERON_CLASS\"\n",
    "frame._nodes = frame._nodes.rename(columns={\"id\": \"uberon_id\"})\n",
    "frame.rename_node_properties({\n",
    "    p: p.replace(\" \", \"_\") for p in frame.node_properties()})\n",
    "for p in frame.node_properties():\n",
    "    frame.node_prop_as_category(p)\n",
    "frame._edges[\"@type\"] = frame._edges[\"@type\"].apply(\n",
    "    lambda x: {remove_uri(el.replace(\" \", \"_\").replace(\"(\", \"_\").replace(\")\", \"_\")) for el in x})\n",
    "frame._edge_prop_types[\"@type\"] = \"category\""
   ]
  },
  {
   "cell_type": "code",
   "execution_count": null,
   "metadata": {
    "scrolled": false
   },
   "outputs": [],
   "source": [
    "neo4j_graph = pgframe_to_neo4j(\n",
    "    frame, uri=uri,\n",
    "    username=username,\n",
    "    password=password, \n",
    "    node_label=\"ONTOLOGY_CLASS\", \n",
    "    node_types_as_labels=True,\n",
    "    edge_types_as_labels=True)"
   ]
  },
  {
   "cell_type": "code",
   "execution_count": null,
   "metadata": {},
   "outputs": [],
   "source": [
    "query = \"MATCH (n {id: 'Brain Region'}), (m {id: 'regional part of brain'}) MERGE (n)-[:EQUIVALENT_CLASS]->(m)\"\n",
    "execute(neo4j_graph.driver, query)"
   ]
  },
  {
   "cell_type": "markdown",
   "metadata": {},
   "source": [
    "## 4. Read Allen MBA  CCFv3 Ontology"
   ]
  },
  {
   "cell_type": "code",
   "execution_count": null,
   "metadata": {},
   "outputs": [],
   "source": [
    "mba = rdflib.Graph()\n",
    "mba.parse(\"../../ontologies/allen_MBA_ontology_ccfv3.ttl\", format=\"turtle\")"
   ]
  },
  {
   "cell_type": "code",
   "execution_count": null,
   "metadata": {},
   "outputs": [],
   "source": [
    "frame._nodes.loc[frame._nodes[\"database_cross_reference\"].notna(), \"MBA_ref\"] = frame._nodes[\"database_cross_reference\"][frame._nodes[\"database_cross_reference\"].notna()].apply(\n",
    "    lambda x: [el for el in x if el.startswith(\"MBA\")])\n",
    "frame._nodes[\"MBA_ref\"] = frame._nodes[\"MBA_ref\"].apply(\n",
    "    lambda x: x[0] if isinstance(x, list) and len(x) > 0 else None)"
   ]
  },
  {
   "cell_type": "code",
   "execution_count": null,
   "metadata": {},
   "outputs": [],
   "source": [
    "mba_indices = frame._nodes[frame._nodes[\"MBA_ref\"].notna()][\"MBA_ref\"].tolist()"
   ]
  },
  {
   "cell_type": "code",
   "execution_count": null,
   "metadata": {},
   "outputs": [],
   "source": [
    "allen_terms = {}\n",
    "for s in mba.subjects(RDFS.subClassOf, rdflib.URIRef(\"https://neuroshapes.org/BrainRegion\")):\n",
    "    for o in mba.objects(s, rdflib.URIRef(\"http://schema.org/identifier\")):\n",
    "#         if f\"MBA:{o.value}\" in mba_indices:\n",
    "        allen_terms[f\"MBA:{o.value}\"] = s"
   ]
  },
  {
   "cell_type": "code",
   "execution_count": null,
   "metadata": {},
   "outputs": [],
   "source": [
    "selected_mba = rdflib.Graph()\n",
    "for t in allen_terms.values():\n",
    "    subontology = subontology_from_term(\n",
    "        mba, t, closed=False)\n",
    "    selected_mba += subontology"
   ]
  },
  {
   "cell_type": "code",
   "execution_count": null,
   "metadata": {},
   "outputs": [],
   "source": [
    "mbaframe = PandasPGFrame.from_ontology(rdf_graph=selected_mba, remove_prop_uris=True)\n",
    "mbaframe.rename_node_properties({\n",
    "    n: remove_uri(n) for n in mbaframe.node_properties()\n",
    "})\n",
    "mbaframe._nodes[\"@type\"] = \"ALLEN_MBA_CLASS\"\n",
    "mbaframe._edges[\"@type\"] = mbaframe._edges[\"@type\"].apply(lambda x: {remove_uri(el) for el in x})\n",
    "mbaframe.rename_nodes({\n",
    "    n: f\"Mouse {n}\" for n in mbaframe.nodes()\n",
    "})\n",
    "mbaframe.node_prop_as_numeric(\"st_level\")\n",
    "mbaframe.node_prop_as_numeric(\"hemisphere_id\")\n",
    "mbaframe.node_prop_as_numeric(\"graph_order\")\n",
    "# mbaframe.node_prop_as_numeric(\"atlas_id\")"
   ]
  },
  {
   "cell_type": "code",
   "execution_count": null,
   "metadata": {},
   "outputs": [],
   "source": [
    "pgframe_to_neo4j(\n",
    "    mbaframe, uri=uri, username=username, password=password, \n",
    "    node_label=\"ONTOLOGY_CLASS\", \n",
    "    node_types_as_labels=True,\n",
    "    edge_types_as_labels=True)"
   ]
  },
  {
   "cell_type": "code",
   "execution_count": null,
   "metadata": {},
   "outputs": [],
   "source": [
    "query = \"\"\"\n",
    "MATCH (n:ALLEN_MBA_CLASS), (m:UBERON_CLASS)\n",
    "WHERE \"MBA:\" + n.identifier in m.database_cross_reference\n",
    "MERGE (n)-[:IS_SPECIALIZATION_OF]->(m)\n",
    "\"\"\"\n",
    "execute(neo4j_graph.driver, query)"
   ]
  },
  {
   "cell_type": "code",
   "execution_count": null,
   "metadata": {},
   "outputs": [],
   "source": [
    "query = \"\"\"\n",
    "MATCH (n:ALLEN_MBA_CLASS), (m {id: \"Mus musculus\"})\n",
    "MERGE (n)-[:species]->(m)\n",
    "\"\"\"\n",
    "execute(neo4j_graph.driver, query)"
   ]
  }
 ],
 "metadata": {
  "kernelspec": {
   "display_name": "bg",
   "language": "python",
   "name": "bg"
  },
  "language_info": {
   "codemirror_mode": {
    "name": "ipython",
    "version": 3
   },
   "file_extension": ".py",
   "mimetype": "text/x-python",
   "name": "python",
   "nbconvert_exporter": "python",
   "pygments_lexer": "ipython3",
   "version": "3.7.10"
  }
 },
 "nbformat": 4,
 "nbformat_minor": 4
}
