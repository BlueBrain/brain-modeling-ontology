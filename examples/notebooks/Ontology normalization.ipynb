{
 "cells": [
  {
   "cell_type": "markdown",
   "id": "5ea873e1",
   "metadata": {},
   "source": [
    "# Ontology normalization\n",
    "\n",
    "This notebook collects a set of utils for preprocessing ontologies before pushing them to Nexus"
   ]
  },
  {
   "cell_type": "code",
   "execution_count": 4,
   "id": "e4a8d2a2",
   "metadata": {},
   "outputs": [],
   "source": [
    "from bmo.ontologies import normalize_uris"
   ]
  },
  {
   "cell_type": "code",
   "execution_count": 5,
   "id": "34047f33",
   "metadata": {},
   "outputs": [],
   "source": [
    "PATH = \"../../ontologies/\"\n",
    "ONTOLOGIES = [\"bmo\", \"molecular_systems_ontology\"]"
   ]
  },
  {
   "cell_type": "markdown",
   "id": "4753bc16",
   "metadata": {},
   "source": [
    "This cell normalizes all the URIs of the selected ontologies to be of the form `{prefix}{labelInCamelCase}`"
   ]
  },
  {
   "cell_type": "code",
   "execution_count": 6,
   "id": "a8045806",
   "metadata": {},
   "outputs": [
    {
     "name": "stdout",
     "output_type": "stream",
     "text": [
      "Processing bmo...\n",
      "Replacing...\n",
      "\t <https://neuroshapes.org/ElectrophysiologicalFeature> to <https://neuroshapes.org/NeuronElectrophysiologicalFeature>\n",
      "Replacing...\n",
      "\t <https://neuroshapes.org/Rattusnorvegicus> to <https://neuroshapes.org/RattusNorvegicus>\n",
      "Replacing...\n",
      "\t <https://neuroshapes.org/Musmusculus> to <https://neuroshapes.org/MusMusculus>\n",
      "Replacing...\n",
      "\t <https://neuroshapes.org/TranscriptomeFeature> to <https://neuroshapes.org/NeuronTranscriptomicType>\n",
      "Replacing...\n",
      "\t <https://neuroshapes.org/MorphologicalFeature> to <https://neuroshapes.org/NeuronMorphologicalType>\n",
      "Replacing...\n",
      "\t <https://neuroshapes.org/Homosapiens> to <https://neuroshapes.org/HomoSapiens>\n",
      "Replacing...\n",
      "\t <https://neuroshapes.org/ReleaseDataWorkflow> to <https://neuroshapes.org/DataReleaseWorkflow>\n",
      "Processing molecular_systems_ontology...\n"
     ]
    }
   ],
   "source": [
    "for o in ONTOLOGIES:\n",
    "    print(f\"Processing {o}...\")\n",
    "    ontology_path = f\"{PATH}{o}.ttl\"\n",
    "    normalize_uris(ontology_path, \"https://neuroshapes.org/\", ontology_path)"
   ]
  }
 ],
 "metadata": {
  "kernelspec": {
   "display_name": "bg",
   "language": "python",
   "name": "bg"
  },
  "language_info": {
   "codemirror_mode": {
    "name": "ipython",
    "version": 3
   },
   "file_extension": ".py",
   "mimetype": "text/x-python",
   "name": "python",
   "nbconvert_exporter": "python",
   "pygments_lexer": "ipython3",
   "version": "3.7.10"
  }
 },
 "nbformat": 4,
 "nbformat_minor": 5
}
