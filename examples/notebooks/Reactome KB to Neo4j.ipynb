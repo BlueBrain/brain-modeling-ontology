{
 "cells": [
  {
   "cell_type": "markdown",
   "metadata": {},
   "source": [
    "# Fetch Pathways/Reactions/Catalysis and Reactants from Reactome"
   ]
  },
  {
   "cell_type": "code",
   "execution_count": null,
   "metadata": {},
   "outputs": [],
   "source": [
    "import pickle\n",
    "import requests\n",
    "from collections import defaultdict\n",
    "\n",
    "import pandas as pd\n",
    "import numpy as np\n",
    "import copy\n",
    "import json\n",
    "import rdflib\n",
    "from rdflib import XSD\n",
    "\n",
    "from bluegraph import PandasPGFrame\n",
    "from bluegraph.backends.neo4j import pgframe_to_neo4j\n",
    "\n",
    "from bmo_tools.kbs.reactome import *\n",
    "from bmo_tools.neo4j import (ontology_to_neo4j, clean_db,\n",
    "                             label_top_level, label_entities, execute)\n",
    "from bmo_tools.ontologies import (normalize_uris, subontology_from_term)\n",
    "from bmo_tools.kbs.gene_kbs import get_gene_data, get_orthologues"
   ]
  },
  {
   "cell_type": "markdown",
   "metadata": {},
   "source": [
    "Set pathways of interest"
   ]
  },
  {
   "cell_type": "code",
   "execution_count": null,
   "metadata": {},
   "outputs": [],
   "source": [
    "pathways = {\n",
    "    \"Glycolysis\": [\"R-MMU-70171\", \"R-HSA-70171\", \"R-RNO-70171\"],\n",
    "    \"Glycogenolysis\": [\"R-HSA-70221\", \"R-MMU-70221\", \"R-RNO-70221\"],\n",
    "    \"Pentose phosphate pathway\": [\"R-HSA-71336\", \"R-MMU-71336\", \"R-RNO-71336\"],\n",
    "    \"Citric acid cycle (TCA cycle)\": [\"R-HSA-71403\", \"R-MMU-71403\", \"R-RNO-71403\"]\n",
    "}"
   ]
  },
  {
   "cell_type": "markdown",
   "metadata": {},
   "source": [
    "## Get pathway records"
   ]
  },
  {
   "cell_type": "code",
   "execution_count": null,
   "metadata": {
    "scrolled": true
   },
   "outputs": [],
   "source": [
    "pathway_data = {}\n",
    "edges = defaultdict(set)\n",
    "for k, v in pathways.items():\n",
    "    for vv in v:\n",
    "        vv_pathways, vv_edges = get_pathway_data(vv)\n",
    "        pathway_data.update(vv_pathways)\n",
    "        edges.update(vv_edges)"
   ]
  },
  {
   "cell_type": "markdown",
   "metadata": {},
   "source": [
    "Convert to a dataframe"
   ]
  },
  {
   "cell_type": "code",
   "execution_count": null,
   "metadata": {},
   "outputs": [],
   "source": [
    "pathway_df = pd.DataFrame(pathway_data.values())\n",
    "pathway_df = clean_reactome_df(pathway_df)\n",
    "pathway_df[\"@id\"] = pathway_df[\"reactome_id\"]\n",
    "pathway_df.head(3)"
   ]
  },
  {
   "cell_type": "markdown",
   "metadata": {},
   "source": [
    "## Get individual reactions and reactants"
   ]
  },
  {
   "cell_type": "code",
   "execution_count": null,
   "metadata": {
    "scrolled": true
   },
   "outputs": [],
   "source": [
    "# Get reactions\n",
    "reaction_data = {}\n",
    "reactant_data = {}\n",
    "new_edges = {}\n",
    "for (s, t), edge_types in edges.items():\n",
    "    if \"isPartOf\" in edge_types and s not in pathway_data:\n",
    "        props, s_edges, d = get_reaction_data(s, reactant_data)\n",
    "        reaction_data[s] = props\n",
    "        new_edges.update(s_edges)"
   ]
  },
  {
   "cell_type": "code",
   "execution_count": null,
   "metadata": {},
   "outputs": [],
   "source": [
    "edges.update(new_edges)"
   ]
  },
  {
   "cell_type": "markdown",
   "metadata": {},
   "source": [
    "Convert to a dataframe"
   ]
  },
  {
   "cell_type": "code",
   "execution_count": null,
   "metadata": {},
   "outputs": [],
   "source": [
    "reaction_df = pd.DataFrame(reaction_data.values())\n",
    "reaction_df = clean_reactome_df(reaction_df)\n",
    "reaction_df[\"@id\"] = reaction_df[\"reactome_id\"]"
   ]
  },
  {
   "cell_type": "code",
   "execution_count": null,
   "metadata": {},
   "outputs": [],
   "source": [
    "reaction_df.shape"
   ]
  },
  {
   "cell_type": "markdown",
   "metadata": {},
   "source": [
    "Add 'positivelyRegulates' and 'negativelyRegulates' edges."
   ]
  },
  {
   "cell_type": "code",
   "execution_count": null,
   "metadata": {},
   "outputs": [],
   "source": [
    "for r_id, regulation_data in reaction_df[[\"@id\", \"regulatedBy\"]].values:\n",
    "    if not isinstance(regulation_data, float):\n",
    "        for el in regulation_data:\n",
    "            regulator, edge_types = get_regulation_relations(\n",
    "                el[\"stId\"] if \"stId\" in el else el[\"dbId\"], reactant_data)\n",
    "            edges[(regulator, r_id)] = {edge_types}"
   ]
  },
  {
   "cell_type": "markdown",
   "metadata": {},
   "source": [
    "Add 'reverseReaction' edges"
   ]
  },
  {
   "cell_type": "code",
   "execution_count": null,
   "metadata": {},
   "outputs": [],
   "source": [
    "if \"reverseReaction\" in reaction_df.columns:\n",
    "    for r_id, reverse_reaction in reaction_df[[\"@id\", \"reverseReaction\"]].values:\n",
    "        if not isinstance(reverse_reaction, float):\n",
    "            if reverse_reaction[\"stId\"] not in reaction_data:\n",
    "                props, new_edges, new_edge_props = get_reaction_data(\n",
    "                    reverse_reaction[\"stId\"], reactant_data)\n",
    "                reaction_data[reverse_reaction[\"stId\"]] = props\n",
    "                edges.update(new_edges)"
   ]
  },
  {
   "cell_type": "code",
   "execution_count": null,
   "metadata": {},
   "outputs": [],
   "source": [
    "remove = [\n",
    "    \"catalystActivity\", \"regulatedBy\",\n",
    "    \"catalystActivityReference\",\n",
    "    \"regulationReference\", \"reverseReaction\"\n",
    "]\n",
    "for c in remove:\n",
    "    if c in reaction_df.columns:\n",
    "        reaction_df = reaction_df.drop(columns=[c])"
   ]
  },
  {
   "cell_type": "markdown",
   "metadata": {},
   "source": [
    "Process reactant data"
   ]
  },
  {
   "cell_type": "code",
   "execution_count": null,
   "metadata": {},
   "outputs": [],
   "source": [
    "reactant_df = pd.DataFrame([\n",
    "    {\"stId\": k , **v}\n",
    "    for k, v in reactant_data.items()\n",
    "])\n",
    "reactant_df = clean_reactome_df(reactant_df)\n",
    "reactant_df[\"@id\"] = reactant_df[\"reactome_id\"]"
   ]
  },
  {
   "cell_type": "markdown",
   "metadata": {},
   "source": [
    "## Get enzymes"
   ]
  },
  {
   "cell_type": "code",
   "execution_count": null,
   "metadata": {
    "scrolled": true
   },
   "outputs": [],
   "source": [
    "catalysts = {}\n",
    "new_edges = {}\n",
    "edges_to_remove = set()\n",
    "for (s, t), types in edges.items():\n",
    "    if \"catalyzedBy\" in types:\n",
    "        tt_edges, tt_remove_edges = get_protein_data(t, s, catalysts)\n",
    "        new_edges.update(tt_edges)\n",
    "        edges_to_remove.update(tt_remove_edges)"
   ]
  },
  {
   "cell_type": "code",
   "execution_count": null,
   "metadata": {},
   "outputs": [],
   "source": [
    "edges.update(new_edges)"
   ]
  },
  {
   "cell_type": "code",
   "execution_count": null,
   "metadata": {},
   "outputs": [],
   "source": [
    "for e in edges_to_remove:\n",
    "    if e in edges:\n",
    "        del edges[e]"
   ]
  },
  {
   "cell_type": "code",
   "execution_count": null,
   "metadata": {},
   "outputs": [],
   "source": [
    "catalysts_df = pd.DataFrame(catalysts.values())\n",
    "catalysts_df = clean_reactome_df(catalysts_df)\n",
    "catalysts_df = catalysts_df.drop_duplicates(subset=\"reactome_id\")\n",
    "catalysts_df[\"@id\"] = catalysts_df[\"reactome_id\"]\n",
    "if \"goCellularComponent\" in catalysts_df.columns:\n",
    "    catalysts_df[\"goCellularComponent\"] = catalysts_df[\"goCellularComponent\"].apply(\n",
    "        lambda x: f\"{x['databaseName']}:{x['accession']}\" if not isinstance(x, float) else np.nan)\n",
    "catalysts_df[\"hasModifiedResidue\"] = catalysts_df[\"hasModifiedResidue\"].apply(\n",
    "    lambda x: [el[\"displayName\"] for el in x] if not isinstance(x, float) else np.nan)"
   ]
  },
  {
   "cell_type": "markdown",
   "metadata": {},
   "source": [
    "Process edges"
   ]
  },
  {
   "cell_type": "code",
   "execution_count": null,
   "metadata": {},
   "outputs": [],
   "source": [
    "edge_df = pd.DataFrame(\n",
    "    [(s, t, types) for (s, t), types in edges.items()],\n",
    "    columns=[\"@source_id\", \"@target_id\", \"@type\"]\n",
    ")\n",
    "edge_df = edge_df.set_index([\"@source_id\", \"@target_id\"])"
   ]
  },
  {
   "cell_type": "markdown",
   "metadata": {},
   "source": [
    "Save the data"
   ]
  },
  {
   "cell_type": "code",
   "execution_count": null,
   "metadata": {},
   "outputs": [],
   "source": [
    "pathway_df.to_pickle(\"../data/reactome/pathways.pkl\")\n",
    "reaction_df.to_pickle(\"../data/reactome/reactions.pkl\")\n",
    "reactant_df.to_pickle(\"../data/reactome/reactants.pkl\")\n",
    "catalysts_df.to_pickle(\"../data/reactome/catalysts.pkl\")\n",
    "edge_df.to_pickle(\"../data/reactome/edges.pkl\")"
   ]
  },
  {
   "cell_type": "code",
   "execution_count": null,
   "metadata": {},
   "outputs": [],
   "source": [
    "# pathway_df = pd.read_pickle(\"../data/reactome/pathways.pkl\")\n",
    "# reaction_df = pd.read_pickle(\"../data/reactome/reactions.pkl\")\n",
    "# reactant_df = pd.read_pickle(\"../data/reactome/reactants.pkl\")\n",
    "# catalysts_df = pd.read_pickle(../data/reactome/catalysts.pkl\")\n",
    "# edge_df = pd.read_pickle(\"../data/reactome/edges.pkl\")"
   ]
  },
  {
   "cell_type": "markdown",
   "metadata": {},
   "source": [
    "## Load Molecular Systems Ontology"
   ]
  },
  {
   "cell_type": "code",
   "execution_count": null,
   "metadata": {},
   "outputs": [],
   "source": [
    "normalize_uris(\"../../ontologies/bmo.ttl\", \"https://neuroshapes.org/\" , \"../../ontologies/bmo.ttl\")\n",
    "normalize_uris(\"../../ontologies/molecular_systems_ontology.ttl\", \"https://neuroshapes.org/\", \"../../ontologies/molecular_systems_ontology.ttl\")"
   ]
  },
  {
   "cell_type": "code",
   "execution_count": null,
   "metadata": {},
   "outputs": [],
   "source": [
    "g = rdflib.Graph()\n",
    "g.parse(\"../../ontologies/bmo.ttl\", format=\"turtle\")\n",
    "g.parse(\"../../ontologies/molecular_systems_ontology.ttl\", format=\"turtle\")"
   ]
  },
  {
   "cell_type": "markdown",
   "metadata": {},
   "source": [
    "## Create a PGFrame"
   ]
  },
  {
   "cell_type": "code",
   "execution_count": null,
   "metadata": {},
   "outputs": [],
   "source": [
    "frame = PandasPGFrame.from_ontology(\n",
    "    rdf_graph=g, remove_prop_uris=True)"
   ]
  },
  {
   "cell_type": "code",
   "execution_count": null,
   "metadata": {},
   "outputs": [],
   "source": [
    "frame._nodes[\"@type\"] = [set()] * frame.number_of_nodes()"
   ]
  },
  {
   "cell_type": "code",
   "execution_count": null,
   "metadata": {},
   "outputs": [],
   "source": [
    "reactome_nodes = pd.concat([pathway_df, reaction_df, reactant_df, catalysts_df])\n",
    "reactome_nodes = reactome_nodes.drop_duplicates(subset=\"@id\")\n",
    "reactome_nodes = reactome_nodes.set_index(\"@id\")"
   ]
  },
  {
   "cell_type": "code",
   "execution_count": null,
   "metadata": {},
   "outputs": [],
   "source": [
    "frame._nodes = pd.concat([frame._nodes, reactome_nodes])\n",
    "frame._nodes.loc[frame._nodes[\"chebi_id\"].apply(lambda x: x is None), \"chebi_id\"] = np.nan"
   ]
  },
  {
   "cell_type": "code",
   "execution_count": null,
   "metadata": {},
   "outputs": [],
   "source": [
    "frame._edges =  pd.concat([frame._edges, edge_df])"
   ]
  },
  {
   "cell_type": "code",
   "execution_count": null,
   "metadata": {},
   "outputs": [],
   "source": [
    "new_edges = [\n",
    "    (el, \"Protein\")\n",
    "    for el in frame._nodes[frame._nodes[\"@type\"].apply(lambda x: \"PROTEIN\" in x)].index\n",
    "] + [\n",
    "    (el, \"Metabolite\")\n",
    "    for el in frame._nodes[frame._nodes[\"@type\"].apply(lambda x: \"METABOLITE\" in x)].index\n",
    "] + [\n",
    "    (el, \"Complex\")\n",
    "    for el in frame._nodes[frame._nodes[\"@type\"].apply(lambda x: \"COMPLEX\" in x)].index\n",
    "] + [\n",
    "    (el, \"Biochemical Reaction\")\n",
    "    for el in frame._nodes[frame._nodes[\"@type\"].apply(lambda x: \"BIOCHEMICAL_REACTION\" in x)].index\n",
    "] + [\n",
    "    (el, \"Metabolic Pathway\")\n",
    "    for el in frame._nodes[frame._nodes[\"@type\"].apply(lambda x: \"PATHWAY\" in x)].index\n",
    "]"
   ]
  },
  {
   "cell_type": "code",
   "execution_count": null,
   "metadata": {},
   "outputs": [],
   "source": [
    "frame.add_edges(new_edges)\n",
    "for s, t in new_edges:\n",
    "    frame._edges.loc[(s, t), \"@type\"] = {\"IS_INSTANCE_OF\"}"
   ]
  },
  {
   "cell_type": "markdown",
   "metadata": {},
   "source": [
    "## Get gene data and link it to respective proteins"
   ]
  },
  {
   "cell_type": "code",
   "execution_count": null,
   "metadata": {},
   "outputs": [],
   "source": [
    "gene_mapping = frame._nodes[\n",
    "    frame._nodes[\"@type\"].apply(lambda x: \"PROTEIN\" in x)][[\"gene\", \"species\", \"synonyms\"]].to_dict(\"index\")"
   ]
  },
  {
   "cell_type": "code",
   "execution_count": null,
   "metadata": {},
   "outputs": [],
   "source": [
    "gene_records = {}\n",
    "for protein_id, data in gene_mapping.items():\n",
    "    if data[\"gene\"] not in gene_records and not isinstance(data[\"species\"], float):\n",
    "        record = get_gene_data(data[\"gene\"], data[\"species\"].replace(\" \", \"_\").lower())\n",
    "        if len(record) == 0:\n",
    "            record = get_gene_data(data[\"synonyms\"][0], data[\"species\"].replace(\" \", \"_\").lower())\n",
    "        record[\"species\"] = data[\"species\"]\n",
    "        if 'prefLabel' in record:\n",
    "            record[\"label\"] = f\"{record['prefLabel']} ({record['species']})\"\n",
    "        gene_records[data[\"gene\"]] = record"
   ]
  },
  {
   "cell_type": "code",
   "execution_count": null,
   "metadata": {},
   "outputs": [],
   "source": [
    "gene_df = pd.DataFrame(gene_records.values())\n",
    "gene_df[\"@id\"] = gene_df[\"uniprot_ac\"]\n",
    "gene_df[\"@type\"] = \"GENE\"\n",
    "gene_df = gene_df.dropna()"
   ]
  },
  {
   "cell_type": "code",
   "execution_count": null,
   "metadata": {},
   "outputs": [],
   "source": [
    "gene_df.to_pickle(\"../data/reactome/genes.pkl\")"
   ]
  },
  {
   "cell_type": "code",
   "execution_count": null,
   "metadata": {},
   "outputs": [],
   "source": [
    "go_edges = gene_df[[\"@id\", \"go_edges\"]]"
   ]
  },
  {
   "cell_type": "code",
   "execution_count": null,
   "metadata": {},
   "outputs": [],
   "source": [
    "gene_df = gene_df.drop(columns=[\"go_edges\"]).drop_duplicates(\"@id\")\n",
    "gene_df[\"xrefs\"] = gene_df[\"xrefs\"].apply(lambda x: {f\"{k}:{v}\" for k, v in x.items()})\n",
    "frame.add_nodes(gene_df[\"@id\"])\n",
    "for c in gene_df.columns:\n",
    "    if c != \"@id\":\n",
    "        frame.add_node_properties(gene_df[[\"@id\", c]])"
   ]
  },
  {
   "cell_type": "code",
   "execution_count": null,
   "metadata": {},
   "outputs": [],
   "source": [
    "instance_edges = set([\n",
    "    (el, \"Gene\")   \n",
    "    for el in gene_df[\"@id\"] \n",
    "])\n",
    "frame.add_edges(instance_edges)\n",
    "for s, t in instance_edges:\n",
    "    frame._edges.loc[(s, t), \"@type\"] = {\"IS_INSTANCE_OF\"}"
   ]
  },
  {
   "cell_type": "code",
   "execution_count": null,
   "metadata": {},
   "outputs": [],
   "source": [
    "translates_edges = set()\n",
    "for k, v in gene_mapping.items():\n",
    "    if v[\"gene\"] in gene_records:\n",
    "        if \"uniprot_ac\" in gene_records[v[\"gene\"]]:\n",
    "            translates_edges.add((gene_records[v[\"gene\"]][\"uniprot_ac\"], k))\n",
    "        else:\n",
    "            translates_edges.add((v[\"gene\"], k))"
   ]
  },
  {
   "cell_type": "code",
   "execution_count": null,
   "metadata": {},
   "outputs": [],
   "source": [
    "frame.add_edges(translates_edges)\n",
    "for s, t in translates_edges:\n",
    "    frame._edges.loc[(s, t), \"@type\"] = {\"translatesInto\"}\n",
    "frame._nodes.loc[frame._nodes[\"@type\"].isna(), \"@type\"] = frame._nodes.loc[\n",
    "    frame._nodes[\"@type\"].isna(), \"@type\"].apply(lambda x: set())"
   ]
  },
  {
   "cell_type": "markdown",
   "metadata": {},
   "source": [
    "## Get orthologous genes"
   ]
  },
  {
   "cell_type": "code",
   "execution_count": null,
   "metadata": {},
   "outputs": [],
   "source": [
    "species_of_interest = set(\n",
    "    [\n",
    "        el.lower().replace(\" \", \"_\") for el in frame._nodes[\"species\"].unique()\n",
    "        if not isinstance(el, float)\n",
    "    ]\n",
    ")"
   ]
  },
  {
   "cell_type": "code",
   "execution_count": null,
   "metadata": {
    "scrolled": true
   },
   "outputs": [],
   "source": [
    "ensembl_genes = {v[\"ensembl_id\"]: k for k, v in gene_records.items() if \"ensembl_id\" in v}"
   ]
  },
  {
   "cell_type": "code",
   "execution_count": null,
   "metadata": {},
   "outputs": [],
   "source": [
    "# Fetch orthologous genes from Ensembl\n",
    "visited = set()\n",
    "orthologues = []\n",
    "for gene in ensembl_genes:\n",
    "    if gene not in visited:\n",
    "        result = get_orthologues(gene, species_of_interest)\n",
    "        group = set([gene] + list(result.values()))\n",
    "        for el in group:\n",
    "            visited.add(el)\n",
    "        orthologues.append(group)"
   ]
  },
  {
   "cell_type": "code",
   "execution_count": null,
   "metadata": {},
   "outputs": [],
   "source": [
    "with open(\"../data/reactome/orthologous_genes.pkl\", \"wb\") as f:\n",
    "    pickle.dump(orthologues, f)"
   ]
  },
  {
   "cell_type": "code",
   "execution_count": null,
   "metadata": {},
   "outputs": [],
   "source": [
    "new_edges = set()\n",
    "for group in orthologues:\n",
    "    nodes_to_connect = []\n",
    "    for el in group:\n",
    "        node_ids = frame._nodes[frame._nodes[\"ensembl_id\"] == el].index.tolist()\n",
    "        if len(node_ids) == 1:\n",
    "            nodes_to_connect.append(node_ids[0])\n",
    "    if len(nodes_to_connect) > 1:\n",
    "        for el in nodes_to_connect[1:]:\n",
    "            new_edges.add((nodes_to_connect[0], el))"
   ]
  },
  {
   "cell_type": "code",
   "execution_count": null,
   "metadata": {},
   "outputs": [],
   "source": [
    "frame.add_edges(new_edges)\n",
    "for s, t in new_edges:\n",
    "    frame._edges.loc[(s, t), \"@type\"] = {\"hasOrthologue\"}"
   ]
  },
  {
   "cell_type": "markdown",
   "metadata": {},
   "source": [
    "## Merge gene data with Gene ontology"
   ]
  },
  {
   "cell_type": "code",
   "execution_count": null,
   "metadata": {},
   "outputs": [],
   "source": [
    "go = rdflib.Graph()\n",
    "go.parse(\"../../ontologies/go.ttl\", format=\"turtle\")"
   ]
  },
  {
   "cell_type": "markdown",
   "metadata": {},
   "source": [
    "Collect a subset of GO terms to include"
   ]
  },
  {
   "cell_type": "code",
   "execution_count": null,
   "metadata": {},
   "outputs": [],
   "source": [
    "go_terms_to_include = {}\n",
    "\n",
    "# Collect terms referenced by genes\n",
    "for g, record in gene_records.items():\n",
    "    if \"go_edges\" in record:\n",
    "        for _, t in record[\"go_edges\"]:\n",
    "            if t not in go_terms_to_include:\n",
    "                for s in go.subjects(\n",
    "                        rdflib.URIRef(\"http://www.geneontology.org/formats/oboInOwl#id\"),\n",
    "                        rdflib.Literal(t, datatype=XSD.string)):\n",
    "                    go_terms_to_include[t] = s\n",
    "                    break"
   ]
  },
  {
   "cell_type": "code",
   "execution_count": null,
   "metadata": {},
   "outputs": [],
   "source": [
    "# Collect terms referenced by pathways/reactions/reactants/enzymes\n",
    "located_in_edges = [\n",
    "    (el[\"@id\"], el[\"compartment\"])\n",
    "    for el in (\n",
    "        pathway_df.loc[pathway_df[\"compartment\"].notna(), [\"@id\", \"compartment\"]].to_dict(\"records\") +\n",
    "        catalysts_df.loc[catalysts_df[\"compartment\"].notna(), [\"@id\", \"compartment\"]].to_dict(\"records\") +\n",
    "        reaction_df[[\"@id\", \"compartment\"]].to_dict(\"records\") +\n",
    "        reactant_df.loc[reactant_df[\"compartment\"].notna(), [\"@id\", \"compartment\"]].to_dict(\"records\")\n",
    "    )\n",
    "]\n",
    "involved_in_edges = [\n",
    "    (el[\"@id\"], [el[\"goBiologicalProcess\"]])\n",
    "    for el in pathway_df[[\"@id\", \"goBiologicalProcess\"]].to_dict(\"records\")\n",
    "]\n",
    "\n",
    "new_go_terms = set(\n",
    "    sum([el for _, el in located_in_edges + involved_in_edges], [])\n",
    ")"
   ]
  },
  {
   "cell_type": "code",
   "execution_count": null,
   "metadata": {},
   "outputs": [],
   "source": [
    "for t in new_go_terms:\n",
    "    if t not in go_terms_to_include:\n",
    "        for s in go.subjects(rdflib.URIRef(\"http://www.geneontology.org/formats/oboInOwl#id\"), rdflib.Literal(t, datatype=XSD.string)):\n",
    "            go_terms_to_include[t] = s\n",
    "            break"
   ]
  },
  {
   "cell_type": "code",
   "execution_count": null,
   "metadata": {},
   "outputs": [],
   "source": [
    "selected_go = rdflib.Graph()\n",
    "for t in go_terms_to_include.values():\n",
    "    subontology = subontology_from_term(go, t, top_down=False, closed=True)\n",
    "    selected_go += subontology"
   ]
  },
  {
   "cell_type": "code",
   "execution_count": null,
   "metadata": {},
   "outputs": [],
   "source": [
    "go_frame = PandasPGFrame.from_ontology(rdf_graph=selected_go, remove_prop_uris=True)\n",
    "go_frame.remove_isolated_nodes()\n",
    "go_frame.rename_node_properties({\"id\": \"go_id\"})"
   ]
  },
  {
   "cell_type": "code",
   "execution_count": null,
   "metadata": {},
   "outputs": [],
   "source": [
    "frame._nodes = pd.concat([frame._nodes, go_frame._nodes])\n",
    "frame._edges = pd.concat([frame._edges, go_frame._edges])"
   ]
  },
  {
   "cell_type": "code",
   "execution_count": null,
   "metadata": {},
   "outputs": [],
   "source": [
    "new_go_edges = {}\n",
    "for row in go_edges.to_dict(\"records\"):\n",
    "    source  = row[\"@id\"]\n",
    "    for rel, go_term in row[\"go_edges\"]:\n",
    "        target = frame._nodes[frame._nodes[\"go_id\"] == go_term].index[0]\n",
    "        if (source, target) in new_go_edges:\n",
    "            new_go_edges[(source, target)].add(rel.replace(\" \", \"_\"))\n",
    "        else:\n",
    "            new_go_edges[(source, target)] = {rel.replace(\" \", \"_\")}"
   ]
  },
  {
   "cell_type": "code",
   "execution_count": null,
   "metadata": {},
   "outputs": [],
   "source": [
    "for source, go_terms in located_in_edges:\n",
    "    for term in go_terms:\n",
    "        target = frame._nodes[frame._nodes[\"go_id\"] == term].index[0]\n",
    "        if (source, target) in new_go_edges:\n",
    "            new_go_edges[(source, target)].add(\"located_in\")\n",
    "        else:\n",
    "            new_go_edges[(source, target)] = {\"located_in\"}\n",
    "\n",
    "\n",
    "for source, go_terms in involved_in_edges:\n",
    "    for term in go_terms:\n",
    "        target = frame._nodes[frame._nodes[\"go_id\"] == term].index[0]\n",
    "        if (source, target) in new_go_edges:\n",
    "            new_go_edges[(source, target)].add(\"involved_in\")\n",
    "        else:\n",
    "            new_go_edges[(source, target)] = {\"involved_in\"}"
   ]
  },
  {
   "cell_type": "code",
   "execution_count": null,
   "metadata": {},
   "outputs": [],
   "source": [
    "frame.add_edges(new_go_edges.keys())\n",
    "for e, types in new_go_edges.items():\n",
    "    frame._edges[\"@type\"][e] = types"
   ]
  },
  {
   "cell_type": "markdown",
   "metadata": {},
   "source": [
    "## Import to Neo4j"
   ]
  },
  {
   "cell_type": "code",
   "execution_count": null,
   "metadata": {},
   "outputs": [],
   "source": [
    "uri = \"bolt://127.0.0.1:7687\"\n",
    "username = \"neo4j\"\n",
    "password = \"admin\""
   ]
  },
  {
   "cell_type": "code",
   "execution_count": null,
   "metadata": {},
   "outputs": [],
   "source": [
    "for c in frame.node_properties():\n",
    "    frame.node_prop_as_category(c)\n",
    "frame.rename_node_properties({\n",
    "    p: p.replace(\" \", \"_\") for p in frame.node_properties()\n",
    "})\n",
    "frame._edges[\"@type\"] = frame._edges[\"@type\"].apply(\n",
    "    lambda x: {el.replace(\" \", \"_\") for el in x})\n",
    "frame._edges[\"@type\"] = frame._edges[\"@type\"].apply(\n",
    "    lambda x: {el.replace(\"NOT|enables\", \"NOT_enables\") for el in x})\n",
    "frame._edges[\"@type\"] = frame._edges[\"@type\"].apply(\n",
    "    lambda x: {el.replace(\"NOT|involved_in\", \"NOT_involved_in\") for el in x})\n",
    "frame._edges[\"@type\"] = frame._edges[\"@type\"].apply(\n",
    "    lambda x: {el.replace(\"NOT|located_in\", \"NOT_located_in\") for el in x})"
   ]
  },
  {
   "cell_type": "code",
   "execution_count": null,
   "metadata": {},
   "outputs": [],
   "source": [
    "view = pgframe_to_neo4j(\n",
    "    frame, uri=uri, username=username, password=password,\n",
    "    node_label=\"ONTOLOGY_CLASS\",\n",
    "    node_types_as_labels=True,\n",
    "    edge_types_as_labels=True,\n",
    "    batch_size=10)"
   ]
  },
  {
   "cell_type": "code",
   "execution_count": null,
   "metadata": {},
   "outputs": [],
   "source": [
    "label_top_level(view.driver)\n",
    "label_entities(view.driver)"
   ]
  },
  {
   "cell_type": "code",
   "execution_count": null,
   "metadata": {},
   "outputs": [],
   "source": [
    "queries = [\n",
    "    \"match (m)-[:IS_SUBCLASS_OF|IS_INSTANCE_OF*..]->(n {id: 'cellular_component'}) SET m:GENE_ONTOLOGY_CLASS\",\n",
    "    \"match (m)-[:IS_SUBCLASS_OF|IS_INSTANCE_OF*..]->(n {id: 'biological_process'}) SET m:GENE_ONTOLOGY_CLASS\",\n",
    "    \"match (m)-[:IS_SUBCLASS_OF|IS_INSTANCE_OF*..]->(n {id: 'molecular_function'}) SET m:GENE_ONTOLOGY_CLASS\",\n",
    "    \"match (m)-[:IS_SUBCLASS_OF|IS_INSTANCE_OF*..]->(n {id: 'Gene'}) SET m:GENE_ONTOLOGY_CLASS, n:GENE_ONTOLOGY_CLASS\"\n",
    "]\n",
    "for q in queries:\n",
    "    execute(view.driver, q)"
   ]
  },
  {
   "cell_type": "code",
   "execution_count": null,
   "metadata": {},
   "outputs": [],
   "source": [
    "# Reconnect transitive orthologues\n",
    "q = (\n",
    "    \"\"\"\n",
    "    match (a)-[:hasOrthologue]-(b)-[:hasOrthologue]-(c)\n",
    "    merge (a)-[:hasOrthologue]->(c)\n",
    "    \"\"\"\n",
    ")\n",
    "execute(view.driver, q)\n",
    "q = (\n",
    "    \"\"\"\n",
    "    match (n)-[:hasOrthologue]->(m)\n",
    "    merge (m)-[:hasOrthologue]->(n)\n",
    "    \"\"\"\n",
    ")\n",
    "execute(view.driver, q)"
   ]
  }
 ],
 "metadata": {
  "kernelspec": {
   "display_name": "bg",
   "language": "python",
   "name": "bg"
  },
  "language_info": {
   "codemirror_mode": {
    "name": "ipython",
    "version": 3
   },
   "file_extension": ".py",
   "mimetype": "text/x-python",
   "name": "python",
   "nbconvert_exporter": "python",
   "pygments_lexer": "ipython3",
   "version": "3.7.10"
  }
 },
 "nbformat": 4,
 "nbformat_minor": 4
}
