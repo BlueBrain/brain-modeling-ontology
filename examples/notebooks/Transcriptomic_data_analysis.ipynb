{
 "cells": [
  {
   "cell_type": "markdown",
   "metadata": {},
   "source": [
    "# Process the large transcriptomic data"
   ]
  },
  {
   "cell_type": "code",
   "execution_count": null,
   "metadata": {},
   "outputs": [],
   "source": [
    "import getpass\n",
    "import json\n",
    "import re\n",
    "\n",
    "from ast import literal_eval\n",
    "from collections import defaultdict\n",
    "\n",
    "import urllib.request\n",
    "\n",
    "import pandas as pd\n",
    "import numpy as np\n",
    "\n",
    "from kgforge.core.forge import KnowledgeGraphForge\n",
    "from kgforge.core.resource import Resource\n",
    "from kgforge.specializations.resources import Dataset"
   ]
  },
  {
   "cell_type": "markdown",
   "metadata": {},
   "source": [
    "### Download the data if not done already"
   ]
  },
  {
   "cell_type": "code",
   "execution_count": null,
   "metadata": {},
   "outputs": [],
   "source": [
    "# urllib.request.urlretrieve(\n",
    "#     \"https://idk-etl-prod-download-bucket.s3.amazonaws.com/aibs_mouse_ctx-hpf_10x/matrix.csv\", \"allen_cell_expression.csv\")\n",
    "# urllib.request.urlretrieve(\n",
    "#     \"https://idk-etl-prod-download-bucket.s3.amazonaws.com/aibs_mouse_ctx-hpf_10x/metadata.csv\", \"allen_cell_metadata.csv\")"
   ]
  },
  {
   "cell_type": "markdown",
   "metadata": {},
   "source": [
    "### Group the meta-data of cell samples by t-types."
   ]
  },
  {
   "cell_type": "code",
   "execution_count": null,
   "metadata": {},
   "outputs": [],
   "source": [
    "metadata = pd.read_csv(\"allen_cell_metadata.csv\")\n",
    "grouped_data = metadata.groupby(\"cell_type_accession_label\").aggregate(lambda x: list(set(x)))"
   ]
  },
  {
   "cell_type": "code",
   "execution_count": null,
   "metadata": {},
   "outputs": [],
   "source": [
    "grouped_data.to_csv(\"grouped_meta_data.csv\")"
   ]
  },
  {
   "cell_type": "code",
   "execution_count": null,
   "metadata": {},
   "outputs": [],
   "source": [
    "grouped_data = pd.read_csv(\"grouped_meta_data.csv\").set_index(\"cell_type_accession_label\")[[\"sample_name\"]]\n",
    "for c in grouped_data.columns:\n",
    "    print(c)\n",
    "    grouped_data[c] = grouped_data[c].apply(literal_eval)"
   ]
  },
  {
   "cell_type": "markdown",
   "metadata": {},
   "source": [
    "### Extract cell samples for each t-type.\n",
    "\n",
    "Here we wanted to split the huge matrix (70GB) with all cell samples into small matrices (`npy` extension) each representing expressions measured from cells beloning to a particular ttype.\n",
    "\n",
    "\n",
    "This is a long and costly process implemented in the script `aggregate_cells_v2.py` (takes ~10h to run). The result matrices are stored into `cells_by_type` directory."
   ]
  },
  {
   "cell_type": "markdown",
   "metadata": {},
   "source": [
    "## Register t-type cell samples for individual ttypes and link them to TType annotations in `bbp/aibs`."
   ]
  },
  {
   "cell_type": "code",
   "execution_count": null,
   "metadata": {},
   "outputs": [],
   "source": [
    "TOKEN = getpass.getpass()"
   ]
  },
  {
   "cell_type": "code",
   "execution_count": null,
   "metadata": {},
   "outputs": [],
   "source": [
    "aibs_forge = KnowledgeGraphForge(\n",
    "    \"https://raw.githubusercontent.com/BlueBrain/nexus-forge/master/examples/notebooks/use-cases/prod-forge-nexus.yml\",\n",
    "    token=TOKEN,\n",
    "    bucket=\"bbp/aibs\")"
   ]
  },
  {
   "cell_type": "code",
   "execution_count": null,
   "metadata": {},
   "outputs": [],
   "source": [
    "from os import listdir\n",
    "from os.path import isfile, join\n",
    "matrix_files = [f for f in listdir(\"cells_by_type\") if isfile(join(\"cells_by_type\", f))]"
   ]
  },
  {
   "cell_type": "code",
   "execution_count": null,
   "metadata": {},
   "outputs": [],
   "source": [
    "genes_forge = KnowledgeGraphForge(\n",
    "    \"https://raw.githubusercontent.com/BlueBrain/nexus-forge/master/examples/notebooks/use-cases/prod-forge-nexus.yml\",\n",
    "    token=TOKEN,\n",
    "    bucket=\"bbp/gene-annotations\")"
   ]
  },
  {
   "cell_type": "code",
   "execution_count": null,
   "metadata": {},
   "outputs": [],
   "source": [
    "gene_index = list(data.columns)"
   ]
  },
  {
   "cell_type": "code",
   "execution_count": null,
   "metadata": {},
   "outputs": [],
   "source": [
    "with open(\"gene_expression_index.json\", \"w\") as f:\n",
    "    json.dump(gene_index, f)"
   ]
  },
  {
   "cell_type": "code",
   "execution_count": null,
   "metadata": {},
   "outputs": [],
   "source": [
    "index_dataset = Dataset(aibs_forge)\n",
    "index_dataset.type = [\"Dataset\", \"GeneExpressionIndex\"]\n",
    "index_dataset.name = f\"Index of genes for gene expressions\"\n",
    "index_dataset.description = f\"Index of genes for raw gene expression datasets. Gene expression datasets are given by matrices whose columns correspond to genes specified in this index\"\n",
    "index_dataset.distribution = aibs_forge.attach(\n",
    "    f\"gene_expression_index.json\", content_type=\"application/json\")"
   ]
  },
  {
   "cell_type": "code",
   "execution_count": null,
   "metadata": {},
   "outputs": [],
   "source": [
    "aibs_forge.register(index_dataset)\n",
    "aibs_forge.tag(index_dataset, \"2022-02-17\")"
   ]
  },
  {
   "cell_type": "code",
   "execution_count": null,
   "metadata": {},
   "outputs": [],
   "source": [
    "index_dataset_id = index_dataset.id\n",
    "index_dataset_id"
   ]
  },
  {
   "cell_type": "code",
   "execution_count": null,
   "metadata": {},
   "outputs": [],
   "source": [
    "for file in matrix_files:\n",
    "    print(\"Processing... \", file)\n",
    "    match = re.match(\"(.*)_cells.npy\", file)\n",
    "    ttype_id = match.groups()[0]\n",
    "    resource = aibs_forge.search({\n",
    "        \"type\": \"GeneExpressionAnnotation\",\n",
    "        \"identifier\": {\n",
    "            \"value\": ttype_id\n",
    "        }\n",
    "    })\n",
    "    if len(resource) > 0:\n",
    "        resource = resource[0]\n",
    "        ttype = resource.label\n",
    "        expression_dataset = Dataset(aibs_forge)\n",
    "        expression_dataset.type = [\"Dataset\", \"GeneExpressionDataset\"]\n",
    "        expression_dataset.name = f\"Raw gene expression matrix for {ttype}\"\n",
    "        expression_dataset.geneExpressionIndex = aibs_forge.from_json(\n",
    "            {\n",
    "                \"id\": index_dataset_id,\n",
    "                \"type\": \"GeneExpressionIndex\"\n",
    "            })\n",
    "        expression_dataset.description = f\"Gene expression matrix for {ttype} provided as a npy (a servialized numpy matrix)\"\n",
    "        expression_dataset.distribution = aibs_forge.attach(\n",
    "            f\"cells_by_type/{file}\", content_type=\"application/octet-stream\")\n",
    "\n",
    "        aibs_forge.register(expression_dataset)\n",
    "        aibs_forge.tag(expression_dataset, \"2022-02-17\")\n",
    "\n",
    "        resource.rawExpressionDataset = aibs_forge.from_json({\n",
    "            \"id\": expression_dataset.id,\n",
    "            \"type\": \"GeneExpressionDataset\"\n",
    "        })\n",
    "        resource.label = resource.label\n",
    "        aibs_forge.update(resource)\n",
    "        aibs_forge.tag(resource, \"2022-02-17\")"
   ]
  }
 ],
 "metadata": {
  "kernelspec": {
   "display_name": "Python 3",
   "language": "python",
   "name": "python3"
  },
  "language_info": {
   "codemirror_mode": {
    "name": "ipython",
    "version": 3
   },
   "file_extension": ".py",
   "mimetype": "text/x-python",
   "name": "python",
   "nbconvert_exporter": "python",
   "pygments_lexer": "ipython3",
   "version": "3.7.4"
  }
 },
 "nbformat": 4,
 "nbformat_minor": 4
}
