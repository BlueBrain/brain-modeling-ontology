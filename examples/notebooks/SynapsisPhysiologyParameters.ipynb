{
 "cells": [
  {
   "attachments": {},
   "cell_type": "markdown",
   "metadata": {},
   "source": [
    "# Adding parameters used in the synapsis physiology recipes"
   ]
  },
  {
   "attachments": {},
   "cell_type": "markdown",
   "metadata": {},
   "source": [
    "## Context\n"
   ]
  },
  {
   "attachments": {},
   "cell_type": "markdown",
   "metadata": {},
   "source": [
    "See ticket [BBPP134-233](https://bbpteam.epfl.ch/project/issues/secure/RapidBoard.jspa?rapidView=340&view=detail&selectedIssue=BBPP134-233)"
   ]
  },
  {
   "attachments": {},
   "cell_type": "markdown",
   "metadata": {},
   "source": [
    "## Imports"
   ]
  },
  {
   "cell_type": "code",
   "execution_count": 9,
   "metadata": {},
   "outputs": [],
   "source": [
    "import os\n",
    "import json\n",
    "import re\n",
    "import pandas as pd\n",
    "import copy\n",
    "import rdflib\n",
    "import yaml\n",
    "import pandas as pd\n",
    "from rdflib import RDF, RDFS, XSD, OWL, URIRef, BNode, SKOS\n",
    "from rdflib.paths import OneOrMore\n",
    "\n",
    "from bmo.ontologies import subontology_from_term\n",
    "from bmo.utils import BMO, BRAIN_REGION_ONTOLOGY_URI, NSG, SCHEMAORG, SHACL, NXV"
   ]
  },
  {
   "attachments": {},
   "cell_type": "markdown",
   "metadata": {},
   "source": [
    "Read YAML files"
   ]
  },
  {
   "cell_type": "code",
   "execution_count": 2,
   "metadata": {},
   "outputs": [],
   "source": [
    "with open('../data/synapse_types/E1_PT.yaml') as f:\n",
    "    # use safe_load instead load\n",
    "    e1_yaml = yaml.safe_load(f)"
   ]
  },
  {
   "cell_type": "code",
   "execution_count": 4,
   "metadata": {},
   "outputs": [],
   "source": [
    "with open('../data/synapse_types/ProbAMPANMDA_EMS.yaml') as f:\n",
    "    # use safe_load instead load\n",
    "    probAMPA_yaml = yaml.safe_load(f)"
   ]
  },
  {
   "cell_type": "code",
   "execution_count": 3,
   "metadata": {},
   "outputs": [
    {
     "data": {
      "text/plain": [
       "{'model_template': 'ProbAMPANMDA_EMS',\n",
       " 'synapse_type': 'E1_PT',\n",
       " 'name': 'Excitatory proximal targeting.',\n",
       " 'description': 'Rare facilitating EXC - INH synapses: USE, D, F from Wang et al. 2006, dtc from Hausser and Roth 1997,  Hill coefs. from Rozov et al. 2001, NMDA ratio from Wang and Gao 2009, g_syns and NRRP: same as E2_NBC (for _PT) and E1_MC (for _DT). The GUDF parameters were set to the parameters of a TM model for electrophysiological traces.',\n",
       " 'parameters': [{'name': 'tau_r_NMDA',\n",
       "   'description': 'Rise time for NMDA currents.',\n",
       "   'units': 'ms',\n",
       "   'value': 0.29,\n",
       "   'scope': 'GLOBAL',\n",
       "   'functionalize': False},\n",
       "  {'name': 'tau_d_NMDA',\n",
       "   'description': 'Decay time for NMDA currents.',\n",
       "   'units': 'ms',\n",
       "   'value': 43.0,\n",
       "   'scope': 'GLOBAL',\n",
       "   'functionalize': False},\n",
       "  {'name': 'tau_r_AMPA',\n",
       "   'description': 'Rise time for AMPA currents.',\n",
       "   'units': 'ms',\n",
       "   'value': 0.2,\n",
       "   'scope': 'GLOBAL',\n",
       "   'functionalize': False},\n",
       "  {'name': 'tau_d_AMPA',\n",
       "   'description': 'Decay time for AMPA currents.',\n",
       "   'units': 'ms',\n",
       "   'value': {'distbn': 'truncated_normal', 'mean': 1.74, 'std': 0.18},\n",
       "   'scope': 'SYNAPSE',\n",
       "   'functionalize': {'use': 'spykfunc',\n",
       "    'inputs': {'dtcDIST': ['value', 'distbn'],\n",
       "     'dtc': ['value', 'mean'],\n",
       "     'dtcSD': ['value', 'std']},\n",
       "    'output': 'Synapse.DTC',\n",
       "    'sonata': {'edge_property': 'decay_time', 'dtype': 'float32'}}},\n",
       "  {'name': 'Use',\n",
       "   'description': 'Utilization of synaptic efficiency as measured by fitting the TM model to electrophysiological traces.',\n",
       "   'units': 'ms',\n",
       "   'value': {'distbn': 'truncated_normal', 'mean': 0.02, 'std': 0.001},\n",
       "   'scope': 'SYNAPSE',\n",
       "   'functionalize': {'use': 'spykfunc',\n",
       "    'inputs': {'uDIST': ['value', 'distbn'],\n",
       "     'u': ['value', 'mean'],\n",
       "     'uSD': ['value', 'std']},\n",
       "    'output': 'Synapse.U'},\n",
       "   'sonata': {'edge_property': 'u_syn', 'dtype': 'float32'}},\n",
       "  {'name': 'Fac',\n",
       "   'description': 'Relaxation time constant for facilitation, as measured by fitting the TM model to electrophysiological traces.',\n",
       "   'units': 'ms',\n",
       "   'value': {'distbn': 'gamma', 'mean': 507.0, 'std': 37.0},\n",
       "   'scope': 'SYNAPSE',\n",
       "   'functionalize': {'use': 'spykfunc',\n",
       "    'inputs': {'fDIST': ['value', 'distbn'],\n",
       "     'f': ['value', 'mean'],\n",
       "     'fSD': ['value', 'std']},\n",
       "    'output': 'Synapse.F'},\n",
       "   'sonata': {'edge_property': 'facilitation_time', 'dtype': 'float32'}},\n",
       "  {'name': 'Dep',\n",
       "   'description': 'Relaxation time constant for depression, as measured by fitting the TM model to electrophysiological traces.',\n",
       "   'units': 'ms',\n",
       "   'value': {'distbn': 'gamma', 'mean': 194.0, 'std': 18.0},\n",
       "   'scope': 'SYNAPSE',\n",
       "   'functionalize': {'use': 'spykfunc',\n",
       "    'inputs': {'dDIST': ['value', 'distbn'],\n",
       "     'd': ['value', 'mean'],\n",
       "     'dSD': ['value', 'std']},\n",
       "    'output': 'Synapse.D'},\n",
       "   'sonata': {'edge_property': 'depression_time', 'dtype': 'float32'}},\n",
       "  {'name': 'Nrrp',\n",
       "   'description': 'Number of tital release sites for given contact.',\n",
       "   'units': 1,\n",
       "   'value': {'distbn': 'poisson', 'mean': 4.5},\n",
       "   'scope': 'SYNAPSE',\n",
       "   'functionalize': {'use': 'spykfunc',\n",
       "    'inputs': {'nrrpDIST': ['value', 'distbn'], 'nrrp': ['value', 'mean']},\n",
       "    'output': 'Synapse.Nrrp'},\n",
       "   'sonata': {'edge_property': 'n_rrp_vesicles', 'dtype': 'float32'}}],\n",
       " 'pathways': [{'fromSClass': 'EXC',\n",
       "   'toMType': 'L*_LBC',\n",
       "   'toEtype': ['cACint', 'cIR', 'bAC', 'bIR', 'cNAC']},\n",
       "  {'fromSClass': 'EXC',\n",
       "   'toMType': 'L*_NBC',\n",
       "   'toEtype': ['cACint', 'cIR', 'bAC', 'bIR']}]}"
      ]
     },
     "execution_count": 3,
     "metadata": {},
     "output_type": "execute_result"
    }
   ],
   "source": [
    "e1_yaml"
   ]
  },
  {
   "cell_type": "code",
   "execution_count": 6,
   "metadata": {},
   "outputs": [],
   "source": [
    "combined_parameters = e1_yaml['parameters'] + probAMPA_yaml['parameters']"
   ]
  },
  {
   "attachments": {},
   "cell_type": "markdown",
   "metadata": {},
   "source": [
    "## Read parameter ontology"
   ]
  },
  {
   "cell_type": "code",
   "execution_count": 7,
   "metadata": {},
   "outputs": [],
   "source": [
    "base = '/Users/cgonzale/Documents/code/brain-modeling-ontology/ontologies/bbp'"
   ]
  },
  {
   "cell_type": "code",
   "execution_count": 19,
   "metadata": {},
   "outputs": [
    {
     "data": {
      "text/plain": [
       "<Graph identifier=Nbb6cc73609924d7ea1c61e34158cc4df (<class 'rdflib.graph.Graph'>)>"
      ]
     },
     "execution_count": 19,
     "metadata": {},
     "output_type": "execute_result"
    }
   ],
   "source": [
    "parameter_ontology = rdflib.Graph()\n",
    "parameter_ontology.parse(f\"{base}/parameters.ttl\")"
   ]
  },
  {
   "cell_type": "code",
   "execution_count": 20,
   "metadata": {},
   "outputs": [],
   "source": [
    "def add_term(graph, new_s, label, units, description, parent_label=None):\n",
    "    triples_to_add = set()\n",
    "    if parent_label:\n",
    "        for s, p, o in graph.triples((None, RDFS.label, rdflib.term.Literal(parent_label, lang='en'))):\n",
    "            triples_to_add.add((new_s, RDFS.subClassOf, s))\n",
    "    triples_to_add.add((new_s, RDFS.label, rdflib.term.Literal(label, lang='en')))\n",
    "    triples_to_add.add((new_s, RDF.type, OWL.Class))\n",
    "    triples_to_add.add((new_s, SCHEMAORG.unitCode, rdflib.term.Literal(units)))\n",
    "    triples_to_add.add((new_s, SKOS.definition, rdflib.term.Literal(description, lang='en')))\n",
    "    for el in triples_to_add:\n",
    "        graph.add(el)"
   ]
  },
  {
   "cell_type": "code",
   "execution_count": 21,
   "metadata": {},
   "outputs": [],
   "source": [
    "parent_label = \"Model Brain Parameter\""
   ]
  },
  {
   "cell_type": "code",
   "execution_count": 22,
   "metadata": {},
   "outputs": [],
   "source": [
    "done_parameters = []"
   ]
  },
  {
   "cell_type": "code",
   "execution_count": 23,
   "metadata": {},
   "outputs": [
    {
     "name": "stdout",
     "output_type": "stream",
     "text": [
      "tau_r_NMDA\n",
      "tau_d_NMDA\n",
      "tau_r_AMPA\n",
      "tau_d_AMPA\n",
      "Use\n",
      "Fac\n",
      "Dep\n",
      "Nrrp\n",
      "tau_r_AMPA\n",
      "tau_d_AMPA\n",
      "tau_r_NMDA\n",
      "tau_d_NMDA\n",
      "Use\n",
      "Dep\n",
      "Fac\n",
      "Nrrp\n",
      "conductance\n",
      "NMDA_ratio\n"
     ]
    }
   ],
   "source": [
    "for parameter in combined_parameters:\n",
    "    name = parameter['name']\n",
    "    print(name)\n",
    "    description = parameter['description']\n",
    "    units = parameter['units']\n",
    "    iri = \"https://bbp.epfl.ch/ontologies/core/parameters/\"+name\n",
    "    url = rdflib.URIRef(iri)\n",
    "    if name not in done_parameters:\n",
    "        add_term(parameter_ontology, url, name, units, description, parent_label)\n",
    "        done_parameters.append(name)"
   ]
  },
  {
   "cell_type": "code",
   "execution_count": 24,
   "metadata": {},
   "outputs": [
    {
     "data": {
      "text/plain": [
       "<Graph identifier=Nbb6cc73609924d7ea1c61e34158cc4df (<class 'rdflib.graph.Graph'>)>"
      ]
     },
     "execution_count": 24,
     "metadata": {},
     "output_type": "execute_result"
    }
   ],
   "source": [
    "parameter_ontology.serialize(destination=f\"{base}/parameters_updated.ttl\")"
   ]
  }
 ],
 "metadata": {
  "kernelspec": {
   "display_name": "kgforge",
   "language": "python",
   "name": "python3"
  },
  "language_info": {
   "codemirror_mode": {
    "name": "ipython",
    "version": 3
   },
   "file_extension": ".py",
   "mimetype": "text/x-python",
   "name": "python",
   "nbconvert_exporter": "python",
   "pygments_lexer": "ipython3",
   "version": "3.8.16"
  },
  "orig_nbformat": 4
 },
 "nbformat": 4,
 "nbformat_minor": 2
}
