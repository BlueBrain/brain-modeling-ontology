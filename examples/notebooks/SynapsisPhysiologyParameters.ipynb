{
 "cells": [
  {
   "attachments": {},
   "cell_type": "markdown",
   "metadata": {},
   "source": [
    "# Adding parameters used in the synapsis physiology recipes"
   ]
  },
  {
   "attachments": {},
   "cell_type": "markdown",
   "metadata": {},
   "source": [
    "## Context\n"
   ]
  },
  {
   "attachments": {},
   "cell_type": "markdown",
   "metadata": {},
   "source": [
    "See ticket [BBPP134-233](https://bbpteam.epfl.ch/project/issues/secure/RapidBoard.jspa?rapidView=340&view=detail&selectedIssue=BBPP134-233)"
   ]
  },
  {
   "attachments": {},
   "cell_type": "markdown",
   "metadata": {},
   "source": [
    "## Imports"
   ]
  },
  {
   "cell_type": "code",
   "execution_count": 1,
   "metadata": {},
   "outputs": [],
   "source": [
    "import os\n",
    "import json\n",
    "import re\n",
    "import pandas as pd\n",
    "import copy\n",
    "import rdflib\n",
    "import yaml\n",
    "import pandas as pd\n",
    "from rdflib import RDF, RDFS, XSD, OWL, URIRef, BNode, SKOS\n",
    "from rdflib.paths import OneOrMore\n",
    "\n",
    "from bmo.ontologies import subontology_from_term\n",
    "from bmo.utils import BMO, BRAIN_REGION_ONTOLOGY_URI, NSG, SCHEMAORG, SHACL, NXV"
   ]
  },
  {
   "attachments": {},
   "cell_type": "markdown",
   "metadata": {},
   "source": [
    "Read YAML files"
   ]
  },
  {
   "cell_type": "code",
   "execution_count": 2,
   "metadata": {},
   "outputs": [],
   "source": [
    "with open('../data/synapse_types/E1_PT.yaml') as f:\n",
    "    # use safe_load instead load\n",
    "    e1_yaml = yaml.safe_load(f)"
   ]
  },
  {
   "cell_type": "code",
   "execution_count": 3,
   "metadata": {},
   "outputs": [],
   "source": [
    "with open('../data/synapse_types/ProbAMPANMDA_EMS.yaml') as f:\n",
    "    # use safe_load instead load\n",
    "    probAMPA_yaml = yaml.safe_load(f)"
   ]
  },
  {
   "cell_type": "code",
   "execution_count": 4,
   "metadata": {},
   "outputs": [],
   "source": [
    "with open('../data/synapse_types/ProbGABAAB_EMS.yaml') as f:\n",
    "    # use safe_load instead load\n",
    "    probGABA_yaml = yaml.safe_load(f)"
   ]
  },
  {
   "attachments": {},
   "cell_type": "markdown",
   "metadata": {},
   "source": [
    "### Functional parameters information"
   ]
  },
  {
   "cell_type": "code",
   "execution_count": 5,
   "metadata": {},
   "outputs": [],
   "source": [
    "definitions= {\n",
    "    \"gsyn\": \"the peak conductance (in nS) for a single synaptic contact, following a Gamma distribution\",\n",
    "    \"d\": \"time constant (in ms) for recovery from depression, following a Gamma distribution\",\n",
    "    \"f\": \"time constant (in ms) for recovery from facilitation, following a Gamma distribution\",\n",
    "    \"u\": \"utilization of synaptic efficacy, following a truncated Normal distribution\",\n",
    "    \"dtc\": \"decay time constant (in ms), following a truncated Normal distribution\",\n",
    "    \"nrrp\": \"number of vesicles in readily releasable pool, following a Poisson distribution\",\n",
    "    \"gsynSRSF\": \"the scale factor for the conductance; SRSF: 'synaptic receptor scaling factor'\",\n",
    "    \"uHillCoefficient\": \"a coefficient describing the scaling of u to be done by the simulator\"\n",
    "    }"
   ]
  },
  {
   "cell_type": "code",
   "execution_count": 6,
   "metadata": {},
   "outputs": [],
   "source": [
    "labels= {\n",
    "    \"gsyn\": \"Single Synaptic Peak Conductance\",\n",
    "    \"d\": \"Recovery from Depression Time Constant\",\n",
    "    \"f\": \"Recovery from Facilitation Time Constant\",\n",
    "    \"u\": \"Utilization of Synaptic Efficacy\",\n",
    "    \"dtc\": \"Decay Time Constant\",\n",
    "    \"nrrp\": \"Vesicles in Readily Releasable Pool\",\n",
    "    \"gsynSRSF\":  \"Synaptic Receptor Scaling Factor\",\n",
    "    \"uHillCoefficient\": \"uHill Coefficient\"\n",
    "    }"
   ]
  },
  {
   "cell_type": "code",
   "execution_count": 7,
   "metadata": {},
   "outputs": [],
   "source": [
    "punits = {\n",
    "    \"gsyn\": \"nS\",\n",
    "    \"d\": \"ms\",\n",
    "    \"f\": \"ms\",\n",
    "    \"u\": \"Unitless\",\n",
    "    \"dtc\": \"ms\",\n",
    "    \"nrrp\": \"Unitless\",\n",
    "    \"gsynSRSF\": \"Unitless\",\n",
    "    \"uHillCoefficient\": \"Unitless\"\n",
    "    }"
   ]
  },
  {
   "cell_type": "code",
   "execution_count": 8,
   "metadata": {},
   "outputs": [],
   "source": [
    "combined_parameters = e1_yaml['parameters'] + probAMPA_yaml['parameters'] + probGABA_yaml['parameters']"
   ]
  },
  {
   "attachments": {},
   "cell_type": "markdown",
   "metadata": {},
   "source": [
    "## Read parameter ontology"
   ]
  },
  {
   "cell_type": "code",
   "execution_count": 9,
   "metadata": {},
   "outputs": [],
   "source": [
    "base = '/Users/cgonzale/Documents/code/brain-modeling-ontology/ontologies/bbp'"
   ]
  },
  {
   "cell_type": "code",
   "execution_count": 10,
   "metadata": {},
   "outputs": [
    {
     "data": {
      "text/plain": [
       "<Graph identifier=N8be6d644734048f9a9e160156e54881e (<class 'rdflib.graph.Graph'>)>"
      ]
     },
     "execution_count": 10,
     "metadata": {},
     "output_type": "execute_result"
    }
   ],
   "source": [
    "parameter_ontology = rdflib.Graph()\n",
    "parameter_ontology.parse(f\"{base}/parameters.ttl\")"
   ]
  },
  {
   "cell_type": "code",
   "execution_count": 11,
   "metadata": {},
   "outputs": [],
   "source": [
    "def add_term(graph, new_s, label, units, description, pref_label=None, parent_label=None):\n",
    "    triples_to_add = set()\n",
    "    if parent_label:\n",
    "        for s, p, o in graph.triples((None, RDFS.label, rdflib.term.Literal(parent_label, lang='en'))):\n",
    "            triples_to_add.add((new_s, RDFS.subClassOf, s))\n",
    "    triples_to_add.add((new_s, RDFS.label, rdflib.term.Literal(label, lang='en')))\n",
    "    triples_to_add.add((new_s, RDF.type, OWL.Class))\n",
    "    triples_to_add.add((new_s, SCHEMAORG.unitCode, rdflib.term.Literal(units)))\n",
    "    triples_to_add.add((new_s, SKOS.definition, rdflib.term.Literal(description, lang='en')))\n",
    "    if pref_label:\n",
    "        triples_to_add.add((new_s, SKOS.prefLabel, rdflib.term.Literal(pref_label, lang='en')))\n",
    "    for el in triples_to_add:\n",
    "        if el not in graph:\n",
    "            graph.add(el)"
   ]
  },
  {
   "cell_type": "code",
   "execution_count": 12,
   "metadata": {},
   "outputs": [],
   "source": [
    "parent_label = \"Model Brain Parameter\""
   ]
  },
  {
   "cell_type": "code",
   "execution_count": 13,
   "metadata": {},
   "outputs": [],
   "source": [
    "done_parameters = []"
   ]
  },
  {
   "attachments": {},
   "cell_type": "markdown",
   "metadata": {},
   "source": [
    "## Add parameters from YAML file"
   ]
  },
  {
   "cell_type": "code",
   "execution_count": 14,
   "metadata": {},
   "outputs": [],
   "source": [
    "def pretty_name(name):\n",
    "    \"\"\"Make a Class name pretty, capitalizing each word.\"\"\"\n",
    "    if '(' in name:\n",
    "        name = name.replace('(', '')\n",
    "        name = name.replace(')', '')\n",
    "    if '/' in name:\n",
    "        name = name.replace('/', '-')\n",
    "    return re.sub(r\"[A-Za-z]+('[A-Za-z]+)?\", lambda mo: mo.group(0)[0].upper() + mo.group(0)[1:], name)"
   ]
  },
  {
   "cell_type": "code",
   "execution_count": 15,
   "metadata": {},
   "outputs": [
    {
     "name": "stdout",
     "output_type": "stream",
     "text": [
      "tau_r_NMDA\n",
      "tau_d_NMDA\n",
      "tau_r_AMPA\n",
      "tau_d_AMPA\n",
      "Use\n",
      "Fac\n",
      "Dep\n",
      "Nrrp\n",
      "tau_r_AMPA\n",
      "tau_d_AMPA\n",
      "tau_r_NMDA\n",
      "tau_d_NMDA\n",
      "Use\n",
      "Dep\n",
      "Fac\n",
      "e\n",
      "mg\n",
      "slope_mg\n",
      "scale_mg\n",
      "gmax\n",
      "u0\n",
      "Nrrp\n",
      "weight\n",
      "NMDA_ratio\n",
      "uHillCoefficient\n",
      "tau_r_GABAA\n",
      "tau_d_GABAA\n",
      "tau_r_GABAB\n",
      "tau_d_GABAB\n",
      "Use\n",
      "Dep\n",
      "Fac\n",
      "e_GABAA\n",
      "e_GABAB\n",
      "gmax\n",
      "u0\n",
      "Nrrp\n",
      "weight\n",
      "GABAB_ratio\n",
      "uHillCoefficient\n"
     ]
    }
   ],
   "source": [
    "for parameter in combined_parameters:\n",
    "    name = parameter['name']\n",
    "    print(name)\n",
    "    description = parameter['description']\n",
    "    units = parameter['units']\n",
    "    if len(name) < 4:\n",
    "        if ',' in description:\n",
    "            short_description = description.split(',')[0]\n",
    "        else:\n",
    "            short_description = description\n",
    "        if '(' in short_description:\n",
    "            re.sub(r'\\([^)]*\\)', '', short_description)\n",
    "        idlabel = pretty_name(short_description).replace(' ', '')\n",
    "        if '.' in idlabel:\n",
    "            idlabel = idlabel.replace('.', '')\n",
    "        iri = \"https://bbp.epfl.ch/ontologies/core/parameters/\"+idlabel\n",
    "    else:\n",
    "        iri = \"https://bbp.epfl.ch/ontologies/core/parameters/\"+name\n",
    "    url = rdflib.URIRef(iri)\n",
    "    if name not in done_parameters:\n",
    "        add_term(parameter_ontology, url, name, units, description, parent_label=parent_label)\n",
    "        done_parameters.append(name)"
   ]
  },
  {
   "attachments": {},
   "cell_type": "markdown",
   "metadata": {},
   "source": [
    "## Add parameters from xml"
   ]
  },
  {
   "cell_type": "code",
   "execution_count": 16,
   "metadata": {},
   "outputs": [
    {
     "name": "stdout",
     "output_type": "stream",
     "text": [
      "gsyn\n",
      "d\n",
      "f\n",
      "u\n",
      "dtc\n",
      "nrrp\n",
      "gsynSRSF\n",
      "uHillCoefficient\n"
     ]
    }
   ],
   "source": [
    "for parameter in labels:\n",
    "    name = parameter\n",
    "    print(name)\n",
    "    description = definitions[parameter]\n",
    "    unitcode = punits[parameter]\n",
    "    if len(name) < 4:\n",
    "        if ',' in description:\n",
    "            short_description = description.split(',')[0]\n",
    "        else:\n",
    "            short_description = description\n",
    "        if '(' in short_description:\n",
    "            re.sub(r'\\([^)]*\\)', '', short_description)\n",
    "        idlabel = pretty_name(short_description).replace(' ', '')\n",
    "        if '.' in idlabel:\n",
    "            idlabel = idlabel.replace('.', '')\n",
    "        iri = \"https://bbp.epfl.ch/ontologies/core/parameters/\"+idlabel\n",
    "    else:\n",
    "        iri = \"https://bbp.epfl.ch/ontologies/core/parameters/\"+name\n",
    "    url = rdflib.URIRef(iri)\n",
    "    if name not in done_parameters:\n",
    "        add_term(parameter_ontology, url, name, unitcode, description, pref_label=None, parent_label=parent_label)\n",
    "        done_parameters.append(name)"
   ]
  },
  {
   "cell_type": "code",
   "execution_count": 17,
   "metadata": {},
   "outputs": [
    {
     "data": {
      "text/plain": [
       "<Graph identifier=N8be6d644734048f9a9e160156e54881e (<class 'rdflib.graph.Graph'>)>"
      ]
     },
     "execution_count": 17,
     "metadata": {},
     "output_type": "execute_result"
    }
   ],
   "source": [
    "parameter_ontology.serialize(destination=f\"{base}/parameters_updated.ttl\")"
   ]
  },
  {
   "attachments": {},
   "cell_type": "markdown",
   "metadata": {},
   "source": []
  }
 ],
 "metadata": {
  "kernelspec": {
   "display_name": "kgforge",
   "language": "python",
   "name": "python3"
  },
  "language_info": {
   "codemirror_mode": {
    "name": "ipython",
    "version": 3
   },
   "file_extension": ".py",
   "mimetype": "text/x-python",
   "name": "python",
   "nbconvert_exporter": "python",
   "pygments_lexer": "ipython3",
   "version": "3.8.16"
  },
  "orig_nbformat": 4
 },
 "nbformat": 4,
 "nbformat_minor": 2
}
