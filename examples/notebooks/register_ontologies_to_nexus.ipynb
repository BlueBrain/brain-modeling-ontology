{
 "cells": [
  {
   "cell_type": "markdown",
   "metadata": {},
   "source": [
    "# Register ontology from WebProtégé in Blue Brain Nexus"
   ]
  },
  {
   "cell_type": "markdown",
   "metadata": {},
   "source": [
    "## Introduction"
   ]
  },
  {
   "cell_type": "markdown",
   "metadata": {},
   "source": [
    "- This notebook can be used to register / update ontologies from [WebProtégé](https://bbp.epfl.ch/nexus/webprotege/#projects/list) in the Blue Brain Knowledge Graph\n",
    "- Subsequently, the ontology has to be downloaded from WebProtégé in TTL format\n",
    "- Ontologies are registered in the neurosciencegraph/datamodels project in the Blue Brain Knowledge Graph"
   ]
  },
  {
   "cell_type": "markdown",
   "metadata": {},
   "source": [
    "## Install"
   ]
  },
  {
   "cell_type": "code",
   "execution_count": null,
   "metadata": {
    "scrolled": true
   },
   "outputs": [],
   "source": [
    "# !pip install pyLD\n",
    "# !pip install ontospy\n",
    "# !pip install nexusforge"
   ]
  },
  {
   "cell_type": "markdown",
   "metadata": {},
   "source": [
    "## Import"
   ]
  },
  {
   "cell_type": "code",
   "execution_count": null,
   "metadata": {},
   "outputs": [],
   "source": [
    "import getpass\n",
    "\n",
    "import rdflib\n",
    "from rdflib import Namespace\n",
    "from rdflib.namespace import OWL, RDFS\n",
    "\n",
    "from ontospy import Ontospy\n",
    "\n",
    "from kgforge.core import KnowledgeGraphForge"
   ]
  },
  {
   "cell_type": "code",
   "execution_count": null,
   "metadata": {},
   "outputs": [],
   "source": [
    "import bmo.ontologies as bmo "
   ]
  },
  {
   "cell_type": "markdown",
   "metadata": {},
   "source": [
    "## Configure forge client"
   ]
  },
  {
   "cell_type": "code",
   "execution_count": null,
   "metadata": {},
   "outputs": [],
   "source": [
    "ENDPOINT = \"https://staging.nexus.ocp.bbp.epfl.ch/v1\"\n",
    "BUCKET = \"neurosciencegraph/datamodels\""
   ]
  },
  {
   "cell_type": "code",
   "execution_count": null,
   "metadata": {},
   "outputs": [],
   "source": [
    "TOKEN = getpass.getpass()"
   ]
  },
  {
   "cell_type": "code",
   "execution_count": null,
   "metadata": {},
   "outputs": [],
   "source": [
    "forge = KnowledgeGraphForge(\"https://raw.githubusercontent.com/BlueBrain/nexus-forge/master/examples/notebooks/use-cases/prod-forge-nexus.yml\", \n",
    "                            endpoint=ENDPOINT, bucket=BUCKET, token=TOKEN)"
   ]
  },
  {
   "cell_type": "markdown",
   "metadata": {},
   "source": [
    "## Load ontology"
   ]
  },
  {
   "cell_type": "code",
   "execution_count": null,
   "metadata": {},
   "outputs": [],
   "source": [
    "ONTO_PATH = \"../../ontologies/bmo.ttl\""
   ]
  },
  {
   "cell_type": "markdown",
   "metadata": {},
   "source": [
    "Specify here ontology prefix"
   ]
  },
  {
   "cell_type": "code",
   "execution_count": null,
   "metadata": {},
   "outputs": [],
   "source": [
    "PREFIX = \"https://neuroshapes.org/\""
   ]
  },
  {
   "cell_type": "code",
   "execution_count": null,
   "metadata": {},
   "outputs": [],
   "source": [
    "ontologyspy = Ontospy(ONTO_PATH, verbose=True)"
   ]
  },
  {
   "cell_type": "code",
   "execution_count": null,
   "metadata": {},
   "outputs": [],
   "source": [
    "for x in ontologyspy.stats(): print(f\"{x[0]}: {x[1]}\")"
   ]
  },
  {
   "cell_type": "code",
   "execution_count": null,
   "metadata": {},
   "outputs": [],
   "source": [
    "NSG = Namespace('https://neuroshapes.org/')\n",
    "UBERON = Namespace('http://purl.obolibrary.org/obo/UBERON_')\n",
    "SKOS = Namespace('http://www.w3.org/2004/02/skos/core#')\n",
    "OWL = Namespace('http://www.w3.org/2002/07/owl#')"
   ]
  },
  {
   "cell_type": "code",
   "execution_count": null,
   "metadata": {},
   "outputs": [],
   "source": [
    "ontology_graph = rdflib.Graph()\n",
    "ontology_graph.parse(ONTO_PATH, format=\"turtle\")\n",
    "ontology_graph.bind('nsg', NSG)\n",
    "ontology_graph.bind('skos', SKOS)\n",
    "ontology_graph.bind('owl', OWL)\n",
    "ontology_graph.bind('UBERON', UBERON)"
   ]
  },
  {
   "cell_type": "code",
   "execution_count": null,
   "metadata": {},
   "outputs": [],
   "source": [
    "ontology = bmo.find_ontology_resource(ontology_graph)"
   ]
  },
  {
   "cell_type": "markdown",
   "metadata": {},
   "source": [
    "## Preprocess ontology"
   ]
  },
  {
   "cell_type": "markdown",
   "metadata": {},
   "source": [
    "TODO: Make sure that all the BMO URIs are of the form `{prefix}{labelInCamelCase}`"
   ]
  },
  {
   "cell_type": "markdown",
   "metadata": {},
   "source": [
    "If ontology does not have a label, add if from the title."
   ]
  },
  {
   "cell_type": "code",
   "execution_count": null,
   "metadata": {},
   "outputs": [],
   "source": [
    "if not ontology_graph.label(ontology):\n",
    "    bmo.add_ontology_label(ontology_graph, ontology)"
   ]
  },
  {
   "cell_type": "markdown",
   "metadata": {},
   "source": [
    "Add relations `defines` from the ontology resource to all the classes."
   ]
  },
  {
   "cell_type": "code",
   "execution_count": null,
   "metadata": {},
   "outputs": [],
   "source": [
    "bmo.add_defines_relation(ontology_graph, PREFIX)"
   ]
  },
  {
   "cell_type": "markdown",
   "metadata": {},
   "source": [
    "Convert restrictions on relations between ontology classes to simple (`source_class`, `relation`, `target_class`) triples."
   ]
  },
  {
   "cell_type": "code",
   "execution_count": null,
   "metadata": {
    "scrolled": false
   },
   "outputs": [],
   "source": [
    "bmo.restrictions_to_triples(ontology_graph)"
   ]
  },
  {
   "cell_type": "markdown",
   "metadata": {},
   "source": [
    "Replace webprotege links from `isDefinedBy` relationships with Nexus IDs of respective ontologies"
   ]
  },
  {
   "cell_type": "code",
   "execution_count": null,
   "metadata": {},
   "outputs": [],
   "source": [
    "WEBPROTEGE_TO_NEXUS = {\n",
    "    # Target ontology ID's to define\n",
    "    \"https://bbp.epfl.ch/nexus/webprotege/#projects/755556fa-73b1-4863-96af-e8359109b4ef/edit/Classes\": \"https://bbp.epfl.ch/ontologies/lib/molecular-systems\",\n",
    "    \"https://bbp.epfl.ch/nexus/webprotege/#projects/facad879-18ea-4499-8f44-b154ed6c0020/edit/Classes\": \"https://bbp.epfl.ch/ontologies/lib/e-features\",\n",
    "    # Already exist in Nexus\n",
    "    \"https://bbp.epfl.ch/nexus/webprotege/#projects/c0f3a3e7-6dd2-4802-a00a-61ae366a35bb/edit/Classes\": \"http://bbp.epfl.ch/neurosciencegraph/ontologies/mba\",\n",
    "    \"https://bbp.epfl.ch/nexus/webprotege/#projects/7515dc12-ce84-4eea-ba8e-6262670ac741/edit/Classes\": \"http://bbp.epfl.ch/neurosciencegraph/ontologies/etypes\",\n",
    "    \"https://bbp.epfl.ch/nexus/webprotege/#projects/6a23494a-360c-4152-9e81-fd9828f44db9/edit/Classes\": \"http://bbp.epfl.ch/neurosciencegraph/ontologies/mtypes\"\n",
    "}"
   ]
  },
  {
   "cell_type": "code",
   "execution_count": null,
   "metadata": {},
   "outputs": [],
   "source": [
    "bmo.replace_is_defined_by_uris(ontology_graph, WEBPROTEGE_TO_NEXUS)"
   ]
  },
  {
   "cell_type": "markdown",
   "metadata": {},
   "source": [
    "## Register ontology"
   ]
  },
  {
   "cell_type": "markdown",
   "metadata": {},
   "source": [
    "Get remote context from Nexus"
   ]
  },
  {
   "cell_type": "code",
   "execution_count": null,
   "metadata": {},
   "outputs": [],
   "source": [
    "# context = forge.retrieve(\"https://neuroshapes.org\")\n",
    "context = forge.retrieve(\"https://bbp.neuroshapes.org\")\n",
    "context = forge.as_jsonld(context)[\"@context\"]\n",
    "context[\"label\"] = {\n",
    "      \"@id\": \"rdfs:label\",\n",
    "      \"@language\": \"en\"\n",
    "    }\n",
    "\n",
    "context[\"prefLabel\"] = {\n",
    "      \"@id\": \"skos:prefLabel\",\n",
    "      \"@language\": \"en\"\n",
    "    }\n",
    "\n",
    "context[\"altLabel\"] = {\n",
    "      \"@id\": \"skos:altLabel\",\n",
    "      \"@language\": \"en\"\n",
    "    }\n",
    "\n",
    "context[\"definition\"] = {\n",
    "      \"@id\": \"skos:definition\",\n",
    "      \"@language\": \"en\"\n",
    "    }"
   ]
  },
  {
   "cell_type": "code",
   "execution_count": null,
   "metadata": {},
   "outputs": [],
   "source": [
    "tag = \"<IF ENABLE_TAG IS TRUE, PLEASE PROVIDE A TAG, E.G. THE REVISION NUMBER FROM WEBPROTEGE>\"\n",
    "bmo.register_ontology(forge, ontology_graph, context, ONTO_PATH, PREFIX, tag=None)"
   ]
  },
  {
   "cell_type": "markdown",
   "metadata": {},
   "source": [
    "## Register individual classes"
   ]
  },
  {
   "cell_type": "markdown",
   "metadata": {},
   "source": [
    "Create JSON payloads for individual classes"
   ]
  },
  {
   "cell_type": "code",
   "execution_count": null,
   "metadata": {},
   "outputs": [],
   "source": [
    "bmo.remove_defines_relation(ontology_graph, PREFIX)"
   ]
  },
  {
   "cell_type": "code",
   "execution_count": null,
   "metadata": {
    "scrolled": false
   },
   "outputs": [],
   "source": [
    "class_jsons = bmo.frame_classes(ontology_graph, context, PREFIX)     "
   ]
  },
  {
   "cell_type": "code",
   "execution_count": null,
   "metadata": {},
   "outputs": [],
   "source": [
    "class_jsons[0]"
   ]
  },
  {
   "cell_type": "markdown",
   "metadata": {},
   "source": [
    "Register to Nexus"
   ]
  },
  {
   "cell_type": "code",
   "execution_count": null,
   "metadata": {
    "scrolled": true
   },
   "outputs": [],
   "source": [
    "bmo.register_classes(forge, class_jsons)"
   ]
  }
 ],
 "metadata": {
  "kernelspec": {
   "display_name": "bg",
   "language": "python",
   "name": "bg"
  },
  "language_info": {
   "codemirror_mode": {
    "name": "ipython",
    "version": 3
   },
   "file_extension": ".py",
   "mimetype": "text/x-python",
   "name": "python",
   "nbconvert_exporter": "python",
   "pygments_lexer": "ipython3",
   "version": "3.7.10"
  }
 },
 "nbformat": 4,
 "nbformat_minor": 4
}
