{
 "cells": [
  {
   "cell_type": "markdown",
   "metadata": {},
   "source": [
    "# Query Cell Types Ontology"
   ]
  },
  {
   "cell_type": "markdown",
   "metadata": {},
   "source": [
    "# Context"
   ]
  },
  {
   "cell_type": "markdown",
   "metadata": {},
   "source": [
    "- This notebook has been put together for the MMB demo on 2022-05-30: see [slides](https://docs.google.com/presentation/d/1Ib1_8byK0hVuNS-wPbqmeL5Lcf67m_oegC3-czPw5ws/edit#slide=id.g116ba5ed71e_0_8)\n",
    "- It has been revised following feedback from the meeting held on 2022-07-07: see [slides](https://docs.google.com/presentation/d/1mgCyYjHerLJLV79GM0kqp3_Htxmru_7QGIr5elUETC0/edit#slide=id.g13b4a370a10_0_19) and [JIRA ticket](https://bbpteam.epfl.ch/project/issues/browse/DKE-942)"
   ]
  },
  {
   "cell_type": "markdown",
   "metadata": {},
   "source": [
    "## Imports"
   ]
  },
  {
   "cell_type": "code",
   "execution_count": 86,
   "metadata": {},
   "outputs": [],
   "source": [
    "import json\n",
    "import rdflib\n",
    "import getpass\n",
    "import pandas as pd\n",
    "from rdflib import RDF, RDFS, XSD, OWL, URIRef, BNode, SKOS\n",
    "import pprint\n",
    "from kgforge.core import KnowledgeGraphForge"
   ]
  },
  {
   "cell_type": "markdown",
   "metadata": {},
   "source": [
    "## Setup\n",
    "Get an authentication token"
   ]
  },
  {
   "cell_type": "markdown",
   "metadata": {},
   "source": [
    "For now, the [Nexus web application](https://bbp.epfl.ch/nexus/web) can be used to get a token. We are looking for other simpler alternatives.\n",
    "\n",
    "- Step 1: From the opened web page, click on the login button on the right corner and follow the instructions.\n",
    "\n",
    "![login-ui](./login-ui.png)\n",
    "\n",
    "- Step 2: At the end you’ll see a token button on the right corner. Click on it to copy the token.\n",
    "\n",
    "![login-ui](./copy-token.png)\n"
   ]
  },
  {
   "cell_type": "code",
   "execution_count": null,
   "metadata": {},
   "outputs": [],
   "source": [
    "TOKEN = getpass.getpass()"
   ]
  },
  {
   "cell_type": "code",
   "execution_count": 89,
   "metadata": {},
   "outputs": [],
   "source": [
    "forge = KnowledgeGraphForge(\"https://raw.githubusercontent.com/BlueBrain/nexus-forge/master/examples/notebooks/use-cases/prod-forge-nexus.yml\",\n",
    "                            token=TOKEN,\n",
    "                            searchendpoints={\"sparql\": {\"endpoint\": \"https://bbp.epfl.ch/neurosciencegraph/data/views/aggreg-sp/dataset\"}},\n",
    "                            # endpoint=\"https://staging.nise.bbp.epfl.ch/nexus/v1\",\n",
    "                            \n",
    "                            bucket=\"bbp/atlas\")"
   ]
  },
  {
   "cell_type": "markdown",
   "metadata": {},
   "source": [
    "## Ontologies"
   ]
  },
  {
   "cell_type": "markdown",
   "metadata": {},
   "source": [
    "### Set brain region"
   ]
  },
  {
   "cell_type": "markdown",
   "metadata": {},
   "source": [
    "During the meeting on `2022-05-30`, it was specified that a brain region will serve as entry point when searching for cell types in the MMB context. Hence, this notebook starts by defining a brain region one wants to get cell types for. Since the most complete cell type information is available for the `Cerebral cortex`, this has been set as the default below."
   ]
  },
  {
   "cell_type": "code",
   "execution_count": 87,
   "metadata": {},
   "outputs": [],
   "source": [
    "BRAIN_REGION = \"Cerebral cortex\"\n",
    "# BRAIN_REGION = \"Cerebellum\"\n",
    "# BRAIN_REGION = \"Somatosensory areas\""
   ]
  },
  {
   "cell_type": "markdown",
   "metadata": {},
   "source": [
    "Get brain region id"
   ]
  },
  {
   "cell_type": "code",
   "execution_count": 88,
   "metadata": {},
   "outputs": [],
   "source": [
    "r = forge.search({\"label\": BRAIN_REGION}, cross_bucket=True)"
   ]
  },
  {
   "cell_type": "code",
   "execution_count": 89,
   "metadata": {},
   "outputs": [],
   "source": [
    "brain_region = r[0].id"
   ]
  },
  {
   "cell_type": "code",
   "execution_count": 90,
   "metadata": {},
   "outputs": [
    {
     "data": {
      "text/plain": [
       "'http://api.brain-map.org/api/v2/data/Structure/688'"
      ]
     },
     "execution_count": 90,
     "metadata": {},
     "output_type": "execute_result"
    }
   ],
   "source": [
    "brain_region"
   ]
  },
  {
   "cell_type": "markdown",
   "metadata": {},
   "source": [
    "## Queries"
   ]
  },
  {
   "cell_type": "markdown",
   "metadata": {},
   "source": [
    "### Get brain regions which do have neuron t-types available"
   ]
  },
  {
   "cell_type": "markdown",
   "metadata": {},
   "source": [
    "This query will list brain region labels for which the knowledge graph has neuron t-types available"
   ]
  },
  {
   "cell_type": "code",
   "execution_count": 91,
   "metadata": {},
   "outputs": [],
   "source": [
    "query = f\"\"\"\n",
    "\n",
    "SELECT ?brain_region\n",
    "\n",
    "WHERE {{\n",
    "        ?t_type_id subClassOf* <https://bbp.epfl.ch/ontologies/core/celltypes/NeuronTranscriptomicType> ;\n",
    "                  canHaveBrainRegion ?brain_region_id .        \n",
    "        ?brain_region_id label ?brain_region .\n",
    "}}\n",
    "\"\"\""
   ]
  },
  {
   "cell_type": "code",
   "execution_count": 92,
   "metadata": {},
   "outputs": [],
   "source": [
    "resources = forge.sparql(query, limit=1000)"
   ]
  },
  {
   "cell_type": "code",
   "execution_count": 93,
   "metadata": {},
   "outputs": [],
   "source": [
    "df = forge.as_dataframe(resources)"
   ]
  },
  {
   "cell_type": "code",
   "execution_count": 94,
   "metadata": {},
   "outputs": [
    {
     "data": {
      "text/plain": [
       "{'Agranular insular area',\n",
       " 'Anterior cingulate area',\n",
       " 'Area prostriata',\n",
       " 'Cerebellum',\n",
       " 'Cerebral cortex',\n",
       " 'Entorhinal area',\n",
       " 'Entorhinal area, lateral part',\n",
       " 'Entorhinal area, medial part, dorsal zone',\n",
       " 'Fasciola cinerea',\n",
       " 'Field CA1',\n",
       " 'Field CA2',\n",
       " 'Field CA3',\n",
       " 'Hippocampal formation',\n",
       " 'Hippocampo-amygdalar transition area',\n",
       " 'Hypothalamus',\n",
       " 'Induseum griseum',\n",
       " 'Isocortex',\n",
       " 'Parasubiculum',\n",
       " 'Postsubiculum',\n",
       " 'Presubiculum',\n",
       " 'Prosubiculum',\n",
       " 'Retrohippocampal region',\n",
       " 'Retrosplenial area',\n",
       " 'Retrosplenial area, ventral part',\n",
       " 'Subiculum'}"
      ]
     },
     "execution_count": 94,
     "metadata": {},
     "output_type": "execute_result"
    }
   ],
   "source": [
    "set(df.brain_region)"
   ]
  },
  {
   "cell_type": "markdown",
   "metadata": {
    "tags": []
   },
   "source": [
    "### Get possible t-types for a given brain region"
   ]
  },
  {
   "cell_type": "markdown",
   "metadata": {},
   "source": [
    "This query lists t-types for a given brain region (i.e. the `BRAIN_REGION` specified above). For demonstration purposes, the `limit` parameter on the query has been set to `100`. This can be increased to get all available t-types. E.g. the total number of available t-types for `Cerebral cortex` on `2022-07-08` was `252`."
   ]
  },
  {
   "cell_type": "code",
   "execution_count": 95,
   "metadata": {},
   "outputs": [],
   "source": [
    "query = f\"\"\"\n",
    "\n",
    "SELECT ?brain_region ?t_type\n",
    "\n",
    "WHERE {{\n",
    "        ?t_type_id label ?t_type ;\n",
    "            subClassOf* <https://bbp.epfl.ch/ontologies/core/celltypes/NeuronTranscriptomicType> ;\n",
    "            canHaveBrainRegion <{brain_region}> .        \n",
    "        <{brain_region}> label ?brain_region . \n",
    "}}\n",
    "\"\"\""
   ]
  },
  {
   "cell_type": "code",
   "execution_count": 96,
   "metadata": {},
   "outputs": [],
   "source": [
    "resources = forge.sparql(query, limit=1000)"
   ]
  },
  {
   "cell_type": "code",
   "execution_count": 97,
   "metadata": {},
   "outputs": [],
   "source": [
    "df = forge.as_dataframe(resources)"
   ]
  },
  {
   "cell_type": "code",
   "execution_count": 98,
   "metadata": {},
   "outputs": [
    {
     "data": {
      "text/html": [
       "<div>\n",
       "<style scoped>\n",
       "    .dataframe tbody tr th:only-of-type {\n",
       "        vertical-align: middle;\n",
       "    }\n",
       "\n",
       "    .dataframe tbody tr th {\n",
       "        vertical-align: top;\n",
       "    }\n",
       "\n",
       "    .dataframe thead th {\n",
       "        text-align: right;\n",
       "    }\n",
       "</style>\n",
       "<table border=\"1\" class=\"dataframe\">\n",
       "  <thead>\n",
       "    <tr style=\"text-align: right;\">\n",
       "      <th></th>\n",
       "      <th>brain_region</th>\n",
       "      <th>t_type</th>\n",
       "    </tr>\n",
       "  </thead>\n",
       "  <tbody>\n",
       "    <tr>\n",
       "      <th>0</th>\n",
       "      <td>Cerebral cortex</td>\n",
       "      <td>275_NP PPP</td>\n",
       "    </tr>\n",
       "    <tr>\n",
       "      <th>1</th>\n",
       "      <td>Cerebral cortex</td>\n",
       "      <td>289_L6 CT CTX</td>\n",
       "    </tr>\n",
       "    <tr>\n",
       "      <th>2</th>\n",
       "      <td>Cerebral cortex</td>\n",
       "      <td>293_L6 CT CTX</td>\n",
       "    </tr>\n",
       "    <tr>\n",
       "      <th>3</th>\n",
       "      <td>Cerebral cortex</td>\n",
       "      <td>286_L6 CT CTX</td>\n",
       "    </tr>\n",
       "    <tr>\n",
       "      <th>4</th>\n",
       "      <td>Cerebral cortex</td>\n",
       "      <td>281_L6 CT CTX</td>\n",
       "    </tr>\n",
       "  </tbody>\n",
       "</table>\n",
       "</div>"
      ],
      "text/plain": [
       "      brain_region         t_type\n",
       "0  Cerebral cortex     275_NP PPP\n",
       "1  Cerebral cortex  289_L6 CT CTX\n",
       "2  Cerebral cortex  293_L6 CT CTX\n",
       "3  Cerebral cortex  286_L6 CT CTX\n",
       "4  Cerebral cortex  281_L6 CT CTX"
      ]
     },
     "execution_count": 98,
     "metadata": {},
     "output_type": "execute_result"
    }
   ],
   "source": [
    "df.head()"
   ]
  },
  {
   "cell_type": "markdown",
   "metadata": {
    "tags": []
   },
   "source": [
    "### Get possible met-type combinations plus excitatory/inhibitory category for a given brain region"
   ]
  },
  {
   "cell_type": "markdown",
   "metadata": {},
   "source": [
    "This query returns possible met-type combinations together with the excitatory/inhibitory categories for the brain region one has set above. For each m- e and t- and transmitter-type, the identifier and the current version in the knowledge graph are also being returned. For a simplified view, please run the `df.drop()` cell below. It will only show the labels of a given type. The `version` indicates the revision of a given type in the knowledge graph and has been included following the Cell Types Meeting on 2022-07-07 to help with reproducibility (see also this JIRA ticket: [DKE-942](https://bbpteam.epfl.ch/project/issues/browse/DKE-942))."
   ]
  },
  {
   "cell_type": "code",
   "execution_count": 99,
   "metadata": {},
   "outputs": [],
   "source": [
    "query = f\"\"\"\n",
    "\n",
    "SELECT ?brain_region ?brain_region_version ?transmitter ?transmitter_id ?transmitter_version ?t_type ?t_type_id ?t_type_version ?m_type ?m_type_id ?m_type_version ?e_type ?e_type_id ?e_type_version\n",
    "\n",
    "WHERE {{\n",
    "        ?t_type_id label ?t_type ;\n",
    "                canHaveBrainRegion <{brain_region}> ;\n",
    "                _rev ?t_type_version .\n",
    "        \n",
    "        <{brain_region}> label ?brain_region ;\n",
    "            _rev ?brain_region_version .\n",
    "        \n",
    "        ?m_type_id label ?m_type ;\n",
    "            _rev ?m_type_version ;\n",
    "            subClassOf* MType ;\n",
    "            canHaveTType ?t_type_id ;\n",
    "            subClassOf* / hasNeurotransmitterType ?transmitter_id .\n",
    "        \n",
    "        ?transmitter_id label ?transmitter ;        \n",
    "            _rev ?transmitter_version .\n",
    "\n",
    "        ?e_type_id label ?e_type ;\n",
    "            _rev ?e_type_version ;\n",
    "            subClassOf* EType ;\n",
    "            subClassOf* / canHaveMType ?m_type_id ;\n",
    "            subClassOf* / canHaveTType ?t_type_id .            \n",
    "}}\n",
    "\"\"\""
   ]
  },
  {
   "cell_type": "code",
   "execution_count": 100,
   "metadata": {},
   "outputs": [],
   "source": [
    "resources = forge.sparql(query, limit=1000)"
   ]
  },
  {
   "cell_type": "code",
   "execution_count": 101,
   "metadata": {},
   "outputs": [],
   "source": [
    "df = forge.as_dataframe(resources)"
   ]
  },
  {
   "cell_type": "code",
   "execution_count": 102,
   "metadata": {},
   "outputs": [
    {
     "data": {
      "text/html": [
       "<div>\n",
       "<style scoped>\n",
       "    .dataframe tbody tr th:only-of-type {\n",
       "        vertical-align: middle;\n",
       "    }\n",
       "\n",
       "    .dataframe tbody tr th {\n",
       "        vertical-align: top;\n",
       "    }\n",
       "\n",
       "    .dataframe thead th {\n",
       "        text-align: right;\n",
       "    }\n",
       "</style>\n",
       "<table border=\"1\" class=\"dataframe\">\n",
       "  <thead>\n",
       "    <tr style=\"text-align: right;\">\n",
       "      <th></th>\n",
       "      <th>brain_region</th>\n",
       "      <th>brain_region_version</th>\n",
       "      <th>e_type</th>\n",
       "      <th>e_type_id</th>\n",
       "      <th>e_type_version</th>\n",
       "      <th>m_type</th>\n",
       "      <th>m_type_id</th>\n",
       "      <th>m_type_version</th>\n",
       "      <th>t_type</th>\n",
       "      <th>t_type_id</th>\n",
       "      <th>t_type_version</th>\n",
       "      <th>transmitter</th>\n",
       "      <th>transmitter_id</th>\n",
       "      <th>transmitter_version</th>\n",
       "    </tr>\n",
       "  </thead>\n",
       "  <tbody>\n",
       "    <tr>\n",
       "      <th>0</th>\n",
       "      <td>Cerebral cortex</td>\n",
       "      <td>7</td>\n",
       "      <td>dNAC</td>\n",
       "      <td>http://uri.interlex.org/base/ilx_0738205</td>\n",
       "      <td>21</td>\n",
       "      <td>L23_LBC</td>\n",
       "      <td>http://uri.interlex.org/base/ilx_0383202</td>\n",
       "      <td>27</td>\n",
       "      <td>9_Lamp5 Lhx6</td>\n",
       "      <td>https://bbp.epfl.ch/ontologies/core/ttypes/9_L...</td>\n",
       "      <td>1</td>\n",
       "      <td>Inhibitory</td>\n",
       "      <td>https://bbp.epfl.ch/ontologies/core/bmo/Inhibi...</td>\n",
       "      <td>1</td>\n",
       "    </tr>\n",
       "    <tr>\n",
       "      <th>1</th>\n",
       "      <td>Cerebral cortex</td>\n",
       "      <td>7</td>\n",
       "      <td>dNAC</td>\n",
       "      <td>http://uri.interlex.org/base/ilx_0738205</td>\n",
       "      <td>21</td>\n",
       "      <td>L23_LBC</td>\n",
       "      <td>http://uri.interlex.org/base/ilx_0383202</td>\n",
       "      <td>27</td>\n",
       "      <td>12_Lamp5</td>\n",
       "      <td>https://bbp.epfl.ch/ontologies/core/ttypes/12_...</td>\n",
       "      <td>1</td>\n",
       "      <td>Inhibitory</td>\n",
       "      <td>https://bbp.epfl.ch/ontologies/core/bmo/Inhibi...</td>\n",
       "      <td>1</td>\n",
       "    </tr>\n",
       "    <tr>\n",
       "      <th>2</th>\n",
       "      <td>Cerebral cortex</td>\n",
       "      <td>7</td>\n",
       "      <td>dNAC</td>\n",
       "      <td>http://uri.interlex.org/base/ilx_0738205</td>\n",
       "      <td>21</td>\n",
       "      <td>L23_LBC</td>\n",
       "      <td>http://uri.interlex.org/base/ilx_0383202</td>\n",
       "      <td>27</td>\n",
       "      <td>6_Lamp5 Lhx6</td>\n",
       "      <td>https://bbp.epfl.ch/ontologies/core/ttypes/6_L...</td>\n",
       "      <td>1</td>\n",
       "      <td>Inhibitory</td>\n",
       "      <td>https://bbp.epfl.ch/ontologies/core/bmo/Inhibi...</td>\n",
       "      <td>1</td>\n",
       "    </tr>\n",
       "    <tr>\n",
       "      <th>3</th>\n",
       "      <td>Cerebral cortex</td>\n",
       "      <td>7</td>\n",
       "      <td>dNAC</td>\n",
       "      <td>http://uri.interlex.org/base/ilx_0738205</td>\n",
       "      <td>21</td>\n",
       "      <td>L23_LBC</td>\n",
       "      <td>http://uri.interlex.org/base/ilx_0383202</td>\n",
       "      <td>27</td>\n",
       "      <td>5_Lamp5 Lhx6</td>\n",
       "      <td>https://bbp.epfl.ch/ontologies/core/ttypes/5_L...</td>\n",
       "      <td>1</td>\n",
       "      <td>Inhibitory</td>\n",
       "      <td>https://bbp.epfl.ch/ontologies/core/bmo/Inhibi...</td>\n",
       "      <td>1</td>\n",
       "    </tr>\n",
       "    <tr>\n",
       "      <th>4</th>\n",
       "      <td>Cerebral cortex</td>\n",
       "      <td>7</td>\n",
       "      <td>dNAC</td>\n",
       "      <td>http://uri.interlex.org/base/ilx_0738205</td>\n",
       "      <td>21</td>\n",
       "      <td>L23_LBC</td>\n",
       "      <td>http://uri.interlex.org/base/ilx_0383202</td>\n",
       "      <td>27</td>\n",
       "      <td>7_Lamp5 Lhx6</td>\n",
       "      <td>https://bbp.epfl.ch/ontologies/core/ttypes/7_L...</td>\n",
       "      <td>1</td>\n",
       "      <td>Inhibitory</td>\n",
       "      <td>https://bbp.epfl.ch/ontologies/core/bmo/Inhibi...</td>\n",
       "      <td>1</td>\n",
       "    </tr>\n",
       "  </tbody>\n",
       "</table>\n",
       "</div>"
      ],
      "text/plain": [
       "      brain_region  brain_region_version e_type  \\\n",
       "0  Cerebral cortex                     7   dNAC   \n",
       "1  Cerebral cortex                     7   dNAC   \n",
       "2  Cerebral cortex                     7   dNAC   \n",
       "3  Cerebral cortex                     7   dNAC   \n",
       "4  Cerebral cortex                     7   dNAC   \n",
       "\n",
       "                                  e_type_id  e_type_version   m_type  \\\n",
       "0  http://uri.interlex.org/base/ilx_0738205              21  L23_LBC   \n",
       "1  http://uri.interlex.org/base/ilx_0738205              21  L23_LBC   \n",
       "2  http://uri.interlex.org/base/ilx_0738205              21  L23_LBC   \n",
       "3  http://uri.interlex.org/base/ilx_0738205              21  L23_LBC   \n",
       "4  http://uri.interlex.org/base/ilx_0738205              21  L23_LBC   \n",
       "\n",
       "                                  m_type_id  m_type_version        t_type  \\\n",
       "0  http://uri.interlex.org/base/ilx_0383202              27  9_Lamp5 Lhx6   \n",
       "1  http://uri.interlex.org/base/ilx_0383202              27      12_Lamp5   \n",
       "2  http://uri.interlex.org/base/ilx_0383202              27  6_Lamp5 Lhx6   \n",
       "3  http://uri.interlex.org/base/ilx_0383202              27  5_Lamp5 Lhx6   \n",
       "4  http://uri.interlex.org/base/ilx_0383202              27  7_Lamp5 Lhx6   \n",
       "\n",
       "                                           t_type_id  t_type_version  \\\n",
       "0  https://bbp.epfl.ch/ontologies/core/ttypes/9_L...               1   \n",
       "1  https://bbp.epfl.ch/ontologies/core/ttypes/12_...               1   \n",
       "2  https://bbp.epfl.ch/ontologies/core/ttypes/6_L...               1   \n",
       "3  https://bbp.epfl.ch/ontologies/core/ttypes/5_L...               1   \n",
       "4  https://bbp.epfl.ch/ontologies/core/ttypes/7_L...               1   \n",
       "\n",
       "  transmitter                                     transmitter_id  \\\n",
       "0  Inhibitory  https://bbp.epfl.ch/ontologies/core/bmo/Inhibi...   \n",
       "1  Inhibitory  https://bbp.epfl.ch/ontologies/core/bmo/Inhibi...   \n",
       "2  Inhibitory  https://bbp.epfl.ch/ontologies/core/bmo/Inhibi...   \n",
       "3  Inhibitory  https://bbp.epfl.ch/ontologies/core/bmo/Inhibi...   \n",
       "4  Inhibitory  https://bbp.epfl.ch/ontologies/core/bmo/Inhibi...   \n",
       "\n",
       "   transmitter_version  \n",
       "0                    1  \n",
       "1                    1  \n",
       "2                    1  \n",
       "3                    1  \n",
       "4                    1  "
      ]
     },
     "execution_count": 102,
     "metadata": {},
     "output_type": "execute_result"
    }
   ],
   "source": [
    "df.head()"
   ]
  },
  {
   "cell_type": "code",
   "execution_count": 103,
   "metadata": {},
   "outputs": [
    {
     "data": {
      "text/html": [
       "<div>\n",
       "<style scoped>\n",
       "    .dataframe tbody tr th:only-of-type {\n",
       "        vertical-align: middle;\n",
       "    }\n",
       "\n",
       "    .dataframe tbody tr th {\n",
       "        vertical-align: top;\n",
       "    }\n",
       "\n",
       "    .dataframe thead th {\n",
       "        text-align: right;\n",
       "    }\n",
       "</style>\n",
       "<table border=\"1\" class=\"dataframe\">\n",
       "  <thead>\n",
       "    <tr style=\"text-align: right;\">\n",
       "      <th></th>\n",
       "      <th>brain_region</th>\n",
       "      <th>e_type</th>\n",
       "      <th>m_type</th>\n",
       "      <th>t_type</th>\n",
       "      <th>transmitter</th>\n",
       "    </tr>\n",
       "  </thead>\n",
       "  <tbody>\n",
       "    <tr>\n",
       "      <th>0</th>\n",
       "      <td>Cerebral cortex</td>\n",
       "      <td>dNAC</td>\n",
       "      <td>L23_LBC</td>\n",
       "      <td>9_Lamp5 Lhx6</td>\n",
       "      <td>Inhibitory</td>\n",
       "    </tr>\n",
       "    <tr>\n",
       "      <th>1</th>\n",
       "      <td>Cerebral cortex</td>\n",
       "      <td>dNAC</td>\n",
       "      <td>L23_LBC</td>\n",
       "      <td>12_Lamp5</td>\n",
       "      <td>Inhibitory</td>\n",
       "    </tr>\n",
       "    <tr>\n",
       "      <th>2</th>\n",
       "      <td>Cerebral cortex</td>\n",
       "      <td>dNAC</td>\n",
       "      <td>L23_LBC</td>\n",
       "      <td>6_Lamp5 Lhx6</td>\n",
       "      <td>Inhibitory</td>\n",
       "    </tr>\n",
       "    <tr>\n",
       "      <th>3</th>\n",
       "      <td>Cerebral cortex</td>\n",
       "      <td>dNAC</td>\n",
       "      <td>L23_LBC</td>\n",
       "      <td>5_Lamp5 Lhx6</td>\n",
       "      <td>Inhibitory</td>\n",
       "    </tr>\n",
       "    <tr>\n",
       "      <th>4</th>\n",
       "      <td>Cerebral cortex</td>\n",
       "      <td>dNAC</td>\n",
       "      <td>L23_LBC</td>\n",
       "      <td>7_Lamp5 Lhx6</td>\n",
       "      <td>Inhibitory</td>\n",
       "    </tr>\n",
       "    <tr>\n",
       "      <th>...</th>\n",
       "      <td>...</td>\n",
       "      <td>...</td>\n",
       "      <td>...</td>\n",
       "      <td>...</td>\n",
       "      <td>...</td>\n",
       "    </tr>\n",
       "    <tr>\n",
       "      <th>995</th>\n",
       "      <td>Cerebral cortex</td>\n",
       "      <td>bNAC</td>\n",
       "      <td>L23_NBC</td>\n",
       "      <td>115_Pvalb</td>\n",
       "      <td>Inhibitory</td>\n",
       "    </tr>\n",
       "    <tr>\n",
       "      <th>996</th>\n",
       "      <td>Cerebral cortex</td>\n",
       "      <td>cIR</td>\n",
       "      <td>L23_NBC</td>\n",
       "      <td>110_Pvalb</td>\n",
       "      <td>Inhibitory</td>\n",
       "    </tr>\n",
       "    <tr>\n",
       "      <th>997</th>\n",
       "      <td>Cerebral cortex</td>\n",
       "      <td>cIR</td>\n",
       "      <td>L23_NBC</td>\n",
       "      <td>115_Pvalb</td>\n",
       "      <td>Inhibitory</td>\n",
       "    </tr>\n",
       "    <tr>\n",
       "      <th>998</th>\n",
       "      <td>Cerebral cortex</td>\n",
       "      <td>cAC</td>\n",
       "      <td>L23_SBC</td>\n",
       "      <td>25_Sncg</td>\n",
       "      <td>Inhibitory</td>\n",
       "    </tr>\n",
       "    <tr>\n",
       "      <th>999</th>\n",
       "      <td>Cerebral cortex</td>\n",
       "      <td>cAC</td>\n",
       "      <td>L23_SBC</td>\n",
       "      <td>22_Sncg</td>\n",
       "      <td>Inhibitory</td>\n",
       "    </tr>\n",
       "  </tbody>\n",
       "</table>\n",
       "<p>1000 rows × 5 columns</p>\n",
       "</div>"
      ],
      "text/plain": [
       "        brain_region e_type   m_type        t_type transmitter\n",
       "0    Cerebral cortex   dNAC  L23_LBC  9_Lamp5 Lhx6  Inhibitory\n",
       "1    Cerebral cortex   dNAC  L23_LBC      12_Lamp5  Inhibitory\n",
       "2    Cerebral cortex   dNAC  L23_LBC  6_Lamp5 Lhx6  Inhibitory\n",
       "3    Cerebral cortex   dNAC  L23_LBC  5_Lamp5 Lhx6  Inhibitory\n",
       "4    Cerebral cortex   dNAC  L23_LBC  7_Lamp5 Lhx6  Inhibitory\n",
       "..               ...    ...      ...           ...         ...\n",
       "995  Cerebral cortex   bNAC  L23_NBC     115_Pvalb  Inhibitory\n",
       "996  Cerebral cortex    cIR  L23_NBC     110_Pvalb  Inhibitory\n",
       "997  Cerebral cortex    cIR  L23_NBC     115_Pvalb  Inhibitory\n",
       "998  Cerebral cortex    cAC  L23_SBC       25_Sncg  Inhibitory\n",
       "999  Cerebral cortex    cAC  L23_SBC       22_Sncg  Inhibitory\n",
       "\n",
       "[1000 rows x 5 columns]"
      ]
     },
     "execution_count": 103,
     "metadata": {},
     "output_type": "execute_result"
    }
   ],
   "source": [
    "df.drop([\"brain_region_version\", \"e_type_id\", \"e_type_version\", \"m_type_id\", \"m_type_version\", \"t_type_id\", \"t_type_version\", \"transmitter_id\", \"transmitter_version\"], axis=1)"
   ]
  },
  {
   "cell_type": "markdown",
   "metadata": {},
   "source": [
    "### Get possible t-types for a given brain region and all the brain regions which are part of that brain region"
   ]
  },
  {
   "cell_type": "markdown",
   "metadata": {},
   "source": [
    "This query returns possible t-types for the brain region one has set above and all the brain regions that are part of that brain region. E.g. if one specifies `Cerebral cortex` as brain region, this query would return t-types from the `Cerebral cortex` but also t-types for the `Isocortex` or the `Hippocampal formation` since they are both part of the `Cerebral cortex`."
   ]
  },
  {
   "cell_type": "code",
   "execution_count": 104,
   "metadata": {},
   "outputs": [],
   "source": [
    "query = f\"\"\"\n",
    "\n",
    "SELECT ?brain_region ?brain_region_version ?t_type ?t_type_id ?t_type_version\n",
    "\n",
    "WHERE {{\n",
    "        ?t_type_id label ?t_type ;\n",
    "                canHaveBrainRegion ?brain_region_id ;\n",
    "                _rev ?t_type_version .\n",
    "        \n",
    "        ?brain_region_id label ?brain_region ;\n",
    "            ^hasPart* <{brain_region}> ;\n",
    "            _rev ?brain_region_version .            \n",
    "}}\n",
    "\"\"\""
   ]
  },
  {
   "cell_type": "code",
   "execution_count": 105,
   "metadata": {},
   "outputs": [],
   "source": [
    "resources = forge.sparql(query, limit=500)"
   ]
  },
  {
   "cell_type": "code",
   "execution_count": 106,
   "metadata": {},
   "outputs": [],
   "source": [
    "df = forge.as_dataframe(resources)"
   ]
  },
  {
   "cell_type": "code",
   "execution_count": 107,
   "metadata": {},
   "outputs": [
    {
     "data": {
      "text/plain": [
       "387"
      ]
     },
     "execution_count": 107,
     "metadata": {},
     "output_type": "execute_result"
    }
   ],
   "source": [
    "len(set(df.t_type))"
   ]
  },
  {
   "cell_type": "code",
   "execution_count": 108,
   "metadata": {},
   "outputs": [
    {
     "data": {
      "text/html": [
       "<div>\n",
       "<style scoped>\n",
       "    .dataframe tbody tr th:only-of-type {\n",
       "        vertical-align: middle;\n",
       "    }\n",
       "\n",
       "    .dataframe tbody tr th {\n",
       "        vertical-align: top;\n",
       "    }\n",
       "\n",
       "    .dataframe thead th {\n",
       "        text-align: right;\n",
       "    }\n",
       "</style>\n",
       "<table border=\"1\" class=\"dataframe\">\n",
       "  <thead>\n",
       "    <tr style=\"text-align: right;\">\n",
       "      <th></th>\n",
       "      <th>brain_region</th>\n",
       "      <th>brain_region_version</th>\n",
       "      <th>t_type</th>\n",
       "      <th>t_type_id</th>\n",
       "      <th>t_type_version</th>\n",
       "    </tr>\n",
       "  </thead>\n",
       "  <tbody>\n",
       "    <tr>\n",
       "      <th>0</th>\n",
       "      <td>Dentate gyrus</td>\n",
       "      <td>8</td>\n",
       "      <td>361_DG</td>\n",
       "      <td>https://bbp.epfl.ch/ontologies/core/ttypes/361_DG</td>\n",
       "      <td>1</td>\n",
       "    </tr>\n",
       "    <tr>\n",
       "      <th>1</th>\n",
       "      <td>Dentate gyrus</td>\n",
       "      <td>8</td>\n",
       "      <td>363_DG</td>\n",
       "      <td>https://bbp.epfl.ch/ontologies/core/ttypes/363_DG</td>\n",
       "      <td>1</td>\n",
       "    </tr>\n",
       "    <tr>\n",
       "      <th>2</th>\n",
       "      <td>Dentate gyrus</td>\n",
       "      <td>8</td>\n",
       "      <td>362_DG</td>\n",
       "      <td>https://bbp.epfl.ch/ontologies/core/ttypes/362_DG</td>\n",
       "      <td>1</td>\n",
       "    </tr>\n",
       "    <tr>\n",
       "      <th>3</th>\n",
       "      <td>Dentate gyrus</td>\n",
       "      <td>8</td>\n",
       "      <td>364_DG</td>\n",
       "      <td>https://bbp.epfl.ch/ontologies/core/ttypes/364_DG</td>\n",
       "      <td>1</td>\n",
       "    </tr>\n",
       "    <tr>\n",
       "      <th>4</th>\n",
       "      <td>Induseum griseum</td>\n",
       "      <td>8</td>\n",
       "      <td>359_CA2-IG-FC</td>\n",
       "      <td>https://bbp.epfl.ch/ontologies/core/ttypes/359...</td>\n",
       "      <td>1</td>\n",
       "    </tr>\n",
       "    <tr>\n",
       "      <th>...</th>\n",
       "      <td>...</td>\n",
       "      <td>...</td>\n",
       "      <td>...</td>\n",
       "      <td>...</td>\n",
       "      <td>...</td>\n",
       "    </tr>\n",
       "    <tr>\n",
       "      <th>415</th>\n",
       "      <td>Cerebral cortex</td>\n",
       "      <td>7</td>\n",
       "      <td>5_Lamp5 Lhx6</td>\n",
       "      <td>https://bbp.epfl.ch/ontologies/core/ttypes/5_L...</td>\n",
       "      <td>1</td>\n",
       "    </tr>\n",
       "    <tr>\n",
       "      <th>416</th>\n",
       "      <td>Cerebral cortex</td>\n",
       "      <td>7</td>\n",
       "      <td>7_Lamp5 Lhx6</td>\n",
       "      <td>https://bbp.epfl.ch/ontologies/core/ttypes/7_L...</td>\n",
       "      <td>1</td>\n",
       "    </tr>\n",
       "    <tr>\n",
       "      <th>417</th>\n",
       "      <td>Cerebral cortex</td>\n",
       "      <td>7</td>\n",
       "      <td>10_Lamp5</td>\n",
       "      <td>https://bbp.epfl.ch/ontologies/core/ttypes/10_...</td>\n",
       "      <td>1</td>\n",
       "    </tr>\n",
       "    <tr>\n",
       "      <th>418</th>\n",
       "      <td>Cerebral cortex</td>\n",
       "      <td>7</td>\n",
       "      <td>2_Meis2</td>\n",
       "      <td>https://bbp.epfl.ch/ontologies/core/ttypes/2_M...</td>\n",
       "      <td>1</td>\n",
       "    </tr>\n",
       "    <tr>\n",
       "      <th>419</th>\n",
       "      <td>Cerebral cortex</td>\n",
       "      <td>7</td>\n",
       "      <td>11_Lamp5</td>\n",
       "      <td>https://bbp.epfl.ch/ontologies/core/ttypes/11_...</td>\n",
       "      <td>1</td>\n",
       "    </tr>\n",
       "  </tbody>\n",
       "</table>\n",
       "<p>420 rows × 5 columns</p>\n",
       "</div>"
      ],
      "text/plain": [
       "         brain_region  brain_region_version         t_type  \\\n",
       "0       Dentate gyrus                     8         361_DG   \n",
       "1       Dentate gyrus                     8         363_DG   \n",
       "2       Dentate gyrus                     8         362_DG   \n",
       "3       Dentate gyrus                     8         364_DG   \n",
       "4    Induseum griseum                     8  359_CA2-IG-FC   \n",
       "..                ...                   ...            ...   \n",
       "415   Cerebral cortex                     7   5_Lamp5 Lhx6   \n",
       "416   Cerebral cortex                     7   7_Lamp5 Lhx6   \n",
       "417   Cerebral cortex                     7       10_Lamp5   \n",
       "418   Cerebral cortex                     7        2_Meis2   \n",
       "419   Cerebral cortex                     7       11_Lamp5   \n",
       "\n",
       "                                             t_type_id  t_type_version  \n",
       "0    https://bbp.epfl.ch/ontologies/core/ttypes/361_DG               1  \n",
       "1    https://bbp.epfl.ch/ontologies/core/ttypes/363_DG               1  \n",
       "2    https://bbp.epfl.ch/ontologies/core/ttypes/362_DG               1  \n",
       "3    https://bbp.epfl.ch/ontologies/core/ttypes/364_DG               1  \n",
       "4    https://bbp.epfl.ch/ontologies/core/ttypes/359...               1  \n",
       "..                                                 ...             ...  \n",
       "415  https://bbp.epfl.ch/ontologies/core/ttypes/5_L...               1  \n",
       "416  https://bbp.epfl.ch/ontologies/core/ttypes/7_L...               1  \n",
       "417  https://bbp.epfl.ch/ontologies/core/ttypes/10_...               1  \n",
       "418  https://bbp.epfl.ch/ontologies/core/ttypes/2_M...               1  \n",
       "419  https://bbp.epfl.ch/ontologies/core/ttypes/11_...               1  \n",
       "\n",
       "[420 rows x 5 columns]"
      ]
     },
     "execution_count": 108,
     "metadata": {},
     "output_type": "execute_result"
    }
   ],
   "source": [
    "df"
   ]
  },
  {
   "cell_type": "markdown",
   "metadata": {},
   "source": [
    "### Get m-types together with their transmitter type (sClass)"
   ]
  },
  {
   "cell_type": "code",
   "execution_count": 109,
   "metadata": {},
   "outputs": [],
   "source": [
    "query = f\"\"\"\n",
    "\n",
    "SELECT ?transmitter ?m_type\n",
    "\n",
    "WHERE {{\n",
    "        ?m_type_id label ?m_type ;\n",
    "            subClassOf* MType ;\n",
    "            subClassOf* / hasNeurotransmitterType / label ?transmitter .           \n",
    "}}\n",
    "\"\"\""
   ]
  },
  {
   "cell_type": "code",
   "execution_count": 110,
   "metadata": {},
   "outputs": [],
   "source": [
    "resources = forge.sparql(query, limit=100)"
   ]
  },
  {
   "cell_type": "code",
   "execution_count": 111,
   "metadata": {},
   "outputs": [],
   "source": [
    "df = forge.as_dataframe(resources)"
   ]
  },
  {
   "cell_type": "code",
   "execution_count": 112,
   "metadata": {},
   "outputs": [
    {
     "data": {
      "text/html": [
       "<div>\n",
       "<style scoped>\n",
       "    .dataframe tbody tr th:only-of-type {\n",
       "        vertical-align: middle;\n",
       "    }\n",
       "\n",
       "    .dataframe tbody tr th {\n",
       "        vertical-align: top;\n",
       "    }\n",
       "\n",
       "    .dataframe thead th {\n",
       "        text-align: right;\n",
       "    }\n",
       "</style>\n",
       "<table border=\"1\" class=\"dataframe\">\n",
       "  <thead>\n",
       "    <tr style=\"text-align: right;\">\n",
       "      <th></th>\n",
       "      <th>m_type</th>\n",
       "      <th>transmitter</th>\n",
       "    </tr>\n",
       "  </thead>\n",
       "  <tbody>\n",
       "    <tr>\n",
       "      <th>0</th>\n",
       "      <td>L23_LBC</td>\n",
       "      <td>Inhibitory</td>\n",
       "    </tr>\n",
       "    <tr>\n",
       "      <th>1</th>\n",
       "      <td>L23_NBC</td>\n",
       "      <td>Inhibitory</td>\n",
       "    </tr>\n",
       "    <tr>\n",
       "      <th>2</th>\n",
       "      <td>L23_SBC</td>\n",
       "      <td>Inhibitory</td>\n",
       "    </tr>\n",
       "    <tr>\n",
       "      <th>3</th>\n",
       "      <td>L4_LBC</td>\n",
       "      <td>Inhibitory</td>\n",
       "    </tr>\n",
       "    <tr>\n",
       "      <th>4</th>\n",
       "      <td>L4_NBC</td>\n",
       "      <td>Inhibitory</td>\n",
       "    </tr>\n",
       "  </tbody>\n",
       "</table>\n",
       "</div>"
      ],
      "text/plain": [
       "    m_type transmitter\n",
       "0  L23_LBC  Inhibitory\n",
       "1  L23_NBC  Inhibitory\n",
       "2  L23_SBC  Inhibitory\n",
       "3   L4_LBC  Inhibitory\n",
       "4   L4_NBC  Inhibitory"
      ]
     },
     "execution_count": 112,
     "metadata": {},
     "output_type": "execute_result"
    }
   ],
   "source": [
    "df.head()"
   ]
  },
  {
   "cell_type": "markdown",
   "metadata": {},
   "source": [
    "### Get m-types of pyramidal cells (mClass)"
   ]
  },
  {
   "cell_type": "code",
   "execution_count": 113,
   "metadata": {},
   "outputs": [],
   "source": [
    "query = f\"\"\"\n",
    "\n",
    "SELECT ?mClass ?m_type\n",
    "\n",
    "WHERE {{\n",
    "        ?m_type_id label ?m_type ;\n",
    "            subClassOf* MType ;\n",
    "            subClassOf* <https://neuroshapes.org/PyramidalNeuron> .           \n",
    "}}\n",
    "\"\"\""
   ]
  },
  {
   "cell_type": "code",
   "execution_count": 114,
   "metadata": {},
   "outputs": [],
   "source": [
    "resources = forge.sparql(query, limit=100)"
   ]
  },
  {
   "cell_type": "code",
   "execution_count": 115,
   "metadata": {},
   "outputs": [],
   "source": [
    "df = forge.as_dataframe(resources)"
   ]
  },
  {
   "cell_type": "code",
   "execution_count": 116,
   "metadata": {},
   "outputs": [
    {
     "data": {
      "text/html": [
       "<div>\n",
       "<style scoped>\n",
       "    .dataframe tbody tr th:only-of-type {\n",
       "        vertical-align: middle;\n",
       "    }\n",
       "\n",
       "    .dataframe tbody tr th {\n",
       "        vertical-align: top;\n",
       "    }\n",
       "\n",
       "    .dataframe thead th {\n",
       "        text-align: right;\n",
       "    }\n",
       "</style>\n",
       "<table border=\"1\" class=\"dataframe\">\n",
       "  <thead>\n",
       "    <tr style=\"text-align: right;\">\n",
       "      <th></th>\n",
       "      <th>m_type</th>\n",
       "    </tr>\n",
       "  </thead>\n",
       "  <tbody>\n",
       "    <tr>\n",
       "      <th>0</th>\n",
       "      <td>L3_TPC:C</td>\n",
       "    </tr>\n",
       "    <tr>\n",
       "      <th>1</th>\n",
       "      <td>L5_TPC:B</td>\n",
       "    </tr>\n",
       "    <tr>\n",
       "      <th>2</th>\n",
       "      <td>L5_TPC:A</td>\n",
       "    </tr>\n",
       "    <tr>\n",
       "      <th>3</th>\n",
       "      <td>L3_TPC:A</td>\n",
       "    </tr>\n",
       "    <tr>\n",
       "      <th>4</th>\n",
       "      <td>L2_TPC:B</td>\n",
       "    </tr>\n",
       "  </tbody>\n",
       "</table>\n",
       "</div>"
      ],
      "text/plain": [
       "     m_type\n",
       "0  L3_TPC:C\n",
       "1  L5_TPC:B\n",
       "2  L5_TPC:A\n",
       "3  L3_TPC:A\n",
       "4  L2_TPC:B"
      ]
     },
     "execution_count": 116,
     "metadata": {},
     "output_type": "execute_result"
    }
   ],
   "source": [
    "df.head()"
   ]
  },
  {
   "cell_type": "markdown",
   "metadata": {
    "tags": []
   },
   "source": [
    "### Get m-types of interneurons (mClass)"
   ]
  },
  {
   "cell_type": "markdown",
   "metadata": {},
   "source": [
    "`TODO`: While we do have interneuron as a class, the subclass relationship remains to be added."
   ]
  },
  {
   "cell_type": "code",
   "execution_count": 121,
   "metadata": {},
   "outputs": [],
   "source": [
    "query = f\"\"\"\n",
    "\n",
    "SELECT ?mClass ?m_type\n",
    "\n",
    "WHERE {{\n",
    "        ?m_type_id label ?m_type ;\n",
    "            subClassOf* MType ;\n",
    "            subClassOf* <https://neuroshapes.org/Interneuron> .           \n",
    "}}\n",
    "\"\"\""
   ]
  },
  {
   "cell_type": "code",
   "execution_count": 122,
   "metadata": {},
   "outputs": [],
   "source": [
    "resources = forge.sparql(query, limit=100)"
   ]
  },
  {
   "cell_type": "code",
   "execution_count": 123,
   "metadata": {},
   "outputs": [],
   "source": [
    "df = forge.as_dataframe(resources)"
   ]
  },
  {
   "cell_type": "code",
   "execution_count": 124,
   "metadata": {},
   "outputs": [
    {
     "data": {
      "text/html": [
       "<div>\n",
       "<style scoped>\n",
       "    .dataframe tbody tr th:only-of-type {\n",
       "        vertical-align: middle;\n",
       "    }\n",
       "\n",
       "    .dataframe tbody tr th {\n",
       "        vertical-align: top;\n",
       "    }\n",
       "\n",
       "    .dataframe thead th {\n",
       "        text-align: right;\n",
       "    }\n",
       "</style>\n",
       "<table border=\"1\" class=\"dataframe\">\n",
       "  <thead>\n",
       "    <tr style=\"text-align: right;\">\n",
       "      <th></th>\n",
       "    </tr>\n",
       "  </thead>\n",
       "  <tbody>\n",
       "  </tbody>\n",
       "</table>\n",
       "</div>"
      ],
      "text/plain": [
       "Empty DataFrame\n",
       "Columns: []\n",
       "Index: []"
      ]
     },
     "execution_count": 124,
     "metadata": {},
     "output_type": "execute_result"
    }
   ],
   "source": [
    "df.head()"
   ]
  },
  {
   "cell_type": "markdown",
   "metadata": {},
   "source": [
    "### Get m-types with a given morphology and the morphology definition"
   ]
  },
  {
   "cell_type": "markdown",
   "metadata": {},
   "source": [
    "This query returns m-types which have a given morphological shape. The cell morphologies were taken from the [Phenotype and Trait Ontology](https://ontobee.org/ontology/PATO) (this was done following the request of Georges Khazen who wanted to include the `PATO` deinfitions of morphologies).\n",
    "Set `MORPHOLOGY` below to one of the following:\n",
    "\n",
    "- `standard pyramidal morphology`\n",
    "- `pyramidal family morphology`\n",
    "- `tufted pyramidal morphology`\n",
    "- `basket cell morphology`\n",
    "- `chandelier cell morphology`\n",
    "- `neurogliaform morphology`\n",
    "- `Martinotti morphology`\n",
    "- `cortical bipolar morphology`\n",
    "- `bitufted cell morphology`"
   ]
  },
  {
   "cell_type": "code",
   "execution_count": 125,
   "metadata": {},
   "outputs": [],
   "source": [
    "MORPHOLOGY = \"basket cell morphology\""
   ]
  },
  {
   "cell_type": "code",
   "execution_count": 126,
   "metadata": {},
   "outputs": [],
   "source": [
    "query = f\"\"\"\n",
    "\n",
    "SELECT ?cell ?definition\n",
    "\n",
    "WHERE {{\n",
    "        ?cell_id subClassOf* / hasMorphologicalPhenotype ?pato_id ;\n",
    "                  label ?cell .\n",
    "        ?pato_id subClassOf* / label \"{MORPHOLOGY}\" .\n",
    "        ?parent_pato_id label \"{MORPHOLOGY}\" ;\n",
    "                <http://purl.obolibrary.org/obo/IAO_0000115> ?definition .\n",
    "}}\n",
    "\"\"\""
   ]
  },
  {
   "cell_type": "code",
   "execution_count": 127,
   "metadata": {},
   "outputs": [],
   "source": [
    "resources = forge.sparql(query, limit=100)"
   ]
  },
  {
   "cell_type": "code",
   "execution_count": 128,
   "metadata": {},
   "outputs": [],
   "source": [
    "df = forge.as_dataframe(resources)"
   ]
  },
  {
   "cell_type": "code",
   "execution_count": 129,
   "metadata": {},
   "outputs": [
    {
     "data": {
      "text/html": [
       "<div>\n",
       "<style scoped>\n",
       "    .dataframe tbody tr th:only-of-type {\n",
       "        vertical-align: middle;\n",
       "    }\n",
       "\n",
       "    .dataframe tbody tr th {\n",
       "        vertical-align: top;\n",
       "    }\n",
       "\n",
       "    .dataframe thead th {\n",
       "        text-align: right;\n",
       "    }\n",
       "</style>\n",
       "<table border=\"1\" class=\"dataframe\">\n",
       "  <thead>\n",
       "    <tr style=\"text-align: right;\">\n",
       "      <th></th>\n",
       "    </tr>\n",
       "  </thead>\n",
       "  <tbody>\n",
       "  </tbody>\n",
       "</table>\n",
       "</div>"
      ],
      "text/plain": [
       "Empty DataFrame\n",
       "Columns: []\n",
       "Index: []"
      ]
     },
     "execution_count": 129,
     "metadata": {},
     "output_type": "execute_result"
    }
   ],
   "source": [
    "df.head()"
   ]
  },
  {
   "cell_type": "markdown",
   "metadata": {},
   "source": [
    "### Get t-types from a paper specific paper"
   ]
  },
  {
   "cell_type": "markdown",
   "metadata": {},
   "source": [
    "The [Cell Types and Missing Data - Version 1](https://docs.google.com/spreadsheets/d/1iUgqPszKkYQgkJlmpQSkeyFWcEoOxovsBkoLPtA3qPg/edit#gid=1180597294) spreadsheet which served as source for the `Cell Types Ontology` - lists paper identifiers on the `Notes` sheet. These references were added to the respective t-types.\n",
    "Set `PAPER` below to one of the following:\n",
    "\n",
    "- Yao et al. 2021: `https://www.sciencedirect.com/science/article/pii/S0092867421005018?dgcid=rss_sd_all`\n",
    "- Gokce 2016: `https://www.ncbi.nlm.nih.gov/labs/pmc/articles/PMC5004635/`\n",
    "- Kozareva et al. 2021: `https://www.nature.com/articles/s41586-021-03220-z`\n",
    "- Chen et al. 2017: `https://www.sciencedirect.com/science/article/pii/S2211124717303212?via%3Dihub`\n",
    "- Kalish et al. 2018: `https://www.pnas.org/content/115/5/E1051`"
   ]
  },
  {
   "cell_type": "code",
   "execution_count": 130,
   "metadata": {},
   "outputs": [],
   "source": [
    "PAPER = \"https://www.sciencedirect.com/science/article/pii/S0092867421005018?dgcid=rss_sd_all\""
   ]
  },
  {
   "cell_type": "code",
   "execution_count": 131,
   "metadata": {},
   "outputs": [],
   "source": [
    "query = f\"\"\"\n",
    "\n",
    "SELECT ?label ?brain_region\n",
    "\n",
    "WHERE {{\n",
    "        ?id seeAlso <{PAPER}> ;\n",
    "            label ?label .\n",
    "        OPTIONAL {{ ?id canHaveBrainRegion / label ?brain_region }} .\n",
    "}}\n",
    "\"\"\""
   ]
  },
  {
   "cell_type": "code",
   "execution_count": 132,
   "metadata": {},
   "outputs": [],
   "source": [
    "resources = forge.sparql(query, limit=100)"
   ]
  },
  {
   "cell_type": "code",
   "execution_count": 133,
   "metadata": {},
   "outputs": [],
   "source": [
    "df = forge.as_dataframe(resources)"
   ]
  },
  {
   "cell_type": "code",
   "execution_count": 134,
   "metadata": {},
   "outputs": [
    {
     "data": {
      "text/html": [
       "<div>\n",
       "<style scoped>\n",
       "    .dataframe tbody tr th:only-of-type {\n",
       "        vertical-align: middle;\n",
       "    }\n",
       "\n",
       "    .dataframe tbody tr th {\n",
       "        vertical-align: top;\n",
       "    }\n",
       "\n",
       "    .dataframe thead th {\n",
       "        text-align: right;\n",
       "    }\n",
       "</style>\n",
       "<table border=\"1\" class=\"dataframe\">\n",
       "  <thead>\n",
       "    <tr style=\"text-align: right;\">\n",
       "      <th></th>\n",
       "      <th>label</th>\n",
       "      <th>brain_region</th>\n",
       "    </tr>\n",
       "  </thead>\n",
       "  <tbody>\n",
       "    <tr>\n",
       "      <th>0</th>\n",
       "      <td>128_L2 IT APr</td>\n",
       "      <td>Area prostriata</td>\n",
       "    </tr>\n",
       "    <tr>\n",
       "      <th>1</th>\n",
       "      <td>129_L2/3 IT POST-PRE</td>\n",
       "      <td>Postsubiculum</td>\n",
       "    </tr>\n",
       "    <tr>\n",
       "      <th>2</th>\n",
       "      <td>129_L2/3 IT POST-PRE</td>\n",
       "      <td>Presubiculum</td>\n",
       "    </tr>\n",
       "    <tr>\n",
       "      <th>3</th>\n",
       "      <td>132_L2 IT RSPv-POST-PRE</td>\n",
       "      <td>Postsubiculum</td>\n",
       "    </tr>\n",
       "    <tr>\n",
       "      <th>4</th>\n",
       "      <td>132_L2 IT RSPv-POST-PRE</td>\n",
       "      <td>Presubiculum</td>\n",
       "    </tr>\n",
       "  </tbody>\n",
       "</table>\n",
       "</div>"
      ],
      "text/plain": [
       "                     label     brain_region\n",
       "0            128_L2 IT APr  Area prostriata\n",
       "1     129_L2/3 IT POST-PRE    Postsubiculum\n",
       "2     129_L2/3 IT POST-PRE     Presubiculum\n",
       "3  132_L2 IT RSPv-POST-PRE    Postsubiculum\n",
       "4  132_L2 IT RSPv-POST-PRE     Presubiculum"
      ]
     },
     "execution_count": 134,
     "metadata": {},
     "output_type": "execute_result"
    }
   ],
   "source": [
    "df.head()"
   ]
  },
  {
   "cell_type": "markdown",
   "metadata": {},
   "source": [
    "### Get the m- e- and t-type placeholders"
   ]
  },
  {
   "cell_type": "markdown",
   "metadata": {},
   "source": [
    "One of the requirements specified during the meeting on `2022-05-30` was to have a placeholder class for each of the types. We thus implemented an m- e- and t-type placeholder class."
   ]
  },
  {
   "cell_type": "code",
   "execution_count": 135,
   "metadata": {},
   "outputs": [],
   "source": [
    "query = \"\"\"\n",
    "\n",
    "SELECT ?id ?label\n",
    "\n",
    "WHERE {\n",
    "        ?id label ?label .\n",
    "        FILTER (CONTAINS(STR(?label), 'Placeholder'))\n",
    "}\n",
    "\"\"\""
   ]
  },
  {
   "cell_type": "code",
   "execution_count": 136,
   "metadata": {},
   "outputs": [],
   "source": [
    "resources = forge.sparql(query, limit=100)"
   ]
  },
  {
   "cell_type": "code",
   "execution_count": 137,
   "metadata": {},
   "outputs": [],
   "source": [
    "df = forge.as_dataframe(resources)"
   ]
  },
  {
   "cell_type": "code",
   "execution_count": 138,
   "metadata": {},
   "outputs": [
    {
     "data": {
      "text/html": [
       "<div>\n",
       "<style scoped>\n",
       "    .dataframe tbody tr th:only-of-type {\n",
       "        vertical-align: middle;\n",
       "    }\n",
       "\n",
       "    .dataframe tbody tr th {\n",
       "        vertical-align: top;\n",
       "    }\n",
       "\n",
       "    .dataframe thead th {\n",
       "        text-align: right;\n",
       "    }\n",
       "</style>\n",
       "<table border=\"1\" class=\"dataframe\">\n",
       "  <thead>\n",
       "    <tr style=\"text-align: right;\">\n",
       "      <th></th>\n",
       "      <th>id</th>\n",
       "      <th>label</th>\n",
       "    </tr>\n",
       "  </thead>\n",
       "  <tbody>\n",
       "    <tr>\n",
       "      <th>0</th>\n",
       "      <td>https://bbp.epfl.ch/ontologies/core/bmo/MTypeP...</td>\n",
       "      <td>MType Placeholder</td>\n",
       "    </tr>\n",
       "    <tr>\n",
       "      <th>1</th>\n",
       "      <td>https://bbp.epfl.ch/ontologies/core/bmo/TTypeP...</td>\n",
       "      <td>TType Placeholder</td>\n",
       "    </tr>\n",
       "    <tr>\n",
       "      <th>2</th>\n",
       "      <td>https://bbp.epfl.ch/ontologies/core/bmo/ETypeP...</td>\n",
       "      <td>EType Placeholder</td>\n",
       "    </tr>\n",
       "  </tbody>\n",
       "</table>\n",
       "</div>"
      ],
      "text/plain": [
       "                                                  id              label\n",
       "0  https://bbp.epfl.ch/ontologies/core/bmo/MTypeP...  MType Placeholder\n",
       "1  https://bbp.epfl.ch/ontologies/core/bmo/TTypeP...  TType Placeholder\n",
       "2  https://bbp.epfl.ch/ontologies/core/bmo/ETypeP...  EType Placeholder"
      ]
     },
     "execution_count": 138,
     "metadata": {},
     "output_type": "execute_result"
    }
   ],
   "source": [
    "df"
   ]
  },
  {
   "cell_type": "markdown",
   "metadata": {},
   "source": [
    "### Get all cell type combinations and probabilities for a given brain region"
   ]
  },
  {
   "cell_type": "markdown",
   "metadata": {},
   "source": [
    "This query cell type combinations for a given brain region (i.e. the `BRAIN_REGION` specified above). For demonstration purposes, the `limit` parameter on the query has been set to `1000`. This can be increased to get all available cell type combinations."
   ]
  },
  {
   "cell_type": "code",
   "execution_count": 139,
   "metadata": {},
   "outputs": [],
   "source": [
    "query = f\"\"\"\n",
    "\n",
    "SELECT ?brain_region ?m_type ?e_type ?molecular_type ?probability\n",
    "\n",
    "WHERE {{\n",
    "        ?probability_id hasTarget / hasSource / hasSomaLocatedIn ?brain_region_id ;\n",
    "            hasBody / value ?probability ;\n",
    "            hasTarget ?m_type_target ;\n",
    "            hasTarget ?e_type_target ;\n",
    "            hasTarget ?molecular_type_target .\n",
    "        ?brain_region_id label ?brain_region ;\n",
    "            ^hasPart* <{brain_region}> .\n",
    "        ?m_type_target hasSource / a MType ;\n",
    "            hasSource / label ?m_type .\n",
    "        ?e_type_target hasSource / a EType ;\n",
    "            hasSource / label ?e_type .\n",
    "        ?molecular_type_target hasSource / a NeuronMolecularType ;\n",
    "            hasSource / label ?molecular_type .\n",
    "}}\n",
    "\"\"\""
   ]
  },
  {
   "cell_type": "code",
   "execution_count": 140,
   "metadata": {},
   "outputs": [],
   "source": [
    "resources = forge.sparql(query, limit=1000)"
   ]
  },
  {
   "cell_type": "code",
   "execution_count": 141,
   "metadata": {},
   "outputs": [],
   "source": [
    "df = forge.as_dataframe(resources)"
   ]
  },
  {
   "cell_type": "code",
   "execution_count": 142,
   "metadata": {},
   "outputs": [
    {
     "data": {
      "text/html": [
       "<div>\n",
       "<style scoped>\n",
       "    .dataframe tbody tr th:only-of-type {\n",
       "        vertical-align: middle;\n",
       "    }\n",
       "\n",
       "    .dataframe tbody tr th {\n",
       "        vertical-align: top;\n",
       "    }\n",
       "\n",
       "    .dataframe thead th {\n",
       "        text-align: right;\n",
       "    }\n",
       "</style>\n",
       "<table border=\"1\" class=\"dataframe\">\n",
       "  <thead>\n",
       "    <tr style=\"text-align: right;\">\n",
       "      <th></th>\n",
       "      <th>brain_region</th>\n",
       "      <th>e_type</th>\n",
       "      <th>m_type</th>\n",
       "      <th>molecular_type</th>\n",
       "      <th>probability</th>\n",
       "    </tr>\n",
       "  </thead>\n",
       "  <tbody>\n",
       "    <tr>\n",
       "      <th>0</th>\n",
       "      <td>Isocortex</td>\n",
       "      <td>cAC</td>\n",
       "      <td>L4_LBC</td>\n",
       "      <td>VIP+</td>\n",
       "      <td>0.462554113</td>\n",
       "    </tr>\n",
       "    <tr>\n",
       "      <th>1</th>\n",
       "      <td>Isocortex</td>\n",
       "      <td>cAC</td>\n",
       "      <td>L23_NBC</td>\n",
       "      <td>Serpinf1+</td>\n",
       "      <td>0.0</td>\n",
       "    </tr>\n",
       "    <tr>\n",
       "      <th>2</th>\n",
       "      <td>Isocortex</td>\n",
       "      <td>cAC</td>\n",
       "      <td>L23_BP</td>\n",
       "      <td>PV+</td>\n",
       "      <td>0.0</td>\n",
       "    </tr>\n",
       "    <tr>\n",
       "      <th>3</th>\n",
       "      <td>Isocortex</td>\n",
       "      <td>cAC</td>\n",
       "      <td>L23_BTC</td>\n",
       "      <td>PV+</td>\n",
       "      <td>0.5</td>\n",
       "    </tr>\n",
       "    <tr>\n",
       "      <th>4</th>\n",
       "      <td>Isocortex</td>\n",
       "      <td>cAC</td>\n",
       "      <td>L23_ChC</td>\n",
       "      <td>PV+</td>\n",
       "      <td>0.333333333</td>\n",
       "    </tr>\n",
       "  </tbody>\n",
       "</table>\n",
       "</div>"
      ],
      "text/plain": [
       "  brain_region e_type   m_type molecular_type  probability\n",
       "0    Isocortex    cAC   L4_LBC           VIP+  0.462554113\n",
       "1    Isocortex    cAC  L23_NBC      Serpinf1+          0.0\n",
       "2    Isocortex    cAC   L23_BP            PV+          0.0\n",
       "3    Isocortex    cAC  L23_BTC            PV+          0.5\n",
       "4    Isocortex    cAC  L23_ChC            PV+  0.333333333"
      ]
     },
     "execution_count": 142,
     "metadata": {},
     "output_type": "execute_result"
    }
   ],
   "source": [
    "df.head()"
   ]
  },
  {
   "cell_type": "markdown",
   "metadata": {},
   "source": [
    "----"
   ]
  },
  {
   "cell_type": "markdown",
   "metadata": {},
   "source": [
    "## 2022-08-31 Workshop queries"
   ]
  },
  {
   "cell_type": "markdown",
   "metadata": {},
   "source": [
    "### Get Atlas Release info"
   ]
  },
  {
   "cell_type": "markdown",
   "metadata": {},
   "source": [
    "#### Get the atlas release resource\n",
    "These atlas releases can be explored through the atlas web app:\n",
    "\n",
    "* dev: https://bluebrainatlas.kcpdev.bbp.epfl.ch/atlas\n",
    "* prod: https://bbp.epfl.ch/atlas\n"
   ]
  },
  {
   "cell_type": "code",
   "execution_count": 118,
   "metadata": {},
   "outputs": [],
   "source": [
    "BBP_Mouse_Brain_Atlas_Release = \"https://bbp.epfl.ch/neurosciencegraph/data/4906ab85-694f-469d-962f-c0174e901885\" # output of the BBP Annotation Atlas pipeline\n",
    "Allen_Mouse_CCF_v2_v3_hybrid =  \"https://bbp.epfl.ch/neurosciencegraph/data/e2e500ec-fe7e-4888-88b9-b72425315dda\" # Csaba 1 version: This atlas release uses the brain parcellation resulting of the hybridation between CCFv2 and CCFv3 and integrating the splitting of layer 2 and layer 3. The average brain template and the ontology is common across CCFv2 and CCFv3.\n",
    "ALLEN_CCFV3_Atlas_Release =  \"https://bbp.epfl.ch/neurosciencegraph/data/831a626a-c0ae-4691-8ce8-cfb7491345d9\" # original Allen\n",
    "ALLEN_CCFV2_Atlas_Release = \"https://bbp.epfl.ch/neurosciencegraph/data/dd114f81-ba1f-47b1-8900-e497597f06ac\"\n",
    "\n",
    "atlas_release_id = BBP_Mouse_Brain_Atlas_Release"
   ]
  },
  {
   "cell_type": "code",
   "execution_count": 97,
   "metadata": {},
   "outputs": [],
   "source": [
    "atlas_release = forge.retrieve(atlas_release_id, version=1)"
   ]
  },
  {
   "cell_type": "code",
   "execution_count": null,
   "metadata": {},
   "outputs": [],
   "source": [
    "print(atlas_release)"
   ]
  },
  {
   "cell_type": "code",
   "execution_count": 99,
   "metadata": {},
   "outputs": [
    {
     "data": {
      "text/plain": [
       "4"
      ]
     },
     "execution_count": 99,
     "metadata": {},
     "output_type": "execute_result"
    }
   ],
   "source": [
    "atlas_release._store_metadata[\"_rev\"]"
   ]
  },
  {
   "cell_type": "markdown",
   "metadata": {},
   "source": [
    "#### Get the atlas hierarchy"
   ]
  },
  {
   "cell_type": "code",
   "execution_count": 100,
   "metadata": {},
   "outputs": [],
   "source": [
    "parcellation_ontology = forge.retrieve(atlas_release.parcellationOntology.id, cross_bucket=True)"
   ]
  },
  {
   "cell_type": "code",
   "execution_count": null,
   "metadata": {},
   "outputs": [],
   "source": [
    "print(parcellation_ontology)"
   ]
  },
  {
   "cell_type": "code",
   "execution_count": null,
   "metadata": {},
   "outputs": [],
   "source": [
    "forge.download(parcellation_ontology, \"distribution.contentUrl\", \".\", overwrite=True, cross_bucket=True)"
   ]
  },
  {
   "cell_type": "markdown",
   "metadata": {},
   "source": [
    "#### Get parcellation (annotation) volume"
   ]
  },
  {
   "cell_type": "code",
   "execution_count": null,
   "metadata": {},
   "outputs": [],
   "source": [
    "parcellation_volume = forge.retrieve(atlas_release.parcellationVolume.id)"
   ]
  },
  {
   "cell_type": "code",
   "execution_count": null,
   "metadata": {},
   "outputs": [],
   "source": [
    "print(parcellation_volume)"
   ]
  },
  {
   "cell_type": "code",
   "execution_count": null,
   "metadata": {},
   "outputs": [],
   "source": [
    "forge.download(parcellation_volume, \"distribution.contentUrl\", \".\", overwrite=True)"
   ]
  },
  {
   "cell_type": "markdown",
   "metadata": {},
   "source": [
    "#### Get orientation field volume"
   ]
  },
  {
   "cell_type": "code",
   "execution_count": null,
   "metadata": {},
   "outputs": [],
   "source": [
    "query = {\n",
    "          \"type\":\"CellOrientationField\", \n",
    "          \"atlasRelease\":{\"@id\":atlas_release_id},\n",
    "          \"brainLocation\":{\"brainRegion\":{\"id\":\"http://api.brain-map.org/api/v2/data/Structure/997\"}} # root brain region\n",
    "        }\n",
    "cell_orientation_field = forge.search(query)\n",
    "print(f\"{len(cell_orientation_field)} found\")"
   ]
  },
  {
   "cell_type": "code",
   "execution_count": null,
   "metadata": {},
   "outputs": [],
   "source": [
    "print(cell_orientation_field)"
   ]
  },
  {
   "cell_type": "code",
   "execution_count": 67,
   "metadata": {},
   "outputs": [],
   "source": [
    "forge.download(cell_orientation_field, \"distribution.contentUrl\", \".\", overwrite=True)"
   ]
  },
  {
   "cell_type": "code",
   "execution_count": null,
   "metadata": {},
   "outputs": [],
   "source": []
  },
  {
   "cell_type": "markdown",
   "metadata": {},
   "source": [
    "### Get the mtype density nrrd file for each region (region is an input)"
   ]
  },
  {
   "cell_type": "markdown",
   "metadata": {},
   "source": [
    "`TODO`: Inlude the `atlas release` and the `brain region`. Can there be multiple? Is it for the whole brain?"
   ]
  },
  {
   "cell_type": "code",
   "execution_count": 124,
   "metadata": {
    "tags": []
   },
   "outputs": [],
   "source": [
    "# Some atlas might not have densities associated\n",
    "query = f\"\"\"\n",
    "\n",
    "SELECT ?mtype_label ?nrrd_file ?contentUrl \n",
    "\n",
    "WHERE {{\n",
    "        ?s a MTypeDensity ;\n",
    "            atlasRelease <{atlas_release_id}>; \n",
    "            annotation / hasBody / label ?mtype_label ;\n",
    "            distribution ?distribution .\n",
    "        ?distribution name ?nrrd_file ;\n",
    "            contentUrl ?contentUrl .\n",
    "}}\n",
    "\"\"\""
   ]
  },
  {
   "cell_type": "code",
   "execution_count": 125,
   "metadata": {},
   "outputs": [],
   "source": [
    "resources = forge.sparql(query, limit=1000)"
   ]
  },
  {
   "cell_type": "code",
   "execution_count": 126,
   "metadata": {},
   "outputs": [],
   "source": [
    "df = forge.as_dataframe(resources)"
   ]
  },
  {
   "cell_type": "code",
   "execution_count": 127,
   "metadata": {
    "tags": []
   },
   "outputs": [
    {
     "data": {
      "text/html": [
       "<div>\n",
       "<style scoped>\n",
       "    .dataframe tbody tr th:only-of-type {\n",
       "        vertical-align: middle;\n",
       "    }\n",
       "\n",
       "    .dataframe tbody tr th {\n",
       "        vertical-align: top;\n",
       "    }\n",
       "\n",
       "    .dataframe thead th {\n",
       "        text-align: right;\n",
       "    }\n",
       "</style>\n",
       "<table border=\"1\" class=\"dataframe\">\n",
       "  <thead>\n",
       "    <tr style=\"text-align: right;\">\n",
       "      <th></th>\n",
       "      <th>contentUrl</th>\n",
       "      <th>mtype_label</th>\n",
       "      <th>nrrd_file</th>\n",
       "    </tr>\n",
       "  </thead>\n",
       "  <tbody>\n",
       "    <tr>\n",
       "      <th>0</th>\n",
       "      <td>https://bbp.epfl.ch/nexus/v1/files/bbp/atlas/d...</td>\n",
       "      <td>L5_TPC:A</td>\n",
       "      <td>[cell_density]L5_TPC:A.nrrd</td>\n",
       "    </tr>\n",
       "    <tr>\n",
       "      <th>1</th>\n",
       "      <td>https://bbp.epfl.ch/nexus/v1/files/bbp/atlas/5...</td>\n",
       "      <td>L2_IPC</td>\n",
       "      <td>[cell_density]L2_IPC.nrrd</td>\n",
       "    </tr>\n",
       "    <tr>\n",
       "      <th>2</th>\n",
       "      <td>https://bbp.epfl.ch/nexus/v1/files/bbp/atlas/1...</td>\n",
       "      <td>L4_SSC</td>\n",
       "      <td>[cell_density]L4_SSC.nrrd</td>\n",
       "    </tr>\n",
       "    <tr>\n",
       "      <th>3</th>\n",
       "      <td>https://bbp.epfl.ch/nexus/v1/files/bbp/atlas/8...</td>\n",
       "      <td>L4_UPC</td>\n",
       "      <td>[cell_density]L4_UPC.nrrd</td>\n",
       "    </tr>\n",
       "    <tr>\n",
       "      <th>4</th>\n",
       "      <td>https://bbp.epfl.ch/nexus/v1/files/bbp/atlas/6...</td>\n",
       "      <td>L5_UPC</td>\n",
       "      <td>[cell_density]L5_UPC.nrrd</td>\n",
       "    </tr>\n",
       "  </tbody>\n",
       "</table>\n",
       "</div>"
      ],
      "text/plain": [
       "                                          contentUrl mtype_label  \\\n",
       "0  https://bbp.epfl.ch/nexus/v1/files/bbp/atlas/d...    L5_TPC:A   \n",
       "1  https://bbp.epfl.ch/nexus/v1/files/bbp/atlas/5...      L2_IPC   \n",
       "2  https://bbp.epfl.ch/nexus/v1/files/bbp/atlas/1...      L4_SSC   \n",
       "3  https://bbp.epfl.ch/nexus/v1/files/bbp/atlas/8...      L4_UPC   \n",
       "4  https://bbp.epfl.ch/nexus/v1/files/bbp/atlas/6...      L5_UPC   \n",
       "\n",
       "                     nrrd_file  \n",
       "0  [cell_density]L5_TPC:A.nrrd  \n",
       "1    [cell_density]L2_IPC.nrrd  \n",
       "2    [cell_density]L4_SSC.nrrd  \n",
       "3    [cell_density]L4_UPC.nrrd  \n",
       "4    [cell_density]L5_UPC.nrrd  "
      ]
     },
     "execution_count": 127,
     "metadata": {},
     "output_type": "execute_result"
    }
   ],
   "source": [
    "df.head()"
   ]
  },
  {
   "cell_type": "code",
   "execution_count": null,
   "metadata": {},
   "outputs": [],
   "source": [
    "forge.download(resources, \"contentUrl\", \".\", overwrite=True)"
   ]
  },
  {
   "cell_type": "markdown",
   "metadata": {},
   "source": [
    "### Get the list of mtypes for each region (region is an input)"
   ]
  },
  {
   "cell_type": "markdown",
   "metadata": {},
   "source": [
    "#### The below query will get m-types from the specified brain region plus m-types from all child brain regions (this was added during the workshop to illustrate the `down the tree` generalisation idea)"
   ]
  },
  {
   "cell_type": "code",
   "execution_count": 148,
   "metadata": {},
   "outputs": [],
   "source": [
    "BRAIN_REGION = \"Cerebral cortex\""
   ]
  },
  {
   "cell_type": "markdown",
   "metadata": {},
   "source": [
    "Get brain region id"
   ]
  },
  {
   "cell_type": "code",
   "execution_count": 149,
   "metadata": {},
   "outputs": [],
   "source": [
    "r = forge.search({\"label\": BRAIN_REGION}, cross_bucket=True)"
   ]
  },
  {
   "cell_type": "code",
   "execution_count": 150,
   "metadata": {},
   "outputs": [],
   "source": [
    "brain_region = r[0].id"
   ]
  },
  {
   "cell_type": "code",
   "execution_count": 151,
   "metadata": {},
   "outputs": [
    {
     "data": {
      "text/plain": [
       "'http://api.brain-map.org/api/v2/data/Structure/688'"
      ]
     },
     "execution_count": 151,
     "metadata": {},
     "output_type": "execute_result"
    }
   ],
   "source": [
    "brain_region"
   ]
  },
  {
   "cell_type": "code",
   "execution_count": 152,
   "metadata": {},
   "outputs": [],
   "source": [
    "query = f\"\"\"\n",
    "\n",
    "SELECT ?m_type ?m_type_id ?m_type_version ?brain_region\n",
    "\n",
    "WHERE {{\n",
    "        ?m_type_id label ?m_type ;\n",
    "            _rev ?m_type_version ;\n",
    "            subClassOf* MType ;\n",
    "            hasSomaLocatedIn ?brain_region_id .\n",
    "        \n",
    "        ?brain_region_id label ?brain_region ;\n",
    "            ^hasPart* <{brain_region}> ;\n",
    "            _rev ?brain_region_version . \n",
    "}}\n",
    "\"\"\""
   ]
  },
  {
   "cell_type": "code",
   "execution_count": 153,
   "metadata": {},
   "outputs": [],
   "source": [
    "resources = forge.sparql(query, limit=1000)"
   ]
  },
  {
   "cell_type": "code",
   "execution_count": 154,
   "metadata": {},
   "outputs": [],
   "source": [
    "df = forge.as_dataframe(resources)"
   ]
  },
  {
   "cell_type": "code",
   "execution_count": 155,
   "metadata": {},
   "outputs": [
    {
     "data": {
      "text/html": [
       "<div>\n",
       "<style scoped>\n",
       "    .dataframe tbody tr th:only-of-type {\n",
       "        vertical-align: middle;\n",
       "    }\n",
       "\n",
       "    .dataframe tbody tr th {\n",
       "        vertical-align: top;\n",
       "    }\n",
       "\n",
       "    .dataframe thead th {\n",
       "        text-align: right;\n",
       "    }\n",
       "</style>\n",
       "<table border=\"1\" class=\"dataframe\">\n",
       "  <thead>\n",
       "    <tr style=\"text-align: right;\">\n",
       "      <th></th>\n",
       "      <th>brain_region</th>\n",
       "      <th>m_type</th>\n",
       "      <th>m_type_id</th>\n",
       "      <th>m_type_version</th>\n",
       "    </tr>\n",
       "  </thead>\n",
       "  <tbody>\n",
       "    <tr>\n",
       "      <th>0</th>\n",
       "      <td>Isocortex</td>\n",
       "      <td>L5_TPC:B</td>\n",
       "      <td>http://uri.interlex.org/base/ilx_0381364</td>\n",
       "      <td>30</td>\n",
       "    </tr>\n",
       "    <tr>\n",
       "      <th>1</th>\n",
       "      <td>Isocortex</td>\n",
       "      <td>L5_TPC:A</td>\n",
       "      <td>http://uri.interlex.org/base/ilx_0381365</td>\n",
       "      <td>28</td>\n",
       "    </tr>\n",
       "    <tr>\n",
       "      <th>2</th>\n",
       "      <td>Isocortex</td>\n",
       "      <td>L3_TPC:A</td>\n",
       "      <td>http://uri.interlex.org/base/ilx_0381366</td>\n",
       "      <td>28</td>\n",
       "    </tr>\n",
       "    <tr>\n",
       "      <th>3</th>\n",
       "      <td>Isocortex</td>\n",
       "      <td>L2_TPC:B</td>\n",
       "      <td>http://uri.interlex.org/base/ilx_0381367</td>\n",
       "      <td>30</td>\n",
       "    </tr>\n",
       "    <tr>\n",
       "      <th>4</th>\n",
       "      <td>Isocortex</td>\n",
       "      <td>L3_TPC:B</td>\n",
       "      <td>http://uri.interlex.org/base/ilx_0381368</td>\n",
       "      <td>27</td>\n",
       "    </tr>\n",
       "  </tbody>\n",
       "</table>\n",
       "</div>"
      ],
      "text/plain": [
       "  brain_region    m_type                                 m_type_id  \\\n",
       "0    Isocortex  L5_TPC:B  http://uri.interlex.org/base/ilx_0381364   \n",
       "1    Isocortex  L5_TPC:A  http://uri.interlex.org/base/ilx_0381365   \n",
       "2    Isocortex  L3_TPC:A  http://uri.interlex.org/base/ilx_0381366   \n",
       "3    Isocortex  L2_TPC:B  http://uri.interlex.org/base/ilx_0381367   \n",
       "4    Isocortex  L3_TPC:B  http://uri.interlex.org/base/ilx_0381368   \n",
       "\n",
       "   m_type_version  \n",
       "0              30  \n",
       "1              28  \n",
       "2              28  \n",
       "3              30  \n",
       "4              27  "
      ]
     },
     "execution_count": 155,
     "metadata": {},
     "output_type": "execute_result"
    }
   ],
   "source": [
    "df.head()"
   ]
  },
  {
   "cell_type": "code",
   "execution_count": 156,
   "metadata": {},
   "outputs": [
    {
     "data": {
      "text/plain": [
       "{'Hippocampal formation', 'Isocortex'}"
      ]
     },
     "execution_count": 156,
     "metadata": {},
     "output_type": "execute_result"
    }
   ],
   "source": [
    "set(df.brain_region)"
   ]
  },
  {
   "cell_type": "markdown",
   "metadata": {},
   "source": [
    "#### The below query will get m-types from the specified brain region plus m-types from parent brain regions (this was added during the workshop to illustrate the `up the tree` generalisation idea)"
   ]
  },
  {
   "cell_type": "code",
   "execution_count": 157,
   "metadata": {},
   "outputs": [],
   "source": [
    "BRAIN_REGION = \"Entorhinal area, medial part, dorsal zone\""
   ]
  },
  {
   "cell_type": "markdown",
   "metadata": {},
   "source": [
    "Get brain region id"
   ]
  },
  {
   "cell_type": "code",
   "execution_count": 158,
   "metadata": {},
   "outputs": [],
   "source": [
    "r = forge.search({\"label\": BRAIN_REGION})"
   ]
  },
  {
   "cell_type": "code",
   "execution_count": 159,
   "metadata": {},
   "outputs": [
    {
     "ename": "IndexError",
     "evalue": "list index out of range",
     "output_type": "error",
     "traceback": [
      "\u001b[0;31m---------------------------------------------------------------------------\u001b[0m",
      "\u001b[0;31mIndexError\u001b[0m                                Traceback (most recent call last)",
      "\u001b[0;32m<ipython-input-159-12b8c1123c5f>\u001b[0m in \u001b[0;36m<module>\u001b[0;34m\u001b[0m\n\u001b[0;32m----> 1\u001b[0;31m \u001b[0mbrain_region\u001b[0m \u001b[0;34m=\u001b[0m \u001b[0mr\u001b[0m\u001b[0;34m[\u001b[0m\u001b[0;36m0\u001b[0m\u001b[0;34m]\u001b[0m\u001b[0;34m.\u001b[0m\u001b[0mid\u001b[0m\u001b[0;34m\u001b[0m\u001b[0;34m\u001b[0m\u001b[0m\n\u001b[0m",
      "\u001b[0;31mIndexError\u001b[0m: list index out of range"
     ]
    }
   ],
   "source": [
    "brain_region = r[0].id"
   ]
  },
  {
   "cell_type": "code",
   "execution_count": null,
   "metadata": {},
   "outputs": [],
   "source": [
    "brain_region"
   ]
  },
  {
   "cell_type": "code",
   "execution_count": null,
   "metadata": {
    "tags": []
   },
   "outputs": [],
   "source": [
    "query = f\"\"\"\n",
    "\n",
    "SELECT ?m_type ?m_type_id ?m_type_version ?brain_region\n",
    "\n",
    "WHERE {{\n",
    "        ?m_type_id label ?m_type ;\n",
    "            _rev ?m_type_version ;\n",
    "            subClassOf* MType ;\n",
    "            hasSomaLocatedIn ?brain_region_id .\n",
    "        \n",
    "        ?brain_region_id label ?brain_region ;\n",
    "            hasPart* <{brain_region}> ;\n",
    "            _rev ?brain_region_version . \n",
    "}}\n",
    "\"\"\""
   ]
  },
  {
   "cell_type": "code",
   "execution_count": null,
   "metadata": {},
   "outputs": [],
   "source": [
    "resources = forge.sparql(query, limit=1000)"
   ]
  },
  {
   "cell_type": "code",
   "execution_count": null,
   "metadata": {},
   "outputs": [],
   "source": [
    "df = forge.as_dataframe(resources)"
   ]
  },
  {
   "cell_type": "code",
   "execution_count": null,
   "metadata": {
    "tags": []
   },
   "outputs": [],
   "source": [
    "df.head()"
   ]
  },
  {
   "cell_type": "code",
   "execution_count": null,
   "metadata": {},
   "outputs": [],
   "source": [
    "set(df.brain_region)"
   ]
  },
  {
   "cell_type": "markdown",
   "metadata": {},
   "source": [
    "### Get the etype ratio for each mtype for each region (region and mtype are inputs)"
   ]
  },
  {
   "cell_type": "markdown",
   "metadata": {},
   "source": [
    "`TODO`: should we add the brain regions for which we want to use this? Generalisation here: From `rat` to `mouse`, from `primary somatosensory cortex` to `Isocortex`"
   ]
  },
  {
   "cell_type": "code",
   "execution_count": 165,
   "metadata": {},
   "outputs": [],
   "source": [
    "query = f\"\"\"\n",
    "\n",
    "SELECT ?brain_region ?m_type ?e_type ?ratio\n",
    "\n",
    "WHERE {{\n",
    "        ?s a NeuronComposition ;\n",
    "            brainLocation / brainRegion / label ?brain_region ;\n",
    "            annotation ?mtype_anno ;\n",
    "            annotation ?etype_anno ;\n",
    "            series ?ratioSeries .\n",
    "        ?ratioSeries statistic \"ratio\" ;\n",
    "              value ?ratio .\n",
    "        ?mtype_anno a MTypeAnnotation ;\n",
    "            hasBody / label ?m_type .\n",
    "        ?etype_anno a ETypeAnnotation ;\n",
    "            hasBody / label ?e_type .\n",
    "}}\n",
    "\"\"\""
   ]
  },
  {
   "cell_type": "code",
   "execution_count": 166,
   "metadata": {},
   "outputs": [],
   "source": [
    "resources = forge.sparql(query, limit=1000)"
   ]
  },
  {
   "cell_type": "code",
   "execution_count": 167,
   "metadata": {},
   "outputs": [],
   "source": [
    "df = forge.as_dataframe(resources)"
   ]
  },
  {
   "cell_type": "code",
   "execution_count": 168,
   "metadata": {
    "tags": []
   },
   "outputs": [
    {
     "data": {
      "text/html": [
       "<div>\n",
       "<style scoped>\n",
       "    .dataframe tbody tr th:only-of-type {\n",
       "        vertical-align: middle;\n",
       "    }\n",
       "\n",
       "    .dataframe tbody tr th {\n",
       "        vertical-align: top;\n",
       "    }\n",
       "\n",
       "    .dataframe thead th {\n",
       "        text-align: right;\n",
       "    }\n",
       "</style>\n",
       "<table border=\"1\" class=\"dataframe\">\n",
       "  <thead>\n",
       "    <tr style=\"text-align: right;\">\n",
       "      <th></th>\n",
       "      <th>brain_region</th>\n",
       "      <th>e_type</th>\n",
       "      <th>m_type</th>\n",
       "      <th>ratio</th>\n",
       "    </tr>\n",
       "  </thead>\n",
       "  <tbody>\n",
       "    <tr>\n",
       "      <th>0</th>\n",
       "      <td>primary somatosensory cortex</td>\n",
       "      <td>cSTUT</td>\n",
       "      <td>L5_MC</td>\n",
       "      <td>0.037</td>\n",
       "    </tr>\n",
       "    <tr>\n",
       "      <th>1</th>\n",
       "      <td>primary somatosensory cortex</td>\n",
       "      <td>cACint</td>\n",
       "      <td>L5_BP</td>\n",
       "      <td>0.2857</td>\n",
       "    </tr>\n",
       "    <tr>\n",
       "      <th>2</th>\n",
       "      <td>primary somatosensory cortex</td>\n",
       "      <td>cNAC</td>\n",
       "      <td>L5_BP</td>\n",
       "      <td>0.1429</td>\n",
       "    </tr>\n",
       "    <tr>\n",
       "      <th>3</th>\n",
       "      <td>primary somatosensory cortex</td>\n",
       "      <td>dSTUT</td>\n",
       "      <td>L5_BP</td>\n",
       "      <td>0.0714</td>\n",
       "    </tr>\n",
       "    <tr>\n",
       "      <th>4</th>\n",
       "      <td>primary somatosensory cortex</td>\n",
       "      <td>bAC</td>\n",
       "      <td>L23_DBC</td>\n",
       "      <td>0.0588</td>\n",
       "    </tr>\n",
       "  </tbody>\n",
       "</table>\n",
       "</div>"
      ],
      "text/plain": [
       "                   brain_region  e_type   m_type   ratio\n",
       "0  primary somatosensory cortex   cSTUT    L5_MC   0.037\n",
       "1  primary somatosensory cortex  cACint    L5_BP  0.2857\n",
       "2  primary somatosensory cortex    cNAC    L5_BP  0.1429\n",
       "3  primary somatosensory cortex   dSTUT    L5_BP  0.0714\n",
       "4  primary somatosensory cortex     bAC  L23_DBC  0.0588"
      ]
     },
     "execution_count": 168,
     "metadata": {},
     "output_type": "execute_result"
    }
   ],
   "source": [
    "df.head()"
   ]
  },
  {
   "cell_type": "markdown",
   "metadata": {},
   "source": [
    "### Get if the mtype is Excitatory or Inhibitory (mtype is input)"
   ]
  },
  {
   "cell_type": "markdown",
   "metadata": {},
   "source": [
    "See `Get m-types together with their transmitter type (sClass)` query above"
   ]
  },
  {
   "cell_type": "markdown",
   "metadata": {},
   "source": [
    "### Get if the mtype is pyramidal or interneuron (mtype is input)"
   ]
  },
  {
   "cell_type": "markdown",
   "metadata": {},
   "source": [
    "See `Get m-types of pyramidal cells (mClass)` and `Get m-types of interneurons (mClass)` queries above"
   ]
  },
  {
   "cell_type": "markdown",
   "metadata": {},
   "source": [
    "### Get the mini frequency for the mtype (mtype is input)"
   ]
  },
  {
   "cell_type": "code",
   "execution_count": 169,
   "metadata": {},
   "outputs": [],
   "source": [
    "# TODO; these data are not yet integrated in the knowledge graph"
   ]
  },
  {
   "cell_type": "markdown",
   "metadata": {},
   "source": [
    "### Get all brain regions of layer 1 of the neocortex"
   ]
  },
  {
   "cell_type": "code",
   "execution_count": 170,
   "metadata": {},
   "outputs": [],
   "source": [
    "query = f\"\"\"\n",
    "\n",
    "SELECT ?id ?region\n",
    "\n",
    "WHERE {{\n",
    "        ?id hasLayerLocationPhenotype <http://purl.obolibrary.org/obo/UBERON_0005390> ;\n",
    "            subClassOf* BrainRegion ;\n",
    "            label ?region\n",
    "}}\n",
    "\"\"\""
   ]
  },
  {
   "cell_type": "code",
   "execution_count": 171,
   "metadata": {},
   "outputs": [],
   "source": [
    "resources = forge.sparql(query, limit=1000)"
   ]
  },
  {
   "cell_type": "code",
   "execution_count": 172,
   "metadata": {},
   "outputs": [],
   "source": [
    "df = forge.as_dataframe(resources)"
   ]
  },
  {
   "cell_type": "code",
   "execution_count": 173,
   "metadata": {},
   "outputs": [
    {
     "data": {
      "text/html": [
       "<div>\n",
       "<style scoped>\n",
       "    .dataframe tbody tr th:only-of-type {\n",
       "        vertical-align: middle;\n",
       "    }\n",
       "\n",
       "    .dataframe tbody tr th {\n",
       "        vertical-align: top;\n",
       "    }\n",
       "\n",
       "    .dataframe thead th {\n",
       "        text-align: right;\n",
       "    }\n",
       "</style>\n",
       "<table border=\"1\" class=\"dataframe\">\n",
       "  <thead>\n",
       "    <tr style=\"text-align: right;\">\n",
       "      <th></th>\n",
       "      <th>id</th>\n",
       "      <th>region</th>\n",
       "    </tr>\n",
       "  </thead>\n",
       "  <tbody>\n",
       "    <tr>\n",
       "      <th>0</th>\n",
       "      <td>http://api.brain-map.org/api/v2/data/Structure...</td>\n",
       "      <td>Primary auditory area, layer 1</td>\n",
       "    </tr>\n",
       "    <tr>\n",
       "      <th>1</th>\n",
       "      <td>http://api.brain-map.org/api/v2/data/Structure...</td>\n",
       "      <td>Primary somatosensory area, trunk, layer 1</td>\n",
       "    </tr>\n",
       "    <tr>\n",
       "      <th>2</th>\n",
       "      <td>http://api.brain-map.org/api/v2/data/Structure...</td>\n",
       "      <td>Dorsal auditory area, layer 1</td>\n",
       "    </tr>\n",
       "    <tr>\n",
       "      <th>3</th>\n",
       "      <td>http://api.brain-map.org/api/v2/data/Structure...</td>\n",
       "      <td>Ventral auditory area, layer 1</td>\n",
       "    </tr>\n",
       "    <tr>\n",
       "      <th>4</th>\n",
       "      <td>http://api.brain-map.org/api/v2/data/Structure...</td>\n",
       "      <td>Posterior auditory area, layer 1</td>\n",
       "    </tr>\n",
       "  </tbody>\n",
       "</table>\n",
       "</div>"
      ],
      "text/plain": [
       "                                                  id  \\\n",
       "0  http://api.brain-map.org/api/v2/data/Structure...   \n",
       "1  http://api.brain-map.org/api/v2/data/Structure...   \n",
       "2  http://api.brain-map.org/api/v2/data/Structure...   \n",
       "3  http://api.brain-map.org/api/v2/data/Structure...   \n",
       "4  http://api.brain-map.org/api/v2/data/Structure...   \n",
       "\n",
       "                                       region  \n",
       "0              Primary auditory area, layer 1  \n",
       "1  Primary somatosensory area, trunk, layer 1  \n",
       "2               Dorsal auditory area, layer 1  \n",
       "3              Ventral auditory area, layer 1  \n",
       "4            Posterior auditory area, layer 1  "
      ]
     },
     "execution_count": 173,
     "metadata": {},
     "output_type": "execute_result"
    }
   ],
   "source": [
    "df.head()"
   ]
  },
  {
   "cell_type": "code",
   "execution_count": null,
   "metadata": {},
   "outputs": [],
   "source": []
  }
 ],
 "metadata": {
  "kernelspec": {
   "display_name": "Python 3.7 (nexusforgelatest)",
   "language": "python",
   "name": "nexusforgelatest"
  },
  "language_info": {
   "codemirror_mode": {
    "name": "ipython",
    "version": 3
   },
   "file_extension": ".py",
   "mimetype": "text/x-python",
   "name": "python",
   "nbconvert_exporter": "python",
   "pygments_lexer": "ipython3",
   "version": "3.7.10"
  }
 },
 "nbformat": 4,
 "nbformat_minor": 4
}
