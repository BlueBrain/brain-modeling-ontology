{
 "cells": [
  {
   "cell_type": "markdown",
   "metadata": {},
   "source": [
    "# Query Cell Types Ontology"
   ]
  },
  {
   "cell_type": "markdown",
   "metadata": {},
   "source": [
    "# Context"
   ]
  },
  {
   "cell_type": "markdown",
   "metadata": {},
   "source": [
    "This notebook has been put together for the MMB demo on 2022-05-30: see [slides](https://docs.google.com/presentation/d/1Ib1_8byK0hVuNS-wPbqmeL5Lcf67m_oegC3-czPw5ws/edit#slide=id.g116ba5ed71e_0_8)"
   ]
  },
  {
   "cell_type": "markdown",
   "metadata": {},
   "source": [
    "## Imports"
   ]
  },
  {
   "cell_type": "code",
   "execution_count": null,
   "metadata": {},
   "outputs": [],
   "source": [
    "import json\n",
    "import rdflib\n",
    "import getpass\n",
    "import pandas as pd\n",
    "from rdflib import RDF, RDFS, XSD, OWL, URIRef, BNode, SKOS\n",
    "from bmo_tools.ontologies import subontology_from_term\n",
    "import pprint\n",
    "from kgforge.core import KnowledgeGraphForge"
   ]
  },
  {
   "cell_type": "markdown",
   "metadata": {},
   "source": [
    "## Setup"
   ]
  },
  {
   "cell_type": "code",
   "execution_count": null,
   "metadata": {},
   "outputs": [],
   "source": [
    "TOKEN = getpass.getpass()"
   ]
  },
  {
   "cell_type": "code",
   "execution_count": null,
   "metadata": {},
   "outputs": [],
   "source": [
    "forge = KnowledgeGraphForge(\"https://raw.githubusercontent.com/BlueBrain/nexus-forge/master/examples/notebooks/use-cases/prod-forge-nexus.yml\",\n",
    "                            token=TOKEN,\n",
    "                            endpoint=\"https://staging.nise.bbp.epfl.ch/nexus/v1\",\n",
    "                            bucket=\"neurosciencegraph/datamodels\")"
   ]
  },
  {
   "cell_type": "markdown",
   "metadata": {},
   "source": [
    "## Ontologies"
   ]
  },
  {
   "cell_type": "markdown",
   "metadata": {},
   "source": [
    "### Brain Region Ontology  from WebProtégé"
   ]
  },
  {
   "cell_type": "code",
   "execution_count": null,
   "metadata": {},
   "outputs": [],
   "source": [
    "brain_region_ontology = rdflib.Graph()\n",
    "brain_region_ontology.parse(\"./brainregion.ttl\") # Provide the filepath of the Brain Region Ontology donwloaded from WebProtégé"
   ]
  },
  {
   "cell_type": "markdown",
   "metadata": {},
   "source": [
    "## Queries"
   ]
  },
  {
   "cell_type": "markdown",
   "metadata": {},
   "source": [
    "### Which brain regions do have neuron t-types available"
   ]
  },
  {
   "cell_type": "code",
   "execution_count": null,
   "metadata": {
    "tags": []
   },
   "outputs": [],
   "source": [
    "query = f\"\"\"\n",
    "\n",
    "PREFIX bmo: <https://bbp.epfl.ch/ontologies/core/bmo/>\n",
    "PREFIX rdfs: <http://www.w3.org/2000/01/rdf-schema#>\n",
    "PREFIX owl: <http://www.w3.org/2002/07/owl#>\n",
    "PREFIX nsg: <https://neuroshapes.org/>\n",
    "PREFIX mty: <https://bbp.epfl.ch/ontologies/core/mtypes/>\n",
    "\n",
    "SELECT ?brain_region\n",
    "\n",
    "WHERE {{\n",
    "        ?t_type_id rdfs:subClassOf ?region_restriction ;\n",
    "                  rdfs:label ?t_type ;\n",
    "                  rdfs:subClassOf* <https://bbp.epfl.ch/ontologies/core/celltypes/NeuronTranscriptomicType> .\n",
    "        ?region_restriction a owl:Restriction ;\n",
    "           owl:onProperty bmo:canHaveBrainRegion ;\n",
    "           owl:someValuesFrom ?brain_region_id .        \n",
    "        ?brain_region_id rdfs:label ?brain_region .\n",
    "}}\n",
    "\"\"\""
   ]
  },
  {
   "cell_type": "code",
   "execution_count": null,
   "metadata": {},
   "outputs": [],
   "source": [
    "resources = forge.sparql(query, limit=1000, rewrite=False)"
   ]
  },
  {
   "cell_type": "code",
   "execution_count": null,
   "metadata": {},
   "outputs": [],
   "source": [
    "df = forge.as_dataframe(resources)"
   ]
  },
  {
   "cell_type": "code",
   "execution_count": null,
   "metadata": {},
   "outputs": [],
   "source": [
    "set(df.brain_region)"
   ]
  },
  {
   "cell_type": "markdown",
   "metadata": {
    "tags": []
   },
   "source": [
    "### Get possible t-types for a given brain region"
   ]
  },
  {
   "cell_type": "code",
   "execution_count": null,
   "metadata": {
    "tags": []
   },
   "outputs": [],
   "source": [
    "query = f\"\"\"\n",
    "\n",
    "PREFIX bmo: <https://bbp.epfl.ch/ontologies/core/bmo/>\n",
    "PREFIX rdfs: <http://www.w3.org/2000/01/rdf-schema#>\n",
    "PREFIX owl: <http://www.w3.org/2002/07/owl#>\n",
    "PREFIX nsg: <https://neuroshapes.org/>\n",
    "PREFIX mty: <https://bbp.epfl.ch/ontologies/core/mtypes/>\n",
    "\n",
    "SELECT ?brain_region ?t_type\n",
    "\n",
    "WHERE {{\n",
    "        ?t_type_id rdfs:subClassOf ?region_restriction ;\n",
    "                  rdfs:label ?t_type .\n",
    "        ?region_restriction a owl:Restriction ;\n",
    "           owl:onProperty bmo:canHaveBrainRegion ;\n",
    "           owl:someValuesFrom <{brain_region}> .        \n",
    "        <{brain_region}> rdfs:label ?brain_region . \n",
    "}}\n",
    "\"\"\""
   ]
  },
  {
   "cell_type": "code",
   "execution_count": null,
   "metadata": {},
   "outputs": [],
   "source": [
    "resources = forge.sparql(query, limit=100, rewrite=False)"
   ]
  },
  {
   "cell_type": "code",
   "execution_count": null,
   "metadata": {},
   "outputs": [],
   "source": [
    "df = forge.as_dataframe(resources)"
   ]
  },
  {
   "cell_type": "code",
   "execution_count": null,
   "metadata": {},
   "outputs": [],
   "source": [
    "df.head()"
   ]
  },
  {
   "cell_type": "markdown",
   "metadata": {},
   "source": [
    "### Get possible met-type combinations plus excitatory/inhibitory category for a given brain region"
   ]
  },
  {
   "cell_type": "markdown",
   "metadata": {},
   "source": [
    "Set brain region label"
   ]
  },
  {
   "cell_type": "code",
   "execution_count": null,
   "metadata": {},
   "outputs": [],
   "source": [
    "BRAIN_REGION = \"Cerebral cortex\"\n",
    "# BRAIN_REGION = \"Cerebellum\""
   ]
  },
  {
   "cell_type": "markdown",
   "metadata": {},
   "source": [
    "Get brain region id"
   ]
  },
  {
   "cell_type": "code",
   "execution_count": null,
   "metadata": {},
   "outputs": [],
   "source": [
    "brain_region = [s for s, p, o in brain_region_ontology.triples((None, RDFS.label, rdflib.term.Literal(BRAIN_REGION)))][0]"
   ]
  },
  {
   "cell_type": "code",
   "execution_count": null,
   "metadata": {},
   "outputs": [],
   "source": [
    "brain_region"
   ]
  },
  {
   "cell_type": "code",
   "execution_count": null,
   "metadata": {
    "tags": []
   },
   "outputs": [],
   "source": [
    "query = f\"\"\"\n",
    "\n",
    "PREFIX bmo: <https://bbp.epfl.ch/ontologies/core/bmo/>\n",
    "PREFIX rdfs: <http://www.w3.org/2000/01/rdf-schema#>\n",
    "PREFIX owl: <http://www.w3.org/2002/07/owl#>\n",
    "PREFIX nsg: <https://neuroshapes.org/>\n",
    "PREFIX mty: <https://bbp.epfl.ch/ontologies/core/mtypes/>\n",
    "\n",
    "SELECT ?brain_region ?transmitter ?t_type ?m_type ?e_type\n",
    "\n",
    "WHERE {{\n",
    "        ?t_type_id rdfs:subClassOf ?region_restriction ;\n",
    "                  rdfs:label ?t_type .\n",
    "        ?region_restriction a owl:Restriction ;\n",
    "           owl:onProperty bmo:canHaveBrainRegion ;\n",
    "           owl:someValuesFrom <{brain_region}> .        \n",
    "        <{brain_region}> rdfs:label ?brain_region .\n",
    "        \n",
    "        ?m_type_id rdfs:subClassOf ?t_restriction ;\n",
    "            rdfs:label ?m_type ;\n",
    "            rdfs:subClassOf* nsg:MType .\n",
    "        ?t_restriction a owl:Restriction ;\n",
    "           owl:onProperty bmo:canHaveTType ;\n",
    "           owl:someValuesFrom ?t_type_id .\n",
    "\n",
    "        ?m_type_id rdfs:subClassOf+ ?transmitter_restriction .\n",
    "        ?transmitter_restriction a owl:Restriction ;\n",
    "            owl:onProperty mty:hasNeurotransmitterType ;\n",
    "            owl:someValuesFrom ?transmitter_id .\n",
    "        ?transmitter_id rdfs:label ?transmitter . \n",
    "\n",
    "        ?e_type_id rdfs:subClassOf ?m_restriction ;\n",
    "            rdfs:subClassOf ?t_restriction_2 ;\n",
    "            rdfs:label ?e_type ;\n",
    "            rdfs:subClassOf* nsg:EType .\n",
    "        ?m_restriction a owl:Restriction ;\n",
    "           owl:onProperty bmo:canHaveMType ;\n",
    "           owl:someValuesFrom ?m_type_id .\n",
    "        ?t_restriction_2 a owl:Restriction ;\n",
    "           owl:onProperty bmo:canHaveTType ;\n",
    "           owl:someValuesFrom ?t_type_id .\n",
    "}}\n",
    "\"\"\""
   ]
  },
  {
   "cell_type": "code",
   "execution_count": null,
   "metadata": {},
   "outputs": [],
   "source": [
    "resources = forge.sparql(query, limit=100, rewrite=False)"
   ]
  },
  {
   "cell_type": "code",
   "execution_count": null,
   "metadata": {},
   "outputs": [],
   "source": [
    "df = forge.as_dataframe(resources)"
   ]
  },
  {
   "cell_type": "code",
   "execution_count": null,
   "metadata": {},
   "outputs": [],
   "source": [
    "df.head()"
   ]
  },
  {
   "cell_type": "markdown",
   "metadata": {},
   "source": [
    "### Get m-types with a basket cell morphology"
   ]
  },
  {
   "cell_type": "code",
   "execution_count": null,
   "metadata": {
    "tags": []
   },
   "outputs": [],
   "source": [
    "query = f\"\"\"\n",
    "\n",
    "PREFIX bmo: <https://bbp.epfl.ch/ontologies/core/bmo/>\n",
    "PREFIX rdfs: <http://www.w3.org/2000/01/rdf-schema#>\n",
    "PREFIX owl: <http://www.w3.org/2002/07/owl#>\n",
    "PREFIX nsg: <https://neuroshapes.org/>\n",
    "PREFIX mty: <https://bbp.epfl.ch/ontologies/core/mtypes/>\n",
    "\n",
    "SELECT ?basket_cell\n",
    "\n",
    "WHERE {{\n",
    "        ?basket_cell_id rdfs:subClassOf+ / nsg:hasMorphologicalPhenotype / rdfs:label \"basket cell morphology\" ;\n",
    "                  rdfs:label ?basket_cell .\n",
    "}}\n",
    "\"\"\""
   ]
  },
  {
   "cell_type": "code",
   "execution_count": null,
   "metadata": {},
   "outputs": [],
   "source": [
    "resources = forge.sparql(query, limit=100, rewrite=False)"
   ]
  },
  {
   "cell_type": "code",
   "execution_count": null,
   "metadata": {},
   "outputs": [],
   "source": [
    "df = forge.as_dataframe(resources)"
   ]
  },
  {
   "cell_type": "code",
   "execution_count": null,
   "metadata": {},
   "outputs": [],
   "source": [
    "df.head(20)"
   ]
  },
  {
   "cell_type": "markdown",
   "metadata": {},
   "source": [
    "### Get definition of a basket cell morphology"
   ]
  },
  {
   "cell_type": "code",
   "execution_count": null,
   "metadata": {},
   "outputs": [],
   "source": [
    "query = f\"\"\"\n",
    "\n",
    "PREFIX bmo: <https://bbp.epfl.ch/ontologies/core/bmo/>\n",
    "PREFIX rdfs: <http://www.w3.org/2000/01/rdf-schema#>\n",
    "PREFIX owl: <http://www.w3.org/2002/07/owl#>\n",
    "PREFIX nsg: <https://neuroshapes.org/>\n",
    "PREFIX mty: <https://bbp.epfl.ch/ontologies/core/mtypes/>\n",
    "\n",
    "SELECT ?basket_cell ?definition\n",
    "\n",
    "WHERE {{\n",
    "        ?basket_cell_id rdfs:subClassOf+ / nsg:hasMorphologicalPhenotype ?pato_id ;\n",
    "            rdfs:label ?basket_cell .\n",
    "        ?pato_id rdfs:label \"basket cell morphology\" ;\n",
    "                <http://purl.obolibrary.org/obo/IAO_0000115> ?definition .\n",
    "}}\n",
    "\"\"\""
   ]
  },
  {
   "cell_type": "code",
   "execution_count": null,
   "metadata": {},
   "outputs": [],
   "source": [
    "resources = forge.sparql(query, limit=20000, rewrite=False)"
   ]
  },
  {
   "cell_type": "code",
   "execution_count": null,
   "metadata": {},
   "outputs": [],
   "source": [
    "df = forge.as_dataframe(resources)"
   ]
  },
  {
   "cell_type": "code",
   "execution_count": null,
   "metadata": {},
   "outputs": [],
   "source": [
    "set(df.definition)"
   ]
  },
  {
   "cell_type": "markdown",
   "metadata": {},
   "source": [
    "### Get t-types from Yao et al. 2021 paper"
   ]
  },
  {
   "cell_type": "code",
   "execution_count": null,
   "metadata": {},
   "outputs": [],
   "source": [
    "query = f\"\"\"\n",
    "\n",
    "PREFIX bmo: <https://bbp.epfl.ch/ontologies/core/bmo/>\n",
    "PREFIX rdfs: <http://www.w3.org/2000/01/rdf-schema#>\n",
    "PREFIX owl: <http://www.w3.org/2002/07/owl#>\n",
    "PREFIX nsg: <https://neuroshapes.org/>\n",
    "PREFIX mty: <https://bbp.epfl.ch/ontologies/core/mtypes/>\n",
    "\n",
    "SELECT ?label\n",
    "\n",
    "WHERE {{\n",
    "        ?id rdfs:seeAlso <https://www.sciencedirect.com/science/article/pii/S0092867421005018?dgcid=rss_sd_all> ;\n",
    "            rdfs:label ?label .\n",
    "}}\n",
    "\"\"\""
   ]
  },
  {
   "cell_type": "code",
   "execution_count": null,
   "metadata": {},
   "outputs": [],
   "source": [
    "resources = forge.sparql(query, limit=100, rewrite=False)"
   ]
  },
  {
   "cell_type": "code",
   "execution_count": null,
   "metadata": {},
   "outputs": [],
   "source": [
    "df = forge.as_dataframe(resources)"
   ]
  },
  {
   "cell_type": "code",
   "execution_count": null,
   "metadata": {},
   "outputs": [],
   "source": [
    "df"
   ]
  }
 ],
 "metadata": {
  "kernelspec": {
   "display_name": "Python (20210819)",
   "language": "python",
   "name": "20210819"
  },
  "language_info": {
   "codemirror_mode": {
    "name": "ipython",
    "version": 3
   },
   "file_extension": ".py",
   "mimetype": "text/x-python",
   "name": "python",
   "nbconvert_exporter": "python",
   "pygments_lexer": "ipython3",
   "version": "3.7.11"
  }
 },
 "nbformat": 4,
 "nbformat_minor": 4
}
