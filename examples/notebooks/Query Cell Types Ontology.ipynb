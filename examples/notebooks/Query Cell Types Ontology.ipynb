{
 "cells": [
  {
   "cell_type": "markdown",
   "metadata": {},
   "source": [
    "# Query Cell Types Ontology"
   ]
  },
  {
   "cell_type": "markdown",
   "metadata": {},
   "source": [
    "# Context"
   ]
  },
  {
   "cell_type": "markdown",
   "metadata": {},
   "source": [
    "- This notebook has been put together for the MMB demo on 2022-05-30: see [slides](https://docs.google.com/presentation/d/1Ib1_8byK0hVuNS-wPbqmeL5Lcf67m_oegC3-czPw5ws/edit#slide=id.g116ba5ed71e_0_8)\n",
    "- It has been revised following feedback from the meeting held on 2022-07-07: see [slides](https://docs.google.com/presentation/d/1mgCyYjHerLJLV79GM0kqp3_Htxmru_7QGIr5elUETC0/edit#slide=id.g13b4a370a10_0_19) and [JIRA ticket](https://bbpteam.epfl.ch/project/issues/browse/DKE-942)"
   ]
  },
  {
   "cell_type": "markdown",
   "metadata": {},
   "source": [
    "## Imports"
   ]
  },
  {
   "cell_type": "code",
   "execution_count": 191,
   "metadata": {},
   "outputs": [],
   "source": [
    "import json\n",
    "import rdflib\n",
    "import getpass\n",
    "import pandas as pd\n",
    "from rdflib import RDF, RDFS, XSD, OWL, URIRef, BNode, SKOS\n",
    "import pprint\n",
    "from kgforge.core import KnowledgeGraphForge"
   ]
  },
  {
   "cell_type": "markdown",
   "metadata": {},
   "source": [
    "## Setup\n",
    "Get an authentication token"
   ]
  },
  {
   "cell_type": "markdown",
   "metadata": {},
   "source": [
    "For now, the [Nexus web application](https://bbp.epfl.ch/nexus/web) can be used to get a token. We are looking for other simpler alternatives.\n",
    "\n",
    "- Step 1: From the opened web page, click on the login button on the right corner and follow the instructions.\n",
    "\n",
    "![login-ui](./login-ui.png)\n",
    "\n",
    "- Step 2: At the end you’ll see a token button on the right corner. Click on it to copy the token.\n",
    "\n",
    "![login-ui](./copy-token.png)\n"
   ]
  },
  {
   "cell_type": "code",
   "execution_count": null,
   "metadata": {},
   "outputs": [],
   "source": [
    "TOKEN = getpass.getpass()"
   ]
  },
  {
   "cell_type": "code",
   "execution_count": 194,
   "metadata": {},
   "outputs": [],
   "source": [
    "forge = KnowledgeGraphForge(\"https://raw.githubusercontent.com/BlueBrain/nexus-forge/master/examples/notebooks/use-cases/prod-forge-nexus.yml\",\n",
    "                            token=TOKEN,\n",
    "                            searchendpoints={\"sparql\": {\"endpoint\": \"https://bbp.epfl.ch/neurosciencegraph/data/views/aggreg-sp/dataset\"}},\n",
    "                            endpoint=\"https://staging.nise.bbp.epfl.ch/nexus/v1\",\n",
    "                            \n",
    "                            bucket=\"bbp/atlas\")"
   ]
  },
  {
   "cell_type": "markdown",
   "metadata": {},
   "source": [
    "## Ontologies"
   ]
  },
  {
   "cell_type": "markdown",
   "metadata": {},
   "source": [
    "### Set brain region"
   ]
  },
  {
   "cell_type": "markdown",
   "metadata": {},
   "source": [
    "During the meeting on `2022-05-30`, it was specified that a brain region will serve as entry point when searching for cell types in the MMB context. Hence, this notebook starts by defining a brain region one wants to get cell types for. Since the most complete cell type information is available for the `Cerebral cortex`, this has been set as the default below."
   ]
  },
  {
   "cell_type": "code",
   "execution_count": 195,
   "metadata": {},
   "outputs": [],
   "source": [
    "BRAIN_REGION = \"Cerebral cortex\"\n",
    "# BRAIN_REGION = \"Cerebellum\"\n",
    "# BRAIN_REGION = \"Somatosensory areas\""
   ]
  },
  {
   "cell_type": "markdown",
   "metadata": {},
   "source": [
    "Get brain region id"
   ]
  },
  {
   "cell_type": "code",
   "execution_count": 196,
   "metadata": {},
   "outputs": [],
   "source": [
    "r = forge.search({\"label\": BRAIN_REGION}, cross_bucket=True)"
   ]
  },
  {
   "cell_type": "code",
   "execution_count": 197,
   "metadata": {},
   "outputs": [],
   "source": [
    "brain_region = r[0].id"
   ]
  },
  {
   "cell_type": "code",
   "execution_count": 198,
   "metadata": {},
   "outputs": [
    {
     "data": {
      "text/plain": [
       "'http://api.brain-map.org/api/v2/data/Structure/688'"
      ]
     },
     "execution_count": 198,
     "metadata": {},
     "output_type": "execute_result"
    }
   ],
   "source": [
    "brain_region"
   ]
  },
  {
   "cell_type": "markdown",
   "metadata": {},
   "source": [
    "## Queries"
   ]
  },
  {
   "cell_type": "markdown",
   "metadata": {},
   "source": [
    "### Get brain regions which do have neuron t-types available"
   ]
  },
  {
   "cell_type": "markdown",
   "metadata": {},
   "source": [
    "This query will list brain region labels for which the knowledge graph has neuron t-types available"
   ]
  },
  {
   "cell_type": "code",
   "execution_count": 199,
   "metadata": {},
   "outputs": [],
   "source": [
    "query = f\"\"\"\n",
    "\n",
    "SELECT ?brain_region\n",
    "\n",
    "WHERE {{\n",
    "        ?t_type_id subClassOf* <https://bbp.epfl.ch/ontologies/core/celltypes/NeuronTranscriptomicType> ;\n",
    "                  canBeLocatedInBrainRegion ?brain_region_id .        \n",
    "        ?brain_region_id label ?brain_region .\n",
    "}}\n",
    "\"\"\""
   ]
  },
  {
   "cell_type": "code",
   "execution_count": 200,
   "metadata": {},
   "outputs": [],
   "source": [
    "resources = forge.sparql(query, limit=1000)"
   ]
  },
  {
   "cell_type": "code",
   "execution_count": 201,
   "metadata": {},
   "outputs": [],
   "source": [
    "df = forge.as_dataframe(resources)"
   ]
  },
  {
   "cell_type": "code",
   "execution_count": 202,
   "metadata": {},
   "outputs": [
    {
     "data": {
      "text/plain": [
       "{'Agranular insular area',\n",
       " 'Anterior cingulate area',\n",
       " 'Area prostriata',\n",
       " 'Cerebellum',\n",
       " 'Cerebral cortex',\n",
       " 'Entorhinal area',\n",
       " 'Entorhinal area, lateral part',\n",
       " 'Entorhinal area, medial part, dorsal zone',\n",
       " 'Fasciola cinerea',\n",
       " 'Field CA1',\n",
       " 'Field CA2',\n",
       " 'Field CA3',\n",
       " 'Hippocampal formation',\n",
       " 'Hippocampo-amygdalar transition area',\n",
       " 'Hypothalamus',\n",
       " 'Induseum griseum',\n",
       " 'Isocortex',\n",
       " 'Parasubiculum',\n",
       " 'Postsubiculum',\n",
       " 'Presubiculum',\n",
       " 'Prosubiculum',\n",
       " 'Retrohippocampal region',\n",
       " 'Retrosplenial area',\n",
       " 'Retrosplenial area, ventral part',\n",
       " 'Subiculum',\n",
       " 'root'}"
      ]
     },
     "execution_count": 202,
     "metadata": {},
     "output_type": "execute_result"
    }
   ],
   "source": [
    "set(df.brain_region)"
   ]
  },
  {
   "cell_type": "markdown",
   "metadata": {},
   "source": [
    "### Get brain regions which do have neuron m-types available"
   ]
  },
  {
   "cell_type": "code",
   "execution_count": 339,
   "metadata": {},
   "outputs": [],
   "source": [
    "query = f\"\"\"\n",
    "\n",
    "SELECT ?brain_region\n",
    "\n",
    "WHERE {{\n",
    "        ?m_type_id subClassOf* <https://bbp.epfl.ch/ontologies/core/bmo/NeuronMorphologicalType> ;\n",
    "                  canBeLocatedInBrainRegion ?brain_region_id .        \n",
    "        ?brain_region_id label ?brain_region .\n",
    "}}\n",
    "\"\"\""
   ]
  },
  {
   "cell_type": "code",
   "execution_count": 340,
   "metadata": {},
   "outputs": [],
   "source": [
    "resources = forge.sparql(query, limit=1000)"
   ]
  },
  {
   "cell_type": "code",
   "execution_count": 341,
   "metadata": {},
   "outputs": [],
   "source": [
    "df = forge.as_dataframe(resources)"
   ]
  },
  {
   "cell_type": "code",
   "execution_count": 342,
   "metadata": {},
   "outputs": [
    {
     "data": {
      "text/plain": [
       "{'Caudoputamen',\n",
       " 'Field CA1',\n",
       " 'Globus pallidus, external segment',\n",
       " 'Globus pallidus, internal segment',\n",
       " 'Hippocampal formation',\n",
       " 'Isocortex',\n",
       " 'Nucleus accumbens',\n",
       " 'Pallidum, ventral region',\n",
       " 'Reticular nucleus of the thalamus',\n",
       " 'Substantia nigra, compact part',\n",
       " 'Substantia nigra, reticular part',\n",
       " 'Subthalamic nucleus',\n",
       " 'Thalamus',\n",
       " 'root'}"
      ]
     },
     "execution_count": 342,
     "metadata": {},
     "output_type": "execute_result"
    }
   ],
   "source": [
    "set(df.brain_region)"
   ]
  },
  {
   "cell_type": "markdown",
   "metadata": {},
   "source": [
    "### Get brain region which do have neuron e-types available"
   ]
  },
  {
   "cell_type": "code",
   "execution_count": 349,
   "metadata": {},
   "outputs": [],
   "source": [
    "query = f\"\"\"\n",
    "\n",
    "SELECT ?brain_region\n",
    "\n",
    "WHERE {{\n",
    "        ?e_type_id subClassOf* <https://bbp.epfl.ch/ontologies/core/bmo/NeuronElectricalType> ;\n",
    "                  canBeLocatedInBrainRegion ?brain_region_id .        \n",
    "        ?brain_region_id label ?brain_region .\n",
    "}}\n",
    "\"\"\""
   ]
  },
  {
   "cell_type": "code",
   "execution_count": 350,
   "metadata": {},
   "outputs": [],
   "source": [
    "resources = forge.sparql(query, limit=1000)"
   ]
  },
  {
   "cell_type": "code",
   "execution_count": 351,
   "metadata": {},
   "outputs": [],
   "source": [
    "df = forge.as_dataframe(resources)"
   ]
  },
  {
   "cell_type": "code",
   "execution_count": 352,
   "metadata": {},
   "outputs": [
    {
     "data": {
      "text/plain": [
       "{'Caudoputamen',\n",
       " 'Globus pallidus, external segment',\n",
       " 'Globus pallidus, internal segment',\n",
       " 'Isocortex',\n",
       " 'Nucleus accumbens',\n",
       " 'Pallidum, ventral region',\n",
       " 'Substantia nigra, compact part',\n",
       " 'Substantia nigra, reticular part',\n",
       " 'Subthalamic nucleus',\n",
       " 'Thalamus',\n",
       " 'root'}"
      ]
     },
     "execution_count": 352,
     "metadata": {},
     "output_type": "execute_result"
    }
   ],
   "source": [
    "set(df.brain_region)"
   ]
  },
  {
   "cell_type": "markdown",
   "metadata": {
    "tags": []
   },
   "source": [
    "### Get possible t-types for a given brain region"
   ]
  },
  {
   "cell_type": "markdown",
   "metadata": {},
   "source": [
    "This query lists t-types for a given brain region (i.e. the `BRAIN_REGION` specified above). For demonstration purposes, the `limit` parameter on the query has been set to `100`. This can be increased to get all available t-types. E.g. the total number of available t-types for `Cerebral cortex` on `2022-07-08` was `252`."
   ]
  },
  {
   "cell_type": "code",
   "execution_count": 203,
   "metadata": {},
   "outputs": [],
   "source": [
    "query = f\"\"\"\n",
    "\n",
    "SELECT ?brain_region ?t_type\n",
    "\n",
    "WHERE {{\n",
    "        ?t_type_id label ?t_type ;\n",
    "            subClassOf* <https://bbp.epfl.ch/ontologies/core/celltypes/NeuronTranscriptomicType> ;\n",
    "            canBeLocatedInBrainRegion <{brain_region}> .        \n",
    "        <{brain_region}> label ?brain_region . \n",
    "}}\n",
    "\"\"\""
   ]
  },
  {
   "cell_type": "code",
   "execution_count": 204,
   "metadata": {},
   "outputs": [],
   "source": [
    "resources = forge.sparql(query, limit=1000)"
   ]
  },
  {
   "cell_type": "code",
   "execution_count": 205,
   "metadata": {},
   "outputs": [],
   "source": [
    "df = forge.as_dataframe(resources)"
   ]
  },
  {
   "cell_type": "code",
   "execution_count": 206,
   "metadata": {},
   "outputs": [
    {
     "data": {
      "text/html": [
       "<div>\n",
       "<style scoped>\n",
       "    .dataframe tbody tr th:only-of-type {\n",
       "        vertical-align: middle;\n",
       "    }\n",
       "\n",
       "    .dataframe tbody tr th {\n",
       "        vertical-align: top;\n",
       "    }\n",
       "\n",
       "    .dataframe thead th {\n",
       "        text-align: right;\n",
       "    }\n",
       "</style>\n",
       "<table border=\"1\" class=\"dataframe\">\n",
       "  <thead>\n",
       "    <tr style=\"text-align: right;\">\n",
       "      <th></th>\n",
       "      <th>brain_region</th>\n",
       "      <th>t_type</th>\n",
       "    </tr>\n",
       "  </thead>\n",
       "  <tbody>\n",
       "    <tr>\n",
       "      <th>0</th>\n",
       "      <td>Cerebral cortex</td>\n",
       "      <td>10_Lamp5</td>\n",
       "    </tr>\n",
       "    <tr>\n",
       "      <th>1</th>\n",
       "      <td>Cerebral cortex</td>\n",
       "      <td>100_Sst</td>\n",
       "    </tr>\n",
       "    <tr>\n",
       "      <th>2</th>\n",
       "      <td>Cerebral cortex</td>\n",
       "      <td>101_Sst</td>\n",
       "    </tr>\n",
       "    <tr>\n",
       "      <th>3</th>\n",
       "      <td>Cerebral cortex</td>\n",
       "      <td>108_Pvalb</td>\n",
       "    </tr>\n",
       "    <tr>\n",
       "      <th>4</th>\n",
       "      <td>Cerebral cortex</td>\n",
       "      <td>109_Pvalb</td>\n",
       "    </tr>\n",
       "  </tbody>\n",
       "</table>\n",
       "</div>"
      ],
      "text/plain": [
       "      brain_region     t_type\n",
       "0  Cerebral cortex   10_Lamp5\n",
       "1  Cerebral cortex    100_Sst\n",
       "2  Cerebral cortex    101_Sst\n",
       "3  Cerebral cortex  108_Pvalb\n",
       "4  Cerebral cortex  109_Pvalb"
      ]
     },
     "execution_count": 206,
     "metadata": {},
     "output_type": "execute_result"
    }
   ],
   "source": [
    "df.head()"
   ]
  },
  {
   "cell_type": "markdown",
   "metadata": {
    "tags": []
   },
   "source": [
    "### Get possible met-type combinations plus excitatory/inhibitory category for a given brain region"
   ]
  },
  {
   "cell_type": "markdown",
   "metadata": {},
   "source": [
    "This query returns possible met-type combinations together with the excitatory/inhibitory categories for the brain region one has set above. For each m- e and t- and transmitter-type, the identifier and the current version in the knowledge graph are also being returned. For a simplified view, please run the `df.drop()` cell below. It will only show the labels of a given type. The `version` indicates the revision of a given type in the knowledge graph and has been included following the Cell Types Meeting on 2022-07-07 to help with reproducibility (see also this JIRA ticket: [DKE-942](https://bbpteam.epfl.ch/project/issues/browse/DKE-942))."
   ]
  },
  {
   "cell_type": "code",
   "execution_count": 207,
   "metadata": {},
   "outputs": [],
   "source": [
    "query = f\"\"\"\n",
    "\n",
    "SELECT ?brain_region ?brain_region_version ?transmitter ?transmitter_id ?transmitter_version ?t_type ?t_type_id ?t_type_version ?m_type ?m_type_id ?m_type_version ?e_type ?e_type_id ?e_type_version\n",
    "\n",
    "WHERE {{\n",
    "        ?t_type_id label ?t_type ;\n",
    "                canBeLocatedInBrainRegion <{brain_region}> ;\n",
    "                _rev ?t_type_version .\n",
    "        \n",
    "        <{brain_region}> label ?brain_region ;\n",
    "            _rev ?brain_region_version .\n",
    "        \n",
    "        ?m_type_id label ?m_type ;\n",
    "            _rev ?m_type_version ;\n",
    "            subClassOf* MType ;\n",
    "            canHaveTType ?t_type_id ;\n",
    "            subClassOf* / hasNeurotransmitterType ?transmitter_id .\n",
    "        \n",
    "        ?transmitter_id label ?transmitter ;        \n",
    "            _rev ?transmitter_version .\n",
    "\n",
    "        ?e_type_id label ?e_type ;\n",
    "            _rev ?e_type_version ;\n",
    "            subClassOf* EType ;\n",
    "            subClassOf* / canHaveMType ?m_type_id ;\n",
    "            subClassOf* / canHaveTType ?t_type_id .            \n",
    "}}\n",
    "\"\"\""
   ]
  },
  {
   "cell_type": "code",
   "execution_count": 208,
   "metadata": {},
   "outputs": [],
   "source": [
    "resources = forge.sparql(query, limit=1000)"
   ]
  },
  {
   "cell_type": "code",
   "execution_count": 209,
   "metadata": {},
   "outputs": [],
   "source": [
    "df = forge.as_dataframe(resources)"
   ]
  },
  {
   "cell_type": "code",
   "execution_count": 210,
   "metadata": {},
   "outputs": [
    {
     "data": {
      "text/html": [
       "<div>\n",
       "<style scoped>\n",
       "    .dataframe tbody tr th:only-of-type {\n",
       "        vertical-align: middle;\n",
       "    }\n",
       "\n",
       "    .dataframe tbody tr th {\n",
       "        vertical-align: top;\n",
       "    }\n",
       "\n",
       "    .dataframe thead th {\n",
       "        text-align: right;\n",
       "    }\n",
       "</style>\n",
       "<table border=\"1\" class=\"dataframe\">\n",
       "  <thead>\n",
       "    <tr style=\"text-align: right;\">\n",
       "      <th></th>\n",
       "      <th>brain_region</th>\n",
       "      <th>brain_region_version</th>\n",
       "      <th>e_type</th>\n",
       "      <th>e_type_id</th>\n",
       "      <th>e_type_version</th>\n",
       "      <th>m_type</th>\n",
       "      <th>m_type_id</th>\n",
       "      <th>m_type_version</th>\n",
       "      <th>t_type</th>\n",
       "      <th>t_type_id</th>\n",
       "      <th>t_type_version</th>\n",
       "      <th>transmitter</th>\n",
       "      <th>transmitter_id</th>\n",
       "      <th>transmitter_version</th>\n",
       "    </tr>\n",
       "  </thead>\n",
       "  <tbody>\n",
       "    <tr>\n",
       "      <th>0</th>\n",
       "      <td>Cerebral cortex</td>\n",
       "      <td>41</td>\n",
       "      <td>NCx_bNAC</td>\n",
       "      <td>https://bbp.epfl.ch/ontologies/core/bmo/Neocor...</td>\n",
       "      <td>1</td>\n",
       "      <td>L1_DAC</td>\n",
       "      <td>http://uri.interlex.org/base/ilx_0383192</td>\n",
       "      <td>75</td>\n",
       "      <td>10_Lamp5</td>\n",
       "      <td>https://bbp.epfl.ch/ontologies/core/ttypes/10_...</td>\n",
       "      <td>52</td>\n",
       "      <td>Inhibitory</td>\n",
       "      <td>https://bbp.epfl.ch/ontologies/core/bmo/Inhibi...</td>\n",
       "      <td>28</td>\n",
       "    </tr>\n",
       "    <tr>\n",
       "      <th>1</th>\n",
       "      <td>Cerebral cortex</td>\n",
       "      <td>41</td>\n",
       "      <td>NCx_bNAC</td>\n",
       "      <td>https://bbp.epfl.ch/ontologies/core/bmo/Neocor...</td>\n",
       "      <td>1</td>\n",
       "      <td>L1_HAC</td>\n",
       "      <td>http://uri.interlex.org/base/ilx_0383193</td>\n",
       "      <td>75</td>\n",
       "      <td>10_Lamp5</td>\n",
       "      <td>https://bbp.epfl.ch/ontologies/core/ttypes/10_...</td>\n",
       "      <td>52</td>\n",
       "      <td>Inhibitory</td>\n",
       "      <td>https://bbp.epfl.ch/ontologies/core/bmo/Inhibi...</td>\n",
       "      <td>28</td>\n",
       "    </tr>\n",
       "    <tr>\n",
       "      <th>2</th>\n",
       "      <td>Cerebral cortex</td>\n",
       "      <td>41</td>\n",
       "      <td>NCx_bNAC</td>\n",
       "      <td>https://bbp.epfl.ch/ontologies/core/bmo/Neocor...</td>\n",
       "      <td>1</td>\n",
       "      <td>L1_HAC</td>\n",
       "      <td>http://uri.interlex.org/base/ilx_0383193</td>\n",
       "      <td>75</td>\n",
       "      <td>100_Sst</td>\n",
       "      <td>https://bbp.epfl.ch/ontologies/core/ttypes/100...</td>\n",
       "      <td>52</td>\n",
       "      <td>Inhibitory</td>\n",
       "      <td>https://bbp.epfl.ch/ontologies/core/bmo/Inhibi...</td>\n",
       "      <td>28</td>\n",
       "    </tr>\n",
       "    <tr>\n",
       "      <th>3</th>\n",
       "      <td>Cerebral cortex</td>\n",
       "      <td>41</td>\n",
       "      <td>NCx_bNAC</td>\n",
       "      <td>https://bbp.epfl.ch/ontologies/core/bmo/Neocor...</td>\n",
       "      <td>1</td>\n",
       "      <td>L1_HAC</td>\n",
       "      <td>http://uri.interlex.org/base/ilx_0383193</td>\n",
       "      <td>75</td>\n",
       "      <td>101_Sst</td>\n",
       "      <td>https://bbp.epfl.ch/ontologies/core/ttypes/101...</td>\n",
       "      <td>52</td>\n",
       "      <td>Inhibitory</td>\n",
       "      <td>https://bbp.epfl.ch/ontologies/core/bmo/Inhibi...</td>\n",
       "      <td>28</td>\n",
       "    </tr>\n",
       "    <tr>\n",
       "      <th>4</th>\n",
       "      <td>Cerebral cortex</td>\n",
       "      <td>41</td>\n",
       "      <td>NCx_bNAC</td>\n",
       "      <td>https://bbp.epfl.ch/ontologies/core/bmo/Neocor...</td>\n",
       "      <td>1</td>\n",
       "      <td>L1_DAC</td>\n",
       "      <td>http://uri.interlex.org/base/ilx_0383192</td>\n",
       "      <td>75</td>\n",
       "      <td>11_Lamp5</td>\n",
       "      <td>https://bbp.epfl.ch/ontologies/core/ttypes/11_...</td>\n",
       "      <td>52</td>\n",
       "      <td>Inhibitory</td>\n",
       "      <td>https://bbp.epfl.ch/ontologies/core/bmo/Inhibi...</td>\n",
       "      <td>28</td>\n",
       "    </tr>\n",
       "  </tbody>\n",
       "</table>\n",
       "</div>"
      ],
      "text/plain": [
       "      brain_region  brain_region_version    e_type  \\\n",
       "0  Cerebral cortex                    41  NCx_bNAC   \n",
       "1  Cerebral cortex                    41  NCx_bNAC   \n",
       "2  Cerebral cortex                    41  NCx_bNAC   \n",
       "3  Cerebral cortex                    41  NCx_bNAC   \n",
       "4  Cerebral cortex                    41  NCx_bNAC   \n",
       "\n",
       "                                           e_type_id  e_type_version  m_type  \\\n",
       "0  https://bbp.epfl.ch/ontologies/core/bmo/Neocor...               1  L1_DAC   \n",
       "1  https://bbp.epfl.ch/ontologies/core/bmo/Neocor...               1  L1_HAC   \n",
       "2  https://bbp.epfl.ch/ontologies/core/bmo/Neocor...               1  L1_HAC   \n",
       "3  https://bbp.epfl.ch/ontologies/core/bmo/Neocor...               1  L1_HAC   \n",
       "4  https://bbp.epfl.ch/ontologies/core/bmo/Neocor...               1  L1_DAC   \n",
       "\n",
       "                                  m_type_id  m_type_version    t_type  \\\n",
       "0  http://uri.interlex.org/base/ilx_0383192              75  10_Lamp5   \n",
       "1  http://uri.interlex.org/base/ilx_0383193              75  10_Lamp5   \n",
       "2  http://uri.interlex.org/base/ilx_0383193              75   100_Sst   \n",
       "3  http://uri.interlex.org/base/ilx_0383193              75   101_Sst   \n",
       "4  http://uri.interlex.org/base/ilx_0383192              75  11_Lamp5   \n",
       "\n",
       "                                           t_type_id  t_type_version  \\\n",
       "0  https://bbp.epfl.ch/ontologies/core/ttypes/10_...              52   \n",
       "1  https://bbp.epfl.ch/ontologies/core/ttypes/10_...              52   \n",
       "2  https://bbp.epfl.ch/ontologies/core/ttypes/100...              52   \n",
       "3  https://bbp.epfl.ch/ontologies/core/ttypes/101...              52   \n",
       "4  https://bbp.epfl.ch/ontologies/core/ttypes/11_...              52   \n",
       "\n",
       "  transmitter                                     transmitter_id  \\\n",
       "0  Inhibitory  https://bbp.epfl.ch/ontologies/core/bmo/Inhibi...   \n",
       "1  Inhibitory  https://bbp.epfl.ch/ontologies/core/bmo/Inhibi...   \n",
       "2  Inhibitory  https://bbp.epfl.ch/ontologies/core/bmo/Inhibi...   \n",
       "3  Inhibitory  https://bbp.epfl.ch/ontologies/core/bmo/Inhibi...   \n",
       "4  Inhibitory  https://bbp.epfl.ch/ontologies/core/bmo/Inhibi...   \n",
       "\n",
       "   transmitter_version  \n",
       "0                   28  \n",
       "1                   28  \n",
       "2                   28  \n",
       "3                   28  \n",
       "4                   28  "
      ]
     },
     "execution_count": 210,
     "metadata": {},
     "output_type": "execute_result"
    }
   ],
   "source": [
    "df.head()"
   ]
  },
  {
   "cell_type": "code",
   "execution_count": 211,
   "metadata": {},
   "outputs": [
    {
     "data": {
      "text/html": [
       "<div>\n",
       "<style scoped>\n",
       "    .dataframe tbody tr th:only-of-type {\n",
       "        vertical-align: middle;\n",
       "    }\n",
       "\n",
       "    .dataframe tbody tr th {\n",
       "        vertical-align: top;\n",
       "    }\n",
       "\n",
       "    .dataframe thead th {\n",
       "        text-align: right;\n",
       "    }\n",
       "</style>\n",
       "<table border=\"1\" class=\"dataframe\">\n",
       "  <thead>\n",
       "    <tr style=\"text-align: right;\">\n",
       "      <th></th>\n",
       "      <th>brain_region</th>\n",
       "      <th>e_type</th>\n",
       "      <th>m_type</th>\n",
       "      <th>t_type</th>\n",
       "      <th>transmitter</th>\n",
       "    </tr>\n",
       "  </thead>\n",
       "  <tbody>\n",
       "    <tr>\n",
       "      <th>0</th>\n",
       "      <td>Cerebral cortex</td>\n",
       "      <td>NCx_bNAC</td>\n",
       "      <td>L1_DAC</td>\n",
       "      <td>10_Lamp5</td>\n",
       "      <td>Inhibitory</td>\n",
       "    </tr>\n",
       "    <tr>\n",
       "      <th>1</th>\n",
       "      <td>Cerebral cortex</td>\n",
       "      <td>NCx_bNAC</td>\n",
       "      <td>L1_HAC</td>\n",
       "      <td>10_Lamp5</td>\n",
       "      <td>Inhibitory</td>\n",
       "    </tr>\n",
       "    <tr>\n",
       "      <th>2</th>\n",
       "      <td>Cerebral cortex</td>\n",
       "      <td>NCx_bNAC</td>\n",
       "      <td>L1_HAC</td>\n",
       "      <td>100_Sst</td>\n",
       "      <td>Inhibitory</td>\n",
       "    </tr>\n",
       "    <tr>\n",
       "      <th>3</th>\n",
       "      <td>Cerebral cortex</td>\n",
       "      <td>NCx_bNAC</td>\n",
       "      <td>L1_HAC</td>\n",
       "      <td>101_Sst</td>\n",
       "      <td>Inhibitory</td>\n",
       "    </tr>\n",
       "    <tr>\n",
       "      <th>4</th>\n",
       "      <td>Cerebral cortex</td>\n",
       "      <td>NCx_bNAC</td>\n",
       "      <td>L1_DAC</td>\n",
       "      <td>11_Lamp5</td>\n",
       "      <td>Inhibitory</td>\n",
       "    </tr>\n",
       "    <tr>\n",
       "      <th>...</th>\n",
       "      <td>...</td>\n",
       "      <td>...</td>\n",
       "      <td>...</td>\n",
       "      <td>...</td>\n",
       "      <td>...</td>\n",
       "    </tr>\n",
       "    <tr>\n",
       "      <th>995</th>\n",
       "      <td>Cerebral cortex</td>\n",
       "      <td>NCx_bIR</td>\n",
       "      <td>L23_BP</td>\n",
       "      <td>117_Pvalb</td>\n",
       "      <td>Inhibitory</td>\n",
       "    </tr>\n",
       "    <tr>\n",
       "      <th>996</th>\n",
       "      <td>Cerebral cortex</td>\n",
       "      <td>NCx_bIR</td>\n",
       "      <td>L23_BP</td>\n",
       "      <td>118_Pvalb</td>\n",
       "      <td>Inhibitory</td>\n",
       "    </tr>\n",
       "    <tr>\n",
       "      <th>997</th>\n",
       "      <td>Cerebral cortex</td>\n",
       "      <td>NCx_bIR</td>\n",
       "      <td>L23_BP</td>\n",
       "      <td>119_Pvalb</td>\n",
       "      <td>Inhibitory</td>\n",
       "    </tr>\n",
       "    <tr>\n",
       "      <th>998</th>\n",
       "      <td>Cerebral cortex</td>\n",
       "      <td>NCx_bIR</td>\n",
       "      <td>L23_BP</td>\n",
       "      <td>120_Pvalb</td>\n",
       "      <td>Inhibitory</td>\n",
       "    </tr>\n",
       "    <tr>\n",
       "      <th>999</th>\n",
       "      <td>Cerebral cortex</td>\n",
       "      <td>NCx_bIR</td>\n",
       "      <td>L23_BP</td>\n",
       "      <td>121_Pvalb</td>\n",
       "      <td>Inhibitory</td>\n",
       "    </tr>\n",
       "  </tbody>\n",
       "</table>\n",
       "<p>1000 rows × 5 columns</p>\n",
       "</div>"
      ],
      "text/plain": [
       "        brain_region    e_type  m_type     t_type transmitter\n",
       "0    Cerebral cortex  NCx_bNAC  L1_DAC   10_Lamp5  Inhibitory\n",
       "1    Cerebral cortex  NCx_bNAC  L1_HAC   10_Lamp5  Inhibitory\n",
       "2    Cerebral cortex  NCx_bNAC  L1_HAC    100_Sst  Inhibitory\n",
       "3    Cerebral cortex  NCx_bNAC  L1_HAC    101_Sst  Inhibitory\n",
       "4    Cerebral cortex  NCx_bNAC  L1_DAC   11_Lamp5  Inhibitory\n",
       "..               ...       ...     ...        ...         ...\n",
       "995  Cerebral cortex   NCx_bIR  L23_BP  117_Pvalb  Inhibitory\n",
       "996  Cerebral cortex   NCx_bIR  L23_BP  118_Pvalb  Inhibitory\n",
       "997  Cerebral cortex   NCx_bIR  L23_BP  119_Pvalb  Inhibitory\n",
       "998  Cerebral cortex   NCx_bIR  L23_BP  120_Pvalb  Inhibitory\n",
       "999  Cerebral cortex   NCx_bIR  L23_BP  121_Pvalb  Inhibitory\n",
       "\n",
       "[1000 rows x 5 columns]"
      ]
     },
     "execution_count": 211,
     "metadata": {},
     "output_type": "execute_result"
    }
   ],
   "source": [
    "df.drop([\"brain_region_version\", \"e_type_id\", \"e_type_version\", \"m_type_id\", \"m_type_version\", \"t_type_id\", \"t_type_version\", \"transmitter_id\", \"transmitter_version\"], axis=1)"
   ]
  },
  {
   "cell_type": "markdown",
   "metadata": {},
   "source": [
    "### Get possible t-types for a given brain region and all the brain regions which are part of that brain region"
   ]
  },
  {
   "cell_type": "markdown",
   "metadata": {},
   "source": [
    "This query returns possible t-types for the brain region one has set above and all the brain regions that are part of that brain region. E.g. if one specifies `Cerebral cortex` as brain region, this query would return t-types from the `Cerebral cortex` but also t-types for the `Isocortex` or the `Hippocampal formation` since they are both part of the `Cerebral cortex`."
   ]
  },
  {
   "cell_type": "code",
   "execution_count": 212,
   "metadata": {},
   "outputs": [],
   "source": [
    "query = f\"\"\"\n",
    "\n",
    "SELECT ?brain_region ?brain_region_version ?t_type ?t_type_id ?t_type_version\n",
    "\n",
    "WHERE {{\n",
    "        ?t_type_id label ?t_type ;\n",
    "                canBeLocatedInBrainRegion ?brain_region_id ;\n",
    "                _rev ?t_type_version .\n",
    "        \n",
    "        ?brain_region_id label ?brain_region ;\n",
    "            ^hasPart* <{brain_region}> ;\n",
    "            _rev ?brain_region_version .            \n",
    "}}\n",
    "\"\"\""
   ]
  },
  {
   "cell_type": "code",
   "execution_count": 213,
   "metadata": {},
   "outputs": [],
   "source": [
    "resources = forge.sparql(query, limit=500)"
   ]
  },
  {
   "cell_type": "code",
   "execution_count": 214,
   "metadata": {},
   "outputs": [],
   "source": [
    "df = forge.as_dataframe(resources)"
   ]
  },
  {
   "cell_type": "code",
   "execution_count": 215,
   "metadata": {},
   "outputs": [
    {
     "data": {
      "text/plain": [
       "466"
      ]
     },
     "execution_count": 215,
     "metadata": {},
     "output_type": "execute_result"
    }
   ],
   "source": [
    "len(set(df.t_type))"
   ]
  },
  {
   "cell_type": "code",
   "execution_count": 216,
   "metadata": {},
   "outputs": [
    {
     "data": {
      "text/html": [
       "<div>\n",
       "<style scoped>\n",
       "    .dataframe tbody tr th:only-of-type {\n",
       "        vertical-align: middle;\n",
       "    }\n",
       "\n",
       "    .dataframe tbody tr th {\n",
       "        vertical-align: top;\n",
       "    }\n",
       "\n",
       "    .dataframe thead th {\n",
       "        text-align: right;\n",
       "    }\n",
       "</style>\n",
       "<table border=\"1\" class=\"dataframe\">\n",
       "  <thead>\n",
       "    <tr style=\"text-align: right;\">\n",
       "      <th></th>\n",
       "      <th>brain_region</th>\n",
       "      <th>brain_region_version</th>\n",
       "      <th>t_type</th>\n",
       "      <th>t_type_id</th>\n",
       "      <th>t_type_version</th>\n",
       "    </tr>\n",
       "  </thead>\n",
       "  <tbody>\n",
       "    <tr>\n",
       "      <th>0</th>\n",
       "      <td>Field CA1</td>\n",
       "      <td>41</td>\n",
       "      <td>329_CA1-ProS</td>\n",
       "      <td>https://bbp.epfl.ch/ontologies/core/ttypes/329...</td>\n",
       "      <td>51</td>\n",
       "    </tr>\n",
       "    <tr>\n",
       "      <th>1</th>\n",
       "      <td>Field CA1</td>\n",
       "      <td>41</td>\n",
       "      <td>330_CA1-ProS</td>\n",
       "      <td>https://bbp.epfl.ch/ontologies/core/ttypes/330...</td>\n",
       "      <td>51</td>\n",
       "    </tr>\n",
       "    <tr>\n",
       "      <th>2</th>\n",
       "      <td>Field CA1</td>\n",
       "      <td>41</td>\n",
       "      <td>331_CA1-ProS</td>\n",
       "      <td>https://bbp.epfl.ch/ontologies/core/ttypes/331...</td>\n",
       "      <td>51</td>\n",
       "    </tr>\n",
       "    <tr>\n",
       "      <th>3</th>\n",
       "      <td>Field CA1</td>\n",
       "      <td>41</td>\n",
       "      <td>332_CA1-ProS</td>\n",
       "      <td>https://bbp.epfl.ch/ontologies/core/ttypes/332...</td>\n",
       "      <td>51</td>\n",
       "    </tr>\n",
       "    <tr>\n",
       "      <th>4</th>\n",
       "      <td>Field CA1</td>\n",
       "      <td>41</td>\n",
       "      <td>333_CA1-ProS</td>\n",
       "      <td>https://bbp.epfl.ch/ontologies/core/ttypes/333...</td>\n",
       "      <td>51</td>\n",
       "    </tr>\n",
       "    <tr>\n",
       "      <th>...</th>\n",
       "      <td>...</td>\n",
       "      <td>...</td>\n",
       "      <td>...</td>\n",
       "      <td>...</td>\n",
       "      <td>...</td>\n",
       "    </tr>\n",
       "    <tr>\n",
       "      <th>495</th>\n",
       "      <td>Cerebral cortex</td>\n",
       "      <td>41</td>\n",
       "      <td>74_Sst</td>\n",
       "      <td>https://bbp.epfl.ch/ontologies/core/ttypes/74_Sst</td>\n",
       "      <td>51</td>\n",
       "    </tr>\n",
       "    <tr>\n",
       "      <th>496</th>\n",
       "      <td>Cerebral cortex</td>\n",
       "      <td>41</td>\n",
       "      <td>75_Sst</td>\n",
       "      <td>https://bbp.epfl.ch/ontologies/core/ttypes/75_Sst</td>\n",
       "      <td>51</td>\n",
       "    </tr>\n",
       "    <tr>\n",
       "      <th>497</th>\n",
       "      <td>Cerebral cortex</td>\n",
       "      <td>41</td>\n",
       "      <td>76_Sst</td>\n",
       "      <td>https://bbp.epfl.ch/ontologies/core/ttypes/76_Sst</td>\n",
       "      <td>51</td>\n",
       "    </tr>\n",
       "    <tr>\n",
       "      <th>498</th>\n",
       "      <td>Cerebral cortex</td>\n",
       "      <td>41</td>\n",
       "      <td>77_Sst HPF</td>\n",
       "      <td>https://bbp.epfl.ch/ontologies/core/ttypes/77_...</td>\n",
       "      <td>51</td>\n",
       "    </tr>\n",
       "    <tr>\n",
       "      <th>499</th>\n",
       "      <td>Cerebral cortex</td>\n",
       "      <td>41</td>\n",
       "      <td>79_Sst</td>\n",
       "      <td>https://bbp.epfl.ch/ontologies/core/ttypes/79_Sst</td>\n",
       "      <td>51</td>\n",
       "    </tr>\n",
       "  </tbody>\n",
       "</table>\n",
       "<p>500 rows × 5 columns</p>\n",
       "</div>"
      ],
      "text/plain": [
       "        brain_region  brain_region_version        t_type  \\\n",
       "0          Field CA1                    41  329_CA1-ProS   \n",
       "1          Field CA1                    41  330_CA1-ProS   \n",
       "2          Field CA1                    41  331_CA1-ProS   \n",
       "3          Field CA1                    41  332_CA1-ProS   \n",
       "4          Field CA1                    41  333_CA1-ProS   \n",
       "..               ...                   ...           ...   \n",
       "495  Cerebral cortex                    41        74_Sst   \n",
       "496  Cerebral cortex                    41        75_Sst   \n",
       "497  Cerebral cortex                    41        76_Sst   \n",
       "498  Cerebral cortex                    41    77_Sst HPF   \n",
       "499  Cerebral cortex                    41        79_Sst   \n",
       "\n",
       "                                             t_type_id  t_type_version  \n",
       "0    https://bbp.epfl.ch/ontologies/core/ttypes/329...              51  \n",
       "1    https://bbp.epfl.ch/ontologies/core/ttypes/330...              51  \n",
       "2    https://bbp.epfl.ch/ontologies/core/ttypes/331...              51  \n",
       "3    https://bbp.epfl.ch/ontologies/core/ttypes/332...              51  \n",
       "4    https://bbp.epfl.ch/ontologies/core/ttypes/333...              51  \n",
       "..                                                 ...             ...  \n",
       "495  https://bbp.epfl.ch/ontologies/core/ttypes/74_Sst              51  \n",
       "496  https://bbp.epfl.ch/ontologies/core/ttypes/75_Sst              51  \n",
       "497  https://bbp.epfl.ch/ontologies/core/ttypes/76_Sst              51  \n",
       "498  https://bbp.epfl.ch/ontologies/core/ttypes/77_...              51  \n",
       "499  https://bbp.epfl.ch/ontologies/core/ttypes/79_Sst              51  \n",
       "\n",
       "[500 rows x 5 columns]"
      ]
     },
     "execution_count": 216,
     "metadata": {},
     "output_type": "execute_result"
    }
   ],
   "source": [
    "df"
   ]
  },
  {
   "cell_type": "markdown",
   "metadata": {},
   "source": [
    "### Get m-types together with their transmitter type (sClass)"
   ]
  },
  {
   "cell_type": "code",
   "execution_count": 217,
   "metadata": {},
   "outputs": [],
   "source": [
    "query = f\"\"\"\n",
    "\n",
    "SELECT ?transmitter ?m_type\n",
    "\n",
    "WHERE {{\n",
    "        ?m_type_id label ?m_type ;\n",
    "            subClassOf* MType ;\n",
    "            subClassOf* / hasNeurotransmitterType / label ?transmitter .           \n",
    "}}\n",
    "\"\"\""
   ]
  },
  {
   "cell_type": "code",
   "execution_count": 218,
   "metadata": {},
   "outputs": [],
   "source": [
    "resources = forge.sparql(query, limit=100)"
   ]
  },
  {
   "cell_type": "code",
   "execution_count": 219,
   "metadata": {},
   "outputs": [],
   "source": [
    "df = forge.as_dataframe(resources)"
   ]
  },
  {
   "cell_type": "code",
   "execution_count": 220,
   "metadata": {},
   "outputs": [
    {
     "data": {
      "text/html": [
       "<div>\n",
       "<style scoped>\n",
       "    .dataframe tbody tr th:only-of-type {\n",
       "        vertical-align: middle;\n",
       "    }\n",
       "\n",
       "    .dataframe tbody tr th {\n",
       "        vertical-align: top;\n",
       "    }\n",
       "\n",
       "    .dataframe thead th {\n",
       "        text-align: right;\n",
       "    }\n",
       "</style>\n",
       "<table border=\"1\" class=\"dataframe\">\n",
       "  <thead>\n",
       "    <tr style=\"text-align: right;\">\n",
       "      <th></th>\n",
       "      <th>m_type</th>\n",
       "      <th>transmitter</th>\n",
       "    </tr>\n",
       "  </thead>\n",
       "  <tbody>\n",
       "    <tr>\n",
       "      <th>0</th>\n",
       "      <td>L1_DAC</td>\n",
       "      <td>Inhibitory</td>\n",
       "    </tr>\n",
       "    <tr>\n",
       "      <th>1</th>\n",
       "      <td>L1_HAC</td>\n",
       "      <td>Inhibitory</td>\n",
       "    </tr>\n",
       "    <tr>\n",
       "      <th>2</th>\n",
       "      <td>L1_LAC</td>\n",
       "      <td>Inhibitory</td>\n",
       "    </tr>\n",
       "    <tr>\n",
       "      <th>3</th>\n",
       "      <td>L1_SAC</td>\n",
       "      <td>Inhibitory</td>\n",
       "    </tr>\n",
       "    <tr>\n",
       "      <th>4</th>\n",
       "      <td>L4_SSC</td>\n",
       "      <td>Excitatory</td>\n",
       "    </tr>\n",
       "  </tbody>\n",
       "</table>\n",
       "</div>"
      ],
      "text/plain": [
       "   m_type transmitter\n",
       "0  L1_DAC  Inhibitory\n",
       "1  L1_HAC  Inhibitory\n",
       "2  L1_LAC  Inhibitory\n",
       "3  L1_SAC  Inhibitory\n",
       "4  L4_SSC  Excitatory"
      ]
     },
     "execution_count": 220,
     "metadata": {},
     "output_type": "execute_result"
    }
   ],
   "source": [
    "df.head()"
   ]
  },
  {
   "cell_type": "markdown",
   "metadata": {},
   "source": [
    "### Get m-types of pyramidal cells (mClass)"
   ]
  },
  {
   "cell_type": "code",
   "execution_count": 221,
   "metadata": {},
   "outputs": [],
   "source": [
    "query = f\"\"\"\n",
    "\n",
    "SELECT ?mClass ?m_type\n",
    "\n",
    "WHERE {{\n",
    "        ?m_type_id label ?m_type ;\n",
    "            subClassOf* MType ;\n",
    "            subClassOf* <https://neuroshapes.org/PyramidalNeuron> .           \n",
    "}}\n",
    "\"\"\""
   ]
  },
  {
   "cell_type": "code",
   "execution_count": 222,
   "metadata": {},
   "outputs": [],
   "source": [
    "resources = forge.sparql(query, limit=100)"
   ]
  },
  {
   "cell_type": "code",
   "execution_count": 223,
   "metadata": {},
   "outputs": [],
   "source": [
    "df = forge.as_dataframe(resources)"
   ]
  },
  {
   "cell_type": "code",
   "execution_count": 224,
   "metadata": {},
   "outputs": [
    {
     "data": {
      "text/html": [
       "<div>\n",
       "<style scoped>\n",
       "    .dataframe tbody tr th:only-of-type {\n",
       "        vertical-align: middle;\n",
       "    }\n",
       "\n",
       "    .dataframe tbody tr th {\n",
       "        vertical-align: top;\n",
       "    }\n",
       "\n",
       "    .dataframe thead th {\n",
       "        text-align: right;\n",
       "    }\n",
       "</style>\n",
       "<table border=\"1\" class=\"dataframe\">\n",
       "  <thead>\n",
       "    <tr style=\"text-align: right;\">\n",
       "      <th></th>\n",
       "      <th>m_type</th>\n",
       "    </tr>\n",
       "  </thead>\n",
       "  <tbody>\n",
       "    <tr>\n",
       "      <th>0</th>\n",
       "      <td>L3_TPC:C</td>\n",
       "    </tr>\n",
       "    <tr>\n",
       "      <th>1</th>\n",
       "      <td>L5_TPC:B</td>\n",
       "    </tr>\n",
       "    <tr>\n",
       "      <th>2</th>\n",
       "      <td>L5_TPC:A</td>\n",
       "    </tr>\n",
       "    <tr>\n",
       "      <th>3</th>\n",
       "      <td>L3_TPC:A</td>\n",
       "    </tr>\n",
       "    <tr>\n",
       "      <th>4</th>\n",
       "      <td>L2_TPC:B</td>\n",
       "    </tr>\n",
       "  </tbody>\n",
       "</table>\n",
       "</div>"
      ],
      "text/plain": [
       "     m_type\n",
       "0  L3_TPC:C\n",
       "1  L5_TPC:B\n",
       "2  L5_TPC:A\n",
       "3  L3_TPC:A\n",
       "4  L2_TPC:B"
      ]
     },
     "execution_count": 224,
     "metadata": {},
     "output_type": "execute_result"
    }
   ],
   "source": [
    "df.head()"
   ]
  },
  {
   "cell_type": "markdown",
   "metadata": {
    "tags": []
   },
   "source": [
    "### Get m-types of interneurons (mClass)"
   ]
  },
  {
   "cell_type": "code",
   "execution_count": 225,
   "metadata": {},
   "outputs": [],
   "source": [
    "query = f\"\"\"\n",
    "\n",
    "SELECT ?mClass ?m_type\n",
    "\n",
    "WHERE {{\n",
    "        ?m_type_id label ?m_type ;\n",
    "            subClassOf* MType ;\n",
    "            subClassOf* <https://neuroshapes.org/Interneuron> .           \n",
    "}}\n",
    "\"\"\""
   ]
  },
  {
   "cell_type": "code",
   "execution_count": 226,
   "metadata": {},
   "outputs": [],
   "source": [
    "resources = forge.sparql(query, limit=100)"
   ]
  },
  {
   "cell_type": "code",
   "execution_count": 227,
   "metadata": {},
   "outputs": [],
   "source": [
    "df = forge.as_dataframe(resources)"
   ]
  },
  {
   "cell_type": "code",
   "execution_count": 228,
   "metadata": {},
   "outputs": [
    {
     "data": {
      "text/html": [
       "<div>\n",
       "<style scoped>\n",
       "    .dataframe tbody tr th:only-of-type {\n",
       "        vertical-align: middle;\n",
       "    }\n",
       "\n",
       "    .dataframe tbody tr th {\n",
       "        vertical-align: top;\n",
       "    }\n",
       "\n",
       "    .dataframe thead th {\n",
       "        text-align: right;\n",
       "    }\n",
       "</style>\n",
       "<table border=\"1\" class=\"dataframe\">\n",
       "  <thead>\n",
       "    <tr style=\"text-align: right;\">\n",
       "      <th></th>\n",
       "      <th>m_type</th>\n",
       "    </tr>\n",
       "  </thead>\n",
       "  <tbody>\n",
       "    <tr>\n",
       "      <th>0</th>\n",
       "      <td>L5_MC</td>\n",
       "    </tr>\n",
       "    <tr>\n",
       "      <th>1</th>\n",
       "      <td>L6_MC</td>\n",
       "    </tr>\n",
       "    <tr>\n",
       "      <th>2</th>\n",
       "      <td>L1_DAC</td>\n",
       "    </tr>\n",
       "    <tr>\n",
       "      <th>3</th>\n",
       "      <td>L1_HAC</td>\n",
       "    </tr>\n",
       "    <tr>\n",
       "      <th>4</th>\n",
       "      <td>L1_LAC</td>\n",
       "    </tr>\n",
       "  </tbody>\n",
       "</table>\n",
       "</div>"
      ],
      "text/plain": [
       "   m_type\n",
       "0   L5_MC\n",
       "1   L6_MC\n",
       "2  L1_DAC\n",
       "3  L1_HAC\n",
       "4  L1_LAC"
      ]
     },
     "execution_count": 228,
     "metadata": {},
     "output_type": "execute_result"
    }
   ],
   "source": [
    "df.head()"
   ]
  },
  {
   "cell_type": "markdown",
   "metadata": {},
   "source": [
    "### Get m-types with a given morphology and the morphology definition"
   ]
  },
  {
   "cell_type": "markdown",
   "metadata": {},
   "source": [
    "This query returns m-types which have a given morphological shape. The cell morphologies were taken from the [Phenotype and Trait Ontology](https://ontobee.org/ontology/PATO) (this was done following the request of Georges Khazen who wanted to include the `PATO` deinfitions of morphologies).\n",
    "Set `MORPHOLOGY` below to one of the following:\n",
    "\n",
    "- `standard pyramidal morphology`\n",
    "- `pyramidal family morphology`\n",
    "- `tufted pyramidal morphology`\n",
    "- `basket cell morphology`\n",
    "- `chandelier cell morphology`\n",
    "- `neurogliaform morphology`\n",
    "- `Martinotti morphology`\n",
    "- `cortical bipolar morphology`\n",
    "- `bitufted cell morphology`"
   ]
  },
  {
   "cell_type": "code",
   "execution_count": 229,
   "metadata": {},
   "outputs": [],
   "source": [
    "MORPHOLOGY = \"basket cell morphology\""
   ]
  },
  {
   "cell_type": "code",
   "execution_count": 230,
   "metadata": {},
   "outputs": [],
   "source": [
    "query = f\"\"\"\n",
    "\n",
    "SELECT ?cell ?definition\n",
    "\n",
    "WHERE {{\n",
    "        ?cell_id subClassOf* / hasMorphologicalPhenotype ?pato_id ;\n",
    "                  label ?cell .\n",
    "        ?pato_id subClassOf* / label \"{MORPHOLOGY}\" .\n",
    "        ?parent_pato_id label \"{MORPHOLOGY}\" ;\n",
    "                <http://purl.obolibrary.org/obo/IAO_0000115> ?definition .\n",
    "}}\n",
    "\"\"\""
   ]
  },
  {
   "cell_type": "code",
   "execution_count": 231,
   "metadata": {},
   "outputs": [],
   "source": [
    "resources = forge.sparql(query, limit=100)"
   ]
  },
  {
   "cell_type": "code",
   "execution_count": 232,
   "metadata": {},
   "outputs": [],
   "source": [
    "df = forge.as_dataframe(resources)"
   ]
  },
  {
   "cell_type": "code",
   "execution_count": 233,
   "metadata": {},
   "outputs": [
    {
     "data": {
      "text/html": [
       "<div>\n",
       "<style scoped>\n",
       "    .dataframe tbody tr th:only-of-type {\n",
       "        vertical-align: middle;\n",
       "    }\n",
       "\n",
       "    .dataframe tbody tr th {\n",
       "        vertical-align: top;\n",
       "    }\n",
       "\n",
       "    .dataframe thead th {\n",
       "        text-align: right;\n",
       "    }\n",
       "</style>\n",
       "<table border=\"1\" class=\"dataframe\">\n",
       "  <thead>\n",
       "    <tr style=\"text-align: right;\">\n",
       "      <th></th>\n",
       "      <th>cell</th>\n",
       "      <th>definition</th>\n",
       "    </tr>\n",
       "  </thead>\n",
       "  <tbody>\n",
       "    <tr>\n",
       "      <th>0</th>\n",
       "      <td>BC</td>\n",
       "      <td>A cell morphology that inheres in multipolar n...</td>\n",
       "    </tr>\n",
       "    <tr>\n",
       "      <th>1</th>\n",
       "      <td>Hippocampus basket cell</td>\n",
       "      <td>A cell morphology that inheres in multipolar n...</td>\n",
       "    </tr>\n",
       "    <tr>\n",
       "      <th>2</th>\n",
       "      <td>L23_LBC</td>\n",
       "      <td>A cell morphology that inheres in multipolar n...</td>\n",
       "    </tr>\n",
       "    <tr>\n",
       "      <th>3</th>\n",
       "      <td>L23_NBC</td>\n",
       "      <td>A cell morphology that inheres in multipolar n...</td>\n",
       "    </tr>\n",
       "    <tr>\n",
       "      <th>4</th>\n",
       "      <td>L23_SBC</td>\n",
       "      <td>A cell morphology that inheres in multipolar n...</td>\n",
       "    </tr>\n",
       "  </tbody>\n",
       "</table>\n",
       "</div>"
      ],
      "text/plain": [
       "                      cell                                         definition\n",
       "0                       BC  A cell morphology that inheres in multipolar n...\n",
       "1  Hippocampus basket cell  A cell morphology that inheres in multipolar n...\n",
       "2                  L23_LBC  A cell morphology that inheres in multipolar n...\n",
       "3                  L23_NBC  A cell morphology that inheres in multipolar n...\n",
       "4                  L23_SBC  A cell morphology that inheres in multipolar n..."
      ]
     },
     "execution_count": 233,
     "metadata": {},
     "output_type": "execute_result"
    }
   ],
   "source": [
    "df.head()"
   ]
  },
  {
   "cell_type": "markdown",
   "metadata": {},
   "source": [
    "### Get t-types from a paper specific paper"
   ]
  },
  {
   "cell_type": "markdown",
   "metadata": {},
   "source": [
    "The [Cell Types and Missing Data - Version 1](https://docs.google.com/spreadsheets/d/1iUgqPszKkYQgkJlmpQSkeyFWcEoOxovsBkoLPtA3qPg/edit#gid=1180597294) spreadsheet which served as source for the `Cell Types Ontology` - lists paper identifiers on the `Notes` sheet. These references were added to the respective t-types.\n",
    "Set `PAPER` below to one of the following:\n",
    "\n",
    "- Yao et al. 2021: `https://www.sciencedirect.com/science/article/pii/S0092867421005018?dgcid=rss_sd_all`\n",
    "- Gokce 2016: `https://www.ncbi.nlm.nih.gov/labs/pmc/articles/PMC5004635/`\n",
    "- Kozareva et al. 2021: `https://www.nature.com/articles/s41586-021-03220-z`\n",
    "- Chen et al. 2017: `https://www.sciencedirect.com/science/article/pii/S2211124717303212?via%3Dihub`\n",
    "- Kalish et al. 2018: `https://www.pnas.org/content/115/5/E1051`"
   ]
  },
  {
   "cell_type": "code",
   "execution_count": 234,
   "metadata": {},
   "outputs": [],
   "source": [
    "PAPER = \"https://www.sciencedirect.com/science/article/pii/S0092867421005018?dgcid=rss_sd_all\""
   ]
  },
  {
   "cell_type": "code",
   "execution_count": 235,
   "metadata": {},
   "outputs": [],
   "source": [
    "query = f\"\"\"\n",
    "\n",
    "SELECT ?label ?brain_region\n",
    "\n",
    "WHERE {{\n",
    "        ?id seeAlso <{PAPER}> ;\n",
    "            label ?label .\n",
    "        OPTIONAL {{ ?id canHaveBrainRegion / label ?brain_region }} .\n",
    "}}\n",
    "\"\"\""
   ]
  },
  {
   "cell_type": "code",
   "execution_count": 236,
   "metadata": {},
   "outputs": [],
   "source": [
    "resources = forge.sparql(query, limit=100)"
   ]
  },
  {
   "cell_type": "code",
   "execution_count": 237,
   "metadata": {},
   "outputs": [],
   "source": [
    "df = forge.as_dataframe(resources)"
   ]
  },
  {
   "cell_type": "code",
   "execution_count": 238,
   "metadata": {},
   "outputs": [
    {
     "data": {
      "text/html": [
       "<div>\n",
       "<style scoped>\n",
       "    .dataframe tbody tr th:only-of-type {\n",
       "        vertical-align: middle;\n",
       "    }\n",
       "\n",
       "    .dataframe tbody tr th {\n",
       "        vertical-align: top;\n",
       "    }\n",
       "\n",
       "    .dataframe thead th {\n",
       "        text-align: right;\n",
       "    }\n",
       "</style>\n",
       "<table border=\"1\" class=\"dataframe\">\n",
       "  <thead>\n",
       "    <tr style=\"text-align: right;\">\n",
       "      <th></th>\n",
       "      <th>label</th>\n",
       "    </tr>\n",
       "  </thead>\n",
       "  <tbody>\n",
       "    <tr>\n",
       "      <th>0</th>\n",
       "      <td>10_Lamp5</td>\n",
       "    </tr>\n",
       "    <tr>\n",
       "      <th>1</th>\n",
       "      <td>100_Sst</td>\n",
       "    </tr>\n",
       "    <tr>\n",
       "      <th>2</th>\n",
       "      <td>101_Sst</td>\n",
       "    </tr>\n",
       "    <tr>\n",
       "      <th>3</th>\n",
       "      <td>102_Sst HPF</td>\n",
       "    </tr>\n",
       "    <tr>\n",
       "      <th>4</th>\n",
       "      <td>103_Sst HPF</td>\n",
       "    </tr>\n",
       "  </tbody>\n",
       "</table>\n",
       "</div>"
      ],
      "text/plain": [
       "         label\n",
       "0     10_Lamp5\n",
       "1      100_Sst\n",
       "2      101_Sst\n",
       "3  102_Sst HPF\n",
       "4  103_Sst HPF"
      ]
     },
     "execution_count": 238,
     "metadata": {},
     "output_type": "execute_result"
    }
   ],
   "source": [
    "df.head()"
   ]
  },
  {
   "cell_type": "markdown",
   "metadata": {},
   "source": [
    "### Get the generic m- e- and t-type"
   ]
  },
  {
   "cell_type": "markdown",
   "metadata": {},
   "source": [
    "One of the requirements specified during the meeting on `2022-05-30` was to have a placeholder class for each of the types. We thus implemented an m- e- and t-type placeholder class."
   ]
  },
  {
   "cell_type": "code",
   "execution_count": 283,
   "metadata": {},
   "outputs": [],
   "source": [
    "query = \"\"\"\n",
    "\n",
    "SELECT DISTINCT ?id ?prefLabel ?label\n",
    "\n",
    "WHERE {\n",
    "        ?id a Class .\n",
    "        { ?id prefLabel ?prefLabel .\n",
    "            FILTER (CONTAINS(STR(?prefLabel), 'Generic')) }\n",
    "        UNION\n",
    "        { ?id label ?label .\n",
    "            FILTER (CONTAINS(STR(?label), 'Generic')) }\n",
    "    \n",
    "}\n",
    "\"\"\""
   ]
  },
  {
   "cell_type": "code",
   "execution_count": 284,
   "metadata": {},
   "outputs": [],
   "source": [
    "resources = forge.sparql(query, limit=100)"
   ]
  },
  {
   "cell_type": "code",
   "execution_count": 285,
   "metadata": {},
   "outputs": [],
   "source": [
    "df = forge.as_dataframe(resources)"
   ]
  },
  {
   "cell_type": "code",
   "execution_count": 286,
   "metadata": {},
   "outputs": [
    {
     "data": {
      "text/html": [
       "<div>\n",
       "<style scoped>\n",
       "    .dataframe tbody tr th:only-of-type {\n",
       "        vertical-align: middle;\n",
       "    }\n",
       "\n",
       "    .dataframe tbody tr th {\n",
       "        vertical-align: top;\n",
       "    }\n",
       "\n",
       "    .dataframe thead th {\n",
       "        text-align: right;\n",
       "    }\n",
       "</style>\n",
       "<table border=\"1\" class=\"dataframe\">\n",
       "  <thead>\n",
       "    <tr style=\"text-align: right;\">\n",
       "      <th></th>\n",
       "      <th>id</th>\n",
       "      <th>prefLabel</th>\n",
       "      <th>label</th>\n",
       "    </tr>\n",
       "  </thead>\n",
       "  <tbody>\n",
       "    <tr>\n",
       "      <th>0</th>\n",
       "      <td>https://bbp.epfl.ch/ontologies/core/bmo/Generi...</td>\n",
       "      <td>Generic Excitatory Neuron EType</td>\n",
       "      <td>NaN</td>\n",
       "    </tr>\n",
       "    <tr>\n",
       "      <th>1</th>\n",
       "      <td>https://bbp.epfl.ch/ontologies/core/bmo/Generi...</td>\n",
       "      <td>Generic Excitatory Neuron MType</td>\n",
       "      <td>NaN</td>\n",
       "    </tr>\n",
       "    <tr>\n",
       "      <th>2</th>\n",
       "      <td>https://bbp.epfl.ch/ontologies/core/bmo/Generi...</td>\n",
       "      <td>Generic Inhibitory Neuron EType</td>\n",
       "      <td>NaN</td>\n",
       "    </tr>\n",
       "    <tr>\n",
       "      <th>3</th>\n",
       "      <td>https://bbp.epfl.ch/ontologies/core/bmo/Generi...</td>\n",
       "      <td>Generic Inhibitory Neuron MType</td>\n",
       "      <td>NaN</td>\n",
       "    </tr>\n",
       "    <tr>\n",
       "      <th>4</th>\n",
       "      <td>https://bbp.epfl.ch/ontologies/core/bmo/Generi...</td>\n",
       "      <td>NaN</td>\n",
       "      <td>Generic Neuron Electrical Type</td>\n",
       "    </tr>\n",
       "    <tr>\n",
       "      <th>5</th>\n",
       "      <td>https://bbp.epfl.ch/ontologies/core/bmo/Generi...</td>\n",
       "      <td>NaN</td>\n",
       "      <td>Generic Neuron Morphological Type</td>\n",
       "    </tr>\n",
       "    <tr>\n",
       "      <th>6</th>\n",
       "      <td>https://bbp.epfl.ch/ontologies/core/bmo/Generi...</td>\n",
       "      <td>NaN</td>\n",
       "      <td>Generic Neuron TType</td>\n",
       "    </tr>\n",
       "  </tbody>\n",
       "</table>\n",
       "</div>"
      ],
      "text/plain": [
       "                                                  id  \\\n",
       "0  https://bbp.epfl.ch/ontologies/core/bmo/Generi...   \n",
       "1  https://bbp.epfl.ch/ontologies/core/bmo/Generi...   \n",
       "2  https://bbp.epfl.ch/ontologies/core/bmo/Generi...   \n",
       "3  https://bbp.epfl.ch/ontologies/core/bmo/Generi...   \n",
       "4  https://bbp.epfl.ch/ontologies/core/bmo/Generi...   \n",
       "5  https://bbp.epfl.ch/ontologies/core/bmo/Generi...   \n",
       "6  https://bbp.epfl.ch/ontologies/core/bmo/Generi...   \n",
       "\n",
       "                         prefLabel                              label  \n",
       "0  Generic Excitatory Neuron EType                                NaN  \n",
       "1  Generic Excitatory Neuron MType                                NaN  \n",
       "2  Generic Inhibitory Neuron EType                                NaN  \n",
       "3  Generic Inhibitory Neuron MType                                NaN  \n",
       "4                              NaN     Generic Neuron Electrical Type  \n",
       "5                              NaN  Generic Neuron Morphological Type  \n",
       "6                              NaN               Generic Neuron TType  "
      ]
     },
     "execution_count": 286,
     "metadata": {},
     "output_type": "execute_result"
    }
   ],
   "source": [
    "df"
   ]
  },
  {
   "cell_type": "markdown",
   "metadata": {},
   "source": [
    "### Get all cell type combinations and probabilities for a given brain region"
   ]
  },
  {
   "cell_type": "markdown",
   "metadata": {},
   "source": [
    "This query cell type combinations for a given brain region (i.e. the `BRAIN_REGION` specified above). For demonstration purposes, the `limit` parameter on the query has been set to `1000`. This can be increased to get all available cell type combinations."
   ]
  },
  {
   "cell_type": "code",
   "execution_count": 287,
   "metadata": {},
   "outputs": [],
   "source": [
    "query = f\"\"\"\n",
    "\n",
    "SELECT ?brain_region ?m_type ?e_type ?molecular_type ?probability\n",
    "\n",
    "WHERE {{\n",
    "        ?probability_id hasTarget / hasSource / canBeLocatedInBrainRegion ?brain_region_id ;\n",
    "            hasBody / value ?probability ;\n",
    "            hasTarget ?m_type_target ;\n",
    "            hasTarget ?e_type_target ;\n",
    "            hasTarget ?molecular_type_target .\n",
    "        ?brain_region_id label ?brain_region ;\n",
    "            ^hasPart* <{brain_region}> .\n",
    "        ?m_type_target hasSource / a MType ;\n",
    "            hasSource / label ?m_type .\n",
    "        ?e_type_target hasSource / a EType ;\n",
    "            hasSource / label ?e_type .\n",
    "        ?molecular_type_target hasSource / a NeuronMolecularType ;\n",
    "            hasSource / label ?molecular_type .\n",
    "}}\n",
    "\"\"\""
   ]
  },
  {
   "cell_type": "code",
   "execution_count": 288,
   "metadata": {},
   "outputs": [],
   "source": [
    "resources = forge.sparql(query, limit=1000)"
   ]
  },
  {
   "cell_type": "code",
   "execution_count": 289,
   "metadata": {},
   "outputs": [],
   "source": [
    "df = forge.as_dataframe(resources)"
   ]
  },
  {
   "cell_type": "code",
   "execution_count": 290,
   "metadata": {},
   "outputs": [
    {
     "data": {
      "text/html": [
       "<div>\n",
       "<style scoped>\n",
       "    .dataframe tbody tr th:only-of-type {\n",
       "        vertical-align: middle;\n",
       "    }\n",
       "\n",
       "    .dataframe tbody tr th {\n",
       "        vertical-align: top;\n",
       "    }\n",
       "\n",
       "    .dataframe thead th {\n",
       "        text-align: right;\n",
       "    }\n",
       "</style>\n",
       "<table border=\"1\" class=\"dataframe\">\n",
       "  <thead>\n",
       "    <tr style=\"text-align: right;\">\n",
       "      <th></th>\n",
       "      <th>brain_region</th>\n",
       "      <th>e_type</th>\n",
       "      <th>m_type</th>\n",
       "      <th>molecular_type</th>\n",
       "      <th>probability</th>\n",
       "    </tr>\n",
       "  </thead>\n",
       "  <tbody>\n",
       "    <tr>\n",
       "      <th>0</th>\n",
       "      <td>Isocortex</td>\n",
       "      <td>cAC</td>\n",
       "      <td>L23_LBC</td>\n",
       "      <td>SST+</td>\n",
       "      <td>0.117424242</td>\n",
       "    </tr>\n",
       "    <tr>\n",
       "      <th>1</th>\n",
       "      <td>Isocortex</td>\n",
       "      <td>cAC</td>\n",
       "      <td>L23_MC</td>\n",
       "      <td>SST+</td>\n",
       "      <td>0.394886364</td>\n",
       "    </tr>\n",
       "    <tr>\n",
       "      <th>2</th>\n",
       "      <td>Isocortex</td>\n",
       "      <td>cAC</td>\n",
       "      <td>L23_NBC</td>\n",
       "      <td>SST+</td>\n",
       "      <td>0.0</td>\n",
       "    </tr>\n",
       "    <tr>\n",
       "      <th>3</th>\n",
       "      <td>Isocortex</td>\n",
       "      <td>cSTUT</td>\n",
       "      <td>L23_LBC</td>\n",
       "      <td>SST+</td>\n",
       "      <td>0.0</td>\n",
       "    </tr>\n",
       "    <tr>\n",
       "      <th>4</th>\n",
       "      <td>Isocortex</td>\n",
       "      <td>bAC</td>\n",
       "      <td>L23_LBC</td>\n",
       "      <td>SST+</td>\n",
       "      <td>0.254456328</td>\n",
       "    </tr>\n",
       "  </tbody>\n",
       "</table>\n",
       "</div>"
      ],
      "text/plain": [
       "  brain_region e_type   m_type molecular_type  probability\n",
       "0    Isocortex    cAC  L23_LBC           SST+  0.117424242\n",
       "1    Isocortex    cAC   L23_MC           SST+  0.394886364\n",
       "2    Isocortex    cAC  L23_NBC           SST+          0.0\n",
       "3    Isocortex  cSTUT  L23_LBC           SST+          0.0\n",
       "4    Isocortex    bAC  L23_LBC           SST+  0.254456328"
      ]
     },
     "execution_count": 290,
     "metadata": {},
     "output_type": "execute_result"
    }
   ],
   "source": [
    "df.head()"
   ]
  },
  {
   "cell_type": "markdown",
   "metadata": {},
   "source": [
    "----"
   ]
  },
  {
   "cell_type": "markdown",
   "metadata": {},
   "source": [
    "## 2022-08-31 Workshop queries"
   ]
  },
  {
   "cell_type": "markdown",
   "metadata": {},
   "source": [
    "### Get Atlas Release info"
   ]
  },
  {
   "cell_type": "markdown",
   "metadata": {},
   "source": [
    "#### Get the atlas release resource\n",
    "These atlas releases can be explored through the atlas web app:\n",
    "\n",
    "* dev: https://bluebrainatlas.kcpdev.bbp.epfl.ch/atlas\n",
    "* prod: https://bbp.epfl.ch/atlas\n"
   ]
  },
  {
   "cell_type": "code",
   "execution_count": 291,
   "metadata": {},
   "outputs": [],
   "source": [
    "BBP_Mouse_Brain_Atlas_Release = \"https://bbp.epfl.ch/neurosciencegraph/data/4906ab85-694f-469d-962f-c0174e901885\" # output of the BBP Annotation Atlas pipeline\n",
    "Allen_Mouse_CCF_v2_v3_hybrid =  \"https://bbp.epfl.ch/neurosciencegraph/data/e2e500ec-fe7e-4888-88b9-b72425315dda\" # Csaba 1 version: This atlas release uses the brain parcellation resulting of the hybridation between CCFv2 and CCFv3 and integrating the splitting of layer 2 and layer 3. The average brain template and the ontology is common across CCFv2 and CCFv3.\n",
    "ALLEN_CCFV3_Atlas_Release =  \"https://bbp.epfl.ch/neurosciencegraph/data/831a626a-c0ae-4691-8ce8-cfb7491345d9\" # original Allen\n",
    "ALLEN_CCFV2_Atlas_Release = \"https://bbp.epfl.ch/neurosciencegraph/data/dd114f81-ba1f-47b1-8900-e497597f06ac\"\n",
    "BBP_Mouse_Brain_Atlas_Release_staging = \"https://bbp.epfl.ch/neurosciencegraph/data/brainatlasrelease/c96c71a8-4c0d-4bc1-8a1a-141d9ed6693d\"\n",
    "\n",
    "atlas_release_id = BBP_Mouse_Brain_Atlas_Release_staging"
   ]
  },
  {
   "cell_type": "code",
   "execution_count": 292,
   "metadata": {},
   "outputs": [],
   "source": [
    "atlas_release = forge.retrieve(atlas_release_id, version=1)"
   ]
  },
  {
   "cell_type": "code",
   "execution_count": 293,
   "metadata": {},
   "outputs": [
    {
     "name": "stdout",
     "output_type": "stream",
     "text": [
      "{\n",
      "    context: https://bbp.neuroshapes.org\n",
      "    id: https://bbp.epfl.ch/neurosciencegraph/data/brainatlasrelease/c96c71a8-4c0d-4bc1-8a1a-141d9ed6693d\n",
      "    type:\n",
      "    [\n",
      "        AtlasRelease\n",
      "        BrainAtlasRelease\n",
      "        Entity\n",
      "    ]\n",
      "    brainTemplateDataLayer:\n",
      "    {\n",
      "        id: https://bbp.epfl.ch/neurosciencegraph/data/dca40f99-b494-4d2c-9a2f-c407180138b7\n",
      "        type: BrainTemplateDataLayer\n",
      "    }\n",
      "    contribution:\n",
      "    [\n",
      "        {\n",
      "            type: Contribution\n",
      "            agent:\n",
      "            {\n",
      "                id: https://bbp.epfl.ch/neurosciencegraph/data/7417edf9-2a0a-421d-ab20-4166e688c619\n",
      "                type:\n",
      "                [\n",
      "                    Agent\n",
      "                    Person\n",
      "                ]\n",
      "            }\n",
      "            hadRole:\n",
      "            {\n",
      "                id: https://neuroshapes.org/BrainAtlasPipelineExecutionRole\n",
      "                label: Brain Atlas Pipeline Executor role\n",
      "            }\n",
      "        }\n",
      "        {\n",
      "            type: Contribution\n",
      "            agent:\n",
      "            {\n",
      "                id: https://www.grid.ac/institutes/grid.5333.6\n",
      "                type: Organization\n",
      "            }\n",
      "        }\n",
      "    ]\n",
      "    description: This atlas release uses the brain parcellation of CCFv3 (2017) with the isocortex layer 2 and 3 split. The average brain template and the ontology is common across CCFv2 and CCFv3.\n",
      "    generation:\n",
      "    {\n",
      "        type: Generation\n",
      "        activity:\n",
      "        {\n",
      "            id: https://bbp.epfl.ch/neurosciencegraph/data/activity/668726d5-af52-42ee-bc4d-a203c5aa8aa\n",
      "            type:\n",
      "            [\n",
      "                Activity\n",
      "                PushAnnotationPipelineMeshDatasets\n",
      "            ]\n",
      "        }\n",
      "    }\n",
      "    name: Allen Mouse CCF v3 l2-l3 split\n",
      "    parcellationOntology:\n",
      "    {\n",
      "        id: https://bbp.epfl.ch/neurosciencegraph/data/ontologies/34388d3b-0b88-4deb-9686-6fcd9ef8990e\n",
      "        type:\n",
      "        [\n",
      "            Entity\n",
      "            ParcellationOntology\n",
      "            Ontology\n",
      "        ]\n",
      "    }\n",
      "    parcellationVolume:\n",
      "    {\n",
      "        id: https://bbp.epfl.ch/neurosciencegraph/data/volumetricdatalayer/d1ec2987-0519-4010-b3a1-891c05991b31\n",
      "        type:\n",
      "        [\n",
      "            Dataset\n",
      "            BrainParcellationDataLayer\n",
      "        ]\n",
      "    }\n",
      "    releaseDate:\n",
      "    {\n",
      "        type: xsd:date\n",
      "        @value: 2022-02-15\n",
      "    }\n",
      "    spatialReferenceSystem:\n",
      "    {\n",
      "        id: https://bbp.epfl.ch/neurosciencegraph/data/allen_ccfv3_spatial_reference_system\n",
      "        type: AtlasSpatialReferenceSystem\n",
      "    }\n",
      "    subject:\n",
      "    {\n",
      "        type: Subject\n",
      "        species:\n",
      "        {\n",
      "            id: http://purl.obolibrary.org/obo/NCBITaxon_10090\n",
      "            label: Mus musculus\n",
      "        }\n",
      "    }\n",
      "}\n"
     ]
    }
   ],
   "source": [
    "print(atlas_release)"
   ]
  },
  {
   "cell_type": "code",
   "execution_count": 294,
   "metadata": {},
   "outputs": [
    {
     "data": {
      "text/plain": [
       "1"
      ]
     },
     "execution_count": 294,
     "metadata": {},
     "output_type": "execute_result"
    }
   ],
   "source": [
    "atlas_release._store_metadata[\"_rev\"]"
   ]
  },
  {
   "cell_type": "markdown",
   "metadata": {},
   "source": [
    "#### Get the atlas hierarchy"
   ]
  },
  {
   "cell_type": "code",
   "execution_count": 295,
   "metadata": {},
   "outputs": [],
   "source": [
    "parcellation_ontology = forge.retrieve(atlas_release.parcellationOntology.id, cross_bucket=True)"
   ]
  },
  {
   "cell_type": "code",
   "execution_count": 296,
   "metadata": {},
   "outputs": [
    {
     "name": "stdout",
     "output_type": "stream",
     "text": [
      "{\n",
      "    context: https://bbp.neuroshapes.org\n",
      "    id: https://bbp.epfl.ch/neurosciencegraph/data/ontologies/34388d3b-0b88-4deb-9686-6fcd9ef8990e\n",
      "    type:\n",
      "    [\n",
      "        Entity\n",
      "        Ontology\n",
      "        ParcellationOntology\n",
      "    ]\n",
      "    label: AIBS Mouse CCF Atlas parcellation ontology L2L3 split\n",
      "    contribution:\n",
      "    [\n",
      "        {\n",
      "            type: Contribution\n",
      "            agent:\n",
      "            {\n",
      "                id: https://bbp.epfl.ch/neurosciencegraph/data/b1e71aec-0e4e-4ce3-aca2-99f1614da975\n",
      "                type:\n",
      "                [\n",
      "                    Agent\n",
      "                    Person\n",
      "                ]\n",
      "            }\n",
      "            hadRole:\n",
      "            {\n",
      "                id: https://neuroshapes.org/BrainAtlasPipelineExecutionRole\n",
      "                label: Brain Atlas Pipeline Executor role\n",
      "            }\n",
      "        }\n",
      "        {\n",
      "            type: Contribution\n",
      "            agent:\n",
      "            {\n",
      "                id: https://www.grid.ac/institutes/grid.5333.6\n",
      "                type: Organization\n",
      "            }\n",
      "        }\n",
      "    ]\n",
      "    derivation:\n",
      "    {\n",
      "        type: Derivation\n",
      "        entity:\n",
      "        {\n",
      "            id: http://bbp.epfl.ch/neurosciencegraph/ontologies/mba\n",
      "            type: Entity\n",
      "        }\n",
      "    }\n",
      "    description: AIBS Mouse CCF Atlas regions hierarchy tree file including the split of layer 2 and layer 3\n",
      "    distribution:\n",
      "    [\n",
      "        {\n",
      "            type: DataDownload\n",
      "            atLocation:\n",
      "            {\n",
      "                type: Location\n",
      "                store:\n",
      "                {\n",
      "                    id: https://bluebrain.github.io/nexus/vocabulary/diskStorageDefault\n",
      "                    type: DiskStorage\n",
      "                    _rev: 1\n",
      "                }\n",
      "            }\n",
      "            contentSize:\n",
      "            {\n",
      "                unitCode: bytes\n",
      "                value: 659674\n",
      "            }\n",
      "            contentUrl: https://staging.nise.bbp.epfl.ch/nexus/v1/files/bbp/atlas/18163d17-9f5d-4c1e-aa5a-86faa07636c7\n",
      "            digest:\n",
      "            {\n",
      "                algorithm: SHA-256\n",
      "                value: dc1e7464976da5640becddd66fc028a7ddb117d3c5f76648ebddf33f6a9f2265\n",
      "            }\n",
      "            encodingFormat: application/json\n",
      "            name: hierarchy_l23split.json\n",
      "        }\n",
      "        {\n",
      "            type: DataDownload\n",
      "            atLocation:\n",
      "            {\n",
      "                type: Location\n",
      "                store:\n",
      "                {\n",
      "                    id: https://bluebrain.github.io/nexus/vocabulary/diskStorageDefault\n",
      "                    type: DiskStorage\n",
      "                    _rev: 1\n",
      "                }\n",
      "            }\n",
      "            contentSize:\n",
      "            {\n",
      "                unitCode: bytes\n",
      "                value: 1713651\n",
      "            }\n",
      "            contentUrl: https://staging.nise.bbp.epfl.ch/nexus/v1/files/bbp/atlas/f109583b-4ab6-4dcf-9b83-cd0741365433\n",
      "            digest:\n",
      "            {\n",
      "                algorithm: SHA-256\n",
      "                value: eb395e3089fd9a39e7bdc8514a583fa85b6d55986ccf34fea17030bc6d254d7f\n",
      "            }\n",
      "            encodingFormat: application/json\n",
      "            name: mba_hierarchy_l23split.json\n",
      "        }\n",
      "    ]\n",
      "    generation:\n",
      "    {\n",
      "        type: Generation\n",
      "        activity:\n",
      "        {\n",
      "            id: https://bbp.epfl.ch/neurosciencegraph/data/activity/3fbcbe00-515a-47cb-bae0-926934ae05b6\n",
      "            type:\n",
      "            [\n",
      "                Activity\n",
      "                PushCelldensityPipelineDatasets\n",
      "            ]\n",
      "        }\n",
      "    }\n",
      "    subject:\n",
      "    {\n",
      "        type: Subject\n",
      "        species:\n",
      "        {\n",
      "            id: NCBITaxon:10090\n",
      "            label: Mus musculus\n",
      "        }\n",
      "    }\n",
      "}\n"
     ]
    }
   ],
   "source": [
    "print(parcellation_ontology)"
   ]
  },
  {
   "cell_type": "code",
   "execution_count": 297,
   "metadata": {},
   "outputs": [],
   "source": [
    "forge.download(parcellation_ontology, \"distribution.contentUrl\", \".\", overwrite=True, cross_bucket=True)"
   ]
  },
  {
   "cell_type": "markdown",
   "metadata": {},
   "source": [
    "#### Get parcellation (annotation) volume"
   ]
  },
  {
   "cell_type": "code",
   "execution_count": 298,
   "metadata": {},
   "outputs": [],
   "source": [
    "parcellation_volume = forge.retrieve(atlas_release.parcellationVolume.id)"
   ]
  },
  {
   "cell_type": "code",
   "execution_count": 299,
   "metadata": {},
   "outputs": [
    {
     "name": "stdout",
     "output_type": "stream",
     "text": [
      "{\n",
      "    context: https://bbp.neuroshapes.org\n",
      "    id: https://bbp.epfl.ch/neurosciencegraph/data/volumetricdatalayer/d1ec2987-0519-4010-b3a1-891c05991b31\n",
      "    type:\n",
      "    [\n",
      "        VolumetricDataLayer\n",
      "        BrainParcellationDataLayer\n",
      "        Dataset\n",
      "    ]\n",
      "    atlasRelease:\n",
      "    {\n",
      "        id: https://bbp.epfl.ch/neurosciencegraph/data/brainatlasrelease/c96c71a8-4c0d-4bc1-8a1a-141d9ed6693d\n",
      "        type:\n",
      "        [\n",
      "            AtlasRelease\n",
      "            BrainAtlasRelease\n",
      "            Entity\n",
      "        ]\n",
      "    }\n",
      "    brainLocation:\n",
      "    {\n",
      "        atlasSpatialReferenceSystem:\n",
      "        {\n",
      "            id: https://bbp.epfl.ch/neurosciencegraph/data/allen_ccfv3_spatial_reference_system\n",
      "            type:\n",
      "            [\n",
      "                BrainAtlasSpatialReferenceSystem\n",
      "                AtlasSpatialReferenceSystem\n",
      "            ]\n",
      "        }\n",
      "        brainRegion:\n",
      "        {\n",
      "            id: http://api.brain-map.org/api/v2/data/Structure/997\n",
      "            label: root\n",
      "        }\n",
      "    }\n",
      "    bufferEncoding: gzip\n",
      "    componentEncoding: uint32\n",
      "    contribution:\n",
      "    [\n",
      "        {\n",
      "            type: Contribution\n",
      "            agent:\n",
      "            {\n",
      "                id: https://bbp.epfl.ch/neurosciencegraph/data/7417edf9-2a0a-421d-ab20-4166e688c619\n",
      "                type:\n",
      "                [\n",
      "                    Agent\n",
      "                    Person\n",
      "                ]\n",
      "            }\n",
      "            hadRole:\n",
      "            {\n",
      "                id: https://neuroshapes.org/BrainAtlasPipelineExecutionRole\n",
      "                label: Brain Atlas Pipeline Executor role\n",
      "            }\n",
      "        }\n",
      "        {\n",
      "            type: Contribution\n",
      "            agent:\n",
      "            {\n",
      "                id: https://www.grid.ac/institutes/grid.5333.6\n",
      "                type: Organization\n",
      "            }\n",
      "        }\n",
      "    ]\n",
      "    dataSampleModality: parcellationId\n",
      "    derivation:\n",
      "    {\n",
      "        type: Derivation\n",
      "        entity:\n",
      "        {\n",
      "            id: https://bbp.epfl.ch/neurosciencegraph/data/025eef5f-2a9a-4119-b53f-338452c72f2a\n",
      "            type: Dataset\n",
      "        }\n",
      "    }\n",
      "    description: original Allen ccfv3 annotation volume at 25 microns with the isocortex layer 2 and 3 split\n",
      "    dimension:\n",
      "    [\n",
      "        {\n",
      "            type: ComponentDimension\n",
      "            name: label\n",
      "            size: 1\n",
      "        }\n",
      "        {\n",
      "            type: SpaceDimension\n",
      "            size: 528\n",
      "            unitCode: µm\n",
      "        }\n",
      "        {\n",
      "            type: SpaceDimension\n",
      "            size: 320\n",
      "            unitCode: µm\n",
      "        }\n",
      "        {\n",
      "            type: SpaceDimension\n",
      "            size: 456\n",
      "            unitCode: µm\n",
      "        }\n",
      "    ]\n",
      "    distribution:\n",
      "    {\n",
      "        type: DataDownload\n",
      "        atLocation:\n",
      "        {\n",
      "            type: Location\n",
      "            store:\n",
      "            {\n",
      "                id: https://bluebrain.github.io/nexus/vocabulary/diskStorageDefault\n",
      "                type: DiskStorage\n",
      "                _rev: 1\n",
      "            }\n",
      "        }\n",
      "        contentSize:\n",
      "        {\n",
      "            unitCode: bytes\n",
      "            value: 3822919\n",
      "        }\n",
      "        contentUrl: https://staging.nise.bbp.epfl.ch/nexus/v1/files/bbp/atlas/434cf409-7c67-49d3-a173-4c52424fd5f0\n",
      "        digest:\n",
      "        {\n",
      "            algorithm: SHA-256\n",
      "            value: 017ba4e62a26e070bc5302ec29e75f29a2cbbd564c06bac904fe16a0240cf679\n",
      "        }\n",
      "        encodingFormat: application/nrrd\n",
      "        name: annotation_ccfv3_l23split.nrrd\n",
      "    }\n",
      "    endianness: little\n",
      "    fileExtension: nrrd\n",
      "    generation:\n",
      "    {\n",
      "        type: Generation\n",
      "        activity:\n",
      "        {\n",
      "            id: https://bbp.epfl.ch/neurosciencegraph/data/activity/668726d5-af52-42ee-bc4d-a203c5aa8aa\n",
      "            type:\n",
      "            [\n",
      "                Activity\n",
      "                PushAnnotationPipelineMeshDatasets\n",
      "            ]\n",
      "        }\n",
      "    }\n",
      "    isRegisteredIn:\n",
      "    {\n",
      "        id: https://bbp.epfl.ch/neurosciencegraph/data/allen_ccfv3_spatial_reference_system\n",
      "        type:\n",
      "        [\n",
      "            BrainAtlasSpatialReferenceSystem\n",
      "            AtlasSpatialReferenceSystem\n",
      "        ]\n",
      "    }\n",
      "    name: Annotation Ccfv3 L23Split\n",
      "    resolution:\n",
      "    {\n",
      "        unitCode: µm\n",
      "        value: 25.0\n",
      "    }\n",
      "    sampleType: label\n",
      "    subject:\n",
      "    {\n",
      "        type: Subject\n",
      "        species:\n",
      "        {\n",
      "            id: http://purl.obolibrary.org/obo/NCBITaxon_10090\n",
      "            label: Mus musculus\n",
      "        }\n",
      "    }\n",
      "    worldMatrix:\n",
      "    [\n",
      "        25.0\n",
      "        0.0\n",
      "        0.0\n",
      "        0.0\n",
      "        0.0\n",
      "        25.0\n",
      "        0.0\n",
      "        0.0\n",
      "        0.0\n",
      "        0.0\n",
      "        25.0\n",
      "        0.0\n",
      "        0.0\n",
      "        0.0\n",
      "        0.0\n",
      "        1.0\n",
      "    ]\n",
      "}\n"
     ]
    }
   ],
   "source": [
    "print(parcellation_volume)"
   ]
  },
  {
   "cell_type": "code",
   "execution_count": 300,
   "metadata": {},
   "outputs": [],
   "source": [
    "forge.download(parcellation_volume, \"distribution.contentUrl\", \".\", overwrite=True)"
   ]
  },
  {
   "cell_type": "markdown",
   "metadata": {},
   "source": [
    "#### Get orientation field volume"
   ]
  },
  {
   "cell_type": "code",
   "execution_count": 301,
   "metadata": {},
   "outputs": [
    {
     "name": "stdout",
     "output_type": "stream",
     "text": [
      "2 found\n"
     ]
    }
   ],
   "source": [
    "query = {\n",
    "          \"type\":\"CellOrientationField\", \n",
    "          \"atlasRelease\":{\"@id\":atlas_release_id},\n",
    "          \"brainLocation\":{\"brainRegion\":{\"id\":\"http://api.brain-map.org/api/v2/data/Structure/997\"}} # root brain region\n",
    "        }\n",
    "cell_orientation_field = forge.search(query)\n",
    "print(f\"{len(cell_orientation_field)} found\")"
   ]
  },
  {
   "cell_type": "code",
   "execution_count": 304,
   "metadata": {},
   "outputs": [
    {
     "name": "stdout",
     "output_type": "stream",
     "text": [
      "{\n",
      "    context: https://bbp.neuroshapes.org\n",
      "    id: https://bbp.epfl.ch/neurosciencegraph/data/049013d5-e29d-460e-9960-1007046d409b\n",
      "    type:\n",
      "    [\n",
      "        VolumetricDataLayer\n",
      "        CellOrientationField\n",
      "        Dataset\n",
      "    ]\n",
      "    atlasRelease:\n",
      "    {\n",
      "        id: https://bbp.epfl.ch/neurosciencegraph/data/brainatlasrelease/c96c71a8-4c0d-4bc1-8a1a-141d9ed6693d\n",
      "        type:\n",
      "        [\n",
      "            AtlasRelease\n",
      "            BrainAtlasRelease\n",
      "            Entity\n",
      "        ]\n",
      "    }\n",
      "    brainLocation:\n",
      "    {\n",
      "        atlasSpatialReferenceSystem:\n",
      "        {\n",
      "            id: https://bbp.epfl.ch/neurosciencegraph/data/allen_ccfv3_spatial_reference_system\n",
      "            type:\n",
      "            [\n",
      "                BrainAtlasSpatialReferenceSystem\n",
      "                AtlasSpatialReferenceSystem\n",
      "            ]\n",
      "        }\n",
      "        brainRegion:\n",
      "        {\n",
      "            id: http://api.brain-map.org/api/v2/data/Structure/997\n",
      "            label: root\n",
      "        }\n",
      "    }\n",
      "    bufferEncoding: gzip\n",
      "    componentEncoding: float32\n",
      "    contribution:\n",
      "    [\n",
      "        {\n",
      "            type: Contribution\n",
      "            agent:\n",
      "            {\n",
      "                id: https://bbp.epfl.ch/neurosciencegraph/data/7417edf9-2a0a-421d-ab20-4166e688c619\n",
      "                type:\n",
      "                [\n",
      "                    Agent\n",
      "                    Person\n",
      "                ]\n",
      "            }\n",
      "            hadRole:\n",
      "            {\n",
      "                id: https://neuroshapes.org/BrainAtlasPipelineExecutionRole\n",
      "                label: Brain Atlas Pipeline Executor role\n",
      "            }\n",
      "        }\n",
      "        {\n",
      "            type: Contribution\n",
      "            agent:\n",
      "            {\n",
      "                id: https://www.grid.ac/institutes/grid.5333.6\n",
      "                type: Organization\n",
      "            }\n",
      "        }\n",
      "    ]\n",
      "    dataSampleModality: quaternion\n",
      "    derivation:\n",
      "    {\n",
      "        type: Derivation\n",
      "        entity:\n",
      "        {\n",
      "            id: https://bbp.epfl.ch/neurosciencegraph/data/volumetricdatalayer/2fdc1238-cf40-42f3-a95e-428146a08502\n",
      "            type: Dataset\n",
      "        }\n",
      "    }\n",
      "    description: Quaternions field (w,x,y,z) defined over the Original Allen ccfv3 annotation volume (spatial resolution of 25 µm) and representing the neuron axone-to-dendrites orientation to voxels from the Isocortex region.\n",
      "    dimension:\n",
      "    [\n",
      "        {\n",
      "            type: ComponentDimension\n",
      "            name: quaternion\n",
      "            size: 4\n",
      "        }\n",
      "        {\n",
      "            type: SpaceDimension\n",
      "            size: 528\n",
      "            unitCode: µm\n",
      "        }\n",
      "        {\n",
      "            type: SpaceDimension\n",
      "            size: 320\n",
      "            unitCode: µm\n",
      "        }\n",
      "        {\n",
      "            type: SpaceDimension\n",
      "            size: 456\n",
      "            unitCode: µm\n",
      "        }\n",
      "    ]\n",
      "    distribution:\n",
      "    {\n",
      "        type: DataDownload\n",
      "        atLocation:\n",
      "        {\n",
      "            type: Location\n",
      "            store:\n",
      "            {\n",
      "                id: https://bluebrain.github.io/nexus/vocabulary/diskStorageDefault\n",
      "                type: DiskStorage\n",
      "                _rev: 1\n",
      "            }\n",
      "        }\n",
      "        contentSize:\n",
      "        {\n",
      "            unitCode: bytes\n",
      "            value: 89730395\n",
      "        }\n",
      "        contentUrl: https://staging.nise.bbp.epfl.ch/nexus/v1/files/bbp/atlas/77201d96-3f3a-4edf-86f9-450bdd855244\n",
      "        digest:\n",
      "        {\n",
      "            algorithm: SHA-256\n",
      "            value: 1402598c6a69b4f519bcb3052e5288b2e808955d0f9000dea290479533e58b56\n",
      "        }\n",
      "        encodingFormat: application/nrrd\n",
      "        name: cell_orientations_ccfv3.nrrd\n",
      "    }\n",
      "    endianness: little\n",
      "    fileExtension: nrrd\n",
      "    generation:\n",
      "    {\n",
      "        type: Generation\n",
      "        activity:\n",
      "        {\n",
      "            id: https://bbp.epfl.ch/neurosciencegraph/data/activity/668726d5-af52-42ee-bc4d-a203c5aa8aa\n",
      "            type:\n",
      "            [\n",
      "                Activity\n",
      "                PushAnnotationPipelineMeshDatasets\n",
      "            ]\n",
      "        }\n",
      "    }\n",
      "    isRegisteredIn:\n",
      "    {\n",
      "        id: https://bbp.epfl.ch/neurosciencegraph/data/allen_ccfv3_spatial_reference_system\n",
      "        type:\n",
      "        [\n",
      "            BrainAtlasSpatialReferenceSystem\n",
      "            AtlasSpatialReferenceSystem\n",
      "        ]\n",
      "    }\n",
      "    name: Cell Orientations Ccfv3\n",
      "    resolution:\n",
      "    {\n",
      "        unitCode: µm\n",
      "        value: 25.0\n",
      "    }\n",
      "    sampleType: vector\n",
      "    subject:\n",
      "    {\n",
      "        type: Subject\n",
      "        species:\n",
      "        {\n",
      "            id: http://purl.obolibrary.org/obo/NCBITaxon_10090\n",
      "            label: Mus musculus\n",
      "        }\n",
      "    }\n",
      "    worldMatrix:\n",
      "    [\n",
      "        25.0\n",
      "        0.0\n",
      "        0.0\n",
      "        0.0\n",
      "        0.0\n",
      "        25.0\n",
      "        0.0\n",
      "        0.0\n",
      "        0.0\n",
      "        0.0\n",
      "        25.0\n",
      "        0.0\n",
      "        0.0\n",
      "        0.0\n",
      "        0.0\n",
      "        1.0\n",
      "    ]\n",
      "}\n"
     ]
    }
   ],
   "source": [
    "print(cell_orientation_field[0])"
   ]
  },
  {
   "cell_type": "code",
   "execution_count": 305,
   "metadata": {},
   "outputs": [],
   "source": [
    "forge.download(cell_orientation_field, \"distribution.contentUrl\", \".\", overwrite=True)"
   ]
  },
  {
   "cell_type": "markdown",
   "metadata": {},
   "source": [
    "### Get the me-type density nrrd file for each region (region is an input)"
   ]
  },
  {
   "cell_type": "code",
   "execution_count": 306,
   "metadata": {
    "tags": []
   },
   "outputs": [],
   "source": [
    "# Some atlas might not have densities associated\n",
    "query = f\"\"\"\n",
    "\n",
    "SELECT ?mtype_label ?etype_label ?nrrd_file ?contentUrl \n",
    "\n",
    "WHERE {{\n",
    "        ?s a METypeDensity ;\n",
    "            atlasRelease <{atlas_release_id}>; \n",
    "            annotation ?mtypeanno ;\n",
    "            annotation ?etypeanno ;\n",
    "            distribution ?distribution .\n",
    "        ?mtypeanno a MTypeAnnotation ;         \n",
    "            hasBody / label ?mtype_label .\n",
    "        ?etypeanno a ETypeAnnotation ;         \n",
    "            hasBody / label ?etype_label .\n",
    "        ?distribution name ?nrrd_file ;\n",
    "            contentUrl ?contentUrl .\n",
    "}}\n",
    "\"\"\""
   ]
  },
  {
   "cell_type": "code",
   "execution_count": 307,
   "metadata": {},
   "outputs": [],
   "source": [
    "resources = forge.sparql(query, limit=1000)"
   ]
  },
  {
   "cell_type": "code",
   "execution_count": 308,
   "metadata": {},
   "outputs": [],
   "source": [
    "df = forge.as_dataframe(resources)"
   ]
  },
  {
   "cell_type": "code",
   "execution_count": 309,
   "metadata": {
    "tags": []
   },
   "outputs": [
    {
     "data": {
      "text/html": [
       "<div>\n",
       "<style scoped>\n",
       "    .dataframe tbody tr th:only-of-type {\n",
       "        vertical-align: middle;\n",
       "    }\n",
       "\n",
       "    .dataframe tbody tr th {\n",
       "        vertical-align: top;\n",
       "    }\n",
       "\n",
       "    .dataframe thead th {\n",
       "        text-align: right;\n",
       "    }\n",
       "</style>\n",
       "<table border=\"1\" class=\"dataframe\">\n",
       "  <thead>\n",
       "    <tr style=\"text-align: right;\">\n",
       "      <th></th>\n",
       "      <th>contentUrl</th>\n",
       "      <th>etype_label</th>\n",
       "      <th>mtype_label</th>\n",
       "      <th>nrrd_file</th>\n",
       "    </tr>\n",
       "  </thead>\n",
       "  <tbody>\n",
       "    <tr>\n",
       "      <th>0</th>\n",
       "      <td>https://staging.nise.bbp.epfl.ch/nexus/v1/file...</td>\n",
       "      <td>cADpyr</td>\n",
       "      <td>L6_TPC:A</td>\n",
       "      <td>L6_TPC:A_cADpyr.nrrd</td>\n",
       "    </tr>\n",
       "    <tr>\n",
       "      <th>1</th>\n",
       "      <td>https://staging.nise.bbp.epfl.ch/nexus/v1/file...</td>\n",
       "      <td>cADpyr</td>\n",
       "      <td>L3_TPC:B</td>\n",
       "      <td>L3_TPC:B_cADpyr.nrrd</td>\n",
       "    </tr>\n",
       "    <tr>\n",
       "      <th>2</th>\n",
       "      <td>https://staging.nise.bbp.epfl.ch/nexus/v1/file...</td>\n",
       "      <td>cADpyr</td>\n",
       "      <td>L5_TPC:A</td>\n",
       "      <td>L5_TPC:A_cADpyr.nrrd</td>\n",
       "    </tr>\n",
       "    <tr>\n",
       "      <th>3</th>\n",
       "      <td>https://staging.nise.bbp.epfl.ch/nexus/v1/file...</td>\n",
       "      <td>cADpyr</td>\n",
       "      <td>L2_TPC:B</td>\n",
       "      <td>L2_TPC:B_cADpyr.nrrd</td>\n",
       "    </tr>\n",
       "    <tr>\n",
       "      <th>4</th>\n",
       "      <td>https://staging.nise.bbp.epfl.ch/nexus/v1/file...</td>\n",
       "      <td>cADpyr</td>\n",
       "      <td>L3_TPC:A</td>\n",
       "      <td>L3_TPC:A_cADpyr.nrrd</td>\n",
       "    </tr>\n",
       "  </tbody>\n",
       "</table>\n",
       "</div>"
      ],
      "text/plain": [
       "                                          contentUrl etype_label mtype_label  \\\n",
       "0  https://staging.nise.bbp.epfl.ch/nexus/v1/file...      cADpyr    L6_TPC:A   \n",
       "1  https://staging.nise.bbp.epfl.ch/nexus/v1/file...      cADpyr    L3_TPC:B   \n",
       "2  https://staging.nise.bbp.epfl.ch/nexus/v1/file...      cADpyr    L5_TPC:A   \n",
       "3  https://staging.nise.bbp.epfl.ch/nexus/v1/file...      cADpyr    L2_TPC:B   \n",
       "4  https://staging.nise.bbp.epfl.ch/nexus/v1/file...      cADpyr    L3_TPC:A   \n",
       "\n",
       "              nrrd_file  \n",
       "0  L6_TPC:A_cADpyr.nrrd  \n",
       "1  L3_TPC:B_cADpyr.nrrd  \n",
       "2  L5_TPC:A_cADpyr.nrrd  \n",
       "3  L2_TPC:B_cADpyr.nrrd  \n",
       "4  L3_TPC:A_cADpyr.nrrd  "
      ]
     },
     "execution_count": 309,
     "metadata": {},
     "output_type": "execute_result"
    }
   ],
   "source": [
    "df.head()"
   ]
  },
  {
   "cell_type": "code",
   "execution_count": 311,
   "metadata": {},
   "outputs": [],
   "source": [
    "forge.download(resources, \"contentUrl\", \".\", overwrite=True)"
   ]
  },
  {
   "cell_type": "markdown",
   "metadata": {},
   "source": [
    "### Get the list of mtypes for each region (region is an input)"
   ]
  },
  {
   "cell_type": "markdown",
   "metadata": {},
   "source": [
    "#### The below query will get m-types from the specified brain region plus m-types from all child brain regions (this was added during the workshop to illustrate the `down the tree` generalisation idea)"
   ]
  },
  {
   "cell_type": "code",
   "execution_count": 312,
   "metadata": {},
   "outputs": [],
   "source": [
    "BRAIN_REGION = \"Cerebral cortex\""
   ]
  },
  {
   "cell_type": "markdown",
   "metadata": {},
   "source": [
    "Get brain region id"
   ]
  },
  {
   "cell_type": "code",
   "execution_count": 313,
   "metadata": {},
   "outputs": [],
   "source": [
    "r = forge.search({\"label\": BRAIN_REGION}, cross_bucket=True)"
   ]
  },
  {
   "cell_type": "code",
   "execution_count": 314,
   "metadata": {},
   "outputs": [],
   "source": [
    "brain_region = r[0].id"
   ]
  },
  {
   "cell_type": "code",
   "execution_count": 315,
   "metadata": {},
   "outputs": [
    {
     "data": {
      "text/plain": [
       "'http://api.brain-map.org/api/v2/data/Structure/688'"
      ]
     },
     "execution_count": 315,
     "metadata": {},
     "output_type": "execute_result"
    }
   ],
   "source": [
    "brain_region"
   ]
  },
  {
   "cell_type": "code",
   "execution_count": 316,
   "metadata": {},
   "outputs": [],
   "source": [
    "query = f\"\"\"\n",
    "\n",
    "SELECT ?m_type ?m_type_id ?m_type_version ?brain_region\n",
    "\n",
    "WHERE {{\n",
    "        ?m_type_id label ?m_type ;\n",
    "            _rev ?m_type_version ;\n",
    "            subClassOf* MType ;\n",
    "            canBeLocatedInBrainRegion ?brain_region_id .\n",
    "        \n",
    "        ?brain_region_id label ?brain_region ;\n",
    "            ^hasPart* <{brain_region}> ;\n",
    "            _rev ?brain_region_version . \n",
    "}}\n",
    "\"\"\""
   ]
  },
  {
   "cell_type": "code",
   "execution_count": 317,
   "metadata": {},
   "outputs": [],
   "source": [
    "resources = forge.sparql(query, limit=1000)"
   ]
  },
  {
   "cell_type": "code",
   "execution_count": 318,
   "metadata": {},
   "outputs": [],
   "source": [
    "df = forge.as_dataframe(resources)"
   ]
  },
  {
   "cell_type": "code",
   "execution_count": 319,
   "metadata": {},
   "outputs": [
    {
     "data": {
      "text/html": [
       "<div>\n",
       "<style scoped>\n",
       "    .dataframe tbody tr th:only-of-type {\n",
       "        vertical-align: middle;\n",
       "    }\n",
       "\n",
       "    .dataframe tbody tr th {\n",
       "        vertical-align: top;\n",
       "    }\n",
       "\n",
       "    .dataframe thead th {\n",
       "        text-align: right;\n",
       "    }\n",
       "</style>\n",
       "<table border=\"1\" class=\"dataframe\">\n",
       "  <thead>\n",
       "    <tr style=\"text-align: right;\">\n",
       "      <th></th>\n",
       "      <th>brain_region</th>\n",
       "      <th>m_type</th>\n",
       "      <th>m_type_id</th>\n",
       "      <th>m_type_version</th>\n",
       "    </tr>\n",
       "  </thead>\n",
       "  <tbody>\n",
       "    <tr>\n",
       "      <th>0</th>\n",
       "      <td>Hippocampal formation</td>\n",
       "      <td>SR_PC</td>\n",
       "      <td>https://bbp.epfl.ch/neurosciencegraph/ontologi...</td>\n",
       "      <td>75</td>\n",
       "    </tr>\n",
       "    <tr>\n",
       "      <th>1</th>\n",
       "      <td>Hippocampal formation</td>\n",
       "      <td>GCL_GC</td>\n",
       "      <td>http://bbp.epfl.ch/neurosciencegraph/ontologie...</td>\n",
       "      <td>28</td>\n",
       "    </tr>\n",
       "    <tr>\n",
       "      <th>2</th>\n",
       "      <td>Hippocampal formation</td>\n",
       "      <td>SL_IS2</td>\n",
       "      <td>http://bbp.epfl.ch/neurosciencegraph/ontologie...</td>\n",
       "      <td>28</td>\n",
       "    </tr>\n",
       "    <tr>\n",
       "      <th>3</th>\n",
       "      <td>Hippocampal formation</td>\n",
       "      <td>SLM_PPA</td>\n",
       "      <td>http://bbp.epfl.ch/neurosciencegraph/ontologie...</td>\n",
       "      <td>28</td>\n",
       "    </tr>\n",
       "    <tr>\n",
       "      <th>4</th>\n",
       "      <td>Hippocampal formation</td>\n",
       "      <td>SO_BP</td>\n",
       "      <td>http://bbp.epfl.ch/neurosciencegraph/ontologie...</td>\n",
       "      <td>28</td>\n",
       "    </tr>\n",
       "  </tbody>\n",
       "</table>\n",
       "</div>"
      ],
      "text/plain": [
       "            brain_region   m_type  \\\n",
       "0  Hippocampal formation    SR_PC   \n",
       "1  Hippocampal formation   GCL_GC   \n",
       "2  Hippocampal formation   SL_IS2   \n",
       "3  Hippocampal formation  SLM_PPA   \n",
       "4  Hippocampal formation    SO_BP   \n",
       "\n",
       "                                           m_type_id  m_type_version  \n",
       "0  https://bbp.epfl.ch/neurosciencegraph/ontologi...              75  \n",
       "1  http://bbp.epfl.ch/neurosciencegraph/ontologie...              28  \n",
       "2  http://bbp.epfl.ch/neurosciencegraph/ontologie...              28  \n",
       "3  http://bbp.epfl.ch/neurosciencegraph/ontologie...              28  \n",
       "4  http://bbp.epfl.ch/neurosciencegraph/ontologie...              28  "
      ]
     },
     "execution_count": 319,
     "metadata": {},
     "output_type": "execute_result"
    }
   ],
   "source": [
    "df.head()"
   ]
  },
  {
   "cell_type": "code",
   "execution_count": 320,
   "metadata": {},
   "outputs": [
    {
     "data": {
      "text/plain": [
       "{'Field CA1', 'Hippocampal formation', 'Isocortex'}"
      ]
     },
     "execution_count": 320,
     "metadata": {},
     "output_type": "execute_result"
    }
   ],
   "source": [
    "set(df.brain_region)"
   ]
  },
  {
   "cell_type": "markdown",
   "metadata": {},
   "source": [
    "#### The below query will get m-types from the specified brain region plus m-types from parent brain regions (this was added during the workshop to illustrate the `up the tree` generalisation idea)"
   ]
  },
  {
   "cell_type": "code",
   "execution_count": 321,
   "metadata": {},
   "outputs": [],
   "source": [
    "BRAIN_REGION = \"Entorhinal area, medial part, dorsal zone\""
   ]
  },
  {
   "cell_type": "markdown",
   "metadata": {},
   "source": [
    "Get brain region id"
   ]
  },
  {
   "cell_type": "code",
   "execution_count": 322,
   "metadata": {},
   "outputs": [],
   "source": [
    "r = forge.search({\"label\": BRAIN_REGION}, cross_bucket=True)"
   ]
  },
  {
   "cell_type": "code",
   "execution_count": 323,
   "metadata": {},
   "outputs": [],
   "source": [
    "brain_region = r[0].id"
   ]
  },
  {
   "cell_type": "code",
   "execution_count": 324,
   "metadata": {},
   "outputs": [
    {
     "data": {
      "text/plain": [
       "'http://api.brain-map.org/api/v2/data/Structure/926'"
      ]
     },
     "execution_count": 324,
     "metadata": {},
     "output_type": "execute_result"
    }
   ],
   "source": [
    "brain_region"
   ]
  },
  {
   "cell_type": "code",
   "execution_count": 325,
   "metadata": {
    "tags": []
   },
   "outputs": [],
   "source": [
    "query = f\"\"\"\n",
    "\n",
    "SELECT ?m_type ?m_type_id ?m_type_version ?brain_region\n",
    "\n",
    "WHERE {{\n",
    "        ?m_type_id label ?m_type ;\n",
    "            _rev ?m_type_version ;\n",
    "            subClassOf* MType ;\n",
    "            canBeLocatedInBrainRegion ?brain_region_id .\n",
    "        \n",
    "        ?brain_region_id label ?brain_region ;\n",
    "            hasPart* <{brain_region}> ;\n",
    "            _rev ?brain_region_version . \n",
    "}}\n",
    "\"\"\""
   ]
  },
  {
   "cell_type": "code",
   "execution_count": 326,
   "metadata": {},
   "outputs": [],
   "source": [
    "resources = forge.sparql(query, limit=1000)"
   ]
  },
  {
   "cell_type": "code",
   "execution_count": 327,
   "metadata": {},
   "outputs": [],
   "source": [
    "df = forge.as_dataframe(resources)"
   ]
  },
  {
   "cell_type": "code",
   "execution_count": 328,
   "metadata": {
    "tags": []
   },
   "outputs": [
    {
     "data": {
      "text/html": [
       "<div>\n",
       "<style scoped>\n",
       "    .dataframe tbody tr th:only-of-type {\n",
       "        vertical-align: middle;\n",
       "    }\n",
       "\n",
       "    .dataframe tbody tr th {\n",
       "        vertical-align: top;\n",
       "    }\n",
       "\n",
       "    .dataframe thead th {\n",
       "        text-align: right;\n",
       "    }\n",
       "</style>\n",
       "<table border=\"1\" class=\"dataframe\">\n",
       "  <thead>\n",
       "    <tr style=\"text-align: right;\">\n",
       "      <th></th>\n",
       "      <th>brain_region</th>\n",
       "      <th>m_type</th>\n",
       "      <th>m_type_id</th>\n",
       "      <th>m_type_version</th>\n",
       "    </tr>\n",
       "  </thead>\n",
       "  <tbody>\n",
       "    <tr>\n",
       "      <th>0</th>\n",
       "      <td>Hippocampal formation</td>\n",
       "      <td>SR_PC</td>\n",
       "      <td>https://bbp.epfl.ch/neurosciencegraph/ontologi...</td>\n",
       "      <td>75</td>\n",
       "    </tr>\n",
       "    <tr>\n",
       "      <th>1</th>\n",
       "      <td>Hippocampal formation</td>\n",
       "      <td>GCL_GC</td>\n",
       "      <td>http://bbp.epfl.ch/neurosciencegraph/ontologie...</td>\n",
       "      <td>28</td>\n",
       "    </tr>\n",
       "    <tr>\n",
       "      <th>2</th>\n",
       "      <td>Hippocampal formation</td>\n",
       "      <td>SL_IS2</td>\n",
       "      <td>http://bbp.epfl.ch/neurosciencegraph/ontologie...</td>\n",
       "      <td>28</td>\n",
       "    </tr>\n",
       "    <tr>\n",
       "      <th>3</th>\n",
       "      <td>Hippocampal formation</td>\n",
       "      <td>SLM_PPA</td>\n",
       "      <td>http://bbp.epfl.ch/neurosciencegraph/ontologie...</td>\n",
       "      <td>28</td>\n",
       "    </tr>\n",
       "    <tr>\n",
       "      <th>4</th>\n",
       "      <td>Hippocampal formation</td>\n",
       "      <td>SO_BP</td>\n",
       "      <td>http://bbp.epfl.ch/neurosciencegraph/ontologie...</td>\n",
       "      <td>28</td>\n",
       "    </tr>\n",
       "  </tbody>\n",
       "</table>\n",
       "</div>"
      ],
      "text/plain": [
       "            brain_region   m_type  \\\n",
       "0  Hippocampal formation    SR_PC   \n",
       "1  Hippocampal formation   GCL_GC   \n",
       "2  Hippocampal formation   SL_IS2   \n",
       "3  Hippocampal formation  SLM_PPA   \n",
       "4  Hippocampal formation    SO_BP   \n",
       "\n",
       "                                           m_type_id  m_type_version  \n",
       "0  https://bbp.epfl.ch/neurosciencegraph/ontologi...              75  \n",
       "1  http://bbp.epfl.ch/neurosciencegraph/ontologie...              28  \n",
       "2  http://bbp.epfl.ch/neurosciencegraph/ontologie...              28  \n",
       "3  http://bbp.epfl.ch/neurosciencegraph/ontologie...              28  \n",
       "4  http://bbp.epfl.ch/neurosciencegraph/ontologie...              28  "
      ]
     },
     "execution_count": 328,
     "metadata": {},
     "output_type": "execute_result"
    }
   ],
   "source": [
    "df.head()"
   ]
  },
  {
   "cell_type": "code",
   "execution_count": 329,
   "metadata": {},
   "outputs": [
    {
     "data": {
      "text/plain": [
       "{'Hippocampal formation', 'root'}"
      ]
     },
     "execution_count": 329,
     "metadata": {},
     "output_type": "execute_result"
    }
   ],
   "source": [
    "set(df.brain_region)"
   ]
  },
  {
   "cell_type": "markdown",
   "metadata": {},
   "source": [
    "### Get the etype ratio for each mtype for each region (region and mtype are inputs)"
   ]
  },
  {
   "cell_type": "markdown",
   "metadata": {},
   "source": [
    "`TODO`: should we add the brain regions for which we want to use this? Generalisation here: From `rat` to `mouse`, from `primary somatosensory cortex` to `Isocortex`"
   ]
  },
  {
   "cell_type": "code",
   "execution_count": 330,
   "metadata": {},
   "outputs": [],
   "source": [
    "query = f\"\"\"\n",
    "\n",
    "SELECT ?brain_region ?m_type ?e_type ?ratio\n",
    "\n",
    "WHERE {{\n",
    "        ?s a ETypeRatio ;\n",
    "            brainLocation / brainRegion / label ?brain_region ;\n",
    "            annotation ?mtype_anno ;\n",
    "            annotation ?etype_anno ;\n",
    "            series ?ratioSeries .\n",
    "        ?ratioSeries statistic \"ratio\" ;\n",
    "              value ?ratio .\n",
    "        ?mtype_anno a MTypeAnnotation ;\n",
    "            hasBody / label ?m_type .\n",
    "        ?etype_anno a ETypeAnnotation ;\n",
    "            hasBody / label ?e_type .\n",
    "}}\n",
    "\"\"\""
   ]
  },
  {
   "cell_type": "code",
   "execution_count": 331,
   "metadata": {},
   "outputs": [],
   "source": [
    "resources = forge.sparql(query, limit=1000)"
   ]
  },
  {
   "cell_type": "code",
   "execution_count": 332,
   "metadata": {},
   "outputs": [],
   "source": [
    "df = forge.as_dataframe(resources)"
   ]
  },
  {
   "cell_type": "code",
   "execution_count": 333,
   "metadata": {
    "tags": []
   },
   "outputs": [
    {
     "data": {
      "text/html": [
       "<div>\n",
       "<style scoped>\n",
       "    .dataframe tbody tr th:only-of-type {\n",
       "        vertical-align: middle;\n",
       "    }\n",
       "\n",
       "    .dataframe tbody tr th {\n",
       "        vertical-align: top;\n",
       "    }\n",
       "\n",
       "    .dataframe thead th {\n",
       "        text-align: right;\n",
       "    }\n",
       "</style>\n",
       "<table border=\"1\" class=\"dataframe\">\n",
       "  <thead>\n",
       "    <tr style=\"text-align: right;\">\n",
       "      <th></th>\n",
       "    </tr>\n",
       "  </thead>\n",
       "  <tbody>\n",
       "  </tbody>\n",
       "</table>\n",
       "</div>"
      ],
      "text/plain": [
       "Empty DataFrame\n",
       "Columns: []\n",
       "Index: []"
      ]
     },
     "execution_count": 333,
     "metadata": {},
     "output_type": "execute_result"
    }
   ],
   "source": [
    "df.head()"
   ]
  },
  {
   "cell_type": "markdown",
   "metadata": {},
   "source": [
    "### Get if the mtype is Excitatory or Inhibitory (mtype is input)"
   ]
  },
  {
   "cell_type": "markdown",
   "metadata": {},
   "source": [
    "See `Get m-types together with their transmitter type (sClass)` query above"
   ]
  },
  {
   "cell_type": "markdown",
   "metadata": {},
   "source": [
    "### Get if the mtype is pyramidal or interneuron (mtype is input)"
   ]
  },
  {
   "cell_type": "markdown",
   "metadata": {},
   "source": [
    "See `Get m-types of pyramidal cells (mClass)` and `Get m-types of interneurons (mClass)` queries above"
   ]
  },
  {
   "cell_type": "markdown",
   "metadata": {},
   "source": [
    "### Get the mini frequency for the mtype (mtype is input)"
   ]
  },
  {
   "cell_type": "code",
   "execution_count": 334,
   "metadata": {},
   "outputs": [],
   "source": [
    "# TODO; while this has been discussed during the workshop it was later decided that these data are not needed and will thus not be added to the knowledge graph"
   ]
  },
  {
   "cell_type": "markdown",
   "metadata": {},
   "source": [
    "### Get all brain regions of layer 1 of the neocortex"
   ]
  },
  {
   "cell_type": "code",
   "execution_count": 335,
   "metadata": {},
   "outputs": [],
   "source": [
    "query = f\"\"\"\n",
    "\n",
    "SELECT ?id ?region\n",
    "\n",
    "WHERE {{\n",
    "        ?id hasLayerLocationPhenotype <http://purl.obolibrary.org/obo/UBERON_0005390> ;\n",
    "            subClassOf* BrainRegion ;\n",
    "            label ?region\n",
    "}}\n",
    "\"\"\""
   ]
  },
  {
   "cell_type": "code",
   "execution_count": 336,
   "metadata": {},
   "outputs": [],
   "source": [
    "resources = forge.sparql(query, limit=1000)"
   ]
  },
  {
   "cell_type": "code",
   "execution_count": 337,
   "metadata": {},
   "outputs": [],
   "source": [
    "df = forge.as_dataframe(resources)"
   ]
  },
  {
   "cell_type": "code",
   "execution_count": 338,
   "metadata": {},
   "outputs": [
    {
     "data": {
      "text/html": [
       "<div>\n",
       "<style scoped>\n",
       "    .dataframe tbody tr th:only-of-type {\n",
       "        vertical-align: middle;\n",
       "    }\n",
       "\n",
       "    .dataframe tbody tr th {\n",
       "        vertical-align: top;\n",
       "    }\n",
       "\n",
       "    .dataframe thead th {\n",
       "        text-align: right;\n",
       "    }\n",
       "</style>\n",
       "<table border=\"1\" class=\"dataframe\">\n",
       "  <thead>\n",
       "    <tr style=\"text-align: right;\">\n",
       "      <th></th>\n",
       "      <th>id</th>\n",
       "      <th>region</th>\n",
       "    </tr>\n",
       "  </thead>\n",
       "  <tbody>\n",
       "    <tr>\n",
       "      <th>0</th>\n",
       "      <td>http://api.brain-map.org/api/v2/data/Structure...</td>\n",
       "      <td>Primary somatosensory area, trunk, layer 1</td>\n",
       "    </tr>\n",
       "    <tr>\n",
       "      <th>1</th>\n",
       "      <td>http://api.brain-map.org/api/v2/data/Structure...</td>\n",
       "      <td>Primary somatosensory area, lower limb, layer 1</td>\n",
       "    </tr>\n",
       "    <tr>\n",
       "      <th>2</th>\n",
       "      <td>http://api.brain-map.org/api/v2/data/Structure...</td>\n",
       "      <td>Taenia tecta, dorsal part, layer 1</td>\n",
       "    </tr>\n",
       "    <tr>\n",
       "      <th>3</th>\n",
       "      <td>http://api.brain-map.org/api/v2/data/Structure...</td>\n",
       "      <td>Taenia tecta, ventral part, layer 1</td>\n",
       "    </tr>\n",
       "    <tr>\n",
       "      <th>4</th>\n",
       "      <td>http://api.brain-map.org/api/v2/data/Structure...</td>\n",
       "      <td>Parasubiculum, layer 1</td>\n",
       "    </tr>\n",
       "  </tbody>\n",
       "</table>\n",
       "</div>"
      ],
      "text/plain": [
       "                                                  id  \\\n",
       "0  http://api.brain-map.org/api/v2/data/Structure...   \n",
       "1  http://api.brain-map.org/api/v2/data/Structure...   \n",
       "2  http://api.brain-map.org/api/v2/data/Structure...   \n",
       "3  http://api.brain-map.org/api/v2/data/Structure...   \n",
       "4  http://api.brain-map.org/api/v2/data/Structure...   \n",
       "\n",
       "                                            region  \n",
       "0       Primary somatosensory area, trunk, layer 1  \n",
       "1  Primary somatosensory area, lower limb, layer 1  \n",
       "2               Taenia tecta, dorsal part, layer 1  \n",
       "3              Taenia tecta, ventral part, layer 1  \n",
       "4                           Parasubiculum, layer 1  "
      ]
     },
     "execution_count": 338,
     "metadata": {},
     "output_type": "execute_result"
    }
   ],
   "source": [
    "df.head()"
   ]
  },
  {
   "cell_type": "code",
   "execution_count": null,
   "metadata": {},
   "outputs": [],
   "source": []
  }
 ],
 "metadata": {
  "kernelspec": {
   "display_name": "Python (20210819)",
   "language": "python",
   "name": "20210819"
  },
  "language_info": {
   "codemirror_mode": {
    "name": "ipython",
    "version": 3
   },
   "file_extension": ".py",
   "mimetype": "text/x-python",
   "name": "python",
   "nbconvert_exporter": "python",
   "pygments_lexer": "ipython3",
   "version": "3.7.11"
  }
 },
 "nbformat": 4,
 "nbformat_minor": 4
}
