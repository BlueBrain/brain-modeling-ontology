{
 "cells": [
  {
   "cell_type": "markdown",
   "metadata": {},
   "source": [
    "# Query Cell Types Ontology"
   ]
  },
  {
   "cell_type": "markdown",
   "metadata": {},
   "source": [
    "# Context"
   ]
  },
  {
   "cell_type": "markdown",
   "metadata": {},
   "source": [
    "- This notebook has been put together for the MMB demo on 2022-05-30: see [slides](https://docs.google.com/presentation/d/1Ib1_8byK0hVuNS-wPbqmeL5Lcf67m_oegC3-czPw5ws/edit#slide=id.g116ba5ed71e_0_8)\n",
    "- It has been revised following feedback from the meeting held on 2022-07-07: see [slides](https://docs.google.com/presentation/d/1mgCyYjHerLJLV79GM0kqp3_Htxmru_7QGIr5elUETC0/edit#slide=id.g13b4a370a10_0_19) and [JIRA ticket](https://bbpteam.epfl.ch/project/issues/browse/DKE-942)"
   ]
  },
  {
   "cell_type": "markdown",
   "metadata": {},
   "source": [
    "## Imports"
   ]
  },
  {
   "cell_type": "code",
   "execution_count": 507,
   "metadata": {},
   "outputs": [],
   "source": [
    "import json\n",
    "import rdflib\n",
    "import getpass\n",
    "import pandas as pd\n",
    "from rdflib import RDF, RDFS, XSD, OWL, URIRef, BNode, SKOS\n",
    "import pprint\n",
    "from kgforge.core import KnowledgeGraphForge"
   ]
  },
  {
   "cell_type": "markdown",
   "metadata": {},
   "source": [
    "## Setup"
   ]
  },
  {
   "cell_type": "code",
   "execution_count": null,
   "metadata": {},
   "outputs": [],
   "source": [
    "TOKEN = getpass.getpass()"
   ]
  },
  {
   "cell_type": "markdown",
   "metadata": {},
   "source": [
    "The cell type ontology is stored in the `neurosciencegraph/datamodels` bucket in the knowledge graph. This is the `bucket` we target with the forge instance below."
   ]
  },
  {
   "cell_type": "code",
   "execution_count": 590,
   "metadata": {},
   "outputs": [],
   "source": [
    "forge = KnowledgeGraphForge(\"https://raw.githubusercontent.com/BlueBrain/nexus-forge/master/examples/notebooks/use-cases/prod-forge-nexus.yml\",\n",
    "                            token=TOKEN,\n",
    "                            endpoint=\"https://staging.nise.bbp.epfl.ch/nexus/v1\",\n",
    "                            bucket=\"neurosciencegraph/datamodels\")"
   ]
  },
  {
   "cell_type": "code",
   "execution_count": 591,
   "metadata": {},
   "outputs": [],
   "source": [
    "forge_atlas = KnowledgeGraphForge(\"https://raw.githubusercontent.com/BlueBrain/nexus-forge/master/examples/notebooks/use-cases/prod-forge-nexus.yml\",\n",
    "                            token=TOKEN,\n",
    "                            # endpoint=\"https://staging.nise.bbp.epfl.ch/nexus/v1\",\n",
    "                            bucket=\"bbp/atlas\")"
   ]
  },
  {
   "cell_type": "markdown",
   "metadata": {},
   "source": [
    "## Ontologies"
   ]
  },
  {
   "cell_type": "markdown",
   "metadata": {},
   "source": [
    "### Set brain region"
   ]
  },
  {
   "cell_type": "markdown",
   "metadata": {},
   "source": [
    "During the meeting on `2022-05-30`, it was specified that a brain region will serve as entry point when searching for cell types in the MMB context. Hence, this notebook starts by defining a brain region one wants to get cell types for. Since the most complete cell type information is available for the `Cerebral cortex`, this has been set as the default below."
   ]
  },
  {
   "cell_type": "code",
   "execution_count": 592,
   "metadata": {},
   "outputs": [],
   "source": [
    "BRAIN_REGION = \"Cerebral cortex\"\n",
    "# BRAIN_REGION = \"Cerebellum\"\n",
    "# BRAIN_REGION = \"Somatosensory areas\""
   ]
  },
  {
   "cell_type": "markdown",
   "metadata": {},
   "source": [
    "Get brain region id"
   ]
  },
  {
   "cell_type": "code",
   "execution_count": 593,
   "metadata": {},
   "outputs": [],
   "source": [
    "r = forge.search({\"label\": BRAIN_REGION})"
   ]
  },
  {
   "cell_type": "code",
   "execution_count": 594,
   "metadata": {},
   "outputs": [],
   "source": [
    "brain_region = r[0].id"
   ]
  },
  {
   "cell_type": "code",
   "execution_count": 595,
   "metadata": {},
   "outputs": [
    {
     "data": {
      "text/plain": [
       "'http://api.brain-map.org/api/v2/data/Structure/688'"
      ]
     },
     "execution_count": 595,
     "metadata": {},
     "output_type": "execute_result"
    }
   ],
   "source": [
    "brain_region"
   ]
  },
  {
   "cell_type": "markdown",
   "metadata": {},
   "source": [
    "## Queries"
   ]
  },
  {
   "cell_type": "markdown",
   "metadata": {},
   "source": [
    "### Get brain regions which do have neuron t-types available"
   ]
  },
  {
   "cell_type": "markdown",
   "metadata": {},
   "source": [
    "This query will list brain region labels for which the knowledge graph has neuron t-types available"
   ]
  },
  {
   "cell_type": "code",
   "execution_count": 596,
   "metadata": {},
   "outputs": [],
   "source": [
    "query = f\"\"\"\n",
    "\n",
    "SELECT ?brain_region\n",
    "\n",
    "WHERE {{\n",
    "        ?t_type_id subClassOf* <https://bbp.epfl.ch/ontologies/core/celltypes/NeuronTranscriptomicType> ;\n",
    "                  canHaveBrainRegion ?brain_region_id .        \n",
    "        ?brain_region_id label ?brain_region .\n",
    "}}\n",
    "\"\"\""
   ]
  },
  {
   "cell_type": "code",
   "execution_count": 597,
   "metadata": {},
   "outputs": [],
   "source": [
    "resources = forge.sparql(query, limit=1000)"
   ]
  },
  {
   "cell_type": "code",
   "execution_count": 598,
   "metadata": {},
   "outputs": [],
   "source": [
    "df = forge.as_dataframe(resources)"
   ]
  },
  {
   "cell_type": "code",
   "execution_count": 599,
   "metadata": {},
   "outputs": [
    {
     "data": {
      "text/plain": [
       "{'Agranular insular area',\n",
       " 'Anterior cingulate area',\n",
       " 'Area prostriata',\n",
       " 'Cerebellum',\n",
       " 'Cerebral cortex',\n",
       " 'Entorhinal area',\n",
       " 'Entorhinal area, lateral part',\n",
       " 'Entorhinal area, medial part, dorsal zone',\n",
       " 'Fasciola cinerea',\n",
       " 'Field CA1',\n",
       " 'Field CA2',\n",
       " 'Field CA3',\n",
       " 'Hippocampal formation',\n",
       " 'Hippocampo-amygdalar transition area',\n",
       " 'Hypothalamus',\n",
       " 'Induseum griseum',\n",
       " 'Isocortex',\n",
       " 'Parasubiculum',\n",
       " 'Postsubiculum',\n",
       " 'Presubiculum',\n",
       " 'Prosubiculum',\n",
       " 'Retrohippocampal region',\n",
       " 'Retrosplenial area',\n",
       " 'Retrosplenial area, ventral part',\n",
       " 'Subiculum'}"
      ]
     },
     "execution_count": 599,
     "metadata": {},
     "output_type": "execute_result"
    }
   ],
   "source": [
    "set(df.brain_region)"
   ]
  },
  {
   "cell_type": "markdown",
   "metadata": {
    "tags": []
   },
   "source": [
    "### Get possible t-types for a given brain region"
   ]
  },
  {
   "cell_type": "markdown",
   "metadata": {},
   "source": [
    "This query lists t-types for a given brain region (i.e. the `BRAIN_REGION` specified above). For demonstration purposes, the `limit` parameter on the query has been set to `100`. This can be increased to get all available t-types. E.g. the total number of available t-types for `Cerebral cortex` on `2022-07-08` was `252`."
   ]
  },
  {
   "cell_type": "code",
   "execution_count": 600,
   "metadata": {},
   "outputs": [],
   "source": [
    "query = f\"\"\"\n",
    "\n",
    "SELECT ?brain_region ?t_type\n",
    "\n",
    "WHERE {{\n",
    "        ?t_type_id label ?t_type ;\n",
    "            subClassOf* <https://bbp.epfl.ch/ontologies/core/celltypes/NeuronTranscriptomicType> ;\n",
    "            canHaveBrainRegion <{brain_region}> .        \n",
    "        <{brain_region}> label ?brain_region . \n",
    "}}\n",
    "\"\"\""
   ]
  },
  {
   "cell_type": "code",
   "execution_count": 601,
   "metadata": {},
   "outputs": [],
   "source": [
    "resources = forge.sparql(query, limit=1000)"
   ]
  },
  {
   "cell_type": "code",
   "execution_count": 602,
   "metadata": {},
   "outputs": [],
   "source": [
    "df = forge.as_dataframe(resources)"
   ]
  },
  {
   "cell_type": "code",
   "execution_count": 603,
   "metadata": {},
   "outputs": [
    {
     "data": {
      "text/html": [
       "<div>\n",
       "<style scoped>\n",
       "    .dataframe tbody tr th:only-of-type {\n",
       "        vertical-align: middle;\n",
       "    }\n",
       "\n",
       "    .dataframe tbody tr th {\n",
       "        vertical-align: top;\n",
       "    }\n",
       "\n",
       "    .dataframe thead th {\n",
       "        text-align: right;\n",
       "    }\n",
       "</style>\n",
       "<table border=\"1\" class=\"dataframe\">\n",
       "  <thead>\n",
       "    <tr style=\"text-align: right;\">\n",
       "      <th></th>\n",
       "      <th>brain_region</th>\n",
       "      <th>t_type</th>\n",
       "    </tr>\n",
       "  </thead>\n",
       "  <tbody>\n",
       "    <tr>\n",
       "      <th>0</th>\n",
       "      <td>Cerebral cortex</td>\n",
       "      <td>72_Sst</td>\n",
       "    </tr>\n",
       "    <tr>\n",
       "      <th>1</th>\n",
       "      <td>Cerebral cortex</td>\n",
       "      <td>73_Sst</td>\n",
       "    </tr>\n",
       "    <tr>\n",
       "      <th>2</th>\n",
       "      <td>Cerebral cortex</td>\n",
       "      <td>74_Sst</td>\n",
       "    </tr>\n",
       "    <tr>\n",
       "      <th>3</th>\n",
       "      <td>Cerebral cortex</td>\n",
       "      <td>75_Sst</td>\n",
       "    </tr>\n",
       "    <tr>\n",
       "      <th>4</th>\n",
       "      <td>Cerebral cortex</td>\n",
       "      <td>76_Sst</td>\n",
       "    </tr>\n",
       "  </tbody>\n",
       "</table>\n",
       "</div>"
      ],
      "text/plain": [
       "      brain_region  t_type\n",
       "0  Cerebral cortex  72_Sst\n",
       "1  Cerebral cortex  73_Sst\n",
       "2  Cerebral cortex  74_Sst\n",
       "3  Cerebral cortex  75_Sst\n",
       "4  Cerebral cortex  76_Sst"
      ]
     },
     "execution_count": 603,
     "metadata": {},
     "output_type": "execute_result"
    }
   ],
   "source": [
    "df.head()"
   ]
  },
  {
   "cell_type": "markdown",
   "metadata": {
    "tags": []
   },
   "source": [
    "### Get possible met-type combinations plus excitatory/inhibitory category for a given brain region"
   ]
  },
  {
   "cell_type": "markdown",
   "metadata": {},
   "source": [
    "This query returns possible met-type combinations together with the excitatory/inhibitory categories for the brain region one has set above. For each m- e and t- and transmitter-type, the identifier and the current version in the knowledge graph are also being returned. For a simplified view, please run the `df.drop()` cell below. It will only show the labels of a given type. The `version` indicates the revision of a given type in the knowledge graph and has been included following the Cell Types Meeting on 2022-07-07 to help with reproducibility (see also this JIRA ticket: [DKE-942](https://bbpteam.epfl.ch/project/issues/browse/DKE-942))."
   ]
  },
  {
   "cell_type": "code",
   "execution_count": 604,
   "metadata": {},
   "outputs": [],
   "source": [
    "query = f\"\"\"\n",
    "\n",
    "SELECT ?brain_region ?brain_region_version ?transmitter ?transmitter_id ?transmitter_version ?t_type ?t_type_id ?t_type_version ?m_type ?m_type_id ?m_type_version ?e_type ?e_type_id ?e_type_version\n",
    "\n",
    "WHERE {{\n",
    "        ?t_type_id label ?t_type ;\n",
    "                canHaveBrainRegion <{brain_region}> ;\n",
    "                _rev ?t_type_version .\n",
    "        \n",
    "        <{brain_region}> label ?brain_region ;\n",
    "            _rev ?brain_region_version .\n",
    "        \n",
    "        ?m_type_id label ?m_type ;\n",
    "            _rev ?m_type_version ;\n",
    "            subClassOf* MType ;\n",
    "            canHaveTType ?t_type_id ;\n",
    "            subClassOf* / hasNeurotransmitterType ?transmitter_id .\n",
    "        \n",
    "        ?transmitter_id label ?transmitter ;        \n",
    "            _rev ?transmitter_version .\n",
    "\n",
    "        ?e_type_id label ?e_type ;\n",
    "            _rev ?e_type_version ;\n",
    "            subClassOf* EType ;\n",
    "            subClassOf* / canHaveMType ?m_type_id ;\n",
    "            subClassOf* / canHaveTType ?t_type_id .            \n",
    "}}\n",
    "\"\"\""
   ]
  },
  {
   "cell_type": "code",
   "execution_count": 605,
   "metadata": {},
   "outputs": [],
   "source": [
    "resources = forge.sparql(query, limit=1000)"
   ]
  },
  {
   "cell_type": "code",
   "execution_count": 606,
   "metadata": {},
   "outputs": [],
   "source": [
    "df = forge.as_dataframe(resources)"
   ]
  },
  {
   "cell_type": "code",
   "execution_count": 607,
   "metadata": {},
   "outputs": [
    {
     "data": {
      "text/html": [
       "<div>\n",
       "<style scoped>\n",
       "    .dataframe tbody tr th:only-of-type {\n",
       "        vertical-align: middle;\n",
       "    }\n",
       "\n",
       "    .dataframe tbody tr th {\n",
       "        vertical-align: top;\n",
       "    }\n",
       "\n",
       "    .dataframe thead th {\n",
       "        text-align: right;\n",
       "    }\n",
       "</style>\n",
       "<table border=\"1\" class=\"dataframe\">\n",
       "  <thead>\n",
       "    <tr style=\"text-align: right;\">\n",
       "      <th></th>\n",
       "      <th>brain_region</th>\n",
       "      <th>brain_region_version</th>\n",
       "      <th>e_type</th>\n",
       "      <th>e_type_id</th>\n",
       "      <th>e_type_version</th>\n",
       "      <th>m_type</th>\n",
       "      <th>m_type_id</th>\n",
       "      <th>m_type_version</th>\n",
       "      <th>t_type</th>\n",
       "      <th>t_type_id</th>\n",
       "      <th>t_type_version</th>\n",
       "      <th>transmitter</th>\n",
       "      <th>transmitter_id</th>\n",
       "      <th>transmitter_version</th>\n",
       "    </tr>\n",
       "  </thead>\n",
       "  <tbody>\n",
       "    <tr>\n",
       "      <th>0</th>\n",
       "      <td>Cerebral cortex</td>\n",
       "      <td>34</td>\n",
       "      <td>cAC</td>\n",
       "      <td>http://uri.interlex.org/base/ilx_0738197</td>\n",
       "      <td>64</td>\n",
       "      <td>L6_MC</td>\n",
       "      <td>http://uri.interlex.org/base/ilx_0381374</td>\n",
       "      <td>68</td>\n",
       "      <td>10_Lamp5</td>\n",
       "      <td>https://bbp.epfl.ch/ontologies/core/ttypes/10_...</td>\n",
       "      <td>45</td>\n",
       "      <td>Inhibitory</td>\n",
       "      <td>https://bbp.epfl.ch/ontologies/core/bmo/Inhibi...</td>\n",
       "      <td>21</td>\n",
       "    </tr>\n",
       "    <tr>\n",
       "      <th>1</th>\n",
       "      <td>Cerebral cortex</td>\n",
       "      <td>34</td>\n",
       "      <td>cAC</td>\n",
       "      <td>http://uri.interlex.org/base/ilx_0738197</td>\n",
       "      <td>64</td>\n",
       "      <td>L6_MC</td>\n",
       "      <td>http://uri.interlex.org/base/ilx_0381374</td>\n",
       "      <td>68</td>\n",
       "      <td>100_Sst</td>\n",
       "      <td>https://bbp.epfl.ch/ontologies/core/ttypes/100...</td>\n",
       "      <td>45</td>\n",
       "      <td>Inhibitory</td>\n",
       "      <td>https://bbp.epfl.ch/ontologies/core/bmo/Inhibi...</td>\n",
       "      <td>21</td>\n",
       "    </tr>\n",
       "    <tr>\n",
       "      <th>2</th>\n",
       "      <td>Cerebral cortex</td>\n",
       "      <td>34</td>\n",
       "      <td>cAC</td>\n",
       "      <td>http://uri.interlex.org/base/ilx_0738197</td>\n",
       "      <td>64</td>\n",
       "      <td>L6_MC</td>\n",
       "      <td>http://uri.interlex.org/base/ilx_0381374</td>\n",
       "      <td>68</td>\n",
       "      <td>101_Sst</td>\n",
       "      <td>https://bbp.epfl.ch/ontologies/core/ttypes/101...</td>\n",
       "      <td>45</td>\n",
       "      <td>Inhibitory</td>\n",
       "      <td>https://bbp.epfl.ch/ontologies/core/bmo/Inhibi...</td>\n",
       "      <td>21</td>\n",
       "    </tr>\n",
       "    <tr>\n",
       "      <th>3</th>\n",
       "      <td>Cerebral cortex</td>\n",
       "      <td>34</td>\n",
       "      <td>cAC</td>\n",
       "      <td>http://uri.interlex.org/base/ilx_0738197</td>\n",
       "      <td>64</td>\n",
       "      <td>L6_MC</td>\n",
       "      <td>http://uri.interlex.org/base/ilx_0381374</td>\n",
       "      <td>68</td>\n",
       "      <td>108_Pvalb</td>\n",
       "      <td>https://bbp.epfl.ch/ontologies/core/ttypes/108...</td>\n",
       "      <td>45</td>\n",
       "      <td>Inhibitory</td>\n",
       "      <td>https://bbp.epfl.ch/ontologies/core/bmo/Inhibi...</td>\n",
       "      <td>21</td>\n",
       "    </tr>\n",
       "    <tr>\n",
       "      <th>4</th>\n",
       "      <td>Cerebral cortex</td>\n",
       "      <td>34</td>\n",
       "      <td>cAC</td>\n",
       "      <td>http://uri.interlex.org/base/ilx_0738197</td>\n",
       "      <td>64</td>\n",
       "      <td>L5_MC</td>\n",
       "      <td>http://uri.interlex.org/base/ilx_0381369</td>\n",
       "      <td>68</td>\n",
       "      <td>89_Sst</td>\n",
       "      <td>https://bbp.epfl.ch/ontologies/core/ttypes/89_Sst</td>\n",
       "      <td>44</td>\n",
       "      <td>Inhibitory</td>\n",
       "      <td>https://bbp.epfl.ch/ontologies/core/bmo/Inhibi...</td>\n",
       "      <td>21</td>\n",
       "    </tr>\n",
       "  </tbody>\n",
       "</table>\n",
       "</div>"
      ],
      "text/plain": [
       "      brain_region  brain_region_version e_type  \\\n",
       "0  Cerebral cortex                    34    cAC   \n",
       "1  Cerebral cortex                    34    cAC   \n",
       "2  Cerebral cortex                    34    cAC   \n",
       "3  Cerebral cortex                    34    cAC   \n",
       "4  Cerebral cortex                    34    cAC   \n",
       "\n",
       "                                  e_type_id  e_type_version m_type  \\\n",
       "0  http://uri.interlex.org/base/ilx_0738197              64  L6_MC   \n",
       "1  http://uri.interlex.org/base/ilx_0738197              64  L6_MC   \n",
       "2  http://uri.interlex.org/base/ilx_0738197              64  L6_MC   \n",
       "3  http://uri.interlex.org/base/ilx_0738197              64  L6_MC   \n",
       "4  http://uri.interlex.org/base/ilx_0738197              64  L5_MC   \n",
       "\n",
       "                                  m_type_id  m_type_version     t_type  \\\n",
       "0  http://uri.interlex.org/base/ilx_0381374              68   10_Lamp5   \n",
       "1  http://uri.interlex.org/base/ilx_0381374              68    100_Sst   \n",
       "2  http://uri.interlex.org/base/ilx_0381374              68    101_Sst   \n",
       "3  http://uri.interlex.org/base/ilx_0381374              68  108_Pvalb   \n",
       "4  http://uri.interlex.org/base/ilx_0381369              68     89_Sst   \n",
       "\n",
       "                                           t_type_id  t_type_version  \\\n",
       "0  https://bbp.epfl.ch/ontologies/core/ttypes/10_...              45   \n",
       "1  https://bbp.epfl.ch/ontologies/core/ttypes/100...              45   \n",
       "2  https://bbp.epfl.ch/ontologies/core/ttypes/101...              45   \n",
       "3  https://bbp.epfl.ch/ontologies/core/ttypes/108...              45   \n",
       "4  https://bbp.epfl.ch/ontologies/core/ttypes/89_Sst              44   \n",
       "\n",
       "  transmitter                                     transmitter_id  \\\n",
       "0  Inhibitory  https://bbp.epfl.ch/ontologies/core/bmo/Inhibi...   \n",
       "1  Inhibitory  https://bbp.epfl.ch/ontologies/core/bmo/Inhibi...   \n",
       "2  Inhibitory  https://bbp.epfl.ch/ontologies/core/bmo/Inhibi...   \n",
       "3  Inhibitory  https://bbp.epfl.ch/ontologies/core/bmo/Inhibi...   \n",
       "4  Inhibitory  https://bbp.epfl.ch/ontologies/core/bmo/Inhibi...   \n",
       "\n",
       "   transmitter_version  \n",
       "0                   21  \n",
       "1                   21  \n",
       "2                   21  \n",
       "3                   21  \n",
       "4                   21  "
      ]
     },
     "execution_count": 607,
     "metadata": {},
     "output_type": "execute_result"
    }
   ],
   "source": [
    "df.head()"
   ]
  },
  {
   "cell_type": "code",
   "execution_count": 608,
   "metadata": {},
   "outputs": [
    {
     "data": {
      "text/html": [
       "<div>\n",
       "<style scoped>\n",
       "    .dataframe tbody tr th:only-of-type {\n",
       "        vertical-align: middle;\n",
       "    }\n",
       "\n",
       "    .dataframe tbody tr th {\n",
       "        vertical-align: top;\n",
       "    }\n",
       "\n",
       "    .dataframe thead th {\n",
       "        text-align: right;\n",
       "    }\n",
       "</style>\n",
       "<table border=\"1\" class=\"dataframe\">\n",
       "  <thead>\n",
       "    <tr style=\"text-align: right;\">\n",
       "      <th></th>\n",
       "      <th>brain_region</th>\n",
       "      <th>e_type</th>\n",
       "      <th>m_type</th>\n",
       "      <th>t_type</th>\n",
       "      <th>transmitter</th>\n",
       "    </tr>\n",
       "  </thead>\n",
       "  <tbody>\n",
       "    <tr>\n",
       "      <th>0</th>\n",
       "      <td>Cerebral cortex</td>\n",
       "      <td>cAC</td>\n",
       "      <td>L6_MC</td>\n",
       "      <td>10_Lamp5</td>\n",
       "      <td>Inhibitory</td>\n",
       "    </tr>\n",
       "    <tr>\n",
       "      <th>1</th>\n",
       "      <td>Cerebral cortex</td>\n",
       "      <td>cAC</td>\n",
       "      <td>L6_MC</td>\n",
       "      <td>100_Sst</td>\n",
       "      <td>Inhibitory</td>\n",
       "    </tr>\n",
       "    <tr>\n",
       "      <th>2</th>\n",
       "      <td>Cerebral cortex</td>\n",
       "      <td>cAC</td>\n",
       "      <td>L6_MC</td>\n",
       "      <td>101_Sst</td>\n",
       "      <td>Inhibitory</td>\n",
       "    </tr>\n",
       "    <tr>\n",
       "      <th>3</th>\n",
       "      <td>Cerebral cortex</td>\n",
       "      <td>cAC</td>\n",
       "      <td>L6_MC</td>\n",
       "      <td>108_Pvalb</td>\n",
       "      <td>Inhibitory</td>\n",
       "    </tr>\n",
       "    <tr>\n",
       "      <th>4</th>\n",
       "      <td>Cerebral cortex</td>\n",
       "      <td>cAC</td>\n",
       "      <td>L5_MC</td>\n",
       "      <td>89_Sst</td>\n",
       "      <td>Inhibitory</td>\n",
       "    </tr>\n",
       "    <tr>\n",
       "      <th>...</th>\n",
       "      <td>...</td>\n",
       "      <td>...</td>\n",
       "      <td>...</td>\n",
       "      <td>...</td>\n",
       "      <td>...</td>\n",
       "    </tr>\n",
       "    <tr>\n",
       "      <th>995</th>\n",
       "      <td>Cerebral cortex</td>\n",
       "      <td>cAC</td>\n",
       "      <td>L6_MC</td>\n",
       "      <td>79_Sst</td>\n",
       "      <td>Inhibitory</td>\n",
       "    </tr>\n",
       "    <tr>\n",
       "      <th>996</th>\n",
       "      <td>Cerebral cortex</td>\n",
       "      <td>cAC</td>\n",
       "      <td>L6_MC</td>\n",
       "      <td>8_Lamp5 Lhx6</td>\n",
       "      <td>Inhibitory</td>\n",
       "    </tr>\n",
       "    <tr>\n",
       "      <th>997</th>\n",
       "      <td>Cerebral cortex</td>\n",
       "      <td>cAC</td>\n",
       "      <td>L6_MC</td>\n",
       "      <td>80_Sst</td>\n",
       "      <td>Inhibitory</td>\n",
       "    </tr>\n",
       "    <tr>\n",
       "      <th>998</th>\n",
       "      <td>Cerebral cortex</td>\n",
       "      <td>cAC</td>\n",
       "      <td>L6_MC</td>\n",
       "      <td>81_Sst</td>\n",
       "      <td>Inhibitory</td>\n",
       "    </tr>\n",
       "    <tr>\n",
       "      <th>999</th>\n",
       "      <td>Cerebral cortex</td>\n",
       "      <td>cAC</td>\n",
       "      <td>L6_MC</td>\n",
       "      <td>82_Sst</td>\n",
       "      <td>Inhibitory</td>\n",
       "    </tr>\n",
       "  </tbody>\n",
       "</table>\n",
       "<p>1000 rows × 5 columns</p>\n",
       "</div>"
      ],
      "text/plain": [
       "        brain_region e_type m_type        t_type transmitter\n",
       "0    Cerebral cortex    cAC  L6_MC      10_Lamp5  Inhibitory\n",
       "1    Cerebral cortex    cAC  L6_MC       100_Sst  Inhibitory\n",
       "2    Cerebral cortex    cAC  L6_MC       101_Sst  Inhibitory\n",
       "3    Cerebral cortex    cAC  L6_MC     108_Pvalb  Inhibitory\n",
       "4    Cerebral cortex    cAC  L5_MC        89_Sst  Inhibitory\n",
       "..               ...    ...    ...           ...         ...\n",
       "995  Cerebral cortex    cAC  L6_MC        79_Sst  Inhibitory\n",
       "996  Cerebral cortex    cAC  L6_MC  8_Lamp5 Lhx6  Inhibitory\n",
       "997  Cerebral cortex    cAC  L6_MC        80_Sst  Inhibitory\n",
       "998  Cerebral cortex    cAC  L6_MC        81_Sst  Inhibitory\n",
       "999  Cerebral cortex    cAC  L6_MC        82_Sst  Inhibitory\n",
       "\n",
       "[1000 rows x 5 columns]"
      ]
     },
     "execution_count": 608,
     "metadata": {},
     "output_type": "execute_result"
    }
   ],
   "source": [
    "df.drop([\"brain_region_version\", \"e_type_id\", \"e_type_version\", \"m_type_id\", \"m_type_version\", \"t_type_id\", \"t_type_version\", \"transmitter_id\", \"transmitter_version\"], axis=1)"
   ]
  },
  {
   "cell_type": "markdown",
   "metadata": {},
   "source": [
    "### Get possible t-types for a given brain region and all the brain regions which are part of that brain region"
   ]
  },
  {
   "cell_type": "markdown",
   "metadata": {},
   "source": [
    "This query returns possible t-types for the brain region one has set above and all the brain regions that are part of that brain region. E.g. if one specifies `Cerebral cortex` as brain region, this query would return t-types from the `Cerebral cortex` but also t-types for the `Isocortex` or the `Hippocampal formation` since they are both part of the `Cerebral cortex`."
   ]
  },
  {
   "cell_type": "code",
   "execution_count": 609,
   "metadata": {},
   "outputs": [],
   "source": [
    "query = f\"\"\"\n",
    "\n",
    "SELECT ?brain_region ?brain_region_version ?t_type ?t_type_id ?t_type_version\n",
    "\n",
    "WHERE {{\n",
    "        ?t_type_id label ?t_type ;\n",
    "                canHaveBrainRegion ?brain_region_id ;\n",
    "                _rev ?t_type_version .\n",
    "        \n",
    "        ?brain_region_id label ?brain_region ;\n",
    "            ^hasPart* <{brain_region}> ;\n",
    "            _rev ?brain_region_version .            \n",
    "}}\n",
    "\"\"\""
   ]
  },
  {
   "cell_type": "code",
   "execution_count": 610,
   "metadata": {},
   "outputs": [],
   "source": [
    "resources = forge.sparql(query, limit=500)"
   ]
  },
  {
   "cell_type": "code",
   "execution_count": 611,
   "metadata": {},
   "outputs": [],
   "source": [
    "df = forge.as_dataframe(resources)"
   ]
  },
  {
   "cell_type": "code",
   "execution_count": 612,
   "metadata": {},
   "outputs": [
    {
     "data": {
      "text/plain": [
       "387"
      ]
     },
     "execution_count": 612,
     "metadata": {},
     "output_type": "execute_result"
    }
   ],
   "source": [
    "len(set(df.t_type))"
   ]
  },
  {
   "cell_type": "code",
   "execution_count": 613,
   "metadata": {},
   "outputs": [
    {
     "data": {
      "text/html": [
       "<div>\n",
       "<style scoped>\n",
       "    .dataframe tbody tr th:only-of-type {\n",
       "        vertical-align: middle;\n",
       "    }\n",
       "\n",
       "    .dataframe tbody tr th {\n",
       "        vertical-align: top;\n",
       "    }\n",
       "\n",
       "    .dataframe thead th {\n",
       "        text-align: right;\n",
       "    }\n",
       "</style>\n",
       "<table border=\"1\" class=\"dataframe\">\n",
       "  <thead>\n",
       "    <tr style=\"text-align: right;\">\n",
       "      <th></th>\n",
       "      <th>brain_region</th>\n",
       "      <th>brain_region_version</th>\n",
       "      <th>t_type</th>\n",
       "      <th>t_type_id</th>\n",
       "      <th>t_type_version</th>\n",
       "    </tr>\n",
       "  </thead>\n",
       "  <tbody>\n",
       "    <tr>\n",
       "      <th>0</th>\n",
       "      <td>Field CA1</td>\n",
       "      <td>34</td>\n",
       "      <td>329_CA1-ProS</td>\n",
       "      <td>https://bbp.epfl.ch/ontologies/core/ttypes/329...</td>\n",
       "      <td>44</td>\n",
       "    </tr>\n",
       "    <tr>\n",
       "      <th>1</th>\n",
       "      <td>Field CA1</td>\n",
       "      <td>34</td>\n",
       "      <td>330_CA1-ProS</td>\n",
       "      <td>https://bbp.epfl.ch/ontologies/core/ttypes/330...</td>\n",
       "      <td>44</td>\n",
       "    </tr>\n",
       "    <tr>\n",
       "      <th>2</th>\n",
       "      <td>Field CA1</td>\n",
       "      <td>34</td>\n",
       "      <td>331_CA1-ProS</td>\n",
       "      <td>https://bbp.epfl.ch/ontologies/core/ttypes/331...</td>\n",
       "      <td>44</td>\n",
       "    </tr>\n",
       "    <tr>\n",
       "      <th>3</th>\n",
       "      <td>Field CA1</td>\n",
       "      <td>34</td>\n",
       "      <td>332_CA1-ProS</td>\n",
       "      <td>https://bbp.epfl.ch/ontologies/core/ttypes/332...</td>\n",
       "      <td>44</td>\n",
       "    </tr>\n",
       "    <tr>\n",
       "      <th>4</th>\n",
       "      <td>Field CA1</td>\n",
       "      <td>34</td>\n",
       "      <td>333_CA1-ProS</td>\n",
       "      <td>https://bbp.epfl.ch/ontologies/core/ttypes/333...</td>\n",
       "      <td>44</td>\n",
       "    </tr>\n",
       "    <tr>\n",
       "      <th>...</th>\n",
       "      <td>...</td>\n",
       "      <td>...</td>\n",
       "      <td>...</td>\n",
       "      <td>...</td>\n",
       "      <td>...</td>\n",
       "    </tr>\n",
       "    <tr>\n",
       "      <th>415</th>\n",
       "      <td>Dentate gyrus</td>\n",
       "      <td>34</td>\n",
       "      <td>363_DG</td>\n",
       "      <td>https://bbp.epfl.ch/ontologies/core/ttypes/363_DG</td>\n",
       "      <td>44</td>\n",
       "    </tr>\n",
       "    <tr>\n",
       "      <th>416</th>\n",
       "      <td>Dentate gyrus</td>\n",
       "      <td>34</td>\n",
       "      <td>364_DG</td>\n",
       "      <td>https://bbp.epfl.ch/ontologies/core/ttypes/364_DG</td>\n",
       "      <td>44</td>\n",
       "    </tr>\n",
       "    <tr>\n",
       "      <th>417</th>\n",
       "      <td>Retrohippocampal region</td>\n",
       "      <td>34</td>\n",
       "      <td>308_L6b RHP</td>\n",
       "      <td>https://bbp.epfl.ch/ontologies/core/ttypes/308...</td>\n",
       "      <td>44</td>\n",
       "    </tr>\n",
       "    <tr>\n",
       "      <th>418</th>\n",
       "      <td>Retrohippocampal region</td>\n",
       "      <td>34</td>\n",
       "      <td>309_L6b RHP</td>\n",
       "      <td>https://bbp.epfl.ch/ontologies/core/ttypes/309...</td>\n",
       "      <td>44</td>\n",
       "    </tr>\n",
       "    <tr>\n",
       "      <th>419</th>\n",
       "      <td>Retrohippocampal region</td>\n",
       "      <td>34</td>\n",
       "      <td>310_L6b RHP</td>\n",
       "      <td>https://bbp.epfl.ch/ontologies/core/ttypes/310...</td>\n",
       "      <td>44</td>\n",
       "    </tr>\n",
       "  </tbody>\n",
       "</table>\n",
       "<p>420 rows × 5 columns</p>\n",
       "</div>"
      ],
      "text/plain": [
       "                brain_region  brain_region_version        t_type  \\\n",
       "0                  Field CA1                    34  329_CA1-ProS   \n",
       "1                  Field CA1                    34  330_CA1-ProS   \n",
       "2                  Field CA1                    34  331_CA1-ProS   \n",
       "3                  Field CA1                    34  332_CA1-ProS   \n",
       "4                  Field CA1                    34  333_CA1-ProS   \n",
       "..                       ...                   ...           ...   \n",
       "415            Dentate gyrus                    34        363_DG   \n",
       "416            Dentate gyrus                    34        364_DG   \n",
       "417  Retrohippocampal region                    34   308_L6b RHP   \n",
       "418  Retrohippocampal region                    34   309_L6b RHP   \n",
       "419  Retrohippocampal region                    34   310_L6b RHP   \n",
       "\n",
       "                                             t_type_id  t_type_version  \n",
       "0    https://bbp.epfl.ch/ontologies/core/ttypes/329...              44  \n",
       "1    https://bbp.epfl.ch/ontologies/core/ttypes/330...              44  \n",
       "2    https://bbp.epfl.ch/ontologies/core/ttypes/331...              44  \n",
       "3    https://bbp.epfl.ch/ontologies/core/ttypes/332...              44  \n",
       "4    https://bbp.epfl.ch/ontologies/core/ttypes/333...              44  \n",
       "..                                                 ...             ...  \n",
       "415  https://bbp.epfl.ch/ontologies/core/ttypes/363_DG              44  \n",
       "416  https://bbp.epfl.ch/ontologies/core/ttypes/364_DG              44  \n",
       "417  https://bbp.epfl.ch/ontologies/core/ttypes/308...              44  \n",
       "418  https://bbp.epfl.ch/ontologies/core/ttypes/309...              44  \n",
       "419  https://bbp.epfl.ch/ontologies/core/ttypes/310...              44  \n",
       "\n",
       "[420 rows x 5 columns]"
      ]
     },
     "execution_count": 613,
     "metadata": {},
     "output_type": "execute_result"
    }
   ],
   "source": [
    "df"
   ]
  },
  {
   "cell_type": "markdown",
   "metadata": {},
   "source": [
    "### Get m-types together with their transmitter type (sClass)"
   ]
  },
  {
   "cell_type": "code",
   "execution_count": 614,
   "metadata": {},
   "outputs": [],
   "source": [
    "query = f\"\"\"\n",
    "\n",
    "SELECT ?transmitter ?m_type\n",
    "\n",
    "WHERE {{\n",
    "        ?m_type_id label ?m_type ;\n",
    "            subClassOf* MType ;\n",
    "            subClassOf* / hasNeurotransmitterType / label ?transmitter .           \n",
    "}}\n",
    "\"\"\""
   ]
  },
  {
   "cell_type": "code",
   "execution_count": 615,
   "metadata": {},
   "outputs": [],
   "source": [
    "resources = forge.sparql(query, limit=100)"
   ]
  },
  {
   "cell_type": "code",
   "execution_count": 616,
   "metadata": {},
   "outputs": [],
   "source": [
    "df = forge.as_dataframe(resources)"
   ]
  },
  {
   "cell_type": "code",
   "execution_count": 617,
   "metadata": {},
   "outputs": [
    {
     "data": {
      "text/html": [
       "<div>\n",
       "<style scoped>\n",
       "    .dataframe tbody tr th:only-of-type {\n",
       "        vertical-align: middle;\n",
       "    }\n",
       "\n",
       "    .dataframe tbody tr th {\n",
       "        vertical-align: top;\n",
       "    }\n",
       "\n",
       "    .dataframe thead th {\n",
       "        text-align: right;\n",
       "    }\n",
       "</style>\n",
       "<table border=\"1\" class=\"dataframe\">\n",
       "  <thead>\n",
       "    <tr style=\"text-align: right;\">\n",
       "      <th></th>\n",
       "      <th>m_type</th>\n",
       "      <th>transmitter</th>\n",
       "    </tr>\n",
       "  </thead>\n",
       "  <tbody>\n",
       "    <tr>\n",
       "      <th>0</th>\n",
       "      <td>L3_TPC:C</td>\n",
       "      <td>Excitatory</td>\n",
       "    </tr>\n",
       "    <tr>\n",
       "      <th>1</th>\n",
       "      <td>L5_TPC:B</td>\n",
       "      <td>Excitatory</td>\n",
       "    </tr>\n",
       "    <tr>\n",
       "      <th>2</th>\n",
       "      <td>L5_TPC:A</td>\n",
       "      <td>Excitatory</td>\n",
       "    </tr>\n",
       "    <tr>\n",
       "      <th>3</th>\n",
       "      <td>L3_TPC:A</td>\n",
       "      <td>Excitatory</td>\n",
       "    </tr>\n",
       "    <tr>\n",
       "      <th>4</th>\n",
       "      <td>L2_TPC:B</td>\n",
       "      <td>Excitatory</td>\n",
       "    </tr>\n",
       "  </tbody>\n",
       "</table>\n",
       "</div>"
      ],
      "text/plain": [
       "     m_type transmitter\n",
       "0  L3_TPC:C  Excitatory\n",
       "1  L5_TPC:B  Excitatory\n",
       "2  L5_TPC:A  Excitatory\n",
       "3  L3_TPC:A  Excitatory\n",
       "4  L2_TPC:B  Excitatory"
      ]
     },
     "execution_count": 617,
     "metadata": {},
     "output_type": "execute_result"
    }
   ],
   "source": [
    "df.head()"
   ]
  },
  {
   "cell_type": "markdown",
   "metadata": {},
   "source": [
    "### Get m-types of pyramidal cells (mClass)"
   ]
  },
  {
   "cell_type": "code",
   "execution_count": 618,
   "metadata": {},
   "outputs": [],
   "source": [
    "query = f\"\"\"\n",
    "\n",
    "SELECT ?mClass ?m_type\n",
    "\n",
    "WHERE {{\n",
    "        ?m_type_id label ?m_type ;\n",
    "            subClassOf* MType ;\n",
    "            subClassOf* <https://neuroshapes.org/PyramidalNeuron> .           \n",
    "}}\n",
    "\"\"\""
   ]
  },
  {
   "cell_type": "code",
   "execution_count": 619,
   "metadata": {},
   "outputs": [],
   "source": [
    "resources = forge.sparql(query, limit=100)"
   ]
  },
  {
   "cell_type": "code",
   "execution_count": 620,
   "metadata": {},
   "outputs": [],
   "source": [
    "df = forge.as_dataframe(resources)"
   ]
  },
  {
   "cell_type": "code",
   "execution_count": 621,
   "metadata": {},
   "outputs": [
    {
     "data": {
      "text/html": [
       "<div>\n",
       "<style scoped>\n",
       "    .dataframe tbody tr th:only-of-type {\n",
       "        vertical-align: middle;\n",
       "    }\n",
       "\n",
       "    .dataframe tbody tr th {\n",
       "        vertical-align: top;\n",
       "    }\n",
       "\n",
       "    .dataframe thead th {\n",
       "        text-align: right;\n",
       "    }\n",
       "</style>\n",
       "<table border=\"1\" class=\"dataframe\">\n",
       "  <thead>\n",
       "    <tr style=\"text-align: right;\">\n",
       "      <th></th>\n",
       "      <th>m_type</th>\n",
       "    </tr>\n",
       "  </thead>\n",
       "  <tbody>\n",
       "    <tr>\n",
       "      <th>0</th>\n",
       "      <td>L3_TPC:C</td>\n",
       "    </tr>\n",
       "    <tr>\n",
       "      <th>1</th>\n",
       "      <td>L5_TPC:B</td>\n",
       "    </tr>\n",
       "    <tr>\n",
       "      <th>2</th>\n",
       "      <td>L5_TPC:A</td>\n",
       "    </tr>\n",
       "    <tr>\n",
       "      <th>3</th>\n",
       "      <td>L3_TPC:A</td>\n",
       "    </tr>\n",
       "    <tr>\n",
       "      <th>4</th>\n",
       "      <td>L2_TPC:B</td>\n",
       "    </tr>\n",
       "  </tbody>\n",
       "</table>\n",
       "</div>"
      ],
      "text/plain": [
       "     m_type\n",
       "0  L3_TPC:C\n",
       "1  L5_TPC:B\n",
       "2  L5_TPC:A\n",
       "3  L3_TPC:A\n",
       "4  L2_TPC:B"
      ]
     },
     "execution_count": 621,
     "metadata": {},
     "output_type": "execute_result"
    }
   ],
   "source": [
    "df.head()"
   ]
  },
  {
   "cell_type": "markdown",
   "metadata": {
    "tags": []
   },
   "source": [
    "### Get m-types of interneurons (mClass)"
   ]
  },
  {
   "cell_type": "markdown",
   "metadata": {},
   "source": [
    "TODO: While we do have interneuron as a class, the subclass relationship remains to be added."
   ]
  },
  {
   "cell_type": "code",
   "execution_count": 622,
   "metadata": {},
   "outputs": [],
   "source": [
    "query = f\"\"\"\n",
    "\n",
    "SELECT ?mClass ?m_type\n",
    "\n",
    "WHERE {{\n",
    "        ?m_type_id label ?m_type ;\n",
    "            subClassOf* MType ;\n",
    "            subClassOf* <https://neuroshapes.org/Interneuron> .           \n",
    "}}\n",
    "\"\"\""
   ]
  },
  {
   "cell_type": "code",
   "execution_count": 623,
   "metadata": {},
   "outputs": [],
   "source": [
    "resources = forge.sparql(query, limit=100)"
   ]
  },
  {
   "cell_type": "code",
   "execution_count": 624,
   "metadata": {},
   "outputs": [],
   "source": [
    "df = forge.as_dataframe(resources)"
   ]
  },
  {
   "cell_type": "code",
   "execution_count": 625,
   "metadata": {},
   "outputs": [
    {
     "data": {
      "text/html": [
       "<div>\n",
       "<style scoped>\n",
       "    .dataframe tbody tr th:only-of-type {\n",
       "        vertical-align: middle;\n",
       "    }\n",
       "\n",
       "    .dataframe tbody tr th {\n",
       "        vertical-align: top;\n",
       "    }\n",
       "\n",
       "    .dataframe thead th {\n",
       "        text-align: right;\n",
       "    }\n",
       "</style>\n",
       "<table border=\"1\" class=\"dataframe\">\n",
       "  <thead>\n",
       "    <tr style=\"text-align: right;\">\n",
       "      <th></th>\n",
       "    </tr>\n",
       "  </thead>\n",
       "  <tbody>\n",
       "  </tbody>\n",
       "</table>\n",
       "</div>"
      ],
      "text/plain": [
       "Empty DataFrame\n",
       "Columns: []\n",
       "Index: []"
      ]
     },
     "execution_count": 625,
     "metadata": {},
     "output_type": "execute_result"
    }
   ],
   "source": [
    "df.head()"
   ]
  },
  {
   "cell_type": "markdown",
   "metadata": {},
   "source": [
    "### Get m-types with a given morphology and the morphology definition"
   ]
  },
  {
   "cell_type": "markdown",
   "metadata": {},
   "source": [
    "This query returns m-types which have a given morphological shape. The cell morphologies were taken from the [Phenotype and Trait Ontology](https://ontobee.org/ontology/PATO) (this was done following the request of Georges Khazen who wanted to include the `PATO` deinfitions of morphologies).\n",
    "Set `MORPHOLOGY` below to one of the following:\n",
    "\n",
    "- `standard pyramidal morphology`\n",
    "- `pyramidal family morphology`\n",
    "- `tufted pyramidal morphology`\n",
    "- `basket cell morphology`\n",
    "- `chandelier cell morphology`\n",
    "- `neurogliaform morphology`\n",
    "- `Martinotti morphology`\n",
    "- `cortical bipolar morphology`\n",
    "- `bitufted cell morphology`"
   ]
  },
  {
   "cell_type": "code",
   "execution_count": 626,
   "metadata": {},
   "outputs": [],
   "source": [
    "MORPHOLOGY = \"basket cell morphology\""
   ]
  },
  {
   "cell_type": "code",
   "execution_count": 627,
   "metadata": {},
   "outputs": [],
   "source": [
    "query = f\"\"\"\n",
    "\n",
    "SELECT ?cell ?definition\n",
    "\n",
    "WHERE {{\n",
    "        ?cell_id subClassOf* / hasMorphologicalPhenotype ?pato_id ;\n",
    "                  label ?cell .\n",
    "        ?pato_id subClassOf* / label \"{MORPHOLOGY}\" .\n",
    "        ?parent_pato_id label \"{MORPHOLOGY}\" ;\n",
    "                <http://purl.obolibrary.org/obo/IAO_0000115> ?definition .\n",
    "}}\n",
    "\"\"\""
   ]
  },
  {
   "cell_type": "code",
   "execution_count": 628,
   "metadata": {},
   "outputs": [],
   "source": [
    "resources = forge.sparql(query, limit=100)"
   ]
  },
  {
   "cell_type": "code",
   "execution_count": 629,
   "metadata": {},
   "outputs": [],
   "source": [
    "df = forge.as_dataframe(resources)"
   ]
  },
  {
   "cell_type": "code",
   "execution_count": 630,
   "metadata": {},
   "outputs": [
    {
     "data": {
      "text/html": [
       "<div>\n",
       "<style scoped>\n",
       "    .dataframe tbody tr th:only-of-type {\n",
       "        vertical-align: middle;\n",
       "    }\n",
       "\n",
       "    .dataframe tbody tr th {\n",
       "        vertical-align: top;\n",
       "    }\n",
       "\n",
       "    .dataframe thead th {\n",
       "        text-align: right;\n",
       "    }\n",
       "</style>\n",
       "<table border=\"1\" class=\"dataframe\">\n",
       "  <thead>\n",
       "    <tr style=\"text-align: right;\">\n",
       "      <th></th>\n",
       "      <th>cell</th>\n",
       "      <th>definition</th>\n",
       "    </tr>\n",
       "  </thead>\n",
       "  <tbody>\n",
       "    <tr>\n",
       "      <th>0</th>\n",
       "      <td>Neocortex Basket Cell</td>\n",
       "      <td>A cell morphology that inheres in multipolar n...</td>\n",
       "    </tr>\n",
       "    <tr>\n",
       "      <th>1</th>\n",
       "      <td>Hippocampus basket cell</td>\n",
       "      <td>A cell morphology that inheres in multipolar n...</td>\n",
       "    </tr>\n",
       "    <tr>\n",
       "      <th>2</th>\n",
       "      <td>L23_LBC</td>\n",
       "      <td>A cell morphology that inheres in multipolar n...</td>\n",
       "    </tr>\n",
       "    <tr>\n",
       "      <th>3</th>\n",
       "      <td>L23_NBC</td>\n",
       "      <td>A cell morphology that inheres in multipolar n...</td>\n",
       "    </tr>\n",
       "    <tr>\n",
       "      <th>4</th>\n",
       "      <td>L23_SBC</td>\n",
       "      <td>A cell morphology that inheres in multipolar n...</td>\n",
       "    </tr>\n",
       "  </tbody>\n",
       "</table>\n",
       "</div>"
      ],
      "text/plain": [
       "                      cell                                         definition\n",
       "0    Neocortex Basket Cell  A cell morphology that inheres in multipolar n...\n",
       "1  Hippocampus basket cell  A cell morphology that inheres in multipolar n...\n",
       "2                  L23_LBC  A cell morphology that inheres in multipolar n...\n",
       "3                  L23_NBC  A cell morphology that inheres in multipolar n...\n",
       "4                  L23_SBC  A cell morphology that inheres in multipolar n..."
      ]
     },
     "execution_count": 630,
     "metadata": {},
     "output_type": "execute_result"
    }
   ],
   "source": [
    "df.head()"
   ]
  },
  {
   "cell_type": "markdown",
   "metadata": {},
   "source": [
    "### Get t-types from a paper specific paper"
   ]
  },
  {
   "cell_type": "markdown",
   "metadata": {},
   "source": [
    "The [Cell Types and Missing Data - Version 1](https://docs.google.com/spreadsheets/d/1iUgqPszKkYQgkJlmpQSkeyFWcEoOxovsBkoLPtA3qPg/edit#gid=1180597294) spreadsheet which served as source for the `Cell Types Ontology` - lists paper identifiers on the `Notes` sheet. These references were added to the respective t-types.\n",
    "Set `PAPER` below to one of the following:\n",
    "\n",
    "- Yao et al. 2021: `https://www.sciencedirect.com/science/article/pii/S0092867421005018?dgcid=rss_sd_all`\n",
    "- Gokce 2016: `https://www.ncbi.nlm.nih.gov/labs/pmc/articles/PMC5004635/`\n",
    "- Kozareva et al. 2021: `https://www.nature.com/articles/s41586-021-03220-z`\n",
    "- Chen et al. 2017: `https://www.sciencedirect.com/science/article/pii/S2211124717303212?via%3Dihub`\n",
    "- Kalish et al. 2018: `https://www.pnas.org/content/115/5/E1051`"
   ]
  },
  {
   "cell_type": "code",
   "execution_count": 632,
   "metadata": {},
   "outputs": [],
   "source": [
    "PAPER = \"https://www.sciencedirect.com/science/article/pii/S0092867421005018?dgcid=rss_sd_all\""
   ]
  },
  {
   "cell_type": "code",
   "execution_count": 633,
   "metadata": {},
   "outputs": [],
   "source": [
    "query = f\"\"\"\n",
    "\n",
    "SELECT ?label ?brain_region\n",
    "\n",
    "WHERE {{\n",
    "        ?id seeAlso <{PAPER}> ;\n",
    "            label ?label .\n",
    "        OPTIONAL {{ ?id canHaveBrainRegion / label ?brain_region }} .\n",
    "}}\n",
    "\"\"\""
   ]
  },
  {
   "cell_type": "code",
   "execution_count": 634,
   "metadata": {},
   "outputs": [],
   "source": [
    "resources = forge.sparql(query, limit=100)"
   ]
  },
  {
   "cell_type": "code",
   "execution_count": 635,
   "metadata": {},
   "outputs": [],
   "source": [
    "df = forge.as_dataframe(resources)"
   ]
  },
  {
   "cell_type": "code",
   "execution_count": 636,
   "metadata": {},
   "outputs": [
    {
     "data": {
      "text/html": [
       "<div>\n",
       "<style scoped>\n",
       "    .dataframe tbody tr th:only-of-type {\n",
       "        vertical-align: middle;\n",
       "    }\n",
       "\n",
       "    .dataframe tbody tr th {\n",
       "        vertical-align: top;\n",
       "    }\n",
       "\n",
       "    .dataframe thead th {\n",
       "        text-align: right;\n",
       "    }\n",
       "</style>\n",
       "<table border=\"1\" class=\"dataframe\">\n",
       "  <thead>\n",
       "    <tr style=\"text-align: right;\">\n",
       "      <th></th>\n",
       "      <th>label</th>\n",
       "      <th>brain_region</th>\n",
       "    </tr>\n",
       "  </thead>\n",
       "  <tbody>\n",
       "    <tr>\n",
       "      <th>0</th>\n",
       "      <td>10_Lamp5</td>\n",
       "      <td>Cerebral cortex</td>\n",
       "    </tr>\n",
       "    <tr>\n",
       "      <th>1</th>\n",
       "      <td>100_Sst</td>\n",
       "      <td>Cerebral cortex</td>\n",
       "    </tr>\n",
       "    <tr>\n",
       "      <th>2</th>\n",
       "      <td>101_Sst</td>\n",
       "      <td>Cerebral cortex</td>\n",
       "    </tr>\n",
       "    <tr>\n",
       "      <th>3</th>\n",
       "      <td>102_Sst HPF</td>\n",
       "      <td>Hippocampal formation</td>\n",
       "    </tr>\n",
       "    <tr>\n",
       "      <th>4</th>\n",
       "      <td>103_Sst HPF</td>\n",
       "      <td>Hippocampal formation</td>\n",
       "    </tr>\n",
       "  </tbody>\n",
       "</table>\n",
       "</div>"
      ],
      "text/plain": [
       "         label           brain_region\n",
       "0     10_Lamp5        Cerebral cortex\n",
       "1      100_Sst        Cerebral cortex\n",
       "2      101_Sst        Cerebral cortex\n",
       "3  102_Sst HPF  Hippocampal formation\n",
       "4  103_Sst HPF  Hippocampal formation"
      ]
     },
     "execution_count": 636,
     "metadata": {},
     "output_type": "execute_result"
    }
   ],
   "source": [
    "df.head()"
   ]
  },
  {
   "cell_type": "markdown",
   "metadata": {},
   "source": [
    "### Get the m- e- and t-type placeholders"
   ]
  },
  {
   "cell_type": "markdown",
   "metadata": {},
   "source": [
    "One of the requirements specified during the meeting on `2022-05-30` was to have a placeholder class for each of the types. We thus implemented an m- e- and t-type placeholder class."
   ]
  },
  {
   "cell_type": "code",
   "execution_count": 637,
   "metadata": {},
   "outputs": [],
   "source": [
    "query = \"\"\"\n",
    "\n",
    "SELECT ?id ?label\n",
    "\n",
    "WHERE {\n",
    "        ?id label ?label .\n",
    "        FILTER (CONTAINS(STR(?label), 'Placeholder'))\n",
    "}\n",
    "\"\"\""
   ]
  },
  {
   "cell_type": "code",
   "execution_count": 638,
   "metadata": {},
   "outputs": [],
   "source": [
    "resources = forge.sparql(query, limit=100)"
   ]
  },
  {
   "cell_type": "code",
   "execution_count": 639,
   "metadata": {},
   "outputs": [],
   "source": [
    "df = forge.as_dataframe(resources)"
   ]
  },
  {
   "cell_type": "code",
   "execution_count": 640,
   "metadata": {},
   "outputs": [
    {
     "data": {
      "text/html": [
       "<div>\n",
       "<style scoped>\n",
       "    .dataframe tbody tr th:only-of-type {\n",
       "        vertical-align: middle;\n",
       "    }\n",
       "\n",
       "    .dataframe tbody tr th {\n",
       "        vertical-align: top;\n",
       "    }\n",
       "\n",
       "    .dataframe thead th {\n",
       "        text-align: right;\n",
       "    }\n",
       "</style>\n",
       "<table border=\"1\" class=\"dataframe\">\n",
       "  <thead>\n",
       "    <tr style=\"text-align: right;\">\n",
       "      <th></th>\n",
       "      <th>id</th>\n",
       "      <th>label</th>\n",
       "    </tr>\n",
       "  </thead>\n",
       "  <tbody>\n",
       "    <tr>\n",
       "      <th>0</th>\n",
       "      <td>https://bbp.epfl.ch/ontologies/core/bmo/ETypeP...</td>\n",
       "      <td>EType Placeholder</td>\n",
       "    </tr>\n",
       "    <tr>\n",
       "      <th>1</th>\n",
       "      <td>https://bbp.epfl.ch/ontologies/core/bmo/MTypeP...</td>\n",
       "      <td>MType Placeholder</td>\n",
       "    </tr>\n",
       "    <tr>\n",
       "      <th>2</th>\n",
       "      <td>https://bbp.epfl.ch/ontologies/core/bmo/TTypeP...</td>\n",
       "      <td>TType Placeholder</td>\n",
       "    </tr>\n",
       "  </tbody>\n",
       "</table>\n",
       "</div>"
      ],
      "text/plain": [
       "                                                  id              label\n",
       "0  https://bbp.epfl.ch/ontologies/core/bmo/ETypeP...  EType Placeholder\n",
       "1  https://bbp.epfl.ch/ontologies/core/bmo/MTypeP...  MType Placeholder\n",
       "2  https://bbp.epfl.ch/ontologies/core/bmo/TTypeP...  TType Placeholder"
      ]
     },
     "execution_count": 640,
     "metadata": {},
     "output_type": "execute_result"
    }
   ],
   "source": [
    "df"
   ]
  },
  {
   "cell_type": "markdown",
   "metadata": {},
   "source": [
    "### Get all cell type combinations and probabilities for a given brain region"
   ]
  },
  {
   "cell_type": "markdown",
   "metadata": {},
   "source": [
    "This query cell type combinations for a given brain region (i.e. the `BRAIN_REGION` specified above). For demonstration purposes, the `limit` parameter on the query has been set to `1000`. This can be increased to get all available cell type combinations."
   ]
  },
  {
   "cell_type": "code",
   "execution_count": 641,
   "metadata": {},
   "outputs": [],
   "source": [
    "query = f\"\"\"\n",
    "\n",
    "SELECT ?brain_region ?m_type ?e_type ?molecular_type ?probability\n",
    "\n",
    "WHERE {{\n",
    "        ?probability_id hasTarget / hasSource / hasSomaLocatedIn ?brain_region_id ;\n",
    "            hasBody / value ?probability ;\n",
    "            hasTarget ?m_type_target ;\n",
    "            hasTarget ?e_type_target ;\n",
    "            hasTarget ?molecular_type_target .\n",
    "        ?brain_region_id label ?brain_region ;\n",
    "            ^hasPart* <{brain_region}> .\n",
    "        ?m_type_target hasSource / a MType ;\n",
    "            hasSource / label ?m_type .\n",
    "        ?e_type_target hasSource / a EType ;\n",
    "            hasSource / label ?e_type .\n",
    "        ?molecular_type_target hasSource / a NeuronMolecularType ;\n",
    "            hasSource / label ?molecular_type .\n",
    "}}\n",
    "\"\"\""
   ]
  },
  {
   "cell_type": "code",
   "execution_count": 642,
   "metadata": {},
   "outputs": [],
   "source": [
    "resources = forge.sparql(query, limit=1000)"
   ]
  },
  {
   "cell_type": "code",
   "execution_count": 643,
   "metadata": {},
   "outputs": [],
   "source": [
    "df = forge.as_dataframe(resources)"
   ]
  },
  {
   "cell_type": "code",
   "execution_count": 644,
   "metadata": {},
   "outputs": [
    {
     "data": {
      "text/html": [
       "<div>\n",
       "<style scoped>\n",
       "    .dataframe tbody tr th:only-of-type {\n",
       "        vertical-align: middle;\n",
       "    }\n",
       "\n",
       "    .dataframe tbody tr th {\n",
       "        vertical-align: top;\n",
       "    }\n",
       "\n",
       "    .dataframe thead th {\n",
       "        text-align: right;\n",
       "    }\n",
       "</style>\n",
       "<table border=\"1\" class=\"dataframe\">\n",
       "  <thead>\n",
       "    <tr style=\"text-align: right;\">\n",
       "      <th></th>\n",
       "      <th>brain_region</th>\n",
       "      <th>e_type</th>\n",
       "      <th>m_type</th>\n",
       "      <th>molecular_type</th>\n",
       "      <th>probability</th>\n",
       "    </tr>\n",
       "  </thead>\n",
       "  <tbody>\n",
       "    <tr>\n",
       "      <th>0</th>\n",
       "      <td>Isocortex</td>\n",
       "      <td>bAC</td>\n",
       "      <td>L23_LBC</td>\n",
       "      <td>PV+</td>\n",
       "      <td>0.333333333</td>\n",
       "    </tr>\n",
       "    <tr>\n",
       "      <th>1</th>\n",
       "      <td>Isocortex</td>\n",
       "      <td>dNAC</td>\n",
       "      <td>L4_NBC</td>\n",
       "      <td>PV+</td>\n",
       "      <td>0.371428571</td>\n",
       "    </tr>\n",
       "    <tr>\n",
       "      <th>2</th>\n",
       "      <td>Isocortex</td>\n",
       "      <td>cAC</td>\n",
       "      <td>L23_LBC</td>\n",
       "      <td>Serpinf1+</td>\n",
       "      <td>0.0</td>\n",
       "    </tr>\n",
       "    <tr>\n",
       "      <th>3</th>\n",
       "      <td>Isocortex</td>\n",
       "      <td>cAC</td>\n",
       "      <td>L23_MC</td>\n",
       "      <td>Serpinf1+</td>\n",
       "      <td>0.0</td>\n",
       "    </tr>\n",
       "    <tr>\n",
       "      <th>4</th>\n",
       "      <td>Isocortex</td>\n",
       "      <td>cAC</td>\n",
       "      <td>L23_NBC</td>\n",
       "      <td>Serpinf1+</td>\n",
       "      <td>0.0</td>\n",
       "    </tr>\n",
       "  </tbody>\n",
       "</table>\n",
       "</div>"
      ],
      "text/plain": [
       "  brain_region e_type   m_type molecular_type  probability\n",
       "0    Isocortex    bAC  L23_LBC            PV+  0.333333333\n",
       "1    Isocortex   dNAC   L4_NBC            PV+  0.371428571\n",
       "2    Isocortex    cAC  L23_LBC      Serpinf1+          0.0\n",
       "3    Isocortex    cAC   L23_MC      Serpinf1+          0.0\n",
       "4    Isocortex    cAC  L23_NBC      Serpinf1+          0.0"
      ]
     },
     "execution_count": 644,
     "metadata": {},
     "output_type": "execute_result"
    }
   ],
   "source": [
    "df.head()"
   ]
  },
  {
   "cell_type": "markdown",
   "metadata": {},
   "source": [
    "----"
   ]
  },
  {
   "cell_type": "markdown",
   "metadata": {},
   "source": [
    "## 2022-08-31 Workshop queries"
   ]
  },
  {
   "cell_type": "markdown",
   "metadata": {},
   "source": [
    "### Get the atlas hierarchy"
   ]
  },
  {
   "cell_type": "code",
   "execution_count": 645,
   "metadata": {},
   "outputs": [],
   "source": [
    "atlas_release = forge_atlas.retrieve(\"https://bbp.epfl.ch/neurosciencegraph/data/4906ab85-694f-469d-962f-c0174e901885\", version=1)"
   ]
  },
  {
   "cell_type": "code",
   "execution_count": 646,
   "metadata": {},
   "outputs": [
    {
     "data": {
      "text/plain": [
       "1"
      ]
     },
     "execution_count": 646,
     "metadata": {},
     "output_type": "execute_result"
    }
   ],
   "source": [
    "atlas_release._store_metadata[\"_rev\"]"
   ]
  },
  {
   "cell_type": "code",
   "execution_count": 651,
   "metadata": {},
   "outputs": [
    {
     "name": "stdout",
     "output_type": "stream",
     "text": [
      "{\n",
      "    context: https://bbp.neuroshapes.org\n",
      "    id: https://bbp.epfl.ch/neurosciencegraph/data/4906ab85-694f-469d-962f-c0174e901885\n",
      "    type:\n",
      "    [\n",
      "        AtlasRelease\n",
      "        BrainAtlasRelease\n",
      "    ]\n",
      "    brainTemplateDataLayer:\n",
      "    {\n",
      "        id: https://bbp.epfl.ch/neurosciencegraph/data/cce06e96-85a4-403d-8b87-634a1554cdb9\n",
      "        type: BrainTemplateDataLayer\n",
      "    }\n",
      "    description: The official Atlas of the Blue Brain Project, derivated from AIBS Mouse CCF v3 (2017)\n",
      "    name: Blue Brain Atlas\n",
      "    parcellationOntology:\n",
      "    {\n",
      "        id: https://bbp.epfl.ch/neurosciencegraph/data/0518dd0b-cbc7-43ef-a75f-45631059c8c5\n",
      "        type: ParcellationOntology\n",
      "    }\n",
      "    parcellationVolume:\n",
      "    {\n",
      "        id: https://bbp.epfl.ch/neurosciencegraph/data/231f6e2e-6366-4ddc-94b6-35ab50c076c0\n",
      "        type: BrainParcellationDataLayer\n",
      "    }\n",
      "    releaseDate:\n",
      "    {\n",
      "        type: xsd:date\n",
      "        @value: 2022-07-13\n",
      "    }\n",
      "    spatialReferenceSystem:\n",
      "    {\n",
      "        id: https://bbp.epfl.ch/neurosciencegraph/data/allen_ccfv3_spatial_reference_system\n",
      "        type: AtlasSpatialReferenceSystem\n",
      "    }\n",
      "    subject:\n",
      "    {\n",
      "        type: Subject\n",
      "        species:\n",
      "        {\n",
      "            id: http://purl.obolibrary.org/obo/NCBITaxon_10090\n",
      "            label: Mus musculus\n",
      "        }\n",
      "    }\n",
      "}\n"
     ]
    }
   ],
   "source": [
    "print(atlas_release)"
   ]
  },
  {
   "cell_type": "code",
   "execution_count": 652,
   "metadata": {},
   "outputs": [],
   "source": [
    "ontology = forge_atlas.retrieve(atlas_release.parcellationOntology.id)"
   ]
  },
  {
   "cell_type": "code",
   "execution_count": 653,
   "metadata": {},
   "outputs": [],
   "source": [
    "forge_atlas.download(ontology, \"distribution.contentUrl\", \".\")"
   ]
  },
  {
   "cell_type": "markdown",
   "metadata": {},
   "source": [
    "### Get the list of mtypes for each region (region is an input)"
   ]
  },
  {
   "cell_type": "markdown",
   "metadata": {},
   "source": [
    "#### The below query will get m-types from the specified brain region plus m-types from all child brain regions (this was added during the workshop to illustrate the `down the tree` generalisation idea)"
   ]
  },
  {
   "cell_type": "code",
   "execution_count": 717,
   "metadata": {},
   "outputs": [],
   "source": [
    "BRAIN_REGION = \"Cerebral cortex\""
   ]
  },
  {
   "cell_type": "markdown",
   "metadata": {},
   "source": [
    "Get brain region id"
   ]
  },
  {
   "cell_type": "code",
   "execution_count": 718,
   "metadata": {},
   "outputs": [],
   "source": [
    "r = forge.search({\"label\": BRAIN_REGION})"
   ]
  },
  {
   "cell_type": "code",
   "execution_count": 719,
   "metadata": {},
   "outputs": [],
   "source": [
    "brain_region = r[0].id"
   ]
  },
  {
   "cell_type": "code",
   "execution_count": 720,
   "metadata": {},
   "outputs": [
    {
     "data": {
      "text/plain": [
       "'http://api.brain-map.org/api/v2/data/Structure/688'"
      ]
     },
     "execution_count": 720,
     "metadata": {},
     "output_type": "execute_result"
    }
   ],
   "source": [
    "brain_region"
   ]
  },
  {
   "cell_type": "code",
   "execution_count": 721,
   "metadata": {},
   "outputs": [],
   "source": [
    "query = f\"\"\"\n",
    "\n",
    "SELECT ?m_type ?m_type_id ?m_type_version ?brain_region\n",
    "\n",
    "WHERE {{\n",
    "        ?m_type_id label ?m_type ;\n",
    "            _rev ?m_type_version ;\n",
    "            subClassOf* MType ;\n",
    "            hasSomaLocatedIn ?brain_region_id .\n",
    "        \n",
    "        ?brain_region_id label ?brain_region ;\n",
    "            ^hasPart* <{brain_region}> ;\n",
    "            _rev ?brain_region_version . \n",
    "}}\n",
    "\"\"\""
   ]
  },
  {
   "cell_type": "code",
   "execution_count": 722,
   "metadata": {},
   "outputs": [],
   "source": [
    "resources = forge.sparql(query, limit=1000)"
   ]
  },
  {
   "cell_type": "code",
   "execution_count": 723,
   "metadata": {},
   "outputs": [],
   "source": [
    "df = forge.as_dataframe(resources)"
   ]
  },
  {
   "cell_type": "code",
   "execution_count": 724,
   "metadata": {},
   "outputs": [
    {
     "data": {
      "text/html": [
       "<div>\n",
       "<style scoped>\n",
       "    .dataframe tbody tr th:only-of-type {\n",
       "        vertical-align: middle;\n",
       "    }\n",
       "\n",
       "    .dataframe tbody tr th {\n",
       "        vertical-align: top;\n",
       "    }\n",
       "\n",
       "    .dataframe thead th {\n",
       "        text-align: right;\n",
       "    }\n",
       "</style>\n",
       "<table border=\"1\" class=\"dataframe\">\n",
       "  <thead>\n",
       "    <tr style=\"text-align: right;\">\n",
       "      <th></th>\n",
       "      <th>brain_region</th>\n",
       "      <th>m_type</th>\n",
       "      <th>m_type_id</th>\n",
       "      <th>m_type_version</th>\n",
       "    </tr>\n",
       "  </thead>\n",
       "  <tbody>\n",
       "    <tr>\n",
       "      <th>0</th>\n",
       "      <td>Hippocampal formation</td>\n",
       "      <td>SR_PC</td>\n",
       "      <td>https://bbp.epfl.ch/neurosciencegraph/ontologi...</td>\n",
       "      <td>68</td>\n",
       "    </tr>\n",
       "    <tr>\n",
       "      <th>1</th>\n",
       "      <td>Hippocampal formation</td>\n",
       "      <td>GCL_GC</td>\n",
       "      <td>http://bbp.epfl.ch/neurosciencegraph/ontologie...</td>\n",
       "      <td>21</td>\n",
       "    </tr>\n",
       "    <tr>\n",
       "      <th>2</th>\n",
       "      <td>Hippocampal formation</td>\n",
       "      <td>SL_IS2</td>\n",
       "      <td>http://bbp.epfl.ch/neurosciencegraph/ontologie...</td>\n",
       "      <td>21</td>\n",
       "    </tr>\n",
       "    <tr>\n",
       "      <th>3</th>\n",
       "      <td>Hippocampal formation</td>\n",
       "      <td>SLM_PPA</td>\n",
       "      <td>http://bbp.epfl.ch/neurosciencegraph/ontologie...</td>\n",
       "      <td>21</td>\n",
       "    </tr>\n",
       "    <tr>\n",
       "      <th>4</th>\n",
       "      <td>Hippocampal formation</td>\n",
       "      <td>SO_BP</td>\n",
       "      <td>http://bbp.epfl.ch/neurosciencegraph/ontologie...</td>\n",
       "      <td>21</td>\n",
       "    </tr>\n",
       "  </tbody>\n",
       "</table>\n",
       "</div>"
      ],
      "text/plain": [
       "            brain_region   m_type  \\\n",
       "0  Hippocampal formation    SR_PC   \n",
       "1  Hippocampal formation   GCL_GC   \n",
       "2  Hippocampal formation   SL_IS2   \n",
       "3  Hippocampal formation  SLM_PPA   \n",
       "4  Hippocampal formation    SO_BP   \n",
       "\n",
       "                                           m_type_id  m_type_version  \n",
       "0  https://bbp.epfl.ch/neurosciencegraph/ontologi...              68  \n",
       "1  http://bbp.epfl.ch/neurosciencegraph/ontologie...              21  \n",
       "2  http://bbp.epfl.ch/neurosciencegraph/ontologie...              21  \n",
       "3  http://bbp.epfl.ch/neurosciencegraph/ontologie...              21  \n",
       "4  http://bbp.epfl.ch/neurosciencegraph/ontologie...              21  "
      ]
     },
     "execution_count": 724,
     "metadata": {},
     "output_type": "execute_result"
    }
   ],
   "source": [
    "df.head()"
   ]
  },
  {
   "cell_type": "code",
   "execution_count": 725,
   "metadata": {},
   "outputs": [
    {
     "data": {
      "text/plain": [
       "{'Hippocampal formation', 'Isocortex'}"
      ]
     },
     "execution_count": 725,
     "metadata": {},
     "output_type": "execute_result"
    }
   ],
   "source": [
    "set(df.brain_region)"
   ]
  },
  {
   "cell_type": "markdown",
   "metadata": {},
   "source": [
    "#### The below query will get m-types from the specified brain region plus m-types from parent brain regions (this was added during the workshop to illustrate the `up the tree` generalisation idea)"
   ]
  },
  {
   "cell_type": "code",
   "execution_count": 726,
   "metadata": {},
   "outputs": [],
   "source": [
    "BRAIN_REGION = \"Entorhinal area, medial part, dorsal zone\""
   ]
  },
  {
   "cell_type": "markdown",
   "metadata": {},
   "source": [
    "Get brain region id"
   ]
  },
  {
   "cell_type": "code",
   "execution_count": 727,
   "metadata": {},
   "outputs": [],
   "source": [
    "r = forge.search({\"label\": BRAIN_REGION})"
   ]
  },
  {
   "cell_type": "code",
   "execution_count": 728,
   "metadata": {},
   "outputs": [],
   "source": [
    "brain_region = r[0].id"
   ]
  },
  {
   "cell_type": "code",
   "execution_count": 729,
   "metadata": {},
   "outputs": [
    {
     "data": {
      "text/plain": [
       "'http://api.brain-map.org/api/v2/data/Structure/926'"
      ]
     },
     "execution_count": 729,
     "metadata": {},
     "output_type": "execute_result"
    }
   ],
   "source": [
    "brain_region"
   ]
  },
  {
   "cell_type": "code",
   "execution_count": 730,
   "metadata": {},
   "outputs": [],
   "source": [
    "query = f\"\"\"\n",
    "\n",
    "SELECT ?m_type ?m_type_id ?m_type_version ?brain_region\n",
    "\n",
    "WHERE {{\n",
    "        ?m_type_id label ?m_type ;\n",
    "            _rev ?m_type_version ;\n",
    "            subClassOf* MType ;\n",
    "            hasSomaLocatedIn ?brain_region_id .\n",
    "        \n",
    "        ?brain_region_id label ?brain_region ;\n",
    "            hasPart* <{brain_region}> ;\n",
    "            _rev ?brain_region_version . \n",
    "}}\n",
    "\"\"\""
   ]
  },
  {
   "cell_type": "code",
   "execution_count": 731,
   "metadata": {},
   "outputs": [],
   "source": [
    "resources = forge.sparql(query, limit=1000)"
   ]
  },
  {
   "cell_type": "code",
   "execution_count": 732,
   "metadata": {},
   "outputs": [],
   "source": [
    "df = forge.as_dataframe(resources)"
   ]
  },
  {
   "cell_type": "code",
   "execution_count": 733,
   "metadata": {},
   "outputs": [
    {
     "data": {
      "text/html": [
       "<div>\n",
       "<style scoped>\n",
       "    .dataframe tbody tr th:only-of-type {\n",
       "        vertical-align: middle;\n",
       "    }\n",
       "\n",
       "    .dataframe tbody tr th {\n",
       "        vertical-align: top;\n",
       "    }\n",
       "\n",
       "    .dataframe thead th {\n",
       "        text-align: right;\n",
       "    }\n",
       "</style>\n",
       "<table border=\"1\" class=\"dataframe\">\n",
       "  <thead>\n",
       "    <tr style=\"text-align: right;\">\n",
       "      <th></th>\n",
       "      <th>brain_region</th>\n",
       "      <th>m_type</th>\n",
       "      <th>m_type_id</th>\n",
       "      <th>m_type_version</th>\n",
       "    </tr>\n",
       "  </thead>\n",
       "  <tbody>\n",
       "    <tr>\n",
       "      <th>0</th>\n",
       "      <td>Hippocampal formation</td>\n",
       "      <td>SR_PC</td>\n",
       "      <td>https://bbp.epfl.ch/neurosciencegraph/ontologi...</td>\n",
       "      <td>68</td>\n",
       "    </tr>\n",
       "    <tr>\n",
       "      <th>1</th>\n",
       "      <td>Hippocampal formation</td>\n",
       "      <td>GCL_GC</td>\n",
       "      <td>http://bbp.epfl.ch/neurosciencegraph/ontologie...</td>\n",
       "      <td>21</td>\n",
       "    </tr>\n",
       "    <tr>\n",
       "      <th>2</th>\n",
       "      <td>Hippocampal formation</td>\n",
       "      <td>SL_IS2</td>\n",
       "      <td>http://bbp.epfl.ch/neurosciencegraph/ontologie...</td>\n",
       "      <td>21</td>\n",
       "    </tr>\n",
       "    <tr>\n",
       "      <th>3</th>\n",
       "      <td>Hippocampal formation</td>\n",
       "      <td>SLM_PPA</td>\n",
       "      <td>http://bbp.epfl.ch/neurosciencegraph/ontologie...</td>\n",
       "      <td>21</td>\n",
       "    </tr>\n",
       "    <tr>\n",
       "      <th>4</th>\n",
       "      <td>Hippocampal formation</td>\n",
       "      <td>SO_BP</td>\n",
       "      <td>http://bbp.epfl.ch/neurosciencegraph/ontologie...</td>\n",
       "      <td>21</td>\n",
       "    </tr>\n",
       "  </tbody>\n",
       "</table>\n",
       "</div>"
      ],
      "text/plain": [
       "            brain_region   m_type  \\\n",
       "0  Hippocampal formation    SR_PC   \n",
       "1  Hippocampal formation   GCL_GC   \n",
       "2  Hippocampal formation   SL_IS2   \n",
       "3  Hippocampal formation  SLM_PPA   \n",
       "4  Hippocampal formation    SO_BP   \n",
       "\n",
       "                                           m_type_id  m_type_version  \n",
       "0  https://bbp.epfl.ch/neurosciencegraph/ontologi...              68  \n",
       "1  http://bbp.epfl.ch/neurosciencegraph/ontologie...              21  \n",
       "2  http://bbp.epfl.ch/neurosciencegraph/ontologie...              21  \n",
       "3  http://bbp.epfl.ch/neurosciencegraph/ontologie...              21  \n",
       "4  http://bbp.epfl.ch/neurosciencegraph/ontologie...              21  "
      ]
     },
     "execution_count": 733,
     "metadata": {},
     "output_type": "execute_result"
    }
   ],
   "source": [
    "df.head()"
   ]
  },
  {
   "cell_type": "code",
   "execution_count": 734,
   "metadata": {},
   "outputs": [
    {
     "data": {
      "text/plain": [
       "{'Hippocampal formation'}"
      ]
     },
     "execution_count": 734,
     "metadata": {},
     "output_type": "execute_result"
    }
   ],
   "source": [
    "set(df.brain_region)"
   ]
  },
  {
   "cell_type": "markdown",
   "metadata": {},
   "source": [
    "### Get the mtype density nrrd file for each region (region is an input)"
   ]
  },
  {
   "cell_type": "code",
   "execution_count": 735,
   "metadata": {},
   "outputs": [],
   "source": [
    "# TODO; these data are not integrated in the knowledge graph"
   ]
  },
  {
   "cell_type": "markdown",
   "metadata": {},
   "source": [
    "### Get the etype ratio for each mtype for each region (region and mtype are inputs)"
   ]
  },
  {
   "cell_type": "code",
   "execution_count": 736,
   "metadata": {},
   "outputs": [],
   "source": [
    "# TODO; these data are not integrated in the knowledge graph"
   ]
  },
  {
   "cell_type": "markdown",
   "metadata": {},
   "source": [
    "### Get if the mtype is Excitatory or Inhibitory (mtype is input)"
   ]
  },
  {
   "cell_type": "markdown",
   "metadata": {},
   "source": [
    "See `Get m-types together with their transmitter type (sClass)` query above"
   ]
  },
  {
   "cell_type": "markdown",
   "metadata": {},
   "source": [
    "### Get if the mtype is pyramidal or interneuron (mtype is input)"
   ]
  },
  {
   "cell_type": "markdown",
   "metadata": {},
   "source": [
    "See `Get m-types of pyramidal cells (mClass)` and `Get m-types of interneurons (mClass)` queries above"
   ]
  },
  {
   "cell_type": "markdown",
   "metadata": {},
   "source": [
    "### Get the mini frequency for the mtype (mtype is input)"
   ]
  },
  {
   "cell_type": "code",
   "execution_count": 737,
   "metadata": {},
   "outputs": [],
   "source": [
    "# TODO; these data are not yet integrated in the knowledge graph"
   ]
  },
  {
   "cell_type": "markdown",
   "metadata": {},
   "source": [
    "### Get all brain regions of layer 1 of the neocortex"
   ]
  },
  {
   "cell_type": "code",
   "execution_count": 738,
   "metadata": {},
   "outputs": [],
   "source": [
    "query = f\"\"\"\n",
    "\n",
    "SELECT ?id ?region\n",
    "\n",
    "WHERE {{\n",
    "        ?id hasLayerLocationPhenotype <http://purl.obolibrary.org/obo/UBERON_0005390> ;\n",
    "            subClassOf* BrainRegion ;\n",
    "            label ?region\n",
    "}}\n",
    "\"\"\""
   ]
  },
  {
   "cell_type": "code",
   "execution_count": 739,
   "metadata": {},
   "outputs": [],
   "source": [
    "resources = forge.sparql(query, limit=1000)"
   ]
  },
  {
   "cell_type": "code",
   "execution_count": 740,
   "metadata": {},
   "outputs": [],
   "source": [
    "df = forge.as_dataframe(resources)"
   ]
  },
  {
   "cell_type": "code",
   "execution_count": 742,
   "metadata": {},
   "outputs": [
    {
     "data": {
      "text/html": [
       "<div>\n",
       "<style scoped>\n",
       "    .dataframe tbody tr th:only-of-type {\n",
       "        vertical-align: middle;\n",
       "    }\n",
       "\n",
       "    .dataframe tbody tr th {\n",
       "        vertical-align: top;\n",
       "    }\n",
       "\n",
       "    .dataframe thead th {\n",
       "        text-align: right;\n",
       "    }\n",
       "</style>\n",
       "<table border=\"1\" class=\"dataframe\">\n",
       "  <thead>\n",
       "    <tr style=\"text-align: right;\">\n",
       "      <th></th>\n",
       "      <th>id</th>\n",
       "      <th>region</th>\n",
       "    </tr>\n",
       "  </thead>\n",
       "  <tbody>\n",
       "    <tr>\n",
       "      <th>0</th>\n",
       "      <td>http://api.brain-map.org/api/v2/data/Structure...</td>\n",
       "      <td>Primary somatosensory area, trunk, layer 1</td>\n",
       "    </tr>\n",
       "    <tr>\n",
       "      <th>1</th>\n",
       "      <td>http://api.brain-map.org/api/v2/data/Structure...</td>\n",
       "      <td>Primary somatosensory area, lower limb, layer 1</td>\n",
       "    </tr>\n",
       "    <tr>\n",
       "      <th>2</th>\n",
       "      <td>http://api.brain-map.org/api/v2/data/Structure...</td>\n",
       "      <td>Taenia tecta, dorsal part, layer 1</td>\n",
       "    </tr>\n",
       "    <tr>\n",
       "      <th>3</th>\n",
       "      <td>http://api.brain-map.org/api/v2/data/Structure...</td>\n",
       "      <td>Taenia tecta, ventral part, layer 1</td>\n",
       "    </tr>\n",
       "    <tr>\n",
       "      <th>4</th>\n",
       "      <td>http://api.brain-map.org/api/v2/data/Structure...</td>\n",
       "      <td>Parasubiculum, layer 1</td>\n",
       "    </tr>\n",
       "  </tbody>\n",
       "</table>\n",
       "</div>"
      ],
      "text/plain": [
       "                                                  id  \\\n",
       "0  http://api.brain-map.org/api/v2/data/Structure...   \n",
       "1  http://api.brain-map.org/api/v2/data/Structure...   \n",
       "2  http://api.brain-map.org/api/v2/data/Structure...   \n",
       "3  http://api.brain-map.org/api/v2/data/Structure...   \n",
       "4  http://api.brain-map.org/api/v2/data/Structure...   \n",
       "\n",
       "                                            region  \n",
       "0       Primary somatosensory area, trunk, layer 1  \n",
       "1  Primary somatosensory area, lower limb, layer 1  \n",
       "2               Taenia tecta, dorsal part, layer 1  \n",
       "3              Taenia tecta, ventral part, layer 1  \n",
       "4                           Parasubiculum, layer 1  "
      ]
     },
     "execution_count": 742,
     "metadata": {},
     "output_type": "execute_result"
    }
   ],
   "source": [
    "df.head()"
   ]
  }
 ],
 "metadata": {
  "kernelspec": {
   "display_name": "Python (20210819)",
   "language": "python",
   "name": "20210819"
  },
  "language_info": {
   "codemirror_mode": {
    "name": "ipython",
    "version": 3
   },
   "file_extension": ".py",
   "mimetype": "text/x-python",
   "name": "python",
   "nbconvert_exporter": "python",
   "pygments_lexer": "ipython3",
   "version": "3.7.11"
  }
 },
 "nbformat": 4,
 "nbformat_minor": 4
}
