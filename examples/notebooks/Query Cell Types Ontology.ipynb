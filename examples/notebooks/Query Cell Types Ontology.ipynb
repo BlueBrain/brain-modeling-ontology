{
 "cells": [
  {
   "cell_type": "markdown",
   "metadata": {},
   "source": [
    "# Query Cell Types Ontology"
   ]
  },
  {
   "cell_type": "markdown",
   "metadata": {},
   "source": [
    "# Context"
   ]
  },
  {
   "cell_type": "markdown",
   "metadata": {},
   "source": [
    "- This notebook has been put together for the MMB demo on 2022-05-30: see [slides](https://docs.google.com/presentation/d/1Ib1_8byK0hVuNS-wPbqmeL5Lcf67m_oegC3-czPw5ws/edit#slide=id.g116ba5ed71e_0_8)\n",
    "- It has been revised following feedback from the meeting held on 2022-07-07: see [slides](https://docs.google.com/presentation/d/1mgCyYjHerLJLV79GM0kqp3_Htxmru_7QGIr5elUETC0/edit#slide=id.g13b4a370a10_0_19) and [JIRA ticket](https://bbpteam.epfl.ch/project/issues/browse/DKE-942)"
   ]
  },
  {
   "cell_type": "markdown",
   "metadata": {},
   "source": [
    "## Imports"
   ]
  },
  {
   "cell_type": "code",
   "execution_count": 387,
   "metadata": {},
   "outputs": [],
   "source": [
    "import json\n",
    "import rdflib\n",
    "import getpass\n",
    "import pandas as pd\n",
    "from rdflib import RDF, RDFS, XSD, OWL, URIRef, BNode, SKOS\n",
    "import pprint\n",
    "from kgforge.core import KnowledgeGraphForge"
   ]
  },
  {
   "cell_type": "markdown",
   "metadata": {},
   "source": [
    "## Setup\n",
    "Get an authentication token"
   ]
  },
  {
   "cell_type": "markdown",
   "metadata": {},
   "source": [
    "For now, the [Nexus web application](https://bbp.epfl.ch/nexus/web) can be used to get a token. We are looking for other simpler alternatives.\n",
    "\n",
    "- Step 1: From the opened web page, click on the login button on the right corner and follow the instructions.\n",
    "\n",
    "![login-ui](./login-ui.png)\n",
    "\n",
    "- Step 2: At the end you’ll see a token button on the right corner. Click on it to copy the token.\n",
    "\n",
    "![login-ui](./copy-token.png)\n"
   ]
  },
  {
   "cell_type": "code",
   "execution_count": 406,
   "metadata": {},
   "outputs": [
    {
     "name": "stdin",
     "output_type": "stream",
     "text": [
      " ·····································································································································································································································································································································································································································································································································································································································································································································································································································································································································································································································································································································································································································································································································································································································································································································································································································································································································································································································································································································································································································································································································································································································································································································································································································································································································································································································································································································································································································································································································································································································································································································································································································································································································································································································································································································································································································································································································································································································································································································································································································································\n"
     ]
    }
   ],
   "source": [
    "TOKEN = getpass.getpass()"
   ]
  },
  {
   "cell_type": "code",
   "execution_count": 407,
   "metadata": {},
   "outputs": [],
   "source": [
    "forge = KnowledgeGraphForge(# \"https://raw.githubusercontent.com/BlueBrain/nexus-forge/master/examples/notebooks/use-cases/prod-forge-nexus.yml\",\n",
    "                            \"/Users/akkaufma/Desktop/config/prod-forge-nexus.yml\",\n",
    "                            token=TOKEN,\n",
    "                            searchendpoints={\"sparql\": {\"endpoint\": \"https://bbp.epfl.ch/neurosciencegraph/data/views/aggreg-sp/dataset\"}},\n",
    "                            # endpoint=\"https://staging.nise.bbp.epfl.ch/nexus/v1\",\n",
    "                            bucket=\"bbp/atlas\")"
   ]
  },
  {
   "cell_type": "markdown",
   "metadata": {},
   "source": [
    "## Ontologies"
   ]
  },
  {
   "cell_type": "markdown",
   "metadata": {},
   "source": [
    "### Set brain region"
   ]
  },
  {
   "cell_type": "markdown",
   "metadata": {},
   "source": [
    "During the meeting on `2022-05-30`, it was specified that a brain region will serve as entry point when searching for cell types in the MMB context. Hence, this notebook starts by defining a brain region one wants to get cell types for. Since the most complete cell type information is available for the `Cerebral cortex`, this has been set as the default below."
   ]
  },
  {
   "cell_type": "code",
   "execution_count": 529,
   "metadata": {},
   "outputs": [],
   "source": [
    "BRAIN_REGION = \"Cerebral cortex\"\n",
    "# BRAIN_REGION = \"Caudoputamen\"\n",
    "# BRAIN_REGION = \"Cerebellum\"\n",
    "# BRAIN_REGION = \"Somatosensory areas\""
   ]
  },
  {
   "cell_type": "markdown",
   "metadata": {},
   "source": [
    "Get brain region id"
   ]
  },
  {
   "cell_type": "code",
   "execution_count": 530,
   "metadata": {},
   "outputs": [],
   "source": [
    "r = forge.search({\"label\": BRAIN_REGION}, cross_bucket=True)"
   ]
  },
  {
   "cell_type": "code",
   "execution_count": 531,
   "metadata": {},
   "outputs": [],
   "source": [
    "brain_region = r[0].id"
   ]
  },
  {
   "cell_type": "code",
   "execution_count": 532,
   "metadata": {},
   "outputs": [
    {
     "data": {
      "text/plain": [
       "'http://api.brain-map.org/api/v2/data/Structure/688'"
      ]
     },
     "execution_count": 532,
     "metadata": {},
     "output_type": "execute_result"
    }
   ],
   "source": [
    "brain_region"
   ]
  },
  {
   "cell_type": "markdown",
   "metadata": {},
   "source": [
    "### Set species"
   ]
  },
  {
   "cell_type": "code",
   "execution_count": 533,
   "metadata": {},
   "outputs": [],
   "source": [
    "SPECIES = \"Mus musculus\""
   ]
  },
  {
   "cell_type": "markdown",
   "metadata": {},
   "source": [
    "Get species id"
   ]
  },
  {
   "cell_type": "code",
   "execution_count": 534,
   "metadata": {},
   "outputs": [],
   "source": [
    "r = forge.search({\"label\": SPECIES}, cross_bucket=True)"
   ]
  },
  {
   "cell_type": "code",
   "execution_count": 535,
   "metadata": {},
   "outputs": [],
   "source": [
    "species = r[0].id"
   ]
  },
  {
   "cell_type": "code",
   "execution_count": 536,
   "metadata": {},
   "outputs": [
    {
     "data": {
      "text/plain": [
       "'http://purl.obolibrary.org/obo/NCBITaxon_10090'"
      ]
     },
     "execution_count": 536,
     "metadata": {},
     "output_type": "execute_result"
    }
   ],
   "source": [
    "species"
   ]
  },
  {
   "cell_type": "markdown",
   "metadata": {
    "tags": []
   },
   "source": [
    "## Queries"
   ]
  },
  {
   "cell_type": "markdown",
   "metadata": {},
   "source": [
    "### Get brain regions which do have neuron t-types available"
   ]
  },
  {
   "cell_type": "markdown",
   "metadata": {},
   "source": [
    "This query will list brain region labels for which the knowledge graph has neuron t-types available"
   ]
  },
  {
   "cell_type": "code",
   "execution_count": 537,
   "metadata": {},
   "outputs": [],
   "source": [
    "query = f\"\"\"\n",
    "\n",
    "SELECT ?brain_region\n",
    "\n",
    "WHERE {{\n",
    "        ?t_type_id subClassOf* <https://bbp.epfl.ch/ontologies/core/celltypes/NeuronTranscriptomicType> ;\n",
    "                  canBeLocatedInBrainRegion ?brain_region_id .        \n",
    "        ?brain_region_id label ?brain_region .\n",
    "}}\n",
    "\"\"\""
   ]
  },
  {
   "cell_type": "code",
   "execution_count": 538,
   "metadata": {},
   "outputs": [],
   "source": [
    "resources = forge.sparql(query, limit=1000)"
   ]
  },
  {
   "cell_type": "code",
   "execution_count": 539,
   "metadata": {},
   "outputs": [],
   "source": [
    "df = forge.as_dataframe(resources)"
   ]
  },
  {
   "cell_type": "code",
   "execution_count": 540,
   "metadata": {},
   "outputs": [
    {
     "data": {
      "text/plain": [
       "{'Agranular insular area',\n",
       " 'Anterior cingulate area',\n",
       " 'Area prostriata',\n",
       " 'Cerebellum',\n",
       " 'Cerebral cortex',\n",
       " 'Entorhinal area',\n",
       " 'Entorhinal area, lateral part',\n",
       " 'Entorhinal area, medial part, dorsal zone',\n",
       " 'Fasciola cinerea',\n",
       " 'Field CA1',\n",
       " 'Field CA2',\n",
       " 'Field CA3',\n",
       " 'Hippocampal formation',\n",
       " 'Hippocampo-amygdalar transition area',\n",
       " 'Hypothalamus',\n",
       " 'Induseum griseum',\n",
       " 'Isocortex',\n",
       " 'Parasubiculum',\n",
       " 'Postsubiculum',\n",
       " 'Presubiculum',\n",
       " 'Prosubiculum',\n",
       " 'Retrohippocampal region',\n",
       " 'Retrosplenial area',\n",
       " 'Retrosplenial area, ventral part',\n",
       " 'Subiculum',\n",
       " 'root'}"
      ]
     },
     "execution_count": 540,
     "metadata": {},
     "output_type": "execute_result"
    }
   ],
   "source": [
    "set(df.brain_region)"
   ]
  },
  {
   "cell_type": "markdown",
   "metadata": {},
   "source": [
    "### Get brain regions which do have neuron m-types available"
   ]
  },
  {
   "cell_type": "code",
   "execution_count": 541,
   "metadata": {},
   "outputs": [],
   "source": [
    "query = f\"\"\"\n",
    "\n",
    "SELECT ?brain_region\n",
    "\n",
    "WHERE {{\n",
    "        ?m_type_id subClassOf* <https://bbp.epfl.ch/ontologies/core/bmo/NeuronMorphologicalType> ;\n",
    "                  canBeLocatedInBrainRegion ?brain_region_id .        \n",
    "        ?brain_region_id label ?brain_region .\n",
    "}}\n",
    "\"\"\""
   ]
  },
  {
   "cell_type": "code",
   "execution_count": 542,
   "metadata": {},
   "outputs": [],
   "source": [
    "resources = forge.sparql(query, limit=1000)"
   ]
  },
  {
   "cell_type": "code",
   "execution_count": 543,
   "metadata": {},
   "outputs": [],
   "source": [
    "df = forge.as_dataframe(resources)"
   ]
  },
  {
   "cell_type": "code",
   "execution_count": 544,
   "metadata": {},
   "outputs": [
    {
     "data": {
      "text/plain": [
       "{'Caudoputamen',\n",
       " 'Field CA1',\n",
       " 'Globus pallidus, external segment',\n",
       " 'Globus pallidus, internal segment',\n",
       " 'Hippocampal formation',\n",
       " 'Isocortex',\n",
       " 'Nucleus accumbens',\n",
       " 'Pallidum, ventral region',\n",
       " 'Reticular nucleus of the thalamus',\n",
       " 'Substantia nigra, compact part',\n",
       " 'Substantia nigra, reticular part',\n",
       " 'Subthalamic nucleus',\n",
       " 'Thalamus',\n",
       " 'root'}"
      ]
     },
     "execution_count": 544,
     "metadata": {},
     "output_type": "execute_result"
    }
   ],
   "source": [
    "set(df.brain_region)"
   ]
  },
  {
   "cell_type": "markdown",
   "metadata": {},
   "source": [
    "### Get brain region which do have neuron e-types available"
   ]
  },
  {
   "cell_type": "code",
   "execution_count": 545,
   "metadata": {},
   "outputs": [],
   "source": [
    "query = f\"\"\"\n",
    "\n",
    "SELECT ?brain_region\n",
    "\n",
    "WHERE {{\n",
    "        ?e_type_id subClassOf* <https://bbp.epfl.ch/ontologies/core/bmo/NeuronElectricalType> ;\n",
    "                  canBeLocatedInBrainRegion ?brain_region_id .        \n",
    "        ?brain_region_id label ?brain_region .\n",
    "}}\n",
    "\"\"\""
   ]
  },
  {
   "cell_type": "code",
   "execution_count": 546,
   "metadata": {},
   "outputs": [],
   "source": [
    "resources = forge.sparql(query, limit=1000)"
   ]
  },
  {
   "cell_type": "code",
   "execution_count": 547,
   "metadata": {},
   "outputs": [],
   "source": [
    "df = forge.as_dataframe(resources)"
   ]
  },
  {
   "cell_type": "code",
   "execution_count": 548,
   "metadata": {},
   "outputs": [
    {
     "data": {
      "text/plain": [
       "{'Caudoputamen',\n",
       " 'Globus pallidus, external segment',\n",
       " 'Globus pallidus, internal segment',\n",
       " 'Isocortex',\n",
       " 'Nucleus accumbens',\n",
       " 'Pallidum, ventral region',\n",
       " 'Substantia nigra, compact part',\n",
       " 'Substantia nigra, reticular part',\n",
       " 'Subthalamic nucleus',\n",
       " 'Thalamus',\n",
       " 'root'}"
      ]
     },
     "execution_count": 548,
     "metadata": {},
     "output_type": "execute_result"
    }
   ],
   "source": [
    "set(df.brain_region)"
   ]
  },
  {
   "cell_type": "markdown",
   "metadata": {
    "tags": []
   },
   "source": [
    "### Get possible t-types for a given brain region"
   ]
  },
  {
   "cell_type": "markdown",
   "metadata": {},
   "source": [
    "This query lists t-types for a given brain region (i.e. the `BRAIN_REGION` specified above). For demonstration purposes, the `limit` parameter on the query has been set to `100`. This can be increased to get all available t-types. E.g. the total number of available t-types for `Cerebral cortex` on `2022-07-08` was `252`."
   ]
  },
  {
   "cell_type": "code",
   "execution_count": 549,
   "metadata": {},
   "outputs": [],
   "source": [
    "query = f\"\"\"\n",
    "\n",
    "SELECT ?brain_region ?t_type\n",
    "\n",
    "WHERE {{\n",
    "        ?t_type_id label ?t_type ;\n",
    "            subClassOf* <https://bbp.epfl.ch/ontologies/core/celltypes/NeuronTranscriptomicType> ;\n",
    "            canBeLocatedInBrainRegion <{brain_region}> .        \n",
    "        <{brain_region}> label ?brain_region . \n",
    "}}\n",
    "\"\"\""
   ]
  },
  {
   "cell_type": "code",
   "execution_count": 550,
   "metadata": {},
   "outputs": [],
   "source": [
    "resources = forge.sparql(query, limit=1000)"
   ]
  },
  {
   "cell_type": "code",
   "execution_count": 551,
   "metadata": {},
   "outputs": [],
   "source": [
    "df = forge.as_dataframe(resources)"
   ]
  },
  {
   "cell_type": "code",
   "execution_count": 552,
   "metadata": {},
   "outputs": [
    {
     "data": {
      "text/html": [
       "<div>\n",
       "<style scoped>\n",
       "    .dataframe tbody tr th:only-of-type {\n",
       "        vertical-align: middle;\n",
       "    }\n",
       "\n",
       "    .dataframe tbody tr th {\n",
       "        vertical-align: top;\n",
       "    }\n",
       "\n",
       "    .dataframe thead th {\n",
       "        text-align: right;\n",
       "    }\n",
       "</style>\n",
       "<table border=\"1\" class=\"dataframe\">\n",
       "  <thead>\n",
       "    <tr style=\"text-align: right;\">\n",
       "      <th></th>\n",
       "      <th>brain_region</th>\n",
       "      <th>t_type</th>\n",
       "    </tr>\n",
       "  </thead>\n",
       "  <tbody>\n",
       "    <tr>\n",
       "      <th>0</th>\n",
       "      <td>Cerebral cortex</td>\n",
       "      <td>275_NP PPP</td>\n",
       "    </tr>\n",
       "    <tr>\n",
       "      <th>1</th>\n",
       "      <td>Cerebral cortex</td>\n",
       "      <td>289_L6 CT CTX</td>\n",
       "    </tr>\n",
       "    <tr>\n",
       "      <th>2</th>\n",
       "      <td>Cerebral cortex</td>\n",
       "      <td>293_L6 CT CTX</td>\n",
       "    </tr>\n",
       "    <tr>\n",
       "      <th>3</th>\n",
       "      <td>Cerebral cortex</td>\n",
       "      <td>286_L6 CT CTX</td>\n",
       "    </tr>\n",
       "    <tr>\n",
       "      <th>4</th>\n",
       "      <td>Cerebral cortex</td>\n",
       "      <td>281_L6 CT CTX</td>\n",
       "    </tr>\n",
       "  </tbody>\n",
       "</table>\n",
       "</div>"
      ],
      "text/plain": [
       "      brain_region         t_type\n",
       "0  Cerebral cortex     275_NP PPP\n",
       "1  Cerebral cortex  289_L6 CT CTX\n",
       "2  Cerebral cortex  293_L6 CT CTX\n",
       "3  Cerebral cortex  286_L6 CT CTX\n",
       "4  Cerebral cortex  281_L6 CT CTX"
      ]
     },
     "execution_count": 552,
     "metadata": {},
     "output_type": "execute_result"
    }
   ],
   "source": [
    "df.head()"
   ]
  },
  {
   "cell_type": "markdown",
   "metadata": {
    "tags": []
   },
   "source": [
    "### Get possible met-type combinations plus excitatory/inhibitory category for a given brain region and species"
   ]
  },
  {
   "cell_type": "markdown",
   "metadata": {},
   "source": [
    "This query returns possible met-type combinations together with the excitatory/inhibitory categories for the brain region one has set above. For each m- e and t- and transmitter-type, the identifier and the current version in the knowledge graph are also being returned. For a simplified view, please run the `df.drop()` cell below. It will only show the labels of a given type. The `version` indicates the revision of a given type in the knowledge graph and has been included following the Cell Types Meeting on 2022-07-07 to help with reproducibility (see also this JIRA ticket: [DKE-942](https://bbpteam.epfl.ch/project/issues/browse/DKE-942))."
   ]
  },
  {
   "cell_type": "code",
   "execution_count": 553,
   "metadata": {},
   "outputs": [],
   "source": [
    "query = f\"\"\"\n",
    "\n",
    "SELECT ?brain_region ?brain_region_version ?species ?species_version ?transmitter ?transmitter_id ?transmitter_version ?t_type ?t_type_id ?t_type_version ?m_type ?m_type_id ?m_type_version ?e_type ?e_type_id ?e_type_version\n",
    "\n",
    "WHERE {{\n",
    "        ?t_type_id label ?t_type ;\n",
    "                canBeLocatedInBrainRegion <{brain_region}> ;\n",
    "                _rev ?t_type_version .\n",
    "        \n",
    "        <{brain_region}> label ?brain_region ;\n",
    "            _rev ?brain_region_version .\n",
    "        \n",
    "        ?m_type_id label ?m_type ;\n",
    "            _rev ?m_type_version ;\n",
    "            subClassOf* MType ;\n",
    "            canHaveTType ?t_type_id ;\n",
    "            subClassOf* / hasNeurotransmitterType ?transmitter_id ;\n",
    "            subClassOf* / hasInstanceInSpecies <{species}> .\n",
    "        \n",
    "        <{species}> label ?species ;        \n",
    "            _rev ?species_version .\n",
    "        \n",
    "        ?transmitter_id label ?transmitter ;        \n",
    "            _rev ?transmitter_version .\n",
    "\n",
    "        ?e_type_id label ?e_type ;\n",
    "            _rev ?e_type_version ;\n",
    "            subClassOf* EType ;\n",
    "            subClassOf* / canHaveMType ?m_type_id ;\n",
    "            subClassOf* / canHaveTType ?t_type_id .            \n",
    "}}\n",
    "\"\"\""
   ]
  },
  {
   "cell_type": "code",
   "execution_count": 554,
   "metadata": {},
   "outputs": [],
   "source": [
    "resources = forge.sparql(query, limit=1000)"
   ]
  },
  {
   "cell_type": "code",
   "execution_count": 555,
   "metadata": {},
   "outputs": [],
   "source": [
    "df = forge.as_dataframe(resources)"
   ]
  },
  {
   "cell_type": "code",
   "execution_count": 556,
   "metadata": {},
   "outputs": [
    {
     "data": {
      "text/html": [
       "<div>\n",
       "<style scoped>\n",
       "    .dataframe tbody tr th:only-of-type {\n",
       "        vertical-align: middle;\n",
       "    }\n",
       "\n",
       "    .dataframe tbody tr th {\n",
       "        vertical-align: top;\n",
       "    }\n",
       "\n",
       "    .dataframe thead th {\n",
       "        text-align: right;\n",
       "    }\n",
       "</style>\n",
       "<table border=\"1\" class=\"dataframe\">\n",
       "  <thead>\n",
       "    <tr style=\"text-align: right;\">\n",
       "      <th></th>\n",
       "      <th>brain_region</th>\n",
       "      <th>brain_region_version</th>\n",
       "      <th>e_type</th>\n",
       "      <th>e_type_id</th>\n",
       "      <th>e_type_version</th>\n",
       "      <th>m_type</th>\n",
       "      <th>m_type_id</th>\n",
       "      <th>m_type_version</th>\n",
       "      <th>species</th>\n",
       "      <th>species_version</th>\n",
       "      <th>t_type</th>\n",
       "      <th>t_type_id</th>\n",
       "      <th>t_type_version</th>\n",
       "      <th>transmitter</th>\n",
       "      <th>transmitter_id</th>\n",
       "      <th>transmitter_version</th>\n",
       "    </tr>\n",
       "  </thead>\n",
       "  <tbody>\n",
       "    <tr>\n",
       "      <th>0</th>\n",
       "      <td>Cerebral cortex</td>\n",
       "      <td>10</td>\n",
       "      <td>NCx_cNAC</td>\n",
       "      <td>https://bbp.epfl.ch/ontologies/core/bmo/Neocor...</td>\n",
       "      <td>2</td>\n",
       "      <td>L1_DAC</td>\n",
       "      <td>http://uri.interlex.org/base/ilx_0383192</td>\n",
       "      <td>30</td>\n",
       "      <td>Mus musculus</td>\n",
       "      <td>49</td>\n",
       "      <td>9_Lamp5 Lhx6</td>\n",
       "      <td>https://bbp.epfl.ch/ontologies/core/ttypes/9_L...</td>\n",
       "      <td>4</td>\n",
       "      <td>Inhibitory</td>\n",
       "      <td>https://bbp.epfl.ch/ontologies/core/bmo/Inhibi...</td>\n",
       "      <td>4</td>\n",
       "    </tr>\n",
       "    <tr>\n",
       "      <th>1</th>\n",
       "      <td>Cerebral cortex</td>\n",
       "      <td>10</td>\n",
       "      <td>NCx_cNAC</td>\n",
       "      <td>https://bbp.epfl.ch/ontologies/core/bmo/Neocor...</td>\n",
       "      <td>2</td>\n",
       "      <td>L1_DAC</td>\n",
       "      <td>http://uri.interlex.org/base/ilx_0383192</td>\n",
       "      <td>30</td>\n",
       "      <td>Mus musculus</td>\n",
       "      <td>49</td>\n",
       "      <td>9_Lamp5 Lhx6</td>\n",
       "      <td>https://bbp.epfl.ch/ontologies/core/ttypes/9_L...</td>\n",
       "      <td>4</td>\n",
       "      <td>Inhibitory</td>\n",
       "      <td>https://bbp.epfl.ch/ontologies/core/bmo/Inhibi...</td>\n",
       "      <td>4</td>\n",
       "    </tr>\n",
       "    <tr>\n",
       "      <th>2</th>\n",
       "      <td>Cerebral cortex</td>\n",
       "      <td>10</td>\n",
       "      <td>NCx_cNAC</td>\n",
       "      <td>https://bbp.epfl.ch/ontologies/core/bmo/Neocor...</td>\n",
       "      <td>2</td>\n",
       "      <td>L1_DAC</td>\n",
       "      <td>http://uri.interlex.org/base/ilx_0383192</td>\n",
       "      <td>30</td>\n",
       "      <td>Mus musculus</td>\n",
       "      <td>49</td>\n",
       "      <td>12_Lamp5</td>\n",
       "      <td>https://bbp.epfl.ch/ontologies/core/ttypes/12_...</td>\n",
       "      <td>4</td>\n",
       "      <td>Inhibitory</td>\n",
       "      <td>https://bbp.epfl.ch/ontologies/core/bmo/Inhibi...</td>\n",
       "      <td>4</td>\n",
       "    </tr>\n",
       "    <tr>\n",
       "      <th>3</th>\n",
       "      <td>Cerebral cortex</td>\n",
       "      <td>10</td>\n",
       "      <td>NCx_cNAC</td>\n",
       "      <td>https://bbp.epfl.ch/ontologies/core/bmo/Neocor...</td>\n",
       "      <td>2</td>\n",
       "      <td>L1_DAC</td>\n",
       "      <td>http://uri.interlex.org/base/ilx_0383192</td>\n",
       "      <td>30</td>\n",
       "      <td>Mus musculus</td>\n",
       "      <td>49</td>\n",
       "      <td>12_Lamp5</td>\n",
       "      <td>https://bbp.epfl.ch/ontologies/core/ttypes/12_...</td>\n",
       "      <td>4</td>\n",
       "      <td>Inhibitory</td>\n",
       "      <td>https://bbp.epfl.ch/ontologies/core/bmo/Inhibi...</td>\n",
       "      <td>4</td>\n",
       "    </tr>\n",
       "    <tr>\n",
       "      <th>4</th>\n",
       "      <td>Cerebral cortex</td>\n",
       "      <td>10</td>\n",
       "      <td>NCx_cNAC</td>\n",
       "      <td>https://bbp.epfl.ch/ontologies/core/bmo/Neocor...</td>\n",
       "      <td>2</td>\n",
       "      <td>L1_DAC</td>\n",
       "      <td>http://uri.interlex.org/base/ilx_0383192</td>\n",
       "      <td>30</td>\n",
       "      <td>Mus musculus</td>\n",
       "      <td>49</td>\n",
       "      <td>6_Lamp5 Lhx6</td>\n",
       "      <td>https://bbp.epfl.ch/ontologies/core/ttypes/6_L...</td>\n",
       "      <td>4</td>\n",
       "      <td>Inhibitory</td>\n",
       "      <td>https://bbp.epfl.ch/ontologies/core/bmo/Inhibi...</td>\n",
       "      <td>4</td>\n",
       "    </tr>\n",
       "  </tbody>\n",
       "</table>\n",
       "</div>"
      ],
      "text/plain": [
       "      brain_region  brain_region_version    e_type  \\\n",
       "0  Cerebral cortex                    10  NCx_cNAC   \n",
       "1  Cerebral cortex                    10  NCx_cNAC   \n",
       "2  Cerebral cortex                    10  NCx_cNAC   \n",
       "3  Cerebral cortex                    10  NCx_cNAC   \n",
       "4  Cerebral cortex                    10  NCx_cNAC   \n",
       "\n",
       "                                           e_type_id  e_type_version  m_type  \\\n",
       "0  https://bbp.epfl.ch/ontologies/core/bmo/Neocor...               2  L1_DAC   \n",
       "1  https://bbp.epfl.ch/ontologies/core/bmo/Neocor...               2  L1_DAC   \n",
       "2  https://bbp.epfl.ch/ontologies/core/bmo/Neocor...               2  L1_DAC   \n",
       "3  https://bbp.epfl.ch/ontologies/core/bmo/Neocor...               2  L1_DAC   \n",
       "4  https://bbp.epfl.ch/ontologies/core/bmo/Neocor...               2  L1_DAC   \n",
       "\n",
       "                                  m_type_id  m_type_version       species  \\\n",
       "0  http://uri.interlex.org/base/ilx_0383192              30  Mus musculus   \n",
       "1  http://uri.interlex.org/base/ilx_0383192              30  Mus musculus   \n",
       "2  http://uri.interlex.org/base/ilx_0383192              30  Mus musculus   \n",
       "3  http://uri.interlex.org/base/ilx_0383192              30  Mus musculus   \n",
       "4  http://uri.interlex.org/base/ilx_0383192              30  Mus musculus   \n",
       "\n",
       "   species_version        t_type  \\\n",
       "0               49  9_Lamp5 Lhx6   \n",
       "1               49  9_Lamp5 Lhx6   \n",
       "2               49      12_Lamp5   \n",
       "3               49      12_Lamp5   \n",
       "4               49  6_Lamp5 Lhx6   \n",
       "\n",
       "                                           t_type_id  t_type_version  \\\n",
       "0  https://bbp.epfl.ch/ontologies/core/ttypes/9_L...               4   \n",
       "1  https://bbp.epfl.ch/ontologies/core/ttypes/9_L...               4   \n",
       "2  https://bbp.epfl.ch/ontologies/core/ttypes/12_...               4   \n",
       "3  https://bbp.epfl.ch/ontologies/core/ttypes/12_...               4   \n",
       "4  https://bbp.epfl.ch/ontologies/core/ttypes/6_L...               4   \n",
       "\n",
       "  transmitter                                     transmitter_id  \\\n",
       "0  Inhibitory  https://bbp.epfl.ch/ontologies/core/bmo/Inhibi...   \n",
       "1  Inhibitory  https://bbp.epfl.ch/ontologies/core/bmo/Inhibi...   \n",
       "2  Inhibitory  https://bbp.epfl.ch/ontologies/core/bmo/Inhibi...   \n",
       "3  Inhibitory  https://bbp.epfl.ch/ontologies/core/bmo/Inhibi...   \n",
       "4  Inhibitory  https://bbp.epfl.ch/ontologies/core/bmo/Inhibi...   \n",
       "\n",
       "   transmitter_version  \n",
       "0                    4  \n",
       "1                    4  \n",
       "2                    4  \n",
       "3                    4  \n",
       "4                    4  "
      ]
     },
     "execution_count": 556,
     "metadata": {},
     "output_type": "execute_result"
    }
   ],
   "source": [
    "df.head()"
   ]
  },
  {
   "cell_type": "code",
   "execution_count": 558,
   "metadata": {},
   "outputs": [
    {
     "data": {
      "text/html": [
       "<div>\n",
       "<style scoped>\n",
       "    .dataframe tbody tr th:only-of-type {\n",
       "        vertical-align: middle;\n",
       "    }\n",
       "\n",
       "    .dataframe tbody tr th {\n",
       "        vertical-align: top;\n",
       "    }\n",
       "\n",
       "    .dataframe thead th {\n",
       "        text-align: right;\n",
       "    }\n",
       "</style>\n",
       "<table border=\"1\" class=\"dataframe\">\n",
       "  <thead>\n",
       "    <tr style=\"text-align: right;\">\n",
       "      <th></th>\n",
       "      <th>brain_region</th>\n",
       "      <th>e_type</th>\n",
       "      <th>m_type</th>\n",
       "      <th>species</th>\n",
       "      <th>t_type</th>\n",
       "      <th>transmitter</th>\n",
       "    </tr>\n",
       "  </thead>\n",
       "  <tbody>\n",
       "    <tr>\n",
       "      <th>0</th>\n",
       "      <td>Cerebral cortex</td>\n",
       "      <td>NCx_cNAC</td>\n",
       "      <td>L1_DAC</td>\n",
       "      <td>Mus musculus</td>\n",
       "      <td>9_Lamp5 Lhx6</td>\n",
       "      <td>Inhibitory</td>\n",
       "    </tr>\n",
       "    <tr>\n",
       "      <th>1</th>\n",
       "      <td>Cerebral cortex</td>\n",
       "      <td>NCx_cNAC</td>\n",
       "      <td>L1_DAC</td>\n",
       "      <td>Mus musculus</td>\n",
       "      <td>9_Lamp5 Lhx6</td>\n",
       "      <td>Inhibitory</td>\n",
       "    </tr>\n",
       "    <tr>\n",
       "      <th>2</th>\n",
       "      <td>Cerebral cortex</td>\n",
       "      <td>NCx_cNAC</td>\n",
       "      <td>L1_DAC</td>\n",
       "      <td>Mus musculus</td>\n",
       "      <td>12_Lamp5</td>\n",
       "      <td>Inhibitory</td>\n",
       "    </tr>\n",
       "    <tr>\n",
       "      <th>3</th>\n",
       "      <td>Cerebral cortex</td>\n",
       "      <td>NCx_cNAC</td>\n",
       "      <td>L1_DAC</td>\n",
       "      <td>Mus musculus</td>\n",
       "      <td>12_Lamp5</td>\n",
       "      <td>Inhibitory</td>\n",
       "    </tr>\n",
       "    <tr>\n",
       "      <th>4</th>\n",
       "      <td>Cerebral cortex</td>\n",
       "      <td>NCx_cNAC</td>\n",
       "      <td>L1_DAC</td>\n",
       "      <td>Mus musculus</td>\n",
       "      <td>6_Lamp5 Lhx6</td>\n",
       "      <td>Inhibitory</td>\n",
       "    </tr>\n",
       "    <tr>\n",
       "      <th>...</th>\n",
       "      <td>...</td>\n",
       "      <td>...</td>\n",
       "      <td>...</td>\n",
       "      <td>...</td>\n",
       "      <td>...</td>\n",
       "      <td>...</td>\n",
       "    </tr>\n",
       "    <tr>\n",
       "      <th>995</th>\n",
       "      <td>Cerebral cortex</td>\n",
       "      <td>NCx_cAC</td>\n",
       "      <td>L1_LAC</td>\n",
       "      <td>Mus musculus</td>\n",
       "      <td>12_Lamp5</td>\n",
       "      <td>Inhibitory</td>\n",
       "    </tr>\n",
       "    <tr>\n",
       "      <th>996</th>\n",
       "      <td>Cerebral cortex</td>\n",
       "      <td>NCx_cAC</td>\n",
       "      <td>L1_LAC</td>\n",
       "      <td>Mus musculus</td>\n",
       "      <td>6_Lamp5 Lhx6</td>\n",
       "      <td>Inhibitory</td>\n",
       "    </tr>\n",
       "    <tr>\n",
       "      <th>997</th>\n",
       "      <td>Cerebral cortex</td>\n",
       "      <td>NCx_cAC</td>\n",
       "      <td>L1_LAC</td>\n",
       "      <td>Mus musculus</td>\n",
       "      <td>5_Lamp5 Lhx6</td>\n",
       "      <td>Inhibitory</td>\n",
       "    </tr>\n",
       "    <tr>\n",
       "      <th>998</th>\n",
       "      <td>Cerebral cortex</td>\n",
       "      <td>NCx_cAC</td>\n",
       "      <td>L1_LAC</td>\n",
       "      <td>Mus musculus</td>\n",
       "      <td>7_Lamp5 Lhx6</td>\n",
       "      <td>Inhibitory</td>\n",
       "    </tr>\n",
       "    <tr>\n",
       "      <th>999</th>\n",
       "      <td>Cerebral cortex</td>\n",
       "      <td>NCx_cAC</td>\n",
       "      <td>L1_LAC</td>\n",
       "      <td>Mus musculus</td>\n",
       "      <td>10_Lamp5</td>\n",
       "      <td>Inhibitory</td>\n",
       "    </tr>\n",
       "  </tbody>\n",
       "</table>\n",
       "<p>1000 rows × 6 columns</p>\n",
       "</div>"
      ],
      "text/plain": [
       "        brain_region    e_type  m_type       species        t_type transmitter\n",
       "0    Cerebral cortex  NCx_cNAC  L1_DAC  Mus musculus  9_Lamp5 Lhx6  Inhibitory\n",
       "1    Cerebral cortex  NCx_cNAC  L1_DAC  Mus musculus  9_Lamp5 Lhx6  Inhibitory\n",
       "2    Cerebral cortex  NCx_cNAC  L1_DAC  Mus musculus      12_Lamp5  Inhibitory\n",
       "3    Cerebral cortex  NCx_cNAC  L1_DAC  Mus musculus      12_Lamp5  Inhibitory\n",
       "4    Cerebral cortex  NCx_cNAC  L1_DAC  Mus musculus  6_Lamp5 Lhx6  Inhibitory\n",
       "..               ...       ...     ...           ...           ...         ...\n",
       "995  Cerebral cortex   NCx_cAC  L1_LAC  Mus musculus      12_Lamp5  Inhibitory\n",
       "996  Cerebral cortex   NCx_cAC  L1_LAC  Mus musculus  6_Lamp5 Lhx6  Inhibitory\n",
       "997  Cerebral cortex   NCx_cAC  L1_LAC  Mus musculus  5_Lamp5 Lhx6  Inhibitory\n",
       "998  Cerebral cortex   NCx_cAC  L1_LAC  Mus musculus  7_Lamp5 Lhx6  Inhibitory\n",
       "999  Cerebral cortex   NCx_cAC  L1_LAC  Mus musculus      10_Lamp5  Inhibitory\n",
       "\n",
       "[1000 rows x 6 columns]"
      ]
     },
     "execution_count": 558,
     "metadata": {},
     "output_type": "execute_result"
    }
   ],
   "source": [
    "df.drop([\"brain_region_version\", \"e_type_id\", \"species_version\", \"e_type_version\", \"m_type_id\", \"m_type_version\", \"t_type_id\", \"t_type_version\", \"transmitter_id\", \"transmitter_version\"], axis=1)"
   ]
  },
  {
   "cell_type": "markdown",
   "metadata": {},
   "source": [
    "### Get possible t-types for a given brain region and all the brain regions which are part of that brain region"
   ]
  },
  {
   "cell_type": "markdown",
   "metadata": {},
   "source": [
    "This query returns possible t-types for the brain region one has set above and all the brain regions that are part of that brain region. E.g. if one specifies `Cerebral cortex` as brain region, this query would return t-types from the `Cerebral cortex` but also t-types for the `Isocortex` or the `Hippocampal formation` since they are both part of the `Cerebral cortex`."
   ]
  },
  {
   "cell_type": "code",
   "execution_count": 559,
   "metadata": {},
   "outputs": [],
   "source": [
    "query = f\"\"\"\n",
    "\n",
    "SELECT ?brain_region ?brain_region_version ?t_type ?t_type_id ?t_type_version\n",
    "\n",
    "WHERE {{\n",
    "        ?t_type_id label ?t_type ;\n",
    "                subClassOf* <https://bbp.epfl.ch/ontologies/core/celltypes/NeuronTranscriptomicType> ;\n",
    "                canBeLocatedInBrainRegion ?brain_region_id ;\n",
    "                _rev ?t_type_version .\n",
    "        \n",
    "        ?brain_region_id label ?brain_region ;\n",
    "            ^hasPart* <{brain_region}> ;\n",
    "            _rev ?brain_region_version .            \n",
    "}}\n",
    "\"\"\""
   ]
  },
  {
   "cell_type": "code",
   "execution_count": 560,
   "metadata": {},
   "outputs": [],
   "source": [
    "resources = forge.sparql(query, limit=500)"
   ]
  },
  {
   "cell_type": "code",
   "execution_count": 561,
   "metadata": {},
   "outputs": [],
   "source": [
    "df = forge.as_dataframe(resources)"
   ]
  },
  {
   "cell_type": "code",
   "execution_count": 562,
   "metadata": {},
   "outputs": [
    {
     "data": {
      "text/plain": [
       "359"
      ]
     },
     "execution_count": 562,
     "metadata": {},
     "output_type": "execute_result"
    }
   ],
   "source": [
    "len(set(df.t_type))"
   ]
  },
  {
   "cell_type": "code",
   "execution_count": 563,
   "metadata": {},
   "outputs": [
    {
     "data": {
      "text/html": [
       "<div>\n",
       "<style scoped>\n",
       "    .dataframe tbody tr th:only-of-type {\n",
       "        vertical-align: middle;\n",
       "    }\n",
       "\n",
       "    .dataframe tbody tr th {\n",
       "        vertical-align: top;\n",
       "    }\n",
       "\n",
       "    .dataframe thead th {\n",
       "        text-align: right;\n",
       "    }\n",
       "</style>\n",
       "<table border=\"1\" class=\"dataframe\">\n",
       "  <thead>\n",
       "    <tr style=\"text-align: right;\">\n",
       "      <th></th>\n",
       "      <th>brain_region</th>\n",
       "      <th>brain_region_version</th>\n",
       "      <th>t_type</th>\n",
       "      <th>t_type_id</th>\n",
       "      <th>t_type_version</th>\n",
       "    </tr>\n",
       "  </thead>\n",
       "  <tbody>\n",
       "    <tr>\n",
       "      <th>0</th>\n",
       "      <td>Postsubiculum</td>\n",
       "      <td>12</td>\n",
       "      <td>129_L2/3 IT POST-PRE</td>\n",
       "      <td>https://bbp.epfl.ch/ontologies/core/ttypes/129...</td>\n",
       "      <td>4</td>\n",
       "    </tr>\n",
       "    <tr>\n",
       "      <th>1</th>\n",
       "      <td>Postsubiculum</td>\n",
       "      <td>12</td>\n",
       "      <td>132_L2 IT RSPv-POST-PRE</td>\n",
       "      <td>https://bbp.epfl.ch/ontologies/core/ttypes/132...</td>\n",
       "      <td>4</td>\n",
       "    </tr>\n",
       "    <tr>\n",
       "      <th>2</th>\n",
       "      <td>Postsubiculum</td>\n",
       "      <td>12</td>\n",
       "      <td>133_L2 IT RSPv-POST-PRE</td>\n",
       "      <td>https://bbp.epfl.ch/ontologies/core/ttypes/133...</td>\n",
       "      <td>4</td>\n",
       "    </tr>\n",
       "    <tr>\n",
       "      <th>3</th>\n",
       "      <td>Postsubiculum</td>\n",
       "      <td>12</td>\n",
       "      <td>130_L2/3 IT POST-PRE</td>\n",
       "      <td>https://bbp.epfl.ch/ontologies/core/ttypes/130...</td>\n",
       "      <td>4</td>\n",
       "    </tr>\n",
       "    <tr>\n",
       "      <th>4</th>\n",
       "      <td>Postsubiculum</td>\n",
       "      <td>12</td>\n",
       "      <td>131_L2/3 IT POST-PRE</td>\n",
       "      <td>https://bbp.epfl.ch/ontologies/core/ttypes/131...</td>\n",
       "      <td>4</td>\n",
       "    </tr>\n",
       "    <tr>\n",
       "      <th>...</th>\n",
       "      <td>...</td>\n",
       "      <td>...</td>\n",
       "      <td>...</td>\n",
       "      <td>...</td>\n",
       "      <td>...</td>\n",
       "    </tr>\n",
       "    <tr>\n",
       "      <th>387</th>\n",
       "      <td>Entorhinal area</td>\n",
       "      <td>11</td>\n",
       "      <td>298_L6 CT ENT</td>\n",
       "      <td>https://bbp.epfl.ch/ontologies/core/ttypes/298...</td>\n",
       "      <td>4</td>\n",
       "    </tr>\n",
       "    <tr>\n",
       "      <th>388</th>\n",
       "      <td>Entorhinal area</td>\n",
       "      <td>11</td>\n",
       "      <td>299_L6 CT ENT</td>\n",
       "      <td>https://bbp.epfl.ch/ontologies/core/ttypes/299...</td>\n",
       "      <td>4</td>\n",
       "    </tr>\n",
       "    <tr>\n",
       "      <th>389</th>\n",
       "      <td>Entorhinal area</td>\n",
       "      <td>11</td>\n",
       "      <td>300_L6b ENT</td>\n",
       "      <td>https://bbp.epfl.ch/ontologies/core/ttypes/300...</td>\n",
       "      <td>4</td>\n",
       "    </tr>\n",
       "    <tr>\n",
       "      <th>390</th>\n",
       "      <td>Entorhinal area</td>\n",
       "      <td>11</td>\n",
       "      <td>301_L6b ENT</td>\n",
       "      <td>https://bbp.epfl.ch/ontologies/core/ttypes/301...</td>\n",
       "      <td>4</td>\n",
       "    </tr>\n",
       "    <tr>\n",
       "      <th>391</th>\n",
       "      <td>Entorhinal area</td>\n",
       "      <td>11</td>\n",
       "      <td>302_L6b ENT</td>\n",
       "      <td>https://bbp.epfl.ch/ontologies/core/ttypes/302...</td>\n",
       "      <td>4</td>\n",
       "    </tr>\n",
       "  </tbody>\n",
       "</table>\n",
       "<p>392 rows × 5 columns</p>\n",
       "</div>"
      ],
      "text/plain": [
       "        brain_region  brain_region_version                   t_type  \\\n",
       "0      Postsubiculum                    12     129_L2/3 IT POST-PRE   \n",
       "1      Postsubiculum                    12  132_L2 IT RSPv-POST-PRE   \n",
       "2      Postsubiculum                    12  133_L2 IT RSPv-POST-PRE   \n",
       "3      Postsubiculum                    12     130_L2/3 IT POST-PRE   \n",
       "4      Postsubiculum                    12     131_L2/3 IT POST-PRE   \n",
       "..               ...                   ...                      ...   \n",
       "387  Entorhinal area                    11            298_L6 CT ENT   \n",
       "388  Entorhinal area                    11            299_L6 CT ENT   \n",
       "389  Entorhinal area                    11              300_L6b ENT   \n",
       "390  Entorhinal area                    11              301_L6b ENT   \n",
       "391  Entorhinal area                    11              302_L6b ENT   \n",
       "\n",
       "                                             t_type_id  t_type_version  \n",
       "0    https://bbp.epfl.ch/ontologies/core/ttypes/129...               4  \n",
       "1    https://bbp.epfl.ch/ontologies/core/ttypes/132...               4  \n",
       "2    https://bbp.epfl.ch/ontologies/core/ttypes/133...               4  \n",
       "3    https://bbp.epfl.ch/ontologies/core/ttypes/130...               4  \n",
       "4    https://bbp.epfl.ch/ontologies/core/ttypes/131...               4  \n",
       "..                                                 ...             ...  \n",
       "387  https://bbp.epfl.ch/ontologies/core/ttypes/298...               4  \n",
       "388  https://bbp.epfl.ch/ontologies/core/ttypes/299...               4  \n",
       "389  https://bbp.epfl.ch/ontologies/core/ttypes/300...               4  \n",
       "390  https://bbp.epfl.ch/ontologies/core/ttypes/301...               4  \n",
       "391  https://bbp.epfl.ch/ontologies/core/ttypes/302...               4  \n",
       "\n",
       "[392 rows x 5 columns]"
      ]
     },
     "execution_count": 563,
     "metadata": {},
     "output_type": "execute_result"
    }
   ],
   "source": [
    "df"
   ]
  },
  {
   "cell_type": "markdown",
   "metadata": {},
   "source": [
    "### Get m-types together with their transmitter type (sClass)"
   ]
  },
  {
   "cell_type": "code",
   "execution_count": 564,
   "metadata": {},
   "outputs": [],
   "source": [
    "query = f\"\"\"\n",
    "\n",
    "SELECT ?transmitter ?m_type\n",
    "\n",
    "WHERE {{\n",
    "        ?m_type_id label ?m_type ;\n",
    "            subClassOf* MType ;\n",
    "            subClassOf* / hasNeurotransmitterType / label ?transmitter .           \n",
    "}}\n",
    "\"\"\""
   ]
  },
  {
   "cell_type": "code",
   "execution_count": 565,
   "metadata": {},
   "outputs": [],
   "source": [
    "resources = forge.sparql(query, limit=100)"
   ]
  },
  {
   "cell_type": "code",
   "execution_count": 566,
   "metadata": {},
   "outputs": [],
   "source": [
    "df = forge.as_dataframe(resources)"
   ]
  },
  {
   "cell_type": "code",
   "execution_count": 567,
   "metadata": {},
   "outputs": [
    {
     "data": {
      "text/html": [
       "<div>\n",
       "<style scoped>\n",
       "    .dataframe tbody tr th:only-of-type {\n",
       "        vertical-align: middle;\n",
       "    }\n",
       "\n",
       "    .dataframe tbody tr th {\n",
       "        vertical-align: top;\n",
       "    }\n",
       "\n",
       "    .dataframe thead th {\n",
       "        text-align: right;\n",
       "    }\n",
       "</style>\n",
       "<table border=\"1\" class=\"dataframe\">\n",
       "  <thead>\n",
       "    <tr style=\"text-align: right;\">\n",
       "      <th></th>\n",
       "      <th>m_type</th>\n",
       "      <th>transmitter</th>\n",
       "    </tr>\n",
       "  </thead>\n",
       "  <tbody>\n",
       "    <tr>\n",
       "      <th>0</th>\n",
       "      <td>CCK-positive basket cell</td>\n",
       "      <td>Inhibitory</td>\n",
       "    </tr>\n",
       "    <tr>\n",
       "      <th>1</th>\n",
       "      <td>Parvalbumin-positive basket cell</td>\n",
       "      <td>Inhibitory</td>\n",
       "    </tr>\n",
       "    <tr>\n",
       "      <th>2</th>\n",
       "      <td>L1_DAC</td>\n",
       "      <td>Inhibitory</td>\n",
       "    </tr>\n",
       "    <tr>\n",
       "      <th>3</th>\n",
       "      <td>L1_HAC</td>\n",
       "      <td>Inhibitory</td>\n",
       "    </tr>\n",
       "    <tr>\n",
       "      <th>4</th>\n",
       "      <td>L1_LAC</td>\n",
       "      <td>Inhibitory</td>\n",
       "    </tr>\n",
       "  </tbody>\n",
       "</table>\n",
       "</div>"
      ],
      "text/plain": [
       "                             m_type transmitter\n",
       "0          CCK-positive basket cell  Inhibitory\n",
       "1  Parvalbumin-positive basket cell  Inhibitory\n",
       "2                            L1_DAC  Inhibitory\n",
       "3                            L1_HAC  Inhibitory\n",
       "4                            L1_LAC  Inhibitory"
      ]
     },
     "execution_count": 567,
     "metadata": {},
     "output_type": "execute_result"
    }
   ],
   "source": [
    "df.head()"
   ]
  },
  {
   "cell_type": "markdown",
   "metadata": {},
   "source": [
    "### Get m-types of pyramidal cells (mClass)"
   ]
  },
  {
   "cell_type": "code",
   "execution_count": 568,
   "metadata": {},
   "outputs": [],
   "source": [
    "query = f\"\"\"\n",
    "\n",
    "SELECT ?mClass ?m_type\n",
    "\n",
    "WHERE {{\n",
    "        ?m_type_id label ?m_type ;\n",
    "            subClassOf* MType ;\n",
    "            subClassOf* <https://neuroshapes.org/PyramidalNeuron> .           \n",
    "}}\n",
    "\"\"\""
   ]
  },
  {
   "cell_type": "code",
   "execution_count": 569,
   "metadata": {},
   "outputs": [],
   "source": [
    "resources = forge.sparql(query, limit=100)"
   ]
  },
  {
   "cell_type": "code",
   "execution_count": 570,
   "metadata": {},
   "outputs": [],
   "source": [
    "df = forge.as_dataframe(resources)"
   ]
  },
  {
   "cell_type": "code",
   "execution_count": 571,
   "metadata": {},
   "outputs": [
    {
     "data": {
      "text/html": [
       "<div>\n",
       "<style scoped>\n",
       "    .dataframe tbody tr th:only-of-type {\n",
       "        vertical-align: middle;\n",
       "    }\n",
       "\n",
       "    .dataframe tbody tr th {\n",
       "        vertical-align: top;\n",
       "    }\n",
       "\n",
       "    .dataframe thead th {\n",
       "        text-align: right;\n",
       "    }\n",
       "</style>\n",
       "<table border=\"1\" class=\"dataframe\">\n",
       "  <thead>\n",
       "    <tr style=\"text-align: right;\">\n",
       "      <th></th>\n",
       "      <th>m_type</th>\n",
       "    </tr>\n",
       "  </thead>\n",
       "  <tbody>\n",
       "    <tr>\n",
       "      <th>0</th>\n",
       "      <td>L3_TPC:C</td>\n",
       "    </tr>\n",
       "    <tr>\n",
       "      <th>1</th>\n",
       "      <td>L5_TPC:B</td>\n",
       "    </tr>\n",
       "    <tr>\n",
       "      <th>2</th>\n",
       "      <td>L5_TPC:A</td>\n",
       "    </tr>\n",
       "    <tr>\n",
       "      <th>3</th>\n",
       "      <td>L3_TPC:A</td>\n",
       "    </tr>\n",
       "    <tr>\n",
       "      <th>4</th>\n",
       "      <td>L2_TPC:B</td>\n",
       "    </tr>\n",
       "  </tbody>\n",
       "</table>\n",
       "</div>"
      ],
      "text/plain": [
       "     m_type\n",
       "0  L3_TPC:C\n",
       "1  L5_TPC:B\n",
       "2  L5_TPC:A\n",
       "3  L3_TPC:A\n",
       "4  L2_TPC:B"
      ]
     },
     "execution_count": 571,
     "metadata": {},
     "output_type": "execute_result"
    }
   ],
   "source": [
    "df.head()"
   ]
  },
  {
   "cell_type": "markdown",
   "metadata": {
    "tags": []
   },
   "source": [
    "### Get m-types of interneurons (mClass)"
   ]
  },
  {
   "cell_type": "code",
   "execution_count": 572,
   "metadata": {},
   "outputs": [],
   "source": [
    "query = f\"\"\"\n",
    "\n",
    "SELECT ?mClass ?m_type\n",
    "\n",
    "WHERE {{\n",
    "        ?m_type_id label ?m_type ;\n",
    "            subClassOf* MType ;\n",
    "            subClassOf* <https://neuroshapes.org/Interneuron> .           \n",
    "}}\n",
    "\"\"\""
   ]
  },
  {
   "cell_type": "code",
   "execution_count": 573,
   "metadata": {},
   "outputs": [],
   "source": [
    "resources = forge.sparql(query, limit=100)"
   ]
  },
  {
   "cell_type": "code",
   "execution_count": 574,
   "metadata": {},
   "outputs": [],
   "source": [
    "df = forge.as_dataframe(resources)"
   ]
  },
  {
   "cell_type": "code",
   "execution_count": 575,
   "metadata": {},
   "outputs": [
    {
     "data": {
      "text/html": [
       "<div>\n",
       "<style scoped>\n",
       "    .dataframe tbody tr th:only-of-type {\n",
       "        vertical-align: middle;\n",
       "    }\n",
       "\n",
       "    .dataframe tbody tr th {\n",
       "        vertical-align: top;\n",
       "    }\n",
       "\n",
       "    .dataframe thead th {\n",
       "        text-align: right;\n",
       "    }\n",
       "</style>\n",
       "<table border=\"1\" class=\"dataframe\">\n",
       "  <thead>\n",
       "    <tr style=\"text-align: right;\">\n",
       "      <th></th>\n",
       "      <th>m_type</th>\n",
       "    </tr>\n",
       "  </thead>\n",
       "  <tbody>\n",
       "    <tr>\n",
       "      <th>0</th>\n",
       "      <td>L1_NGC-DA</td>\n",
       "    </tr>\n",
       "    <tr>\n",
       "      <th>1</th>\n",
       "      <td>L1_NGC-SA</td>\n",
       "    </tr>\n",
       "    <tr>\n",
       "      <th>2</th>\n",
       "      <td>L23_LBC</td>\n",
       "    </tr>\n",
       "    <tr>\n",
       "      <th>3</th>\n",
       "      <td>L23_NBC</td>\n",
       "    </tr>\n",
       "    <tr>\n",
       "      <th>4</th>\n",
       "      <td>L23_SBC</td>\n",
       "    </tr>\n",
       "  </tbody>\n",
       "</table>\n",
       "</div>"
      ],
      "text/plain": [
       "      m_type\n",
       "0  L1_NGC-DA\n",
       "1  L1_NGC-SA\n",
       "2    L23_LBC\n",
       "3    L23_NBC\n",
       "4    L23_SBC"
      ]
     },
     "execution_count": 575,
     "metadata": {},
     "output_type": "execute_result"
    }
   ],
   "source": [
    "df.head()"
   ]
  },
  {
   "cell_type": "markdown",
   "metadata": {},
   "source": [
    "### Get m-types with a given morphology and the morphology definition"
   ]
  },
  {
   "cell_type": "markdown",
   "metadata": {},
   "source": [
    "This query returns m-types which have a given morphological shape. The cell morphologies were taken from the [Phenotype and Trait Ontology](https://ontobee.org/ontology/PATO) (this was done following the request of Georges Khazen who wanted to include the `PATO` deinfitions of morphologies).\n",
    "Set `MORPHOLOGY` below to one of the following:\n",
    "\n",
    "- `standard pyramidal morphology`\n",
    "- `pyramidal family morphology`\n",
    "- `tufted pyramidal morphology`\n",
    "- `basket cell morphology`\n",
    "- `chandelier cell morphology`\n",
    "- `neurogliaform morphology`\n",
    "- `Martinotti morphology`\n",
    "- `cortical bipolar morphology`\n",
    "- `bitufted cell morphology`"
   ]
  },
  {
   "cell_type": "code",
   "execution_count": 576,
   "metadata": {},
   "outputs": [],
   "source": [
    "MORPHOLOGY = \"basket cell morphology\""
   ]
  },
  {
   "cell_type": "code",
   "execution_count": 577,
   "metadata": {},
   "outputs": [],
   "source": [
    "query = f\"\"\"\n",
    "\n",
    "SELECT ?cell ?definition\n",
    "\n",
    "WHERE {{\n",
    "        ?cell_id subClassOf* / hasMorphologicalPhenotype ?pato_id ;\n",
    "                  label ?cell .\n",
    "        ?pato_id subClassOf* / label \"{MORPHOLOGY}\" .\n",
    "        ?parent_pato_id label \"{MORPHOLOGY}\" ;\n",
    "                <http://purl.obolibrary.org/obo/IAO_0000115> ?definition .\n",
    "}}\n",
    "\"\"\""
   ]
  },
  {
   "cell_type": "code",
   "execution_count": 578,
   "metadata": {},
   "outputs": [],
   "source": [
    "resources = forge.sparql(query, limit=100)"
   ]
  },
  {
   "cell_type": "code",
   "execution_count": 579,
   "metadata": {},
   "outputs": [],
   "source": [
    "df = forge.as_dataframe(resources)"
   ]
  },
  {
   "cell_type": "code",
   "execution_count": 580,
   "metadata": {},
   "outputs": [
    {
     "data": {
      "text/html": [
       "<div>\n",
       "<style scoped>\n",
       "    .dataframe tbody tr th:only-of-type {\n",
       "        vertical-align: middle;\n",
       "    }\n",
       "\n",
       "    .dataframe tbody tr th {\n",
       "        vertical-align: top;\n",
       "    }\n",
       "\n",
       "    .dataframe thead th {\n",
       "        text-align: right;\n",
       "    }\n",
       "</style>\n",
       "<table border=\"1\" class=\"dataframe\">\n",
       "  <thead>\n",
       "    <tr style=\"text-align: right;\">\n",
       "      <th></th>\n",
       "      <th>cell</th>\n",
       "      <th>definition</th>\n",
       "    </tr>\n",
       "  </thead>\n",
       "  <tbody>\n",
       "    <tr>\n",
       "      <th>0</th>\n",
       "      <td>BC</td>\n",
       "      <td>A cell morphology that inheres in multipolar n...</td>\n",
       "    </tr>\n",
       "    <tr>\n",
       "      <th>1</th>\n",
       "      <td>Hippocampus basket cell</td>\n",
       "      <td>A cell morphology that inheres in multipolar n...</td>\n",
       "    </tr>\n",
       "    <tr>\n",
       "      <th>2</th>\n",
       "      <td>L23_LBC</td>\n",
       "      <td>A cell morphology that inheres in multipolar n...</td>\n",
       "    </tr>\n",
       "    <tr>\n",
       "      <th>3</th>\n",
       "      <td>L23_NBC</td>\n",
       "      <td>A cell morphology that inheres in multipolar n...</td>\n",
       "    </tr>\n",
       "    <tr>\n",
       "      <th>4</th>\n",
       "      <td>L23_SBC</td>\n",
       "      <td>A cell morphology that inheres in multipolar n...</td>\n",
       "    </tr>\n",
       "  </tbody>\n",
       "</table>\n",
       "</div>"
      ],
      "text/plain": [
       "                      cell                                         definition\n",
       "0                       BC  A cell morphology that inheres in multipolar n...\n",
       "1  Hippocampus basket cell  A cell morphology that inheres in multipolar n...\n",
       "2                  L23_LBC  A cell morphology that inheres in multipolar n...\n",
       "3                  L23_NBC  A cell morphology that inheres in multipolar n...\n",
       "4                  L23_SBC  A cell morphology that inheres in multipolar n..."
      ]
     },
     "execution_count": 580,
     "metadata": {},
     "output_type": "execute_result"
    }
   ],
   "source": [
    "df.head()"
   ]
  },
  {
   "cell_type": "markdown",
   "metadata": {},
   "source": [
    "### Get t-types from a paper specific paper"
   ]
  },
  {
   "cell_type": "markdown",
   "metadata": {},
   "source": [
    "The [Cell Types and Missing Data - Version 1](https://docs.google.com/spreadsheets/d/1iUgqPszKkYQgkJlmpQSkeyFWcEoOxovsBkoLPtA3qPg/edit#gid=1180597294) spreadsheet which served as source for the `Cell Types Ontology` - lists paper identifiers on the `Notes` sheet. These references were added to the respective t-types.\n",
    "Set `PAPER` below to one of the following:\n",
    "\n",
    "- Yao et al. 2021: `https://www.sciencedirect.com/science/article/pii/S0092867421005018?dgcid=rss_sd_all`\n",
    "- Gokce 2016: `https://www.ncbi.nlm.nih.gov/labs/pmc/articles/PMC5004635/`\n",
    "- Kozareva et al. 2021: `https://www.nature.com/articles/s41586-021-03220-z`\n",
    "- Chen et al. 2017: `https://www.sciencedirect.com/science/article/pii/S2211124717303212?via%3Dihub`\n",
    "- Kalish et al. 2018: `https://www.pnas.org/content/115/5/E1051`"
   ]
  },
  {
   "cell_type": "code",
   "execution_count": 581,
   "metadata": {},
   "outputs": [],
   "source": [
    "PAPER = \"https://www.sciencedirect.com/science/article/pii/S0092867421005018?dgcid=rss_sd_all\""
   ]
  },
  {
   "cell_type": "code",
   "execution_count": 582,
   "metadata": {},
   "outputs": [],
   "source": [
    "query = f\"\"\"\n",
    "\n",
    "SELECT ?label ?brain_region\n",
    "\n",
    "WHERE {{\n",
    "        ?id seeAlso <{PAPER}> ;\n",
    "            label ?label .\n",
    "        OPTIONAL {{ ?id canHaveBrainRegion / label ?brain_region }} .\n",
    "}}\n",
    "\"\"\""
   ]
  },
  {
   "cell_type": "code",
   "execution_count": 583,
   "metadata": {},
   "outputs": [],
   "source": [
    "resources = forge.sparql(query, limit=100)"
   ]
  },
  {
   "cell_type": "code",
   "execution_count": 584,
   "metadata": {},
   "outputs": [],
   "source": [
    "df = forge.as_dataframe(resources)"
   ]
  },
  {
   "cell_type": "code",
   "execution_count": 585,
   "metadata": {},
   "outputs": [
    {
     "data": {
      "text/html": [
       "<div>\n",
       "<style scoped>\n",
       "    .dataframe tbody tr th:only-of-type {\n",
       "        vertical-align: middle;\n",
       "    }\n",
       "\n",
       "    .dataframe tbody tr th {\n",
       "        vertical-align: top;\n",
       "    }\n",
       "\n",
       "    .dataframe thead th {\n",
       "        text-align: right;\n",
       "    }\n",
       "</style>\n",
       "<table border=\"1\" class=\"dataframe\">\n",
       "  <thead>\n",
       "    <tr style=\"text-align: right;\">\n",
       "      <th></th>\n",
       "      <th>label</th>\n",
       "    </tr>\n",
       "  </thead>\n",
       "  <tbody>\n",
       "    <tr>\n",
       "      <th>0</th>\n",
       "      <td>4_Meis2 HPF</td>\n",
       "    </tr>\n",
       "    <tr>\n",
       "      <th>1</th>\n",
       "      <td>9_Lamp5 Lhx6</td>\n",
       "    </tr>\n",
       "    <tr>\n",
       "      <th>2</th>\n",
       "      <td>12_Lamp5</td>\n",
       "    </tr>\n",
       "    <tr>\n",
       "      <th>3</th>\n",
       "      <td>3_Meis2</td>\n",
       "    </tr>\n",
       "    <tr>\n",
       "      <th>4</th>\n",
       "      <td>6_Lamp5 Lhx6</td>\n",
       "    </tr>\n",
       "  </tbody>\n",
       "</table>\n",
       "</div>"
      ],
      "text/plain": [
       "          label\n",
       "0   4_Meis2 HPF\n",
       "1  9_Lamp5 Lhx6\n",
       "2      12_Lamp5\n",
       "3       3_Meis2\n",
       "4  6_Lamp5 Lhx6"
      ]
     },
     "execution_count": 585,
     "metadata": {},
     "output_type": "execute_result"
    }
   ],
   "source": [
    "df.head()"
   ]
  },
  {
   "cell_type": "markdown",
   "metadata": {},
   "source": [
    "### Get the generic m- e- and t-type"
   ]
  },
  {
   "cell_type": "markdown",
   "metadata": {},
   "source": [
    "One of the requirements specified during the meeting on `2022-05-30` was to have a placeholder class for each of the types. We thus implemented an m- e- and t-type placeholder class."
   ]
  },
  {
   "cell_type": "code",
   "execution_count": 586,
   "metadata": {},
   "outputs": [],
   "source": [
    "query = \"\"\"\n",
    "\n",
    "SELECT DISTINCT ?id ?prefLabel ?label\n",
    "\n",
    "WHERE {\n",
    "        ?id a Class .\n",
    "        { ?id prefLabel ?prefLabel .\n",
    "            FILTER (CONTAINS(STR(?prefLabel), 'Generic')) }\n",
    "        UNION\n",
    "        { ?id label ?label .\n",
    "            FILTER (CONTAINS(STR(?label), 'Generic')) }\n",
    "    \n",
    "}\n",
    "\"\"\""
   ]
  },
  {
   "cell_type": "code",
   "execution_count": 587,
   "metadata": {},
   "outputs": [],
   "source": [
    "resources = forge.sparql(query, limit=100)"
   ]
  },
  {
   "cell_type": "code",
   "execution_count": 588,
   "metadata": {},
   "outputs": [],
   "source": [
    "df = forge.as_dataframe(resources)"
   ]
  },
  {
   "cell_type": "code",
   "execution_count": 589,
   "metadata": {},
   "outputs": [
    {
     "data": {
      "text/html": [
       "<div>\n",
       "<style scoped>\n",
       "    .dataframe tbody tr th:only-of-type {\n",
       "        vertical-align: middle;\n",
       "    }\n",
       "\n",
       "    .dataframe tbody tr th {\n",
       "        vertical-align: top;\n",
       "    }\n",
       "\n",
       "    .dataframe thead th {\n",
       "        text-align: right;\n",
       "    }\n",
       "</style>\n",
       "<table border=\"1\" class=\"dataframe\">\n",
       "  <thead>\n",
       "    <tr style=\"text-align: right;\">\n",
       "      <th></th>\n",
       "      <th>id</th>\n",
       "      <th>prefLabel</th>\n",
       "      <th>label</th>\n",
       "    </tr>\n",
       "  </thead>\n",
       "  <tbody>\n",
       "    <tr>\n",
       "      <th>0</th>\n",
       "      <td>https://bbp.epfl.ch/ontologies/core/bmo/Generi...</td>\n",
       "      <td>Generic Excitatory Neuron EType</td>\n",
       "      <td>NaN</td>\n",
       "    </tr>\n",
       "    <tr>\n",
       "      <th>1</th>\n",
       "      <td>https://bbp.epfl.ch/ontologies/core/bmo/Generi...</td>\n",
       "      <td>Generic Excitatory Neuron MType</td>\n",
       "      <td>NaN</td>\n",
       "    </tr>\n",
       "    <tr>\n",
       "      <th>2</th>\n",
       "      <td>https://bbp.epfl.ch/ontologies/core/bmo/Generi...</td>\n",
       "      <td>Generic Inhibitory Neuron EType</td>\n",
       "      <td>NaN</td>\n",
       "    </tr>\n",
       "    <tr>\n",
       "      <th>3</th>\n",
       "      <td>https://bbp.epfl.ch/ontologies/core/bmo/Generi...</td>\n",
       "      <td>Generic Inhibitory Neuron MType</td>\n",
       "      <td>NaN</td>\n",
       "    </tr>\n",
       "    <tr>\n",
       "      <th>4</th>\n",
       "      <td>https://bbp.epfl.ch/ontologies/core/bmo/Generi...</td>\n",
       "      <td>NaN</td>\n",
       "      <td>Generic Neuron Electrical Type</td>\n",
       "    </tr>\n",
       "    <tr>\n",
       "      <th>5</th>\n",
       "      <td>https://bbp.epfl.ch/ontologies/core/bmo/Generi...</td>\n",
       "      <td>NaN</td>\n",
       "      <td>Generic Neuron Morphological Type</td>\n",
       "    </tr>\n",
       "    <tr>\n",
       "      <th>6</th>\n",
       "      <td>https://bbp.epfl.ch/ontologies/core/bmo/Generi...</td>\n",
       "      <td>NaN</td>\n",
       "      <td>Generic Neuron TType</td>\n",
       "    </tr>\n",
       "  </tbody>\n",
       "</table>\n",
       "</div>"
      ],
      "text/plain": [
       "                                                  id  \\\n",
       "0  https://bbp.epfl.ch/ontologies/core/bmo/Generi...   \n",
       "1  https://bbp.epfl.ch/ontologies/core/bmo/Generi...   \n",
       "2  https://bbp.epfl.ch/ontologies/core/bmo/Generi...   \n",
       "3  https://bbp.epfl.ch/ontologies/core/bmo/Generi...   \n",
       "4  https://bbp.epfl.ch/ontologies/core/bmo/Generi...   \n",
       "5  https://bbp.epfl.ch/ontologies/core/bmo/Generi...   \n",
       "6  https://bbp.epfl.ch/ontologies/core/bmo/Generi...   \n",
       "\n",
       "                         prefLabel                              label  \n",
       "0  Generic Excitatory Neuron EType                                NaN  \n",
       "1  Generic Excitatory Neuron MType                                NaN  \n",
       "2  Generic Inhibitory Neuron EType                                NaN  \n",
       "3  Generic Inhibitory Neuron MType                                NaN  \n",
       "4                              NaN     Generic Neuron Electrical Type  \n",
       "5                              NaN  Generic Neuron Morphological Type  \n",
       "6                              NaN               Generic Neuron TType  "
      ]
     },
     "execution_count": 589,
     "metadata": {},
     "output_type": "execute_result"
    }
   ],
   "source": [
    "df"
   ]
  },
  {
   "cell_type": "markdown",
   "metadata": {},
   "source": [
    "### Get all cell type combinations and probabilities for a given brain region"
   ]
  },
  {
   "cell_type": "markdown",
   "metadata": {},
   "source": [
    "This query cell type combinations for a given brain region (i.e. the `BRAIN_REGION` specified above). For demonstration purposes, the `limit` parameter on the query has been set to `1000`. This can be increased to get all available cell type combinations."
   ]
  },
  {
   "cell_type": "code",
   "execution_count": 590,
   "metadata": {},
   "outputs": [],
   "source": [
    "query = f\"\"\"\n",
    "\n",
    "SELECT ?brain_region ?m_type ?e_type ?molecular_type ?probability\n",
    "\n",
    "WHERE {{\n",
    "        ?probability_id hasTarget / hasSource / canBeLocatedInBrainRegion ?brain_region_id ;\n",
    "            hasBody / value ?probability ;\n",
    "            hasTarget ?m_type_target ;\n",
    "            hasTarget ?e_type_target ;\n",
    "            hasTarget ?molecular_type_target .\n",
    "        ?brain_region_id label ?brain_region ;\n",
    "            ^hasPart* <{brain_region}> .\n",
    "        ?m_type_target hasSource / a MType ;\n",
    "            hasSource / label ?m_type .\n",
    "        ?e_type_target hasSource / a EType ;\n",
    "            hasSource / label ?e_type .\n",
    "        ?molecular_type_target hasSource / a NeuronMolecularType ;\n",
    "            hasSource / label ?molecular_type .\n",
    "}}\n",
    "\"\"\""
   ]
  },
  {
   "cell_type": "code",
   "execution_count": 591,
   "metadata": {},
   "outputs": [],
   "source": [
    "resources = forge.sparql(query, limit=1000)"
   ]
  },
  {
   "cell_type": "code",
   "execution_count": 592,
   "metadata": {},
   "outputs": [],
   "source": [
    "df = forge.as_dataframe(resources)"
   ]
  },
  {
   "cell_type": "code",
   "execution_count": 593,
   "metadata": {},
   "outputs": [
    {
     "data": {
      "text/html": [
       "<div>\n",
       "<style scoped>\n",
       "    .dataframe tbody tr th:only-of-type {\n",
       "        vertical-align: middle;\n",
       "    }\n",
       "\n",
       "    .dataframe tbody tr th {\n",
       "        vertical-align: top;\n",
       "    }\n",
       "\n",
       "    .dataframe thead th {\n",
       "        text-align: right;\n",
       "    }\n",
       "</style>\n",
       "<table border=\"1\" class=\"dataframe\">\n",
       "  <thead>\n",
       "    <tr style=\"text-align: right;\">\n",
       "      <th></th>\n",
       "      <th>brain_region</th>\n",
       "      <th>e_type</th>\n",
       "      <th>m_type</th>\n",
       "      <th>molecular_type</th>\n",
       "      <th>probability</th>\n",
       "    </tr>\n",
       "  </thead>\n",
       "  <tbody>\n",
       "    <tr>\n",
       "      <th>0</th>\n",
       "      <td>Isocortex</td>\n",
       "      <td>cNAC</td>\n",
       "      <td>L5_BTC</td>\n",
       "      <td>Sncg+</td>\n",
       "      <td>0.044444444</td>\n",
       "    </tr>\n",
       "    <tr>\n",
       "      <th>1</th>\n",
       "      <td>Isocortex</td>\n",
       "      <td>bIR</td>\n",
       "      <td>L23_DBC</td>\n",
       "      <td>SST+</td>\n",
       "      <td>0.346590909</td>\n",
       "    </tr>\n",
       "    <tr>\n",
       "      <th>2</th>\n",
       "      <td>Isocortex</td>\n",
       "      <td>cAC</td>\n",
       "      <td>L23_BP</td>\n",
       "      <td>PV+</td>\n",
       "      <td>0.0</td>\n",
       "    </tr>\n",
       "    <tr>\n",
       "      <th>3</th>\n",
       "      <td>Isocortex</td>\n",
       "      <td>cAC</td>\n",
       "      <td>L23_BTC</td>\n",
       "      <td>PV+</td>\n",
       "      <td>0.5</td>\n",
       "    </tr>\n",
       "    <tr>\n",
       "      <th>4</th>\n",
       "      <td>Isocortex</td>\n",
       "      <td>cAC</td>\n",
       "      <td>L23_ChC</td>\n",
       "      <td>PV+</td>\n",
       "      <td>0.333333333</td>\n",
       "    </tr>\n",
       "  </tbody>\n",
       "</table>\n",
       "</div>"
      ],
      "text/plain": [
       "  brain_region e_type   m_type molecular_type  probability\n",
       "0    Isocortex   cNAC   L5_BTC          Sncg+  0.044444444\n",
       "1    Isocortex    bIR  L23_DBC           SST+  0.346590909\n",
       "2    Isocortex    cAC   L23_BP            PV+          0.0\n",
       "3    Isocortex    cAC  L23_BTC            PV+          0.5\n",
       "4    Isocortex    cAC  L23_ChC            PV+  0.333333333"
      ]
     },
     "execution_count": 593,
     "metadata": {},
     "output_type": "execute_result"
    }
   ],
   "source": [
    "df.head()"
   ]
  },
  {
   "cell_type": "markdown",
   "metadata": {},
   "source": [
    "----"
   ]
  },
  {
   "cell_type": "markdown",
   "metadata": {},
   "source": [
    "## 2022-08-31 Workshop queries"
   ]
  },
  {
   "cell_type": "markdown",
   "metadata": {},
   "source": [
    "### Get Atlas Release info"
   ]
  },
  {
   "cell_type": "markdown",
   "metadata": {},
   "source": [
    "#### Get the atlas release resource\n",
    "These atlas releases can be explored through the atlas web app:\n",
    "\n",
    "* dev: https://bluebrainatlas.kcpdev.bbp.epfl.ch/atlas\n",
    "* prod: https://bbp.epfl.ch/atlas\n"
   ]
  },
  {
   "cell_type": "code",
   "execution_count": 594,
   "metadata": {},
   "outputs": [],
   "source": [
    "BBP_Mouse_Brain_Atlas_Release = \"https://bbp.epfl.ch/neurosciencegraph/data/4906ab85-694f-469d-962f-c0174e901885\" # output of the BBP Annotation Atlas pipeline\n",
    "Allen_Mouse_CCF_v2_v3_hybrid =  \"https://bbp.epfl.ch/neurosciencegraph/data/e2e500ec-fe7e-4888-88b9-b72425315dda\" # Csaba 1 version: This atlas release uses the brain parcellation resulting of the hybridation between CCFv2 and CCFv3 and integrating the splitting of layer 2 and layer 3. The average brain template and the ontology is common across CCFv2 and CCFv3.\n",
    "ALLEN_CCFV3_Atlas_Release =  \"https://bbp.epfl.ch/neurosciencegraph/data/831a626a-c0ae-4691-8ce8-cfb7491345d9\" # original Allen\n",
    "ALLEN_CCFV2_Atlas_Release = \"https://bbp.epfl.ch/neurosciencegraph/data/dd114f81-ba1f-47b1-8900-e497597f06ac\"\n",
    "BBP_Mouse_Brain_Atlas_Release_staging = \"https://bbp.epfl.ch/neurosciencegraph/data/brainatlasrelease/c96c71a8-4c0d-4bc1-8a1a-141d9ed6693d\"\n",
    "\n",
    "atlas_release_id = BBP_Mouse_Brain_Atlas_Release"
   ]
  },
  {
   "cell_type": "code",
   "execution_count": 595,
   "metadata": {},
   "outputs": [],
   "source": [
    "atlas_release = forge.retrieve(atlas_release_id, version=1)"
   ]
  },
  {
   "cell_type": "code",
   "execution_count": null,
   "metadata": {},
   "outputs": [],
   "source": [
    "print(atlas_release)"
   ]
  },
  {
   "cell_type": "code",
   "execution_count": 492,
   "metadata": {},
   "outputs": [
    {
     "data": {
      "text/plain": [
       "1"
      ]
     },
     "execution_count": 492,
     "metadata": {},
     "output_type": "execute_result"
    }
   ],
   "source": [
    "atlas_release._store_metadata[\"_rev\"]"
   ]
  },
  {
   "cell_type": "markdown",
   "metadata": {},
   "source": [
    "#### Get the atlas hierarchy"
   ]
  },
  {
   "cell_type": "code",
   "execution_count": 597,
   "metadata": {},
   "outputs": [],
   "source": [
    "parcellation_ontology = forge.retrieve(atlas_release.parcellationOntology.id, cross_bucket=True)"
   ]
  },
  {
   "cell_type": "code",
   "execution_count": null,
   "metadata": {},
   "outputs": [],
   "source": [
    "print(parcellation_ontology)"
   ]
  },
  {
   "cell_type": "code",
   "execution_count": 495,
   "metadata": {},
   "outputs": [],
   "source": [
    "forge.download(parcellation_ontology, \"distribution.contentUrl\", \".\", overwrite=True, cross_bucket=True)"
   ]
  },
  {
   "cell_type": "markdown",
   "metadata": {},
   "source": [
    "#### Get parcellation (annotation) volume"
   ]
  },
  {
   "cell_type": "code",
   "execution_count": 496,
   "metadata": {},
   "outputs": [],
   "source": [
    "parcellation_volume = forge.retrieve(atlas_release.parcellationVolume.id)"
   ]
  },
  {
   "cell_type": "code",
   "execution_count": null,
   "metadata": {},
   "outputs": [],
   "source": [
    "print(parcellation_volume)"
   ]
  },
  {
   "cell_type": "code",
   "execution_count": 498,
   "metadata": {},
   "outputs": [],
   "source": [
    "forge.download(parcellation_volume, \"distribution.contentUrl\", \".\", overwrite=True)"
   ]
  },
  {
   "cell_type": "markdown",
   "metadata": {},
   "source": [
    "#### Get orientation field volume"
   ]
  },
  {
   "cell_type": "code",
   "execution_count": 598,
   "metadata": {},
   "outputs": [
    {
     "name": "stdout",
     "output_type": "stream",
     "text": [
      "2 found\n"
     ]
    }
   ],
   "source": [
    "query = {\n",
    "          \"type\":\"CellOrientationField\", \n",
    "          \"atlasRelease\":{\"@id\":atlas_release_id},\n",
    "          \"brainLocation\":{\"brainRegion\":{\"id\":\"http://api.brain-map.org/api/v2/data/Structure/997\"}} # root brain region\n",
    "        }\n",
    "cell_orientation_field = forge.search(query)\n",
    "print(f\"{len(cell_orientation_field)} found\")"
   ]
  },
  {
   "cell_type": "code",
   "execution_count": null,
   "metadata": {},
   "outputs": [],
   "source": [
    "print(cell_orientation_field[0])"
   ]
  },
  {
   "cell_type": "code",
   "execution_count": 501,
   "metadata": {},
   "outputs": [],
   "source": [
    "forge.download(cell_orientation_field, \"distribution.contentUrl\", \".\", overwrite=True)"
   ]
  },
  {
   "cell_type": "markdown",
   "metadata": {},
   "source": [
    "### Get the me-type density nrrd file for each region (region is an input)"
   ]
  },
  {
   "cell_type": "code",
   "execution_count": 600,
   "metadata": {
    "tags": []
   },
   "outputs": [],
   "source": [
    "# Some atlas might not have densities associated\n",
    "query = f\"\"\"\n",
    "\n",
    "SELECT ?mtype_label ?etype_label ?nrrd_file ?contentUrl \n",
    "\n",
    "WHERE {{\n",
    "        ?s a METypeDensity ;\n",
    "            atlasRelease <{atlas_release_id}>; \n",
    "            annotation ?mtypeanno ;\n",
    "            annotation ?etypeanno ;\n",
    "            distribution ?distribution .\n",
    "        ?mtypeanno a MTypeAnnotation ;         \n",
    "            hasBody / label ?mtype_label .\n",
    "        ?etypeanno a ETypeAnnotation ;         \n",
    "            hasBody / label ?etype_label .\n",
    "        ?distribution name ?nrrd_file ;\n",
    "            contentUrl ?contentUrl .\n",
    "}}\n",
    "\"\"\""
   ]
  },
  {
   "cell_type": "code",
   "execution_count": 601,
   "metadata": {},
   "outputs": [],
   "source": [
    "resources = forge.sparql(query, limit=1000)"
   ]
  },
  {
   "cell_type": "code",
   "execution_count": 602,
   "metadata": {},
   "outputs": [],
   "source": [
    "df = forge.as_dataframe(resources)"
   ]
  },
  {
   "cell_type": "code",
   "execution_count": 603,
   "metadata": {
    "tags": []
   },
   "outputs": [
    {
     "data": {
      "text/html": [
       "<div>\n",
       "<style scoped>\n",
       "    .dataframe tbody tr th:only-of-type {\n",
       "        vertical-align: middle;\n",
       "    }\n",
       "\n",
       "    .dataframe tbody tr th {\n",
       "        vertical-align: top;\n",
       "    }\n",
       "\n",
       "    .dataframe thead th {\n",
       "        text-align: right;\n",
       "    }\n",
       "</style>\n",
       "<table border=\"1\" class=\"dataframe\">\n",
       "  <thead>\n",
       "    <tr style=\"text-align: right;\">\n",
       "      <th></th>\n",
       "      <th>contentUrl</th>\n",
       "      <th>etype_label</th>\n",
       "      <th>mtype_label</th>\n",
       "      <th>nrrd_file</th>\n",
       "    </tr>\n",
       "  </thead>\n",
       "  <tbody>\n",
       "    <tr>\n",
       "      <th>0</th>\n",
       "      <td>https://bbp.epfl.ch/nexus/v1/files/bbp/atlas/f...</td>\n",
       "      <td>cADpyr</td>\n",
       "      <td>L6_TPC:A</td>\n",
       "      <td>L6_TPC:A_cADpyr.nrrd</td>\n",
       "    </tr>\n",
       "    <tr>\n",
       "      <th>1</th>\n",
       "      <td>https://bbp.epfl.ch/nexus/v1/files/bbp/atlas/b...</td>\n",
       "      <td>cADpyr</td>\n",
       "      <td>L5_TPC:C</td>\n",
       "      <td>L5_TPC:C_cADpyr.nrrd</td>\n",
       "    </tr>\n",
       "    <tr>\n",
       "      <th>2</th>\n",
       "      <td>https://bbp.epfl.ch/nexus/v1/files/bbp/atlas/7...</td>\n",
       "      <td>cADpyr</td>\n",
       "      <td>L5_TPC:B</td>\n",
       "      <td>L5_TPC:B_cADpyr.nrrd</td>\n",
       "    </tr>\n",
       "    <tr>\n",
       "      <th>3</th>\n",
       "      <td>https://bbp.epfl.ch/nexus/v1/files/bbp/atlas/b...</td>\n",
       "      <td>cADpyr</td>\n",
       "      <td>L2_TPC:B</td>\n",
       "      <td>L2_TPC:B_cADpyr.nrrd</td>\n",
       "    </tr>\n",
       "    <tr>\n",
       "      <th>4</th>\n",
       "      <td>https://bbp.epfl.ch/nexus/v1/files/bbp/atlas/6...</td>\n",
       "      <td>cADpyr</td>\n",
       "      <td>L4_SSC</td>\n",
       "      <td>L4_SSC_cADpyr.nrrd</td>\n",
       "    </tr>\n",
       "  </tbody>\n",
       "</table>\n",
       "</div>"
      ],
      "text/plain": [
       "                                          contentUrl etype_label mtype_label  \\\n",
       "0  https://bbp.epfl.ch/nexus/v1/files/bbp/atlas/f...      cADpyr    L6_TPC:A   \n",
       "1  https://bbp.epfl.ch/nexus/v1/files/bbp/atlas/b...      cADpyr    L5_TPC:C   \n",
       "2  https://bbp.epfl.ch/nexus/v1/files/bbp/atlas/7...      cADpyr    L5_TPC:B   \n",
       "3  https://bbp.epfl.ch/nexus/v1/files/bbp/atlas/b...      cADpyr    L2_TPC:B   \n",
       "4  https://bbp.epfl.ch/nexus/v1/files/bbp/atlas/6...      cADpyr      L4_SSC   \n",
       "\n",
       "              nrrd_file  \n",
       "0  L6_TPC:A_cADpyr.nrrd  \n",
       "1  L5_TPC:C_cADpyr.nrrd  \n",
       "2  L5_TPC:B_cADpyr.nrrd  \n",
       "3  L2_TPC:B_cADpyr.nrrd  \n",
       "4    L4_SSC_cADpyr.nrrd  "
      ]
     },
     "execution_count": 603,
     "metadata": {},
     "output_type": "execute_result"
    }
   ],
   "source": [
    "df.head()"
   ]
  },
  {
   "cell_type": "code",
   "execution_count": null,
   "metadata": {},
   "outputs": [],
   "source": [
    "forge.download(resources, \"contentUrl\", \".\", overwrite=True)"
   ]
  },
  {
   "cell_type": "markdown",
   "metadata": {},
   "source": [
    "### Get the list of mtypes for each region (region is an input)"
   ]
  },
  {
   "cell_type": "markdown",
   "metadata": {},
   "source": [
    "#### The below query will get m-types from the specified brain region plus m-types from all child brain regions (this was added during the workshop to illustrate the `down the tree` generalisation idea)"
   ]
  },
  {
   "cell_type": "code",
   "execution_count": 507,
   "metadata": {},
   "outputs": [],
   "source": [
    "BRAIN_REGION = \"Cerebral cortex\""
   ]
  },
  {
   "cell_type": "markdown",
   "metadata": {},
   "source": [
    "Get brain region id"
   ]
  },
  {
   "cell_type": "code",
   "execution_count": 508,
   "metadata": {},
   "outputs": [],
   "source": [
    "r = forge.search({\"label\": BRAIN_REGION}, cross_bucket=True)"
   ]
  },
  {
   "cell_type": "code",
   "execution_count": 509,
   "metadata": {},
   "outputs": [],
   "source": [
    "brain_region = r[0].id"
   ]
  },
  {
   "cell_type": "code",
   "execution_count": 510,
   "metadata": {},
   "outputs": [
    {
     "data": {
      "text/plain": [
       "'http://api.brain-map.org/api/v2/data/Structure/688'"
      ]
     },
     "execution_count": 510,
     "metadata": {},
     "output_type": "execute_result"
    }
   ],
   "source": [
    "brain_region"
   ]
  },
  {
   "cell_type": "code",
   "execution_count": 511,
   "metadata": {},
   "outputs": [],
   "source": [
    "query = f\"\"\"\n",
    "\n",
    "SELECT ?m_type ?m_type_id ?m_type_version ?brain_region\n",
    "\n",
    "WHERE {{\n",
    "        ?m_type_id label ?m_type ;\n",
    "            _rev ?m_type_version ;\n",
    "            subClassOf* MType ;\n",
    "            canBeLocatedInBrainRegion ?brain_region_id .\n",
    "        \n",
    "        ?brain_region_id label ?brain_region ;\n",
    "            ^hasPart* <{brain_region}> ;\n",
    "            _rev ?brain_region_version . \n",
    "}}\n",
    "\"\"\""
   ]
  },
  {
   "cell_type": "code",
   "execution_count": 512,
   "metadata": {},
   "outputs": [],
   "source": [
    "resources = forge.sparql(query, limit=1000)"
   ]
  },
  {
   "cell_type": "code",
   "execution_count": 513,
   "metadata": {},
   "outputs": [],
   "source": [
    "df = forge.as_dataframe(resources)"
   ]
  },
  {
   "cell_type": "code",
   "execution_count": 514,
   "metadata": {},
   "outputs": [
    {
     "data": {
      "text/html": [
       "<div>\n",
       "<style scoped>\n",
       "    .dataframe tbody tr th:only-of-type {\n",
       "        vertical-align: middle;\n",
       "    }\n",
       "\n",
       "    .dataframe tbody tr th {\n",
       "        vertical-align: top;\n",
       "    }\n",
       "\n",
       "    .dataframe thead th {\n",
       "        text-align: right;\n",
       "    }\n",
       "</style>\n",
       "<table border=\"1\" class=\"dataframe\">\n",
       "  <thead>\n",
       "    <tr style=\"text-align: right;\">\n",
       "      <th></th>\n",
       "      <th>brain_region</th>\n",
       "      <th>m_type</th>\n",
       "      <th>m_type_id</th>\n",
       "      <th>m_type_version</th>\n",
       "    </tr>\n",
       "  </thead>\n",
       "  <tbody>\n",
       "    <tr>\n",
       "      <th>0</th>\n",
       "      <td>Isocortex</td>\n",
       "      <td>L5_TPC:B</td>\n",
       "      <td>http://uri.interlex.org/base/ilx_0381364</td>\n",
       "      <td>33</td>\n",
       "    </tr>\n",
       "    <tr>\n",
       "      <th>1</th>\n",
       "      <td>Isocortex</td>\n",
       "      <td>L5_TPC:A</td>\n",
       "      <td>http://uri.interlex.org/base/ilx_0381365</td>\n",
       "      <td>31</td>\n",
       "    </tr>\n",
       "    <tr>\n",
       "      <th>2</th>\n",
       "      <td>Isocortex</td>\n",
       "      <td>L3_TPC:A</td>\n",
       "      <td>http://uri.interlex.org/base/ilx_0381366</td>\n",
       "      <td>31</td>\n",
       "    </tr>\n",
       "    <tr>\n",
       "      <th>3</th>\n",
       "      <td>Isocortex</td>\n",
       "      <td>L2_TPC:B</td>\n",
       "      <td>http://uri.interlex.org/base/ilx_0381367</td>\n",
       "      <td>33</td>\n",
       "    </tr>\n",
       "    <tr>\n",
       "      <th>4</th>\n",
       "      <td>Isocortex</td>\n",
       "      <td>L3_TPC:B</td>\n",
       "      <td>http://uri.interlex.org/base/ilx_0381368</td>\n",
       "      <td>30</td>\n",
       "    </tr>\n",
       "  </tbody>\n",
       "</table>\n",
       "</div>"
      ],
      "text/plain": [
       "  brain_region    m_type                                 m_type_id  \\\n",
       "0    Isocortex  L5_TPC:B  http://uri.interlex.org/base/ilx_0381364   \n",
       "1    Isocortex  L5_TPC:A  http://uri.interlex.org/base/ilx_0381365   \n",
       "2    Isocortex  L3_TPC:A  http://uri.interlex.org/base/ilx_0381366   \n",
       "3    Isocortex  L2_TPC:B  http://uri.interlex.org/base/ilx_0381367   \n",
       "4    Isocortex  L3_TPC:B  http://uri.interlex.org/base/ilx_0381368   \n",
       "\n",
       "   m_type_version  \n",
       "0              33  \n",
       "1              31  \n",
       "2              31  \n",
       "3              33  \n",
       "4              30  "
      ]
     },
     "execution_count": 514,
     "metadata": {},
     "output_type": "execute_result"
    }
   ],
   "source": [
    "df.head()"
   ]
  },
  {
   "cell_type": "code",
   "execution_count": 515,
   "metadata": {},
   "outputs": [
    {
     "data": {
      "text/plain": [
       "{'Field CA1', 'Hippocampal formation', 'Isocortex'}"
      ]
     },
     "execution_count": 515,
     "metadata": {},
     "output_type": "execute_result"
    }
   ],
   "source": [
    "set(df.brain_region)"
   ]
  },
  {
   "cell_type": "markdown",
   "metadata": {},
   "source": [
    "#### The below query will get m-types from the specified brain region plus m-types from parent brain regions (this was added during the workshop to illustrate the `up the tree` generalisation idea)"
   ]
  },
  {
   "cell_type": "code",
   "execution_count": 516,
   "metadata": {},
   "outputs": [],
   "source": [
    "BRAIN_REGION = \"Entorhinal area, medial part, dorsal zone\""
   ]
  },
  {
   "cell_type": "markdown",
   "metadata": {},
   "source": [
    "Get brain region id"
   ]
  },
  {
   "cell_type": "code",
   "execution_count": 517,
   "metadata": {},
   "outputs": [],
   "source": [
    "r = forge.search({\"label\": BRAIN_REGION}, cross_bucket=True)"
   ]
  },
  {
   "cell_type": "code",
   "execution_count": 518,
   "metadata": {},
   "outputs": [],
   "source": [
    "brain_region = r[0].id"
   ]
  },
  {
   "cell_type": "code",
   "execution_count": 519,
   "metadata": {},
   "outputs": [
    {
     "data": {
      "text/plain": [
       "'http://api.brain-map.org/api/v2/data/Structure/926'"
      ]
     },
     "execution_count": 519,
     "metadata": {},
     "output_type": "execute_result"
    }
   ],
   "source": [
    "brain_region"
   ]
  },
  {
   "cell_type": "code",
   "execution_count": 520,
   "metadata": {
    "tags": []
   },
   "outputs": [],
   "source": [
    "query = f\"\"\"\n",
    "\n",
    "SELECT ?m_type ?m_type_id ?m_type_version ?brain_region\n",
    "\n",
    "WHERE {{\n",
    "        ?m_type_id label ?m_type ;\n",
    "            _rev ?m_type_version ;\n",
    "            subClassOf* MType ;\n",
    "            canBeLocatedInBrainRegion ?brain_region_id .\n",
    "        \n",
    "        ?brain_region_id label ?brain_region ;\n",
    "            hasPart* <{brain_region}> ;\n",
    "            _rev ?brain_region_version . \n",
    "}}\n",
    "\"\"\""
   ]
  },
  {
   "cell_type": "code",
   "execution_count": 521,
   "metadata": {},
   "outputs": [],
   "source": [
    "resources = forge.sparql(query, limit=1000)"
   ]
  },
  {
   "cell_type": "code",
   "execution_count": 522,
   "metadata": {},
   "outputs": [],
   "source": [
    "df = forge.as_dataframe(resources)"
   ]
  },
  {
   "cell_type": "code",
   "execution_count": 523,
   "metadata": {
    "tags": []
   },
   "outputs": [
    {
     "data": {
      "text/html": [
       "<div>\n",
       "<style scoped>\n",
       "    .dataframe tbody tr th:only-of-type {\n",
       "        vertical-align: middle;\n",
       "    }\n",
       "\n",
       "    .dataframe tbody tr th {\n",
       "        vertical-align: top;\n",
       "    }\n",
       "\n",
       "    .dataframe thead th {\n",
       "        text-align: right;\n",
       "    }\n",
       "</style>\n",
       "<table border=\"1\" class=\"dataframe\">\n",
       "  <thead>\n",
       "    <tr style=\"text-align: right;\">\n",
       "      <th></th>\n",
       "      <th>brain_region</th>\n",
       "      <th>m_type</th>\n",
       "      <th>m_type_id</th>\n",
       "      <th>m_type_version</th>\n",
       "    </tr>\n",
       "  </thead>\n",
       "  <tbody>\n",
       "    <tr>\n",
       "      <th>0</th>\n",
       "      <td>root</td>\n",
       "      <td>GEN_mtype</td>\n",
       "      <td>https://bbp.epfl.ch/ontologies/core/bmo/Generi...</td>\n",
       "      <td>2</td>\n",
       "    </tr>\n",
       "    <tr>\n",
       "      <th>1</th>\n",
       "      <td>root</td>\n",
       "      <td>GIN_mtype</td>\n",
       "      <td>https://bbp.epfl.ch/ontologies/core/bmo/Generi...</td>\n",
       "      <td>2</td>\n",
       "    </tr>\n",
       "    <tr>\n",
       "      <th>2</th>\n",
       "      <td>Hippocampal formation</td>\n",
       "      <td>SR_PC</td>\n",
       "      <td>https://bbp.epfl.ch/neurosciencegraph/ontologi...</td>\n",
       "      <td>28</td>\n",
       "    </tr>\n",
       "    <tr>\n",
       "      <th>3</th>\n",
       "      <td>Hippocampal formation</td>\n",
       "      <td>GCL_GC</td>\n",
       "      <td>http://bbp.epfl.ch/neurosciencegraph/ontologie...</td>\n",
       "      <td>4</td>\n",
       "    </tr>\n",
       "    <tr>\n",
       "      <th>4</th>\n",
       "      <td>Hippocampal formation</td>\n",
       "      <td>SL_IS2</td>\n",
       "      <td>http://bbp.epfl.ch/neurosciencegraph/ontologie...</td>\n",
       "      <td>4</td>\n",
       "    </tr>\n",
       "  </tbody>\n",
       "</table>\n",
       "</div>"
      ],
      "text/plain": [
       "            brain_region     m_type  \\\n",
       "0                   root  GEN_mtype   \n",
       "1                   root  GIN_mtype   \n",
       "2  Hippocampal formation      SR_PC   \n",
       "3  Hippocampal formation     GCL_GC   \n",
       "4  Hippocampal formation     SL_IS2   \n",
       "\n",
       "                                           m_type_id  m_type_version  \n",
       "0  https://bbp.epfl.ch/ontologies/core/bmo/Generi...               2  \n",
       "1  https://bbp.epfl.ch/ontologies/core/bmo/Generi...               2  \n",
       "2  https://bbp.epfl.ch/neurosciencegraph/ontologi...              28  \n",
       "3  http://bbp.epfl.ch/neurosciencegraph/ontologie...               4  \n",
       "4  http://bbp.epfl.ch/neurosciencegraph/ontologie...               4  "
      ]
     },
     "execution_count": 523,
     "metadata": {},
     "output_type": "execute_result"
    }
   ],
   "source": [
    "df.head()"
   ]
  },
  {
   "cell_type": "code",
   "execution_count": 524,
   "metadata": {},
   "outputs": [
    {
     "data": {
      "text/plain": [
       "{'Hippocampal formation', 'root'}"
      ]
     },
     "execution_count": 524,
     "metadata": {},
     "output_type": "execute_result"
    }
   ],
   "source": [
    "set(df.brain_region)"
   ]
  },
  {
   "cell_type": "markdown",
   "metadata": {},
   "source": [
    "### Get if the mtype is Excitatory or Inhibitory (mtype is input)"
   ]
  },
  {
   "cell_type": "markdown",
   "metadata": {},
   "source": [
    "See `Get m-types together with their transmitter type (sClass)` query above"
   ]
  },
  {
   "cell_type": "markdown",
   "metadata": {},
   "source": [
    "### Get if the mtype is pyramidal or interneuron (mtype is input)"
   ]
  },
  {
   "cell_type": "markdown",
   "metadata": {},
   "source": [
    "See `Get m-types of pyramidal cells (mClass)` and `Get m-types of interneurons (mClass)` queries above"
   ]
  },
  {
   "cell_type": "markdown",
   "metadata": {},
   "source": [
    "### Get all brain regions of layer 1 of the neocortex"
   ]
  },
  {
   "cell_type": "code",
   "execution_count": 525,
   "metadata": {},
   "outputs": [],
   "source": [
    "query = f\"\"\"\n",
    "\n",
    "SELECT ?id ?region\n",
    "\n",
    "WHERE {{\n",
    "        ?id hasLayerLocationPhenotype <http://purl.obolibrary.org/obo/UBERON_0005390> ;\n",
    "            subClassOf* BrainRegion ;\n",
    "            label ?region\n",
    "}}\n",
    "\"\"\""
   ]
  },
  {
   "cell_type": "code",
   "execution_count": 526,
   "metadata": {},
   "outputs": [],
   "source": [
    "resources = forge.sparql(query, limit=1000)"
   ]
  },
  {
   "cell_type": "code",
   "execution_count": 527,
   "metadata": {},
   "outputs": [],
   "source": [
    "df = forge.as_dataframe(resources)"
   ]
  },
  {
   "cell_type": "code",
   "execution_count": 528,
   "metadata": {},
   "outputs": [
    {
     "data": {
      "text/html": [
       "<div>\n",
       "<style scoped>\n",
       "    .dataframe tbody tr th:only-of-type {\n",
       "        vertical-align: middle;\n",
       "    }\n",
       "\n",
       "    .dataframe tbody tr th {\n",
       "        vertical-align: top;\n",
       "    }\n",
       "\n",
       "    .dataframe thead th {\n",
       "        text-align: right;\n",
       "    }\n",
       "</style>\n",
       "<table border=\"1\" class=\"dataframe\">\n",
       "  <thead>\n",
       "    <tr style=\"text-align: right;\">\n",
       "      <th></th>\n",
       "      <th>id</th>\n",
       "      <th>region</th>\n",
       "    </tr>\n",
       "  </thead>\n",
       "  <tbody>\n",
       "    <tr>\n",
       "      <th>0</th>\n",
       "      <td>http://api.brain-map.org/api/v2/data/Structure...</td>\n",
       "      <td>Primary auditory area, layer 1</td>\n",
       "    </tr>\n",
       "    <tr>\n",
       "      <th>1</th>\n",
       "      <td>http://api.brain-map.org/api/v2/data/Structure...</td>\n",
       "      <td>Primary somatosensory area, trunk, layer 1</td>\n",
       "    </tr>\n",
       "    <tr>\n",
       "      <th>2</th>\n",
       "      <td>http://api.brain-map.org/api/v2/data/Structure...</td>\n",
       "      <td>Dorsal auditory area, layer 1</td>\n",
       "    </tr>\n",
       "    <tr>\n",
       "      <th>3</th>\n",
       "      <td>http://api.brain-map.org/api/v2/data/Structure...</td>\n",
       "      <td>Ventral auditory area, layer 1</td>\n",
       "    </tr>\n",
       "    <tr>\n",
       "      <th>4</th>\n",
       "      <td>http://api.brain-map.org/api/v2/data/Structure...</td>\n",
       "      <td>Posterior auditory area, layer 1</td>\n",
       "    </tr>\n",
       "  </tbody>\n",
       "</table>\n",
       "</div>"
      ],
      "text/plain": [
       "                                                  id  \\\n",
       "0  http://api.brain-map.org/api/v2/data/Structure...   \n",
       "1  http://api.brain-map.org/api/v2/data/Structure...   \n",
       "2  http://api.brain-map.org/api/v2/data/Structure...   \n",
       "3  http://api.brain-map.org/api/v2/data/Structure...   \n",
       "4  http://api.brain-map.org/api/v2/data/Structure...   \n",
       "\n",
       "                                       region  \n",
       "0              Primary auditory area, layer 1  \n",
       "1  Primary somatosensory area, trunk, layer 1  \n",
       "2               Dorsal auditory area, layer 1  \n",
       "3              Ventral auditory area, layer 1  \n",
       "4            Posterior auditory area, layer 1  "
      ]
     },
     "execution_count": 528,
     "metadata": {},
     "output_type": "execute_result"
    }
   ],
   "source": [
    "df.head()"
   ]
  }
 ],
 "metadata": {
  "kernelspec": {
   "display_name": "Python (20210819)",
   "language": "python",
   "name": "20210819"
  },
  "language_info": {
   "codemirror_mode": {
    "name": "ipython",
    "version": 3
   },
   "file_extension": ".py",
   "mimetype": "text/x-python",
   "name": "python",
   "nbconvert_exporter": "python",
   "pygments_lexer": "ipython3",
   "version": "3.7.11"
  }
 },
 "nbformat": 4,
 "nbformat_minor": 4
}
