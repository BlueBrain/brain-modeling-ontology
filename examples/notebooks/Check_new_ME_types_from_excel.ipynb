{
 "cells": [
  {
   "cell_type": "markdown",
   "metadata": {},
   "source": [
    "# Cell Types Ontology"
   ]
  },
  {
   "cell_type": "markdown",
   "metadata": {},
   "source": [
    "## Imports"
   ]
  },
  {
   "cell_type": "code",
   "execution_count": 1,
   "metadata": {},
   "outputs": [],
   "source": [
    "import json\n",
    "import rdflib\n",
    "import pandas as pd\n",
    "from rdflib import RDF, RDFS, XSD, OWL, URIRef, BNode, SKOS\n",
    "from rdflib.paths import OneOrMore\n",
    "import pprint\n",
    "\n",
    "from kgforge.core import KnowledgeGraphForge\n",
    "from kgforge.specializations.mappings import DictionaryMapping\n",
    "\n",
    "from bmo.utils import BMO, MBA, BRAIN_REGION_ONTOLOGY_URI, NSG, SCHEMAORG, SHACL, NXV\n",
    "from bmo.ontologies import subontology_from_term"
   ]
  },
  {
   "cell_type": "markdown",
   "metadata": {},
   "source": [
    "## Helper functions"
   ]
  },
  {
   "cell_type": "code",
   "execution_count": 2,
   "metadata": {},
   "outputs": [],
   "source": [
    "def has_relation(graph, subject_id, relationship, object_id):\n",
    "    if (subject_id, RDFS.subClassOf/OWL.onProperty, relationship) in graph \\\n",
    "        and  (subject_id, RDFS.subClassOf/OWL.someValuesFrom, object_id) in graph:\n",
    "        return True\n",
    "    else:\n",
    "        return False"
   ]
  },
  {
   "cell_type": "markdown",
   "metadata": {},
   "source": [
    "## Load Ontology"
   ]
  },
  {
   "cell_type": "code",
   "execution_count": 3,
   "metadata": {},
   "outputs": [],
   "source": [
    "base = \"../../ontologies/bbp\" # Provide the directory into which you have downloaded the Cell Types and Brain Region Ontology from WebProtégé"
   ]
  },
  {
   "cell_type": "markdown",
   "metadata": {},
   "source": [
    "## Get available Cell Types"
   ]
  },
  {
   "cell_type": "code",
   "execution_count": 4,
   "metadata": {},
   "outputs": [
    {
     "data": {
      "text/plain": [
       "<Graph identifier=N83a4d2729df341cc9b561ccabe293484 (<class 'rdflib.graph.Graph'>)>"
      ]
     },
     "execution_count": 4,
     "metadata": {},
     "output_type": "execute_result"
    }
   ],
   "source": [
    "cell_type_ontology = rdflib.Graph()\n",
    "cell_type_ontology.parse(\"../../ontologies/bbp/celltypes.ttl\")"
   ]
  },
  {
   "cell_type": "markdown",
   "metadata": {},
   "source": [
    "## Load excel file"
   ]
  },
  {
   "cell_type": "code",
   "execution_count": 5,
   "metadata": {},
   "outputs": [],
   "source": [
    "hip_dict = pd.read_excel(\"../data/cell_metypes/CellTypesandMissingData-Version2-20230614_cleaned.xlsx\", sheet_name=None)"
   ]
  },
  {
   "cell_type": "code",
   "execution_count": 6,
   "metadata": {},
   "outputs": [],
   "source": [
    "skiping = ['Etypes', 'Mtypes', 'hippocampus', 'hippocampus - abbreviations', 'cortex', 'Notes', 'Percent inhibitory by region', 'basal ganglia', 'basal ganglia simple']"
   ]
  },
  {
   "cell_type": "markdown",
   "metadata": {},
   "source": [
    "## Add to the Cell Types Ontology"
   ]
  },
  {
   "cell_type": "markdown",
   "metadata": {},
   "source": [
    "### All labels from Cell Type Ontology"
   ]
  },
  {
   "cell_type": "code",
   "execution_count": 7,
   "metadata": {},
   "outputs": [],
   "source": [
    "all_labels = []\n",
    "all_prefLables = []\n",
    "all_notations = []"
   ]
  },
  {
   "attachments": {},
   "cell_type": "markdown",
   "metadata": {},
   "source": [
    "### Get all labels"
   ]
  },
  {
   "cell_type": "code",
   "execution_count": 8,
   "metadata": {},
   "outputs": [],
   "source": [
    "for s, p, o in cell_type_ontology.triples((None, RDFS.label, None)):\n",
    "    all_labels.append(str(o))\n",
    "for s, p, o in cell_type_ontology.triples((None, SKOS.prefLabel, None)):\n",
    "    all_prefLables.append(str(o))\n",
    "for s, p, o in cell_type_ontology.triples((None, SKOS.notation, None)):\n",
    "    all_notations.append(str(o))\n",
    "    "
   ]
  },
  {
   "cell_type": "code",
   "execution_count": 9,
   "metadata": {},
   "outputs": [],
   "source": [
    "all_acronyms = []"
   ]
  },
  {
   "cell_type": "code",
   "execution_count": 10,
   "metadata": {},
   "outputs": [],
   "source": [
    "for region in hip_dict.keys():\n",
    "    if region not in skiping:\n",
    "        rgn_df = hip_dict[region]\n",
    "        brain_regions = rgn_df['BBP ATLAS Brain Region'].dropna().unique()\n",
    "        for br in brain_regions:\n",
    "            sub_df = rgn_df.loc[rgn_df['BBP ATLAS Brain Region'] == br]\n",
    "            for irow, row in sub_df.iterrows():\n",
    "                valid = row['Nexus Status (N=Not Ready ,Y=Yes ready,D=Done)'].lower() if not pd.isna(row['Nexus Status (N=Not Ready ,Y=Yes ready,D=Done)']) else False\n",
    "                if valid:\n",
    "                    all_acronyms.append(row['Acronym'])"
   ]
  },
  {
   "cell_type": "code",
   "execution_count": 11,
   "metadata": {},
   "outputs": [],
   "source": [
    "all_possible_labels = set(all_labels + all_prefLables + all_notations)"
   ]
  },
  {
   "cell_type": "code",
   "execution_count": 12,
   "metadata": {},
   "outputs": [],
   "source": [
    "repeated = [s for s in all_acronyms if s not in set(all_acronyms)]"
   ]
  },
  {
   "cell_type": "code",
   "execution_count": 13,
   "metadata": {},
   "outputs": [],
   "source": [
    "assert not repeated"
   ]
  },
  {
   "cell_type": "code",
   "execution_count": 19,
   "metadata": {},
   "outputs": [],
   "source": [
    "missing = [s for s in all_acronyms if s not in all_possible_labels and not pd.isna(s)]"
   ]
  },
  {
   "cell_type": "code",
   "execution_count": 20,
   "metadata": {},
   "outputs": [],
   "source": [
    "assert not missing"
   ]
  }
 ],
 "metadata": {
  "kernelspec": {
   "display_name": "kgforge",
   "language": "python",
   "name": "python3"
  },
  "language_info": {
   "codemirror_mode": {
    "name": "ipython",
    "version": 3
   },
   "file_extension": ".py",
   "mimetype": "text/x-python",
   "name": "python",
   "nbconvert_exporter": "python",
   "pygments_lexer": "ipython3",
   "version": "3.8.16"
  },
  "vscode": {
   "interpreter": {
    "hash": "9ac393a5ddd595f2c78ea58b15bf8d269850a4413729cbea5c5fae9013762763"
   }
  }
 },
 "nbformat": 4,
 "nbformat_minor": 4
}
