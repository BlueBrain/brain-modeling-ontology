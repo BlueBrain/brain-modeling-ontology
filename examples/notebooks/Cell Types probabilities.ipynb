{
 "cells": [
  {
   "cell_type": "markdown",
   "metadata": {},
   "source": [
    "# TODO\n",
    "\n",
    "- some molecular types not available on BMO: Serpinf, Sncg"
   ]
  },
  {
   "cell_type": "markdown",
   "metadata": {},
   "source": [
    "## Context"
   ]
  },
  {
   "cell_type": "markdown",
   "metadata": {},
   "source": [
    "See also: https://bbpteam.epfl.ch/project/issues/browse/DKE-961"
   ]
  },
  {
   "cell_type": "markdown",
   "metadata": {},
   "source": [
    "## Imports"
   ]
  },
  {
   "cell_type": "code",
   "execution_count": null,
   "metadata": {},
   "outputs": [],
   "source": [
    "import uuid\n",
    "import getpass\n",
    "import rdflib\n",
    "import pandas as pd\n",
    "from rdflib import RDF, RDFS, XSD, OWL, URIRef, BNode, SKOS\n",
    "from kgforge.core import KnowledgeGraphForge\n",
    "from kgforge.specializations.mappings import DictionaryMapping\n",
    "from kgforge.specializations.mappers import DictionaryMapper"
   ]
  },
  {
   "cell_type": "code",
   "execution_count": null,
   "metadata": {},
   "outputs": [],
   "source": [
    "from kgforge.version import __version__\n",
    "print(__version__)"
   ]
  },
  {
   "cell_type": "markdown",
   "metadata": {},
   "source": [
    "## Setup"
   ]
  },
  {
   "cell_type": "markdown",
   "metadata": {},
   "source": [
    "Get your TOKEN from Nexus Web: https://bbp.epfl.ch/nexus/web :\n",
    "* log in using your Gaspar user name and password\n",
    "* click on \"Copy token\" in the top right corner\n",
    "* paste copied token into the cell below"
   ]
  },
  {
   "cell_type": "code",
   "execution_count": null,
   "metadata": {},
   "outputs": [],
   "source": [
    "TOKEN = getpass.getpass()"
   ]
  },
  {
   "cell_type": "code",
   "execution_count": null,
   "metadata": {},
   "outputs": [],
   "source": [
    "forge = KnowledgeGraphForge(\"https://raw.githubusercontent.com/BlueBrain/nexus-forge/master/examples/notebooks/use-cases/prod-forge-nexus.yml\",\n",
    "                            token=TOKEN,\n",
    "                            endpoint=\"https://staging.nise.bbp.epfl.ch/nexus/v1\",\n",
    "                            bucket=\"neurosciencegraph/datamodels\",\n",
    "                            debug=True)"
   ]
  },
  {
   "cell_type": "markdown",
   "metadata": {},
   "source": [
    "## Source data"
   ]
  },
  {
   "cell_type": "code",
   "execution_count": null,
   "metadata": {},
   "outputs": [],
   "source": [
    "BASE = \"/Users/akkaufma/Desktop/probs\" # TODO"
   ]
  },
  {
   "cell_type": "markdown",
   "metadata": {
    "tags": []
   },
   "source": [
    "### Cell Types Ontology\n",
    "\n",
    "This ontology can be used to get the etype and mtype identifiers from their labels which are stored in the spreadsheet with the probabilities"
   ]
  },
  {
   "cell_type": "code",
   "execution_count": null,
   "metadata": {},
   "outputs": [],
   "source": [
    "cell_types_id = \"http://bbp.epfl.ch/neurosciencegraph/ontologies/core/celltypes\""
   ]
  },
  {
   "cell_type": "code",
   "execution_count": null,
   "metadata": {},
   "outputs": [],
   "source": [
    "cell_types_resource = forge.retrieve(cell_types_id)"
   ]
  },
  {
   "cell_type": "code",
   "execution_count": null,
   "metadata": {},
   "outputs": [],
   "source": [
    "forge.download(cell_types_resource, \"distribution.contentUrl\", BASE)"
   ]
  },
  {
   "cell_type": "code",
   "execution_count": null,
   "metadata": {},
   "outputs": [],
   "source": [
    "for d in cell_types_resource.distribution:\n",
    "    if \".ttl\" in d.name:\n",
    "        cell_types_ttl = d.name"
   ]
  },
  {
   "cell_type": "code",
   "execution_count": null,
   "metadata": {},
   "outputs": [],
   "source": [
    "cell_types_ontology = rdflib.Graph()\n",
    "cell_types_ontology.parse(f\"{BASE}/{cell_types_ttl}\")"
   ]
  },
  {
   "cell_type": "markdown",
   "metadata": {},
   "source": [
    "### Brain Modeling Ontology\n",
    "\n",
    "This ontology can be used to get the molecular type identifiers from their labels which are stored in the spreadsheet with the probabilities"
   ]
  },
  {
   "cell_type": "code",
   "execution_count": null,
   "metadata": {},
   "outputs": [],
   "source": [
    "bmo_id = \"https://bbp.epfl.ch/ontologies/core/bmo\""
   ]
  },
  {
   "cell_type": "code",
   "execution_count": null,
   "metadata": {},
   "outputs": [],
   "source": [
    "bmo_resource = forge.retrieve(bmo_id)"
   ]
  },
  {
   "cell_type": "code",
   "execution_count": null,
   "metadata": {},
   "outputs": [],
   "source": [
    "forge.download(bmo_resource, \"distribution.contentUrl\", BASE)"
   ]
  },
  {
   "cell_type": "code",
   "execution_count": null,
   "metadata": {},
   "outputs": [],
   "source": [
    "for d in bmo_resource.distribution:\n",
    "    if \".ttl\" in d.name:\n",
    "        bmo_ttl = d.name"
   ]
  },
  {
   "cell_type": "code",
   "execution_count": null,
   "metadata": {},
   "outputs": [],
   "source": [
    "bmo = rdflib.Graph()\n",
    "bmo.parse(f\"{BASE}/{bmo_ttl}\")"
   ]
  },
  {
   "cell_type": "markdown",
   "metadata": {},
   "source": [
    "### Probabilities"
   ]
  },
  {
   "cell_type": "code",
   "execution_count": null,
   "metadata": {},
   "outputs": [],
   "source": [
    "probability_file = f\"{BASE}/P(BBPmarker_metype)_L26_(Gouw+pseq_BBP)April_16_2021.csv\""
   ]
  },
  {
   "cell_type": "code",
   "execution_count": null,
   "metadata": {},
   "outputs": [],
   "source": [
    "p_df = pd.read_csv(probability_file)"
   ]
  },
  {
   "cell_type": "code",
   "execution_count": null,
   "metadata": {},
   "outputs": [],
   "source": [
    "p_df.set_index(\"Unnamed: 0\")"
   ]
  },
  {
   "cell_type": "code",
   "execution_count": null,
   "metadata": {},
   "outputs": [],
   "source": [
    "for el in p_df[\"Unnamed: 0\"]:\n",
    "    print(el)"
   ]
  },
  {
   "cell_type": "markdown",
   "metadata": {},
   "source": [
    "! The labels in the spreadsheet don't fully match the labels from the BMO. Hence the labels and ids have been pasted as a mapping below"
   ]
  },
  {
   "cell_type": "code",
   "execution_count": null,
   "metadata": {},
   "outputs": [],
   "source": [
    "molecular_types = {\n",
    "    \"Vip\": {\n",
    "        \"id\": \"https://bbp.epfl.ch/ontologies/core/bmo/VIP+\",\n",
    "        \"label\": \"VIP+\"\n",
    "    },\n",
    "    \"Lamp5\": {\n",
    "        \"id\": \"https://bbp.epfl.ch/ontologies/core/bmo/Lamp+\",\n",
    "        \"label\": \"Lamp+\"\n",
    "    },\n",
    "    \"Pvalb\": {\n",
    "        \"id\": \"https://bbp.epfl.ch/ontologies/core/bmo/PV+\",\n",
    "        \"label\": \"PV+\"\n",
    "    },\n",
    "    \"Sst\": {\n",
    "        \"id\": \"https://bbp.epfl.ch/ontologies/core/bmo/SST+\",\n",
    "        \"label\": \"SST+\"\n",
    "    },\n",
    "    \"Sncg\": {\n",
    "        \"id\": \"https://bbp.epfl.ch/ontologies/core/bmo/Sncg+\",\n",
    "        \"label\": \"Sncg+\"\n",
    "    },\n",
    "    \"Serpinf1\": {\n",
    "        \"id\": \"https://bbp.epfl.ch/ontologies/core/bmo/Serpinf1+\",\n",
    "        \"label\": \"Serpinf1+\"\n",
    "    }\n",
    "}"
   ]
  },
  {
   "cell_type": "code",
   "execution_count": null,
   "metadata": {},
   "outputs": [],
   "source": [
    "for c in p_df.columns[1:]:\n",
    "    fragments = c.split(\"_\")\n",
    "    mtype_label = f\"{fragments[0]}_{fragments[1]}\"\n",
    "    etype_label = fragments[-1]\n",
    "    for s, p, o in cell_types_ontology.triples((None, RDFS.label, rdflib.term.Literal(mtype_label, lang=\"en\"))):\n",
    "        mtype_id = s\n",
    "    for s, p, o in cell_types_ontology.triples((None, RDFS.label, rdflib.term.Literal(etype_label, lang=\"en\"))):\n",
    "        etype_id = s"
   ]
  },
  {
   "cell_type": "code",
   "execution_count": null,
   "metadata": {},
   "outputs": [],
   "source": [
    "resources = list()"
   ]
  },
  {
   "cell_type": "code",
   "execution_count": null,
   "metadata": {},
   "outputs": [],
   "source": [
    "for i, r in p_df.iterrows():\n",
    "    obj = dict()\n",
    "    r = dict(r)\n",
    "    moltype = r[\"Unnamed: 0\"]\n",
    "    obj[\"moltype_label\"] = molecular_types[moltype][\"label\"]\n",
    "    obj[\"moltype_id\"] = molecular_types[moltype][\"id\"]\n",
    "    for k, v in list(r.items())[1:]:\n",
    "        fragments = k.split(\"_\")\n",
    "        mtype_label = f\"{fragments[0]}_{fragments[1]}\"\n",
    "        etype_label = fragments[-1]\n",
    "        for s, p, o in cell_types_ontology.triples((None, RDFS.label, rdflib.term.Literal(mtype_label, lang=\"en\"))):\n",
    "            mtype_id = s\n",
    "        for s, p, o in cell_types_ontology.triples((None, RDFS.label, rdflib.term.Literal(etype_label, lang=\"en\"))):\n",
    "            etype_id = s\n",
    "        obj[\"etype_label\"] = etype_label\n",
    "        obj[\"etype_id\"] = str(etype_id)\n",
    "        obj[\"mtype_label\"] = mtype_label\n",
    "        obj[\"mtype_id\"] = str(mtype_id)\n",
    "        obj[\"value\"] = v\n",
    "        obj[\"name\"] = f\"{obj['moltype_label']}_{obj['mtype_label']}_{obj['etype_label']}\"\n",
    "        resources.append(obj)"
   ]
  },
  {
   "cell_type": "markdown",
   "metadata": {},
   "source": [
    "## Annotation resources"
   ]
  },
  {
   "cell_type": "markdown",
   "metadata": {},
   "source": [
    "### Mapping"
   ]
  },
  {
   "cell_type": "code",
   "execution_count": null,
   "metadata": {},
   "outputs": [],
   "source": [
    "mapping = DictionaryMapping.load(\"../data/mappings/ProbabilityAnnotation.hjson\")"
   ]
  },
  {
   "cell_type": "markdown",
   "metadata": {},
   "source": [
    "### Transformation"
   ]
  },
  {
   "cell_type": "code",
   "execution_count": null,
   "metadata": {},
   "outputs": [],
   "source": [
    "contribution = forge.from_json({\n",
    "    \"type\": \"Contribution\",\n",
    "    \"agent\": {\n",
    "        \"id\": \"https://bbp.epfl.ch/nexus/v1/realms/bbp/users/yroussel\",\n",
    "        \"type\": [\"Agent\", \"Person\"]\n",
    "    }\n",
    "})"
   ]
  },
  {
   "cell_type": "code",
   "execution_count": null,
   "metadata": {},
   "outputs": [],
   "source": [
    "softwareagent = forge.from_json(\n",
    "        {\n",
    "            \"type\": [\"Agent\", \"SoftwareAgent\"],\n",
    "            \"softwareSourceCode\": {\n",
    "                \"type\": \"SoftwareSourceCode\",\n",
    "                \"codeRepository\": {\n",
    "                    \"id\": \"https://github.com/BlueBrain/me-types-mapper\"\n",
    "                },\n",
    "                \"programmingLanguage\": \"Python\"\n",
    "\n",
    "            },\n",
    "            \"name\": \"me-types-mapper\",\n",
    "            \"description\": \"me-types-mapper is a python package that propose a probabilistic mapping between cell types from two different datasets based on shared morpho-electrical features.\"\n",
    "        }\n",
    "    )"
   ]
  },
  {
   "cell_type": "code",
   "execution_count": null,
   "metadata": {},
   "outputs": [],
   "source": [
    "generation = forge.from_json({\n",
    "    \"type\": \"Generation\",\n",
    "    \"activity\": {\n",
    "        \"type\": \"Activity\",\n",
    "        \"startedAtTime\": {\n",
    "            \"@value\": \"2021-04-16T00:00:00\",\n",
    "            \"@type\": \"xsd:dateTime\"\n",
    "        },\n",
    "        \"endedAtTime\": {\n",
    "            \"@value\": \"2021-04-16T23:59:00\",\n",
    "            \"@type\": \"xsd:dateTime\"\n",
    "        },\n",
    "        \"wasAssociatedWith\": softwareagent\n",
    "    }\n",
    "})"
   ]
  },
  {
   "cell_type": "code",
   "execution_count": null,
   "metadata": {},
   "outputs": [],
   "source": [
    "annotations = forge.map(resources, mapping, DictionaryMapper)"
   ]
  },
  {
   "cell_type": "code",
   "execution_count": null,
   "metadata": {},
   "outputs": [],
   "source": [
    "for resource in annotations:\n",
    "    resource.contribution = contribution\n",
    "    resource.generation = generation\n",
    "    resource.id = forge.format(\"identifier\", \"annotations\", str(uuid.uuid4()))"
   ]
  },
  {
   "cell_type": "markdown",
   "metadata": {},
   "source": [
    "### Registration"
   ]
  },
  {
   "cell_type": "code",
   "execution_count": null,
   "metadata": {},
   "outputs": [],
   "source": [
    "print(annotations[0])"
   ]
  },
  {
   "cell_type": "code",
   "execution_count": null,
   "metadata": {},
   "outputs": [],
   "source": [
    "forge.register(annotations, \"datashapes:annotation\")"
   ]
  }
 ],
 "metadata": {
  "kernelspec": {
   "display_name": "Python (20210819)",
   "language": "python",
   "name": "20210819"
  },
  "language_info": {
   "codemirror_mode": {
    "name": "ipython",
    "version": 3
   },
   "file_extension": ".py",
   "mimetype": "text/x-python",
   "name": "python",
   "nbconvert_exporter": "python",
   "pygments_lexer": "ipython3",
   "version": "3.7.11"
  }
 },
 "nbformat": 4,
 "nbformat_minor": 4
}
