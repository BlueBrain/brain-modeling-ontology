{
 "cells": [
  {
   "cell_type": "code",
   "execution_count": null,
   "id": "5475ee83",
   "metadata": {},
   "outputs": [],
   "source": [
    "import getpass\n",
    "import requests\n",
    "import json\n",
    "import rdflib\n",
    "\n",
    "from collections import defaultdict\n",
    "\n",
    "from io import StringIO\n",
    "import pandas as pd\n",
    "\n",
    "from rdflib import RDF, RDFS, OWL, SKOS, XSD\n",
    "\n",
    "from bluegraph import PandasPGFrame\n",
    "from bluegraph.backends.neo4j import pgframe_to_neo4j\n",
    "\n",
    "from bmo.ontologies import subontology_from_term\n",
    "from bmo.kbs.gene_kbs import get_gene_data"
   ]
  },
  {
   "cell_type": "markdown",
   "id": "da086d80",
   "metadata": {},
   "source": [
    "## Get gene data"
   ]
  },
  {
   "cell_type": "code",
   "execution_count": null,
   "id": "bd180d05",
   "metadata": {},
   "outputs": [],
   "source": [
    "data = pd.read_csv(\"../data/ncmv3_transcription_data.csv\")"
   ]
  },
  {
   "cell_type": "code",
   "execution_count": null,
   "id": "d4af6473",
   "metadata": {},
   "outputs": [],
   "source": [
    "data = data.set_index(\"Gene\")"
   ]
  },
  {
   "cell_type": "code",
   "execution_count": null,
   "id": "a6601c3a",
   "metadata": {},
   "outputs": [],
   "source": [
    "SPECIES = 'mus_musculus'"
   ]
  },
  {
   "cell_type": "code",
   "execution_count": null,
   "id": "f2135860",
   "metadata": {},
   "outputs": [],
   "source": [
    "gene_selection = data.index.tolist()\n",
    "len(gene_selection)"
   ]
  },
  {
   "cell_type": "code",
   "execution_count": null,
   "id": "7843a0bf",
   "metadata": {},
   "outputs": [],
   "source": [
    "gene_selection = gene_selection[:20]"
   ]
  },
  {
   "cell_type": "code",
   "execution_count": null,
   "id": "33853113",
   "metadata": {},
   "outputs": [],
   "source": [
    "records = {}\n",
    "for gene in gene_selection:\n",
    "    if gene not in records:\n",
    "        try:\n",
    "            records[gene] = get_gene_data(gene, SPECIES)\n",
    "        except:\n",
    "            print(\"Skipped: \", gene)"
   ]
  },
  {
   "cell_type": "code",
   "execution_count": null,
   "id": "a440db73",
   "metadata": {},
   "outputs": [],
   "source": [
    "with open(\"../data/gene_non_zero_expression.json\", \"w\") as f:\n",
    "    json.dump(records, f)"
   ]
  },
  {
   "cell_type": "code",
   "execution_count": null,
   "id": "ad677398",
   "metadata": {},
   "outputs": [],
   "source": [
    "len(records)"
   ]
  },
  {
   "cell_type": "markdown",
   "id": "098d0de0",
   "metadata": {},
   "source": [
    "## Merge gene data with Gene ontology"
   ]
  },
  {
   "cell_type": "code",
   "execution_count": null,
   "id": "ffb9c87d",
   "metadata": {},
   "outputs": [],
   "source": [
    "with open(\"../data/gene_non_zero_expression.json\", \"r\") as f:\n",
    "    records = json.load(f)"
   ]
  },
  {
   "cell_type": "code",
   "execution_count": null,
   "id": "103f5c59",
   "metadata": {},
   "outputs": [],
   "source": [
    "go = rdflib.Graph()\n",
    "go.parse(\"../../ontologies/external/go.ttl\", format=\"turtle\")"
   ]
  },
  {
   "cell_type": "code",
   "execution_count": null,
   "id": "19b54d15",
   "metadata": {},
   "outputs": [],
   "source": [
    "go_terms_to_include = {}\n",
    "for g, record in records.items():\n",
    "    if \"go_edges\" in record:\n",
    "        for _, t in record[\"go_edges\"]:\n",
    "            if t not in go_terms_to_include:\n",
    "                for s in go.subjects(\n",
    "                        rdflib.URIRef(\"http://www.geneontology.org/formats/oboInOwl#id\"),\n",
    "                        rdflib.Literal(t, datatype=XSD.string)):\n",
    "                    go_terms_to_include[t] = s\n",
    "                    break"
   ]
  },
  {
   "cell_type": "code",
   "execution_count": null,
   "id": "8056e6c2",
   "metadata": {},
   "outputs": [],
   "source": [
    "selected_go = rdflib.Graph()\n",
    "for t in go_terms_to_include.values():\n",
    "    subontology = subontology_from_term(go, t, top_down=False, closed=True)\n",
    "    selected_go += subontology"
   ]
  },
  {
   "cell_type": "code",
   "execution_count": null,
   "id": "6cc57178",
   "metadata": {},
   "outputs": [],
   "source": [
    "frame = PandasPGFrame.from_ontology(rdf_graph=selected_go, remove_prop_uris=True)\n",
    "# frame.remove_node_properties(\"http://purl.obolibrary.org/obo/IAO_0000589\")\n",
    "frame.remove_isolated_nodes()\n",
    "frame.rename_node_properties({\"id\": \"go_id\"})"
   ]
  },
  {
   "cell_type": "code",
   "execution_count": null,
   "id": "a41f4308",
   "metadata": {},
   "outputs": [],
   "source": [
    "frame.add_nodes([\"Gene\"])"
   ]
  },
  {
   "cell_type": "code",
   "execution_count": null,
   "id": "3a859ee8",
   "metadata": {},
   "outputs": [],
   "source": [
    "gene_df = pd.DataFrame(records.values())\n",
    "gene_df[\"@id\"] = gene_df[\"prefLabel\"]\n",
    "gene_df[\"label\"] = gene_df[\"prefLabel\"]\n",
    "gene_df = gene_df.dropna()\n",
    "gene_df = gene_df.drop_duplicates(\"@id\")"
   ]
  },
  {
   "cell_type": "code",
   "execution_count": null,
   "id": "9fe06913",
   "metadata": {},
   "outputs": [],
   "source": [
    "edges = gene_df[[\"@id\", \"go_edges\"]]"
   ]
  },
  {
   "cell_type": "code",
   "execution_count": null,
   "id": "d9c71de0",
   "metadata": {},
   "outputs": [],
   "source": [
    "gene_df = gene_df.drop(columns=[\"go_edges\"])\n",
    "gene_df[\"xrefs\"] = gene_df[\"xrefs\"].apply(lambda x: {f\"{k}:{v}\" for k, v in x.items()})\n",
    "frame.add_nodes(gene_df[\"@id\"])\n",
    "for c in gene_df.columns:\n",
    "    if c != \"@id\":\n",
    "        frame.add_node_properties(gene_df[[\"@id\", c]])"
   ]
  },
  {
   "cell_type": "code",
   "execution_count": null,
   "id": "35b67908",
   "metadata": {},
   "outputs": [],
   "source": [
    "instance_edges = [\n",
    "    (el, \"Gene\")   \n",
    "    for el in gene_df[\"@id\"] \n",
    "]\n",
    "frame.add_edges(instance_edges)\n",
    "for s, t in instance_edges:\n",
    "    frame._edges.loc[(s, t), \"@type\"] = {\"IS_INSTANCE_OF\"}"
   ]
  },
  {
   "cell_type": "code",
   "execution_count": null,
   "id": "f811a352",
   "metadata": {},
   "outputs": [],
   "source": [
    "go_edges = defaultdict(set)\n",
    "for row in edges.to_dict(\"records\"):\n",
    "    source  = row[\"@id\"]\n",
    "    for rel, go_term in row[\"go_edges\"]:\n",
    "        try:\n",
    "            target = frame._nodes[frame._nodes[\"go_id\"] == go_term].index[0]\n",
    "            go_edges[(source, target)].add(rel.replace(\" \", \"_\"))\n",
    "        except IndexError:\n",
    "            pass\n",
    "\n",
    "frame.add_edges(go_edges.keys())\n",
    "for e, types in go_edges.items():\n",
    "    frame._edges.loc[e, \"@type\"] = types\n",
    "\n",
    "frame.rename_node_properties({\n",
    "    p: p.replace(\" \", \"_\") for p in frame.node_properties()\n",
    "})"
   ]
  },
  {
   "cell_type": "markdown",
   "id": "3ee7feae",
   "metadata": {},
   "source": [
    "## Export to Neo4j"
   ]
  },
  {
   "cell_type": "code",
   "execution_count": null,
   "id": "7710169a",
   "metadata": {},
   "outputs": [],
   "source": [
    "uri = \"bolt://127.0.0.1:7687\"\n",
    "username = \"neo4j\""
   ]
  },
  {
   "cell_type": "code",
   "execution_count": null,
   "id": "7636d699",
   "metadata": {},
   "outputs": [],
   "source": [
    "password = getpass.getpass()"
   ]
  },
  {
   "cell_type": "code",
   "execution_count": null,
   "id": "4b2b51e1",
   "metadata": {
    "scrolled": false
   },
   "outputs": [],
   "source": [
    "pgframe_to_neo4j(\n",
    "    frame, uri=uri, username=username, password=password, \n",
    "    node_label=\"TEST_ONTOLOGY_CLASS\", \n",
    "#     node_types_as_labels=True,\n",
    "    edge_types_as_labels=True)"
   ]
  },
  {
   "cell_type": "code",
   "execution_count": null,
   "id": "43367dfd",
   "metadata": {
    "scrolled": true
   },
   "outputs": [],
   "source": [
    "frame._nodes"
   ]
  }
 ],
 "metadata": {
  "kernelspec": {
   "display_name": "bg",
   "language": "python",
   "name": "bg"
  },
  "language_info": {
   "codemirror_mode": {
    "name": "ipython",
    "version": 3
   },
   "file_extension": ".py",
   "mimetype": "text/x-python",
   "name": "python",
   "nbconvert_exporter": "python",
   "pygments_lexer": "ipython3",
   "version": "3.7.10"
  }
 },
 "nbformat": 4,
 "nbformat_minor": 5
}
