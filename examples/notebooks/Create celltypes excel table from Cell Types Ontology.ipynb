{
 "cells": [
  {
   "cell_type": "markdown",
   "metadata": {},
   "source": [
    "# Create celltypes excel table from Cell Types Ontology"
   ]
  },
  {
   "cell_type": "markdown",
   "metadata": {},
   "source": [
    "## Context"
   ]
  },
  {
   "cell_type": "markdown",
   "metadata": {},
   "source": [
    "- See JIRA task [DKE-1041](https://bbpteam.epfl.ch/project/issues/browse/DKE-1041)\n",
    "- Georges Khazen [AnnotationMappingTable](https://docs.google.com/spreadsheets/d/1Ky0FA1XaJru9od9lze9d_7ZaFSi7OkqH/edit#gid=2119141304)\n",
    "- Will be implemented below for `Neuron Type`"
   ]
  },
  {
   "cell_type": "markdown",
   "metadata": {},
   "source": [
    "## Imports"
   ]
  },
  {
   "cell_type": "code",
   "execution_count": null,
   "metadata": {},
   "outputs": [],
   "source": [
    "import rdflib\n",
    "import pandas as pd\n",
    "from rdflib import RDF, RDFS, XSD, OWL, URIRef, BNode, SKOS"
   ]
  },
  {
   "cell_type": "markdown",
   "metadata": {},
   "source": [
    "## Helper"
   ]
  },
  {
   "cell_type": "code",
   "execution_count": null,
   "metadata": {
    "jupyter": {
     "source_hidden": true
    },
    "tags": []
   },
   "outputs": [],
   "source": [
    "def get_query(cell_type_type_id:str):\n",
    "    query = f\"\"\"\n",
    "\n",
    "       PREFIX bmc: <https://bbp.epfl.ch/ontologies/core/bmc/>\n",
    "       PREFIX bmo: <https://bbp.epfl.ch/ontologies/core/bmo/>\n",
    "       PREFIX commonshapes: <https://neuroshapes.org/commons/>\n",
    "       PREFIX datashapes: <https://neuroshapes.org/dash/>\n",
    "       PREFIX dc: <http://purl.org/dc/elements/1.1/>\n",
    "       PREFIX dcat: <http://www.w3.org/ns/dcat#>\n",
    "       PREFIX dcterms: <http://purl.org/dc/terms/>\n",
    "       PREFIX mba: <http://api.brain-map.org/api/v2/data/Structure/>\n",
    "       PREFIX nsg: <https://neuroshapes.org/>\n",
    "       PREFIX nxv: <https://bluebrain.github.io/nexus/vocabulary/>\n",
    "       PREFIX oa: <http://www.w3.org/ns/oa#>\n",
    "       PREFIX obo: <http://purl.obolibrary.org/obo/>\n",
    "       PREFIX owl: <http://www.w3.org/2002/07/owl#>\n",
    "       PREFIX prov: <http://www.w3.org/ns/prov#>\n",
    "       PREFIX rdf: <http://www.w3.org/1999/02/22-rdf-syntax-ns#>\n",
    "       PREFIX rdfs: <http://www.w3.org/2000/01/rdf-schema#>\n",
    "       PREFIX schema: <http://schema.org/>\n",
    "       PREFIX sh: <http://www.w3.org/ns/shacl#>\n",
    "       PREFIX shsh: <http://www.w3.org/ns/shacl-shacl#>\n",
    "       PREFIX skos: <http://www.w3.org/2004/02/skos/core#>\n",
    "       PREFIX vann: <http://purl.org/vocab/vann/>\n",
    "       PREFIX void: <http://rdfs.org/ns/void#>\n",
    "       PREFIX xml: <http://www.w3.org/XML/1998/namespace/>\n",
    "       PREFIX xsd: <http://www.w3.org/2001/XMLSchema#>\n",
    "   \n",
    "   \n",
    "       SELECT \n",
    "       ?brain_region_label \n",
    "       ?brain_region_id \n",
    "       ?species_id\n",
    "       ?species_label\n",
    "       ?cell_type_label \n",
    "       ?cell_type_id \n",
    "       ?cell_type_source\n",
    "       ?cell_type_type_label\n",
    "       ?transmitter_type_label\n",
    "       ?transmitter_type_id\n",
    "   \n",
    "       WHERE {{\n",
    "               ?cell_type_id rdfs:subClassOf* <{cell_type_type_id}> ;\n",
    "                       rdfs:label ?cell_type_label .\n",
    "               <{cell_type_type_id}> rdfs:label ?cell_type_type_label .\n",
    "               \n",
    "               \n",
    "            OPTIONAL {{ \n",
    "               ?cell_type_id rdfs:subClassOf* ?region_restriction .\n",
    "               ?region_restriction a owl:Restriction ;\n",
    "                   owl:onProperty bmo:canBeLocatedInBrainRegion ;\n",
    "                   owl:someValuesFrom ?brain_region_id .\n",
    "                }} .\n",
    "                   \n",
    "            OPTIONAL {{\n",
    "               ?cell_type_id rdfs:subClassOf* ?transmitter_restriction .\n",
    "               ?transmitter_restriction a owl:Restriction ;\n",
    "                   owl:onProperty <https://bbp.epfl.ch/ontologies/core/mtypes/hasNeurotransmitterType> ;\n",
    "                   owl:someValuesFrom ?transmitter_type_id .\n",
    "               ?transmitter_type_id rdfs:label ?transmitter_type_label .\n",
    "               }} .\n",
    "               \n",
    "            OPTIONAL {{\n",
    "                ?cell_type_id rdfs:seeAlso ?cell_type_source \n",
    "            }} .\n",
    "            \n",
    "            OPTIONAL {{\n",
    "            \n",
    "                ?cell_type_id rdfs:subClassOf* ?species_restriction .\n",
    "                ?species_restriction a owl:Restriction ;\n",
    "                   owl:onProperty <https://neuroshapes.org/hasInstanceInSpecies> ;\n",
    "                   owl:someValuesFrom ?species_id .\n",
    "                ?species_id rdfs:label ?species_label .\n",
    "            }} .\n",
    "               \n",
    "            FILTER NOT EXISTS {{ ?s rdfs:subClassOf ?cell_type_id }} .\n",
    "\n",
    "       }}\n",
    "         LIMIT 1000\n",
    "    \"\"\"\n",
    "    \n",
    "    return query"
   ]
  },
  {
   "cell_type": "markdown",
   "metadata": {},
   "source": [
    "## Load Cell Types Ontology"
   ]
  },
  {
   "cell_type": "markdown",
   "metadata": {},
   "source": [
    "Downloaded from WebProtégé"
   ]
  },
  {
   "cell_type": "code",
   "execution_count": null,
   "metadata": {},
   "outputs": [],
   "source": [
    "cell_types_ontology = rdflib.Graph()\n",
    "cell_types_ontology.parse(\"./celltypes.ttl\")"
   ]
  },
  {
   "cell_type": "markdown",
   "metadata": {},
   "source": [
    "## Load Brain Region Ontology"
   ]
  },
  {
   "cell_type": "markdown",
   "metadata": {},
   "source": [
    "Downloaded from WebProtégé"
   ]
  },
  {
   "cell_type": "code",
   "execution_count": null,
   "metadata": {},
   "outputs": [],
   "source": [
    "brainregion_ontology = rdflib.Graph()\n",
    "brainregion_ontology.parse(\"./brainregion.ttl\")"
   ]
  },
  {
   "cell_type": "markdown",
   "metadata": {},
   "source": [
    "## Query"
   ]
  },
  {
   "cell_type": "markdown",
   "metadata": {},
   "source": [
    "The query should be run for subclasses of `Neuron t-type`, `Neuron m-type` and `Neuron e-type`"
   ]
  },
  {
   "cell_type": "code",
   "execution_count": null,
   "metadata": {},
   "outputs": [],
   "source": [
    "cell_type_type_ids = [\n",
    "    \"https://bbp.epfl.ch/ontologies/core/celltypes/NeuronTranscriptomicType\",\n",
    "    \"https://bbp.epfl.ch/ontologies/core/bmo/NeuronMorphologicalType\",\n",
    "    \"https://bbp.epfl.ch/ontologies/core/bmo/NeuronElectricalType\"\n",
    "]"
   ]
  },
  {
   "cell_type": "code",
   "execution_count": null,
   "metadata": {},
   "outputs": [],
   "source": [
    "rows = list()\n",
    "for cell_type_type_id in cell_type_type_ids:\n",
    "    query = get_query(cell_type_type_id)\n",
    "    result = cell_types_ontology.query(query)\n",
    "    for row in result:\n",
    "        rows.append(row)"
   ]
  },
  {
   "cell_type": "markdown",
   "metadata": {},
   "source": [
    "## Save to excel"
   ]
  },
  {
   "cell_type": "code",
   "execution_count": null,
   "metadata": {},
   "outputs": [],
   "source": [
    "df = pd.DataFrame(rows, columns=[\"brain_region_label\", \n",
    "                             \"brain_region_id\", \n",
    "                             \"species_id\",\n",
    "                             \"species_label\",\n",
    "                             \"cell_type_label\",\n",
    "                             \"cell_type_id\",\n",
    "                             \"cell_type_source\",\n",
    "                             \"cell_type_type_label\",\n",
    "                             \"transmitter_type_label\",\n",
    "                             \"transmitter_type_id\",\n",
    "                             \n",
    "                             ]) "
   ]
  },
  {
   "cell_type": "code",
   "execution_count": null,
   "metadata": {},
   "outputs": [],
   "source": [
    "df.head()"
   ]
  },
  {
   "cell_type": "code",
   "execution_count": null,
   "metadata": {},
   "outputs": [],
   "source": [
    "for row in df.iterrows():\n",
    "    br_id = str(row[1].brain_region_id)\n",
    "    if br_id:\n",
    "        for s, p, o in brainregion_ontology.triples((rdflib.term.URIRef(br_id), RDFS.label, None)):\n",
    "            row[1].brain_region_label = o"
   ]
  },
  {
   "cell_type": "code",
   "execution_count": null,
   "metadata": {},
   "outputs": [],
   "source": [
    "df.to_excel(\"./celltypes.xlsx\")"
   ]
  }
 ],
 "metadata": {
  "kernelspec": {
   "display_name": "Python (20210819)",
   "language": "python",
   "name": "20210819"
  },
  "language_info": {
   "codemirror_mode": {
    "name": "ipython",
    "version": 3
   },
   "file_extension": ".py",
   "mimetype": "text/x-python",
   "name": "python",
   "nbconvert_exporter": "python",
   "pygments_lexer": "ipython3",
   "version": "3.7.11"
  }
 },
 "nbformat": 4,
 "nbformat_minor": 4
}
