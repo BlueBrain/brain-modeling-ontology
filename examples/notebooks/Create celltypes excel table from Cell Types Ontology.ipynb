{
 "cells": [
  {
   "cell_type": "markdown",
   "metadata": {},
   "source": [
    "# Create celltypes excel table from Cell Types Ontology"
   ]
  },
  {
   "cell_type": "markdown",
   "metadata": {},
   "source": [
    "## Context"
   ]
  },
  {
   "cell_type": "markdown",
   "metadata": {},
   "source": [
    "- See JIRA task [DKE-1041](https://bbpteam.epfl.ch/project/issues/browse/DKE-1041)\n",
    "- Georges Khazen [AnnotationMappingTable](https://docs.google.com/spreadsheets/d/1Ky0FA1XaJru9od9lze9d_7ZaFSi7OkqH/edit#gid=2119141304)\n",
    "- Will be implemented below for `Neuron Type`"
   ]
  },
  {
   "cell_type": "markdown",
   "metadata": {},
   "source": [
    "## Imports"
   ]
  },
  {
   "cell_type": "code",
   "execution_count": null,
   "metadata": {},
   "outputs": [],
   "source": [
    "import rdflib\n",
    "import pandas as pd\n",
    "import getpass\n",
    "from rdflib import RDF, RDFS, XSD, OWL, URIRef, BNode, SKOS\n",
    "from kgforge.core import KnowledgeGraphForge\n",
    "from kgforge.core.commons.strategies import ResolvingStrategy"
   ]
  },
  {
   "cell_type": "markdown",
   "metadata": {},
   "source": [
    "# Using the celltypes.ttl"
   ]
  },
  {
   "cell_type": "markdown",
   "metadata": {},
   "source": [
    "## Load Cell Types Ontology"
   ]
  },
  {
   "cell_type": "markdown",
   "metadata": {},
   "source": [
    "Downloaded from WebProtégé"
   ]
  },
  {
   "cell_type": "code",
   "execution_count": null,
   "metadata": {},
   "outputs": [],
   "source": [
    "cell_types_ontology = rdflib.Graph()\n",
    "cell_types_ontology.parse(\"/Users/akkaufma/Desktop/celltypes.ttl\") # TODO"
   ]
  },
  {
   "cell_type": "markdown",
   "metadata": {},
   "source": [
    "## Load Brain Region Ontology"
   ]
  },
  {
   "cell_type": "markdown",
   "metadata": {},
   "source": [
    "Downloaded from WebProtégé"
   ]
  },
  {
   "cell_type": "code",
   "execution_count": null,
   "metadata": {},
   "outputs": [],
   "source": [
    "brainregion_ontology = rdflib.Graph()\n",
    "brainregion_ontology.parse(\"/Users/akkaufma/Desktop/brainregion.ttl\") # TODO"
   ]
  },
  {
   "cell_type": "markdown",
   "metadata": {},
   "source": [
    "## Query"
   ]
  },
  {
   "cell_type": "code",
   "execution_count": null,
   "metadata": {
    "tags": []
   },
   "outputs": [],
   "source": [
    "    query = f\"\"\"\n",
    "\n",
    "       PREFIX bmc: <https://bbp.epfl.ch/ontologies/core/bmc/>\n",
    "       PREFIX bmo: <https://bbp.epfl.ch/ontologies/core/bmo/>\n",
    "       PREFIX commonshapes: <https://neuroshapes.org/commons/>\n",
    "       PREFIX datashapes: <https://neuroshapes.org/dash/>\n",
    "       PREFIX dc: <http://purl.org/dc/elements/1.1/>\n",
    "       PREFIX dcat: <http://www.w3.org/ns/dcat#>\n",
    "       PREFIX dcterms: <http://purl.org/dc/terms/>\n",
    "       PREFIX mba: <http://api.brain-map.org/api/v2/data/Structure/>\n",
    "       PREFIX nsg: <https://neuroshapes.org/>\n",
    "       PREFIX nxv: <https://bluebrain.github.io/nexus/vocabulary/>\n",
    "       PREFIX oa: <http://www.w3.org/ns/oa#>\n",
    "       PREFIX obo: <http://purl.obolibrary.org/obo/>\n",
    "       PREFIX owl: <http://www.w3.org/2002/07/owl#>\n",
    "       PREFIX prov: <http://www.w3.org/ns/prov#>\n",
    "       PREFIX rdf: <http://www.w3.org/1999/02/22-rdf-syntax-ns#>\n",
    "       PREFIX rdfs: <http://www.w3.org/2000/01/rdf-schema#>\n",
    "       PREFIX schema: <http://schema.org/>\n",
    "       PREFIX sh: <http://www.w3.org/ns/shacl#>\n",
    "       PREFIX shsh: <http://www.w3.org/ns/shacl-shacl#>\n",
    "       PREFIX skos: <http://www.w3.org/2004/02/skos/core#>\n",
    "       PREFIX vann: <http://purl.org/vocab/vann/>\n",
    "       PREFIX void: <http://rdfs.org/ns/void#>\n",
    "       PREFIX xml: <http://www.w3.org/XML/1998/namespace/>\n",
    "       PREFIX xsd: <http://www.w3.org/2001/XMLSchema#>\n",
    "   \n",
    "   \n",
    "       SELECT \n",
    "           ?brain_region_label \n",
    "           ?brain_region_id \n",
    "           ?species_label\n",
    "           ?species_id\n",
    "           ?m_type_label\n",
    "           ?m_type_id\n",
    "           ?e_type_label\n",
    "           ?e_type_id\n",
    "           ?t_type_label\n",
    "           ?t_type_id\n",
    "           ?t_type_source\n",
    "           ?transmitter_type_label\n",
    "           ?transmitter_type_id\n",
    "   \n",
    "       WHERE {{\n",
    "            ?m_type_id rdfs:subClassOf* <https://bbp.epfl.ch/ontologies/core/bmo/NeuronMorphologicalType> ;\n",
    "                       rdfs:label ?m_type_label .\n",
    "               \n",
    "               \n",
    "            OPTIONAL {{ \n",
    "               ?m_type_id rdfs:subClassOf* ?region_restriction .\n",
    "               ?region_restriction a owl:Restriction ;\n",
    "                   owl:onProperty bmo:canBeLocatedInBrainRegion ;\n",
    "                   owl:someValuesFrom ?brain_region_id .\n",
    "                }} .\n",
    "                   \n",
    "            OPTIONAL {{\n",
    "               ?m_type_id rdfs:subClassOf* ?transmitter_restriction .\n",
    "               ?transmitter_restriction a owl:Restriction ;\n",
    "                   owl:onProperty <https://bbp.epfl.ch/ontologies/core/mtypes/hasNeurotransmitterType> ;\n",
    "                   owl:someValuesFrom ?transmitter_type_id .\n",
    "               ?transmitter_type_id rdfs:label ?transmitter_type_label .\n",
    "               }} .\n",
    "               \n",
    "            OPTIONAL {{\n",
    "            \n",
    "                ?m_type_id rdfs:subClassOf* ?species_restriction .\n",
    "                ?species_restriction a owl:Restriction ;\n",
    "                   owl:onProperty <https://neuroshapes.org/hasInstanceInSpecies> ;\n",
    "                   owl:someValuesFrom ?species_id .\n",
    "                ?species_id rdfs:label ?species_label .\n",
    "            }} .\n",
    "            \n",
    "            OPTIONAL {{\n",
    "            \n",
    "                ?e_type_id rdfs:subClassOf* ?mtype_restriction .\n",
    "                ?mtype_restriction a owl:Restriction ;\n",
    "                   owl:onProperty <https://bbp.epfl.ch/ontologies/core/bmo/canHaveMType> ;\n",
    "                   owl:someValuesFrom ?m_type_id .\n",
    "                ?e_type_id rdfs:label ?e_type_label .\n",
    "            }} .\n",
    "            \n",
    "            OPTIONAL {{\n",
    "            \n",
    "                ?m_type_id rdfs:subClassOf* ?ttype_restriction .\n",
    "                ?ttype_restriction a owl:Restriction ;\n",
    "                   owl:onProperty <https://bbp.epfl.ch/ontologies/core/bmo/canHaveTType> ;\n",
    "                   owl:someValuesFrom ?t_type_id .\n",
    "                ?t_type_id rdfs:label ?t_type_label .\n",
    "                \n",
    "                OPTIONAL {{\n",
    "                    ?m_type_id rdfs:seeAlso ?cell_type_source \n",
    "                }} .\n",
    "                \n",
    "            }} .\n",
    "            \n",
    "            FILTER NOT EXISTS {{ ?s rdfs:subClassOf ?m_type_id }} .\n",
    "\n",
    "       }}\n",
    "         LIMIT 1000\n",
    "    \"\"\""
   ]
  },
  {
   "cell_type": "code",
   "execution_count": null,
   "metadata": {},
   "outputs": [],
   "source": [
    "rows = list()\n",
    "query = query\n",
    "result = cell_types_ontology.query(query)\n",
    "for row in result:\n",
    "    rows.append(row)"
   ]
  },
  {
   "cell_type": "markdown",
   "metadata": {},
   "source": [
    "## Save to excel"
   ]
  },
  {
   "cell_type": "code",
   "execution_count": null,
   "metadata": {},
   "outputs": [],
   "source": [
    "df = pd.DataFrame(rows, columns=[\"brain_region_label\", \n",
    "                             \"brain_region_id\", \n",
    "                             \"species_label\",\n",
    "                             \"species_id\",\n",
    "                             \"m_type_label\",\n",
    "                             \"m_type_id\",\n",
    "                             \"e_type_label\",\n",
    "                             \"e_type_id\",\n",
    "                             \"t_type_label\",\n",
    "                             \"t_type_id\",\n",
    "                             \"t_type_source\",\n",
    "                             \"transmitter_type_label\",\n",
    "                             \"transmitter_type_id\",\n",
    "                             \n",
    "                             ]) "
   ]
  },
  {
   "cell_type": "code",
   "execution_count": null,
   "metadata": {},
   "outputs": [],
   "source": [
    "df.head()"
   ]
  },
  {
   "cell_type": "code",
   "execution_count": null,
   "metadata": {},
   "outputs": [],
   "source": [
    "for row in df.iterrows():\n",
    "    br_id = str(row[1].brain_region_id)\n",
    "    if br_id:\n",
    "        for s, p, o in brainregion_ontology.triples((rdflib.term.URIRef(br_id), RDFS.label, None)):\n",
    "            row[1].brain_region_label = o"
   ]
  },
  {
   "cell_type": "code",
   "execution_count": null,
   "metadata": {},
   "outputs": [],
   "source": [
    "for row in df.iterrows():\n",
    "    m_id = str(row[1].m_type_id)\n",
    "    if m_id:\n",
    "        for s, p, o in cell_types_ontology.triples((rdflib.term.URIRef(m_id), RDFS.label, None)):\n",
    "            row[1].m_type_label = o"
   ]
  },
  {
   "cell_type": "code",
   "execution_count": null,
   "metadata": {},
   "outputs": [],
   "source": [
    "df.to_excel(\"./celltypes.xlsx\")"
   ]
  },
  {
   "cell_type": "markdown",
   "metadata": {},
   "source": [
    "# Using Nexus"
   ]
  },
  {
   "cell_type": "markdown",
   "metadata": {},
   "source": [
    "## Setup"
   ]
  },
  {
   "cell_type": "code",
   "execution_count": null,
   "metadata": {},
   "outputs": [],
   "source": [
    "TOKEN = getpass.getpass()"
   ]
  },
  {
   "cell_type": "code",
   "execution_count": null,
   "metadata": {},
   "outputs": [],
   "source": [
    "forge = KnowledgeGraphForge(\"https://raw.githubusercontent.com/BlueBrain/nexus-forge/master/examples/notebooks/use-cases/prod-forge-nexus.yml\",\n",
    "                            endpoint=\"https://staging.nise.bbp.epfl.ch/nexus/v1\",\n",
    "                            bucket=\"neurosciencegraph/datamodels\",\n",
    "                            token=TOKEN)"
   ]
  },
  {
   "cell_type": "markdown",
   "metadata": {},
   "source": [
    "## Query"
   ]
  },
  {
   "cell_type": "code",
   "execution_count": null,
   "metadata": {
    "tags": []
   },
   "outputs": [],
   "source": [
    "query = f\"\"\"\n",
    "        \n",
    "       PREFIX bmc: <https://bbp.epfl.ch/ontologies/core/bmc/>\n",
    "       PREFIX bmo: <https://bbp.epfl.ch/ontologies/core/bmo/>\n",
    "       PREFIX commonshapes: <https://neuroshapes.org/commons/>\n",
    "       PREFIX datashapes: <https://neuroshapes.org/dash/>\n",
    "       PREFIX dc: <http://purl.org/dc/elements/1.1/>\n",
    "       PREFIX dcat: <http://www.w3.org/ns/dcat#>\n",
    "       PREFIX dcterms: <http://purl.org/dc/terms/>\n",
    "       PREFIX mba: <http://api.brain-map.org/api/v2/data/Structure/>\n",
    "       PREFIX nsg: <https://neuroshapes.org/>\n",
    "       PREFIX nxv: <https://bluebrain.github.io/nexus/vocabulary/>\n",
    "       PREFIX oa: <http://www.w3.org/ns/oa#>\n",
    "       PREFIX obo: <http://purl.obolibrary.org/obo/>\n",
    "       PREFIX owl: <http://www.w3.org/2002/07/owl#>\n",
    "       PREFIX prov: <http://www.w3.org/ns/prov#>\n",
    "       PREFIX rdf: <http://www.w3.org/1999/02/22-rdf-syntax-ns#>\n",
    "       PREFIX rdfs: <http://www.w3.org/2000/01/rdf-schema#>\n",
    "       PREFIX schema: <http://schema.org/>\n",
    "       PREFIX sh: <http://www.w3.org/ns/shacl#>\n",
    "       PREFIX shsh: <http://www.w3.org/ns/shacl-shacl#>\n",
    "       PREFIX skos: <http://www.w3.org/2004/02/skos/core#>\n",
    "       PREFIX vann: <http://purl.org/vocab/vann/>\n",
    "       PREFIX void: <http://rdfs.org/ns/void#>\n",
    "       PREFIX xml: <http://www.w3.org/XML/1998/namespace/>\n",
    "       PREFIX xsd: <http://www.w3.org/2001/XMLSchema#> \n",
    "       \n",
    "       SELECT DISTINCT\n",
    "           ?brain_region_label \n",
    "           ?brain_region_id \n",
    "           ?species_label\n",
    "           ?species_id\n",
    "           ?m_type_label\n",
    "           ?m_type_id\n",
    "           ?e_type_label\n",
    "           ?e_type_id\n",
    "           ?t_type_label\n",
    "           ?t_type_id\n",
    "           ?t_type_source\n",
    "           ?transmitter_type_label\n",
    "           ?transmitter_type_id\n",
    "   \n",
    "       WHERE {{\n",
    "               \n",
    "               ?m_type_id rdfs:subClassOf* <https://bbp.epfl.ch/ontologies/core/bmo/NeuronMorphologicalType> ;\n",
    "               rdfs:label ?m_type_label ;\n",
    "               <https://bluebrain.github.io/nexus/vocabulary/deprecated> False ;\n",
    "               <https://bluebrain.github.io/nexus/vocabulary/updatedAt> ?date .\n",
    "               \n",
    "               FILTER (?date > \"2022-10-29T00:00:00+00:00\"^^xsd:dateTime)\n",
    "                              \n",
    "               OPTIONAL {{ ?m_type_id rdfs:subClassOf* / bmo:canBeLocatedInBrainRegion ?brain_region_id .\n",
    "               ?brain_region_id rdfs:label ?brain_region_label .\n",
    "               }}\n",
    "                   \n",
    "               OPTIONAL {{ ?m_type_id rdfs:subClassOf* / <https://bbp.epfl.ch/ontologies/core/mtypes/hasNeurotransmitterType> ?transmitter_type_id .\n",
    "               ?transmitter_type_id rdfs:label ?transmitter_type_label .\n",
    "               }}\n",
    "            \n",
    "               OPTIONAL {{ ?e_type_id rdfs:subClassOf* <https://bbp.epfl.ch/ontologies/core/bmo/NeuronElectricalType> ;\n",
    "                   <https://bluebrain.github.io/nexus/vocabulary/deprecated> False ;\n",
    "                   bmo:canHaveMType ?m_type_id ;\n",
    "                   rdfs:label ?e_type_label .            \n",
    "               }}\n",
    "               \n",
    "               OPTIONAL {{ ?m_type_id bmo:canHaveTType ?t_type_id .\n",
    "                   ?t_type_id rdfs:label ?t_type_label .\n",
    "                   \n",
    "                   OPTIONAL {{ ?e_type_id bmo:canHaveTType ?t_type_id ;\n",
    "                       rdfs:subClassOf* <https://bbp.epfl.ch/ontologies/core/bmo/NeuronElectricalType> ;\n",
    "                       <https://bluebrain.github.io/nexus/vocabulary/deprecated> False ;\n",
    "                       bmo:canHaveMType ?m_type_id ;\n",
    "                       rdfs:label ?e_type_label .\n",
    "                    }}\n",
    "                   OPTIONAL {{\n",
    "                       ?t_type_id rdfs:seeAlso ?t_type_source .\n",
    "                   }} .\n",
    "               }}\n",
    "               \n",
    "               FILTER NOT EXISTS {{ ?s rdfs:subClassOf ?m_type_id }} .\n",
    "               \n",
    "       }}\n",
    "\n",
    "    \"\"\""
   ]
  },
  {
   "cell_type": "code",
   "execution_count": null,
   "metadata": {},
   "outputs": [],
   "source": [
    "resources = forge.sparql(query, limit=100000, rewrite=False, debug=False)"
   ]
  },
  {
   "cell_type": "code",
   "execution_count": null,
   "metadata": {},
   "outputs": [],
   "source": [
    "len(resources)"
   ]
  },
  {
   "cell_type": "code",
   "execution_count": null,
   "metadata": {},
   "outputs": [],
   "source": [
    "df = forge.as_dataframe(resources)"
   ]
  },
  {
   "cell_type": "code",
   "execution_count": null,
   "metadata": {},
   "outputs": [],
   "source": [
    "df"
   ]
  },
  {
   "cell_type": "code",
   "execution_count": null,
   "metadata": {},
   "outputs": [],
   "source": [
    "df.describe()"
   ]
  },
  {
   "cell_type": "code",
   "execution_count": null,
   "metadata": {},
   "outputs": [],
   "source": [
    "df"
   ]
  },
  {
   "cell_type": "code",
   "execution_count": null,
   "metadata": {},
   "outputs": [],
   "source": [
    "df.to_excel(\"/Users/akkaufma/Desktop/celltypes_nexus.xlsx\")"
   ]
  },
  {
   "cell_type": "markdown",
   "metadata": {},
   "source": [
    "## Supplemental e-types"
   ]
  },
  {
   "cell_type": "code",
   "execution_count": null,
   "metadata": {},
   "outputs": [],
   "source": [
    "query = f\"\"\"\n",
    "        \n",
    "       PREFIX bmc: <https://bbp.epfl.ch/ontologies/core/bmc/>\n",
    "       PREFIX bmo: <https://bbp.epfl.ch/ontologies/core/bmo/>\n",
    "       PREFIX commonshapes: <https://neuroshapes.org/commons/>\n",
    "       PREFIX datashapes: <https://neuroshapes.org/dash/>\n",
    "       PREFIX dc: <http://purl.org/dc/elements/1.1/>\n",
    "       PREFIX dcat: <http://www.w3.org/ns/dcat#>\n",
    "       PREFIX dcterms: <http://purl.org/dc/terms/>\n",
    "       PREFIX mba: <http://api.brain-map.org/api/v2/data/Structure/>\n",
    "       PREFIX nsg: <https://neuroshapes.org/>\n",
    "       PREFIX nxv: <https://bluebrain.github.io/nexus/vocabulary/>\n",
    "       PREFIX oa: <http://www.w3.org/ns/oa#>\n",
    "       PREFIX obo: <http://purl.obolibrary.org/obo/>\n",
    "       PREFIX owl: <http://www.w3.org/2002/07/owl#>\n",
    "       PREFIX prov: <http://www.w3.org/ns/prov#>\n",
    "       PREFIX rdf: <http://www.w3.org/1999/02/22-rdf-syntax-ns#>\n",
    "       PREFIX rdfs: <http://www.w3.org/2000/01/rdf-schema#>\n",
    "       PREFIX schema: <http://schema.org/>\n",
    "       PREFIX sh: <http://www.w3.org/ns/shacl#>\n",
    "       PREFIX shsh: <http://www.w3.org/ns/shacl-shacl#>\n",
    "       PREFIX skos: <http://www.w3.org/2004/02/skos/core#>\n",
    "       PREFIX vann: <http://purl.org/vocab/vann/>\n",
    "       PREFIX void: <http://rdfs.org/ns/void#>\n",
    "       PREFIX xml: <http://www.w3.org/XML/1998/namespace/>\n",
    "       PREFIX xsd: <http://www.w3.org/2001/XMLSchema#> \n",
    "       \n",
    "       SELECT DISTINCT\n",
    "           ?brain_region_label \n",
    "           ?brain_region_id \n",
    "           ?species_label\n",
    "           ?species_id\n",
    "           ?m_type_label\n",
    "           ?m_type_id\n",
    "           ?e_type_label\n",
    "           ?e_type_id\n",
    "           ?t_type_label\n",
    "           ?t_type_id\n",
    "           ?t_type_source\n",
    "           ?transmitter_type_label\n",
    "           ?transmitter_type_id\n",
    "   \n",
    "       WHERE {{\n",
    "\n",
    "               ?e_type_id rdfs:subClassOf* <https://bbp.epfl.ch/ontologies/core/bmo/NeuronElectricalType> ;\n",
    "                   <https://bluebrain.github.io/nexus/vocabulary/deprecated> False ;\n",
    "                   rdfs:label ?e_type_label .   \n",
    "               \n",
    "               OPTIONAL {{ ?e_type_id rdfs:subClassOf* / bmo:canBeLocatedInBrainRegion ?brain_region_id .\n",
    "               ?brain_region_id rdfs:label ?brain_region_label .\n",
    "               }}\n",
    "                             \n",
    "               FILTER NOT EXISTS {{ ?s rdfs:subClassOf ?e_type_id }} .\n",
    "               \n",
    "               ?e_type_id <https://bluebrain.github.io/nexus/vocabulary/updatedAt> ?date .\n",
    "               FILTER (?date > \"2022-10-29T00:00:00+00:00\"^^xsd:dateTime)\n",
    "               \n",
    "       }}\n",
    "\n",
    "    \"\"\""
   ]
  },
  {
   "cell_type": "code",
   "execution_count": null,
   "metadata": {},
   "outputs": [],
   "source": [
    "etypes = forge.sparql(query, limit=100000, rewrite=False, debug=False)"
   ]
  },
  {
   "cell_type": "code",
   "execution_count": null,
   "metadata": {},
   "outputs": [],
   "source": [
    "df_2 = forge.as_dataframe(etypes)"
   ]
  },
  {
   "cell_type": "code",
   "execution_count": null,
   "metadata": {},
   "outputs": [],
   "source": [
    "df_2"
   ]
  },
  {
   "cell_type": "code",
   "execution_count": null,
   "metadata": {},
   "outputs": [],
   "source": [
    "for row in df_2.iterrows():\n",
    "    if row[1].e_type_id not in df.e_type_id.to_list():\n",
    "        e_type_id = el\n",
    "        e_type_label = forge.retrieve(el).label\n",
    "        df = df.append(df_2.iloc[row[0]])"
   ]
  },
  {
   "cell_type": "code",
   "execution_count": null,
   "metadata": {},
   "outputs": [],
   "source": [
    "df = df.drop(columns=[0, 1, 2, 3, 4, 5, 6, 7, 8, 9, 10])"
   ]
  },
  {
   "cell_type": "code",
   "execution_count": null,
   "metadata": {},
   "outputs": [],
   "source": [
    "df"
   ]
  },
  {
   "cell_type": "code",
   "execution_count": null,
   "metadata": {},
   "outputs": [],
   "source": [
    "df.to_excel(\"./celltypes_nexus.xlsx\")"
   ]
  },
  {
   "cell_type": "markdown",
   "metadata": {},
   "source": [
    "## Without t-types"
   ]
  },
  {
   "cell_type": "code",
   "execution_count": null,
   "metadata": {
    "tags": []
   },
   "outputs": [],
   "source": [
    "query = f\"\"\"\n",
    "        \n",
    "       PREFIX bmc: <https://bbp.epfl.ch/ontologies/core/bmc/>\n",
    "       PREFIX bmo: <https://bbp.epfl.ch/ontologies/core/bmo/>\n",
    "       PREFIX commonshapes: <https://neuroshapes.org/commons/>\n",
    "       PREFIX datashapes: <https://neuroshapes.org/dash/>\n",
    "       PREFIX dc: <http://purl.org/dc/elements/1.1/>\n",
    "       PREFIX dcat: <http://www.w3.org/ns/dcat#>\n",
    "       PREFIX dcterms: <http://purl.org/dc/terms/>\n",
    "       PREFIX mba: <http://api.brain-map.org/api/v2/data/Structure/>\n",
    "       PREFIX nsg: <https://neuroshapes.org/>\n",
    "       PREFIX nxv: <https://bluebrain.github.io/nexus/vocabulary/>\n",
    "       PREFIX oa: <http://www.w3.org/ns/oa#>\n",
    "       PREFIX obo: <http://purl.obolibrary.org/obo/>\n",
    "       PREFIX owl: <http://www.w3.org/2002/07/owl#>\n",
    "       PREFIX prov: <http://www.w3.org/ns/prov#>\n",
    "       PREFIX rdf: <http://www.w3.org/1999/02/22-rdf-syntax-ns#>\n",
    "       PREFIX rdfs: <http://www.w3.org/2000/01/rdf-schema#>\n",
    "       PREFIX schema: <http://schema.org/>\n",
    "       PREFIX sh: <http://www.w3.org/ns/shacl#>\n",
    "       PREFIX shsh: <http://www.w3.org/ns/shacl-shacl#>\n",
    "       PREFIX skos: <http://www.w3.org/2004/02/skos/core#>\n",
    "       PREFIX vann: <http://purl.org/vocab/vann/>\n",
    "       PREFIX void: <http://rdfs.org/ns/void#>\n",
    "       PREFIX xml: <http://www.w3.org/XML/1998/namespace/>\n",
    "       PREFIX xsd: <http://www.w3.org/2001/XMLSchema#> \n",
    "       \n",
    "       SELECT DISTINCT\n",
    "           ?brain_region_label \n",
    "           ?brain_region_id \n",
    "           ?species_label\n",
    "           ?species_id\n",
    "           ?m_type_label\n",
    "           ?m_type_id\n",
    "           ?e_type_label\n",
    "           ?e_type_id\n",
    "           ?transmitter_type_label\n",
    "           ?transmitter_type_id\n",
    "   \n",
    "       WHERE {{\n",
    "               \n",
    "               ?m_type_id rdfs:subClassOf* <https://bbp.epfl.ch/ontologies/core/bmo/NeuronMorphologicalType> ;\n",
    "               rdfs:label ?m_type_label ;\n",
    "               <https://bluebrain.github.io/nexus/vocabulary/deprecated> False ;\n",
    "               <https://bluebrain.github.io/nexus/vocabulary/updatedAt> ?date .\n",
    "               \n",
    "               FILTER (?date > \"2022-10-29T00:00:00+00:00\"^^xsd:dateTime)\n",
    "                              \n",
    "               OPTIONAL {{ ?m_type_id rdfs:subClassOf* / bmo:canBeLocatedInBrainRegion ?brain_region_id .\n",
    "               ?brain_region_id rdfs:label ?brain_region_label .\n",
    "               }}\n",
    "                   \n",
    "               OPTIONAL {{ ?m_type_id rdfs:subClassOf* / <https://bbp.epfl.ch/ontologies/core/mtypes/hasNeurotransmitterType> ?transmitter_type_id .\n",
    "               ?transmitter_type_id rdfs:label ?transmitter_type_label .\n",
    "               }}\n",
    "            \n",
    "               OPTIONAL {{ ?e_type_id rdfs:subClassOf* <https://bbp.epfl.ch/ontologies/core/bmo/NeuronElectricalType> ;\n",
    "                   <https://bluebrain.github.io/nexus/vocabulary/deprecated> False ;\n",
    "                   bmo:canHaveMType ?m_type_id ;\n",
    "                   rdfs:label ?e_type_label .            \n",
    "               }}\n",
    "               \n",
    "               FILTER NOT EXISTS {{ ?s rdfs:subClassOf ?m_type_id }} .\n",
    "               \n",
    "       }}\n",
    "\n",
    "    \"\"\""
   ]
  },
  {
   "cell_type": "code",
   "execution_count": null,
   "metadata": {},
   "outputs": [],
   "source": [
    "resources = forge.sparql(query, limit=100000, rewrite=False, debug=False)"
   ]
  },
  {
   "cell_type": "code",
   "execution_count": null,
   "metadata": {},
   "outputs": [],
   "source": [
    "len(resources)"
   ]
  },
  {
   "cell_type": "code",
   "execution_count": null,
   "metadata": {},
   "outputs": [],
   "source": [
    "df = forge.as_dataframe(resources)"
   ]
  },
  {
   "cell_type": "code",
   "execution_count": null,
   "metadata": {},
   "outputs": [],
   "source": [
    "df"
   ]
  },
  {
   "cell_type": "code",
   "execution_count": null,
   "metadata": {},
   "outputs": [],
   "source": [
    "df.describe()"
   ]
  },
  {
   "cell_type": "code",
   "execution_count": null,
   "metadata": {},
   "outputs": [],
   "source": [
    "df.to_excel(\"/Users/akkaufma/Desktop/celltypes_nexus_2.xlsx\")"
   ]
  }
 ],
 "metadata": {
  "kernelspec": {
   "display_name": "Python (20210819)",
   "language": "python",
   "name": "20210819"
  },
  "language_info": {
   "codemirror_mode": {
    "name": "ipython",
    "version": 3
   },
   "file_extension": ".py",
   "mimetype": "text/x-python",
   "name": "python",
   "nbconvert_exporter": "python",
   "pygments_lexer": "ipython3",
   "version": "3.7.11"
  }
 },
 "nbformat": 4,
 "nbformat_minor": 4
}
