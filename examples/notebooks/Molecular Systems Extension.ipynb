{
 "cells": [
  {
   "cell_type": "code",
   "execution_count": null,
   "metadata": {},
   "outputs": [],
   "source": [
    "import getpass\n",
    "import rdflib\n",
    "from rdflib import RDFS\n",
    "\n",
    "from bmo.neo4j import ontology_to_neo4j\n",
    "from bmo.ontologies import normalize_uris"
   ]
  },
  {
   "cell_type": "code",
   "execution_count": null,
   "metadata": {},
   "outputs": [],
   "source": [
    "g = rdflib.Graph()\n",
    "g.parse(\"/Users/oshurko/Downloads/cell-transcriptome-types-(latest)-ontologies-ttl-REVISION-HEAD/ttypes.ttl\", format=\"turtle\")"
   ]
  },
  {
   "cell_type": "code",
   "execution_count": null,
   "metadata": {},
   "outputs": [],
   "source": [
    "import json\n",
    "with open(\"/Users/oshurko/Desktop/dend.json\", \"r\") as f:\n",
    "    hierarchy = json.load(f)"
   ]
  },
  {
   "cell_type": "code",
   "execution_count": null,
   "metadata": {},
   "outputs": [],
   "source": [
    "global_father = rdflib.URIRef(\"https://bbp.epfl.ch/ontologies/core/ttypes/AllenTranscriptomeType\")"
   ]
  },
  {
   "cell_type": "code",
   "execution_count": null,
   "metadata": {},
   "outputs": [],
   "source": [
    "RDFS.subClassOf"
   ]
  },
  {
   "cell_type": "code",
   "execution_count": null,
   "metadata": {},
   "outputs": [],
   "source": [
    "nodes = {}\n",
    "edges = set()\n",
    "\n",
    "def extract_edges(h, father=None):\n",
    "    if \"children\" in h:\n",
    "        for child in h['children']:\n",
    "            attrs = (\n",
    "                child[\"node_attributes\"][0]\n",
    "                if \"node_attributes\" in child\n",
    "                else child[\"leaf_attributes\"][0]\n",
    "            )\n",
    "            print(attrs)\n",
    "            current_node = attrs[\"cell_set_alias\"]\n",
    "            if current_node:\n",
    "                nodes[current_node] = (\n",
    "                    child[\"node_attributes\"][0]\n",
    "                    if \"node_attributes\" in child\n",
    "                    else child[\"leaf_attributes\"][0]\n",
    "                )\n",
    "                if father:\n",
    "                    edges.add((current_node, father))\n",
    "            extract_edges(child, current_node)"
   ]
  },
  {
   "cell_type": "code",
   "execution_count": null,
   "metadata": {},
   "outputs": [],
   "source": [
    "extract_edges(hierarchy)"
   ]
  },
  {
   "cell_type": "code",
   "execution_count": null,
   "metadata": {},
   "outputs": [],
   "source": [
    "edges"
   ]
  },
  {
   "cell_type": "code",
   "execution_count": null,
   "metadata": {},
   "outputs": [],
   "source": [
    "hierarchy['node_attributes']"
   ]
  },
  {
   "cell_type": "code",
   "execution_count": null,
   "metadata": {},
   "outputs": [],
   "source": [
    "hierarchy['children'][1]['node_attributes']"
   ]
  },
  {
   "cell_type": "markdown",
   "metadata": {},
   "source": [
    "# Merge BMO and Molecular Systems Ontology"
   ]
  },
  {
   "cell_type": "code",
   "execution_count": null,
   "metadata": {},
   "outputs": [],
   "source": [
    "g = rdflib.Graph()\n",
    "g.parse(\"../../ontologies/bbp/bmo.ttl\", format=\"turtle\")\n",
    "g.parse(\"../../ontologies/bbp/molecular-systems.ttl\", format=\"turtle\")\n",
    "# g.parse(\"../../ontologies/bbp/etypes.ttl\", format=\"turtle\")\n",
    "# # g.parse(\"../../ontologies/bbp/mtypes.ttl\", format=\"turtle\")\n",
    "# g.parse(\"../../ontologies/bbp/efeatures.ttl\", format=\"turtle\")\n",
    "# g.parse(\"../../ontologies/bbp/mfeatures.ttl\", format=\"turtle\")\n",
    "# # g.parse(\"../../ontologies/bbp/stimulustypes.ttl\", format=\"turtle\")"
   ]
  },
  {
   "cell_type": "markdown",
   "metadata": {},
   "source": [
    "# Import into Neo4j"
   ]
  },
  {
   "cell_type": "code",
   "execution_count": null,
   "metadata": {},
   "outputs": [],
   "source": [
    "uri = \"bolt://127.0.0.1:7687\"\n",
    "username = \"neo4j\""
   ]
  },
  {
   "cell_type": "code",
   "execution_count": null,
   "metadata": {},
   "outputs": [],
   "source": [
    "password = getpass.getpass()"
   ]
  },
  {
   "cell_type": "code",
   "execution_count": null,
   "metadata": {
    "scrolled": false
   },
   "outputs": [],
   "source": [
    "ontology_to_neo4j(uri, username, password, rdf_graph=g)"
   ]
  }
 ],
 "metadata": {
  "kernelspec": {
   "display_name": "bg",
   "language": "python",
   "name": "bg"
  },
  "language_info": {
   "codemirror_mode": {
    "name": "ipython",
    "version": 3
   },
   "file_extension": ".py",
   "mimetype": "text/x-python",
   "name": "python",
   "nbconvert_exporter": "python",
   "pygments_lexer": "ipython3",
   "version": "3.7.10"
  }
 },
 "nbformat": 4,
 "nbformat_minor": 4
}
