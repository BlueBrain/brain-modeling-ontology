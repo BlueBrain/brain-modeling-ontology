{
 "cells": [
  {
   "cell_type": "markdown",
   "metadata": {},
   "source": [
    "# TfIdf-based lexical embedding pipeline\n",
    "\n",
    "In this example notebook we will illustrate how Tf-Idf encoding based on character n-grams of aliases from the [NCIt](https://ncithesaurus.nci.nih.gov/ncitbrowser/) ontology can be used to constuct embeddings of words and lexical similarity search using BlueGraph's `EmbeddingPipeline`."
   ]
  },
  {
   "cell_type": "code",
   "execution_count": 45,
   "metadata": {},
   "outputs": [],
   "source": [
    "import math\n",
    "import os\n",
    "import random\n",
    "import time\n",
    "from collections import defaultdict\n",
    "\n",
    "import json\n",
    "\n",
    "import rdflib\n",
    "from rdflib import RDFS, XSD\n",
    "\n",
    "import numpy as np\n",
    "import pandas as pd\n",
    "import zipfile\n",
    "\n",
    "from joblib import parallel_backend\n",
    "\n",
    "from sklearn.decomposition import PCA, TruncatedSVD\n",
    "from scipy.sparse import vstack\n",
    "\n",
    "from bluegraph import PandasPGFrame\n",
    "from bluegraph.core.utils import Preprocessor\n",
    "from bluegraph.downstream import EmbeddingPipeline\n",
    "from bluegraph.downstream.similarity import SimilarityProcessor\n",
    "from bluegraph.preprocess.utils import TfIdfEncoder"
   ]
  },
  {
   "cell_type": "markdown",
   "metadata": {},
   "source": [
    "## Helpers"
   ]
  },
  {
   "cell_type": "code",
   "execution_count": 39,
   "metadata": {},
   "outputs": [],
   "source": [
    "def find_uri_by_label(graph, label, lang=\"en\", dtype=XSD.string):\n",
    "    params = [\n",
    "        {},\n",
    "        {\"lang\": \"en\"},\n",
    "        {\"datatype\": dtype},\n",
    "        {\"lang\": \"en\", \"datatype\": dtype}\n",
    "    ]\n",
    "    resource = None\n",
    "    for param_set in params:\n",
    "        for s in graph.subjects(RDFS.label, rdflib.Literal(label, **param_set)):\n",
    "            resource = str(s)\n",
    "            break\n",
    "        if resource is not None:\n",
    "            break\n",
    "    \n",
    "    return resource"
   ]
  },
  {
   "cell_type": "markdown",
   "metadata": {},
   "source": [
    "Load the ontology"
   ]
  },
  {
   "cell_type": "code",
   "execution_count": 4,
   "metadata": {},
   "outputs": [
    {
     "data": {
      "text/plain": [
       "<Graph identifier=N2f60d9c3c2fa40d598bc1025921a67ef (<class 'rdflib.graph.Graph'>)>"
      ]
     },
     "execution_count": 4,
     "metadata": {},
     "output_type": "execute_result"
    }
   ],
   "source": [
    "ontology_graph = rdflib.Graph()\n",
    "ontology_graph.parse(\"../../ontologies/bbp/brain-modeling-ontology.ttl\", format=\"ttl\")\n",
    "ontology_graph.parse(\"../../ontologies/bbp/molecular-systems-ontology.ttl\", format=\"ttl\")\n",
    "ontology_graph.parse(\"../../ontologies/bbp/etypes.ttl\", format=\"ttl\")\n",
    "ontology_graph.parse(\"../../ontologies/bbp/mtypes.ttl\", format=\"ttl\")"
   ]
  },
  {
   "cell_type": "code",
   "execution_count": 10,
   "metadata": {},
   "outputs": [],
   "source": [
    "frame = PandasPGFrame.from_ontology(rdf_graph=ontology_graph, remove_prop_uris=True)"
   ]
  },
  {
   "cell_type": "code",
   "execution_count": 20,
   "metadata": {},
   "outputs": [],
   "source": [
    "ALIAS_PROPS = [\"label\", \"prefLabel\", \"synonym\", \"altLabel\"]"
   ]
  },
  {
   "cell_type": "markdown",
   "metadata": {},
   "source": [
    "Get all unique aliases (all lower case)"
   ]
  },
  {
   "cell_type": "code",
   "execution_count": 48,
   "metadata": {},
   "outputs": [],
   "source": [
    "alias_mapping = {}\n",
    "for node in frame.nodes():\n",
    "    record = frame._nodes.loc[node].to_dict()\n",
    "    for prop in ALIAS_PROPS:\n",
    "        if not isinstance(record[prop], float):\n",
    "            value = record[prop]\n",
    "            if isinstance(value, str):\n",
    "                alias_mapping[record[prop].lower()] = find_uri_by_label(ontology_graph, node)\n",
    "            else:\n",
    "                for el in value:\n",
    "                    alias_mapping[el.lower()] = find_uri_by_label(ontology_graph, node)"
   ]
  },
  {
   "cell_type": "code",
   "execution_count": 50,
   "metadata": {},
   "outputs": [],
   "source": [
    "aliases = list(alias_mapping.keys())"
   ]
  },
  {
   "cell_type": "code",
   "execution_count": 51,
   "metadata": {},
   "outputs": [
    {
     "data": {
      "text/plain": [
       "570"
      ]
     },
     "execution_count": 51,
     "metadata": {},
     "output_type": "execute_result"
    }
   ],
   "source": [
    "len(aliases)"
   ]
  },
  {
   "cell_type": "markdown",
   "metadata": {},
   "source": [
    "Specify Tf-Idf model parameters"
   ]
  },
  {
   "cell_type": "code",
   "execution_count": 55,
   "metadata": {},
   "outputs": [],
   "source": [
    "params = {\n",
    "    \"analyzer\": \"char\",\n",
    "    \"dtype\": np.float32,\n",
    "    \"max_df\": 1.0,\n",
    "    \"min_df\": 0.0001,\n",
    "    \"ngram_range\": (3, 3),\n",
    "    \"max_features\": 1024\n",
    "}"
   ]
  },
  {
   "cell_type": "markdown",
   "metadata": {},
   "source": [
    "Create an instance of `EmbeddingPipeline` using:\n",
    "\n",
    "- `TfIdfEncoder` as a preprocessor,\n",
    "- No embedder\n",
    "- BlueGraph `SimilarityProcessor` with Euclidean distance based on an index segmented into 100 Voronoi cells (more details can be found [here](https://github.com/facebookresearch/faiss/wiki/Faster-search))."
   ]
  },
  {
   "cell_type": "code",
   "execution_count": 56,
   "metadata": {},
   "outputs": [],
   "source": [
    "pipeline = EmbeddingPipeline(\n",
    "    preprocessor=TfIdfEncoder(params),\n",
    "    embedder=None,\n",
    "    similarity_processor=SimilarityProcessor(\n",
    "        similarity=\"euclidean\", dimension=1024, n_segments=200))"
   ]
  },
  {
   "cell_type": "markdown",
   "metadata": {},
   "source": [
    "Run fitting of the pipeline on the aliases."
   ]
  },
  {
   "cell_type": "code",
   "execution_count": 57,
   "metadata": {},
   "outputs": [
    {
     "name": "stderr",
     "output_type": "stream",
     "text": [
      "/Users/oshurko/opt/anaconda3/envs/bg/lib/python3.7/site-packages/bluegraph/downstream/similarity.py:171: SimilarityWarning: Similarity index is not trained, training on the provided vectors\n",
      "  SimilarityProcessor.SimilarityWarning)\n"
     ]
    }
   ],
   "source": [
    "pipeline.run_fitting(aliases, index=aliases)"
   ]
  },
  {
   "cell_type": "markdown",
   "metadata": {},
   "source": [
    "Save the pipeline."
   ]
  },
  {
   "cell_type": "code",
   "execution_count": 60,
   "metadata": {},
   "outputs": [],
   "source": [
    "pipeline.save(\"../data/BMO-linking\", compress=True)"
   ]
  },
  {
   "cell_type": "code",
   "execution_count": 61,
   "metadata": {},
   "outputs": [],
   "source": [
    "embedding_table = pipeline.generate_embedding_table()"
   ]
  },
  {
   "cell_type": "code",
   "execution_count": 62,
   "metadata": {},
   "outputs": [
    {
     "data": {
      "text/html": [
       "<div>\n",
       "<style scoped>\n",
       "    .dataframe tbody tr th:only-of-type {\n",
       "        vertical-align: middle;\n",
       "    }\n",
       "\n",
       "    .dataframe tbody tr th {\n",
       "        vertical-align: top;\n",
       "    }\n",
       "\n",
       "    .dataframe thead th {\n",
       "        text-align: right;\n",
       "    }\n",
       "</style>\n",
       "<table border=\"1\" class=\"dataframe\">\n",
       "  <thead>\n",
       "    <tr style=\"text-align: right;\">\n",
       "      <th></th>\n",
       "      <th>embedding</th>\n",
       "    </tr>\n",
       "    <tr>\n",
       "      <th>@id</th>\n",
       "      <th></th>\n",
       "    </tr>\n",
       "  </thead>\n",
       "  <tbody>\n",
       "    <tr>\n",
       "      <th>model brain parameter</th>\n",
       "      <td>[0.0, 0.0, 0.0, 0.0, 0.0, 0.0, 0.0, 0.0, 0.0, ...</td>\n",
       "    </tr>\n",
       "    <tr>\n",
       "      <th>layer 3 tufted pyramidal cell</th>\n",
       "      <td>[0.0, 0.0, 0.0, 0.28955737, 0.0, 0.0, 0.0, 0.0...</td>\n",
       "    </tr>\n",
       "    <tr>\n",
       "      <th>l5_lbc</th>\n",
       "      <td>[0.0, 0.0, 0.0, 0.0, 0.0, 0.0, 0.0, 0.0, 0.0, ...</td>\n",
       "    </tr>\n",
       "    <tr>\n",
       "      <th>layer 2/3 bitufted cell</th>\n",
       "      <td>[0.0, 0.0, 0.24943915, 0.0, 0.0, 0.0, 0.0, 0.0...</td>\n",
       "    </tr>\n",
       "    <tr>\n",
       "      <th>l6_tpc:a</th>\n",
       "      <td>[0.0, 0.0, 0.0, 0.0, 0.0, 0.0, 0.0, 0.0, 0.0, ...</td>\n",
       "    </tr>\n",
       "  </tbody>\n",
       "</table>\n",
       "</div>"
      ],
      "text/plain": [
       "                                                                       embedding\n",
       "@id                                                                             \n",
       "model brain parameter          [0.0, 0.0, 0.0, 0.0, 0.0, 0.0, 0.0, 0.0, 0.0, ...\n",
       "layer 3 tufted pyramidal cell  [0.0, 0.0, 0.0, 0.28955737, 0.0, 0.0, 0.0, 0.0...\n",
       "l5_lbc                         [0.0, 0.0, 0.0, 0.0, 0.0, 0.0, 0.0, 0.0, 0.0, ...\n",
       "layer 2/3 bitufted cell        [0.0, 0.0, 0.24943915, 0.0, 0.0, 0.0, 0.0, 0.0...\n",
       "l6_tpc:a                       [0.0, 0.0, 0.0, 0.0, 0.0, 0.0, 0.0, 0.0, 0.0, ..."
      ]
     },
     "execution_count": 62,
     "metadata": {},
     "output_type": "execute_result"
    }
   ],
   "source": [
    "embedding_table.sample(5)"
   ]
  },
  {
   "cell_type": "markdown",
   "metadata": {},
   "source": [
    "Retrieve embedding vectors for the trems of interest."
   ]
  },
  {
   "cell_type": "code",
   "execution_count": 92,
   "metadata": {},
   "outputs": [],
   "source": [
    "terms = [\n",
    "    \"l5_lbc\",\n",
    "    \"layer 5 bipolar cell\",\n",
    "    \"burst non-accommodating electrical type\",\n",
    "    \"lalala not in index\",\n",
    "    \"emodel building workflow\"\n",
    "]"
   ]
  },
  {
   "cell_type": "code",
   "execution_count": 93,
   "metadata": {},
   "outputs": [],
   "source": [
    "vectors = pipeline.retrieve_embeddings(terms)"
   ]
  },
  {
   "cell_type": "code",
   "execution_count": 94,
   "metadata": {},
   "outputs": [
    {
     "name": "stdout",
     "output_type": "stream",
     "text": [
      "Vector sizes: \n",
      "\t'l5_lbc': 1024\n",
      "\t'layer 5 bipolar cell': 1024\n",
      "\t'burst non-accommodating electrical type': 1024\n",
      "\t'lalala not in index': None\n",
      "\t'emodel building workflow': 1024\n"
     ]
    }
   ],
   "source": [
    "print(\"Vector sizes: \")\n",
    "for i, v in enumerate(vectors):\n",
    "    print(\"\\t'{}': {}\".format(terms[i], len(v) if v is not None else None))"
   ]
  },
  {
   "cell_type": "markdown",
   "metadata": {},
   "source": [
    "Get similar points to the query terms"
   ]
  },
  {
   "cell_type": "code",
   "execution_count": 101,
   "metadata": {},
   "outputs": [],
   "source": [
    "points, distances = pipeline.get_similar_points(\n",
    "    existing_indices=terms, k=3)"
   ]
  },
  {
   "cell_type": "code",
   "execution_count": 102,
   "metadata": {},
   "outputs": [
    {
     "name": "stdout",
     "output_type": "stream",
     "text": [
      "Similar terms to 'l5_lbc': \n",
      "\t- l5_lbc (ontology term http://uri.interlex.org/base/ilx_0383225)\n",
      "\t- l6_lbc (ontology term http://uri.interlex.org/base/ilx_0383233)\n",
      "\t- l4_lbc (ontology term http://uri.interlex.org/base/ilx_0383213)\n",
      "\n",
      "Similar terms to 'layer 5 bipolar cell': \n",
      "\t- layer 5 bipolar cell (ontology term http://uri.interlex.org/base/ilx_0383221)\n",
      "\t- layer 6 bipolar cell (ontology term http://bbp.epfl.ch/neurosciencegraph/ontologies/mtypes/GaBeBiJcTQqLpE8LFIPQlw)\n",
      "\t- layer 4 bipolar cell (ontology term http://uri.interlex.org/base/ilx_0383209)\n",
      "\n",
      "Similar terms to 'burst non-accommodating electrical type': \n",
      "\t- burst non-accommodating electrical type (ontology term http://uri.interlex.org/base/ilx_0738203)\n",
      "\t- burst accommodating electrical type (ontology term http://uri.interlex.org/base/ilx_0738199)\n",
      "\t- delayed non-accommodating electrical type (ontology term http://uri.interlex.org/base/ilx_0738205)\n",
      "\n",
      "Similar terms to 'lalala not in index': \n",
      "\t lalala not in index is not in index\n",
      "\n",
      "Similar terms to 'emodel building workflow': \n",
      "\t- emodel building workflow (ontology term https://bbp.epfl.ch/ontologies/core/bmo/EModelBuildingWorkflow)\n",
      "\t- model building workflow (ontology term https://bbp.epfl.ch/ontologies/core/bmo/ModelBuildingWorkflow)\n",
      "\t- cell building workflow (ontology term https://bbp.epfl.ch/ontologies/core/bmo/CellBuildingWorkflow)\n",
      "\n"
     ]
    }
   ],
   "source": [
    "for i, el in enumerate(terms):\n",
    "    print(f\"Similar terms to '{el}': \")\n",
    "    if points[i] is not None:\n",
    "        for p in points[i]:\n",
    "            print(f\"\\t- {p} (ontology term {alias_mapping[p]})\")\n",
    "    else:\n",
    "        print(f\"\\t {el} is not in index\")\n",
    "    print()"
   ]
  },
  {
   "cell_type": "markdown",
   "metadata": {},
   "source": [
    "Predict vectors for potentially unseen points"
   ]
  },
  {
   "cell_type": "code",
   "execution_count": 97,
   "metadata": {},
   "outputs": [],
   "source": [
    "terms_to_predict = [\n",
    "    \"bipolar cell\",\n",
    "    \"burst non-accommodating neuron\",\n",
    "    \"mariotti cell\",\n",
    "    \"e-model reconstruction workflow\"]"
   ]
  },
  {
   "cell_type": "code",
   "execution_count": 103,
   "metadata": {},
   "outputs": [],
   "source": [
    "vectors = pipeline.run_prediction(terms_to_predict)"
   ]
  },
  {
   "cell_type": "markdown",
   "metadata": {},
   "source": [
    "Get similar points for these vectors"
   ]
  },
  {
   "cell_type": "code",
   "execution_count": 104,
   "metadata": {},
   "outputs": [],
   "source": [
    "points, distances = pipeline.get_similar_points(vectors=vectors, k=3)"
   ]
  },
  {
   "cell_type": "code",
   "execution_count": 105,
   "metadata": {},
   "outputs": [
    {
     "name": "stdout",
     "output_type": "stream",
     "text": [
      "Similar terms to 'bipolar cell': \n",
      "\t- layer 6 bipolar cell (ontology term http://bbp.epfl.ch/neurosciencegraph/ontologies/mtypes/GaBeBiJcTQqLpE8LFIPQlw)\n",
      "\t- layer 5 bipolar cell (ontology term http://uri.interlex.org/base/ilx_0383221)\n",
      "\t- layer 4 bipolar cell (ontology term http://uri.interlex.org/base/ilx_0383209)\n",
      "\n",
      "Similar terms to 'burst non-accommodating neuron': \n",
      "\t- burst non-accommodating electrical type (ontology term http://uri.interlex.org/base/ilx_0738203)\n",
      "\t- delayed non-accommodating electrical type (ontology term http://uri.interlex.org/base/ilx_0738205)\n",
      "\t- continuous non-accommodating electrical type (ontology term http://uri.interlex.org/base/ilx_0738201)\n",
      "\n",
      "Similar terms to 'mariotti cell': \n",
      "\t- layer 6 martinotti cell (ontology term http://uri.interlex.org/base/ilx_0381374)\n",
      "\t- layer 2 martinotti cell (ontology term http://bbp.epfl.ch/neurosciencegraph/ontologies/mtypes/6LZqO1y_RCyflICMXG09iA)\n",
      "\t- layer 5 martinotti cell (ontology term http://uri.interlex.org/base/ilx_0381369)\n",
      "\n",
      "Similar terms to 'e-model reconstruction workflow': \n",
      "\t- model reaction simulation workflow (ontology term https://bbp.epfl.ch/ontologies/core/bmo/ModelReactionSimulationWorkflow)\n",
      "\t- emodel simulation workflow (ontology term https://bbp.epfl.ch/ontologies/core/bmo/EModelSimulationWorkflow)\n",
      "\t- emodel validation threshold (ontology term https://bbp.epfl.ch/ontologies/core/bmo/EModelValidationThreshold)\n",
      "\n"
     ]
    }
   ],
   "source": [
    "for i, el in enumerate(terms_to_predict):\n",
    "    print(f\"Similar terms to '{el}': \")\n",
    "    if points[i] is not None:\n",
    "        for p in points[i]:\n",
    "            print(f\"\\t- {p} (ontology term {alias_mapping[p]})\")\n",
    "    else:\n",
    "        print(f\"\\t {el} is not in index\")\n",
    "    print()"
   ]
  }
 ],
 "metadata": {
  "kernelspec": {
   "display_name": "bg",
   "language": "python",
   "name": "bg"
  },
  "language_info": {
   "codemirror_mode": {
    "name": "ipython",
    "version": 3
   },
   "file_extension": ".py",
   "mimetype": "text/x-python",
   "name": "python",
   "nbconvert_exporter": "python",
   "pygments_lexer": "ipython3",
   "version": "3.7.10"
  }
 },
 "nbformat": 4,
 "nbformat_minor": 4
}
