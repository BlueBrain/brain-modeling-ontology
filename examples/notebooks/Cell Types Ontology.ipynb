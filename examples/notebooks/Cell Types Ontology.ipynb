{
 "cells": [
  {
   "cell_type": "markdown",
   "metadata": {},
   "source": [
    "# Comments\n",
    "\n",
    "- AIBS CCFv3 terms currently have this shape:  `rdflib.term.Literal('Allen Transcriptome Type', datatype=rdflib.term.URIRef('http://www.w3.org/2001/XMLSchema#string'))` in the **Brain Region Ontology**\n",
    "- had to rename some of the references [here](https://docs.google.com/spreadsheets/d/1iUgqPszKkYQgkJlmpQSkeyFWcEoOxovsBkoLPtA3qPg/edit#gid=1180597294) to match how they are written in the \"Source of transcriptome\" column of the **Transcriptome Cell Type** sheet"
   ]
  },
  {
   "cell_type": "markdown",
   "metadata": {},
   "source": [
    "# Cell Types Ontology"
   ]
  },
  {
   "cell_type": "markdown",
   "metadata": {},
   "source": [
    "## Context"
   ]
  },
  {
   "cell_type": "markdown",
   "metadata": {},
   "source": [
    "This notebook was put together as a result of discussion on this ticket: [MMB2022-32](https://bbpteam.epfl.ch/project/issues/browse/MMB2022-32)"
   ]
  },
  {
   "cell_type": "markdown",
   "metadata": {},
   "source": [
    "## Imports"
   ]
  },
  {
   "cell_type": "code",
   "execution_count": null,
   "metadata": {},
   "outputs": [],
   "source": [
    "import json\n",
    "import rdflib\n",
    "import pandas as pd\n",
    "from rdflib import RDF, RDFS, XSD, OWL, URIRef, BNode, SKOS\n",
    "from rdflib.paths import OneOrMore\n",
    "from bmo.ontologies import subontology_from_term\n",
    "import pprint"
   ]
  },
  {
   "cell_type": "markdown",
   "metadata": {},
   "source": [
    "## Helper functions"
   ]
  },
  {
   "cell_type": "code",
   "execution_count": null,
   "metadata": {},
   "outputs": [],
   "source": [
    "def add_term(label, parent_label=None):\n",
    "    new_s = rdflib.URIRef(f\"https://bbp.epfl.ch/ontologies/core/celltypes/{label.replace(' ', '')}\")\n",
    "    triples_to_add = set()\n",
    "    if parent_label:\n",
    "        for s, p, o in cell_type_ontology.triples((None, RDFS.label, rdflib.term.Literal(parent_label, lang='en'))):\n",
    "            triples_to_add.add((new_s, RDFS.subClassOf, s))\n",
    "    triples_to_add.add((new_s, RDFS.label, rdflib.term.Literal(label, lang='en')))\n",
    "    triples_to_add.add((new_s, RDF.type, OWL.Class))\n",
    "    for el in triples_to_add:\n",
    "        cell_type_ontology.add(el)"
   ]
  },
  {
   "cell_type": "code",
   "execution_count": null,
   "metadata": {},
   "outputs": [],
   "source": [
    "def add_relationship(graph, subject_id, relationship, object_id):\n",
    "    blank_node = rdflib.term.BNode()\n",
    "    graph.add((blank_node, OWL.onProperty, relationship))\n",
    "    graph.add((subject_id, RDFS.subClassOf, blank_node))\n",
    "    graph.add((blank_node, RDF.type, OWL.Restriction))\n",
    "    graph.add((blank_node, OWL.someValuesFrom, object_id))\n",
    "    # pprint.pprint((blank_node, OWL.onProperty, relationship))\n",
    "    return graph"
   ]
  },
  {
   "cell_type": "code",
   "execution_count": null,
   "metadata": {},
   "outputs": [],
   "source": [
    "def remove_relationship(graph, term, relationship):\n",
    "    for s, p, o in graph.triples((term, None, None)):\n",
    "        for ss, pp, oo in  graph.triples((o, \n",
    "                                          rdflib.term.URIRef('http://www.w3.org/2002/07/owl#onProperty'), \n",
    "                                          relationship)):\n",
    "            graph.remove((ss, OWL.onProperty, relationship))\n",
    "            graph.remove((s, RDFS.subClassOf, ss))\n",
    "            graph.remove((ss, RDF.type, OWL.Restriction))\n",
    "            graph.remove((ss, OWL.someValuesFrom, None))\n",
    "            pprint.pprint((ss, OWL.onProperty, relationship))\n",
    "    return graph"
   ]
  },
  {
   "cell_type": "markdown",
   "metadata": {},
   "source": [
    "## Load Brain Region Ontology"
   ]
  },
  {
   "cell_type": "code",
   "execution_count": null,
   "metadata": {},
   "outputs": [],
   "source": [
    "base = \"\" # Provide the directory into which you have downloaded the Cell Types and Brain Region Ontology from WebProtégé"
   ]
  },
  {
   "cell_type": "code",
   "execution_count": null,
   "metadata": {},
   "outputs": [],
   "source": [
    "brain_region_ontology = rdflib.Graph()\n",
    "brain_region_ontology.parse(f\"{base}/brainregion.ttl\")"
   ]
  },
  {
   "cell_type": "markdown",
   "metadata": {},
   "source": [
    "## Get available Cell Types"
   ]
  },
  {
   "cell_type": "markdown",
   "metadata": {},
   "source": [
    "### Cell Type Ontology from WebProtégé"
   ]
  },
  {
   "cell_type": "markdown",
   "metadata": {},
   "source": [
    "This ontology file was downloaded from [WebProtégé](https://webprotege.kcp.bbp.epfl.ch/#projects/968c9144-bca3-4436-bdb5-6529d46016b9/edit/Classes)"
   ]
  },
  {
   "cell_type": "code",
   "execution_count": null,
   "metadata": {},
   "outputs": [],
   "source": [
    "cell_type_ontology = rdflib.Graph()\n",
    "cell_type_ontology.parse(f\"{base}/celltypes.ttl\")"
   ]
  },
  {
   "cell_type": "code",
   "execution_count": null,
   "metadata": {},
   "outputs": [],
   "source": [
    "len(list(cell_type_ontology.subjects()))"
   ]
  },
  {
   "cell_type": "markdown",
   "metadata": {},
   "source": [
    "### All labels from Cell Type Ontology"
   ]
  },
  {
   "cell_type": "code",
   "execution_count": null,
   "metadata": {},
   "outputs": [],
   "source": [
    "labels = list()\n",
    "for s, p, o in cell_type_ontology.triples((None, RDFS.label, None)):\n",
    "    labels.append(str(o))"
   ]
  },
  {
   "cell_type": "markdown",
   "metadata": {
    "tags": []
   },
   "source": [
    "### ME-Type to T-Type compatibility mapping from Yann Roussel"
   ]
  },
  {
   "cell_type": "markdown",
   "metadata": {},
   "source": [
    "This file was shared on this ticket: [MMB2022-32](https://bbpteam.epfl.ch/project/issues/browse/MMB2022-32)"
   ]
  },
  {
   "cell_type": "code",
   "execution_count": null,
   "metadata": {},
   "outputs": [],
   "source": [
    "with open(f\"{base}/me_type_to_t_type_compatibility-1.json\") as f:\n",
    "    met_mapping = json.load(f)"
   ]
  },
  {
   "cell_type": "markdown",
   "metadata": {},
   "source": [
    "#### Change L1_DLAC to L1_SAC and L1_SLAC to L1_LAC (since Yann is using old labels)"
   ]
  },
  {
   "cell_type": "code",
   "execution_count": null,
   "metadata": {},
   "outputs": [],
   "source": [
    "changes = {\n",
    "    \"L1_DLAC\": \"L1_LAC\",\n",
    "    \"L1_SLAC\": \"L1_SAC\",\n",
    "}\n",
    "\n",
    "for k, v in changes.items():\n",
    "    for kk, vv in met_mapping.items():\n",
    "        if k in kk:\n",
    "            new_key = kk.replace(k, v)\n",
    "            print(new_key)\n",
    "            met_mapping[new_key] = vv\n",
    "            del met_mapping[kk]"
   ]
  },
  {
   "cell_type": "markdown",
   "metadata": {
    "tags": []
   },
   "source": [
    "#### Get all t-types"
   ]
  },
  {
   "cell_type": "code",
   "execution_count": null,
   "metadata": {},
   "outputs": [],
   "source": [
    "t_types = list()\n",
    "for v in met_mapping.values():\n",
    "    for el in v:\n",
    "        t_types.append(el)\n",
    "t_types = list(set(t_types))"
   ]
  },
  {
   "cell_type": "code",
   "execution_count": null,
   "metadata": {},
   "outputs": [],
   "source": [
    "len(t_types)"
   ]
  },
  {
   "cell_type": "markdown",
   "metadata": {},
   "source": [
    "#### Get all m-types"
   ]
  },
  {
   "cell_type": "code",
   "execution_count": null,
   "metadata": {},
   "outputs": [],
   "source": [
    "m_types = list()\n",
    "for el in met_mapping.keys():\n",
    "    fragments = el.split(\"_\")\n",
    "    if len(fragments) == 3:\n",
    "        m_types.append(f\"{fragments[0]}_{fragments[1]}\")\n",
    "m_types = list(set(m_types))"
   ]
  },
  {
   "cell_type": "code",
   "execution_count": null,
   "metadata": {},
   "outputs": [],
   "source": [
    "len(m_types)"
   ]
  },
  {
   "cell_type": "markdown",
   "metadata": {},
   "source": [
    "#### Get all e-types"
   ]
  },
  {
   "cell_type": "code",
   "execution_count": null,
   "metadata": {},
   "outputs": [],
   "source": [
    "e_types = list()\n",
    "for el in met_mapping.keys():\n",
    "    fragments = el.split(\"_\")\n",
    "    if len(fragments) == 3:\n",
    "        e_types.append(fragments[2])\n",
    "e_types = list(set(e_types))"
   ]
  },
  {
   "cell_type": "code",
   "execution_count": null,
   "metadata": {},
   "outputs": [],
   "source": [
    "len(e_types)"
   ]
  },
  {
   "cell_type": "markdown",
   "metadata": {},
   "source": [
    "### Cell Types from Blue Brain Cell Atlas"
   ]
  },
  {
   "cell_type": "markdown",
   "metadata": {},
   "source": [
    "The cell types were copied from the Blue Brain Cell Atlas: https://bbp.epfl.ch/nexus/cell-atlas/?all=1 and pasted into an excel sheet"
   ]
  },
  {
   "cell_type": "code",
   "execution_count": null,
   "metadata": {},
   "outputs": [],
   "source": [
    "cell_atlas_types = pd.read_excel(\"./Blue Brain Cell Atlas Cell Types.xlsx\")"
   ]
  },
  {
   "cell_type": "code",
   "execution_count": null,
   "metadata": {},
   "outputs": [],
   "source": [
    "cell_atlas_types.head()"
   ]
  },
  {
   "cell_type": "markdown",
   "metadata": {},
   "source": [
    "## Cell Types and missing data google sheet"
   ]
  },
  {
   "cell_type": "markdown",
   "metadata": {},
   "source": [
    "The sheet has been downloaded [here](https://docs.google.com/spreadsheets/d/1iUgqPszKkYQgkJlmpQSkeyFWcEoOxovsBkoLPtA3qPg/edit#gid=642322419)"
   ]
  },
  {
   "cell_type": "code",
   "execution_count": null,
   "metadata": {},
   "outputs": [],
   "source": [
    "cell_types_g_sheet = pd.read_excel(f\"{base}/mmb_month5/Cell Types and Missing Data - Version 1.xlsx\", sheet_name=\"Transcriptome Cell Types\")"
   ]
  },
  {
   "cell_type": "code",
   "execution_count": null,
   "metadata": {},
   "outputs": [],
   "source": [
    "cell_types_g_sheet"
   ]
  },
  {
   "cell_type": "markdown",
   "metadata": {},
   "source": [
    "/!\\ Note: had to rename some of the [references](https://docs.google.com/spreadsheets/d/1iUgqPszKkYQgkJlmpQSkeyFWcEoOxovsBkoLPtA3qPg/edit#gid=1180597294) to match how they are written in the \"Source of transcriptome\" column of the **Transcriptome Cell Type** sheet"
   ]
  },
  {
   "cell_type": "code",
   "execution_count": null,
   "metadata": {},
   "outputs": [],
   "source": [
    "references = pd.read_excel(f\"{base}/mmb_month5/Cell Types and Missing Data - Version 1.xlsx\", sheet_name=\"Notes\")"
   ]
  },
  {
   "cell_type": "code",
   "execution_count": null,
   "metadata": {},
   "outputs": [],
   "source": [
    "references = dict(zip(references[6:11][\"Unnamed: 0\"], references[6:11][\"Unnamed: 1\"]))"
   ]
  },
  {
   "cell_type": "code",
   "execution_count": null,
   "metadata": {},
   "outputs": [],
   "source": [
    "references"
   ]
  },
  {
   "cell_type": "markdown",
   "metadata": {},
   "source": [
    "## Check for missing labels in the Cell Types Ontology"
   ]
  },
  {
   "cell_type": "markdown",
   "metadata": {},
   "source": [
    "### Check which Cell Atlas labels not yet present"
   ]
  },
  {
   "cell_type": "code",
   "execution_count": null,
   "metadata": {},
   "outputs": [],
   "source": [
    "len(list(set(cell_atlas_types.Child)))"
   ]
  },
  {
   "cell_type": "code",
   "execution_count": null,
   "metadata": {},
   "outputs": [],
   "source": [
    "missing_cell_atlas_types = list()\n",
    "for el in list(cell_atlas_types.Child):\n",
    "    if el not in labels:\n",
    "        missing_cell_atlas_types.append(el)"
   ]
  },
  {
   "cell_type": "code",
   "execution_count": null,
   "metadata": {},
   "outputs": [],
   "source": [
    "len(missing_cell_atlas_types)"
   ]
  },
  {
   "cell_type": "code",
   "execution_count": null,
   "metadata": {},
   "outputs": [],
   "source": [
    "len(list(set(cell_atlas_types.Parent)))"
   ]
  },
  {
   "cell_type": "code",
   "execution_count": null,
   "metadata": {},
   "outputs": [],
   "source": [
    "for el in list(set(cell_atlas_types.Parent)):\n",
    "    if el not in labels:\n",
    "        missing_cell_atlas_types.append(el)"
   ]
  },
  {
   "cell_type": "code",
   "execution_count": null,
   "metadata": {},
   "outputs": [],
   "source": [
    "missing_cell_atlas_types = list(set(missing_cell_atlas_types))"
   ]
  },
  {
   "cell_type": "code",
   "execution_count": null,
   "metadata": {},
   "outputs": [],
   "source": [
    "len(missing_cell_atlas_types)"
   ]
  },
  {
   "cell_type": "code",
   "execution_count": null,
   "metadata": {},
   "outputs": [],
   "source": [
    "missing_cell_atlas_types[:5]"
   ]
  },
  {
   "cell_type": "markdown",
   "metadata": {
    "tags": []
   },
   "source": [
    "### Check which T-types not yet present"
   ]
  },
  {
   "cell_type": "code",
   "execution_count": null,
   "metadata": {},
   "outputs": [],
   "source": [
    "len(t_types)"
   ]
  },
  {
   "cell_type": "code",
   "execution_count": null,
   "metadata": {},
   "outputs": [],
   "source": [
    "missing_t_types = list()\n",
    "for el in t_types:\n",
    "    if el not in labels:\n",
    "        missing_t_types.append(el)"
   ]
  },
  {
   "cell_type": "code",
   "execution_count": null,
   "metadata": {},
   "outputs": [],
   "source": [
    "missing_t_types = list(set(missing_t_types))"
   ]
  },
  {
   "cell_type": "code",
   "execution_count": null,
   "metadata": {},
   "outputs": [],
   "source": [
    "len(missing_t_types)"
   ]
  },
  {
   "cell_type": "code",
   "execution_count": null,
   "metadata": {},
   "outputs": [],
   "source": [
    "missing_t_types[:5]"
   ]
  },
  {
   "cell_type": "markdown",
   "metadata": {},
   "source": [
    "### Check which M-types not yet present"
   ]
  },
  {
   "cell_type": "code",
   "execution_count": null,
   "metadata": {},
   "outputs": [],
   "source": [
    "missing_m_types = list()\n",
    "for el in m_types:\n",
    "    if el not in labels:\n",
    "            missing_m_types.append(el)"
   ]
  },
  {
   "cell_type": "code",
   "execution_count": null,
   "metadata": {},
   "outputs": [],
   "source": [
    "missing_m_types = list(set(missing_m_types))"
   ]
  },
  {
   "cell_type": "code",
   "execution_count": null,
   "metadata": {},
   "outputs": [],
   "source": [
    "len(missing_m_types)"
   ]
  },
  {
   "cell_type": "code",
   "execution_count": null,
   "metadata": {},
   "outputs": [],
   "source": [
    "missing_m_types[:5]"
   ]
  },
  {
   "cell_type": "markdown",
   "metadata": {},
   "source": [
    "### Check which E-types not yet present"
   ]
  },
  {
   "cell_type": "code",
   "execution_count": null,
   "metadata": {},
   "outputs": [],
   "source": [
    "missing_e_types = list()\n",
    "for el in e_types:\n",
    "    if el not in labels:\n",
    "        missing_e_types.append(el)"
   ]
  },
  {
   "cell_type": "code",
   "execution_count": null,
   "metadata": {},
   "outputs": [],
   "source": [
    "len(missing_e_types)"
   ]
  },
  {
   "cell_type": "code",
   "execution_count": null,
   "metadata": {},
   "outputs": [],
   "source": [
    "missing_e_types = list(set(missing_e_types))"
   ]
  },
  {
   "cell_type": "markdown",
   "metadata": {},
   "source": [
    "## Add to the Cell Types Ontology"
   ]
  },
  {
   "cell_type": "markdown",
   "metadata": {},
   "source": [
    "### Add new parent to t-types"
   ]
  },
  {
   "cell_type": "code",
   "execution_count": null,
   "metadata": {},
   "outputs": [],
   "source": [
    "for t in t_types:\n",
    "    triples_to_add = set()\n",
    "    parent_label = \"Neuron Transcriptomic Type\"\n",
    "    for s, p, o in cell_type_ontology.triples((None, RDFS.label,  rdflib.term.Literal(t, datatype=rdflib.term.URIRef('http://www.w3.org/2001/XMLSchema#string')))):\n",
    "        label_id = s\n",
    "    for s, p, o in cell_type_ontology.triples((None, RDFS.label, rdflib.term.Literal(parent_label, lang='en'))):\n",
    "        triples_to_add.add((label_id, RDFS.subClassOf, s))\n",
    "    for el in triples_to_add:\n",
    "        cell_type_ontology.add(el)"
   ]
  },
  {
   "cell_type": "markdown",
   "metadata": {},
   "source": [
    "### Add link from m-types to t-types"
   ]
  },
  {
   "cell_type": "code",
   "execution_count": null,
   "metadata": {},
   "outputs": [],
   "source": [
    "for label in m_types:\n",
    "    for s, p, o in cell_type_ontology.triples((None, \n",
    "                                               RDFS.label, \n",
    "                                               rdflib.term.Literal(label, datatype=rdflib.term.URIRef('http://www.w3.org/2001/XMLSchema#string')))):\n",
    "         cell_type_ontology = remove_relationship(cell_type_ontology, s, rdflib.term.URIRef(\"https://bbp.epfl.ch/ontologies/core/bmo/canHaveTType\"))"
   ]
  },
  {
   "cell_type": "code",
   "execution_count": null,
   "metadata": {},
   "outputs": [],
   "source": [
    "m_type_to_t_type = dict()\n",
    "for el, v in met_mapping.items():\n",
    "    fragments = el.split(\"_\")\n",
    "    if len(fragments) == 3:\n",
    "        m_type = f\"{fragments[0]}_{fragments[1]}\"\n",
    "    else:\n",
    "        m_type = el\n",
    "    if not m_type in m_type_to_t_type.keys():\n",
    "        m_type_to_t_type[m_type] = v\n",
    "    else:\n",
    "        prev_v =  m_type_to_t_type[m_type]\n",
    "        m_type_to_t_type[m_type] = list(set(prev_v + v))"
   ]
  },
  {
   "cell_type": "code",
   "execution_count": null,
   "metadata": {},
   "outputs": [],
   "source": [
    "for k, v in m_type_to_t_type.items():\n",
    "    for s, p, o in cell_type_ontology.triples((None, RDFS.label,  rdflib.term.Literal(k, lang=\"en\"))):\n",
    "        m_type_id = s\n",
    "    for vv in v:\n",
    "        for s, p, o in cell_type_ontology.triples((None, RDFS.label,  rdflib.term.Literal(vv, datatype=rdflib.term.URIRef('http://www.w3.org/2001/XMLSchema#string')))):\n",
    "            t_type_id = s\n",
    "        cell_type_ontology = add_relationship(cell_type_ontology, m_type_id, rdflib.URIRef(\"https://bbp.epfl.ch/ontologies/core/bmo/canHaveTType\"), t_type_id)"
   ]
  },
  {
   "cell_type": "markdown",
   "metadata": {},
   "source": [
    "### Add link from e-types to t-types"
   ]
  },
  {
   "cell_type": "code",
   "execution_count": null,
   "metadata": {},
   "outputs": [],
   "source": [
    "for label in e_types:\n",
    "    for s, p, o in cell_type_ontology.triples((None, \n",
    "                                               RDFS.label, \n",
    "                                               rdflib.term.Literal(label, datatype=rdflib.term.URIRef('http://www.w3.org/2001/XMLSchema#string')))):\n",
    "         cell_type_ontology = remove_relationship(cell_type_ontology, s, rdflib.term.URIRef(\"https://bbp.epfl.ch/ontologies/core/bmo/canHaveTType\"))"
   ]
  },
  {
   "cell_type": "code",
   "execution_count": null,
   "metadata": {},
   "outputs": [],
   "source": [
    "e_type_to_t_type = dict()\n",
    "for el, v in met_mapping.items():\n",
    "    fragments = el.split(\"_\")\n",
    "    if len(fragments) == 3:\n",
    "        e_type = fragments[-1]\n",
    "        if not e_type in e_type_to_t_type.keys():\n",
    "            e_type_to_t_type[e_type] = v\n",
    "        else:\n",
    "            prev_v =  e_type_to_t_type[e_type]\n",
    "            e_type_to_t_type[e_type] = list(set(prev_v + v))"
   ]
  },
  {
   "cell_type": "code",
   "execution_count": null,
   "metadata": {},
   "outputs": [],
   "source": [
    "for k, v in e_type_to_t_type.items():\n",
    "    for s, p, o in cell_type_ontology.triples((None, RDFS.label,  rdflib.term.Literal(k, lang=\"en\"))):\n",
    "        e_type_id = s\n",
    "    for vv in v:\n",
    "        for s, p, o in cell_type_ontology.triples((None, RDFS.label,  rdflib.term.Literal(vv, datatype=rdflib.term.URIRef('http://www.w3.org/2001/XMLSchema#string')))):\n",
    "            t_type_id = s\n",
    "        cell_type_ontology = add_relationship(cell_type_ontology, e_type_id, rdflib.URIRef(\"https://bbp.epfl.ch/ontologies/core/bmo/canHaveTType\"), t_type_id)"
   ]
  },
  {
   "cell_type": "markdown",
   "metadata": {},
   "source": [
    "### Add link from e-types to m-types"
   ]
  },
  {
   "cell_type": "code",
   "execution_count": null,
   "metadata": {},
   "outputs": [],
   "source": [
    "for label in e_types:\n",
    "    for s, p, o in cell_type_ontology.triples((None, \n",
    "                                               RDFS.label, \n",
    "                                               rdflib.term.Literal(label, datatype=rdflib.term.URIRef('http://www.w3.org/2001/XMLSchema#string')))):\n",
    "         cell_type_ontology = remove_relationship(cell_type_ontology, s, rdflib.term.URIRef(\"https://bbp.epfl.ch/ontologies/core/bmo/canHaveMType\"))"
   ]
  },
  {
   "cell_type": "code",
   "execution_count": null,
   "metadata": {},
   "outputs": [],
   "source": [
    "me_types = list(set(met_mapping.keys()))"
   ]
  },
  {
   "cell_type": "code",
   "execution_count": null,
   "metadata": {},
   "outputs": [],
   "source": [
    "e_type_to_m_type = dict()\n",
    "for el in me_types:\n",
    "    fragments = el.split(\"_\")\n",
    "    if len(fragments) == 3:\n",
    "        e_type = fragments[-1]\n",
    "        m_type = f\"{fragments[0]}_{fragments[1]}\"\n",
    "        if not e_type in e_type_to_m_type.keys():\n",
    "            e_type_to_m_type[e_type] = [m_type]\n",
    "        else:\n",
    "            prev_v =  e_type_to_m_type[e_type]\n",
    "            e_type_to_m_type[e_type] = list(set(prev_v + [m_type]))"
   ]
  },
  {
   "cell_type": "code",
   "execution_count": null,
   "metadata": {},
   "outputs": [],
   "source": [
    "for k, v in e_type_to_m_type.items():\n",
    "    for s, p, o in cell_type_ontology.triples((None, RDFS.label,  rdflib.term.Literal(k, lang=\"en\"))):\n",
    "        e_type_id = s\n",
    "    for vv in v:\n",
    "        for s, p, o in cell_type_ontology.triples((None, RDFS.label,  rdflib.term.Literal(vv, lang=\"en\"))):\n",
    "            m_type_id = s\n",
    "        cell_type_ontology = add_relationship(cell_type_ontology, e_type_id, rdflib.URIRef(\"https://bbp.epfl.ch/ontologies/core/bmo/canHaveMType\"), m_type_id)"
   ]
  },
  {
   "cell_type": "markdown",
   "metadata": {
    "tags": []
   },
   "source": [
    "### Add Blue Brain Cell Atlas types"
   ]
  },
  {
   "cell_type": "code",
   "execution_count": null,
   "metadata": {},
   "outputs": [],
   "source": [
    "# for t in missing_cell_atlas_types:\n",
    "#     parent = cell_atlas_types[cell_atlas_types.Child==t].Parent.iloc[0]\n",
    "#     add_term(t, parent)"
   ]
  },
  {
   "cell_type": "markdown",
   "metadata": {},
   "source": [
    "### Add more t-types and information (brain region and paper reference) from the google sheet"
   ]
  },
  {
   "cell_type": "code",
   "execution_count": null,
   "metadata": {},
   "outputs": [],
   "source": [
    "set(cell_types_g_sheet[\"Brain Reigion (CCFv3 aligned)\"])"
   ]
  },
  {
   "cell_type": "code",
   "execution_count": null,
   "metadata": {},
   "outputs": [],
   "source": [
    "brain_regions = {\n",
    " 'Agranular insular area': 'Agranular insular area',\n",
    " 'Area prostriata': 'Area prostriata',\n",
    " 'Cerebellum': 'Cerebellum',\n",
    " 'Cerebral Cortex': 'Cerebral cortex',\n",
    " 'Cerebral Cortex - Hippocampal formation': ['Cerebral cortex', 'Hippocampal formation'],\n",
    " 'Dentate gyrus': 'Dentate gyrus',\n",
    " 'Enthorinal area, lateral part': 'Entorhinal area, lateral part',\n",
    " 'Enthorinal area, medial part, dorsal zone': 'Entorhinal area, medial part, dorsal zone',\n",
    " 'Entorhinal area': 'Entorhinal area',\n",
    " 'Entorhinal area, lateral part': 'Entorhinal area, lateral part',\n",
    " 'Entorhinal area, medial part, dorsal zone': 'Entorhinal area, medial part, dorsal zone',\n",
    " 'Field CA1': 'Field CA1',\n",
    " 'Field CA1, Prosubiculum ': ['Field CA1', 'Prosubiculum'],\n",
    " 'Field CA2, Induseum griseum, Fasciola cinerea': [\"Field CA2\", \"Induseum griseum\", \"Fasciola cinerea\"],\n",
    " 'Field CA3': 'Field CA3',\n",
    " 'Hippocampal formation': 'Hippocampal formation',\n",
    " 'Hippocampo-amygdalar transition area': 'Hippocampo-amygdalar transition area',\n",
    " 'Hypothalamus': 'Hypothalamus',\n",
    " 'Isocortex - Entorhinal area': ['Isocortex', 'Entorhinal area'],\n",
    " 'Parasubiculum': 'Parasubiculum',\n",
    " 'Postsubiculum - Presubiculum': ['Postsubiculum', 'Presubiculum'],\n",
    " 'Prosubiculum': 'Prosubiculum',\n",
    " 'Retrohippocampal region': 'Retrohippocampal region',\n",
    " 'Retrosplenial area - Anterior cingulate area': ['Retrosplenial area', 'Anterior cingulate area'],\n",
    " 'Retrosplenial area, ventral part- Postsubiculum - Presubiculum': ['Retrosplenial area, ventral part', 'Postsubiculum', 'Presubiculum'],\n",
    " 'Striatum': 'Striatum',\n",
    " 'Subiculum': 'Subiculum',\n",
    " 'Thalamus': 'Thalamus'\n",
    "}"
   ]
  },
  {
   "cell_type": "code",
   "execution_count": null,
   "metadata": {},
   "outputs": [],
   "source": [
    "for i in cell_types_g_sheet.iterrows():\n",
    "    label = i[1][\"T Type\"]\n",
    "    for s, p, o in cell_type_ontology.triples((None, \n",
    "                                               RDFS.label, \n",
    "                                               rdflib.term.Literal(label, datatype=rdflib.term.URIRef('http://www.w3.org/2001/XMLSchema#string')))):\n",
    "         cell_type_ontology = remove_relationship(cell_type_ontology, s, rdflib.term.URIRef(\"https://bbp.epfl.ch/ontologies/core/bmo/canHaveBrainRegion\"))"
   ]
  },
  {
   "cell_type": "code",
   "execution_count": null,
   "metadata": {},
   "outputs": [],
   "source": [
    "for i in cell_types_g_sheet.iterrows():\n",
    "    label = i[1][\"T Type\"]\n",
    "    if label not in [\"Macrophage\", \"Microglia\"]:\n",
    "        see_also = references[i[1][\"Source of transcriptome\"]]\n",
    "        triples_to_add = set()\n",
    "        if label not in labels:        \n",
    "            new_s = rdflib.URIRef(f\"https://bbp.epfl.ch/ontologies/core/celltypes/{label.replace(' ', '').replace('/', '_')}\")\n",
    "            triples_to_add.add((new_s, RDFS.subClassOf, rdflib.URIRef(\"https://bbp.epfl.ch/ontologies/core/bmo/BrainCellTranscriptomeType\")))\n",
    "            triples_to_add.add((new_s, RDFS.label, rdflib.term.Literal(label, lang='en')))\n",
    "            triples_to_add.add((new_s, RDF.type, OWL.Class))\n",
    "        else:\n",
    "            for s, p, o in cell_type_ontology.triples((None, RDFS.label, rdflib.term.Literal(i[1][\"T Type\"], datatype=rdflib.term.URIRef('http://www.w3.org/2001/XMLSchema#string')))):\n",
    "                new_s = s\n",
    "\n",
    "        triples_to_add.add((new_s, RDFS.seeAlso, rdflib.URIRef(see_also)))\n",
    "        if i[1][\"Brain Reigion (CCFv3 aligned)\"] in brain_regions.keys():\n",
    "            brain_region_label = brain_regions[i[1][\"Brain Reigion (CCFv3 aligned)\"]]\n",
    "            if isinstance(brain_region_label, list):\n",
    "                for br in brain_region_label:\n",
    "                    for s, p, o in brain_region_ontology.triples((None, RDFS.label, rdflib.term.Literal(br))):\n",
    "                        brain_region = s\n",
    "                    cell_type_ontology = add_relationship(cell_type_ontology, new_s, rdflib.term.URIRef(\"https://bbp.epfl.ch/ontologies/core/bmo/canHaveBrainRegion\"), brain_region)\n",
    "            else:\n",
    "                for s, p, o in brain_region_ontology.triples((None, RDFS.label, rdflib.term.Literal(brain_region_label))):\n",
    "                    brain_region = s\n",
    "                cell_type_ontology = add_relationship(cell_type_ontology, new_s, rdflib.term.URIRef(\"https://bbp.epfl.ch/ontologies/core/bmo/canHaveBrainRegion\"), brain_region)\n",
    "        for el in triples_to_add:\n",
    "            cell_type_ontology.add(el)"
   ]
  },
  {
   "cell_type": "markdown",
   "metadata": {},
   "source": [
    "### Add more m-types from the google sheet"
   ]
  },
  {
   "cell_type": "code",
   "execution_count": null,
   "metadata": {},
   "outputs": [],
   "source": [
    "m_types_g_sheet = pd.read_excel(f\"{base}/mmb_month5/Cell Types and Missing Data - Version 1.xlsx\", sheet_name=\"Functional Types\")"
   ]
  },
  {
   "cell_type": "code",
   "execution_count": null,
   "metadata": {},
   "outputs": [],
   "source": [
    "new_s = rdflib.URIRef(f\"https://bbp.epfl.ch/ontologies/core/celltypes/{label.replace(' ', '')}\")\n",
    "triples_to_add = set()\n",
    "if parent_label:\n",
    "    for s, p, o in cell_type_ontology.triples((None, RDFS.label, rdflib.term.Literal(parent_label, lang='en'))):\n",
    "        triples_to_add.add((new_s, RDFS.subClassOf, s))\n",
    "triples_to_add.add((new_s, RDFS.label, rdflib.term.Literal(label, lang='en')))\n",
    "triples_to_add.add((new_s, RDF.type, OWL.Class))\n",
    "for el in triples_to_add:\n",
    "    cell_type_ontology.add(el)"
   ]
  },
  {
   "cell_type": "code",
   "execution_count": null,
   "metadata": {},
   "outputs": [],
   "source": [
    "cell_type_ontology.namespace_manager.bind(\"skos\", SKOS)"
   ]
  },
  {
   "cell_type": "code",
   "execution_count": null,
   "metadata": {},
   "outputs": [],
   "source": [
    "for el in list(set(m_types_g_sheet[\"Cell Type\"][:])):\n",
    "    if isinstance(el, str):\n",
    "        if \"(\" in el:\n",
    "            definition = el.split(\"(\")[0]\n",
    "            label = el.split(\"(\")[-1].split(\")\")[0]\n",
    "            new_s = rdflib.URIRef(f\"https://bbp.epfl.ch/ontologies/core/celltypes/{label.replace(' ', '')}\")\n",
    "            triples_to_add = set()\n",
    "            parent = rdflib.term.URIRef(\"https://bbp.epfl.ch/ontologies/core/bmo/NeuronType\")\n",
    "            triples_to_add.add((new_s, RDFS.subClassOf, parent))\n",
    "            triples_to_add.add((new_s, RDFS.label, rdflib.term.Literal(label, lang='en')))\n",
    "            triples_to_add.add((new_s, SKOS.prefLabel, rdflib.term.Literal(label, lang='en')))\n",
    "            triples_to_add.add((new_s, SKOS.notation, rdflib.term.Literal(label, lang='en')))\n",
    "            triples_to_add.add((new_s, RDF.type, OWL.Class))\n",
    "            triples_to_add.add((new_s, SKOS.definition, rdflib.term.Literal(definition)))\n",
    "            for el in triples_to_add:\n",
    "                cell_type_ontology.add(el)"
   ]
  },
  {
   "cell_type": "markdown",
   "metadata": {},
   "source": [
    "## Serialize the updated Cell Types Ontology"
   ]
  },
  {
   "cell_type": "code",
   "execution_count": null,
   "metadata": {},
   "outputs": [],
   "source": [
    "cell_type_ontology.serialize(destination=f\"{base}/cell-type-ontology.ttl\")"
   ]
  },
  {
   "cell_type": "markdown",
   "metadata": {},
   "source": [
    "The updated Cell Types Ontology then needs to be merged back into WebProtégé by:\n",
    "1. Navigating to the [Cell Types Ontology](https://webprotege.kcp.bbp.epfl.ch/#projects/968c9144-bca3-4436-bdb5-6529d46016b9/edit/Classes)\n",
    "2. Clicking on `Project` in the top right corner\n",
    "3. Clicking on `Apply External Edits` \n",
    "4. Selecting the file that you have just serialised"
   ]
  }
 ],
 "metadata": {
  "kernelspec": {
   "display_name": "Python (20210819)",
   "language": "python",
   "name": "20210819"
  },
  "language_info": {
   "codemirror_mode": {
    "name": "ipython",
    "version": 3
   },
   "file_extension": ".py",
   "mimetype": "text/x-python",
   "name": "python",
   "nbconvert_exporter": "python",
   "pygments_lexer": "ipython3",
   "version": "3.7.11"
  }
 },
 "nbformat": 4,
 "nbformat_minor": 4
}
