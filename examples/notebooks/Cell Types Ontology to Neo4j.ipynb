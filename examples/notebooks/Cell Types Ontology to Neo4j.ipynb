{
 "cells": [
  {
   "cell_type": "markdown",
   "metadata": {},
   "source": [
    "# Cell Types Ontology to Neo4J"
   ]
  },
  {
   "cell_type": "markdown",
   "metadata": {},
   "source": [
    "## Context"
   ]
  },
  {
   "cell_type": "markdown",
   "metadata": {},
   "source": [
    "This notebook has been used to display the Cell Types Ontology together with relevant Brain Region entities in Neo4J Bloom"
   ]
  },
  {
   "cell_type": "markdown",
   "metadata": {},
   "source": [
    "## Imports"
   ]
  },
  {
   "cell_type": "code",
   "execution_count": null,
   "metadata": {},
   "outputs": [],
   "source": [
    "import rdflib\n",
    "from rdflib import OWL, RDFS, SKOS, RDF, Namespace\n",
    "import re\n",
    "import getpass\n",
    "from bmo.neo4j import ontology_to_neo4j"
   ]
  },
  {
   "cell_type": "markdown",
   "metadata": {},
   "source": [
    "## Prerequisite"
   ]
  },
  {
   "cell_type": "markdown",
   "metadata": {},
   "source": [
    "You have to download the [Cell Types Ontology](https://webprotege.kcp.bbp.epfl.ch/#projects/968c9144-bca3-4436-bdb5-6529d46016b9/edit/Classes) as well as the [Brain Region Ontology](https://webprotege.kcp.bbp.epfl.ch/#projects/968c9144-bca3-4436-bdb5-6529d46016b9/edit/Classes) from WebProtégé in TTL format. Please contact DKE should you need to open a WebProtégé account."
   ]
  },
  {
   "cell_type": "markdown",
   "metadata": {},
   "source": [
    "## Setup"
   ]
  },
  {
   "cell_type": "code",
   "execution_count": null,
   "metadata": {},
   "outputs": [],
   "source": [
    "base = \"\" # Provide the directory into which you have downloaded the Cell Types and Brain Region Ontology from WebProtégé"
   ]
  },
  {
   "cell_type": "code",
   "execution_count": null,
   "metadata": {},
   "outputs": [],
   "source": [
    "uri = \"bolt://localhost:7687\"\n",
    "username = \"neo4j\""
   ]
  },
  {
   "cell_type": "code",
   "execution_count": null,
   "metadata": {},
   "outputs": [],
   "source": [
    "password = getpass.getpass()"
   ]
  },
  {
   "cell_type": "markdown",
   "metadata": {},
   "source": [
    "## Load the ontologies"
   ]
  },
  {
   "cell_type": "code",
   "execution_count": null,
   "metadata": {},
   "outputs": [],
   "source": [
    "cell_type_ontology = rdflib.Graph()\n",
    "cell_type_ontology.parse(f\"{base}/celltypes.ttl\")"
   ]
  },
  {
   "cell_type": "code",
   "execution_count": null,
   "metadata": {},
   "outputs": [],
   "source": [
    "brain_region_ontology = rdflib.Graph()\n",
    "brain_region_ontology.parse(f\"{base}/brainregion.ttl\")"
   ]
  },
  {
   "cell_type": "markdown",
   "metadata": {},
   "source": [
    "## Get required brain regions\n",
    "\n",
    "Since brain regions are part of the *Brain Region Ontology* and not the *Cell Type Ontology* we will be adding the necessary triples from the Brain Region Ontology to the ontology to be displayed in Neo4J"
   ]
  },
  {
   "cell_type": "code",
   "execution_count": null,
   "metadata": {},
   "outputs": [],
   "source": [
    "brain_regions = list()\n",
    "for s, p, o in cell_type_ontology.triples((None, None, rdflib.term.URIRef(\"https://bbp.epfl.ch/ontologies/core/bmo/canHaveBrainRegion\"))):\n",
    "    for s2, p2, o2 in cell_type_ontology.triples((s, OWL.someValuesFrom, None)):\n",
    "        brain_regions.append(o2)"
   ]
  },
  {
   "cell_type": "code",
   "execution_count": null,
   "metadata": {},
   "outputs": [],
   "source": [
    "brain_regions = list(set(brain_regions))"
   ]
  },
  {
   "cell_type": "code",
   "execution_count": null,
   "metadata": {},
   "outputs": [],
   "source": [
    "for b in brain_regions:\n",
    "    for el in [rdflib.term.URIRef(RDFS.label), rdflib.term.URIRef(SKOS.notation), rdflib.term.URIRef(SKOS.prefLabel), rdflib.term.URIRef(RDFS.subClassOf)]: # [rdflib.term.URIRef(RDFS.label), rdflib.term.URIRef(SKOS.notation), rdflib.term.URIRef(SKOS.prefLabel), rdflib.term.URIRef(RDFS.subClassOf)]\n",
    "        for s, p, o in brain_region_ontology.triples((b, el, None)):\n",
    "            cell_type_ontology.add((s, p, o))\n",
    "cell_type_ontology.add((rdflib.term.URIRef(\"https://neuroshapes.org/BrainRegion\"), RDFS.label, rdflib.term.Literal(\"Brain Region\")))\n",
    "cell_type_ontology.add((rdflib.term.URIRef(\"https://neuroshapes.org/BrainRegion\"), RDF.type, OWL.Class))"
   ]
  },
  {
   "cell_type": "markdown",
   "metadata": {},
   "source": [
    "## Serialize the ontology to TTL format"
   ]
  },
  {
   "cell_type": "code",
   "execution_count": null,
   "metadata": {},
   "outputs": [],
   "source": [
    "cell_type_ontology.serialize(destination=f\"{base}/ontology.ttl\")"
   ]
  },
  {
   "cell_type": "markdown",
   "metadata": {},
   "source": [
    "## Get the ontology as database into Neo4J"
   ]
  },
  {
   "cell_type": "code",
   "execution_count": null,
   "metadata": {},
   "outputs": [],
   "source": [
    "ontology_to_neo4j(\n",
    "    uri, username, password, f\"{base}/ontology.ttl\", format=\"turtle\")"
   ]
  }
 ],
 "metadata": {
  "kernelspec": {
   "display_name": "Python (20210819)",
   "language": "python",
   "name": "20210819"
  },
  "language_info": {
   "codemirror_mode": {
    "name": "ipython",
    "version": 3
   },
   "file_extension": ".py",
   "mimetype": "text/x-python",
   "name": "python",
   "nbconvert_exporter": "python",
   "pygments_lexer": "ipython3",
   "version": "3.7.11"
  },
  "toc-autonumbering": true
 },
 "nbformat": 4,
 "nbformat_minor": 4
}
