{
 "cells": [
  {
   "cell_type": "markdown",
   "metadata": {},
   "source": [
    "## Imports"
   ]
  },
  {
   "cell_type": "code",
   "execution_count": null,
   "metadata": {},
   "outputs": [],
   "source": [
    "import rdflib\n",
    "from rdflib import RDF, RDFS, XSD, OWL, URIRef, BNode\n",
    "from rdflib.paths import OneOrMore\n",
    "from bmo.ontologies import subontology_from_term"
   ]
  },
  {
   "cell_type": "markdown",
   "metadata": {},
   "source": [
    "The BBP L23 split hierarchy was downloaded [here](https://bbp.epfl.ch/nexus/web/neurosciencegraph/datamodels/resources/http%3A%2F%2Fbbp.epfl.ch%2Fneurosciencegraph%2Fontologies%2Fcore%2Fmba_brainregion_corrected)"
   ]
  },
  {
   "cell_type": "code",
   "execution_count": null,
   "metadata": {},
   "outputs": [],
   "source": [
    "base = \"\" # Provide the directory into which you have downloaded the ontology"
   ]
  },
  {
   "cell_type": "code",
   "execution_count": null,
   "metadata": {},
   "outputs": [],
   "source": [
    "bbp = rdflib.Graph()\n",
    "bbp.parse(f\"{base}/mba_corrected.json\")"
   ]
  },
  {
   "cell_type": "code",
   "execution_count": null,
   "metadata": {},
   "outputs": [],
   "source": [
    "layers = list()\n",
    "for s, p, o in bbp.triples((None, RDFS.label, None)):\n",
    "    layers.append(o.split(\", \")[-1])"
   ]
  },
  {
   "cell_type": "code",
   "execution_count": null,
   "metadata": {},
   "outputs": [],
   "source": [
    "set(layers)"
   ]
  },
  {
   "cell_type": "code",
   "execution_count": null,
   "metadata": {},
   "outputs": [],
   "source": [
    "layers = [\n",
    "    'layer 1',\n",
    "    'layer 2',\n",
    "    'layer 2/3',\n",
    "    'layer 2a',\n",
    "    'layer 2b',\n",
    "    'layer 3',\n",
    "    'layer 4',\n",
    "    'layer 4/5',\n",
    "    'layer 5',\n",
    "    'layer 5/6',\n",
    "    'layer 6',\n",
    "    'layer 6a',\n",
    "    'layer 6b',\n",
    "    'layers 1',\n",
    "    'layers 1-2',\n",
    "    'layers 1-3',\n",
    "    'layers 1-4',\n",
    "    'layers 2',\n",
    "    'layers 3'\n",
    "]"
   ]
  },
  {
   "cell_type": "code",
   "execution_count": null,
   "metadata": {},
   "outputs": [],
   "source": [
    "uberon_layers = {\n",
    "    \"1\": \"http://purl.obolibrary.org/obo/UBERON_0005390\",\n",
    "    \"2\": \"http://purl.obolibrary.org/obo/UBERON_0005391\",\n",
    "    \"3\": \"http://purl.obolibrary.org/obo/UBERON_0005392\",\n",
    "    \"4\": \"http://purl.obolibrary.org/obo/UBERON_0005393\",\n",
    "    \"5\": \"http://purl.obolibrary.org/obo/UBERON_0005394\",\n",
    "    \"6\": \"http://purl.obolibrary.org/obo/UBERON_0005395\",\n",
    "}"
   ]
  },
  {
   "cell_type": "code",
   "execution_count": null,
   "metadata": {},
   "outputs": [],
   "source": [
    "hasLayerLocationPhenotype = rdflib.URIRef(\"https://neuroshapes.org/hasLayerLocationPhenotype\")"
   ]
  },
  {
   "cell_type": "code",
   "execution_count": null,
   "metadata": {},
   "outputs": [],
   "source": [
    "for s, p, o in bbp.triples((None, RDFS.label, None)):\n",
    "    for layer in layers:\n",
    "        if layer in o:\n",
    "            for el in [\"1\", \"2\", \"3\", \"4\", \"5\", \"6\"]:\n",
    "                if el in layer:\n",
    "                    layer_id = uberon_layers[el]\n",
    "                    bbp.add((s, hasLayerLocationPhenotype, rdflib.URIRef(layer_id)))"
   ]
  },
  {
   "cell_type": "code",
   "execution_count": null,
   "metadata": {},
   "outputs": [],
   "source": [
    "delineatedby_rel = rdflib.URIRef(\"https://bbp.epfl.ch/ontologies/core/bmo/delineatedBy\")"
   ]
  },
  {
   "cell_type": "code",
   "execution_count": null,
   "metadata": {},
   "outputs": [],
   "source": [
    "uberon = rdflib.Graph()\n",
    "uberon.parse(f\"{base}/uberon.owl\")"
   ]
  },
  {
   "cell_type": "code",
   "execution_count": null,
   "metadata": {},
   "outputs": [],
   "source": [
    "for s, p, o in uberon.triples((None, URIRef(\"http://www.geneontology.org/formats/oboInOwl#hasDbXref\"), None)):\n",
    "    if str(o).startswith(\"MBA\"):\n",
    "        mba_id = URIRef(f\"http://api.brain-map.org/api/v2/data/Structure/{o.split(':')[-1]}\")\n",
    "        print(f\"{s} {p} {o}\")\n",
    "        bbp.add((mba_id, delineatedby_rel, s))"
   ]
  },
  {
   "cell_type": "code",
   "execution_count": null,
   "metadata": {},
   "outputs": [],
   "source": [
    "bbp.serialize(destination=f\"{base}/brain-region-ontology.ttl\")"
   ]
  }
 ],
 "metadata": {
  "kernelspec": {
   "display_name": "Python (20210819)",
   "language": "python",
   "name": "20210819"
  },
  "language_info": {
   "codemirror_mode": {
    "name": "ipython",
    "version": 3
   },
   "file_extension": ".py",
   "mimetype": "text/x-python",
   "name": "python",
   "nbconvert_exporter": "python",
   "pygments_lexer": "ipython3",
   "version": "3.7.11"
  }
 },
 "nbformat": 4,
 "nbformat_minor": 4
}
