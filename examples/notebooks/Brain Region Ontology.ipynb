{
 "cells": [
  {
   "cell_type": "markdown",
   "metadata": {},
   "source": [
    "## Imports"
   ]
  },
  {
   "cell_type": "code",
   "execution_count": null,
   "metadata": {},
   "outputs": [],
   "source": [
    "import rdflib\n",
    "from rdflib import RDF, RDFS, XSD, OWL, URIRef\n",
    "from rdflib.paths import OneOrMore\n",
    "from bmo_tools.ontologies import subontology_from_term"
   ]
  },
  {
   "cell_type": "markdown",
   "metadata": {},
   "source": [
    "## Extract UBERON subontology (top down from 'regional part of brain')"
   ]
  },
  {
   "cell_type": "code",
   "execution_count": null,
   "metadata": {},
   "outputs": [],
   "source": [
    "g = rdflib.Graph()\n",
    "g.parse(\"/Users/akkaufma/Desktop/uberon.owl\")"
   ]
  },
  {
   "cell_type": "markdown",
   "metadata": {},
   "source": [
    "Find the term of interest"
   ]
  },
  {
   "cell_type": "code",
   "execution_count": null,
   "metadata": {},
   "outputs": [],
   "source": [
    "label = \"regional part of brain\"\n",
    "term_to_expand = \"\"\n",
    "for s in g.subjects(RDFS.label, rdflib.Literal(label)):\n",
    "    term_to_expand = s\n",
    "    break"
   ]
  },
  {
   "cell_type": "code",
   "execution_count": null,
   "metadata": {},
   "outputs": [],
   "source": [
    "term_to_expand"
   ]
  },
  {
   "cell_type": "code",
   "execution_count": null,
   "metadata": {},
   "outputs": [],
   "source": [
    "uberon = subontology_from_term(g, term_to_expand, closed=True)"
   ]
  },
  {
   "cell_type": "markdown",
   "metadata": {},
   "source": [
    "## Load MBA ontology"
   ]
  },
  {
   "cell_type": "code",
   "execution_count": null,
   "metadata": {},
   "outputs": [],
   "source": [
    "mba = rdflib.Graph()\n",
    "mba.parse(\"../../ontologies/external/allen_MBA_ontology_ccfv3.ttl\", format=\"turtle\")"
   ]
  },
  {
   "cell_type": "markdown",
   "metadata": {},
   "source": [
    "## New properties"
   ]
  },
  {
   "cell_type": "code",
   "execution_count": null,
   "metadata": {},
   "outputs": [],
   "source": [
    "delineates_rel = rdflib.URIRef(\"https://bbp.epfl.ch/ontologies/core/bmo/delineates\")\n",
    "delineatedby_rel = rdflib.URIRef(\"https://bbp.epfl.ch/ontologies/core/bmo/delineatedBy\")"
   ]
  },
  {
   "cell_type": "markdown",
   "metadata": {},
   "source": [
    "## Add new triples to onotlogy: If MBA term present, add delineatedBy relationship"
   ]
  },
  {
   "cell_type": "code",
   "execution_count": null,
   "metadata": {},
   "outputs": [],
   "source": [
    "for s, p, o in uberon.triples((None, URIRef(\"http://www.geneontology.org/formats/oboInOwl#hasDbXref\"), None)):\n",
    "    if str(o).startswith(\"MBA\"):\n",
    "        mba_id = URIRef(f\"http://api.brain-map.org/api/v2/data/Structure/{o.split(':')[-1]}\")\n",
    "        print(f\"{s} {p} {o}\")\n",
    "        uberon.add((s, delineatedby_rel, mba_id))\n",
    "        mba.add((mba_id, delineates_rel, s))"
   ]
  },
  {
   "cell_type": "code",
   "execution_count": null,
   "metadata": {},
   "outputs": [],
   "source": [
    "brainontology = uberon"
   ]
  },
  {
   "cell_type": "code",
   "execution_count": null,
   "metadata": {},
   "outputs": [],
   "source": [
    "brainontology.serialize(destination=\"/Users/akkaufma/Desktop/brain-region-ontology.ttl\")"
   ]
  }
 ],
 "metadata": {
  "kernelspec": {
   "display_name": "Python (20210819)",
   "language": "python",
   "name": "20210819"
  },
  "language_info": {
   "codemirror_mode": {
    "name": "ipython",
    "version": 3
   },
   "file_extension": ".py",
   "mimetype": "text/x-python",
   "name": "python",
   "nbconvert_exporter": "python",
   "pygments_lexer": "ipython3",
   "version": "3.7.11"
  }
 },
 "nbformat": 4,
 "nbformat_minor": 4
}
