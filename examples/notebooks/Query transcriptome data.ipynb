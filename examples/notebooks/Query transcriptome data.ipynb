{
 "cells": [
  {
   "cell_type": "code",
   "execution_count": null,
   "id": "105d0226",
   "metadata": {},
   "outputs": [],
   "source": [
    "import getpass\n",
    "import json\n",
    "import os\n",
    "\n",
    "import numpy as np\n",
    "import pandas as pd\n",
    "\n",
    "from kgforge.core.forge import KnowledgeGraphForge"
   ]
  },
  {
   "cell_type": "code",
   "execution_count": null,
   "id": "b1e8ae14",
   "metadata": {},
   "outputs": [],
   "source": [
    "def retrieve_expression_profile(forge, annotation_resource, tag=None):\n",
    "    expression_profile_batches = annotation_resource.hasBody.expressionProfile\n",
    "    expression_profile = []\n",
    "    for batch in expression_profile_batches:\n",
    "        profile = forge.retrieve(batch.id, version=tag)\n",
    "        expression_profile += forge.as_json(profile.expression)\n",
    "    return expression_profile"
   ]
  },
  {
   "cell_type": "markdown",
   "id": "8e6fbd89",
   "metadata": {},
   "source": [
    "## Initialize and configure"
   ]
  },
  {
   "cell_type": "markdown",
   "id": "590fc80b",
   "metadata": {},
   "source": [
    "### Get an authentication token"
   ]
  },
  {
   "cell_type": "markdown",
   "id": "9ffa57e6",
   "metadata": {},
   "source": [
    "For now, the [Nexus web application](https://bbp.epfl.ch/nexus/web) can be used to get a token. We are looking for other simpler alternatives.\n",
    "\n",
    "- Step 1: From the opened web page, click on the login button on the right corner and follow the instructions.\n",
    "\n",
    "- Step 2: At the end you’ll see a token button on the right corner. Click on it to copy the token."
   ]
  },
  {
   "cell_type": "code",
   "execution_count": null,
   "id": "dc2ba2df",
   "metadata": {},
   "outputs": [],
   "source": [
    "ENDPOINT = \"https://bbp.epfl.ch/nexus/v1\""
   ]
  },
  {
   "cell_type": "code",
   "execution_count": null,
   "id": "234e2865",
   "metadata": {},
   "outputs": [],
   "source": [
    "TOKEN = getpass.getpass()"
   ]
  },
  {
   "cell_type": "code",
   "execution_count": null,
   "id": "21c9ff4d",
   "metadata": {},
   "outputs": [],
   "source": [
    "DOWNLOAD_DIR = \".\"  # here you can specify any path, current directory is selected in the example"
   ]
  },
  {
   "cell_type": "markdown",
   "id": "4dcfacc3",
   "metadata": {},
   "source": [
    "### Configure a client (forge) to access the knowledge graph "
   ]
  },
  {
   "cell_type": "markdown",
   "id": "34204432",
   "metadata": {},
   "source": [
    "Forge session for working with AIBS data:"
   ]
  },
  {
   "cell_type": "code",
   "execution_count": null,
   "id": "648dfcb6",
   "metadata": {},
   "outputs": [],
   "source": [
    "aibs_forge = KnowledgeGraphForge(\n",
    "    \"https://raw.githubusercontent.com/BlueBrain/nexus-forge/master/examples/notebooks/use-cases/prod-forge-nexus.yml\",\n",
    "    endpoint=ENDPOINT,\n",
    "    token=TOKEN,\n",
    "    bucket=\"bbp/aibs\")"
   ]
  },
  {
   "cell_type": "markdown",
   "id": "91238cc4",
   "metadata": {},
   "source": [
    "Forge session for working with gene data:"
   ]
  },
  {
   "cell_type": "code",
   "execution_count": null,
   "id": "d40e9707",
   "metadata": {},
   "outputs": [],
   "source": [
    "genes_forge = KnowledgeGraphForge(\n",
    "    \"https://raw.githubusercontent.com/BlueBrain/nexus-forge/master/examples/notebooks/use-cases/prod-forge-nexus.yml\",\n",
    "    endpoint=ENDPOINT,\n",
    "    token=TOKEN,\n",
    "    bucket=\"bbp/gene-annotations\")"
   ]
  },
  {
   "cell_type": "markdown",
   "id": "72d1467d",
   "metadata": {},
   "source": [
    "## Search and Download"
   ]
  },
  {
   "cell_type": "markdown",
   "id": "542e52d6",
   "metadata": {},
   "source": [
    "Here, before we begin fetching the datasets and resources, we need to set the version of the dataset we want to work with. All the datasets (taxonomy of clusters, gene expression profiles) are tagged with the same tag.\n",
    "\n",
    "The tag can be set to `None` to get the last version."
   ]
  },
  {
   "cell_type": "code",
   "execution_count": null,
   "id": "7ce6d6e8",
   "metadata": {},
   "outputs": [],
   "source": [
    "DATASET_TAG = '2022-02-17'"
   ]
  },
  {
   "cell_type": "markdown",
   "id": "70781b55",
   "metadata": {},
   "source": [
    "### Original AIBS datasets"
   ]
  },
  {
   "cell_type": "markdown",
   "id": "32f59aed",
   "metadata": {},
   "source": [
    "1. Taxonomy of clusters (serialized cluster hierarchy with all node information embedded)."
   ]
  },
  {
   "cell_type": "code",
   "execution_count": null,
   "id": "30455fc5",
   "metadata": {},
   "outputs": [],
   "source": [
    "type_hierarchy_dataset = aibs_forge.search(\n",
    "    {\"type\": \"TypeHierarchyDataset\"}, limit=None)[0]\n",
    "type_hierarchy_dataset = aibs_forge.retrieve(\n",
    "    type_hierarchy_dataset.id, version=DATASET_TAG)"
   ]
  },
  {
   "cell_type": "code",
   "execution_count": null,
   "id": "9c456652",
   "metadata": {},
   "outputs": [],
   "source": [
    "print(type_hierarchy_dataset)"
   ]
  },
  {
   "cell_type": "markdown",
   "id": "d5bff45e",
   "metadata": {},
   "source": [
    "Download the dataset"
   ]
  },
  {
   "cell_type": "code",
   "execution_count": null,
   "id": "193b3f44",
   "metadata": {},
   "outputs": [],
   "source": [
    "aibs_forge.download(\n",
    "    type_hierarchy_dataset.distribution,\n",
    "    follow=\"contentUrl\",\n",
    "    path=DOWNLOAD_DIR,\n",
    "    overwrite=True\n",
    ")"
   ]
  },
  {
   "cell_type": "markdown",
   "id": "0c76c16f",
   "metadata": {},
   "source": [
    "2. Gene Expression by Cluster, trimmed means (gene expression aggregated per cell type, calculated as trimmed means (25%-75%))."
   ]
  },
  {
   "cell_type": "code",
   "execution_count": null,
   "id": "808fd687",
   "metadata": {},
   "outputs": [],
   "source": [
    "mean_expression_dataset = aibs_forge.search(\n",
    "    {\n",
    "        \"type\": \"GeneExpressionDataset\",\n",
    "        \"name\": \"Allen Transcriptomic Types (Trimmed) Mean Expression Profiles\"\n",
    "    }, limit=None)[0]\n",
    "mean_expression_dataset = aibs_forge.retrieve(\n",
    "    mean_expression_dataset.id, version=DATASET_TAG)"
   ]
  },
  {
   "cell_type": "code",
   "execution_count": null,
   "id": "ef800582",
   "metadata": {},
   "outputs": [],
   "source": [
    "print(mean_expression_dataset)"
   ]
  },
  {
   "cell_type": "markdown",
   "id": "fa3ec7d4",
   "metadata": {},
   "source": [
    "Download the dataset"
   ]
  },
  {
   "cell_type": "code",
   "execution_count": null,
   "id": "60841517",
   "metadata": {},
   "outputs": [],
   "source": [
    "aibs_forge.download(\n",
    "    mean_expression_dataset.distribution,\n",
    "    follow=\"contentUrl\",\n",
    "    path=DOWNLOAD_DIR,\n",
    "    overwrite=True\n",
    ")"
   ]
  },
  {
   "cell_type": "markdown",
   "id": "560041c0",
   "metadata": {},
   "source": [
    "Read the downloaded gene expression data into a pandas dataframe."
   ]
  },
  {
   "cell_type": "code",
   "execution_count": null,
   "id": "b67d40f9",
   "metadata": {},
   "outputs": [],
   "source": [
    "raw_mean_expression_data = pd.read_csv(\n",
    "    os.path.join(\n",
    "        DOWNLOAD_DIR, mean_expression_dataset.distribution.name))\n",
    "raw_mean_expression_data.head(3)"
   ]
  },
  {
   "cell_type": "markdown",
   "id": "6f1c3d3f",
   "metadata": {},
   "source": [
    "3. Gene Expression by Cluster, medians (gene expression aggregated per cell type)."
   ]
  },
  {
   "cell_type": "code",
   "execution_count": null,
   "id": "2b576500",
   "metadata": {},
   "outputs": [],
   "source": [
    "median_expression_dataset = aibs_forge.search(\n",
    "    {\n",
    "        \"type\": \"GeneExpressionDataset\",\n",
    "        \"name\": \"Allen Transcriptomic Types Median Expression Profiles\"\n",
    "    }, limit=None)[0]\n",
    "median_expression_dataset = aibs_forge.retrieve(\n",
    "    median_expression_dataset.id, version=DATASET_TAG)"
   ]
  },
  {
   "cell_type": "code",
   "execution_count": null,
   "id": "d0de808f",
   "metadata": {},
   "outputs": [],
   "source": [
    "print(median_expression_dataset)"
   ]
  },
  {
   "cell_type": "code",
   "execution_count": null,
   "id": "6f6bb6dc",
   "metadata": {},
   "outputs": [],
   "source": [
    "aibs_forge.download(\n",
    "    median_expression_dataset.distribution,\n",
    "    follow=\"contentUrl\",\n",
    "    path=DOWNLOAD_DIR,\n",
    "    overwrite=True\n",
    ")"
   ]
  },
  {
   "cell_type": "code",
   "execution_count": null,
   "id": "ea677ed0",
   "metadata": {},
   "outputs": [],
   "source": [
    "raw_median_expression_data = pd.read_csv(\n",
    "    os.path.join(\n",
    "        DOWNLOAD_DIR, median_expression_dataset.distribution.name))\n",
    "raw_median_expression_data.head(3)"
   ]
  },
  {
   "cell_type": "markdown",
   "id": "79138646",
   "metadata": {},
   "source": [
    "### Annotations of TTypes"
   ]
  },
  {
   "cell_type": "markdown",
   "id": "b9d6e0e4",
   "metadata": {},
   "source": [
    "Get all TTypes for the retrieved taxonomy dataset."
   ]
  },
  {
   "cell_type": "code",
   "execution_count": null,
   "id": "9a717ad0",
   "metadata": {},
   "outputs": [],
   "source": [
    "query = f\"\"\"\n",
    "    SELECT ?id\n",
    "    WHERE {{\n",
    "        ?id a GeneExpressionAnnotation ;\n",
    "            <https://bluebrain.github.io/nexus/vocabulary/deprecated> false ;\n",
    "            derivation/entity <{type_hierarchy_dataset.id}>.\n",
    "    }}\n",
    "\"\"\"\n",
    "annotation_ids = aibs_forge.sparql(query, limit=None)\n",
    "\n",
    "# If we set up specific version of the dataset, we need to make sure\n",
    "# we fetch TType annotations corresponding to this version.\n",
    "ttype_annotations = []\n",
    "if DATASET_TAG:\n",
    "    for annotation in annotation_ids:\n",
    "        ttype_annotations.append(\n",
    "            aibs_forge.retrieve(annotation.id, version=DATASET_TAG))"
   ]
  },
  {
   "cell_type": "code",
   "execution_count": null,
   "id": "4860d14a",
   "metadata": {},
   "outputs": [],
   "source": [
    "print(\"Retrieved\", len(ttype_annotations), \"TType annotations\")"
   ]
  },
  {
   "cell_type": "markdown",
   "id": "e1ea4801",
   "metadata": {},
   "source": [
    "You can work with the retrieved resources as a dataframe"
   ]
  },
  {
   "cell_type": "code",
   "execution_count": null,
   "id": "fbbdf860",
   "metadata": {},
   "outputs": [],
   "source": [
    "df = aibs_forge.as_dataframe(ttype_annotations)\n",
    "print(df.columns)\n",
    "df.head(3)"
   ]
  },
  {
   "cell_type": "markdown",
   "id": "16c00be5",
   "metadata": {},
   "source": [
    "We can visualize brain regions aggregated from all individual cells for each of the T-types."
   ]
  },
  {
   "cell_type": "markdown",
   "id": "c1885d4d",
   "metadata": {},
   "source": [
    "We can visualize subject sex aggregated from all individual cells for each of the T-types."
   ]
  },
  {
   "cell_type": "code",
   "execution_count": null,
   "id": "9c11712d",
   "metadata": {},
   "outputs": [],
   "source": [
    "def get_brain_region_notations(records):\n",
    "    if isinstance(records, float):\n",
    "        return []\n",
    "    return [\n",
    "        record[\"notation\"]\n",
    "        for record in records\n",
    "    ]"
   ]
  },
  {
   "cell_type": "code",
   "execution_count": null,
   "id": "21124e7a",
   "metadata": {},
   "outputs": [],
   "source": [
    "df[\"regionLabel\"] = df[\"brainLocation.brainRegion\"].apply(get_brain_region_notations)\n",
    "df[[\"label\", \"regionLabel\"]]"
   ]
  },
  {
   "cell_type": "code",
   "execution_count": null,
   "id": "2de8c65b",
   "metadata": {},
   "outputs": [],
   "source": [
    "def get_sex_labels(records):\n",
    "    if isinstance(records, float):\n",
    "        return []\n",
    "    return [\n",
    "        record[\"label\"]\n",
    "        for record in records\n",
    "    ]"
   ]
  },
  {
   "cell_type": "code",
   "execution_count": null,
   "id": "06e08c21",
   "metadata": {},
   "outputs": [],
   "source": [
    "df[\"sexLabel\"] = df[\"subject.sex\"].apply(get_sex_labels)\n",
    "df[[\"label\", \"sexLabel\"]]"
   ]
  },
  {
   "cell_type": "markdown",
   "id": "b1fe75c9",
   "metadata": {},
   "source": [
    "We can get a list of \"high-order\" types from the cell clustering for which their gene expression annotation was infered (only mean is calculated as mean of all the representatives of the cluster)"
   ]
  },
  {
   "cell_type": "code",
   "execution_count": null,
   "id": "48fc85a3",
   "metadata": {},
   "outputs": [],
   "source": [
    "df[df.inferred.notna()][\"label\"]"
   ]
  },
  {
   "cell_type": "markdown",
   "id": "11271a31",
   "metadata": {},
   "source": [
    "You can work with individual results as json:"
   ]
  },
  {
   "cell_type": "code",
   "execution_count": null,
   "id": "6d6db40b",
   "metadata": {
    "scrolled": true
   },
   "outputs": [],
   "source": [
    "json_repr = aibs_forge.as_json(ttype_annotations[0])\n",
    "\n",
    "# Pretty print of the JSON dict\n",
    "print(json.dumps(json_repr, indent=\"   \"))"
   ]
  },
  {
   "cell_type": "markdown",
   "id": "9b79161a",
   "metadata": {},
   "source": [
    "You can search by a particular TType label"
   ]
  },
  {
   "cell_type": "code",
   "execution_count": null,
   "id": "b688af0d",
   "metadata": {
    "scrolled": true
   },
   "outputs": [],
   "source": [
    "annotation_376_Astro = aibs_forge.search({\n",
    "    \"type\": \"GeneExpressionAnnotation\",\n",
    "    \"hasTarget\": {\n",
    "        \"hasSource\": {\n",
    "            \"label\": \"376_Astro\"\n",
    "        }\n",
    "    },\n",
    "    \"derivation\": {\n",
    "        \"entity\": {\n",
    "            \"id\": type_hierarchy_dataset.id\n",
    "        }\n",
    "    }\n",
    "}, limit=None)"
   ]
  },
  {
   "cell_type": "code",
   "execution_count": null,
   "id": "8607412e",
   "metadata": {
    "scrolled": true
   },
   "outputs": [],
   "source": [
    "for a in annotation_376_Astro:\n",
    "    print(a)"
   ]
  },
  {
   "cell_type": "markdown",
   "id": "ed3ab3a5",
   "metadata": {},
   "source": [
    "### Gene Expression Profiles of TTypes"
   ]
  },
  {
   "cell_type": "markdown",
   "id": "914cd093",
   "metadata": {},
   "source": [
    "Retrieve the gene expression profile associated with a given TType annotation."
   ]
  },
  {
   "cell_type": "code",
   "execution_count": null,
   "id": "1db9b2bf",
   "metadata": {},
   "outputs": [],
   "source": [
    "annotation = ttype_annotations[0]"
   ]
  },
  {
   "cell_type": "code",
   "execution_count": null,
   "id": "7b5540cc",
   "metadata": {},
   "outputs": [],
   "source": [
    "annotation.hasTarget.hasSource.label"
   ]
  },
  {
   "cell_type": "code",
   "execution_count": null,
   "id": "34b50f4d",
   "metadata": {
    "scrolled": true
   },
   "outputs": [],
   "source": [
    "gene_expression_profile = retrieve_expression_profile(\n",
    "    aibs_forge, annotation, DATASET_TAG)"
   ]
  },
  {
   "cell_type": "code",
   "execution_count": null,
   "id": "edbf5950",
   "metadata": {},
   "outputs": [],
   "source": [
    "gene_expression_profile"
   ]
  },
  {
   "cell_type": "markdown",
   "id": "8f56fe80",
   "metadata": {},
   "source": [
    "Gene expression profile contains all non-zero expression values for different genes."
   ]
  },
  {
   "cell_type": "code",
   "execution_count": null,
   "id": "66cc34d8",
   "metadata": {},
   "outputs": [],
   "source": [
    "# Print 5 records of the retrieved expression profile\n",
    "for el in gene_expression_profile[:5]:\n",
    "    if isinstance(el[\"series\"], dict):\n",
    "        el[\"series\"] = [el[\"series\"]]\n",
    "    print(\"Gene: \", el[\"isMeasurementOf\"][\"label\"])\n",
    "    for record in el[\"series\"]:\n",
    "        print(\"\\tStatistic: \", record[\"statistic\"])\n",
    "        print(\"\\tValue: \", record[\"value\"], record[\"unitCode\"])\n",
    "        print()"
   ]
  },
  {
   "cell_type": "markdown",
   "id": "a937ca55",
   "metadata": {},
   "source": [
    "We can also get a raw matrix with gene expression for each 'leaf' T-types and perform necessary operations with it (e.g. find variance)."
   ]
  },
  {
   "cell_type": "markdown",
   "id": "c9b905bc",
   "metadata": {},
   "source": [
    "Download and open the raw expression matrix"
   ]
  },
  {
   "cell_type": "code",
   "execution_count": null,
   "id": "580928b4",
   "metadata": {},
   "outputs": [],
   "source": [
    "raw_expression_dataset = aibs_forge.retrieve(annotation.rawExpressionDataset.id)"
   ]
  },
  {
   "cell_type": "code",
   "execution_count": null,
   "id": "abf2f14c",
   "metadata": {},
   "outputs": [],
   "source": [
    "aibs_forge.download(\n",
    "    raw_expression_dataset.distribution,\n",
    "    follow=\"contentUrl\",\n",
    "    path=DOWNLOAD_DIR,\n",
    "    overwrite=True\n",
    ")"
   ]
  },
  {
   "cell_type": "code",
   "execution_count": null,
   "id": "121b914c",
   "metadata": {},
   "outputs": [],
   "source": [
    "expression_matrix = np.load(os.path.join(\n",
    "        DOWNLOAD_DIR, raw_expression_dataset.distribution.name))"
   ]
  },
  {
   "cell_type": "code",
   "execution_count": null,
   "id": "243184e9",
   "metadata": {},
   "outputs": [],
   "source": [
    "expression_matrix.shape"
   ]
  },
  {
   "cell_type": "markdown",
   "id": "8c62028b",
   "metadata": {},
   "source": [
    "Now we also need to load the index for this matrix (the list of genes to which columns correspond)."
   ]
  },
  {
   "cell_type": "code",
   "execution_count": null,
   "id": "2b56188c",
   "metadata": {},
   "outputs": [],
   "source": [
    "index_resource = aibs_forge.retrieve(\n",
    "    raw_expression_dataset.geneExpressionIndex.id)\n",
    "aibs_forge.download(\n",
    "    index_resource.distribution,\n",
    "    follow=\"contentUrl\",\n",
    "    path=DOWNLOAD_DIR,\n",
    "    overwrite=True\n",
    ")"
   ]
  },
  {
   "cell_type": "code",
   "execution_count": null,
   "id": "6163ae84",
   "metadata": {},
   "outputs": [],
   "source": [
    "with open(os.path.join(\n",
    "        DOWNLOAD_DIR, index_resource.distribution.name), \"r\") as f:\n",
    "    gene_index = json.load(f)"
   ]
  },
  {
   "cell_type": "code",
   "execution_count": null,
   "id": "f4e4ba44",
   "metadata": {},
   "outputs": [],
   "source": [
    "print(\"First five genes: \", gene_index[:5])\n",
    "print(\"Number of genes in the index: \", len(gene_index))"
   ]
  },
  {
   "cell_type": "markdown",
   "id": "afa48c50",
   "metadata": {},
   "source": [
    "Finally, we can compute, for example, variance:"
   ]
  },
  {
   "cell_type": "code",
   "execution_count": null,
   "id": "82dc5d40",
   "metadata": {},
   "outputs": [],
   "source": [
    "gene_variance = np.var(expression_matrix, axis=0)"
   ]
  },
  {
   "cell_type": "code",
   "execution_count": null,
   "id": "391b321e",
   "metadata": {},
   "outputs": [],
   "source": [
    "print(\"Variance for the five first genes:\")\n",
    "for i, gene in enumerate(gene_index[:5]):\n",
    "    print(\"\\t\", gene, gene_variance[i])"
   ]
  },
  {
   "cell_type": "markdown",
   "id": "df3e62bf",
   "metadata": {},
   "source": [
    "### Gene meta-data and their GO annotations"
   ]
  },
  {
   "cell_type": "markdown",
   "id": "454788a4",
   "metadata": {},
   "source": [
    "Retrieve some gene meta-data:\n",
    "\n",
    "- name, description\n",
    "- cross-references\n",
    "- go terms (molecular function, biological process, cellular component)"
   ]
  },
  {
   "cell_type": "markdown",
   "id": "34379b0b",
   "metadata": {},
   "source": [
    "Search for a gene by UniprotAC"
   ]
  },
  {
   "cell_type": "code",
   "execution_count": null,
   "id": "e7013a74",
   "metadata": {},
   "outputs": [],
   "source": [
    "gene_uniprot_ac = \"Q6PFX2\"\n",
    "genes = genes_forge.search({\n",
    "    \"type\": \"Gene\",\n",
    "    \"identifier\": {\n",
    "        \"propertyID\": \"UniProtAC\",\n",
    "        \"value\": gene_uniprot_ac\n",
    "    }\n",
    "})\n",
    "for gene in genes:\n",
    "    print(gene)"
   ]
  },
  {
   "cell_type": "markdown",
   "id": "be01db1e",
   "metadata": {},
   "source": [
    "Search for a gene by a common name (for now the name should match exactly to the one registered in Nexus)"
   ]
  },
  {
   "cell_type": "code",
   "execution_count": null,
   "id": "04ac6545",
   "metadata": {},
   "outputs": [],
   "source": [
    "gene_name = \"Bend6\"\n",
    "genes = genes_forge.search({\n",
    "    \"type\": \"Gene\",\n",
    "    \"label\": gene_name\n",
    "})\n",
    "for gene in genes:\n",
    "    print(gene)"
   ]
  },
  {
   "cell_type": "markdown",
   "id": "776fa522",
   "metadata": {},
   "source": [
    "Let us take 5 arbitrary records from the previously extracted gene expression profiles and retrieve their meta-data."
   ]
  },
  {
   "cell_type": "code",
   "execution_count": null,
   "id": "5282250b",
   "metadata": {},
   "outputs": [],
   "source": [
    "for el in gene_expression_profile[:5]:\n",
    "    gene_link = el[\"isMeasurementOf\"]\n",
    "    if \"id\" in gene_link:\n",
    "        gene_resource = genes_forge.retrieve(gene_link[\"id\"])\n",
    "        print(gene_resource)                         "
   ]
  }
 ],
 "metadata": {
  "kernelspec": {
   "display_name": "bg",
   "language": "python",
   "name": "bg"
  },
  "language_info": {
   "codemirror_mode": {
    "name": "ipython",
    "version": 3
   },
   "file_extension": ".py",
   "mimetype": "text/x-python",
   "name": "python",
   "nbconvert_exporter": "python",
   "pygments_lexer": "ipython3",
   "version": "3.7.10"
  }
 },
 "nbformat": 4,
 "nbformat_minor": 5
}
