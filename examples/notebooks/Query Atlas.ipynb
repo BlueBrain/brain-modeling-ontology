{
 "cells": [
  {
   "cell_type": "markdown",
   "metadata": {},
   "source": [
    "# Get Atlas Release Dataset"
   ]
  },
  {
   "cell_type": "markdown",
   "metadata": {},
   "source": [
    "## Imports"
   ]
  },
  {
   "cell_type": "code",
   "execution_count": null,
   "metadata": {},
   "outputs": [],
   "source": [
    "import json\n",
    "import rdflib\n",
    "import getpass\n",
    "import pandas as pd\n",
    "from rdflib import RDF, RDFS, XSD, OWL, URIRef, BNode, SKOS\n",
    "import pprint\n",
    "from kgforge.core import KnowledgeGraphForge"
   ]
  },
  {
   "cell_type": "markdown",
   "metadata": {},
   "source": [
    "## Setup\n",
    "Get an authentication token"
   ]
  },
  {
   "cell_type": "markdown",
   "metadata": {},
   "source": [
    "For now, the [Nexus web application](https://bbp.epfl.ch/nexus/web) can be used to get a token. We are looking for other simpler alternatives.\n",
    "\n",
    "- Step 1: From the opened web page, click on the login button on the right corner and follow the instructions.\n",
    "\n",
    "![login-ui](./login-ui.png)\n",
    "\n",
    "- Step 2: At the end you’ll see a token button on the right corner. Click on it to copy the token.\n",
    "\n",
    "![login-ui](./copy-token.png)\n"
   ]
  },
  {
   "cell_type": "code",
   "execution_count": null,
   "metadata": {},
   "outputs": [],
   "source": [
    "TOKEN = getpass.getpass()"
   ]
  },
  {
   "cell_type": "code",
   "execution_count": null,
   "metadata": {},
   "outputs": [],
   "source": [
    "endpoint_staging = \"https://staging.nise.bbp.epfl.ch/nexus/v1\"\n",
    "endpoint_prod = \"https://bbp.epfl.ch/nexus/v1\"\n",
    "endpoint=endpoint_prod\n",
    "\n",
    "forge = KnowledgeGraphForge(\"https://raw.githubusercontent.com/BlueBrain/nexus-forge/master/examples/notebooks/use-cases/prod-forge-nexus.yml\",\n",
    "                            token=TOKEN,\n",
    "                            endpoint=endpoint, \n",
    "                            bucket=\"bbp/atlas\")"
   ]
  },
  {
   "cell_type": "markdown",
   "metadata": {},
   "source": [
    "## Set the atlas release id\n",
    "These atlas releases can be explored through the atlas web app:\n",
    "\n",
    "* dev: https://bluebrainatlas.kcpdev.bbp.epfl.ch/atlas\n",
    "* prod: https://bbp.epfl.ch/atlas\n"
   ]
  },
  {
   "cell_type": "code",
   "execution_count": null,
   "metadata": {},
   "outputs": [],
   "source": [
    "\n",
    "Prod_BBP_Mouse_Brain_Atlas_Release = \"https://bbp.epfl.ch/neurosciencegraph/data/4906ab85-694f-469d-962f-c0174e901885\" \n",
    "Staging_BBP_Mouse_Brain_Atlas_Release = \"https://bbp.epfl.ch/neurosciencegraph/data/brainatlasrelease/c96c71a8-4c0d-4bc1-8a1a-141d9ed6693d\" \n",
    "atlas_release_id = Prod_BBP_Mouse_Brain_Atlas_Release"
   ]
  },
  {
   "cell_type": "markdown",
   "metadata": {},
   "source": [
    "## Get the atlas release high level metadata"
   ]
  },
  {
   "cell_type": "code",
   "execution_count": null,
   "metadata": {},
   "outputs": [],
   "source": [
    "atlas_release = forge.retrieve(atlas_release_id)"
   ]
  },
  {
   "cell_type": "code",
   "execution_count": null,
   "metadata": {},
   "outputs": [],
   "source": [
    "print(atlas_release)"
   ]
  },
  {
   "cell_type": "code",
   "execution_count": null,
   "metadata": {},
   "outputs": [],
   "source": [
    "atlas_release._store_metadata[\"_rev\"]"
   ]
  },
  {
   "cell_type": "markdown",
   "metadata": {},
   "source": [
    "## Get the atlas hierarchy"
   ]
  },
  {
   "cell_type": "code",
   "execution_count": null,
   "metadata": {},
   "outputs": [],
   "source": [
    "parcellation_ontology = forge.retrieve(atlas_release.parcellationOntology.id, cross_bucket=True)"
   ]
  },
  {
   "cell_type": "code",
   "execution_count": null,
   "metadata": {},
   "outputs": [],
   "source": [
    "print(parcellation_ontology)"
   ]
  },
  {
   "cell_type": "code",
   "execution_count": null,
   "metadata": {},
   "outputs": [],
   "source": [
    "forge.download(parcellation_ontology, \"distribution.contentUrl\", \".\", overwrite=True, cross_bucket=True)"
   ]
  },
  {
   "cell_type": "markdown",
   "metadata": {},
   "source": [
    "## Get parcellation (annotation) volume"
   ]
  },
  {
   "cell_type": "code",
   "execution_count": null,
   "metadata": {},
   "outputs": [],
   "source": [
    "parcellation_volume = forge.retrieve(atlas_release.parcellationVolume.id)"
   ]
  },
  {
   "cell_type": "code",
   "execution_count": null,
   "metadata": {},
   "outputs": [],
   "source": [
    "print(parcellation_volume)"
   ]
  },
  {
   "cell_type": "code",
   "execution_count": null,
   "metadata": {},
   "outputs": [],
   "source": [
    "forge.download(parcellation_volume, \"distribution.contentUrl\", \".\", overwrite=True)"
   ]
  },
  {
   "cell_type": "markdown",
   "metadata": {},
   "source": [
    "## Get orientation field volume"
   ]
  },
  {
   "cell_type": "code",
   "execution_count": null,
   "metadata": {},
   "outputs": [],
   "source": [
    "query = {\n",
    "          \"type\":\"CellOrientationField\", \n",
    "          \"atlasRelease\":{\"@id\":atlas_release_id},\n",
    "          \"brainLocation\":{\"brainRegion\":{\"id\":\"http://api.brain-map.org/api/v2/data/Structure/997\"}} # root brain region\n",
    "        }\n",
    "cell_orientation_field = forge.search(query)\n",
    "print(f\"{len(cell_orientation_field)} found\")"
   ]
  },
  {
   "cell_type": "code",
   "execution_count": null,
   "metadata": {},
   "outputs": [],
   "source": [
    "print(cell_orientation_field)"
   ]
  },
  {
   "cell_type": "code",
   "execution_count": null,
   "metadata": {},
   "outputs": [],
   "source": [
    "forge.download(cell_orientation_field, \"distribution.contentUrl\", \".\", overwrite=True)"
   ]
  },
  {
   "cell_type": "markdown",
   "metadata": {},
   "source": [
    "## Get the metype density nrrd file for each region (region is an input)"
   ]
  },
  {
   "cell_type": "code",
   "execution_count": null,
   "metadata": {},
   "outputs": [],
   "source": [
    "resources = forge.search({\"type\":\"METypeDensity\",\"atlasRelease\":{\"@id\":atlas_release_id}}, limit=1000, debug=False)\n",
    "len(resources)"
   ]
  },
  {
   "cell_type": "code",
   "execution_count": null,
   "metadata": {},
   "outputs": [],
   "source": [
    "reshaped_resources = forge.reshape(resources, keep=[\"id\",\"type\", \"annotation.hasBody.id\", \"annotation.hasBody.label\",\n",
    "                     \"brainLocation.brainRegion.id\", \"brainLocation.brainRegion.label\", \"distribution.atLocation.location\"])\n",
    "df = forge.as_dataframe(reshaped_resources, nesting=\"_\")\n",
    "\n",
    "df[\"mtype\"] = df.apply(lambda row: (row.annotation[0][\"hasBody\"][\"label\"],row.annotation[0][\"hasBody\"][\"id\"]) , axis=1) \n",
    "df[\"etype\"] = df.apply(lambda row: (row.annotation[1][\"hasBody\"][\"label\"],row.annotation[1][\"hasBody\"][\"id\"]) , axis=1) \n",
    "type_column = df.pop('type')\n",
    "mtype_column = df.pop('mtype')\n",
    "etype_column = df.pop('etype')\n",
    "\n",
    "df.insert(0, 'type', type_column)\n",
    "df.insert(1, 'mtype', mtype_column)\n",
    "df.insert(2, 'etype', etype_column)\n",
    "df.drop(columns=\"annotation\")\n",
    "\n",
    "print(\"\")\n"
   ]
  },
  {
   "cell_type": "code",
   "execution_count": null,
   "metadata": {},
   "outputs": [],
   "source": [
    "df.head(100)"
   ]
  },
  {
   "cell_type": "code",
   "execution_count": null,
   "metadata": {},
   "outputs": [],
   "source": [
    "forge.download(resources, \"distribution.contentUrl\", \".\", overwrite=True)"
   ]
  },
  {
   "cell_type": "code",
   "execution_count": null,
   "metadata": {},
   "outputs": [],
   "source": []
  }
 ],
 "metadata": {
  "kernelspec": {
   "display_name": "Python 3.7 (nexusforgelatest)",
   "language": "python",
   "name": "nexusforgelatest"
  },
  "language_info": {
   "codemirror_mode": {
    "name": "ipython",
    "version": 3
   },
   "file_extension": ".py",
   "mimetype": "text/x-python",
   "name": "python",
   "nbconvert_exporter": "python",
   "pygments_lexer": "ipython3",
   "version": "3.7.10"
  }
 },
 "nbformat": 4,
 "nbformat_minor": 4
}
