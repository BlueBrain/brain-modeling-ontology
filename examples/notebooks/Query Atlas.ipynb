{
 "cells": [
  {
   "cell_type": "markdown",
   "metadata": {},
   "source": [
    "# Get Atlas Release Dataset"
   ]
  },
  {
   "cell_type": "markdown",
   "metadata": {},
   "source": [
    "## Imports"
   ]
  },
  {
   "cell_type": "code",
   "execution_count": null,
   "metadata": {},
   "outputs": [],
   "source": [
    "import json\n",
    "import rdflib\n",
    "import getpass\n",
    "import pandas as pd\n",
    "from rdflib import RDF, RDFS, XSD, OWL, URIRef, BNode, SKOS\n",
    "import pprint\n",
    "from kgforge.core import KnowledgeGraphForge\n",
    "from kgforge.specializations.resources import Dataset"
   ]
  },
  {
   "cell_type": "markdown",
   "metadata": {},
   "source": [
    "## Setup\n",
    "Get an authentication token"
   ]
  },
  {
   "cell_type": "markdown",
   "metadata": {},
   "source": [
    "For now, the [Nexus web application](https://bbp.epfl.ch/nexus/web) can be used to get a token. We are looking for other simpler alternatives.\n",
    "\n",
    "- Step 1: From the opened web page, click on the login button on the right corner and follow the instructions.\n",
    "\n",
    "![login-ui](./login-ui.png)\n",
    "\n",
    "- Step 2: At the end you’ll see a token button on the right corner. Click on it to copy the token.\n",
    "\n",
    "![login-ui](./copy-token.png)\n"
   ]
  },
  {
   "cell_type": "code",
   "execution_count": null,
   "metadata": {},
   "outputs": [],
   "source": []
  },
  {
   "cell_type": "code",
   "execution_count": null,
   "metadata": {},
   "outputs": [],
   "source": [
    "TOKEN = \"\" # paste your token here"
   ]
  },
  {
   "cell_type": "code",
   "execution_count": null,
   "metadata": {},
   "outputs": [],
   "source": [
    "endpoint_staging = \"https://staging.nise.bbp.epfl.ch/nexus/v1\"\n",
    "endpoint_prod = \"https://bbp.epfl.ch/nexus/v1\"\n",
    "endpoint=endpoint_prod\n",
    "\n",
    "forge = KnowledgeGraphForge(\"prod-forge-nexus.yml\",\n",
    "                            token=TOKEN,\n",
    "                            endpoint=endpoint, \n",
    "                            bucket=\"bbp/atlas\")"
   ]
  },
  {
   "cell_type": "markdown",
   "metadata": {},
   "source": [
    "## Set the atlas release id\n",
    "These atlas releases can be explored through the atlas web app:\n",
    "\n",
    "* dev: https://bluebrainatlas.kcpdev.bbp.epfl.ch/atlas\n",
    "* prod: https://bbp.epfl.ch/atlas\n"
   ]
  },
  {
   "cell_type": "code",
   "execution_count": null,
   "metadata": {},
   "outputs": [],
   "source": [
    "\n",
    "Prod_BBP_Mouse_Brain_Atlas_Release = \"https://bbp.epfl.ch/neurosciencegraph/data/4906ab85-694f-469d-962f-c0174e901885\" \n",
    "Staging_BBP_Mouse_Brain_Atlas_Release = \"https://bbp.epfl.ch/neurosciencegraph/data/brainatlasrelease/c96c71a8-4c0d-4bc1-8a1a-141d9ed6693d\" \n",
    "atlas_release_id = Prod_BBP_Mouse_Brain_Atlas_Release"
   ]
  },
  {
   "cell_type": "markdown",
   "metadata": {},
   "source": [
    "## Get the atlas release high level metadata"
   ]
  },
  {
   "cell_type": "code",
   "execution_count": null,
   "metadata": {},
   "outputs": [],
   "source": [
    "atlas_release = forge.retrieve(atlas_release_id)"
   ]
  },
  {
   "cell_type": "code",
   "execution_count": null,
   "metadata": {},
   "outputs": [],
   "source": [
    "print(atlas_release)"
   ]
  },
  {
   "cell_type": "code",
   "execution_count": null,
   "metadata": {},
   "outputs": [],
   "source": [
    "# Get the current revision of the Atlas release\n",
    "atlas_release._store_metadata[\"_rev\"]"
   ]
  },
  {
   "cell_type": "markdown",
   "metadata": {},
   "source": [
    "## Get the atlas hierarchy"
   ]
  },
  {
   "cell_type": "code",
   "execution_count": null,
   "metadata": {},
   "outputs": [],
   "source": [
    "parcellation_ontology = forge.retrieve(atlas_release.parcellationOntology.id, cross_bucket=True)"
   ]
  },
  {
   "cell_type": "code",
   "execution_count": null,
   "metadata": {},
   "outputs": [],
   "source": [
    "print(parcellation_ontology.distribution)"
   ]
  },
  {
   "cell_type": "code",
   "execution_count": null,
   "metadata": {},
   "outputs": [],
   "source": [
    "parcellation_ontology_copy = Dataset.from_resource(forge, parcellation_ontology, store_metadata=True)\n",
    "parcellation_ontology_copy.distribution = [d for d in parcellation_ontology.distribution if d.encodingFormat == \"application/json\"]\n",
    "\n",
    "forge.download(parcellation_ontology_copy, \"distribution.contentUrl\", \".\", overwrite=True, cross_bucket=True)"
   ]
  },
  {
   "cell_type": "markdown",
   "metadata": {},
   "source": [
    "## Get parcellation (annotation) volume"
   ]
  },
  {
   "cell_type": "code",
   "execution_count": null,
   "metadata": {},
   "outputs": [],
   "source": [
    "parcellation_volume = forge.retrieve(atlas_release.parcellationVolume.id)"
   ]
  },
  {
   "cell_type": "code",
   "execution_count": null,
   "metadata": {},
   "outputs": [],
   "source": [
    "print(parcellation_volume)"
   ]
  },
  {
   "cell_type": "code",
   "execution_count": null,
   "metadata": {},
   "outputs": [],
   "source": [
    "forge.download(parcellation_volume, \"distribution.contentUrl\", \".\", overwrite=True)"
   ]
  },
  {
   "cell_type": "markdown",
   "metadata": {},
   "source": [
    "## Get orientation field and Direction vectors volumes"
   ]
  },
  {
   "cell_type": "code",
   "execution_count": null,
   "metadata": {},
   "outputs": [],
   "source": [
    "query = {\n",
    "          \"type\":\"CellOrientationField\", \n",
    "          \"atlasRelease\":{\"@id\":atlas_release_id},\n",
    "          \"brainLocation\":{\"brainRegion\":{\"id\":\"http://api.brain-map.org/api/v2/data/Structure/997\"}} # root brain region\n",
    "        }\n",
    "cell_orientation_field = forge.search(query)\n",
    "print(f\"{len(cell_orientation_field)} found\")"
   ]
  },
  {
   "cell_type": "code",
   "execution_count": null,
   "metadata": {},
   "outputs": [],
   "source": [
    "print(cell_orientation_field)"
   ]
  },
  {
   "cell_type": "code",
   "execution_count": 34,
   "metadata": {},
   "outputs": [],
   "source": [
    "forge.download(cell_orientation_field, \"distribution.contentUrl\", \".\", overwrite=True)"
   ]
  },
  {
   "cell_type": "markdown",
   "metadata": {},
   "source": [
    "## Get the metype density nrrd file for each region (region is an input)"
   ]
  },
  {
   "cell_type": "code",
   "execution_count": 35,
   "metadata": {},
   "outputs": [
    {
     "data": {
      "text/plain": [
       "318"
      ]
     },
     "execution_count": 35,
     "metadata": {},
     "output_type": "execute_result"
    }
   ],
   "source": [
    "resources = forge.search({\"type\":\"METypeDensity\",\"atlasRelease\":{\"@id\":atlas_release_id}}, limit=1000, debug=False)\n",
    "len(resources)"
   ]
  },
  {
   "cell_type": "code",
   "execution_count": 36,
   "metadata": {},
   "outputs": [
    {
     "name": "stdout",
     "output_type": "stream",
     "text": [
      "\n"
     ]
    }
   ],
   "source": [
    "reshaped_resources = forge.reshape(resources, keep=[\"id\",\"type\", \"annotation.hasBody.id\", \"annotation.hasBody.label\",\n",
    "                     \"brainLocation.brainRegion.id\", \"brainLocation.brainRegion.label\", \"distribution.atLocation.location\"])\n",
    "df = forge.as_dataframe(reshaped_resources, nesting=\"_\")\n",
    "\n",
    "df[\"mtype\"] = df.apply(lambda row: (row.annotation[0][\"hasBody\"][\"label\"],row.annotation[0][\"hasBody\"][\"id\"]) , axis=1) \n",
    "df[\"etype\"] = df.apply(lambda row: (row.annotation[1][\"hasBody\"][\"label\"],row.annotation[1][\"hasBody\"][\"id\"]) , axis=1) \n",
    "type_column = df.pop('type')\n",
    "mtype_column = df.pop('mtype')\n",
    "etype_column = df.pop('etype')\n",
    "\n",
    "df.insert(0, 'type', type_column)\n",
    "df.insert(1, 'mtype', mtype_column)\n",
    "df.insert(2, 'etype', etype_column)\n",
    "df.drop(columns=\"annotation\")\n",
    "\n",
    "print(\"\")\n"
   ]
  },
  {
   "cell_type": "code",
   "execution_count": 37,
   "metadata": {},
   "outputs": [
    {
     "data": {
      "text/html": [
       "<div>\n",
       "<style scoped>\n",
       "    .dataframe tbody tr th:only-of-type {\n",
       "        vertical-align: middle;\n",
       "    }\n",
       "\n",
       "    .dataframe tbody tr th {\n",
       "        vertical-align: top;\n",
       "    }\n",
       "\n",
       "    .dataframe thead th {\n",
       "        text-align: right;\n",
       "    }\n",
       "</style>\n",
       "<table border=\"1\" class=\"dataframe\">\n",
       "  <thead>\n",
       "    <tr style=\"text-align: right;\">\n",
       "      <th></th>\n",
       "      <th>type</th>\n",
       "      <th>mtype</th>\n",
       "      <th>etype</th>\n",
       "      <th>id</th>\n",
       "      <th>annotation</th>\n",
       "      <th>brainLocation_brainRegion_id</th>\n",
       "      <th>brainLocation_brainRegion_label</th>\n",
       "      <th>distribution_atLocation_location</th>\n",
       "    </tr>\n",
       "  </thead>\n",
       "  <tbody>\n",
       "    <tr>\n",
       "      <th>0</th>\n",
       "      <td>[NeuronDensity, VolumetricDataLayer, CellDensi...</td>\n",
       "      <td>(L6_TPC:A, http://uri.interlex.org/base/ilx_03...</td>\n",
       "      <td>(cADpyr, http://bbp.epfl.ch/neurosciencegraph/...</td>\n",
       "      <td>https://bbp.epfl.ch/neurosciencegraph/data/den...</td>\n",
       "      <td>[{'hasBody': {'id': 'http://uri.interlex.org/b...</td>\n",
       "      <td>http://api.brain-map.org/api/v2/data/Structure...</td>\n",
       "      <td>root</td>\n",
       "      <td>file:///gpfs/bbp.cscs.ch/data/project/proj39/n...</td>\n",
       "    </tr>\n",
       "    <tr>\n",
       "      <th>1</th>\n",
       "      <td>[NeuronDensity, VolumetricDataLayer, CellDensi...</td>\n",
       "      <td>(L3_TPC:B, http://uri.interlex.org/base/ilx_03...</td>\n",
       "      <td>(cADpyr, http://bbp.epfl.ch/neurosciencegraph/...</td>\n",
       "      <td>https://bbp.epfl.ch/neurosciencegraph/data/den...</td>\n",
       "      <td>[{'hasBody': {'id': 'http://uri.interlex.org/b...</td>\n",
       "      <td>http://api.brain-map.org/api/v2/data/Structure...</td>\n",
       "      <td>root</td>\n",
       "      <td>file:///gpfs/bbp.cscs.ch/data/project/proj39/n...</td>\n",
       "    </tr>\n",
       "    <tr>\n",
       "      <th>2</th>\n",
       "      <td>[NeuronDensity, VolumetricDataLayer, CellDensi...</td>\n",
       "      <td>(L5_TPC:A, http://uri.interlex.org/base/ilx_03...</td>\n",
       "      <td>(cADpyr, http://bbp.epfl.ch/neurosciencegraph/...</td>\n",
       "      <td>https://bbp.epfl.ch/neurosciencegraph/data/den...</td>\n",
       "      <td>[{'hasBody': {'id': 'http://uri.interlex.org/b...</td>\n",
       "      <td>http://api.brain-map.org/api/v2/data/Structure...</td>\n",
       "      <td>root</td>\n",
       "      <td>file:///gpfs/bbp.cscs.ch/data/project/proj39/n...</td>\n",
       "    </tr>\n",
       "    <tr>\n",
       "      <th>3</th>\n",
       "      <td>[NeuronDensity, VolumetricDataLayer, CellDensi...</td>\n",
       "      <td>(L2_TPC:B, http://uri.interlex.org/base/ilx_03...</td>\n",
       "      <td>(cADpyr, http://bbp.epfl.ch/neurosciencegraph/...</td>\n",
       "      <td>https://bbp.epfl.ch/neurosciencegraph/data/den...</td>\n",
       "      <td>[{'hasBody': {'id': 'http://uri.interlex.org/b...</td>\n",
       "      <td>http://api.brain-map.org/api/v2/data/Structure...</td>\n",
       "      <td>root</td>\n",
       "      <td>file:///gpfs/bbp.cscs.ch/data/project/proj39/n...</td>\n",
       "    </tr>\n",
       "    <tr>\n",
       "      <th>4</th>\n",
       "      <td>[NeuronDensity, VolumetricDataLayer, CellDensi...</td>\n",
       "      <td>(L3_TPC:A, http://uri.interlex.org/base/ilx_03...</td>\n",
       "      <td>(cADpyr, http://bbp.epfl.ch/neurosciencegraph/...</td>\n",
       "      <td>https://bbp.epfl.ch/neurosciencegraph/data/den...</td>\n",
       "      <td>[{'hasBody': {'id': 'http://uri.interlex.org/b...</td>\n",
       "      <td>http://api.brain-map.org/api/v2/data/Structure...</td>\n",
       "      <td>root</td>\n",
       "      <td>file:///gpfs/bbp.cscs.ch/data/project/proj39/n...</td>\n",
       "    </tr>\n",
       "    <tr>\n",
       "      <th>...</th>\n",
       "      <td>...</td>\n",
       "      <td>...</td>\n",
       "      <td>...</td>\n",
       "      <td>...</td>\n",
       "      <td>...</td>\n",
       "      <td>...</td>\n",
       "      <td>...</td>\n",
       "      <td>...</td>\n",
       "    </tr>\n",
       "    <tr>\n",
       "      <th>95</th>\n",
       "      <td>[NeuronDensity, VolumetricDataLayer, CellDensi...</td>\n",
       "      <td>(LBC, http://uri.interlex.org/base/ilx_0777215)</td>\n",
       "      <td>(cAC, http://uri.interlex.org/base/ilx_0738197)</td>\n",
       "      <td>https://bbp.epfl.ch/neurosciencegraph/data/451...</td>\n",
       "      <td>[{'hasBody': {'id': 'http://uri.interlex.org/b...</td>\n",
       "      <td>http://api.brain-map.org/api/v2/data/Structure...</td>\n",
       "      <td>root</td>\n",
       "      <td>file:///gpfs/bbp.cscs.ch/data/project/proj39/n...</td>\n",
       "    </tr>\n",
       "    <tr>\n",
       "      <th>96</th>\n",
       "      <td>[NeuronDensity, VolumetricDataLayer, CellDensi...</td>\n",
       "      <td>(L5_NBC, http://uri.interlex.org/base/ilx_0383...</td>\n",
       "      <td>(cAC, http://uri.interlex.org/base/ilx_0738197)</td>\n",
       "      <td>https://bbp.epfl.ch/neurosciencegraph/data/fbe...</td>\n",
       "      <td>[{'hasBody': {'id': 'http://uri.interlex.org/b...</td>\n",
       "      <td>http://api.brain-map.org/api/v2/data/Structure...</td>\n",
       "      <td>root</td>\n",
       "      <td>file:///gpfs/bbp.cscs.ch/data/project/proj39/n...</td>\n",
       "    </tr>\n",
       "    <tr>\n",
       "      <th>97</th>\n",
       "      <td>[NeuronDensity, VolumetricDataLayer, CellDensi...</td>\n",
       "      <td>(DBC, http://uri.interlex.org/base/ilx_0784350)</td>\n",
       "      <td>(bNAC, http://uri.interlex.org/base/ilx_0738203)</td>\n",
       "      <td>https://bbp.epfl.ch/neurosciencegraph/data/95b...</td>\n",
       "      <td>[{'hasBody': {'id': 'http://uri.interlex.org/b...</td>\n",
       "      <td>http://api.brain-map.org/api/v2/data/Structure...</td>\n",
       "      <td>root</td>\n",
       "      <td>file:///gpfs/bbp.cscs.ch/data/project/proj39/n...</td>\n",
       "    </tr>\n",
       "    <tr>\n",
       "      <th>98</th>\n",
       "      <td>[NeuronDensity, VolumetricDataLayer, CellDensi...</td>\n",
       "      <td>(NGC-DA, https://bbp.epfl.ch/ontologies/core/b...</td>\n",
       "      <td>(bNAC, http://uri.interlex.org/base/ilx_0738203)</td>\n",
       "      <td>https://bbp.epfl.ch/neurosciencegraph/data/84f...</td>\n",
       "      <td>[{'hasBody': {'id': 'https://bbp.epfl.ch/ontol...</td>\n",
       "      <td>http://api.brain-map.org/api/v2/data/Structure...</td>\n",
       "      <td>root</td>\n",
       "      <td>file:///gpfs/bbp.cscs.ch/data/project/proj39/n...</td>\n",
       "    </tr>\n",
       "    <tr>\n",
       "      <th>99</th>\n",
       "      <td>[NeuronDensity, VolumetricDataLayer, CellDensi...</td>\n",
       "      <td>(L23_ChC, http://uri.interlex.org/base/ilx_038...</td>\n",
       "      <td>(cAC, http://uri.interlex.org/base/ilx_0738197)</td>\n",
       "      <td>https://bbp.epfl.ch/neurosciencegraph/data/dd0...</td>\n",
       "      <td>[{'hasBody': {'id': 'http://uri.interlex.org/b...</td>\n",
       "      <td>http://api.brain-map.org/api/v2/data/Structure...</td>\n",
       "      <td>root</td>\n",
       "      <td>file:///gpfs/bbp.cscs.ch/data/project/proj39/n...</td>\n",
       "    </tr>\n",
       "  </tbody>\n",
       "</table>\n",
       "<p>100 rows × 8 columns</p>\n",
       "</div>"
      ],
      "text/plain": [
       "                                                 type  \\\n",
       "0   [NeuronDensity, VolumetricDataLayer, CellDensi...   \n",
       "1   [NeuronDensity, VolumetricDataLayer, CellDensi...   \n",
       "2   [NeuronDensity, VolumetricDataLayer, CellDensi...   \n",
       "3   [NeuronDensity, VolumetricDataLayer, CellDensi...   \n",
       "4   [NeuronDensity, VolumetricDataLayer, CellDensi...   \n",
       "..                                                ...   \n",
       "95  [NeuronDensity, VolumetricDataLayer, CellDensi...   \n",
       "96  [NeuronDensity, VolumetricDataLayer, CellDensi...   \n",
       "97  [NeuronDensity, VolumetricDataLayer, CellDensi...   \n",
       "98  [NeuronDensity, VolumetricDataLayer, CellDensi...   \n",
       "99  [NeuronDensity, VolumetricDataLayer, CellDensi...   \n",
       "\n",
       "                                                mtype  \\\n",
       "0   (L6_TPC:A, http://uri.interlex.org/base/ilx_03...   \n",
       "1   (L3_TPC:B, http://uri.interlex.org/base/ilx_03...   \n",
       "2   (L5_TPC:A, http://uri.interlex.org/base/ilx_03...   \n",
       "3   (L2_TPC:B, http://uri.interlex.org/base/ilx_03...   \n",
       "4   (L3_TPC:A, http://uri.interlex.org/base/ilx_03...   \n",
       "..                                                ...   \n",
       "95    (LBC, http://uri.interlex.org/base/ilx_0777215)   \n",
       "96  (L5_NBC, http://uri.interlex.org/base/ilx_0383...   \n",
       "97    (DBC, http://uri.interlex.org/base/ilx_0784350)   \n",
       "98  (NGC-DA, https://bbp.epfl.ch/ontologies/core/b...   \n",
       "99  (L23_ChC, http://uri.interlex.org/base/ilx_038...   \n",
       "\n",
       "                                                etype  \\\n",
       "0   (cADpyr, http://bbp.epfl.ch/neurosciencegraph/...   \n",
       "1   (cADpyr, http://bbp.epfl.ch/neurosciencegraph/...   \n",
       "2   (cADpyr, http://bbp.epfl.ch/neurosciencegraph/...   \n",
       "3   (cADpyr, http://bbp.epfl.ch/neurosciencegraph/...   \n",
       "4   (cADpyr, http://bbp.epfl.ch/neurosciencegraph/...   \n",
       "..                                                ...   \n",
       "95    (cAC, http://uri.interlex.org/base/ilx_0738197)   \n",
       "96    (cAC, http://uri.interlex.org/base/ilx_0738197)   \n",
       "97   (bNAC, http://uri.interlex.org/base/ilx_0738203)   \n",
       "98   (bNAC, http://uri.interlex.org/base/ilx_0738203)   \n",
       "99    (cAC, http://uri.interlex.org/base/ilx_0738197)   \n",
       "\n",
       "                                                   id  \\\n",
       "0   https://bbp.epfl.ch/neurosciencegraph/data/den...   \n",
       "1   https://bbp.epfl.ch/neurosciencegraph/data/den...   \n",
       "2   https://bbp.epfl.ch/neurosciencegraph/data/den...   \n",
       "3   https://bbp.epfl.ch/neurosciencegraph/data/den...   \n",
       "4   https://bbp.epfl.ch/neurosciencegraph/data/den...   \n",
       "..                                                ...   \n",
       "95  https://bbp.epfl.ch/neurosciencegraph/data/451...   \n",
       "96  https://bbp.epfl.ch/neurosciencegraph/data/fbe...   \n",
       "97  https://bbp.epfl.ch/neurosciencegraph/data/95b...   \n",
       "98  https://bbp.epfl.ch/neurosciencegraph/data/84f...   \n",
       "99  https://bbp.epfl.ch/neurosciencegraph/data/dd0...   \n",
       "\n",
       "                                           annotation  \\\n",
       "0   [{'hasBody': {'id': 'http://uri.interlex.org/b...   \n",
       "1   [{'hasBody': {'id': 'http://uri.interlex.org/b...   \n",
       "2   [{'hasBody': {'id': 'http://uri.interlex.org/b...   \n",
       "3   [{'hasBody': {'id': 'http://uri.interlex.org/b...   \n",
       "4   [{'hasBody': {'id': 'http://uri.interlex.org/b...   \n",
       "..                                                ...   \n",
       "95  [{'hasBody': {'id': 'http://uri.interlex.org/b...   \n",
       "96  [{'hasBody': {'id': 'http://uri.interlex.org/b...   \n",
       "97  [{'hasBody': {'id': 'http://uri.interlex.org/b...   \n",
       "98  [{'hasBody': {'id': 'https://bbp.epfl.ch/ontol...   \n",
       "99  [{'hasBody': {'id': 'http://uri.interlex.org/b...   \n",
       "\n",
       "                         brainLocation_brainRegion_id  \\\n",
       "0   http://api.brain-map.org/api/v2/data/Structure...   \n",
       "1   http://api.brain-map.org/api/v2/data/Structure...   \n",
       "2   http://api.brain-map.org/api/v2/data/Structure...   \n",
       "3   http://api.brain-map.org/api/v2/data/Structure...   \n",
       "4   http://api.brain-map.org/api/v2/data/Structure...   \n",
       "..                                                ...   \n",
       "95  http://api.brain-map.org/api/v2/data/Structure...   \n",
       "96  http://api.brain-map.org/api/v2/data/Structure...   \n",
       "97  http://api.brain-map.org/api/v2/data/Structure...   \n",
       "98  http://api.brain-map.org/api/v2/data/Structure...   \n",
       "99  http://api.brain-map.org/api/v2/data/Structure...   \n",
       "\n",
       "   brainLocation_brainRegion_label  \\\n",
       "0                             root   \n",
       "1                             root   \n",
       "2                             root   \n",
       "3                             root   \n",
       "4                             root   \n",
       "..                             ...   \n",
       "95                            root   \n",
       "96                            root   \n",
       "97                            root   \n",
       "98                            root   \n",
       "99                            root   \n",
       "\n",
       "                     distribution_atLocation_location  \n",
       "0   file:///gpfs/bbp.cscs.ch/data/project/proj39/n...  \n",
       "1   file:///gpfs/bbp.cscs.ch/data/project/proj39/n...  \n",
       "2   file:///gpfs/bbp.cscs.ch/data/project/proj39/n...  \n",
       "3   file:///gpfs/bbp.cscs.ch/data/project/proj39/n...  \n",
       "4   file:///gpfs/bbp.cscs.ch/data/project/proj39/n...  \n",
       "..                                                ...  \n",
       "95  file:///gpfs/bbp.cscs.ch/data/project/proj39/n...  \n",
       "96  file:///gpfs/bbp.cscs.ch/data/project/proj39/n...  \n",
       "97  file:///gpfs/bbp.cscs.ch/data/project/proj39/n...  \n",
       "98  file:///gpfs/bbp.cscs.ch/data/project/proj39/n...  \n",
       "99  file:///gpfs/bbp.cscs.ch/data/project/proj39/n...  \n",
       "\n",
       "[100 rows x 8 columns]"
      ]
     },
     "execution_count": 37,
     "metadata": {},
     "output_type": "execute_result"
    }
   ],
   "source": [
    "df.head(100)"
   ]
  },
  {
   "cell_type": "code",
   "execution_count": null,
   "metadata": {},
   "outputs": [],
   "source": [
    "forge.download(resources, \"distribution.contentUrl\", \".\", overwrite=True)"
   ]
  }
 ],
 "metadata": {
  "kernelspec": {
   "display_name": "Python 3.7 (nexusforgelatest)",
   "language": "python",
   "name": "nexusforgelatest"
  },
  "language_info": {
   "codemirror_mode": {
    "name": "ipython",
    "version": 3
   },
   "file_extension": ".py",
   "mimetype": "text/x-python",
   "name": "python",
   "nbconvert_exporter": "python",
   "pygments_lexer": "ipython3",
   "version": "3.7.10"
  }
 },
 "nbformat": 4,
 "nbformat_minor": 4
}
