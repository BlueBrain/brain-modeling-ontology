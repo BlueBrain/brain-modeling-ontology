{
 "cells": [
  {
   "cell_type": "code",
   "execution_count": null,
   "id": "8621f966",
   "metadata": {},
   "outputs": [],
   "source": [
    "import json\n",
    "import rdflib\n",
    "from rdflib.namespace import OWL, RDF, RDFS, XSD\n",
    "\n",
    "import networkx as nx\n",
    "import pandas as pd\n",
    "\n",
    "from zipfile import ZipFile\n",
    "\n",
    "from bluegraph import PandasPGFrame\n",
    "from bluegraph.backends.networkx import pgframe_to_networkx"
   ]
  },
  {
   "cell_type": "code",
   "execution_count": null,
   "id": "216ec8d6",
   "metadata": {},
   "outputs": [],
   "source": [
    "def remove_empty_hierarchy_nodes(frame):\n",
    "    graph = pgframe_to_networkx(frame)\n",
    "    while True:\n",
    "        edges_to_remove = set()\n",
    "        edges_to_add = set()\n",
    "        for n in graph.nodes():\n",
    "            if frame._nodes.loc[n, \"cell_set_alias\"]:\n",
    "                for _, t in graph.out_edges(n):\n",
    "                    father_alias = frame._nodes.loc[t, \"cell_set_alias\"]\n",
    "                    if not father_alias:\n",
    "                        edges_to_remove.add((n, t))\n",
    "                        for _, tt in graph.out_edges(t):\n",
    "                            edges_to_add.add((n, tt))\n",
    "\n",
    "        for s, t in edges_to_remove:\n",
    "            graph.remove_edge(s, t)\n",
    "        for s, t in edges_to_add:\n",
    "            graph.add_edge(s, t)\n",
    "\n",
    "        if not edges_to_remove and not edges_to_add:\n",
    "            break\n",
    "    graph.remove_nodes_from(list(nx.isolates(graph)))\n",
    "    graph.remove_nodes_from([\n",
    "        n for n in graph.nodes() if not frame._nodes.loc[n, \"cell_set_alias\"]\n",
    "    ])\n",
    "    frame.remove_nodes([\n",
    "        n for n in frame.nodes() if n not in graph.nodes()\n",
    "    ])\n",
    "    frame.remove_edges([\n",
    "        (s, t) for s, t in frame.edges() if (s, t) not in graph.edges()\n",
    "    ])\n",
    "    new_edges = [\n",
    "        (s, t) for s, t in graph.edges() if (s, t) not in frame.edges()\n",
    "    ]\n",
    "    frame.add_edges(new_edges)\n",
    "    for s, t in new_edges:\n",
    "        frame._edges.loc[(s, t), \"@type\"] = \"IS_SUBCLASS_OF\""
   ]
  },
  {
   "cell_type": "code",
   "execution_count": null,
   "id": "f0163ec4",
   "metadata": {},
   "outputs": [],
   "source": [
    "with ZipFile(\"../data/allen_ttypes_data_25_11_2021/dend.json.zip\", 'r') as zipObj:\n",
    "   # Extract all the contents of zip file in current directory\n",
    "   zipObj.extractall(\"../data/allen_ttypes_data_25_11_2021/\")"
   ]
  },
  {
   "cell_type": "code",
   "execution_count": null,
   "id": "1d93ba84",
   "metadata": {},
   "outputs": [],
   "source": [
    "with open(\"../data/allen_ttypes_data_25_11_2021/dend.json\", \"r\") as f:\n",
    "    type_hierarchy = json.load(f)"
   ]
  },
  {
   "cell_type": "code",
   "execution_count": null,
   "id": "6d87aec0",
   "metadata": {},
   "outputs": [],
   "source": [
    "edges = set()\n",
    "nodes = {}\n",
    "\n",
    "def extract_data(hierarchy, father=None):\n",
    "    if \"children\" in hierarchy:\n",
    "        for child in hierarchy[\"children\"]:\n",
    "            if \"node_attributes\" in child:\n",
    "                attrs = child[\"node_attributes\"][0]\n",
    "            else:\n",
    "                attrs = child[\"leaf_attributes\"][0]\n",
    "            nodes[attrs[\"cell_set_accession\"]] = attrs\n",
    "            extract_data(child, attrs[\"cell_set_accession\"])\n",
    "            if father:\n",
    "                edges.add((attrs[\"cell_set_accession\"], father))"
   ]
  },
  {
   "cell_type": "code",
   "execution_count": null,
   "id": "bb336b03",
   "metadata": {},
   "outputs": [],
   "source": [
    "extract_data(type_hierarchy)"
   ]
  },
  {
   "cell_type": "code",
   "execution_count": null,
   "id": "1c143a7d",
   "metadata": {},
   "outputs": [],
   "source": [
    "node_df = pd.DataFrame(nodes.values()).rename(\n",
    "    columns={\"cell_set_accession\": \"@id\"}).set_index(\"@id\")"
   ]
  },
  {
   "cell_type": "code",
   "execution_count": null,
   "id": "6124a9a4",
   "metadata": {},
   "outputs": [],
   "source": [
    "edge_df = pd.DataFrame(edges, columns=[\"@source_id\", \"@target_id\"]).set_index([\"@source_id\", \"@target_id\"])\n",
    "edge_df[\"@type\"] = \"IS_SUBCLASS_OF\"\n",
    "frame = PandasPGFrame.from_frames(node_df, edge_df)\n",
    "for c in frame._nodes.columns:\n",
    "    frame.node_prop_as_category(c)"
   ]
  },
  {
   "cell_type": "code",
   "execution_count": null,
   "id": "8eea08f1",
   "metadata": {},
   "outputs": [],
   "source": [
    "remove_empty_hierarchy_nodes(frame)"
   ]
  },
  {
   "cell_type": "code",
   "execution_count": null,
   "id": "9e2e884f",
   "metadata": {},
   "outputs": [],
   "source": [
    "rdf_graph = rdflib.Graph()\n",
    "rdf_graph.add(\n",
    "    (\n",
    "        rdflib.URIRef(\"https://bbp.epfl.ch/ontologies/core/ttypes\"),\n",
    "        RDF.type,\n",
    "        OWL.Ontology\n",
    "    )\n",
    ")\n",
    "rdf_graph.add(\n",
    "    (\n",
    "        rdflib.URIRef(\"https://bbp.epfl.ch/ontologies/core/ttypes\"),\n",
    "        rdflib.URIRef(\"http://purl.org/dc/elements/1.1/title\"),\n",
    "        rdflib.Literal(\n",
    "            \"Cell Transcriptome Types Ontology\", datatype=XSD.string)\n",
    "    )\n",
    ")\n",
    "rdf_graph.add(\n",
    "    (\n",
    "        rdflib.URIRef(\"https://bbp.epfl.ch/ontologies/core/ttypes\"),\n",
    "        RDFS.label,\n",
    "        rdflib.Literal(\n",
    "            \"Cell Transcriptome Types Ontology\", datatype=XSD.string)\n",
    "    )\n",
    ")\n",
    "rdf_graph.add(\n",
    "    (\n",
    "        rdflib.URIRef(\"https://bbp.epfl.ch/ontologies/core/ttypes\"),\n",
    "        rdflib.URIRef(\"http://purl.org/vocab/vann/preferredNamespacePrefix\"),\n",
    "        rdflib.Literal(\n",
    "            \"ttypes\", datatype=XSD.string)\n",
    "    )\n",
    ")"
   ]
  },
  {
   "cell_type": "code",
   "execution_count": null,
   "id": "b4e3a746",
   "metadata": {},
   "outputs": [],
   "source": [
    "uri_template = \"https://bbp.epfl.ch/ontologies/core/ttypes/{}\"\n",
    "\n",
    "def create_url(uri_template, label):\n",
    "    safe_label = label.replace(\" \", \"_\").replace(\"/\", \"_\").replace(\",\", \"_\")\n",
    "    uri = uri_template.format(safe_label)\n",
    "    return uri"
   ]
  },
  {
   "cell_type": "code",
   "execution_count": null,
   "id": "bc55c06a",
   "metadata": {},
   "outputs": [],
   "source": [
    "def create_class(graph, label, name=None, taxonomy_id=None):\n",
    "    uri = create_url(uri_template, label)\n",
    "    print(uri)\n",
    "    graph.add((rdflib.URIRef(uri), RDF.type, OWL.Class))\n",
    "    graph.add((rdflib.URIRef(uri), RDFS.label, rdflib.Literal(label, datatype=XSD.string)))\n",
    "    if name:\n",
    "        graph.add((\n",
    "            rdflib.URIRef(uri),\n",
    "            rdflib.URIRef(\"https://bbp.epfl.ch/ontologies/core/ttypes/cell_set_alias\"),\n",
    "            rdflib.Literal(name, datatype=XSD.string)\n",
    "        ))\n",
    "    if taxonomy_id:\n",
    "        graph.add((\n",
    "            rdflib.URIRef(uri),\n",
    "            rdflib.URIRef(\"https://bbp.epfl.ch/ontologies/core/ttypes/taxonomy_id\"),\n",
    "            rdflib.Literal(taxonomy_id, datatype=XSD.string)\n",
    "        ))"
   ]
  },
  {
   "cell_type": "code",
   "execution_count": null,
   "id": "0f072973",
   "metadata": {},
   "outputs": [],
   "source": [
    "create_class(rdf_graph, \"Neuron Transcriptome Type\")\n",
    "create_class(rdf_graph, \"Allen Transcriptome Type\")"
   ]
  },
  {
   "cell_type": "code",
   "execution_count": null,
   "id": "03c2b86a",
   "metadata": {},
   "outputs": [],
   "source": [
    "for node in frame.nodes():\n",
    "    label = frame._nodes.loc[node].cell_set_alias\n",
    "    name = frame._nodes.loc[node].name\n",
    "    taxonomy_id = frame._nodes.loc[node].taxonomy_id\n",
    "    create_class(rdf_graph, label, name, taxonomy_id)"
   ]
  },
  {
   "cell_type": "code",
   "execution_count": null,
   "id": "271ab849",
   "metadata": {},
   "outputs": [],
   "source": [
    "for s, t in frame.edges():\n",
    "    label_s = frame._nodes.loc[s].cell_set_alias\n",
    "    label_t = frame._nodes.loc[t].cell_set_alias\n",
    "    rdf_graph.add((\n",
    "        rdflib.URIRef(create_url(uri_template, label_s)),\n",
    "        RDFS.subClassOf,\n",
    "        rdflib.URIRef(create_url(uri_template, label_t))))"
   ]
  },
  {
   "cell_type": "code",
   "execution_count": null,
   "id": "99d0431f",
   "metadata": {},
   "outputs": [],
   "source": [
    "rdf_graph.add((\n",
    "    rdflib.URIRef(\"https://bbp.epfl.ch/ontologies/core/ttypes/Allen_Transcriptome_Type\"),\n",
    "    RDFS.subClassOf,\n",
    "    rdflib.URIRef(\"https://bbp.epfl.ch/ontologies/core/ttypes/Neuron_Transcriptome_Type\")\n",
    "))\n",
    "rdf_graph.add((\n",
    "    rdflib.URIRef(\"https://bbp.epfl.ch/ontologies/core/ttypes/Astrocytes\"),\n",
    "    RDFS.subClassOf,\n",
    "    rdflib.URIRef(\"https://bbp.epfl.ch/ontologies/core/ttypes/Allen_Transcriptome_Type\")\n",
    "))\n",
    "rdf_graph.add((\n",
    "    rdflib.URIRef(\"https://bbp.epfl.ch/ontologies/core/ttypes/DG\"),\n",
    "    RDFS.subClassOf,\n",
    "    rdflib.URIRef(\"https://bbp.epfl.ch/ontologies/core/ttypes/Allen_Transcriptome_Type\")\n",
    "))\n",
    "rdf_graph.add((\n",
    "    rdflib.URIRef(\"https://bbp.epfl.ch/ontologies/core/ttypes/Gabaergic_neurons\"),\n",
    "    RDFS.subClassOf,\n",
    "    rdflib.URIRef(\"https://bbp.epfl.ch/ontologies/core/ttypes/Allen_Transcriptome_Type\")\n",
    "))\n",
    "rdf_graph.add((\n",
    "    rdflib.URIRef(\"https://bbp.epfl.ch/ontologies/core/ttypes/Glutamatergic_neurons\"),\n",
    "    RDFS.subClassOf,\n",
    "    rdflib.URIRef(\"https://bbp.epfl.ch/ontologies/core/ttypes/Allen_Transcriptome_Type\")\n",
    "))\n",
    "rdf_graph.add((\n",
    "    rdflib.URIRef(\"https://bbp.epfl.ch/ontologies/core/ttypes/Immune__Vasculature\"),\n",
    "    RDFS.subClassOf,\n",
    "    rdflib.URIRef(\"https://bbp.epfl.ch/ontologies/core/ttypes/Allen_Transcriptome_Type\")\n",
    "))\n",
    "rdf_graph.add((\n",
    "    rdflib.URIRef(\"https://bbp.epfl.ch/ontologies/core/ttypes/Oligodendrocytes\"),\n",
    "    RDFS.subClassOf,\n",
    "    rdflib.URIRef(\"https://bbp.epfl.ch/ontologies/core/ttypes/Allen_Transcriptome_Type\")\n",
    "))"
   ]
  },
  {
   "cell_type": "code",
   "execution_count": null,
   "id": "71c4c4a6",
   "metadata": {},
   "outputs": [],
   "source": [
    "rdf_graph.serialize(\"../data/ttypes.ttl\", format=\"turtle\")"
   ]
  }
 ],
 "metadata": {
  "kernelspec": {
   "display_name": "bg",
   "language": "python",
   "name": "bg"
  },
  "language_info": {
   "codemirror_mode": {
    "name": "ipython",
    "version": 3
   },
   "file_extension": ".py",
   "mimetype": "text/x-python",
   "name": "python",
   "nbconvert_exporter": "python",
   "pygments_lexer": "ipython3",
   "version": "3.7.10"
  }
 },
 "nbformat": 4,
 "nbformat_minor": 5
}
